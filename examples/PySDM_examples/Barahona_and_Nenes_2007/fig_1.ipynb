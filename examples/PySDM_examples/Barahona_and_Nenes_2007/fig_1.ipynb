{
 "cells": [
  {
   "metadata": {},
   "cell_type": "markdown",
   "source": [
    "[![preview notebook](https://img.shields.io/static/v1?label=render%20on&logo=github&color=87ce3e&message=GitHub)](https://github.com/open-atmos/PySDM/blob/main/examples/PySDM_examples/Barahona_and_Nenes_2007/fig_1.ipynb)\n",
    "[![Binder](https://mybinder.org/badge_logo.svg)](https://mybinder.org/v2/gh/open-atmos/PySDM.git/main?urlpath=lab/tree/examples/PySDM_examples/Barahona_and_Nenes_2007/fig_1.ipynb)\n",
    "[![Open In Colab](https://colab.research.google.com/assets/colab-badge.svg)](https://colab.research.google.com/github/open-atmos/PySDM/blob/main/examples/PySDM_examples/Barahona_and_Nenes_2007/fig_1.ipynb)"
   ]
  },
  {
   "metadata": {},
   "cell_type": "markdown",
   "source": "TODO #1417 Provide notebook description"
  },
  {
   "metadata": {},
   "cell_type": "code",
   "outputs": [],
   "execution_count": null,
   "source": [
    "import sys\n",
    "if 'google.colab' in sys.modules:\n",
    "    !pip --quiet install open-atmos-jupyter-utils\n",
    "    from open_atmos_jupyter_utils import pip_install_on_colab\n",
    "    pip_install_on_colab('PySDM-examples')"
   ]
  },
  {
   "metadata": {
    "id": "view-in-github",
    "colab_type": "text"
   },
   "cell_type": "markdown",
   "source": "<a href=\"https://colab.research.google.com/gist/pb475/03568358a5ef9da2b7730dd1b5db3f2d/05_parcel_particles.ipynb\" target=\"_parent\"><img src=\"https://colab.research.google.com/assets/colab-badge.svg\" alt=\"Open In Colab\"/></a>\n"
  },
  {
   "cell_type": "code",
   "execution_count": 1,
   "metadata": {
    "id": "nS021k0eQ5K7"
   },
   "outputs": [],
   "source": [
    "!pip install --quiet pint mendeleev"
   ]
  },
  {
   "cell_type": "code",
   "execution_count": 2,
   "metadata": {
    "id": "_KYH2YCDF4CF"
   },
   "outputs": [],
   "source": [
    "import numpy as np\n",
    "import pint\n",
    "from matplotlib import pyplot\n",
    "import scipy\n",
    "import functools\n",
    "\n",
    "si = pint.UnitRegistry()\n",
    "si.setup_matplotlib()"
   ]
  },
  {
   "cell_type": "code",
   "execution_count": 3,
   "metadata": {
    "id": "3Gd21_5yF4CG"
   },
   "outputs": [],
   "source": [
    "class Constants:\n",
    "    from scipy import constants\n",
    "    import mendeleev as pt\n",
    "\n",
    "    # polynomial fot to equilibrium vapour pressure wrt water (coefficients from Flatau et al. 1992)\n",
    "    # doi:10.1175/1520-0450(1992)031<1507%3APFTSVP>2.0.CO%3B2\n",
    "    c_w = (6.115836990e000, 0.444606896e000, 0.143177157e-01, 0.264224321e-03, 0.299291081e-05,\n",
    "           0.203154182e-07, 0.702620698e-10, 0.379534310e-13, -.321582393e-15)\n",
    "\n",
    "    T0 = T0 = constants.zero_Celsius * si.kelvin\n",
    "\n",
    "    def __molar_mass(x):\n",
    "        return x.atomic_weight * si.gram / si.mole\n",
    "\n",
    "    M_a = (\n",
    "        0.78 * __molar_mass(pt.N) * 2 +\n",
    "        0.21 * __molar_mass(pt.O) * 2 +\n",
    "        0.01 * __molar_mass(pt.Ar)\n",
    "    )\n",
    "    M_v = __molar_mass(pt.O) + __molar_mass(pt.H) * 2\n",
    "\n",
    "    R_str = constants.R * si.joule / si.kelvin / si.mole\n",
    "\n",
    "    R_a = R_str / M_a\n",
    "    R_v = R_str / M_v\n",
    "\n",
    "    g = constants.g * si.metre / si.second**2\n",
    "\n",
    "    l_v = 2.5e6 * si.joule / si.kilogram\n",
    "    c_p  = 1000 * si.joule / si.kilogram / si.kelvin\n",
    "\n",
    "    D = 2.26e-5 * si.metre ** 2 / si.second\n",
    "    K = 2.4e-2 * si.joules / si.metres / si.seconds / si.kelvins\n",
    "    rho_w = 1 * si.kilogram / si.litre\n",
    "    sigma_w = 0.072 * si.joule / si.metre**2\n",
    "\n",
    "    epsilon = R_a/R_v"
   ]
  },
  {
   "cell_type": "code",
   "execution_count": 4,
   "metadata": {
    "id": "vlM1J4LZF4CG"
   },
   "outputs": [],
   "source": [
    "class Formulae:\n",
    "    @staticmethod\n",
    "    def rho(p, R, T):\n",
    "        return p / (R * T)\n",
    "\n",
    "    @staticmethod\n",
    "    def __p_sat(temperature, coefficients, valid_range):\n",
    "        from numpy.polynomial.polynomial import polyval\n",
    "\n",
    "        value = polyval(temperature.to(si.celsius).magnitude, coefficients)\n",
    "\n",
    "        if isinstance(temperature.magnitude, np.ndarray):\n",
    "            value[np.logical_or(temperature < valid_range[0], temperature > valid_range[1])] = np.nan\n",
    "        else:\n",
    "            value = np.nan if not valid_range[0] < temperature <= valid_range[1] else value\n",
    "\n",
    "        return value * si.hectopascals\n",
    "\n",
    "    @staticmethod\n",
    "    def p_eq(T):\n",
    "        return Formulae.__p_sat(T, Constants.c_w, (Constants.T0-85 * si.kelvin, np.inf * si.kelvin))\n",
    "\n",
    "    @staticmethod\n",
    "    def r_dr_dt(S_eq, T, S, rho_eq):\n",
    "        return (\n",
    "            (S - S_eq)\n",
    "            / Constants.rho_w\n",
    "            / (1 / rho_eq / Constants.D  + Constants.l_v**2 / Constants.K / T**2 / Constants.R_v)\n",
    "        )\n",
    "\n",
    "    def S_eq(a, kappa, a_dry_3, T):\n",
    "      return (\n",
    "          np.exp((2 * Constants.sigma_w / Constants.R_v / T / Constants.rho_w) / a)\n",
    "          * (a**3 - a_dry_3)\n",
    "          / (a**3 - a_dry_3 * (1 - kappa))\n",
    "          ) - 1\n",
    "\n",
    "    @staticmethod\n",
    "    def r_cr(kp, a_dry_3, T, sgm): # from https://github.com/open-atmos/PySDM/blob/main/PySDM/physics/hygroscopicity/kappa_koehler.py\n",
    "        return np.sqrt(3 * kp * a_dry_3 / (2 * sgm / Constants.R_v / T / Constants.rho_w))\n"
   ]
  },
  {
   "cell_type": "code",
   "execution_count": 5,
   "metadata": {
    "id": "EaiiPI4TF4CH"
   },
   "outputs": [],
   "source": [
    "class Storage:\n",
    "    \"\"\" state vector representation with each element having its own Pint-compatible\n",
    "    physical dimension, thus allowing to seamlessly couple Pint and scipy.odeint\n",
    "    (assumes the last variable extends till the end of the state vector;\n",
    "    all methods return objects that inherit from `numpy.ndarray` but are additionally\n",
    "    equipped with .VAR unit-aware setters and getters, allowing both unit-anaware\n",
    "    whole-array expressions (e.g., `state += dt * deriv`) as well as unit-aware\n",
    "    operations on state vars (e.g., `state.T = 300 * si.K` or `state.m[:] = ...`) \"\"\"\n",
    "\n",
    "    var_units = {\n",
    "        'p': si.Pa,\n",
    "        'T': si.K,\n",
    "        'R': si.m,\n",
    "        's': si.dimensionless,\n",
    "        'w_v': si.dimensionless,\n",
    "        'n': si.dimensionless,\n",
    "        'm': si.kg\n",
    "    }\n",
    "\n",
    "    der_unit = si.metre\n",
    "\n",
    "    @staticmethod\n",
    "    def __make_storage(shape, deriv=False):\n",
    "        def getter(self, idx, unit):\n",
    "            return self[idx] * unit\n",
    "\n",
    "        def setter(self, value, idx, unit):\n",
    "            self[idx] = (value.to(unit) / unit).magnitude\n",
    "\n",
    "        properties = {'z_unit': Storage.der_unit}\n",
    "        for i, key in enumerate(Storage.var_units.keys()):\n",
    "            kwargs = {\n",
    "                'unit': Storage.var_units[key] / (Storage.der_unit if deriv else 1),\n",
    "                'idx': i if i + 1 != len(Storage.var_units) else slice(i, None)\n",
    "            }\n",
    "            properties[key] = property(\n",
    "                functools.partial(getter, **kwargs),\n",
    "                functools.partial(setter, **kwargs),\n",
    "            )\n",
    "\n",
    "        return type(\"StorageImpl\", (np.ndarray,), properties)(shape)\n",
    "\n",
    "    @staticmethod\n",
    "    def make_state(n_particles):\n",
    "        \"\"\" returns a newly allocated unit-aware storage of size relevant for `n_particles` simulation \"\"\"\n",
    "        return Storage.__make_storage((len(Storage.var_units) - 1 + n_particles,))\n",
    "\n",
    "    @staticmethod\n",
    "    def make_deriv(state):\n",
    "        \"\"\" returns a newly allocated unit-aware storage with size of `state` and derivative dimensions \"\"\"\n",
    "        return Storage.__make_storage(state.shape, deriv=True)\n",
    "\n",
    "    @staticmethod\n",
    "    def view_state(array):\n",
    "        \"\"\" returns a newly allocated unit-aware storage with size and data from unit-unaware `array` \"\"\"\n",
    "        storage = Storage.__make_storage(array.shape)\n",
    "        storage[:] = array[:]\n",
    "        return storage"
   ]
  },
  {
   "cell_type": "markdown",
   "metadata": {
    "id": "-aahyi9NF4CH"
   },
   "source": [
    "### the new ODE system we will solve ..."
   ]
  },
  {
   "cell_type": "markdown",
   "metadata": {
    "id": "3Sp4KUcgF4CI"
   },
   "source": [
    "\n",
    "<center><b>this week (particles):</b></center>\n",
    "$$\n",
    "\\begin{eqnarray}\n",
    "  \\frac{dp}{dz} &=& - \\rho g \\\\\n",
    "  \\frac{dm_i}{dz} &=& \\frac{\\xi_i}{w} \\max\\!\\!\\left[0,\\,\\,\\frac{4\\pi r_i^2}{r_i} D (\\rho_v - \\rho_{eq})\\right]\\\\ &=& \\frac{\\xi_i}{w}\\max\\!\\!\\left[0,\\,\\,(4 \\pi)^{2/3} \\sqrt[3]{\\frac{3m_i}{\\xi_i\\rho_w}}\\,D \\left(\\rho_v - \\frac{p_{eq}(T)}{R_v T}\\right)\\right]\\\\\n",
    "  \\vdots\\\\\n",
    "  \\frac{dT}{dz} &=& \\frac{1}{c_p} \\left(\\frac{1}{\\rho}\\frac{dp}{dz} + \\frac{l_v}{m_a} \\sum_i \\frac{dm_i}{dz} \\right)\n",
    "\\end{eqnarray}\n",
    "$$\n",
    "\n",
    "$p$: pressure   \n",
    "$z$: vertical displacement   \n",
    "$\\rho$: air density   \n",
    "$g$: gravitational acceleration   \n",
    "$r_i$: radius of size category $i$ \\\\\n",
    "$m_i$: mass of liquid water in size category $i$ (i.e., sum of masses of particles of radius $r_i$)   \n",
    "$\\xi_i$: multiplicity of size category $i$ (i.e., number of particles of radius $r_i$)      \n",
    "$\\rho_v$: density of water vapour \\\\\n",
    "$\\rho_{eq}$: density of water vapour at saturation (in phase equilibrium wrt water surface)   \n",
    "$T$: temperature   \n",
    "$c_p$: specific heat of air   \n",
    "$l_v$: latent heat of vapourisation   \n",
    "$m_a$: mass of air \\\\\n",
    "$R$: radius of parcel \\\\\n",
    "$w_v$: water vapour mixing ratio\n",
    "\n",
    "TODO: This system needs to be updated to match the system we are actually solving from Lee and Pruppacher. Variables need to be updated as well.\n"
   ]
  },
  {
   "cell_type": "code",
   "execution_count": 6,
   "metadata": {
    "id": "nLBfqaJ8F4CI"
   },
   "outputs": [],
   "source": [
    "class System:\n",
    "    def __init__(self, *, w, ent_Tdiff, ent_RH, ent_mu, ent_n, r_dry, kappa):\n",
    "        self.w = w\n",
    "        self.ent_mu = ent_mu\n",
    "        self.ent_Tdiff = ent_Tdiff\n",
    "        self.ent_RH = ent_RH\n",
    "        self.a_dry_3 = r_dry**3\n",
    "        self.kappa = kappa\n",
    "        self.ent_n = ent_n\n",
    "\n",
    "    def __call__(self, _, state):\n",
    "        state = Storage.view_state(state)\n",
    "        deriv = Storage.make_deriv(state)\n",
    "\n",
    "        #(8)\n",
    "        deriv.R = state.R * self.ent_mu #rough appox of eq.8 to get things working (assumes constant updraft and negligible variability in dry air density)\n",
    "\n",
    "        rho = Formulae.rho(state.p, Constants.R_a, state.T) # TODO: total pressure, but dry air R. (a good approximation)\n",
    "        volume = (4/3)*np.pi*state.R**3 # new total volume, as we are evolving R with bubble expansion\n",
    "        total_mass = rho * volume\n",
    "        rho_eq = Formulae.p_eq(state.T) / Constants.R_v / state.T\n",
    "        m_v = state.w_v*rho*volume #m_v is the total vapour mass\n",
    "        m_l = np.sum(state.m * state.n) # m_l is the total liquid water mass\n",
    "        m_w = m_l + m_v # m_w is the total water mass\n",
    "        rho_v = m_v / volume\n",
    "\n",
    "        # eq. (4)\n",
    "        deriv.p = -Formulae.rho(state.p, Constants.R_a, state.T) * Constants.g\n",
    "\n",
    "        # eq. (12) PER DROPLET (implied loop)\n",
    "        a = (3*state.m/4/np.pi/Constants.rho_w)**(1/3)\n",
    "\n",
    "        deriv.m = 4 * np.pi * Constants.rho_w * a * Formulae.r_dr_dt(\n",
    "            Formulae.S_eq(a,self.kappa,self.a_dry_3,state.T), state.T, state.s, rho_eq\n",
    "        ) / self.w\n",
    "        # TODO: switch from integration in mass \"m\" to integration in \"ln(r)\" or alike ... or to \"r\" to be closer to the paper\n",
    "\n",
    "        # eq. (5)\n",
    "        dwl_dz = np.sum(deriv.m * state.n)/total_mass\n",
    "\n",
    "        env_T = state.T - self.ent_Tdiff\n",
    "        env_pv = self.ent_RH * Formulae.p_eq(env_T)\n",
    "        env_w_v = Formulae.rho(env_pv, Constants.R_v, env_T) / rho # to keep a constant relative humidity following conditions of BarahonaNenes2007\n",
    "\n",
    "        # eq. (2)\n",
    "        deriv.w_v = - dwl_dz - self.ent_mu * (state.w_v - env_w_v + np.sum(state.m * state.n)/rho/volume)\n",
    "\n",
    "        # eq. (1)\n",
    "        deriv.T = (deriv.p/rho - deriv.w_v * Constants.l_v) / Constants.c_p + \\\n",
    "            - self.ent_mu * ( (Constants.l_v/Constants.c_p)*(state.w_v-env_w_v) + (state.T-env_T) )\n",
    "\n",
    "        #(3)\n",
    "        deriv.s = state.p/(Constants.epsilon*Formulae.p_eq(state.T)) * deriv.w_v \\\n",
    "            - (1+state.s)*(\n",
    "                (Constants.epsilon*Constants.l_v/(Constants.R_a*state.T**2))*deriv.T +\n",
    "                (Constants.g/(Constants.R_a*state.T))\n",
    "            )\n",
    "\n",
    "        #(6)\n",
    "        deriv.n = -self.ent_mu * (state.n - self.ent_n)\n",
    "\n",
    "        return deriv"
   ]
  },
  {
   "cell_type": "markdown",
   "metadata": {
    "id": "nGVe3eDLF4CI"
   },
   "source": [
    "\n"
   ]
  },
  {
   "cell_type": "markdown",
   "metadata": {
    "id": "2xFm959hF4CI"
   },
   "source": [
    "### ... implemented according to SciPy API"
   ]
  },
  {
   "cell_type": "code",
   "execution_count": 7,
   "metadata": {
    "id": "g4iCJUjOF4CI"
   },
   "outputs": [],
   "source": [
    "from scipy import integrate\n",
    "def solve(system, state, displacement):\n",
    "    integ = integrate.solve_ivp(\n",
    "        system,\n",
    "        [0, displacement / state.z_unit],\n",
    "        state,\n",
    "        max_step=(.1 * si.metre / state.z_unit).magnitude,\n",
    "        method='LSODA'\n",
    "    )\n",
    "    assert integ.success, integ.message\n",
    "    return Storage.view_state(integ.y), integ.t * state.z_unit"
   ]
  },
  {
   "cell_type": "markdown",
   "metadata": {
    "id": "qBOq7bpcF4CI"
   },
   "source": [
    "### and let's finally do the calculations ..."
   ]
  },
  {
   "cell_type": "code",
   "execution_count": 8,
   "metadata": {
    "id": "LFFo1xrUF4CI"
   },
   "outputs": [],
   "source": [
    "n_size_sections = 10\n",
    "T0 = 300 * si.kelvins\n",
    "p0 = 1000 * si.hectopascals\n",
    "s0 = -0.01 * si.dimensionless\n",
    "w = 0.3 * si.meter / si.second\n",
    "\n",
    "pv0 = (1 + s0) * Formulae.p_eq(T0)\n",
    "displacement = 250 * si.metres\n",
    "R0 = 350 * si.metres\n",
    "volume = 4/3 * np.pi * R0**3\n",
    "w_v0 = Constants.epsilon / (p0/pv0 - 1)\n",
    "\n",
    "# entrainment parameters\n",
    "ent_mu = 0 / si.meter\n",
    "ent_Tdiff = 0.3 * si.kelvin # T-T'\n",
    "ent_RH = 0.9 * si.dimensionless #relative humidity\n",
    "ent_n = 0.0 * si.dimensionless\n",
    "\n",
    "kappa = 1.2\n",
    "geometric_stdev = 1.3\n",
    "median_dry_radius = 1 * si.um\n",
    "aerosol_concentration = 50 / si.centimetre**3\n",
    "\n",
    "dry_radii_quantiles = scipy.stats.lognorm(\n",
    "    np.log(geometric_stdev),\n",
    "    0,\n",
    "    median_dry_radius.to(si.m).magnitude\n",
    ").ppf(\n",
    "    np.linspace(0, 1, 2 * n_size_sections + 1)[1:-1:2]\n",
    ") * si.m\n",
    "\n",
    "wet_radii_quantiles = np.asarray([scipy.optimize.root_scalar(\n",
    "    f=lambda r: s0 - Formulae.S_eq(r*si.m, kappa, r_dry**3, T0),\n",
    "    bracket=(\n",
    "        r_dry.to(si.m).magnitude,\n",
    "        Formulae.r_cr(kappa, r_dry**3, T0, Constants.sigma_w).to(si.m).magnitude\n",
    "    )\n",
    ").root for r_dry in dry_radii_quantiles]) * si.m\n",
    "\n",
    "systems = {}\n",
    "solutions = {}\n",
    "zsteps = {}\n",
    "for mu in [0.0, 0.01] * si.metre**-1:\n",
    "    state = Storage.make_state(n_size_sections)\n",
    "    state.p = p0\n",
    "    state.T = T0\n",
    "    state.n = aerosol_concentration * volume / n_size_sections\n",
    "    state.m = 4/3 * np.pi * Constants.rho_w * wet_radii_quantiles**3\n",
    "    state.s = s0\n",
    "    state.R = R0\n",
    "    state.w_v = w_v0\n",
    "\n",
    "    systems[mu] = System(w=w, ent_mu=mu, ent_Tdiff=ent_Tdiff, ent_RH=ent_RH, ent_n=ent_n, r_dry=dry_radii_quantiles, kappa=kappa)\n",
    "    solutions[mu], zsteps[mu] = solve(systems[mu], state, displacement)"
   ]
  },
  {
   "cell_type": "markdown",
   "metadata": {
    "id": "uzWyPPO0F4CK"
   },
   "source": [
    "### ... and plotting"
   ]
  },
  {
   "cell_type": "code",
   "execution_count": 9,
   "metadata": {
    "colab": {
     "base_uri": "https://localhost:8080/",
     "height": 410
    },
    "id": "T1lffCOOF4CK",
    "outputId": "29fd460d-a17a-4a2d-9a6d-d515fc1ac6cb"
   },
   "outputs": [
    {
     "output_type": "display_data",
     "data": {
      "text/plain": [
       "<Figure size 1500x400 with 3 Axes>"
      ],
      "image/png": "[encoded data removed]"
     },
     "metadata": {}
    }
   ],
   "source": [
    "fig, axs = pyplot.subplots(1, 3, sharey=True, figsize=(15, 4))\n",
    "\n",
    "for mu in solutions.keys():\n",
    "    sys = systems[mu]\n",
    "    sol = solutions[mu]\n",
    "    z = zsteps[mu]\n",
    "\n",
    "    axs[0].plot(sol.s, z, label=mu)\n",
    "\n",
    "    drops_mass = sol.m * sol.n\n",
    "    axs[1].plot(np.mean(drops_mass, axis=0), z, label=mu)\n",
    "    axs[1].xaxis.set_units(si.micrograms)\n",
    "\n",
    "    axs[2].plot(sol.w_v, z, label=mu)\n",
    "    axs[2].xaxis.set_units(si.grams / si.kilogram)\n",
    "\n",
    "for i in range(len(axs)):\n",
    "    axs[i].legend(loc='upper left')\n",
    "    axs[i].grid()\n",
    "\n",
    "_ = axs[0].set_title('Supersaturation [%]')\n",
    "_ = axs[1].set_title('Average drop mass')\n",
    "_ = axs[2].set_title('vapour mixing ratio [g/kg]')"
   ]
  }
 ],
 "metadata": {
  "colab": {
   "provenance": [],
   "include_colab_link": true
  },
  "kernelspec": {
   "display_name": "Python 3 (ipykernel)",
   "language": "python",
   "name": "python3"
  },
  "language_info": {
   "codemirror_mode": {
    "name": "ipython",
    "version": 3
   },
   "file_extension": ".py",
   "mimetype": "text/x-python",
   "name": "python",
   "nbconvert_exporter": "python",
   "pygments_lexer": "ipython3",
   "version": "3.9.2"
  }
 },
 "nbformat": 4,
 "nbformat_minor": 0
}
