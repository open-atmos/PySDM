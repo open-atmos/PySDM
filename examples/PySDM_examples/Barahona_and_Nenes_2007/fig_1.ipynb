{
  "cells": [
    {
      "cell_type": "markdown",
      "metadata": {
        "id": "view-in-github",
        "colab_type": "text"
      },
      "source": [
        "<a href=\"https://colab.research.google.com/gist/pb475/03568358a5ef9da2b7730dd1b5db3f2d/05_parcel_particles.ipynb\" target=\"_parent\"><img src=\"https://colab.research.google.com/assets/colab-badge.svg\" alt=\"Open In Colab\"/></a>"
      ]
    },
    {
      "cell_type": "code",
      "execution_count": 1,
      "metadata": {
        "id": "nS021k0eQ5K7",
        "outputId": "578a2bd3-5783-4710-a7c0-742504462c6c",
        "colab": {
          "base_uri": "https://localhost:8080/"
        }
      },
      "outputs": [
        {
          "output_type": "stream",
          "name": "stdout",
          "text": [
            "\u001b[?25l   \u001b[90m━━━━━━━━━━━━━━━━━━━━━━━━━━━━━━━━━━━━━━━━\u001b[0m \u001b[32m0.0/302.0 kB\u001b[0m \u001b[31m?\u001b[0m eta \u001b[36m-:--:--\u001b[0m\r\u001b[2K   \u001b[91m━━━━━━━━━━━━━━━━━━━━━━━━━━━━━━━━━━━━━━━\u001b[0m\u001b[90m╺\u001b[0m \u001b[32m297.0/302.0 kB\u001b[0m \u001b[31m20.7 MB/s\u001b[0m eta \u001b[36m0:00:01\u001b[0m\r\u001b[2K   \u001b[90m━━━━━━━━━━━━━━━━━━━━━━━━━━━━━━━━━━━━━━━━\u001b[0m \u001b[32m302.0/302.0 kB\u001b[0m \u001b[31m5.0 MB/s\u001b[0m eta \u001b[36m0:00:00\u001b[0m\n",
            "\u001b[2K   \u001b[90m━━━━━━━━━━━━━━━━━━━━━━━━━━━━━━━━━━━━━━━━\u001b[0m \u001b[32m1.4/1.4 MB\u001b[0m \u001b[31m28.3 MB/s\u001b[0m eta \u001b[36m0:00:00\u001b[0m\n",
            "\u001b[2K   \u001b[90m━━━━━━━━━━━━━━━━━━━━━━━━━━━━━━━━━━━━━━━━\u001b[0m \u001b[32m865.8/865.8 kB\u001b[0m \u001b[31m18.6 MB/s\u001b[0m eta \u001b[36m0:00:00\u001b[0m\n",
            "\u001b[?25h"
          ]
        }
      ],
      "source": [
        "!pip install --quiet pint mendeleev"
      ]
    },
    {
      "cell_type": "code",
      "execution_count": 2,
      "metadata": {
        "id": "_KYH2YCDF4CF"
      },
      "outputs": [],
      "source": [
        "import numpy as np\n",
        "import pint\n",
        "from matplotlib import pyplot\n",
        "import scipy\n",
        "\n",
        "si = pint.UnitRegistry()\n",
        "si.setup_matplotlib()"
      ]
    },
    {
      "cell_type": "code",
      "execution_count": 3,
      "metadata": {
        "id": "3Gd21_5yF4CG"
      },
      "outputs": [],
      "source": [
        "class Constants:\n",
        "    from scipy import constants\n",
        "    import mendeleev as pt\n",
        "\n",
        "    # polynomial fot to equilibrium vapour pressure wrt water (coefficients from Flatau et al. 1992)\n",
        "    # doi:10.1175/1520-0450(1992)031<1507%3APFTSVP>2.0.CO%3B2\n",
        "    c_w = (6.115836990e000, 0.444606896e000, 0.143177157e-01, 0.264224321e-03, 0.299291081e-05,\n",
        "           0.203154182e-07, 0.702620698e-10, 0.379534310e-13, -.321582393e-15)\n",
        "\n",
        "    T0 = T0 = constants.zero_Celsius * si.kelvin\n",
        "\n",
        "    def __molar_mass(x):\n",
        "        return x.atomic_weight * si.gram / si.mole\n",
        "\n",
        "    M_a = (\n",
        "        0.78 * __molar_mass(pt.N) * 2 +\n",
        "        0.21 * __molar_mass(pt.O) * 2 +\n",
        "        0.01 * __molar_mass(pt.Ar)\n",
        "    )\n",
        "    M_v = __molar_mass(pt.O) + __molar_mass(pt.H) * 2\n",
        "\n",
        "    R_str = constants.R * si.joule / si.kelvin / si.mole\n",
        "\n",
        "    R_a = R_str / M_a\n",
        "    R_v = R_str / M_v\n",
        "\n",
        "    g = constants.g * si.metre / si.second**2\n",
        "\n",
        "    l_v = 2.5e6 * si.joule / si.kilogram\n",
        "    c_p  = 1000 * si.joule / si.kilogram / si.kelvin\n",
        "\n",
        "    D = 2.26e-5 * si.metre ** 2 / si.second\n",
        "    K = 2.4e-2 * si.joules / si.metres / si.seconds / si.kelvins\n",
        "    rho_w = 1 * si.kilogram / si.litre\n",
        "    sigma_w = 0.072 * si.joule / si.metre**2\n",
        "\n",
        "    epsilon = R_a/R_v"
      ]
    },
    {
      "cell_type": "code",
      "execution_count": 4,
      "metadata": {
        "id": "vlM1J4LZF4CG"
      },
      "outputs": [],
      "source": [
        "class Formulae:\n",
        "    @staticmethod\n",
        "    def rho(p, R, T):\n",
        "        return p / (R * T)\n",
        "\n",
        "    @staticmethod\n",
        "    def __p_sat(temperature, coefficients, valid_range):\n",
        "        from numpy.polynomial.polynomial import polyval\n",
        "\n",
        "        value = polyval(temperature.to(si.celsius).magnitude, coefficients)\n",
        "\n",
        "        if isinstance(temperature.magnitude, np.ndarray):\n",
        "            value[np.logical_or(temperature < valid_range[0], temperature > valid_range[1])] = np.nan\n",
        "        else:\n",
        "            value = np.nan if not valid_range[0] < temperature <= valid_range[1] else value\n",
        "\n",
        "        return value * si.hectopascals\n",
        "\n",
        "    @staticmethod\n",
        "    def p_eq(T):\n",
        "        # TODO! kappa Koehler\n",
        "        return Formulae.__p_sat(T, Constants.c_w, (Constants.T0-85 * si.kelvin, np.inf * si.kelvin))\n",
        "\n",
        "    @staticmethod\n",
        "    def r_dr_dt(S_eq, T, S, rho_eq):\n",
        "        return (\n",
        "            (S - S_eq)\n",
        "            / Constants.rho_w\n",
        "            / (1/rho_eq / Constants.D  + Constants.l_v**2 / Constants.K / T**2 / Constants.R_v)\n",
        "        )\n",
        "        # TODO: something wrong in this one, units aren't working out as expected, expecting r*dr_dt to work out as [length]*[length / time].\n",
        "        # perhaps there is something fishy with the Constants.l_v**2 / Constants.K / T**2 / Constants.R_v term...\n",
        "\n",
        "    # def S_eq(a, kappa, a_dry_3, T): # adapted from https://github.com/open-atmos/PySDM/blob/83b1edd16dbcb8e97a7a4beaf77822fac7016e94/PySDM/physics/hygroscopicity/kappa_koehler_leading_terms.py#L16\n",
        "    #     print( \"s_eq, dimension of first part: \", (2 * Constants.sigma_w / Constants.R_v / T / Constants.rho_w) / a )\n",
        "    #     print( \"s_eq, dimension of second part: \", (kappa * a_dry_3 / a**3).dimensionality )\n",
        "    #     return (\n",
        "    #         (2 * Constants.sigma_w / Constants.R_v / T / Constants.rho_w) / a - kappa * a_dry_3 / a**3\n",
        "        # )\n",
        "\n",
        "    @staticmethod\n",
        "    def RH_eq(r, T, kp, a_dry_3, sgm): # from https://github.com/open-atmos/PySDM/blob/main/PySDM/physics/hygroscopicity/kappa_koehler.py\n",
        "        return (\n",
        "            np.exp((2 * sgm / Constants.R_v / T / Constants.rho_w) / r)\n",
        "            * (r**3 - a_dry_3)\n",
        "            / (r**3 - a_dry_3 * (1 - kp))\n",
        "        )\n",
        "\n",
        "    @staticmethod\n",
        "    def S_eq(a, kappa, a_dry_3, T): # adapted from RH_eq above\n",
        "      return (\n",
        "          np.exp((2 * Constants.sigma_w / Constants.R_v / T / Constants.rho_w) / a)\n",
        "          * (a**3 - a_dry_3)\n",
        "          / (a**3 - a_dry_3 * (1 - kappa))\n",
        "          ) - 1\n",
        "\n",
        "\n",
        "\n",
        "    @staticmethod\n",
        "    def r_cr(kp, a_dry_3, T, sgm): # from https://github.com/open-atmos/PySDM/blob/main/PySDM/physics/hygroscopicity/kappa_koehler.py\n",
        "        return np.sqrt(3 * kp * a_dry_3 / (2 * sgm / Constants.R_v / T / Constants.rho_w))\n"
      ]
    },
    {
      "cell_type": "code",
      "execution_count": 5,
      "metadata": {
        "id": "EaiiPI4TF4CH"
      },
      "outputs": [],
      "source": [
        "class Storage:\n",
        "    \"\"\" utility class to make pint and scipy.odeint integration seamless \"\"\"\n",
        "    class __Impl(np.ndarray):\n",
        "        p_idx, p_unit = 0, si.hectopascals\n",
        "        T_idx, T_unit = 1, si.kelvins\n",
        "        w_v_idx, w_v_unit = 2, si.kilogram/si.kilogram\n",
        "        s_idx, s_unit = 3, si.dimensionless\n",
        "        R_idx, R_unit = 4, si.meter\n",
        "        n_unit = si.dimensionless\n",
        "        m_unit = si.grams\n",
        "        z_unit = si.metres\n",
        "        n_scalar_vars = 5\n",
        "\n",
        "        # def __init__():\n",
        "        #     for idx, var in enumerate('p', 'T'):\n",
        "        #         setattr(self, var) = property(...)\n",
        "\n",
        "\n",
        "        @property\n",
        "        def m_idx(self):\n",
        "            n_part = (self.shape[0] - self.n_scalar_vars ) // 2\n",
        "            start = self.n_scalar_vars\n",
        "            return slice(start, start + n_part)\n",
        "\n",
        "        @property\n",
        "        def p(self):\n",
        "            return self[self.p_idx] * self.p_unit\n",
        "\n",
        "        @p.setter\n",
        "        def p(self, value):\n",
        "            self[self.p_idx] = (value.to(self.p_unit) / self.p_unit).magnitude\n",
        "\n",
        "        @property\n",
        "        def T(self):\n",
        "            return self[self.T_idx] * self.T_unit\n",
        "\n",
        "        @T.setter\n",
        "        def T(self, value):\n",
        "            self[self.T_idx] = (value.to(self.T_unit) / self.T_unit).magnitude\n",
        "\n",
        "        @property\n",
        "        def m(self):\n",
        "            return self[self.m_idx] * self.m_unit\n",
        "\n",
        "        @m.setter\n",
        "        def m(self, value):\n",
        "            self[self.m_idx] = (value.to(self.m_unit) / self.m_unit).magnitude\n",
        "\n",
        "        @property\n",
        "        def n(self):\n",
        "            return self[self.n_idx] * self.n_unit\n",
        "\n",
        "        @n.setter\n",
        "        def n(self, value):\n",
        "            self[self.n_idx] = (value.to(self.n_unit) / self.n_unit).magnitude\n",
        "\n",
        "        @property\n",
        "        def w_v(self):\n",
        "            return self[self.w_v_idx] * self.w_v_unit\n",
        "\n",
        "        @w_v.setter\n",
        "        def w_v(self, value):\n",
        "            self[self.w_v_idx] = (value.to(self.w_v_unit) / self.w_v_unit).magnitude\n",
        "\n",
        "        @property\n",
        "        def n_idx(self):\n",
        "            n_part = (self.shape[0] - self.n_scalar_vars ) // 2\n",
        "            start = self.n_scalar_vars + n_part\n",
        "            return slice(start, start + n_part)\n",
        "\n",
        "        @property\n",
        "        def s(self):\n",
        "            return self[self.s_idx] * self.s_unit\n",
        "\n",
        "        @s.setter\n",
        "        def s(self, value):\n",
        "            self[self.s_idx] = (value.to(self.s_unit) / self.s_unit).magnitude\n",
        "\n",
        "        @property\n",
        "        def R(self):\n",
        "            return self[self.R_idx] * self.R_unit\n",
        "\n",
        "        @R.setter\n",
        "        def R(self, value):\n",
        "            self[self.R_idx] = (value.to(self.R_unit) / self.R_unit).magnitude\n",
        "\n",
        "\n",
        "    @staticmethod\n",
        "    def __make_storage(shape):\n",
        "        storage = Storage.__Impl(shape)\n",
        "        return storage\n",
        "\n",
        "    @staticmethod\n",
        "    def make_state(n_particles):\n",
        "        return Storage.__make_storage((Storage.__Impl.n_scalar_vars + 2 * n_particles,))\n",
        "\n",
        "    @staticmethod\n",
        "    def make_deriv(state):\n",
        "        storage = Storage.__make_storage(state.shape)\n",
        "        storage.p_unit /= storage.z_unit\n",
        "        storage.T_unit /= storage.z_unit\n",
        "        storage.m_unit /= storage.z_unit\n",
        "        storage.w_v_unit /= storage.z_unit\n",
        "        storage.s_unit /= storage.z_unit\n",
        "        storage.n_unit /= storage.z_unit\n",
        "        storage.R_unit /= storage.z_unit\n",
        "        return storage\n",
        "\n",
        "    @staticmethod\n",
        "    def view_state(array):\n",
        "        storage = Storage.__make_storage(array.shape)\n",
        "        storage[:] = array[:]\n",
        "        return storage"
      ]
    },
    {
      "cell_type": "markdown",
      "metadata": {
        "id": "-aahyi9NF4CH"
      },
      "source": [
        "### the new ODE system we will solve ..."
      ]
    },
    {
      "cell_type": "markdown",
      "metadata": {
        "id": "3Sp4KUcgF4CI"
      },
      "source": [
        "\n",
        "<center><b>this week (particles):</b></center>\n",
        "$$\n",
        "\\begin{eqnarray}\n",
        "  \\frac{dp}{dz} &=& - \\rho g \\\\\n",
        "  \\frac{dm_i}{dz} &=& \\frac{\\xi_i}{w} \\max\\!\\!\\left[0,\\,\\,\\frac{4\\pi r_i^2}{r_i} D (\\rho_v - \\rho_{eq})\\right]\\\\ &=& \\frac{\\xi_i}{w}\\max\\!\\!\\left[0,\\,\\,(4 \\pi)^{2/3} \\sqrt[3]{\\frac{3m_i}{\\xi_i\\rho_w}}\\,D \\left(\\rho_v - \\frac{p_{eq}(T)}{R_v T}\\right)\\right]\\\\\n",
        "  \\vdots\\\\\n",
        "  \\frac{dT}{dz} &=& \\frac{1}{c_p} \\left(\\frac{1}{\\rho}\\frac{dp}{dz} + \\frac{l_v}{m_a} \\sum_i \\frac{dm_i}{dz} \\right)\n",
        "\\end{eqnarray}\n",
        "$$"
      ]
    },
    {
      "cell_type": "code",
      "execution_count": 6,
      "metadata": {
        "id": "nLBfqaJ8F4CI"
      },
      "outputs": [],
      "source": [
        "class System:\n",
        "    def __init__(self, *, w, ent_Tdiff, ent_RH, ent_mu, r_dry, kappa):\n",
        "        self.w = w\n",
        "        self.ent_mu = ent_mu\n",
        "        self.ent_Tdiff = ent_Tdiff\n",
        "        self.ent_RH = ent_RH\n",
        "        self.a_dry_3 = r_dry**3\n",
        "        self.kappa = kappa\n",
        "\n",
        "    def __call__(self, _, state):\n",
        "        state = Storage.view_state(state)\n",
        "        deriv = Storage.make_deriv(state)\n",
        "\n",
        "        #(8)\n",
        "        deriv.R = state.R * self.ent_mu #rough appox of eq.8 to get things working (assumes constant updraft and negligible variability in dry air density)\n",
        "\n",
        "        rho = Formulae.rho(state.p, Constants.R_a, state.T) # TODO: total pressure, but dry air R. (a good approximation)\n",
        "        # volume = self.m_a / rho\n",
        "        volume = (4/3)*np.pi*state.R**3 # new total volume, as we are evolving R with bubble expansion\n",
        "        total_mass = rho * volume\n",
        "        rho_eq = Formulae.p_eq(state.T) / Constants.R_v / state.T\n",
        "        m_v = state.w_v*rho*volume #m_v is the total vapour mass\n",
        "        m_l = np.sum(state.m * state.n) # m_l is the total liquid water mass\n",
        "        m_w = m_l + m_v # m_w is the total water mass\n",
        "        rho_v = m_v / volume #m_w undefined\n",
        "\n",
        "        # eq. (4)\n",
        "        deriv.p = -Formulae.rho(state.p, Constants.R_a, state.T) * Constants.g\n",
        "\n",
        "        # eq. (12) PER DROPLET (implied loop)\n",
        "        a = (3*state.m/4/np.pi/Constants.rho_w)**(1/3)\n",
        "\n",
        "        deriv.m = 4 * np.pi * Constants.rho_w * a * Formulae.r_dr_dt(\n",
        "            Formulae.S_eq(a,self.kappa,self.a_dry_3,state.T), state.T, state.s, rho_eq\n",
        "        ) / self.w\n",
        "        # TODO: switch from integration in mass \"m\" to integration in \"ln(r)\" or alike ... or to \"r\" to be closer to the paper\n",
        "\n",
        "        # eq. (5) - assuming self.xi constant\n",
        "        # dwl_dz = np.sum(deriv.m)/self.m_a\n",
        "        dwl_dz = np.sum(deriv.m * state.n)/total_mass\n",
        "\n",
        "        env_T = state.T - self.ent_Tdiff\n",
        "        env_pv = self.ent_RH * Formulae.p_eq(env_T)\n",
        "        env_w_v = Formulae.rho(env_pv, Constants.R_v, env_T) / rho # to keep a constant relative humidity following conditions of BN07\n",
        "\n",
        "        # eq. (2)\n",
        "        deriv.w_v = - dwl_dz - self.ent_mu * (state.w_v - env_w_v + np.sum(state.m * state.n)/rho/volume)\n",
        "\n",
        "        # eq. (1)\n",
        "        deriv.T = (deriv.p/rho - deriv.w_v * Constants.l_v) / Constants.c_p + \\\n",
        "            - self.ent_mu * ( (Constants.l_v/Constants.c_p)*(state.w_v-env_w_v) + (state.T-env_T) )\n",
        "\n",
        "        #(3)\n",
        "        deriv.s = state.p/(Constants.epsilon*Formulae.p_eq(state.T)) * deriv.w_v \\\n",
        "            - (1+state.s)*(\n",
        "                (Constants.epsilon*Constants.l_v/(Constants.R_a*state.T**2))*deriv.T +\n",
        "                (Constants.g/(Constants.R_a*state.T))\n",
        "            )\n",
        "\n",
        "        #(6)\n",
        "        env_n = 0 # environemntal n=0 for dry air entrainment\n",
        "        deriv.n = 0 / si.metres #-Constants.mu * (state.n - env_n)\n",
        "\n",
        "        return deriv"
      ]
    },
    {
      "cell_type": "markdown",
      "metadata": {
        "id": "nGVe3eDLF4CI"
      },
      "source": [
        "$p$: pressure   \n",
        "$z$: vertical displacement   \n",
        "$\\rho$: air density   \n",
        "$g$: gravitational acceleration   \n",
        "$r_i$: radius of size category $i$\n",
        "$m_i$: mass of liquid water in size category $i$ (i.e., sum of masses of particles of radius $r_i$)   \n",
        "$\\xi_i$: multiplicity of size category $i$ (i.e., number of particles of radius $r_i$)      \n",
        "$\\rho_v$: density of water vapour\n",
        "$\\rho_{eq}$: density of water vapour at saturation (in phase equilibrium wrt water surface)   \n",
        "$T$: temperature   \n",
        "$c_p$: specific heat of air   \n",
        "$l_v$: latent heat of vapourisation   \n",
        "$m_a$: mass of air \\\\\n",
        "$R$: radius of parcel \\\\\n",
        "$w_v$: water vapour mixing ratio\n"
      ]
    },
    {
      "cell_type": "markdown",
      "metadata": {
        "id": "2xFm959hF4CI"
      },
      "source": [
        "### ... implemented according to SciPy API"
      ]
    },
    {
      "cell_type": "markdown",
      "metadata": {
        "id": "YAOzAcfWF4CI"
      },
      "source": [
        "### instead of a simplest ODE solver (last week), let's now use a more sophisticated one from SciPy"
      ]
    },
    {
      "cell_type": "code",
      "execution_count": 7,
      "metadata": {
        "id": "g4iCJUjOF4CI"
      },
      "outputs": [],
      "source": [
        "from scipy import integrate\n",
        "def solve(system, state, displacement):\n",
        "    integ = integrate.solve_ivp(\n",
        "        system,\n",
        "        [0, displacement / state.z_unit],\n",
        "        state,\n",
        "        max_step=(.1 * si.metre / state.z_unit).magnitude,\n",
        "        method='LSODA'\n",
        "    )\n",
        "    assert integ.success, integ.message\n",
        "    return Storage.view_state(integ.y), integ.t * state.z_unit"
      ]
    },
    {
      "cell_type": "markdown",
      "metadata": {
        "id": "qBOq7bpcF4CI"
      },
      "source": [
        "### and let's finally do the calculations ..."
      ]
    },
    {
      "cell_type": "code",
      "execution_count": 8,
      "metadata": {
        "id": "LFFo1xrUF4CI"
      },
      "outputs": [],
      "source": [
        "n_size_sections = 10\n",
        "T0 = 300 * si.kelvins\n",
        "p0 = 1000 * si.hectopascals\n",
        "s0 = -0.01 * si.dimensionless\n",
        "\n",
        "pv0 = (1 + s0) * Formulae.p_eq(T0)\n",
        "displacement = 250 * si.metres\n",
        "R0 = 350 * si.metres\n",
        "volume = 4/3 * np.pi * R0**3\n",
        "w_v0 = Constants.epsilon / (p0/pv0 - 1)\n",
        "\n",
        "# entrainment parameters\n",
        "ent_mu = 0 / si.meter\n",
        "ent_Tdiff = 0.3 * si.kelvin # T-T'\n",
        "ent_RH = 0.9 * si.dimensionless #relative humidity\n",
        "\n",
        "kappa = 1.2\n",
        "geometric_stdev = 1.3\n",
        "median_dry_radius = 1 * si.um\n",
        "aerosol_concentration = 50 / si.centimetre**3\n",
        "\n",
        "dry_radii_quantiles = scipy.stats.lognorm(\n",
        "    np.log(geometric_stdev),\n",
        "    0,\n",
        "    median_dry_radius.to(si.m).magnitude\n",
        ").ppf(\n",
        "    np.linspace(0, 1, 2 * n_size_sections + 1)[1:-1:2]\n",
        ") * si.m\n",
        "\n",
        "wet_radii_quantiles = np.asarray([scipy.optimize.root_scalar(\n",
        "    f=lambda r: s0 - Formulae.S_eq(r*si.m, kappa, r_dry**3, T0),\n",
        "    bracket=(\n",
        "        r_dry.to(si.m).magnitude,\n",
        "        Formulae.r_cr(kappa, r_dry**3, T0, Constants.sigma_w).to(si.m).magnitude\n",
        "    )\n",
        ").root for r_dry in dry_radii_quantiles]) * si.m\n",
        "\n",
        "systems = {}\n",
        "solutions = {}\n",
        "zsteps = {}\n",
        "for w in [.1, 1] * si.metre / si.second:\n",
        "    state = Storage.make_state(n_size_sections)\n",
        "    state.p = p0\n",
        "    state.T = T0\n",
        "    state.n = aerosol_concentration * volume / n_size_sections\n",
        "    state.m = 4/3 * np.pi * Constants.rho_w * wet_radii_quantiles**3\n",
        "    state.s = s0\n",
        "    state.R = R0\n",
        "    state.w_v = w_v0\n",
        "\n",
        "    systems[w] = System(w=w, ent_mu=ent_mu, ent_Tdiff=ent_Tdiff, ent_RH=ent_RH, r_dry=dry_radii_quantiles, kappa=kappa)\n",
        "    solutions[w], zsteps[w] = solve(systems[w], state, displacement)"
      ]
    },
    {
      "cell_type": "markdown",
      "metadata": {
        "id": "uzWyPPO0F4CK"
      },
      "source": [
        "### ... and plotting"
      ]
    },
    {
      "cell_type": "code",
      "execution_count": 9,
      "metadata": {
        "colab": {
          "base_uri": "https://localhost:8080/",
          "height": 410
        },
        "id": "T1lffCOOF4CK",
        "outputId": "ebaa1541-d4bc-4312-e7bb-c8052a74a60e"
      },
      "outputs": [
        {
          "output_type": "display_data",
          "data": {
            "text/plain": [
              "<Figure size 1500x400 with 3 Axes>"
            ],
            "image/png": "[encoded data removed]"
          },
          "metadata": {}
        }
      ],
      "source": [
        "fig, axs = pyplot.subplots(1, 3, sharey=True, figsize=(15, 4))\n",
        "\n",
        "for w in solutions.keys():\n",
        "    sys = systems[w]\n",
        "    sol = solutions[w]\n",
        "    z = zsteps[w]\n",
        "\n",
        "    axs[0].plot(sol.s, z, label=w)\n",
        "    axs[1].plot(np.mean(sol.m, axis=0), z, label=w)\n",
        "    axs[1].xaxis.set_units(si.micrograms)\n",
        "\n",
        "    axs[2].plot(sol.w_v, z, label=w)\n",
        "    axs[2].xaxis.set_units(si.grams / si.kilogram)\n",
        "\n",
        "for i in range(len(axs)):\n",
        "    axs[i].legend(loc='upper left')\n",
        "    axs[i].grid()\n",
        "\n",
        "_ = axs[0].set_title('Supersaturation [%]')\n",
        "_ = axs[1].set_title('Average drop mass')\n",
        "_ = axs[2].set_title('vapour mixing ratio [g/kg]')"
      ]
    }
  ],
  "metadata": {
    "colab": {
      "provenance": [],
      "include_colab_link": true
    },
    "kernelspec": {
      "display_name": "Python 3 (ipykernel)",
      "language": "python",
      "name": "python3"
    },
    "language_info": {
      "codemirror_mode": {
        "name": "ipython",
        "version": 3
      },
      "file_extension": ".py",
      "mimetype": "text/x-python",
      "name": "python",
      "nbconvert_exporter": "python",
      "pygments_lexer": "ipython3",
      "version": "3.9.2"
    }
  },
  "nbformat": 4,
  "nbformat_minor": 0
}
