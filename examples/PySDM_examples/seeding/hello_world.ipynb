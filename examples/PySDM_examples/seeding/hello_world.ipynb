{
 "cells": [
  {
   "metadata": {},
   "cell_type": "markdown",
   "source": [
    "[![preview notebook](https://img.shields.io/static/v1?label=render%20on&logo=github&color=87ce3e&message=GitHub)](https://github.com/open-atmos/PySDM/blob/main/examples/PySDM_examples/seeding/hello_world.ipynb)\n",
    "[![launch on mybinder.org](https://mybinder.org/badge_logo.svg)](https://mybinder.org/v2/gh/open-atmos/PySDM.git/main?urlpath=lab/tree/examples/PySDM_examples/seeding/hello_world.ipynb)\n",
    "[![launch on Colab](https://colab.research.google.com/assets/colab-badge.svg)](https://colab.research.google.com/github/open-atmos/PySDM/blob/main/examples/PySDM_examples/seeding/hello_world.ipynb)"
   ],
   "id": "b762c49560c8d6cf"
  },
  {
   "metadata": {},
   "cell_type": "markdown",
   "source": "TODO #1417",
   "id": "45491a3c0a12c30a"
  },
  {
   "metadata": {},
   "cell_type": "code",
   "source": [
    "import sys\n",
    "if 'google.colab' in sys.modules:\n",
    "    !pip --quiet install open-atmos-jupyter-utils\n",
    "    from open_atmos_jupyter_utils import pip_install_on_colab\n",
    "    pip_install_on_colab('PySDM-examples')"
   ],
   "id": "70162914d9301075",
   "outputs": [],
   "execution_count": null
  },
  {
   "cell_type": "code",
   "id": "b1c0a002-7f76-4a4c-9e77-6aae747d7fab",
   "metadata": {},
   "source": [
    "import numpy as np\n",
    "from matplotlib import pyplot\n",
    "from PySDM import Formulae\n",
    "from PySDM.physics import in_unit, si\n",
    "from open_atmos_jupyter_utils import show_plot\n",
    "from PySDM_examples.seeding import Settings, Simulation"
   ],
   "outputs": [],
   "execution_count": null
  },
  {
   "cell_type": "code",
   "id": "1695dd83-b78b-46f3-a50c-47cc601c5920",
   "metadata": {},
   "source": [
    "n_sd_initial = 100\n",
    "n_sd_seeding = 100\n",
    "rain_water_radius_threshold = .1 * si.mm\n",
    "formulae = Formulae(seed=100)\n",
    "\n",
    "simulations = {\n",
    "    case: Simulation(\n",
    "        Settings(\n",
    "            n_sd_initial=n_sd_initial,\n",
    "            n_sd_seeding=n_sd_seeding,\n",
    "            rain_water_radius_threshold=rain_water_radius_threshold,\n",
    "            super_droplet_injection_rate={\n",
    "                'seeding': lambda time: 1 if 5 * si.min < time < 10 * si.min else 0,\n",
    "                'no seeding': lambda _: 0,\n",
    "            }[case],\n",
    "            formulae=formulae,\n",
    "        )\n",
    "    )\n",
    "    for case in ('seeding', 'no seeding')\n",
    "}    "
   ],
   "outputs": [],
   "execution_count": null
  },
  {
   "cell_type": "code",
   "id": "af543973-a177-4fe9-9ae5-b0fb8511323e",
   "metadata": {},
   "source": [
    "outputs = {case: simulations[case].run() for case in simulations}"
   ],
   "outputs": [],
   "execution_count": null
  },
  {
   "cell_type": "code",
   "id": "45bbaff8-d6ea-4685-a10b-2c4af167b89a",
   "metadata": {},
   "source": [
    "for case, output in outputs.items():\n",
    "    time = output['products']['time']\n",
    "    water_mass = output['attributes']['water mass']\n",
    "    \n",
    "    fig, axs = pyplot.subplot_mosaic(\n",
    "        [['a', 'b', 'c']],\n",
    "        sharey=True,\n",
    "        figsize=(12, 4),\n",
    "        tight_layout=True\n",
    "    )\n",
    "    \n",
    "    for drop_id in range(water_mass.shape[1]):\n",
    "        axs['a'].plot(\n",
    "            in_unit(water_mass[:, drop_id], si.ng),\n",
    "            in_unit(time, si.min),\n",
    "            color=\"navy\" if np.isfinite(water_mass[0, drop_id]) else \"red\",\n",
    "            linewidth=0.333,\n",
    "        )\n",
    "    axs['a'].set_ylabel(\"time [min]\")\n",
    "    axs['a'].set_xlabel(\"drop mass [ng]\")\n",
    "    axs['a'].grid()\n",
    "    axs['a'].set_xscale(\"log\")\n",
    "    axs['a'].set_xlim(1e-6, 1e8)\n",
    "\n",
    "    axs['b'].plot(\n",
    "        output['products']['sd_count'],\n",
    "        in_unit(time, si.min),\n",
    "        marker='.',\n",
    "        color='green',\n",
    "    )\n",
    "    axs['b'].set_xlabel(\"super droplet count\")\n",
    "    axs['b'].grid()\n",
    "    axs['b'].set_xlim(95, 125)\n",
    "\n",
    "    axs['c'].plot(\n",
    "        in_unit(output['products']['rain water mixing ratio'], si.g/si.kg),\n",
    "        in_unit(time, si.min),\n",
    "        marker='.',\n",
    "        color='green',        \n",
    "    )\n",
    "    axs['c'].set_xlabel(f\"rain water mixing ratio [g/kg] (radius > {in_unit(rain_water_radius_threshold, si.mm)} mm)\")\n",
    "    axs['c'].grid()\n",
    "    axs['c'].set_xlim(0, 3)\n",
    "\n",
    "    fig.suptitle(case)\n",
    "    show_plot(f\"hello_world_{case.replace(' ', '_')}.pdf\")"
   ],
   "outputs": [],
   "execution_count": null
  },
  {
   "cell_type": "code",
   "id": "a4742eaf-dccb-48b7-9138-74ae5c579cd8",
   "metadata": {},
   "source": [],
   "outputs": [],
   "execution_count": null
  }
 ],
 "metadata": {
  "kernelspec": {
   "display_name": "Python 3.10.9 ('pysdm')",
   "language": "python",
   "name": "python3"
  },
  "language_info": {
   "codemirror_mode": {
    "name": "ipython",
    "version": 3
   },
   "file_extension": ".py",
   "mimetype": "text/x-python",
   "name": "python",
   "nbconvert_exporter": "python",
   "pygments_lexer": "ipython3",
   "version": "3.10.9"
  },
  "vscode": {
   "interpreter": {
    "hash": "b14f34a08619f4a218d80d7380beed3f0c712c89ff93e7183219752d640ed427"
   }
  }
 },
 "nbformat": 4,
 "nbformat_minor": 5
}
