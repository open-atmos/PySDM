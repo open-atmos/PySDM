{
 "cells": [
  {
   "metadata": {},
   "cell_type": "markdown",
   "source": [
    "[![preview notebook](https://img.shields.io/static/v1?label=render%20on&logo=github&color=87ce3e&message=GitHub)](https://github.com/open-atmos/PySDM/blob/main/tutorials/collisions/collisions_playground.ipynb)\n",
    "[![launch on mybinder.org](https://mybinder.org/badge_logo.svg)](https://mybinder.org/v2/gh/open-atmos/PySDM.git/main?urlpath=lab/tree/examples/PySDM_examples/seeding/seeding_no_collisions.ipynb)\n",
    "[![launch on Colab](https://colab.research.google.com/assets/colab-badge.svg)](https://colab.research.google.com/github/open-atmos/PySDM/blob/main/examples/PySDM_examples/seeding/seeding_no_collisions.ipynb)"
   ]
  },
  {
   "metadata": {},
   "cell_type": "markdown",
   "source": "TODO #1417"
  },
  {
   "metadata": {},
   "cell_type": "code",
   "source": [
    "import sys\n",
    "if 'google.colab' in sys.modules:\n",
    "    !pip --quiet install open-atmos-jupyter-utils\n",
    "    from open_atmos_jupyter_utils import pip_install_on_colab\n",
    "    pip_install_on_colab('PySDM-examples')"
   ],
   "outputs": [],
   "execution_count": null
  },
  {
   "cell_type": "code",
   "metadata": {},
   "source": [
    "import numpy as np\n",
    "from matplotlib import pyplot\n",
    "from PySDM import Formulae\n",
    "from PySDM.physics import in_unit, si\n",
    "from open_atmos_jupyter_utils import show_plot\n",
    "from PySDM_examples.seeding import Settings, Simulation"
   ],
   "outputs": [],
   "execution_count": null
  },
  {
   "cell_type": "code",
   "metadata": {},
   "source": [
    "n_sd_initial = 100\n",
    "n_sd_seeding = 100\n",
    "formulae = Formulae(seed=100)\n",
    "\n",
    "simulations = {\n",
    "    case: Simulation(\n",
    "        Settings(\n",
    "            n_sd_initial=n_sd_initial,\n",
    "            n_sd_seeding=n_sd_seeding,\n",
    "            rain_water_radius_threshold=0 * si.mm,\n",
    "            super_droplet_injection_rate={\n",
    "                'seeding': lambda time: 1 if 15 * si.min < time < 20 * si.min else 0,\n",
    "                'no seeding': lambda _: 0,\n",
    "            }[case],\n",
    "            formulae=formulae,\n",
    "            enable_collisions=False,\n",
    "        )\n",
    "    )\n",
    "    for case in ('seeding', 'no seeding')\n",
    "}    "
   ],
   "outputs": [],
   "execution_count": null
  },
  {
   "cell_type": "code",
   "metadata": {},
   "source": [
    "outputs = {case: simulations[case].run() for case in simulations}"
   ],
   "outputs": [],
   "execution_count": null
  },
  {
   "cell_type": "code",
   "metadata": {},
   "source": [
    "fig, axs = pyplot.subplot_mosaic(\n",
    "        [['a', 'b', 'c']],\n",
    "        sharey=True,\n",
    "        figsize=(12, 4),\n",
    "        tight_layout=True\n",
    "    )\n",
    "\n",
    "for case, output in outputs.items():\n",
    "    time = output['products']['time']\n",
    "    idx = np.where(time > 10 * si.min)[0]\n",
    "\n",
    "    axs['a'].plot(\n",
    "        output['products']['sd_count'][idx],\n",
    "        in_unit(time[idx], si.min),\n",
    "        marker='.',\n",
    "        label=case,\n",
    "    )\n",
    "    axs['a'].set_xlabel(\"super droplet count\")\n",
    "    axs['a'].set_ylabel(\"height [m]\")\n",
    "    axs['a'].axhspan(15, 20, color=\"grey\", alpha=0.2)\n",
    "\n",
    "    axs['b'].plot(\n",
    "        output['products']['r_eff'][idx],\n",
    "        in_unit(time[idx], si.min),\n",
    "        marker='.',\n",
    "    )\n",
    "    axs['b'].set_xlabel(\"r_eff [um]\")\n",
    "    axs['b'].axhspan(15, 20, color=\"grey\", alpha=0.2)\n",
    "\n",
    "    axs['c'].plot(\n",
    "        output['products']['n_drop'][idx],\n",
    "        in_unit(time[idx], si.min),\n",
    "        marker='.',\n",
    "    )\n",
    "    axs['c'].set_xlabel(\"n_drop [cm-3]\")\n",
    "    axs['c'].axhspan(15, 20, color=\"grey\", alpha=0.2)\n",
    "\n",
    "axs['a'].legend()\n",
    "fig.suptitle(\"parcel with no collisions\")\n",
    "show_plot(\"seeding_no_collisions.pdf\")"
   ],
   "outputs": [],
   "execution_count": null
  },
  {
   "cell_type": "code",
   "metadata": {},
   "source": [],
   "outputs": [],
   "execution_count": null
  }
 ],
 "metadata": {
  "kernelspec": {
   "display_name": "Python 3.10.9 ('pysdm')",
   "language": "python",
   "name": "python3"
  },
  "language_info": {
   "codemirror_mode": {
    "name": "ipython",
    "version": 3
   },
   "file_extension": ".py",
   "mimetype": "text/x-python",
   "name": "python",
   "nbconvert_exporter": "python",
   "pygments_lexer": "ipython3",
   "version": "3.10.9"
  },
  "orig_nbformat": 4,
  "vscode": {
   "interpreter": {
    "hash": "b14f34a08619f4a218d80d7380beed3f0c712c89ff93e7183219752d640ed427"
   }
  }
 },
 "nbformat": 4,
 "nbformat_minor": 2
}
