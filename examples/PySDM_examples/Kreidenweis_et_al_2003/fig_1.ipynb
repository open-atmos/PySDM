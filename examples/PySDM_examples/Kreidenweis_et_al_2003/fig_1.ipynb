{
 "cells": [
  {
   "cell_type": "markdown",
   "metadata": {
    "collapsed": true
   },
   "source": [
    "[![Binder](https://mybinder.org/badge_logo.svg)](https://mybinder.org/v2/gh/open-atmos/PySDM.git/main?urlpath=examples/PySDM_examples/Kreidenweis_et_al_2003/fig_1.ipynb)\n",
    "[![Open In Colab](https://colab.research.google.com/assets/colab-badge.svg)](https://colab.research.google.com/github/open-atmos/PySDM/blob/main/examples/PySDM_examples/Kreidenweis_et_al_2003/fig_1.ipynb)"
   ]
  },
  {
   "cell_type": "markdown",
   "metadata": {},
   "source": [
    "#### based on Fig. 1 from Kreidenweis et al. 2003 (J. Geophys. Res. 108)  \"_Modification of aerosol mass and size distribution due to aqueous‐phase SO2 oxidation in clouds: Comparisons of several models_\"   \n",
    "https://doi.org/10.1029/2002JD002697"
   ]
  },
  {
   "cell_type": "code",
   "execution_count": null,
   "metadata": {},
   "outputs": [],
   "source": [
    "import sys\n",
    "if 'google.colab' in sys.modules:\n",
    "    !pip --quiet install open-atmos-jupyter-utils\n",
    "    from open_atmos_jupyter_utils import pip_install_on_colab\n",
    "    pip_install_on_colab('PySDM-examples')"
   ]
  },
  {
   "cell_type": "code",
   "execution_count": null,
   "metadata": {},
   "outputs": [],
   "source": [
    "from PySDM_examples.Kreidenweis_et_al_2003 import Settings, Simulation\n",
    "from open_atmos_jupyter_utils import show_plot\n",
    "from PySDM.physics import si\n",
    "import numpy as np\n",
    "from matplotlib import pyplot"
   ]
  },
  {
   "cell_type": "code",
   "execution_count": null,
   "metadata": {},
   "outputs": [],
   "source": [
    "settings = Settings(dt=.25*si.s, n_sd=20, n_substep=1)\n",
    "settings.output_interval = 25 * si.s"
   ]
  },
  {
   "cell_type": "code",
   "execution_count": null,
   "metadata": {},
   "outputs": [],
   "source": [
    "simulation = Simulation(settings)"
   ]
  },
  {
   "cell_type": "code",
   "execution_count": null,
   "metadata": {},
   "outputs": [],
   "source": [
    "output = simulation.run()"
   ]
  },
  {
   "cell_type": "code",
   "execution_count": null,
   "metadata": {},
   "outputs": [],
   "source": [
    "figsize = (10, 6)\n",
    "fig, axs = pyplot.subplots(1, 3, figsize=figsize, sharey=True)\n",
    "\n",
    "Y = np.asarray(output['t']) - 196 * si.s\n",
    "\n",
    "axs[0].plot(output['liquid water mixing ratio'], Y)\n",
    "axs[0].set_ylim(0, 2400 * si.s)\n",
    "axs[0].set_xlim(0, 2.5)\n",
    "axs[0].set_yticks(np.linspace(0, 2400, 13, endpoint=True))\n",
    "axs[0].set_ylabel('Time above cloud base (s)')\n",
    "axs[0].set_xlabel('Liquid Water Content (g/kg)')\n",
    "\n",
    "axs[1].plot(np.asarray(output['aq_S_IV_ppb']) + np.asarray(output['gas_S_IV_ppb']), Y)\n",
    "axs[1].set_xticks(np.linspace(0, 0.2, 5, endpoint=True))\n",
    "axs[1].set_xlabel('SO2 conc (total ppb)')\n",
    "\n",
    "for product in (\n",
    "    'pH_pH_number_weighted', \n",
    "    'pH_pH_volume_weighted', \n",
    "    'pH_conc_H_number_weighted', \n",
    "    'pH_conc_H_volume_weighted'\n",
    "):\n",
    "    axs[2].plot(output[product], Y, label=product)\n",
    "axs[2].set_xlim(3.7, 5)\n",
    "axs[2].set_xticks(np.linspace(3.8, 5, 7, endpoint=True))\n",
    "axs[2].set_xlabel('average pH')\n",
    "axs[2].legend()\n",
    "\n",
    "for ax in axs:\n",
    "    ax.grid()\n",
    "show_plot()"
   ]
  },
  {
   "cell_type": "code",
   "execution_count": null,
   "metadata": {},
   "outputs": [],
   "source": []
  },
  {
   "cell_type": "code",
   "execution_count": null,
   "metadata": {},
   "outputs": [],
   "source": []
  }
 ],
 "metadata": {
  "kernelspec": {
   "display_name": "Python 3",
   "language": "python",
   "name": "python3"
  },
  "language_info": {
   "codemirror_mode": {
    "name": "ipython",
    "version": 3
   },
   "file_extension": ".py",
   "mimetype": "text/x-python",
   "name": "python",
   "nbconvert_exporter": "python",
   "pygments_lexer": "ipython3",
   "version": "3.8.7"
  }
 },
 "nbformat": 4,
 "nbformat_minor": 1
}
