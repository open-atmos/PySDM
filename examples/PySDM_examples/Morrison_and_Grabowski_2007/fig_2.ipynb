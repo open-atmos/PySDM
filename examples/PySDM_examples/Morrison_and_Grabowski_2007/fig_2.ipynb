{
 "cells": [
  {
   "cell_type": "markdown",
   "metadata": {
    "collapsed": true,
    "pycharm": {
     "name": "#%% md\n"
    }
   },
   "source": [
    "[![Binder](https://mybinder.org/badge_logo.svg)](https://mybinder.org/v2/gh/open-atmos/PySDM.git/main?urlpath=examples/PySDM_examples/Morrison_and_Grabowski_2007/fig_2.ipynb)\n",
    "[![Open In Colab](https://colab.research.google.com/assets/colab-badge.svg)](https://colab.research.google.com/github/open-atmos/PySDM/blob/main/examples/PySDM_examples/Morrison_and_Grabowski_2007/fig_2.ipynb)"
   ]
  },
  {
   "cell_type": "markdown",
   "metadata": {},
   "source": [
    "#### based on Fig. 2 from Morrison & Grabowski 2007 (J. Atmos. Sci. 64)  \"_Comparison of Bulk and Bin Warm-Rain Microphysics Models Using a Kinematic Framework_\"\n",
    "https://doi.org/10.1175/JAS3980"
   ]
  },
  {
   "cell_type": "code",
   "execution_count": null,
   "metadata": {
    "pycharm": {
     "name": "#%%\n"
    }
   },
   "outputs": [],
   "source": [
    "import sys\n",
    "if 'google.colab' in sys.modules:\n",
    "    !pip --quiet install open-atmos-jupyter-utils\n",
    "    from open_atmos_jupyter_utils import pip_install_on_colab\n",
    "    pip_install_on_colab('PySDM-examples')"
   ]
  },
  {
   "cell_type": "code",
   "execution_count": null,
   "metadata": {
    "pycharm": {
     "name": "#%%\n"
    }
   },
   "outputs": [],
   "source": [
    "from open_atmos_jupyter_utils import show_plot\n",
    "from PySDM_examples.Szumowski_et_al_1998 import sounding\n",
    "from PySDM.physics import si\n",
    "from matplotlib import pylab"
   ]
  },
  {
   "cell_type": "code",
   "execution_count": null,
   "metadata": {},
   "outputs": [],
   "source": [
    "pylab.plot(sounding.temperature, sounding.pressure)\n",
    "pylab.grid()\n",
    "pylab.xlim(260, 300)\n",
    "pylab.ylim(max(sounding.pressure), 450 * si.hPa)\n",
    "pylab.ylabel(\"pressure [mb]\")\n",
    "pylab.xlabel(\"temperature [K]\")\n",
    "ax2 = pylab.twiny()\n",
    "ax2.set_xlabel(\"q [g / kg]                                             \")\n",
    "ax2.set_xticks((0, 5, 10, 15, 20))\n",
    "ax2.set_xlim(0, 40)\n",
    "ax2.plot(sounding.mixing_ratio / (si.g / si.kg), sounding.pressure, label='mixing ratio', linestyle='--')\n",
    "show_plot()"
   ]
  },
  {
   "cell_type": "code",
   "execution_count": null,
   "metadata": {},
   "outputs": [],
   "source": []
  },
  {
   "cell_type": "code",
   "execution_count": null,
   "metadata": {},
   "outputs": [],
   "source": []
  },
  {
   "cell_type": "code",
   "execution_count": null,
   "metadata": {},
   "outputs": [],
   "source": []
  },
  {
   "cell_type": "code",
   "execution_count": null,
   "metadata": {},
   "outputs": [],
   "source": []
  }
 ],
 "metadata": {
  "kernelspec": {
   "display_name": "Python 3 (ipykernel)",
   "language": "python",
   "name": "python3"
  },
  "language_info": {
   "codemirror_mode": {
    "name": "ipython",
    "version": 3
   },
   "file_extension": ".py",
   "mimetype": "text/x-python",
   "name": "python",
   "nbconvert_exporter": "python",
   "pygments_lexer": "ipython3",
   "version": "3.10.6"
  }
 },
 "nbformat": 4,
 "nbformat_minor": 1
}
