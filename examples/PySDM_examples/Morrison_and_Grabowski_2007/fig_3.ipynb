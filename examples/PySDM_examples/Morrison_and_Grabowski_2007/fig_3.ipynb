{
 "cells": [
  {
   "cell_type": "markdown",
   "metadata": {},
   "source": [
    "[![Binder](https://mybinder.org/badge_logo.svg)](https://mybinder.org/v2/gh/open-atmos/PySDM.git/main?urlpath=examples/PySDM_examples/Morrison_and_Grabowski_2007/fig_3.ipynb)\n",
    "[![Open In Colab](https://colab.research.google.com/assets/colab-badge.svg)](https://colab.research.google.com/github/open-atmos/PySDM/blob/main/examples/PySDM_examples/Morrison_and_Grabowski_2007/fig_3.ipynb)"
   ]
  },
  {
   "cell_type": "markdown",
   "metadata": {},
   "source": [
    "#### based on Fig. 3 from Morrison & Grabowski 2007 (J. Atmos. Sci. 64)  \"_Comparison of Bulk and Bin Warm-Rain Microphysics Models Using a Kinematic Framework_\"\n",
    "https://doi.org/10.1175/JAS3980"
   ]
  },
  {
   "cell_type": "code",
   "execution_count": null,
   "metadata": {
    "pycharm": {
     "name": "#%%\n"
    }
   },
   "outputs": [],
   "source": [
    "import sys\n",
    "if 'google.colab' in sys.modules:\n",
    "    !pip --quiet install open-atmos-jupyter-utils\n",
    "    from open_atmos_jupyter_utils import pip_install_on_colab\n",
    "    pip_install_on_colab('PySDM-examples')"
   ]
  },
  {
   "cell_type": "code",
   "execution_count": null,
   "metadata": {
    "pycharm": {
     "name": "#%%\n"
    }
   },
   "outputs": [],
   "source": [
    "from PySDM_examples.Morrison_and_Grabowski_2007 import Cumulus\n",
    "from PySDM_examples.Szumowski_et_al_1998.fields import nondivergent_vector_field_2d, z_vec_coord, x_vec_coord\n",
    "from PySDM.physics import si\n",
    "from PySDM import Formulae\n",
    "from matplotlib import pylab\n",
    "from open_atmos_jupyter_utils import show_plot"
   ]
  },
  {
   "cell_type": "code",
   "execution_count": null,
   "metadata": {},
   "outputs": [],
   "source": [
    "settings = Cumulus(Formulae())\n",
    "rho_times_courant = nondivergent_vector_field_2d(\n",
    "    settings.grid, settings.size, settings.dt, settings.stream_function,\n",
    "    t=25*si.min\n",
    ")\n",
    "dz = settings.size[-1] / settings.grid[-1]\n",
    "dx = settings.size[0] / settings.grid[0]"
   ]
  },
  {
   "cell_type": "code",
   "execution_count": null,
   "metadata": {},
   "outputs": [],
   "source": [
    "z_vec_coords = tuple(coord * settings.size[i]/si.km for i, coord in enumerate(z_vec_coord(settings.grid)))\n",
    "pylab.clabel(pylab.contour(\n",
    "    *z_vec_coords,\n",
    "    rho_times_courant[-1] * dz / settings.dt / settings.rhod_of_zZ(z_vec_coords[-1]/settings.size[-1]),\n",
    "    levels=(2 * si.m/si.s, 4 * si.m/si.s, 6 * si.m/si.s)\n",
    "))\n",
    "pylab.grid()\n",
    "pylab.xlabel('X [km]')\n",
    "pylab.ylabel('Z [km]')\n",
    "show_plot()"
   ]
  },
  {
   "cell_type": "code",
   "execution_count": null,
   "metadata": {},
   "outputs": [],
   "source": [
    "x_vec_coords = tuple(coord * settings.size[i]/si.km for i, coord in enumerate(x_vec_coord(settings.grid)))\n",
    "pylab.clabel(pylab.contour(\n",
    "    *x_vec_coords,\n",
    "    rho_times_courant[0] * dx / settings.dt / settings.rhod_of_zZ(x_vec_coords[0]/settings.size[0]),\n",
    "))\n",
    "pylab.grid()\n",
    "pylab.xlabel('X [km]')\n",
    "pylab.ylabel('Z [km]')\n",
    "show_plot()"
   ]
  },
  {
   "cell_type": "code",
   "execution_count": null,
   "metadata": {},
   "outputs": [],
   "source": []
  },
  {
   "cell_type": "code",
   "execution_count": null,
   "metadata": {},
   "outputs": [],
   "source": []
  }
 ],
 "metadata": {
  "kernelspec": {
   "display_name": "Python 3 (ipykernel)",
   "language": "python",
   "name": "python3"
  },
  "language_info": {
   "codemirror_mode": {
    "name": "ipython",
    "version": 3
   },
   "file_extension": ".py",
   "mimetype": "text/x-python",
   "name": "python",
   "nbconvert_exporter": "python",
   "pygments_lexer": "ipython3",
   "version": "3.10.6"
  }
 },
 "nbformat": 4,
 "nbformat_minor": 1
}
