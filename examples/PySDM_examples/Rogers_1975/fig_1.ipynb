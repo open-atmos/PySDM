{
 "cells": [
  {
   "cell_type": "markdown",
   "id": "bfd1a1e7-29d9-443d-9eb4-ef75151ffcc7",
   "metadata": {},
   "source": [
    "[![preview notebook](https://img.shields.io/static/v1?label=render%20on&logo=github&color=87ce3e&message=GitHub)](https://github.com/open-atmos/PySDM/blob/main/examples/PySDM_examples/Rogers_1975/fig_1.ipynb)\n",
    "[![launch on mybinder.org](https://mybinder.org/badge_logo.svg)](https://mybinder.org/v2/gh/open-atmos/PySDM.git/main?urlpath=lab/tree/examples/PySDM_examples/Rogers_1975/fig_1.ipynb)\n",
    "[![launch on Colab](https://colab.research.google.com/assets/colab-badge.svg)](https://colab.research.google.com/github/open-atmos/PySDM/blob/main/examples/PySDM_examples/Rogers_1975/fig_1.ipynb)"
   ]
  },
  {
   "cell_type": "markdown",
   "id": "ca764a8c-a315-4dd3-9814-bd59401f6ccd",
   "metadata": {},
   "source": "## basic parcel simulation based on [Rogers 1975](https://doi.org/10.1080/00046973.1975.9648397) \"_An Elementary Parcel Model with Explicit Condensation and Supersaturation_\" and implemented using SciPy+Pint but without PySDM - for illustrative purposes."
  },
  {
   "cell_type": "code",
   "id": "99b453fa",
   "metadata": {
    "ExecuteTime": {
     "end_time": "2025-05-31T22:04:02.540441Z",
     "start_time": "2025-05-31T22:04:02.496744Z"
    }
   },
   "source": [
    "import sys\n",
    "if 'google.colab' in sys.modules:\n",
    "    !pip --quiet install open-atmos-jupyter-utils\n",
    "    from open_atmos_jupyter_utils import pip_install_on_colab\n",
    "    pip_install_on_colab('PySDM-examples')"
   ],
   "outputs": [],
   "execution_count": 11
  },
  {
   "cell_type": "code",
   "id": "7dadd922",
   "metadata": {
    "ExecuteTime": {
     "end_time": "2025-05-31T22:04:02.558544Z",
     "start_time": "2025-05-31T22:04:02.545638Z"
    }
   },
   "source": [
    "import collections\n",
    "import functools\n",
    "from open_atmos_jupyter_utils import show_plot\n",
    "from matplotlib import pyplot\n",
    "import numpy as np\n",
    "import scipy\n",
    "import scipy.constants as const\n",
    "import chempy"
   ],
   "outputs": [],
   "execution_count": 12
  },
  {
   "cell_type": "code",
   "id": "0ecc07d1-88e4-4a4f-a469-fe4f14b31ac4",
   "metadata": {
    "ExecuteTime": {
     "end_time": "2025-05-31T22:04:02.768131Z",
     "start_time": "2025-05-31T22:04:02.621182Z"
    }
   },
   "source": [
    "import pint\n",
    "si = pint.UnitRegistry()\n",
    "si.setup_matplotlib()\n",
    "si.define('fraction = [] = frac')\n",
    "si.define('percent = 1e-2 frac = pct')"
   ],
   "outputs": [],
   "execution_count": 13
  },
  {
   "cell_type": "code",
   "id": "31cdfaaa-31be-46c6-9dcf-257024240cd6",
   "metadata": {
    "ExecuteTime": {
     "end_time": "2025-05-31T22:04:02.781844Z",
     "start_time": "2025-05-31T22:04:02.774125Z"
    }
   },
   "source": [
    "class Storage:\n",
    "    \"\"\" state vector representation with each element having its own Pint-compatible\n",
    "    physical dimension, thus allowing to seamlessly couple Pint and scipy.odeint\n",
    "    (all methods return objects that inherit from `numpy.ndarray` but are additionally\n",
    "    equipped with .VAR unit-aware setters and getters, allowing both unit-unaware\n",
    "    whole-array expressions (e.g., `state += dt * deriv`) as well as unit-aware \n",
    "    operations on state vars (e.g., `state.T = 300 * si.K` or `state.m[:] = ...`) \"\"\"\n",
    "\n",
    "    var_units = {\n",
    "        'p': si.Pa,\n",
    "        'T': si.K,\n",
    "        'S': si.dimensionless,\n",
    "        'r': si.metre,\n",
    "    }\n",
    "    \n",
    "    der_unit = si.second\n",
    "\n",
    "    @staticmethod\n",
    "    def __make_storage(shape, deriv=False):\n",
    "        def getter(self, idx, unit):\n",
    "            return self[idx] * unit\n",
    "\n",
    "        def setter(self, value, idx, unit):\n",
    "            self[idx] = (value.to(unit) / unit).magnitude\n",
    "\n",
    "        properties = {}\n",
    "        for i, key in enumerate(Storage.var_units.keys()):\n",
    "            kwargs = {\n",
    "                'unit': Storage.var_units[key] / (Storage.der_unit if deriv else 1),\n",
    "                'idx': i\n",
    "            }\n",
    "            properties[key] = property(\n",
    "                functools.partial(getter, **kwargs),\n",
    "                functools.partial(setter, **kwargs),\n",
    "            ) \n",
    "        \n",
    "        return type(\"StorageImpl\", (np.ndarray,), {**properties, \"__module__\": __name__})(shape)\n",
    "\n",
    "    @staticmethod\n",
    "    def make_state():\n",
    "        \"\"\" returns a newly allocated unit-aware storage \"\"\"\n",
    "        return Storage.__make_storage((len(Storage.var_units),))\n",
    "\n",
    "    @staticmethod\n",
    "    def make_deriv(state):\n",
    "        \"\"\" returns a newly allocated unit-aware storage with size of `state` and derivative dimensions \"\"\"\n",
    "        return Storage.__make_storage(state.shape, deriv=True)\n",
    "\n",
    "    @staticmethod\n",
    "    def view_state(array):\n",
    "        \"\"\" returns a newly allocated unit-aware storage with size and data from unit-unaware `array` \"\"\"\n",
    "        storage = Storage.__make_storage(array.shape)\n",
    "        storage[:] = array[:]\n",
    "        return storage"
   ],
   "outputs": [],
   "execution_count": 14
  },
  {
   "cell_type": "code",
   "id": "69a2d947-8581-4382-9939-07088584933b",
   "metadata": {
    "ExecuteTime": {
     "end_time": "2025-05-31T22:04:02.808299Z",
     "start_time": "2025-05-31T22:04:02.788508Z"
    }
   },
   "source": [
    "# constants (coefficients with modified 10 exponents to match SI units)\n",
    "C = {\n",
    "    # gas constant for dry air\n",
    "    \"R\": const.R * si.joule / si.kelvin / si.mole / (\n",
    "        0.76 * chempy.Substance.from_formula(\"N2\").mass * si.gram / si.mole\n",
    "        + 0.23 * chempy.Substance.from_formula(\"O2\").mass * si.gram / si.mole\n",
    "        + 0.01 * chempy.Substance.from_formula(\"Ar\").mass * si.gram / si.mole\n",
    "    ),\n",
    "    # standard acceleration of gravity\n",
    "    \"g\": const.g * si.metre / si.second**2,\n",
    "    # latent heat of condensation\n",
    "    \"L\": 2.5e3 * si.J / si.g,\n",
    "    # specific gravity of vapour vs. dry air\n",
    "    \"eps\": .622,\n",
    "    # specific heat at constant pressure of dry air\n",
    "    \"cp\": 1005 * si.joule / si.kilogram / si.kelvin,\n",
    "    # density of liquid water\n",
    "    \"rho_L\": 1 * si.kg / si.litre,\n",
    "    # eq A.1\n",
    "    \"K\": lambda T: 2.42e-2 * (393/(T.to(si.K).magnitude + 120)) * (T.to(si.K).magnitude/273)**(3/2) * si.J / si.m / si.s / si.K,\n",
    "    # eq A.2\n",
    "    \"D_over_K\": lambda p, T: 8.28 / 2.42 * T.to(si.K).magnitude / p.to(si.dyne / si.cm**2).magnitude * si.m**3 / si.J * si.K,\n",
    "    # eq A.3\n",
    "    \"e_s\": lambda T: 2.75e12 * np.exp(-5.44e3 / (T/si.K)) * si.ubar,\n",
    "}\n",
    "C = collections.namedtuple(\"C\", C.keys())(**C)"
   ],
   "outputs": [],
   "execution_count": 15
  },
  {
   "cell_type": "code",
   "id": "7d9b98c0-971c-41a0-87c2-f7adcfc958a1",
   "metadata": {
    "ExecuteTime": {
     "end_time": "2025-05-31T22:04:02.822694Z",
     "start_time": "2025-05-31T22:04:02.814783Z"
    }
   },
   "source": [
    "np.testing.assert_approx_equal(actual=C.e_s(273.15 * si.K).to(si.mbar).magnitude, desired=6.1, significant=2)\n",
    "np.testing.assert_approx_equal(actual=C.K(273.15 * si.K).to(si.J / si.m / si.s / si.K).magnitude, desired=2.4e-2, significant=2)\n",
    "np.testing.assert_approx_equal(\n",
    "    actual=(C.K(169.75 * si.K) * C.D_over_K(1000 * si.hPa, 169.75 * si.K)).to(si.m**2 / si.s).magnitude,\n",
    "    desired=9.34e-6,\n",
    "    significant=2\n",
    ")"
   ],
   "outputs": [],
   "execution_count": 16
  },
  {
   "cell_type": "code",
   "id": "d2011171-3291-4c0e-ad4e-23ba8bf25f52",
   "metadata": {
    "ExecuteTime": {
     "end_time": "2025-05-31T22:04:02.831038Z",
     "start_time": "2025-05-31T22:04:02.827859Z"
    }
   },
   "source": [
    "class System: # pylint: disable=too-few-public-methods\n",
    "    \"\"\" ODE system \"\"\"\n",
    "    def __init__(self, *, U, nu_0):\n",
    "        self.U = U\n",
    "        self.nu_0 = nu_0\n",
    "\n",
    "    def __call__(self, _, state):\n",
    "        state = Storage.view_state(state)\n",
    "        deriv = Storage.make_deriv(state)\n",
    "\n",
    "        # eq (8)\n",
    "        rho = state.p / C.R / state.T\n",
    "        \n",
    "        # eq (5) multiplied by Δt\n",
    "        deriv.p = -rho * C.g * self.U \n",
    "\n",
    "        # eq (2)\n",
    "        K = C.K(state.T)\n",
    "        Fk = C.L**2 * C.eps * C.rho_L / K / C.R / state.T**2\n",
    "        Fd = C.R * state.T * C.rho_L / C.eps / C.D_over_K(state.p, state.T) / K / C.e_s(state.T)\n",
    "        sigma = (state.S - 1) / (Fk + Fd)\n",
    "        \n",
    "        # eq (1)\n",
    "        deriv.r = sigma / state.r\n",
    "        \n",
    "        # time derivative of eq (4)\n",
    "        dksi_dt = 4 * np.pi * C.rho_L * self.nu_0 * state.r**2 * deriv.r\n",
    "        \n",
    "        # eq (6) divided by dt, multiplied by T\n",
    "        deriv.T = (\n",
    "            state.T * C.R / C.cp * deriv.p / state.p + \n",
    "            C.L / C.cp * dksi_dt\n",
    "        )\n",
    "\n",
    "        # eq (10)\n",
    "        Q1 = C.L * C.g * C.eps / C.R / C.cp / state.T**2 - C.g / C.R / state.T\n",
    "        Q2 = C.R * state.T / C.eps / C.e_s(state.T) + C.eps * C.L**2 / C.cp / state.T / state.p\n",
    "        deriv.S = Q1 * self.U - rho * Q2 * dksi_dt\n",
    "        \n",
    "        return deriv"
   ],
   "outputs": [],
   "execution_count": 17
  },
  {
   "cell_type": "code",
   "id": "0dc34252-4ac9-4d23-89f5-793239183eb7",
   "metadata": {
    "ExecuteTime": {
     "end_time": "2025-05-31T22:04:02.837783Z",
     "start_time": "2025-05-31T22:04:02.835253Z"
    }
   },
   "source": [
    "def solve(system, state, t_max, max_step):\n",
    "    integ = scipy.integrate.solve_ivp(\n",
    "        system,\n",
    "        [0, t_max / Storage.der_unit],\n",
    "        state,\n",
    "        max_step=max_step.to(Storage.der_unit).magnitude,\n",
    "        method='LSODA'\n",
    "    )\n",
    "    assert integ.success, integ.message\n",
    "    return Storage.view_state(integ.y), integ.t * Storage.der_unit"
   ],
   "outputs": [],
   "execution_count": 18
  },
  {
   "cell_type": "code",
   "id": "ceff8ab7-8b6d-46a1-83e8-83b2fc893380",
   "metadata": {
    "ExecuteTime": {
     "end_time": "2025-05-31T22:04:02.949536Z",
     "start_time": "2025-05-31T22:04:02.845319Z"
    }
   },
   "source": [
    "storage_state = Storage.make_state()\n",
    "storage_state.p = 800 * si.mbar\n",
    "storage_state.T = (273.15 + 7) * si.K\n",
    "storage_state.S = 1 * si.dimensionless\n",
    "storage_state.r = 8 * si.um\n",
    "\n",
    "rho0 = storage_state.p / C.R / storage_state.T\n",
    "ode_system = System(U=10 * si.m / si.s, nu_0=200 / si.cm**3 / rho0)\n",
    "solution, tsteps = solve(ode_system, storage_state, t_max=20 * si.s, max_step=.5 * si.s)"
   ],
   "outputs": [],
   "execution_count": 19
  },
  {
   "cell_type": "code",
   "id": "f00aa5f8-219a-41dd-98fd-c8a411a502b9",
   "metadata": {
    "ExecuteTime": {
     "end_time": "2025-05-31T22:04:03.158032Z",
     "start_time": "2025-05-31T22:04:02.953629Z"
    }
   },
   "source": [
    "fig, ax = pyplot.subplots(1, 1, figsize=(8, 4))\n",
    "\n",
    "ax.plot(tsteps, solution.S-1, label='supersaturation', color='red', linestyle=':')\n",
    "ax.yaxis.set_units(si.percent)\n",
    "\n",
    "tx = ax.twinx()\n",
    "tx.plot(tsteps, solution.r, label='radius')\n",
    "tx.yaxis.set_units(si.um)\n",
    "\n",
    "ax.legend(loc='upper left')\n",
    "tx.legend(loc='lower right')\n",
    "ax.grid()\n",
    "\n",
    "ax.set_xticks(range(0, 21, 2))\n",
    "ax.set_xlim(tsteps[0], tsteps[-1])\n",
    "ax.set_ylim(0, 1.1)\n",
    "tx.set_ylim(8, 10.2)\n",
    "tx.set_yticks(range(8, 11))\n",
    "\n",
    "show_plot('fig_1')"
   ],
   "outputs": [
    {
     "data": {
      "text/plain": [
       "<Figure size 800x400 with 2 Axes>"
      ],
      "image/svg+xml": "<?xml version=\"1.0\" encoding=\"utf-8\" standalone=\"no\"?>\n<!DOCTYPE svg PUBLIC \"-//W3C//DTD SVG 1.1//EN\"\n  \"http://www.w3.org/Graphics/SVG/1.1/DTD/svg11.dtd\">\n<svg xmlns:xlink=\"http://www.w3.org/1999/xlink\" width=\"530.784375pt\" height=\"266.51625pt\" viewBox=\"0 0 530.784375 266.51625\" xmlns=\"http://www.w3.org/2000/svg\" version=\"1.1\">\n <metadata>\n  <rdf:RDF xmlns:dc=\"http://purl.org/dc/elements/1.1/\" xmlns:cc=\"http://creativecommons.org/ns#\" xmlns:rdf=\"http://www.w3.org/1999/02/22-rdf-syntax-ns#\">\n   <cc:Work>\n    <dc:type rdf:resource=\"http://purl.org/dc/dcmitype/StillImage\"/>\n    <dc:date>2025-06-01T00:04:03.139525</dc:date>\n    <dc:format>image/svg+xml</dc:format>\n    <dc:creator>\n     <cc:Agent>\n      <dc:title>Matplotlib v3.10.0, https://matplotlib.org/</dc:title>\n     </cc:Agent>\n    </dc:creator>\n   </cc:Work>\n  </rdf:RDF>\n </metadata>\n <defs>\n  <style type=\"text/css\">*{stroke-linejoin: round; stroke-linecap: butt}</style>\n </defs>\n <g id=\"figure_1\">\n  <g id=\"patch_1\">\n   <path d=\"M 0 266.51625 \nL 530.784375 266.51625 \nL 530.784375 0 \nL 0 0 \nz\n\" style=\"fill: #ffffff\"/>\n  </g>\n  <g id=\"axes_1\">\n   <g id=\"patch_2\">\n    <path d=\"M 43.78125 228.96 \nL 490.18125 228.96 \nL 490.18125 7.2 \nL 43.78125 7.2 \nz\n\" style=\"fill: #ffffff\"/>\n   </g>\n   <g id=\"matplotlib.axis_1\">\n    <g id=\"xtick_1\">\n     <g id=\"line2d_1\">\n      <path d=\"M 43.78125 228.96 \nL 43.78125 7.2 \n\" clip-path=\"url(#p64b103679b)\" style=\"fill: none; stroke: #b0b0b0; stroke-width: 0.8; stroke-linecap: square\"/>\n     </g>\n     <g id=\"line2d_2\">\n      <defs>\n       <path id=\"ma45e5a800f\" d=\"M 0 0 \nL 0 3.5 \n\" style=\"stroke: #000000; stroke-width: 0.8\"/>\n      </defs>\n      <g>\n       <use xlink:href=\"#ma45e5a800f\" x=\"43.78125\" y=\"228.96\" style=\"stroke: #000000; stroke-width: 0.8\"/>\n      </g>\n     </g>\n     <g id=\"text_1\">\n      <!-- 0 -->\n      <g transform=\"translate(40.6 243.558438) scale(0.1 -0.1)\">\n       <defs>\n        <path id=\"DejaVuSans-30\" d=\"M 2034 4250 \nQ 1547 4250 1301 3770 \nQ 1056 3291 1056 2328 \nQ 1056 1369 1301 889 \nQ 1547 409 2034 409 \nQ 2525 409 2770 889 \nQ 3016 1369 3016 2328 \nQ 3016 3291 2770 3770 \nQ 2525 4250 2034 4250 \nz\nM 2034 4750 \nQ 2819 4750 3233 4129 \nQ 3647 3509 3647 2328 \nQ 3647 1150 3233 529 \nQ 2819 -91 2034 -91 \nQ 1250 -91 836 529 \nQ 422 1150 422 2328 \nQ 422 3509 836 4129 \nQ 1250 4750 2034 4750 \nz\n\" transform=\"scale(0.015625)\"/>\n       </defs>\n       <use xlink:href=\"#DejaVuSans-30\"/>\n      </g>\n     </g>\n    </g>\n    <g id=\"xtick_2\">\n     <g id=\"line2d_3\">\n      <path d=\"M 88.42125 228.96 \nL 88.42125 7.2 \n\" clip-path=\"url(#p64b103679b)\" style=\"fill: none; stroke: #b0b0b0; stroke-width: 0.8; stroke-linecap: square\"/>\n     </g>\n     <g id=\"line2d_4\">\n      <g>\n       <use xlink:href=\"#ma45e5a800f\" x=\"88.42125\" y=\"228.96\" style=\"stroke: #000000; stroke-width: 0.8\"/>\n      </g>\n     </g>\n     <g id=\"text_2\">\n      <!-- 2 -->\n      <g transform=\"translate(85.24 243.558438) scale(0.1 -0.1)\">\n       <defs>\n        <path id=\"DejaVuSans-32\" d=\"M 1228 531 \nL 3431 531 \nL 3431 0 \nL 469 0 \nL 469 531 \nQ 828 903 1448 1529 \nQ 2069 2156 2228 2338 \nQ 2531 2678 2651 2914 \nQ 2772 3150 2772 3378 \nQ 2772 3750 2511 3984 \nQ 2250 4219 1831 4219 \nQ 1534 4219 1204 4116 \nQ 875 4013 500 3803 \nL 500 4441 \nQ 881 4594 1212 4672 \nQ 1544 4750 1819 4750 \nQ 2544 4750 2975 4387 \nQ 3406 4025 3406 3419 \nQ 3406 3131 3298 2873 \nQ 3191 2616 2906 2266 \nQ 2828 2175 2409 1742 \nQ 1991 1309 1228 531 \nz\n\" transform=\"scale(0.015625)\"/>\n       </defs>\n       <use xlink:href=\"#DejaVuSans-32\"/>\n      </g>\n     </g>\n    </g>\n    <g id=\"xtick_3\">\n     <g id=\"line2d_5\">\n      <path d=\"M 133.06125 228.96 \nL 133.06125 7.2 \n\" clip-path=\"url(#p64b103679b)\" style=\"fill: none; stroke: #b0b0b0; stroke-width: 0.8; stroke-linecap: square\"/>\n     </g>\n     <g id=\"line2d_6\">\n      <g>\n       <use xlink:href=\"#ma45e5a800f\" x=\"133.06125\" y=\"228.96\" style=\"stroke: #000000; stroke-width: 0.8\"/>\n      </g>\n     </g>\n     <g id=\"text_3\">\n      <!-- 4 -->\n      <g transform=\"translate(129.88 243.558438) scale(0.1 -0.1)\">\n       <defs>\n        <path id=\"DejaVuSans-34\" d=\"M 2419 4116 \nL 825 1625 \nL 2419 1625 \nL 2419 4116 \nz\nM 2253 4666 \nL 3047 4666 \nL 3047 1625 \nL 3713 1625 \nL 3713 1100 \nL 3047 1100 \nL 3047 0 \nL 2419 0 \nL 2419 1100 \nL 313 1100 \nL 313 1709 \nL 2253 4666 \nz\n\" transform=\"scale(0.015625)\"/>\n       </defs>\n       <use xlink:href=\"#DejaVuSans-34\"/>\n      </g>\n     </g>\n    </g>\n    <g id=\"xtick_4\">\n     <g id=\"line2d_7\">\n      <path d=\"M 177.70125 228.96 \nL 177.70125 7.2 \n\" clip-path=\"url(#p64b103679b)\" style=\"fill: none; stroke: #b0b0b0; stroke-width: 0.8; stroke-linecap: square\"/>\n     </g>\n     <g id=\"line2d_8\">\n      <g>\n       <use xlink:href=\"#ma45e5a800f\" x=\"177.70125\" y=\"228.96\" style=\"stroke: #000000; stroke-width: 0.8\"/>\n      </g>\n     </g>\n     <g id=\"text_4\">\n      <!-- 6 -->\n      <g transform=\"translate(174.52 243.558438) scale(0.1 -0.1)\">\n       <defs>\n        <path id=\"DejaVuSans-36\" d=\"M 2113 2584 \nQ 1688 2584 1439 2293 \nQ 1191 2003 1191 1497 \nQ 1191 994 1439 701 \nQ 1688 409 2113 409 \nQ 2538 409 2786 701 \nQ 3034 994 3034 1497 \nQ 3034 2003 2786 2293 \nQ 2538 2584 2113 2584 \nz\nM 3366 4563 \nL 3366 3988 \nQ 3128 4100 2886 4159 \nQ 2644 4219 2406 4219 \nQ 1781 4219 1451 3797 \nQ 1122 3375 1075 2522 \nQ 1259 2794 1537 2939 \nQ 1816 3084 2150 3084 \nQ 2853 3084 3261 2657 \nQ 3669 2231 3669 1497 \nQ 3669 778 3244 343 \nQ 2819 -91 2113 -91 \nQ 1303 -91 875 529 \nQ 447 1150 447 2328 \nQ 447 3434 972 4092 \nQ 1497 4750 2381 4750 \nQ 2619 4750 2861 4703 \nQ 3103 4656 3366 4563 \nz\n\" transform=\"scale(0.015625)\"/>\n       </defs>\n       <use xlink:href=\"#DejaVuSans-36\"/>\n      </g>\n     </g>\n    </g>\n    <g id=\"xtick_5\">\n     <g id=\"line2d_9\">\n      <path d=\"M 222.34125 228.96 \nL 222.34125 7.2 \n\" clip-path=\"url(#p64b103679b)\" style=\"fill: none; stroke: #b0b0b0; stroke-width: 0.8; stroke-linecap: square\"/>\n     </g>\n     <g id=\"line2d_10\">\n      <g>\n       <use xlink:href=\"#ma45e5a800f\" x=\"222.34125\" y=\"228.96\" style=\"stroke: #000000; stroke-width: 0.8\"/>\n      </g>\n     </g>\n     <g id=\"text_5\">\n      <!-- 8 -->\n      <g transform=\"translate(219.16 243.558438) scale(0.1 -0.1)\">\n       <defs>\n        <path id=\"DejaVuSans-38\" d=\"M 2034 2216 \nQ 1584 2216 1326 1975 \nQ 1069 1734 1069 1313 \nQ 1069 891 1326 650 \nQ 1584 409 2034 409 \nQ 2484 409 2743 651 \nQ 3003 894 3003 1313 \nQ 3003 1734 2745 1975 \nQ 2488 2216 2034 2216 \nz\nM 1403 2484 \nQ 997 2584 770 2862 \nQ 544 3141 544 3541 \nQ 544 4100 942 4425 \nQ 1341 4750 2034 4750 \nQ 2731 4750 3128 4425 \nQ 3525 4100 3525 3541 \nQ 3525 3141 3298 2862 \nQ 3072 2584 2669 2484 \nQ 3125 2378 3379 2068 \nQ 3634 1759 3634 1313 \nQ 3634 634 3220 271 \nQ 2806 -91 2034 -91 \nQ 1263 -91 848 271 \nQ 434 634 434 1313 \nQ 434 1759 690 2068 \nQ 947 2378 1403 2484 \nz\nM 1172 3481 \nQ 1172 3119 1398 2916 \nQ 1625 2713 2034 2713 \nQ 2441 2713 2670 2916 \nQ 2900 3119 2900 3481 \nQ 2900 3844 2670 4047 \nQ 2441 4250 2034 4250 \nQ 1625 4250 1398 4047 \nQ 1172 3844 1172 3481 \nz\n\" transform=\"scale(0.015625)\"/>\n       </defs>\n       <use xlink:href=\"#DejaVuSans-38\"/>\n      </g>\n     </g>\n    </g>\n    <g id=\"xtick_6\">\n     <g id=\"line2d_11\">\n      <path d=\"M 266.98125 228.96 \nL 266.98125 7.2 \n\" clip-path=\"url(#p64b103679b)\" style=\"fill: none; stroke: #b0b0b0; stroke-width: 0.8; stroke-linecap: square\"/>\n     </g>\n     <g id=\"line2d_12\">\n      <g>\n       <use xlink:href=\"#ma45e5a800f\" x=\"266.98125\" y=\"228.96\" style=\"stroke: #000000; stroke-width: 0.8\"/>\n      </g>\n     </g>\n     <g id=\"text_6\">\n      <!-- 10 -->\n      <g transform=\"translate(260.61875 243.558438) scale(0.1 -0.1)\">\n       <defs>\n        <path id=\"DejaVuSans-31\" d=\"M 794 531 \nL 1825 531 \nL 1825 4091 \nL 703 3866 \nL 703 4441 \nL 1819 4666 \nL 2450 4666 \nL 2450 531 \nL 3481 531 \nL 3481 0 \nL 794 0 \nL 794 531 \nz\n\" transform=\"scale(0.015625)\"/>\n       </defs>\n       <use xlink:href=\"#DejaVuSans-31\"/>\n       <use xlink:href=\"#DejaVuSans-30\" transform=\"translate(63.623047 0)\"/>\n      </g>\n     </g>\n    </g>\n    <g id=\"xtick_7\">\n     <g id=\"line2d_13\">\n      <path d=\"M 311.62125 228.96 \nL 311.62125 7.2 \n\" clip-path=\"url(#p64b103679b)\" style=\"fill: none; stroke: #b0b0b0; stroke-width: 0.8; stroke-linecap: square\"/>\n     </g>\n     <g id=\"line2d_14\">\n      <g>\n       <use xlink:href=\"#ma45e5a800f\" x=\"311.62125\" y=\"228.96\" style=\"stroke: #000000; stroke-width: 0.8\"/>\n      </g>\n     </g>\n     <g id=\"text_7\">\n      <!-- 12 -->\n      <g transform=\"translate(305.25875 243.558438) scale(0.1 -0.1)\">\n       <use xlink:href=\"#DejaVuSans-31\"/>\n       <use xlink:href=\"#DejaVuSans-32\" transform=\"translate(63.623047 0)\"/>\n      </g>\n     </g>\n    </g>\n    <g id=\"xtick_8\">\n     <g id=\"line2d_15\">\n      <path d=\"M 356.26125 228.96 \nL 356.26125 7.2 \n\" clip-path=\"url(#p64b103679b)\" style=\"fill: none; stroke: #b0b0b0; stroke-width: 0.8; stroke-linecap: square\"/>\n     </g>\n     <g id=\"line2d_16\">\n      <g>\n       <use xlink:href=\"#ma45e5a800f\" x=\"356.26125\" y=\"228.96\" style=\"stroke: #000000; stroke-width: 0.8\"/>\n      </g>\n     </g>\n     <g id=\"text_8\">\n      <!-- 14 -->\n      <g transform=\"translate(349.89875 243.558438) scale(0.1 -0.1)\">\n       <use xlink:href=\"#DejaVuSans-31\"/>\n       <use xlink:href=\"#DejaVuSans-34\" transform=\"translate(63.623047 0)\"/>\n      </g>\n     </g>\n    </g>\n    <g id=\"xtick_9\">\n     <g id=\"line2d_17\">\n      <path d=\"M 400.90125 228.96 \nL 400.90125 7.2 \n\" clip-path=\"url(#p64b103679b)\" style=\"fill: none; stroke: #b0b0b0; stroke-width: 0.8; stroke-linecap: square\"/>\n     </g>\n     <g id=\"line2d_18\">\n      <g>\n       <use xlink:href=\"#ma45e5a800f\" x=\"400.90125\" y=\"228.96\" style=\"stroke: #000000; stroke-width: 0.8\"/>\n      </g>\n     </g>\n     <g id=\"text_9\">\n      <!-- 16 -->\n      <g transform=\"translate(394.53875 243.558438) scale(0.1 -0.1)\">\n       <use xlink:href=\"#DejaVuSans-31\"/>\n       <use xlink:href=\"#DejaVuSans-36\" transform=\"translate(63.623047 0)\"/>\n      </g>\n     </g>\n    </g>\n    <g id=\"xtick_10\">\n     <g id=\"line2d_19\">\n      <path d=\"M 445.54125 228.96 \nL 445.54125 7.2 \n\" clip-path=\"url(#p64b103679b)\" style=\"fill: none; stroke: #b0b0b0; stroke-width: 0.8; stroke-linecap: square\"/>\n     </g>\n     <g id=\"line2d_20\">\n      <g>\n       <use xlink:href=\"#ma45e5a800f\" x=\"445.54125\" y=\"228.96\" style=\"stroke: #000000; stroke-width: 0.8\"/>\n      </g>\n     </g>\n     <g id=\"text_10\">\n      <!-- 18 -->\n      <g transform=\"translate(439.17875 243.558438) scale(0.1 -0.1)\">\n       <use xlink:href=\"#DejaVuSans-31\"/>\n       <use xlink:href=\"#DejaVuSans-38\" transform=\"translate(63.623047 0)\"/>\n      </g>\n     </g>\n    </g>\n    <g id=\"xtick_11\">\n     <g id=\"line2d_21\">\n      <path d=\"M 490.18125 228.96 \nL 490.18125 7.2 \n\" clip-path=\"url(#p64b103679b)\" style=\"fill: none; stroke: #b0b0b0; stroke-width: 0.8; stroke-linecap: square\"/>\n     </g>\n     <g id=\"line2d_22\">\n      <g>\n       <use xlink:href=\"#ma45e5a800f\" x=\"490.18125\" y=\"228.96\" style=\"stroke: #000000; stroke-width: 0.8\"/>\n      </g>\n     </g>\n     <g id=\"text_11\">\n      <!-- 20 -->\n      <g transform=\"translate(483.81875 243.558438) scale(0.1 -0.1)\">\n       <use xlink:href=\"#DejaVuSans-32\"/>\n       <use xlink:href=\"#DejaVuSans-30\" transform=\"translate(63.623047 0)\"/>\n      </g>\n     </g>\n    </g>\n    <g id=\"text_12\">\n     <!-- second -->\n     <g transform=\"translate(249.148438 257.236562) scale(0.1 -0.1)\">\n      <defs>\n       <path id=\"DejaVuSans-73\" d=\"M 2834 3397 \nL 2834 2853 \nQ 2591 2978 2328 3040 \nQ 2066 3103 1784 3103 \nQ 1356 3103 1142 2972 \nQ 928 2841 928 2578 \nQ 928 2378 1081 2264 \nQ 1234 2150 1697 2047 \nL 1894 2003 \nQ 2506 1872 2764 1633 \nQ 3022 1394 3022 966 \nQ 3022 478 2636 193 \nQ 2250 -91 1575 -91 \nQ 1294 -91 989 -36 \nQ 684 19 347 128 \nL 347 722 \nQ 666 556 975 473 \nQ 1284 391 1588 391 \nQ 1994 391 2212 530 \nQ 2431 669 2431 922 \nQ 2431 1156 2273 1281 \nQ 2116 1406 1581 1522 \nL 1381 1569 \nQ 847 1681 609 1914 \nQ 372 2147 372 2553 \nQ 372 3047 722 3315 \nQ 1072 3584 1716 3584 \nQ 2034 3584 2315 3537 \nQ 2597 3491 2834 3397 \nz\n\" transform=\"scale(0.015625)\"/>\n       <path id=\"DejaVuSans-65\" d=\"M 3597 1894 \nL 3597 1613 \nL 953 1613 \nQ 991 1019 1311 708 \nQ 1631 397 2203 397 \nQ 2534 397 2845 478 \nQ 3156 559 3463 722 \nL 3463 178 \nQ 3153 47 2828 -22 \nQ 2503 -91 2169 -91 \nQ 1331 -91 842 396 \nQ 353 884 353 1716 \nQ 353 2575 817 3079 \nQ 1281 3584 2069 3584 \nQ 2775 3584 3186 3129 \nQ 3597 2675 3597 1894 \nz\nM 3022 2063 \nQ 3016 2534 2758 2815 \nQ 2500 3097 2075 3097 \nQ 1594 3097 1305 2825 \nQ 1016 2553 972 2059 \nL 3022 2063 \nz\n\" transform=\"scale(0.015625)\"/>\n       <path id=\"DejaVuSans-63\" d=\"M 3122 3366 \nL 3122 2828 \nQ 2878 2963 2633 3030 \nQ 2388 3097 2138 3097 \nQ 1578 3097 1268 2742 \nQ 959 2388 959 1747 \nQ 959 1106 1268 751 \nQ 1578 397 2138 397 \nQ 2388 397 2633 464 \nQ 2878 531 3122 666 \nL 3122 134 \nQ 2881 22 2623 -34 \nQ 2366 -91 2075 -91 \nQ 1284 -91 818 406 \nQ 353 903 353 1747 \nQ 353 2603 823 3093 \nQ 1294 3584 2113 3584 \nQ 2378 3584 2631 3529 \nQ 2884 3475 3122 3366 \nz\n\" transform=\"scale(0.015625)\"/>\n       <path id=\"DejaVuSans-6f\" d=\"M 1959 3097 \nQ 1497 3097 1228 2736 \nQ 959 2375 959 1747 \nQ 959 1119 1226 758 \nQ 1494 397 1959 397 \nQ 2419 397 2687 759 \nQ 2956 1122 2956 1747 \nQ 2956 2369 2687 2733 \nQ 2419 3097 1959 3097 \nz\nM 1959 3584 \nQ 2709 3584 3137 3096 \nQ 3566 2609 3566 1747 \nQ 3566 888 3137 398 \nQ 2709 -91 1959 -91 \nQ 1206 -91 779 398 \nQ 353 888 353 1747 \nQ 353 2609 779 3096 \nQ 1206 3584 1959 3584 \nz\n\" transform=\"scale(0.015625)\"/>\n       <path id=\"DejaVuSans-6e\" d=\"M 3513 2113 \nL 3513 0 \nL 2938 0 \nL 2938 2094 \nQ 2938 2591 2744 2837 \nQ 2550 3084 2163 3084 \nQ 1697 3084 1428 2787 \nQ 1159 2491 1159 1978 \nL 1159 0 \nL 581 0 \nL 581 3500 \nL 1159 3500 \nL 1159 2956 \nQ 1366 3272 1645 3428 \nQ 1925 3584 2291 3584 \nQ 2894 3584 3203 3211 \nQ 3513 2838 3513 2113 \nz\n\" transform=\"scale(0.015625)\"/>\n       <path id=\"DejaVuSans-64\" d=\"M 2906 2969 \nL 2906 4863 \nL 3481 4863 \nL 3481 0 \nL 2906 0 \nL 2906 525 \nQ 2725 213 2448 61 \nQ 2172 -91 1784 -91 \nQ 1150 -91 751 415 \nQ 353 922 353 1747 \nQ 353 2572 751 3078 \nQ 1150 3584 1784 3584 \nQ 2172 3584 2448 3432 \nQ 2725 3281 2906 2969 \nz\nM 947 1747 \nQ 947 1113 1208 752 \nQ 1469 391 1925 391 \nQ 2381 391 2643 752 \nQ 2906 1113 2906 1747 \nQ 2906 2381 2643 2742 \nQ 2381 3103 1925 3103 \nQ 1469 3103 1208 2742 \nQ 947 2381 947 1747 \nz\n\" transform=\"scale(0.015625)\"/>\n      </defs>\n      <use xlink:href=\"#DejaVuSans-73\"/>\n      <use xlink:href=\"#DejaVuSans-65\" transform=\"translate(52.099609 0)\"/>\n      <use xlink:href=\"#DejaVuSans-63\" transform=\"translate(113.623047 0)\"/>\n      <use xlink:href=\"#DejaVuSans-6f\" transform=\"translate(168.603516 0)\"/>\n      <use xlink:href=\"#DejaVuSans-6e\" transform=\"translate(229.785156 0)\"/>\n      <use xlink:href=\"#DejaVuSans-64\" transform=\"translate(293.164062 0)\"/>\n     </g>\n    </g>\n   </g>\n   <g id=\"matplotlib.axis_2\">\n    <g id=\"ytick_1\">\n     <g id=\"line2d_23\">\n      <path d=\"M 43.78125 228.96 \nL 490.18125 228.96 \n\" clip-path=\"url(#p64b103679b)\" style=\"fill: none; stroke: #b0b0b0; stroke-width: 0.8; stroke-linecap: square\"/>\n     </g>\n     <g id=\"line2d_24\">\n      <defs>\n       <path id=\"m44cda5b68f\" d=\"M 0 0 \nL -3.5 0 \n\" style=\"stroke: #000000; stroke-width: 0.8\"/>\n      </defs>\n      <g>\n       <use xlink:href=\"#m44cda5b68f\" x=\"43.78125\" y=\"228.96\" style=\"stroke: #000000; stroke-width: 0.8\"/>\n      </g>\n     </g>\n     <g id=\"text_13\">\n      <!-- 0.0 -->\n      <g transform=\"translate(20.878125 232.759219) scale(0.1 -0.1)\">\n       <defs>\n        <path id=\"DejaVuSans-2e\" d=\"M 684 794 \nL 1344 794 \nL 1344 0 \nL 684 0 \nL 684 794 \nz\n\" transform=\"scale(0.015625)\"/>\n       </defs>\n       <use xlink:href=\"#DejaVuSans-30\"/>\n       <use xlink:href=\"#DejaVuSans-2e\" transform=\"translate(63.623047 0)\"/>\n       <use xlink:href=\"#DejaVuSans-30\" transform=\"translate(95.410156 0)\"/>\n      </g>\n     </g>\n    </g>\n    <g id=\"ytick_2\">\n     <g id=\"line2d_25\">\n      <path d=\"M 43.78125 188.64 \nL 490.18125 188.64 \n\" clip-path=\"url(#p64b103679b)\" style=\"fill: none; stroke: #b0b0b0; stroke-width: 0.8; stroke-linecap: square\"/>\n     </g>\n     <g id=\"line2d_26\">\n      <g>\n       <use xlink:href=\"#m44cda5b68f\" x=\"43.78125\" y=\"188.64\" style=\"stroke: #000000; stroke-width: 0.8\"/>\n      </g>\n     </g>\n     <g id=\"text_14\">\n      <!-- 0.2 -->\n      <g transform=\"translate(20.878125 192.439219) scale(0.1 -0.1)\">\n       <use xlink:href=\"#DejaVuSans-30\"/>\n       <use xlink:href=\"#DejaVuSans-2e\" transform=\"translate(63.623047 0)\"/>\n       <use xlink:href=\"#DejaVuSans-32\" transform=\"translate(95.410156 0)\"/>\n      </g>\n     </g>\n    </g>\n    <g id=\"ytick_3\">\n     <g id=\"line2d_27\">\n      <path d=\"M 43.78125 148.32 \nL 490.18125 148.32 \n\" clip-path=\"url(#p64b103679b)\" style=\"fill: none; stroke: #b0b0b0; stroke-width: 0.8; stroke-linecap: square\"/>\n     </g>\n     <g id=\"line2d_28\">\n      <g>\n       <use xlink:href=\"#m44cda5b68f\" x=\"43.78125\" y=\"148.32\" style=\"stroke: #000000; stroke-width: 0.8\"/>\n      </g>\n     </g>\n     <g id=\"text_15\">\n      <!-- 0.4 -->\n      <g transform=\"translate(20.878125 152.119219) scale(0.1 -0.1)\">\n       <use xlink:href=\"#DejaVuSans-30\"/>\n       <use xlink:href=\"#DejaVuSans-2e\" transform=\"translate(63.623047 0)\"/>\n       <use xlink:href=\"#DejaVuSans-34\" transform=\"translate(95.410156 0)\"/>\n      </g>\n     </g>\n    </g>\n    <g id=\"ytick_4\">\n     <g id=\"line2d_29\">\n      <path d=\"M 43.78125 108 \nL 490.18125 108 \n\" clip-path=\"url(#p64b103679b)\" style=\"fill: none; stroke: #b0b0b0; stroke-width: 0.8; stroke-linecap: square\"/>\n     </g>\n     <g id=\"line2d_30\">\n      <g>\n       <use xlink:href=\"#m44cda5b68f\" x=\"43.78125\" y=\"108\" style=\"stroke: #000000; stroke-width: 0.8\"/>\n      </g>\n     </g>\n     <g id=\"text_16\">\n      <!-- 0.6 -->\n      <g transform=\"translate(20.878125 111.799219) scale(0.1 -0.1)\">\n       <use xlink:href=\"#DejaVuSans-30\"/>\n       <use xlink:href=\"#DejaVuSans-2e\" transform=\"translate(63.623047 0)\"/>\n       <use xlink:href=\"#DejaVuSans-36\" transform=\"translate(95.410156 0)\"/>\n      </g>\n     </g>\n    </g>\n    <g id=\"ytick_5\">\n     <g id=\"line2d_31\">\n      <path d=\"M 43.78125 67.68 \nL 490.18125 67.68 \n\" clip-path=\"url(#p64b103679b)\" style=\"fill: none; stroke: #b0b0b0; stroke-width: 0.8; stroke-linecap: square\"/>\n     </g>\n     <g id=\"line2d_32\">\n      <g>\n       <use xlink:href=\"#m44cda5b68f\" x=\"43.78125\" y=\"67.68\" style=\"stroke: #000000; stroke-width: 0.8\"/>\n      </g>\n     </g>\n     <g id=\"text_17\">\n      <!-- 0.8 -->\n      <g transform=\"translate(20.878125 71.479219) scale(0.1 -0.1)\">\n       <use xlink:href=\"#DejaVuSans-30\"/>\n       <use xlink:href=\"#DejaVuSans-2e\" transform=\"translate(63.623047 0)\"/>\n       <use xlink:href=\"#DejaVuSans-38\" transform=\"translate(95.410156 0)\"/>\n      </g>\n     </g>\n    </g>\n    <g id=\"ytick_6\">\n     <g id=\"line2d_33\">\n      <path d=\"M 43.78125 27.36 \nL 490.18125 27.36 \n\" clip-path=\"url(#p64b103679b)\" style=\"fill: none; stroke: #b0b0b0; stroke-width: 0.8; stroke-linecap: square\"/>\n     </g>\n     <g id=\"line2d_34\">\n      <g>\n       <use xlink:href=\"#m44cda5b68f\" x=\"43.78125\" y=\"27.36\" style=\"stroke: #000000; stroke-width: 0.8\"/>\n      </g>\n     </g>\n     <g id=\"text_18\">\n      <!-- 1.0 -->\n      <g transform=\"translate(20.878125 31.159219) scale(0.1 -0.1)\">\n       <use xlink:href=\"#DejaVuSans-31\"/>\n       <use xlink:href=\"#DejaVuSans-2e\" transform=\"translate(63.623047 0)\"/>\n       <use xlink:href=\"#DejaVuSans-30\" transform=\"translate(95.410156 0)\"/>\n      </g>\n     </g>\n    </g>\n    <g id=\"text_19\">\n     <!-- percent -->\n     <g transform=\"translate(14.798438 137.228437) rotate(-90) scale(0.1 -0.1)\">\n      <defs>\n       <path id=\"DejaVuSans-70\" d=\"M 1159 525 \nL 1159 -1331 \nL 581 -1331 \nL 581 3500 \nL 1159 3500 \nL 1159 2969 \nQ 1341 3281 1617 3432 \nQ 1894 3584 2278 3584 \nQ 2916 3584 3314 3078 \nQ 3713 2572 3713 1747 \nQ 3713 922 3314 415 \nQ 2916 -91 2278 -91 \nQ 1894 -91 1617 61 \nQ 1341 213 1159 525 \nz\nM 3116 1747 \nQ 3116 2381 2855 2742 \nQ 2594 3103 2138 3103 \nQ 1681 3103 1420 2742 \nQ 1159 2381 1159 1747 \nQ 1159 1113 1420 752 \nQ 1681 391 2138 391 \nQ 2594 391 2855 752 \nQ 3116 1113 3116 1747 \nz\n\" transform=\"scale(0.015625)\"/>\n       <path id=\"DejaVuSans-72\" d=\"M 2631 2963 \nQ 2534 3019 2420 3045 \nQ 2306 3072 2169 3072 \nQ 1681 3072 1420 2755 \nQ 1159 2438 1159 1844 \nL 1159 0 \nL 581 0 \nL 581 3500 \nL 1159 3500 \nL 1159 2956 \nQ 1341 3275 1631 3429 \nQ 1922 3584 2338 3584 \nQ 2397 3584 2469 3576 \nQ 2541 3569 2628 3553 \nL 2631 2963 \nz\n\" transform=\"scale(0.015625)\"/>\n       <path id=\"DejaVuSans-74\" d=\"M 1172 4494 \nL 1172 3500 \nL 2356 3500 \nL 2356 3053 \nL 1172 3053 \nL 1172 1153 \nQ 1172 725 1289 603 \nQ 1406 481 1766 481 \nL 2356 481 \nL 2356 0 \nL 1766 0 \nQ 1100 0 847 248 \nQ 594 497 594 1153 \nL 594 3053 \nL 172 3053 \nL 172 3500 \nL 594 3500 \nL 594 4494 \nL 1172 4494 \nz\n\" transform=\"scale(0.015625)\"/>\n      </defs>\n      <use xlink:href=\"#DejaVuSans-70\"/>\n      <use xlink:href=\"#DejaVuSans-65\" transform=\"translate(63.476562 0)\"/>\n      <use xlink:href=\"#DejaVuSans-72\" transform=\"translate(125 0)\"/>\n      <use xlink:href=\"#DejaVuSans-63\" transform=\"translate(163.863281 0)\"/>\n      <use xlink:href=\"#DejaVuSans-65\" transform=\"translate(218.84375 0)\"/>\n      <use xlink:href=\"#DejaVuSans-6e\" transform=\"translate(280.367188 0)\"/>\n      <use xlink:href=\"#DejaVuSans-74\" transform=\"translate(343.746094 0)\"/>\n     </g>\n    </g>\n   </g>\n   <g id=\"line2d_35\">\n    <path d=\"M 43.78125 228.96 \nL 54.94125 184.111939 \nL 66.10125 148.848945 \nL 77.26125 118.188924 \nL 88.42125 95.296647 \nL 99.58125 77.979029 \nL 110.74125 64.941022 \nL 121.90125 55.217372 \nL 133.06125 48.051832 \nL 144.22125 42.856252 \nL 155.38125 39.17423 \nL 166.54125 36.651761 \nL 177.70125 35.014554 \nL 188.86125 34.050419 \nL 200.02125 33.595521 \nL 211.18125 33.523635 \nL 222.34125 33.73775 \nL 233.50125 34.163507 \nL 244.66125 34.744076 \nL 255.82125 35.43616 \nL 266.98125 36.206895 \nL 278.14125 37.031428 \nL 289.30125 37.888596 \nL 300.46125 38.767193 \nL 311.62125 39.657379 \nL 322.78125 40.55172 \nL 333.94125 41.440533 \nL 345.10125 42.320966 \nL 356.26125 43.190939 \nL 367.42125 44.048969 \nL 378.58125 44.894037 \nL 389.74125 45.725476 \nL 400.90125 46.542889 \nL 412.06125 47.346084 \nL 423.22125 48.135024 \nL 434.38125 48.916437 \nL 445.54125 49.683096 \nL 456.70125 50.435232 \nL 467.86125 51.173192 \nL 479.02125 51.897369 \nL 490.18125 52.608164 \n\" clip-path=\"url(#p64b103679b)\" style=\"fill: none; stroke-dasharray: 1.5,2.475; stroke-dashoffset: 0; stroke: #ff0000; stroke-width: 1.5\"/>\n   </g>\n   <g id=\"patch_3\">\n    <path d=\"M 43.78125 228.96 \nL 43.78125 7.2 \n\" style=\"fill: none; stroke: #000000; stroke-width: 0.8; stroke-linejoin: miter; stroke-linecap: square\"/>\n   </g>\n   <g id=\"patch_4\">\n    <path d=\"M 490.18125 228.96 \nL 490.18125 7.2 \n\" style=\"fill: none; stroke: #000000; stroke-width: 0.8; stroke-linejoin: miter; stroke-linecap: square\"/>\n   </g>\n   <g id=\"patch_5\">\n    <path d=\"M 43.78125 228.96 \nL 490.18125 228.96 \n\" style=\"fill: none; stroke: #000000; stroke-width: 0.8; stroke-linejoin: miter; stroke-linecap: square\"/>\n   </g>\n   <g id=\"patch_6\">\n    <path d=\"M 43.78125 7.2 \nL 490.18125 7.2 \n\" style=\"fill: none; stroke: #000000; stroke-width: 0.8; stroke-linejoin: miter; stroke-linecap: square\"/>\n   </g>\n   <g id=\"legend_1\">\n    <g id=\"patch_7\">\n     <path d=\"M 50.78125 29.878125 \nL 161.929688 29.878125 \nQ 163.929688 29.878125 163.929688 27.878125 \nL 163.929688 14.2 \nQ 163.929688 12.2 161.929688 12.2 \nL 50.78125 12.2 \nQ 48.78125 12.2 48.78125 14.2 \nL 48.78125 27.878125 \nQ 48.78125 29.878125 50.78125 29.878125 \nz\n\" style=\"fill: #ffffff; opacity: 0.8; stroke: #cccccc; stroke-linejoin: miter\"/>\n    </g>\n    <g id=\"line2d_36\">\n     <path d=\"M 52.78125 20.298437 \nL 62.78125 20.298437 \nL 72.78125 20.298437 \n\" style=\"fill: none; stroke-dasharray: 1.5,2.475; stroke-dashoffset: 0; stroke: #ff0000; stroke-width: 1.5\"/>\n    </g>\n    <g id=\"text_20\">\n     <!-- supersaturation -->\n     <g transform=\"translate(80.78125 23.798437) scale(0.1 -0.1)\">\n      <defs>\n       <path id=\"DejaVuSans-75\" d=\"M 544 1381 \nL 544 3500 \nL 1119 3500 \nL 1119 1403 \nQ 1119 906 1312 657 \nQ 1506 409 1894 409 \nQ 2359 409 2629 706 \nQ 2900 1003 2900 1516 \nL 2900 3500 \nL 3475 3500 \nL 3475 0 \nL 2900 0 \nL 2900 538 \nQ 2691 219 2414 64 \nQ 2138 -91 1772 -91 \nQ 1169 -91 856 284 \nQ 544 659 544 1381 \nz\nM 1991 3584 \nL 1991 3584 \nz\n\" transform=\"scale(0.015625)\"/>\n       <path id=\"DejaVuSans-61\" d=\"M 2194 1759 \nQ 1497 1759 1228 1600 \nQ 959 1441 959 1056 \nQ 959 750 1161 570 \nQ 1363 391 1709 391 \nQ 2188 391 2477 730 \nQ 2766 1069 2766 1631 \nL 2766 1759 \nL 2194 1759 \nz\nM 3341 1997 \nL 3341 0 \nL 2766 0 \nL 2766 531 \nQ 2569 213 2275 61 \nQ 1981 -91 1556 -91 \nQ 1019 -91 701 211 \nQ 384 513 384 1019 \nQ 384 1609 779 1909 \nQ 1175 2209 1959 2209 \nL 2766 2209 \nL 2766 2266 \nQ 2766 2663 2505 2880 \nQ 2244 3097 1772 3097 \nQ 1472 3097 1187 3025 \nQ 903 2953 641 2809 \nL 641 3341 \nQ 956 3463 1253 3523 \nQ 1550 3584 1831 3584 \nQ 2591 3584 2966 3190 \nQ 3341 2797 3341 1997 \nz\n\" transform=\"scale(0.015625)\"/>\n       <path id=\"DejaVuSans-69\" d=\"M 603 3500 \nL 1178 3500 \nL 1178 0 \nL 603 0 \nL 603 3500 \nz\nM 603 4863 \nL 1178 4863 \nL 1178 4134 \nL 603 4134 \nL 603 4863 \nz\n\" transform=\"scale(0.015625)\"/>\n      </defs>\n      <use xlink:href=\"#DejaVuSans-73\"/>\n      <use xlink:href=\"#DejaVuSans-75\" transform=\"translate(52.099609 0)\"/>\n      <use xlink:href=\"#DejaVuSans-70\" transform=\"translate(115.478516 0)\"/>\n      <use xlink:href=\"#DejaVuSans-65\" transform=\"translate(178.955078 0)\"/>\n      <use xlink:href=\"#DejaVuSans-72\" transform=\"translate(240.478516 0)\"/>\n      <use xlink:href=\"#DejaVuSans-73\" transform=\"translate(281.591797 0)\"/>\n      <use xlink:href=\"#DejaVuSans-61\" transform=\"translate(333.691406 0)\"/>\n      <use xlink:href=\"#DejaVuSans-74\" transform=\"translate(394.970703 0)\"/>\n      <use xlink:href=\"#DejaVuSans-75\" transform=\"translate(434.179688 0)\"/>\n      <use xlink:href=\"#DejaVuSans-72\" transform=\"translate(497.558594 0)\"/>\n      <use xlink:href=\"#DejaVuSans-61\" transform=\"translate(538.671875 0)\"/>\n      <use xlink:href=\"#DejaVuSans-74\" transform=\"translate(599.951172 0)\"/>\n      <use xlink:href=\"#DejaVuSans-69\" transform=\"translate(639.160156 0)\"/>\n      <use xlink:href=\"#DejaVuSans-6f\" transform=\"translate(666.943359 0)\"/>\n      <use xlink:href=\"#DejaVuSans-6e\" transform=\"translate(728.125 0)\"/>\n     </g>\n    </g>\n   </g>\n  </g>\n  <g id=\"axes_2\">\n   <g id=\"matplotlib.axis_3\">\n    <g id=\"ytick_7\">\n     <g id=\"line2d_37\">\n      <defs>\n       <path id=\"mb09e7a7678\" d=\"M 0 0 \nL 3.5 0 \n\" style=\"stroke: #000000; stroke-width: 0.8\"/>\n      </defs>\n      <g>\n       <use xlink:href=\"#mb09e7a7678\" x=\"490.18125\" y=\"228.96\" style=\"stroke: #000000; stroke-width: 0.8\"/>\n      </g>\n     </g>\n     <g id=\"text_21\">\n      <!-- 8 -->\n      <g transform=\"translate(497.18125 232.759219) scale(0.1 -0.1)\">\n       <use xlink:href=\"#DejaVuSans-38\"/>\n      </g>\n     </g>\n    </g>\n    <g id=\"ytick_8\">\n     <g id=\"line2d_38\">\n      <g>\n       <use xlink:href=\"#mb09e7a7678\" x=\"490.18125\" y=\"128.16\" style=\"stroke: #000000; stroke-width: 0.8\"/>\n      </g>\n     </g>\n     <g id=\"text_22\">\n      <!-- 9 -->\n      <g transform=\"translate(497.18125 131.959219) scale(0.1 -0.1)\">\n       <defs>\n        <path id=\"DejaVuSans-39\" d=\"M 703 97 \nL 703 672 \nQ 941 559 1184 500 \nQ 1428 441 1663 441 \nQ 2288 441 2617 861 \nQ 2947 1281 2994 2138 \nQ 2813 1869 2534 1725 \nQ 2256 1581 1919 1581 \nQ 1219 1581 811 2004 \nQ 403 2428 403 3163 \nQ 403 3881 828 4315 \nQ 1253 4750 1959 4750 \nQ 2769 4750 3195 4129 \nQ 3622 3509 3622 2328 \nQ 3622 1225 3098 567 \nQ 2575 -91 1691 -91 \nQ 1453 -91 1209 -44 \nQ 966 3 703 97 \nz\nM 1959 2075 \nQ 2384 2075 2632 2365 \nQ 2881 2656 2881 3163 \nQ 2881 3666 2632 3958 \nQ 2384 4250 1959 4250 \nQ 1534 4250 1286 3958 \nQ 1038 3666 1038 3163 \nQ 1038 2656 1286 2365 \nQ 1534 2075 1959 2075 \nz\n\" transform=\"scale(0.015625)\"/>\n       </defs>\n       <use xlink:href=\"#DejaVuSans-39\"/>\n      </g>\n     </g>\n    </g>\n    <g id=\"ytick_9\">\n     <g id=\"line2d_39\">\n      <g>\n       <use xlink:href=\"#mb09e7a7678\" x=\"490.18125\" y=\"27.36\" style=\"stroke: #000000; stroke-width: 0.8\"/>\n      </g>\n     </g>\n     <g id=\"text_23\">\n      <!-- 10 -->\n      <g transform=\"translate(497.18125 31.159219) scale(0.1 -0.1)\">\n       <use xlink:href=\"#DejaVuSans-31\"/>\n       <use xlink:href=\"#DejaVuSans-30\" transform=\"translate(63.623047 0)\"/>\n      </g>\n     </g>\n    </g>\n    <g id=\"text_24\">\n     <!-- micrometer -->\n     <g transform=\"translate(521.504688 147.13) rotate(-90) scale(0.1 -0.1)\">\n      <defs>\n       <path id=\"DejaVuSans-6d\" d=\"M 3328 2828 \nQ 3544 3216 3844 3400 \nQ 4144 3584 4550 3584 \nQ 5097 3584 5394 3201 \nQ 5691 2819 5691 2113 \nL 5691 0 \nL 5113 0 \nL 5113 2094 \nQ 5113 2597 4934 2840 \nQ 4756 3084 4391 3084 \nQ 3944 3084 3684 2787 \nQ 3425 2491 3425 1978 \nL 3425 0 \nL 2847 0 \nL 2847 2094 \nQ 2847 2600 2669 2842 \nQ 2491 3084 2119 3084 \nQ 1678 3084 1418 2786 \nQ 1159 2488 1159 1978 \nL 1159 0 \nL 581 0 \nL 581 3500 \nL 1159 3500 \nL 1159 2956 \nQ 1356 3278 1631 3431 \nQ 1906 3584 2284 3584 \nQ 2666 3584 2933 3390 \nQ 3200 3197 3328 2828 \nz\n\" transform=\"scale(0.015625)\"/>\n      </defs>\n      <use xlink:href=\"#DejaVuSans-6d\"/>\n      <use xlink:href=\"#DejaVuSans-69\" transform=\"translate(97.412109 0)\"/>\n      <use xlink:href=\"#DejaVuSans-63\" transform=\"translate(125.195312 0)\"/>\n      <use xlink:href=\"#DejaVuSans-72\" transform=\"translate(180.175781 0)\"/>\n      <use xlink:href=\"#DejaVuSans-6f\" transform=\"translate(219.039062 0)\"/>\n      <use xlink:href=\"#DejaVuSans-6d\" transform=\"translate(280.220703 0)\"/>\n      <use xlink:href=\"#DejaVuSans-65\" transform=\"translate(377.632812 0)\"/>\n      <use xlink:href=\"#DejaVuSans-74\" transform=\"translate(439.15625 0)\"/>\n      <use xlink:href=\"#DejaVuSans-65\" transform=\"translate(478.365234 0)\"/>\n      <use xlink:href=\"#DejaVuSans-72\" transform=\"translate(539.888672 0)\"/>\n     </g>\n    </g>\n   </g>\n   <g id=\"line2d_40\">\n    <path d=\"M 43.78125 228.96 \nL 54.94125 227.83189 \nL 66.10125 225.725769 \nL 77.26125 223.156534 \nL 88.42125 219.817524 \nL 99.58125 215.949027 \nL 110.74125 211.694921 \nL 121.90125 207.162021 \nL 133.06125 202.432997 \nL 144.22125 197.571088 \nL 155.38125 192.624355 \nL 166.54125 187.629151 \nL 177.70125 182.612807 \nL 188.86125 177.595735 \nL 200.02125 172.593042 \nL 211.18125 167.615787 \nL 222.34125 162.671954 \nL 233.50125 157.767189 \nL 244.66125 152.90538 \nL 255.82125 148.089089 \nL 266.98125 143.319891 \nL 278.14125 138.598626 \nL 289.30125 133.925587 \nL 300.46125 129.300588 \nL 311.62125 124.72325 \nL 322.78125 120.21647 \nL 333.94125 115.755574 \nL 345.10125 111.33968 \nL 356.26125 106.967879 \nL 367.42125 102.639255 \nL 378.58125 98.35289 \nL 389.74125 94.107873 \nL 400.90125 89.903308 \nL 412.06125 85.738314 \nL 423.22125 81.612032 \nL 434.38125 77.504729 \nL 445.54125 73.435049 \nL 456.70125 69.402214 \nL 467.86125 65.405438 \nL 479.02125 61.443951 \nL 490.18125 57.517005 \n\" clip-path=\"url(#p64b103679b)\" style=\"fill: none; stroke: #1f77b4; stroke-width: 1.5; stroke-linecap: square\"/>\n   </g>\n   <g id=\"patch_8\">\n    <path d=\"M 43.78125 228.96 \nL 43.78125 7.2 \n\" style=\"fill: none; stroke: #000000; stroke-width: 0.8; stroke-linejoin: miter; stroke-linecap: square\"/>\n   </g>\n   <g id=\"patch_9\">\n    <path d=\"M 490.18125 228.96 \nL 490.18125 7.2 \n\" style=\"fill: none; stroke: #000000; stroke-width: 0.8; stroke-linejoin: miter; stroke-linecap: square\"/>\n   </g>\n   <g id=\"patch_10\">\n    <path d=\"M 43.78125 228.96 \nL 490.18125 228.96 \n\" style=\"fill: none; stroke: #000000; stroke-width: 0.8; stroke-linejoin: miter; stroke-linecap: square\"/>\n   </g>\n   <g id=\"patch_11\">\n    <path d=\"M 43.78125 7.2 \nL 490.18125 7.2 \n\" style=\"fill: none; stroke: #000000; stroke-width: 0.8; stroke-linejoin: miter; stroke-linecap: square\"/>\n   </g>\n   <g id=\"legend_2\">\n    <g id=\"patch_12\">\n     <path d=\"M 420.26875 223.96 \nL 483.18125 223.96 \nQ 485.18125 223.96 485.18125 221.96 \nL 485.18125 208.281875 \nQ 485.18125 206.281875 483.18125 206.281875 \nL 420.26875 206.281875 \nQ 418.26875 206.281875 418.26875 208.281875 \nL 418.26875 221.96 \nQ 418.26875 223.96 420.26875 223.96 \nz\n\" style=\"fill: #ffffff; opacity: 0.8; stroke: #cccccc; stroke-linejoin: miter\"/>\n    </g>\n    <g id=\"line2d_41\">\n     <path d=\"M 422.26875 214.380313 \nL 432.26875 214.380313 \nL 442.26875 214.380313 \n\" style=\"fill: none; stroke: #1f77b4; stroke-width: 1.5; stroke-linecap: square\"/>\n    </g>\n    <g id=\"text_25\">\n     <!-- radius -->\n     <g transform=\"translate(450.26875 217.880313) scale(0.1 -0.1)\">\n      <use xlink:href=\"#DejaVuSans-72\"/>\n      <use xlink:href=\"#DejaVuSans-61\" transform=\"translate(41.113281 0)\"/>\n      <use xlink:href=\"#DejaVuSans-64\" transform=\"translate(102.392578 0)\"/>\n      <use xlink:href=\"#DejaVuSans-69\" transform=\"translate(165.869141 0)\"/>\n      <use xlink:href=\"#DejaVuSans-75\" transform=\"translate(193.652344 0)\"/>\n      <use xlink:href=\"#DejaVuSans-73\" transform=\"translate(257.03125 0)\"/>\n     </g>\n    </g>\n   </g>\n  </g>\n </g>\n <defs>\n  <clipPath id=\"p64b103679b\">\n   <rect x=\"43.78125\" y=\"7.2\" width=\"446.4\" height=\"221.76\"/>\n  </clipPath>\n </defs>\n</svg>\n"
     },
     "metadata": {},
     "output_type": "display_data"
    },
    {
     "data": {
      "text/plain": [
       "HBox(children=(HTML(value=\"<a href='./fig_1.pdf' target='_blank'>./fig_1.pdf</a><br>\"), HTML(value=\"<a href='.…"
      ],
      "application/vnd.jupyter.widget-view+json": {
       "version_major": 2,
       "version_minor": 0,
       "model_id": "1f7eafe07a9b44cb818bc21953e497d2"
      }
     },
     "metadata": {},
     "output_type": "display_data"
    }
   ],
   "execution_count": 20
  },
  {
   "metadata": {
    "ExecuteTime": {
     "end_time": "2025-05-31T22:04:03.168374Z",
     "start_time": "2025-05-31T22:04:03.166866Z"
    }
   },
   "cell_type": "code",
   "source": "",
   "id": "6122df2d01008b7b",
   "outputs": [],
   "execution_count": null
  }
 ],
 "metadata": {
  "kernelspec": {
   "display_name": "Python 3 (ipykernel)",
   "language": "python",
   "name": "python3"
  },
  "language_info": {
   "codemirror_mode": {
    "name": "ipython",
    "version": 3
   },
   "file_extension": ".py",
   "mimetype": "text/x-python",
   "name": "python",
   "nbconvert_exporter": "python",
   "pygments_lexer": "ipython3",
   "version": "3.9.2"
  }
 },
 "nbformat": 4,
 "nbformat_minor": 5
}
