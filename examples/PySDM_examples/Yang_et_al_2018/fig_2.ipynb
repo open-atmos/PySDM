{
 "cells": [
  {
   "cell_type": "markdown",
   "metadata": {},
   "source": [
    "[![Binder](https://mybinder.org/badge_logo.svg)](https://mybinder.org/v2/gh/open-atmos/PySDM.git/main?urlpath=lab/tree/examplesPySDM_examples/Yang_et_al_2018/fig_2.ipynb)    \n",
    "[![Open In Colab](https://colab.research.google.com/assets/colab-badge.svg)](https://colab.research.google.com/github/open-atmos/PySDM/blob/main/examples/PySDM_examples/Yang_et_al_2018/fig_2.ipynb)"
   ]
  },
  {
   "cell_type": "markdown",
   "metadata": {},
   "source": [
    "#### based on Fig. 2 from Yang et al. 2018 (Atmos. Chem. Phys. 18)  \"_Cloud droplet size distribution broadening during diffusional growth: ripening amplified by deactivation and reactivation_\"   \n",
    "https://doi.org/10.5194/acp-18-7313-2018"
   ]
  },
  {
   "cell_type": "code",
   "execution_count": null,
   "metadata": {
    "pycharm": {
     "name": "#%%\n"
    }
   },
   "outputs": [],
   "source": [
    "import sys\n",
    "if 'google.colab' in sys.modules:\n",
    "    !pip --quiet install open-atmos-jupyter-utils\n",
    "    from open_atmos_jupyter_utils import pip_install_on_colab\n",
    "    pip_install_on_colab('PySDM-examples')"
   ]
  },
  {
   "cell_type": "code",
   "execution_count": null,
   "metadata": {},
   "outputs": [],
   "source": [
    "import numpy as np\n",
    "import matplotlib.pyplot as plt\n",
    "import matplotlib as mpl\n",
    "from open_atmos_jupyter_utils import show_plot\n",
    "from PySDM_examples.Yang_et_al_2018 import Simulation, Settings\n",
    "\n",
    "figsize = (9, 6)"
   ]
  },
  {
   "cell_type": "code",
   "execution_count": null,
   "metadata": {},
   "outputs": [],
   "source": [
    "import pint\n",
    "si = pint.UnitRegistry()\n",
    "si.setup_matplotlib()"
   ]
  },
  {
   "cell_type": "code",
   "execution_count": null,
   "metadata": {},
   "outputs": [],
   "source": [
    "ix51 = 40\n",
    "ix503 = 99"
   ]
  },
  {
   "cell_type": "code",
   "execution_count": null,
   "metadata": {},
   "outputs": [],
   "source": [
    "def runner():\n",
    "    settings = Settings(dt_output = 60*10*si.second)\n",
    "    \n",
    "    assert round(settings.r_dry[  ix51]*1e9, 0) == 51\n",
    "    assert round(settings.r_dry[ ix503]*1e9, 0) == 503\n",
    "\n",
    "    simulation = Simulation(settings)\n",
    "\n",
    "    output = simulation.run()\n",
    "    result = {}\n",
    "    \n",
    "    result['r_bins_values'] = np.array(output['r_bins_values']).T / (settings.mass_of_dry_air)\n",
    "    result['r_bins_edges'] = settings.r_bins_edges\n",
    "    \n",
    "    result['r'] = np.array(output['r']).T * si.metres\n",
    "    result['t'] = output[\"t\"] * si.seconds\n",
    "    result['z'] = output[\"z\"] * si.metres\n",
    "    result['S'] = np.array(output[\"S\"]) * si.dimensionless\n",
    "    result['q'] = (settings.q0 - np.array(output[\"qv\"])) * si.kilogram / si.kilogram\n",
    "    result['T'] = np.array(output[\"T\"])\n",
    "    result['n'] = settings.n / (settings.mass_of_dry_air * si.kilogram)\n",
    "    result['dt_max'] = settings.dt_max\n",
    "    result['rtol_thd'] = settings.rtol_thd\n",
    "    result['rtol_x'] = settings.rtol_x\n",
    "    result['dt_cond_max'] = output['dt_cond_max']\n",
    "    result['dt_cond_min'] = output['dt_cond_min']\n",
    "    \n",
    "    result['r_dry'] = settings.r_dry\n",
    "    result['kappa'] = settings.kappa\n",
    "\n",
    "    arg_T = result['T'].reshape(-1,1).repeat(len(result['n']), axis = 1)\n",
    "    sgm = simulation.formulae.constants.sgm_w  # note: ignoring sigma dependence on T, rd, rw\n",
    "    result['r_cr'] = simulation.formulae.hygroscopicity.r_cr(settings.kappa, settings.r_dry, arg_T, sgm).transpose()\n",
    "    result['ripening rate'] = output['ripening rate']\n",
    "    return result"
   ]
  },
  {
   "cell_type": "code",
   "execution_count": null,
   "metadata": {},
   "outputs": [],
   "source": [
    "outputs = []\n",
    "outputs.append(runner())"
   ]
  },
  {
   "cell_type": "code",
   "execution_count": null,
   "metadata": {},
   "outputs": [],
   "source": [
    "fig, ax = plt.subplots(1, 3, sharey=True, figsize=figsize)\n",
    "if len(outputs)==1:\n",
    "    ax = np.array(ax).reshape(len(outputs),3)\n",
    "for i, output in enumerate(outputs):\n",
    "    dt_max = output['dt_max']\n",
    "    rtol_x = output['rtol_x']\n",
    "    rtol_thd = output['rtol_thd']\n",
    "    tols = f'rtol_x = {rtol_x}, rtol_thd = {rtol_thd}'\n",
    "        \n",
    "    ax[i,1].set_title(f'dt_max = {dt_max}, '+tols)\n",
    "    \n",
    "    ax[i,0].set_ylim([800, 1300])\n",
    "    ax[i,0].plot(output['q'], output['z'], label=\"q$_l$\")\n",
    "    ax[i,0].xaxis.set_units(si.gram / si.kilogram)\n",
    "    ax[i,0].grid()\n",
    "    ax[i,0].legend(loc='best')\n",
    "\n",
    "    ax[i,1].plot(output['S']+1, output['z'], label=\"S+1\")\n",
    "    ax[i,1].grid()\n",
    "    ax[i,1].legend(loc='best')\n",
    "    ax[i,1].set_xlim([0.997, 1.003])\n",
    "\n",
    "    ax[i,2].plot(output['r'][ix51], output['z'], label=\"r$_d$ = 51 nm\")\n",
    "    ax[i,2].plot(output['r'][ix503], output['z'], label=\"r$_d$ = 501 nm\")\n",
    "    ax[i,2].grid()\n",
    "    ax[i,2].xaxis.set_units(si.micrometre)\n",
    "    ax[i,2].legend(loc='best')\n",
    "    plt.tight_layout()\n",
    "    fig.subplots_adjust(top=0.88)\n",
    "\n",
    "show_plot(filename='q_S_rd.pdf')"
   ]
  },
  {
   "cell_type": "code",
   "execution_count": null,
   "metadata": {},
   "outputs": [],
   "source": [
    "def rmean(r, n, mask): # TODO #412: move to products\n",
    "    nt = r.shape[1]\n",
    "    n_dot_r = n.magnitude.dot(np.where(mask, r.magnitude, 0))\n",
    "    n_tot = np.sum(np.where(mask, n.magnitude.reshape(-1,1).repeat(nt, axis=1), 0), axis=0)\n",
    "    rmean = np.full(nt, np.nan)\n",
    "    nmask = n_tot > 0\n",
    "    rmean[nmask] = n_dot_r[nmask] / n_tot[nmask]\n",
    "    return rmean * r.units"
   ]
  },
  {
   "cell_type": "code",
   "execution_count": null,
   "metadata": {},
   "outputs": [],
   "source": [
    "mgn = lambda value, unit: (value / unit).to_base_units().magnitude\n",
    "\n",
    "fig, ax = plt.subplots(1, 1, sharex=True, figsize=figsize)\n",
    "if len(outputs)==1:\n",
    "    ax = (ax,)\n",
    "for i, output in enumerate(outputs):\n",
    "    dt_max = output['dt_max']\n",
    "    if i==2:\n",
    "        rtol = output['rtol_bdf']\n",
    "        tols = f'tolerance = {rtol}'\n",
    "    else:\n",
    "        rtol_x = output['rtol_x']\n",
    "        rtol_thd = output['rtol_thd']\n",
    "        tols = f'rtol_x = {rtol_x}, rtol_thd = {rtol_thd}'\n",
    "    \n",
    "    hist = output['r_bins_values']\n",
    "    hist = (hist[:,0:-1] + hist[:,1:])/2\n",
    "    xedges = output['t'].magnitude\n",
    "    yedges = output['r_bins_edges']\n",
    "    \n",
    "    xunit = si.hour\n",
    "    yunit = si.micrometres\n",
    "\n",
    "    c = ax[i].pcolormesh(\n",
    "        mgn(xedges * output['t'].units, xunit), \n",
    "        mgn(yedges * output['r'].units, yunit), \n",
    "        hist,\n",
    "        cmap = 'coolwarm', shading='auto',\n",
    "        norm = mpl.colors.LogNorm()\n",
    "    )\n",
    "    ax[i].set_title(f'dt_max = {dt_max}, '+tols)\n",
    "    ax[i].yaxis.set_units(yunit)\n",
    "    ax[i].xaxis.set_units(xunit)\n",
    "    ax[i].set_ylim([0, 20])\n",
    "\n",
    "    ax[i].plot(output['t'], rmean(output['r'], output['n'], output['r'].magnitude > output['r_cr']), label=\"r_mean (r > r_cr)\", color='black')\n",
    "    ax[i].plot(output['t'], rmean(output['r'], output['n'], output['r'] > 1 * si.micrometre), label=\"r_mean (r > 1 um)\", linestyle='--', color='gray')\n",
    "    ax[i].legend(loc='best')\n",
    "    ax[i].grid()\n",
    "    plt.tight_layout()\n",
    "    fig.subplots_adjust(top=0.88)\n",
    "show_plot(filename='spectrum.pdf', inline_format='png')"
   ]
  },
  {
   "cell_type": "code",
   "execution_count": null,
   "metadata": {
    "pycharm": {
     "name": "#%%\n"
    }
   },
   "outputs": [],
   "source": []
  }
 ],
 "metadata": {
  "kernelspec": {
   "display_name": "Python 3 (ipykernel)",
   "language": "python",
   "name": "python3"
  },
  "language_info": {
   "codemirror_mode": {
    "name": "ipython",
    "version": 3
   },
   "file_extension": ".py",
   "mimetype": "text/x-python",
   "name": "python",
   "nbconvert_exporter": "python",
   "pygments_lexer": "ipython3",
   "version": "3.8.9"
  }
 },
 "nbformat": 4,
 "nbformat_minor": 4
}
