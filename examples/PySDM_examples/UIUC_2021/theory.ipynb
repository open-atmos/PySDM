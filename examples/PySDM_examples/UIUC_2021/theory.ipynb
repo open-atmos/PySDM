{
 "cells": [
  {
   "cell_type": "code",
   "execution_count": null,
   "id": "a6ca777a",
   "metadata": {},
   "outputs": [],
   "source": [
    "from matplotlib import pyplot\n",
    "from open_atmos_jupyter_utils import show_plot\n",
    "from PySDM.physics import constants as const\n",
    "from PySDM import Formulae\n",
    "from PySDM_examples.UIUC_2021.curved_text import CurvedText\n",
    "from PySDM_examples.UIUC_2021.commons import FREEZING_CONSTANTS, COOLING_RATES, TEMP_RANGE\n",
    "import numpy as np\n",
    "import pint\n",
    "si = pint.UnitRegistry()\n",
    "si.setup_matplotlib()"
   ]
  },
  {
   "cell_type": "code",
   "execution_count": null,
   "id": "abc1b652",
   "metadata": {},
   "outputs": [],
   "source": [
    "params = {\n",
    "    'illite': {\n",
    "        'm': FREEZING_CONSTANTS['illite']['ABIFM_M'],\n",
    "        'c': FREEZING_CONSTANTS['illite']['ABIFM_C'],\n",
    "        'color': 'olive'\n",
    "    },\n",
    "    'dust': {\n",
    "        'm': FREEZING_CONSTANTS['dust']['ABIFM_M'],\n",
    "        'c': FREEZING_CONSTANTS['dust']['ABIFM_C'],\n",
    "        'color': 'teal'\n",
    "    }\n",
    "}"
   ]
  },
  {
   "cell_type": "code",
   "execution_count": null,
   "id": "671fde73",
   "metadata": {},
   "outputs": [],
   "source": [
    "svp = Formulae(saturation_vapour_pressure='FlatauWalkoCotton').saturation_vapour_pressure\n",
    "T = np.linspace(*TEMP_RANGE) * si.K\n",
    "\n",
    "def _T(T):\n",
    "    return (T/si.K).to_base_units().magnitude\n",
    "\n",
    "a_w_ice = svp.ice_Celsius(_T(T) - const.T0) / svp.pvs_Celsius(_T(T) - const.T0)"
   ]
  },
  {
   "cell_type": "code",
   "execution_count": null,
   "id": "b499c875",
   "metadata": {},
   "outputs": [],
   "source": [
    "cooling_rates = tuple((x*si.K/si.s).to_base_units() for x in COOLING_RATES)\n",
    "\n",
    "for label, mc in params.items():\n",
    "    formulae_abifm = Formulae(\n",
    "        constants={\n",
    "            'ABIFM_M': mc['m'],\n",
    "            'ABIFM_C': mc['c']\n",
    "        },\n",
    "        heterogeneous_ice_nucleation_rate='ABIFM'\n",
    "    )\n",
    "    abifm_j_het = lambda T, formulae=formulae_abifm: (\n",
    "        formulae.heterogeneous_ice_nucleation_rate.j_het(_T(T)) / si.m**2 / si.s\n",
    "    )\n",
    "    for i, c in enumerate(cooling_rates):\n",
    "        c_K_min = (c / si.K * si.min).to_base_units().magnitude\n",
    "        J_over_c = abifm_j_het(a_w_ice) / c\n",
    "        pyplot.plot(T, J_over_c,\n",
    "                    color=mc['color'],\n",
    "                    label='' if i!=0 else f'ABIFM $J_{{het}}/c$ ({label})',\n",
    "                    linewidth=3*c.magnitude**.15\n",
    "                   )\n",
    "        _ = CurvedText(T.magnitude, 2*J_over_c.magnitude,\n",
    "                       text=f'c={c_K_min} K/min', axes=pyplot.gca(),\n",
    "                       va='bottom'\n",
    "                      )\n",
    "        \n",
    "formulae = Formulae(\n",
    "    constants=FREEZING_CONSTANTS[\"dust\"],\n",
    "    freezing_temperature_spectrum='Niemand_et_al_2012'\n",
    ")\n",
    "inas_ns = lambda T: formulae.freezing_temperature_spectrum.ns(_T(T)) / si.m**2\n",
    "\n",
    "a = formulae.constants.NIEMAND_A / si.K\n",
    "pyplot.plot(T, -a*inas_ns(T), label=r'INAS: $-dn_{s}(T)/dT=-a \\cdot n_s(T)$ (dust)',\n",
    "            color='black', linestyle=':', linewidth=4)\n",
    "\n",
    "pyplot.gca().invert_xaxis()\n",
    "pyplot.yscale('log')\n",
    "pyplot.grid()\n",
    "pyplot.xlabel('temperature [K]')\n",
    "pyplot.ylabel('$J_{het}(T) / c = -dn_s(T)/dT$  [$K^{-1} m^{-2}$]')\n",
    "pyplot.legend()#bbox_to_anchor=(1, -.2))\n",
    "show_plot('fig_theory.pdf')"
   ]
  },
  {
   "cell_type": "code",
   "execution_count": null,
   "id": "640b8446",
   "metadata": {},
   "outputs": [],
   "source": []
  },
  {
   "cell_type": "code",
   "execution_count": null,
   "id": "7a4982d6",
   "metadata": {},
   "outputs": [],
   "source": []
  }
 ],
 "metadata": {
  "kernelspec": {
   "display_name": "Python 3 (ipykernel)",
   "language": "python",
   "name": "python3"
  },
  "language_info": {
   "codemirror_mode": {
    "name": "ipython",
    "version": 3
   },
   "file_extension": ".py",
   "mimetype": "text/x-python",
   "name": "python",
   "nbconvert_exporter": "python",
   "pygments_lexer": "ipython3",
   "version": "3.10.6"
  }
 },
 "nbformat": 4,
 "nbformat_minor": 5
}
