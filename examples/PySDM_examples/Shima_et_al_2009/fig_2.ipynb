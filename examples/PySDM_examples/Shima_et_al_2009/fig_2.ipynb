{
 "cells": [
  {
   "cell_type": "markdown",
   "metadata": {},
   "source": [
    "[![Binder](https://mybinder.org/badge_logo.svg)](https://mybinder.org/v2/gh/open-atmos/PySDM-examples.git/main?urlpath=PySDM_examples/Shima_et_al_2009/fig_2.ipynb)    \n",
    "[![Open In Colab](https://colab.research.google.com/assets/colab-badge.svg)](https://colab.research.google.com/github/open-atmos/PySDM-examples/blob/main/PySDM_examples/Shima_et_al_2009/fig_2.ipynb)"
   ]
  },
  {
   "cell_type": "markdown",
   "metadata": {},
   "source": [
    "#### based on Fig. 2 from Shima et al. 2009 (Q. J. R. Meteorol. Soc. 135)  \"_The super‐droplet method for the numerical simulation of clouds and precipitation: a particle‐based and probabilistic microphysics model coupled with a non‐hydrostatic model_\"   \n",
    "https://doi.org/10.1002/qj.441"
   ]
  },
  {
   "cell_type": "code",
   "execution_count": 1,
   "metadata": {},
   "outputs": [],
   "source": [
    "import sys\n",
    "if 'google.colab' in sys.modules:\n",
    "    !pip --quiet install open-atmos-jupyter-utils\n",
    "    from open_atmos_jupyter_utils import pip_install_on_colab\n",
    "    pip_install_on_colab('PySDM-examples')"
   ]
  },
  {
   "cell_type": "code",
   "execution_count": 2,
   "metadata": {},
   "outputs": [],
   "source": [
    "from numpy import errstate\n",
    "from IPython.display import display\n",
    "from PySDM.backends import CPU, GPU\n",
    "from PySDM_examples.Shima_et_al_2009.spectrum_plotter import SpectrumPlotter\n",
    "from PySDM_examples.Shima_et_al_2009.settings import Settings\n",
    "from PySDM_examples.Shima_et_al_2009.example import run\n",
    "from PySDM_examples.utils import widgets"
   ]
  },
  {
   "cell_type": "code",
   "execution_count": 3,
   "metadata": {},
   "outputs": [],
   "source": [
    "progbar = widgets.IntProgress(min=0, max=100, description='%')"
   ]
  },
  {
   "cell_type": "code",
   "execution_count": 4,
   "metadata": {},
   "outputs": [],
   "source": [
    "def demo(*, freezer, n_SD, n_step, n_plot, adaptive, smooth, gpu):\n",
    "    with freezer:\n",
    "        with errstate(all='raise'):\n",
    "            settings = Settings(steps=[i * (n_step // n_plot) for i in range(n_plot + 1)])\n",
    "            backend = GPU if gpu else CPU\n",
    "            settings.n_sd = 2 ** n_SD\n",
    "            settings.adaptive = adaptive\n",
    "            settings.dt = 10 if adaptive else settings.dt\n",
    "            states, _ = run(settings, backend, (widgets.ProgbarUpdater(progbar, settings.output_steps[-1]),))\n",
    "\n",
    "        with errstate(invalid='ignore'):\n",
    "            plotter = SpectrumPlotter(settings)\n",
    "            plotter.smooth = smooth\n",
    "            for step, state in states.items():\n",
    "                plotter.plot(state, step * settings.dt)\n",
    "            plotter.show()"
   ]
  },
  {
   "cell_type": "code",
   "execution_count": 5,
   "metadata": {
    "pycharm": {
     "is_executing": true
    },
    "scrolled": false
   },
   "outputs": [
    {
     "data": {
      "application/vnd.jupyter.widget-view+json": {
       "model_id": "670f57fe940445739b4b7e61074a8846",
       "version_major": 2,
       "version_minor": 0
      },
      "text/plain": [
       "HBox(children=(IntSlider(value=14, continuous_update=False, description='$log_2(n_{SD})$', max=18, min=12), In…"
      ]
     },
     "metadata": {},
     "output_type": "display_data"
    },
    {
     "data": {
      "application/vnd.jupyter.widget-view+json": {
       "model_id": "471a486b77784c32bf5ca8af128c5511",
       "version_major": 2,
       "version_minor": 0
      },
      "text/plain": [
       "HBox(children=(Checkbox(value=False, description='adaptive dt'), Checkbox(value=True, description='smooth plot…"
      ]
     },
     "metadata": {},
     "output_type": "display_data"
    },
    {
     "data": {
      "application/vnd.jupyter.widget-view+json": {
       "model_id": "f01122a39a4e4bd98e596d3eb88c2737",
       "version_major": 2,
       "version_minor": 0
      },
      "text/plain": [
       "IntProgress(value=100, description='%')"
      ]
     },
     "metadata": {},
     "output_type": "display_data"
    },
    {
     "data": {
      "application/vnd.jupyter.widget-view+json": {
       "model_id": "3ec41847f5ed4d1f9181b6fc6404104c",
       "version_major": 2,
       "version_minor": 0
      },
      "text/plain": [
       "Output()"
      ]
     },
     "metadata": {},
     "output_type": "display_data"
    }
   ],
   "source": [
    "n_SD = widgets.IntSlider(value=14, min=12, max=18, step=1, description='$log_2(n_{SD})$', continuous_update=False)\n",
    "n_step = widgets.IntSlider(value=3600, step=100, min=100, max=3600, description='$n_{step}$', continuous_update=False)\n",
    "n_plot = widgets.IntSlider(value=3, step=1, min=1, max=8, description='$n_{plot}$', continuous_update=False)\n",
    "sliders = widgets.HBox([n_SD, n_step, n_plot])\n",
    "\n",
    "adaptive = widgets.Checkbox(value=False, description='adaptive dt')\n",
    "smooth = widgets.Checkbox(value=True, description='smooth plot')\n",
    "gpu = widgets.Checkbox(value=False, description='GPU')\n",
    "options = [adaptive, smooth]\n",
    "if GPU.ENABLE:\n",
    "    options.append(gpu)\n",
    "boxes = widgets.HBox(options)\n",
    "freezer = widgets.Freezer([n_SD, n_step, n_plot, adaptive, gpu])\n",
    "self = widgets.interactive_output(demo, \n",
    "                                  {'freezer': freezer, 'n_SD': n_SD, 'n_step': n_step, 'n_plot': n_plot,\n",
    "                                   'adaptive': adaptive, 'smooth': smooth, 'gpu': gpu})\n",
    "\n",
    "display(sliders, boxes, progbar, self)"
   ]
  },
  {
   "cell_type": "code",
   "execution_count": null,
   "metadata": {
    "pycharm": {
     "is_executing": true
    }
   },
   "outputs": [],
   "source": []
  },
  {
   "cell_type": "code",
   "execution_count": null,
   "metadata": {
    "pycharm": {
     "is_executing": true
    }
   },
   "outputs": [],
   "source": []
  }
 ],
 "metadata": {
  "kernelspec": {
   "display_name": "Python 3 (ipykernel)",
   "language": "python",
   "name": "python3"
  },
  "language_info": {
   "codemirror_mode": {
    "name": "ipython",
    "version": 3
   },
   "file_extension": ".py",
   "mimetype": "text/x-python",
   "name": "python",
   "nbconvert_exporter": "python",
   "pygments_lexer": "ipython3",
   "version": "3.8.9"
  }
 },
 "nbformat": 4,
 "nbformat_minor": 4
}
