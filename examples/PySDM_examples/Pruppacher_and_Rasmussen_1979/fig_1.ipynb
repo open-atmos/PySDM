{
 "cells": [
  {
   "metadata": {},
   "cell_type": "markdown",
   "source": [
    "[![preview notebook](https://img.shields.io/static/v1?label=render%20on&logo=github&color=87ce3e&message=GitHub)](https://github.com/open-atmos/PySDM/blob/main/examples/PySDM_examples/Pruppacher_and_Rasmussen_1979/fig_1.ipynb)\n",
    "[![launch on mybinder.org](https://mybinder.org/badge_logo.svg)](https://mybinder.org/v2/gh/open-atmos/PySDM.git/main?urlpath=lab/tree/examples/PySDM_examples/Pruppacher_and_Rasmussen_1979/fig_1.ipynb)\n",
    "[![launch on Colab](https://colab.research.google.com/assets/colab-badge.svg)](https://colab.research.google.com/github/open-atmos/PySDM/blob/main/examples/PySDM_examples/Pruppacher_and_Rasmussen_1979/fig_1.ipynb)"
   ],
   "id": "390d08cd2d1dd622"
  },
  {
   "metadata": {},
   "cell_type": "markdown",
   "source": "## based on Fig. 1 in [Pruppacher and Rasmussen 1979](https://doi.org/10.1175/1520-0469%281979%29036%3C1255:AWTIOT%3E2.0.CO;2) ",
   "id": "c0b2648839ea16ad"
  },
  {
   "metadata": {},
   "cell_type": "code",
   "outputs": [],
   "execution_count": null,
   "source": [
    "import sys\n",
    "if 'google.colab' in sys.modules:\n",
    "    !pip --quiet install open-atmos-jupyter-utils\n",
    "    from open_atmos_jupyter_utils import pip_install_on_colab\n",
    "    pip_install_on_colab('PySDM-examples')"
   ],
   "id": "5e0b9e882a146fdf"
  },
  {
   "metadata": {},
   "cell_type": "code",
   "outputs": [],
   "execution_count": null,
   "source": [
    "import numpy as np\n",
    "from open_atmos_jupyter_utils import show_plot\n",
    "\n",
    "from PySDM import Formulae\n",
    "from PySDM.physics import si, in_unit\n",
    "from matplotlib import pyplot\n",
    "from scipy.interpolate import interp1d"
   ],
   "id": "a503969db2e39850"
  },
  {
   "metadata": {},
   "cell_type": "code",
   "outputs": [],
   "execution_count": null,
   "source": [
    "formulae = Formulae(\n",
    "    terminal_velocity=\"RogersYau\",\n",
    "    isotope_diffusivity_ratios=\"HellmannAndHarvey2020\",\n",
    "    ventilation=\"PruppacherAndRasmussen1979\",\n",
    "    particle_shape_and_density=\"LiquidSpheres\",\n",
    "    air_dynamic_viscosity=\"ZografosEtAl1987\",\n",
    ")"
   ],
   "id": "8606b2f960b0489c"
  },
  {
   "metadata": {},
   "cell_type": "code",
   "outputs": [],
   "execution_count": null,
   "source": [
    "def f(formulae, radius, temperature):\n",
    "    eta_air = formulae.air_dynamic_viscosity.eta_air(temperature)\n",
    "    air_density = formulae.constants.p_STP / formulae.constants.Rd / temperature\n",
    "    X = formulae.trivia.sqrt_re_times_cbrt_sc(\n",
    "            Re = formulae.particle_shape_and_density.reynolds_number(\n",
    "                radius = radius, \n",
    "                velocity_wrt_air=formulae.terminal_velocity.v_term(radius), \n",
    "                dynamic_viscosity = eta_air, \n",
    "                density = air_density\n",
    "            ), \n",
    "            Sc = formulae.trivia.air_schmidt_number(\n",
    "                dynamic_viscosity=eta_air,\n",
    "                diffusivity=formulae.diffusion_thermics.D(\n",
    "                    T=temperature,\n",
    "                    p=formulae.constants.p_STP),\n",
    "                density=air_density,\n",
    "            )\n",
    "        )\n",
    "    return X, formulae.ventilation.ventilation_coefficient(X)"
   ],
   "id": "23a71ae2eba4077e"
  },
  {
   "metadata": {},
   "cell_type": "code",
   "outputs": [],
   "execution_count": null,
   "source": [
    "def f_heavy(f, temperature, isotope):\n",
    "    return 1 + (f-1)*(getattr(formulae.isotope_diffusivity_ratios, f\"ratio_{isotope}\")(temperature))**(1/3)"
   ],
   "id": "4168770dd9b41021"
  },
  {
   "metadata": {},
   "cell_type": "code",
   "outputs": [],
   "execution_count": null,
   "source": [
    "temperature = 273.15 *si.K\n",
    "radius = np.linspace(0, 2.5, 100) * si.mm\n",
    "fig, ax = pyplot.subplots(1)\n",
    "X, vent_coef = f(formulae, radius, temperature)\n",
    "\n",
    "\n",
    "isotopes = (\n",
    "    \"2H\",\n",
    "    \"18O\",\n",
    "    \"17O\"\n",
    ")\n",
    "ax.plot(X, vent_coef, label=\"H2O\")\n",
    "for isotope in isotopes:\n",
    "    ax.plot(\n",
    "        X,\n",
    "        f_heavy(vent_coef, temperature, isotope=isotope),\n",
    "        label=f\"{isotope} - substituted water\"\n",
    "    )\n",
    "ax.set_title(\"\")\n",
    "ax.set_xlabel(\"Sc$^{1/3}$Re$^{1/2}$ [1]\")\n",
    "ax.set_ylabel(\"Ventilation coefficient [1]\")\n",
    "\n",
    "ax.legend()\n",
    "ax2 = ax.secondary_xaxis(\"top\", functions=(\n",
    "    interp1d(X,in_unit(radius, si.mm), bounds_error=False, fill_value=\"extrapolate\"),\n",
    "    interp1d(in_unit(radius, si.mm), X, bounds_error=False, fill_value=\"extrapolate\")\n",
    "))\n",
    "ax2.set_ticks(np.linspace(0, 5, 11))\n",
    "ax2.set_xlabel(\"equivalent drop radius [mm]\")\n",
    "ax.grid()\n",
    "show_plot(\"ventilation_coefficient_for_isotopes.pdf\")"
   ],
   "id": "fcc91e5655a251ce"
  },
  {
   "metadata": {},
   "cell_type": "code",
   "outputs": [],
   "execution_count": null,
   "source": [
    "n = 10\n",
    "fig, ax = pyplot.subplots(1)\n",
    "ax.plot(X[-n:], vent_coef[-n:], label=\"H2O\")\n",
    "for isotope in isotopes:\n",
    "    ax.plot(\n",
    "        X[-n:],\n",
    "        f_heavy(vent_coef[-n:], temperature, isotope=isotope),\n",
    "        label=f\"{isotope} - substituted water\"\n",
    "    )\n",
    "ax.set_title(\"\")\n",
    "ax.set_xlabel(\"Sc$^{1/3}$Re$^{1/2}$ [1]\")\n",
    "ax.set_ylabel(\"Ventilation coefficient [1]\")\n",
    "\n",
    "ax.legend()\n",
    "ax2 = ax.secondary_xaxis(\"top\", functions=(\n",
    "    interp1d(X,in_unit(radius, si.mm), bounds_error=False, fill_value=\"extrapolate\"),\n",
    "    interp1d(in_unit(radius, si.mm), X, bounds_error=False, fill_value=\"extrapolate\")\n",
    "))\n",
    "ax2.set_ticks(np.linspace(0, 5, 11))\n",
    "ax2.set_xlabel(\"equivalent drop radius [mm]\")\n",
    "ax.grid()\n",
    "show_plot(\"ventilation_coefficient_for_isotopes_zoom.pdf\")"
   ],
   "id": "6e88d3799948f9d7"
  },
  {
   "metadata": {
    "ExecuteTime": {
     "end_time": "2025-05-28T15:33:54.826012Z",
     "start_time": "2025-05-28T15:33:54.822277Z"
    }
   },
   "cell_type": "code",
   "source": "",
   "id": "4a5cd5c8032c9c8e",
   "outputs": [],
   "execution_count": null
  }
 ],
 "metadata": {
  "kernelspec": {
   "display_name": "Python 3",
   "language": "python",
   "name": "python3"
  },
  "language_info": {
   "codemirror_mode": {
    "name": "ipython",
    "version": 2
   },
   "file_extension": ".py",
   "mimetype": "text/x-python",
   "name": "python",
   "nbconvert_exporter": "python",
   "pygments_lexer": "ipython2",
   "version": "2.7.6"
  }
 },
 "nbformat": 4,
 "nbformat_minor": 5
}
