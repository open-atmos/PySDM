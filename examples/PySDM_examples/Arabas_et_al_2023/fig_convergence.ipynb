{
 "cells": [
  {
   "cell_type": "code",
   "execution_count": 1,
   "id": "7ea1f100",
   "metadata": {},
   "outputs": [
    {
     "name": "stderr",
     "output_type": "stream",
     "text": [
      "/home/slayoo/devel/PySDM/PySDM/backends/__init__.py:33: UserWarning: CUDA library found but cuInit() failed (error code: 999; message: unknown error)\n",
      "  warnings.warn(\n"
     ]
    }
   ],
   "source": [
    "import itertools\n",
    "import numpy as np\n",
    "from matplotlib import pyplot\n",
    "import math\n",
    "\n",
    "from PySDM import Builder, Formulae\n",
    "from PySDM.dynamics import Freezing\n",
    "from PySDM.environments import Box\n",
    "from PySDM.physics import constants_defaults as const\n",
    "from PySDM.physics import si\n",
    "from PySDM.products import IceWaterContent\n",
    "from PySDM.backends import CPU, GPU\n",
    "\n",
    "from open_atmos_jupyter_utils import show_plot"
   ]
  },
  {
   "cell_type": "code",
   "execution_count": 2,
   "id": "a56c35fe",
   "metadata": {},
   "outputs": [],
   "source": [
    "DTS = (1000, 2000, 4000, 8000, 16000, 32000)\n",
    "MLT = (4, 16, 64, 256, 1024, 4096)\n",
    "SEEDS = (22, 33, 44, 55, 66, 77)\n",
    "\n",
    "def error_norm(actual, expected):\n",
    "    return np.sqrt(np.mean(np.square(actual - expected)))"
   ]
  },
  {
   "cell_type": "code",
   "execution_count": 3,
   "id": "6c3ba75d",
   "metadata": {},
   "outputs": [
    {
     "name": "stdout",
     "output_type": "stream",
     "text": [
      "1000:256:22 ...\n"
     ]
    },
    {
     "name": "stderr",
     "output_type": "stream",
     "text": [
      "/home/slayoo/devel/PySDM/PySDM/backends/thrust_rtc.py:72: UserWarning: CUDA is not available, using FakeThrustRTC!\n",
      "  warnings.warn(\"CUDA is not available, using FakeThrustRTC!\")\n"
     ]
    },
    {
     "name": "stdout",
     "output_type": "stream",
     "text": [
      "1000:256:33 ...\n"
     ]
    },
    {
     "name": "stderr",
     "output_type": "stream",
     "text": [
      "/home/slayoo/devel/PySDM/PySDM/backends/thrust_rtc.py:72: UserWarning: CUDA is not available, using FakeThrustRTC!\n",
      "  warnings.warn(\"CUDA is not available, using FakeThrustRTC!\")\n"
     ]
    },
    {
     "name": "stdout",
     "output_type": "stream",
     "text": [
      "1000:256:44 ...\n"
     ]
    },
    {
     "name": "stderr",
     "output_type": "stream",
     "text": [
      "/home/slayoo/devel/PySDM/PySDM/backends/thrust_rtc.py:72: UserWarning: CUDA is not available, using FakeThrustRTC!\n",
      "  warnings.warn(\"CUDA is not available, using FakeThrustRTC!\")\n"
     ]
    },
    {
     "name": "stdout",
     "output_type": "stream",
     "text": [
      "1000:256:55 ...\n"
     ]
    },
    {
     "name": "stderr",
     "output_type": "stream",
     "text": [
      "/home/slayoo/devel/PySDM/PySDM/backends/thrust_rtc.py:72: UserWarning: CUDA is not available, using FakeThrustRTC!\n",
      "  warnings.warn(\"CUDA is not available, using FakeThrustRTC!\")\n"
     ]
    },
    {
     "name": "stdout",
     "output_type": "stream",
     "text": [
      "1000:256:66 ...\n"
     ]
    },
    {
     "name": "stderr",
     "output_type": "stream",
     "text": [
      "/home/slayoo/devel/PySDM/PySDM/backends/thrust_rtc.py:72: UserWarning: CUDA is not available, using FakeThrustRTC!\n",
      "  warnings.warn(\"CUDA is not available, using FakeThrustRTC!\")\n"
     ]
    },
    {
     "name": "stdout",
     "output_type": "stream",
     "text": [
      "1000:256:77 ...\n"
     ]
    },
    {
     "name": "stderr",
     "output_type": "stream",
     "text": [
      "/home/slayoo/devel/PySDM/PySDM/backends/thrust_rtc.py:72: UserWarning: CUDA is not available, using FakeThrustRTC!\n",
      "  warnings.warn(\"CUDA is not available, using FakeThrustRTC!\")\n"
     ]
    },
    {
     "name": "stdout",
     "output_type": "stream",
     "text": [
      "1000:64:22 ...\n"
     ]
    },
    {
     "name": "stderr",
     "output_type": "stream",
     "text": [
      "/home/slayoo/devel/PySDM/PySDM/backends/thrust_rtc.py:72: UserWarning: CUDA is not available, using FakeThrustRTC!\n",
      "  warnings.warn(\"CUDA is not available, using FakeThrustRTC!\")\n"
     ]
    },
    {
     "name": "stdout",
     "output_type": "stream",
     "text": [
      "1000:64:33 ...\n"
     ]
    },
    {
     "name": "stderr",
     "output_type": "stream",
     "text": [
      "/home/slayoo/devel/PySDM/PySDM/backends/thrust_rtc.py:72: UserWarning: CUDA is not available, using FakeThrustRTC!\n",
      "  warnings.warn(\"CUDA is not available, using FakeThrustRTC!\")\n"
     ]
    },
    {
     "name": "stdout",
     "output_type": "stream",
     "text": [
      "1000:64:44 ...\n"
     ]
    },
    {
     "name": "stderr",
     "output_type": "stream",
     "text": [
      "/home/slayoo/devel/PySDM/PySDM/backends/thrust_rtc.py:72: UserWarning: CUDA is not available, using FakeThrustRTC!\n",
      "  warnings.warn(\"CUDA is not available, using FakeThrustRTC!\")\n"
     ]
    },
    {
     "name": "stdout",
     "output_type": "stream",
     "text": [
      "1000:64:55 ...\n"
     ]
    },
    {
     "name": "stderr",
     "output_type": "stream",
     "text": [
      "/home/slayoo/devel/PySDM/PySDM/backends/thrust_rtc.py:72: UserWarning: CUDA is not available, using FakeThrustRTC!\n",
      "  warnings.warn(\"CUDA is not available, using FakeThrustRTC!\")\n"
     ]
    },
    {
     "name": "stdout",
     "output_type": "stream",
     "text": [
      "1000:64:66 ...\n"
     ]
    },
    {
     "name": "stderr",
     "output_type": "stream",
     "text": [
      "/home/slayoo/devel/PySDM/PySDM/backends/thrust_rtc.py:72: UserWarning: CUDA is not available, using FakeThrustRTC!\n",
      "  warnings.warn(\"CUDA is not available, using FakeThrustRTC!\")\n"
     ]
    },
    {
     "name": "stdout",
     "output_type": "stream",
     "text": [
      "1000:64:77 ...\n"
     ]
    },
    {
     "name": "stderr",
     "output_type": "stream",
     "text": [
      "/home/slayoo/devel/PySDM/PySDM/backends/thrust_rtc.py:72: UserWarning: CUDA is not available, using FakeThrustRTC!\n",
      "  warnings.warn(\"CUDA is not available, using FakeThrustRTC!\")\n"
     ]
    },
    {
     "name": "stdout",
     "output_type": "stream",
     "text": [
      "1000:16:22 ...\n"
     ]
    },
    {
     "name": "stderr",
     "output_type": "stream",
     "text": [
      "/home/slayoo/devel/PySDM/PySDM/backends/thrust_rtc.py:72: UserWarning: CUDA is not available, using FakeThrustRTC!\n",
      "  warnings.warn(\"CUDA is not available, using FakeThrustRTC!\")\n"
     ]
    },
    {
     "name": "stdout",
     "output_type": "stream",
     "text": [
      "1000:16:33 ...\n"
     ]
    },
    {
     "name": "stderr",
     "output_type": "stream",
     "text": [
      "/home/slayoo/devel/PySDM/PySDM/backends/thrust_rtc.py:72: UserWarning: CUDA is not available, using FakeThrustRTC!\n",
      "  warnings.warn(\"CUDA is not available, using FakeThrustRTC!\")\n"
     ]
    },
    {
     "name": "stdout",
     "output_type": "stream",
     "text": [
      "1000:16:44 ...\n"
     ]
    },
    {
     "name": "stderr",
     "output_type": "stream",
     "text": [
      "/home/slayoo/devel/PySDM/PySDM/backends/thrust_rtc.py:72: UserWarning: CUDA is not available, using FakeThrustRTC!\n",
      "  warnings.warn(\"CUDA is not available, using FakeThrustRTC!\")\n"
     ]
    },
    {
     "name": "stdout",
     "output_type": "stream",
     "text": [
      "1000:16:55 ...\n"
     ]
    },
    {
     "name": "stderr",
     "output_type": "stream",
     "text": [
      "/home/slayoo/devel/PySDM/PySDM/backends/thrust_rtc.py:72: UserWarning: CUDA is not available, using FakeThrustRTC!\n",
      "  warnings.warn(\"CUDA is not available, using FakeThrustRTC!\")\n"
     ]
    },
    {
     "name": "stdout",
     "output_type": "stream",
     "text": [
      "1000:16:66 ...\n"
     ]
    },
    {
     "name": "stderr",
     "output_type": "stream",
     "text": [
      "/home/slayoo/devel/PySDM/PySDM/backends/thrust_rtc.py:72: UserWarning: CUDA is not available, using FakeThrustRTC!\n",
      "  warnings.warn(\"CUDA is not available, using FakeThrustRTC!\")\n"
     ]
    },
    {
     "name": "stdout",
     "output_type": "stream",
     "text": [
      "1000:16:77 ...\n"
     ]
    },
    {
     "name": "stderr",
     "output_type": "stream",
     "text": [
      "/home/slayoo/devel/PySDM/PySDM/backends/thrust_rtc.py:72: UserWarning: CUDA is not available, using FakeThrustRTC!\n",
      "  warnings.warn(\"CUDA is not available, using FakeThrustRTC!\")\n"
     ]
    },
    {
     "name": "stdout",
     "output_type": "stream",
     "text": [
      "1000:4:22 ...\n"
     ]
    },
    {
     "name": "stderr",
     "output_type": "stream",
     "text": [
      "/home/slayoo/devel/PySDM/PySDM/backends/thrust_rtc.py:72: UserWarning: CUDA is not available, using FakeThrustRTC!\n",
      "  warnings.warn(\"CUDA is not available, using FakeThrustRTC!\")\n"
     ]
    },
    {
     "name": "stdout",
     "output_type": "stream",
     "text": [
      "1000:4:33 ...\n"
     ]
    },
    {
     "name": "stderr",
     "output_type": "stream",
     "text": [
      "/home/slayoo/devel/PySDM/PySDM/backends/thrust_rtc.py:72: UserWarning: CUDA is not available, using FakeThrustRTC!\n",
      "  warnings.warn(\"CUDA is not available, using FakeThrustRTC!\")\n"
     ]
    },
    {
     "name": "stdout",
     "output_type": "stream",
     "text": [
      "1000:4:44 ...\n"
     ]
    },
    {
     "name": "stderr",
     "output_type": "stream",
     "text": [
      "/home/slayoo/devel/PySDM/PySDM/backends/thrust_rtc.py:72: UserWarning: CUDA is not available, using FakeThrustRTC!\n",
      "  warnings.warn(\"CUDA is not available, using FakeThrustRTC!\")\n"
     ]
    },
    {
     "name": "stdout",
     "output_type": "stream",
     "text": [
      "1000:4:55 ...\n"
     ]
    },
    {
     "name": "stderr",
     "output_type": "stream",
     "text": [
      "/home/slayoo/devel/PySDM/PySDM/backends/thrust_rtc.py:72: UserWarning: CUDA is not available, using FakeThrustRTC!\n",
      "  warnings.warn(\"CUDA is not available, using FakeThrustRTC!\")\n"
     ]
    },
    {
     "name": "stdout",
     "output_type": "stream",
     "text": [
      "1000:4:66 ...\n"
     ]
    },
    {
     "name": "stderr",
     "output_type": "stream",
     "text": [
      "/home/slayoo/devel/PySDM/PySDM/backends/thrust_rtc.py:72: UserWarning: CUDA is not available, using FakeThrustRTC!\n",
      "  warnings.warn(\"CUDA is not available, using FakeThrustRTC!\")\n"
     ]
    },
    {
     "name": "stdout",
     "output_type": "stream",
     "text": [
      "1000:4:77 ...\n"
     ]
    },
    {
     "name": "stderr",
     "output_type": "stream",
     "text": [
      "/home/slayoo/devel/PySDM/PySDM/backends/thrust_rtc.py:72: UserWarning: CUDA is not available, using FakeThrustRTC!\n",
      "  warnings.warn(\"CUDA is not available, using FakeThrustRTC!\")\n"
     ]
    },
    {
     "name": "stdout",
     "output_type": "stream",
     "text": [
      "1000:1:22 ...\n"
     ]
    },
    {
     "name": "stderr",
     "output_type": "stream",
     "text": [
      "/home/slayoo/devel/PySDM/PySDM/backends/thrust_rtc.py:72: UserWarning: CUDA is not available, using FakeThrustRTC!\n",
      "  warnings.warn(\"CUDA is not available, using FakeThrustRTC!\")\n"
     ]
    },
    {
     "name": "stdout",
     "output_type": "stream",
     "text": [
      "1000:1:33 ...\n"
     ]
    },
    {
     "name": "stderr",
     "output_type": "stream",
     "text": [
      "/home/slayoo/devel/PySDM/PySDM/backends/thrust_rtc.py:72: UserWarning: CUDA is not available, using FakeThrustRTC!\n",
      "  warnings.warn(\"CUDA is not available, using FakeThrustRTC!\")\n"
     ]
    },
    {
     "name": "stdout",
     "output_type": "stream",
     "text": [
      "1000:1:44 ...\n"
     ]
    },
    {
     "name": "stderr",
     "output_type": "stream",
     "text": [
      "/home/slayoo/devel/PySDM/PySDM/backends/thrust_rtc.py:72: UserWarning: CUDA is not available, using FakeThrustRTC!\n",
      "  warnings.warn(\"CUDA is not available, using FakeThrustRTC!\")\n"
     ]
    },
    {
     "name": "stdout",
     "output_type": "stream",
     "text": [
      "1000:1:55 ...\n"
     ]
    },
    {
     "name": "stderr",
     "output_type": "stream",
     "text": [
      "/home/slayoo/devel/PySDM/PySDM/backends/thrust_rtc.py:72: UserWarning: CUDA is not available, using FakeThrustRTC!\n",
      "  warnings.warn(\"CUDA is not available, using FakeThrustRTC!\")\n"
     ]
    },
    {
     "name": "stdout",
     "output_type": "stream",
     "text": [
      "1000:1:66 ...\n"
     ]
    },
    {
     "name": "stderr",
     "output_type": "stream",
     "text": [
      "/home/slayoo/devel/PySDM/PySDM/backends/thrust_rtc.py:72: UserWarning: CUDA is not available, using FakeThrustRTC!\n",
      "  warnings.warn(\"CUDA is not available, using FakeThrustRTC!\")\n"
     ]
    },
    {
     "name": "stdout",
     "output_type": "stream",
     "text": [
      "1000:1:77 ...\n"
     ]
    },
    {
     "name": "stderr",
     "output_type": "stream",
     "text": [
      "/home/slayoo/devel/PySDM/PySDM/backends/thrust_rtc.py:72: UserWarning: CUDA is not available, using FakeThrustRTC!\n",
      "  warnings.warn(\"CUDA is not available, using FakeThrustRTC!\")\n"
     ]
    },
    {
     "ename": "AssertionError",
     "evalue": "",
     "output_type": "error",
     "traceback": [
      "\u001b[0;31m---------------------------------------------------------------------------\u001b[0m",
      "\u001b[0;31mAssertionError\u001b[0m                            Traceback (most recent call last)",
      "Input \u001b[0;32mIn [3]\u001b[0m, in \u001b[0;36m<cell line: 27>\u001b[0;34m()\u001b[0m\n\u001b[1;32m     31\u001b[0m formulae \u001b[38;5;241m=\u001b[39m Formulae(\n\u001b[1;32m     32\u001b[0m     heterogeneous_ice_nucleation_rate\u001b[38;5;241m=\u001b[39m\u001b[38;5;124m\"\u001b[39m\u001b[38;5;124mConstant\u001b[39m\u001b[38;5;124m\"\u001b[39m,\n\u001b[1;32m     33\u001b[0m     constants\u001b[38;5;241m=\u001b[39m{\u001b[38;5;124m\"\u001b[39m\u001b[38;5;124mJ_HET\u001b[39m\u001b[38;5;124m\"\u001b[39m: rate \u001b[38;5;241m/\u001b[39m immersed_surface_area},\n\u001b[1;32m     34\u001b[0m     seed\u001b[38;5;241m=\u001b[39mcase[\u001b[38;5;124m'\u001b[39m\u001b[38;5;124mseed\u001b[39m\u001b[38;5;124m'\u001b[39m],\n\u001b[1;32m     35\u001b[0m )\n\u001b[1;32m     37\u001b[0m n_sd \u001b[38;5;241m=\u001b[39m \u001b[38;5;28mint\u001b[39m(number_of_real_droplets \u001b[38;5;241m/\u001b[39m\u001b[38;5;241m/\u001b[39m case[\u001b[38;5;124m\"\u001b[39m\u001b[38;5;124mN\u001b[39m\u001b[38;5;124m\"\u001b[39m])\n\u001b[0;32m---> 38\u001b[0m \u001b[38;5;28;01massert\u001b[39;00m n_sd \u001b[38;5;241m==\u001b[39m number_of_real_droplets \u001b[38;5;241m/\u001b[39m case[\u001b[38;5;124m\"\u001b[39m\u001b[38;5;124mN\u001b[39m\u001b[38;5;124m\"\u001b[39m]\n\u001b[1;32m     39\u001b[0m \u001b[38;5;28;01massert\u001b[39;00m total_time \u001b[38;5;241m/\u001b[39m\u001b[38;5;241m/\u001b[39m case[\u001b[38;5;124m\"\u001b[39m\u001b[38;5;124mdt\u001b[39m\u001b[38;5;124m\"\u001b[39m] \u001b[38;5;241m==\u001b[39m total_time \u001b[38;5;241m/\u001b[39m case[\u001b[38;5;124m\"\u001b[39m\u001b[38;5;124mdt\u001b[39m\u001b[38;5;124m\"\u001b[39m]\n\u001b[1;32m     41\u001b[0m key \u001b[38;5;241m=\u001b[39m \u001b[38;5;124mf\u001b[39m\u001b[38;5;124m\"\u001b[39m\u001b[38;5;132;01m{\u001b[39;00mcase[\u001b[38;5;124m'\u001b[39m\u001b[38;5;124mdt\u001b[39m\u001b[38;5;124m'\u001b[39m]\u001b[38;5;132;01m}\u001b[39;00m\u001b[38;5;124m:\u001b[39m\u001b[38;5;132;01m{\u001b[39;00mn_sd\u001b[38;5;132;01m}\u001b[39;00m\u001b[38;5;124m:\u001b[39m\u001b[38;5;132;01m{\u001b[39;00mcase[\u001b[38;5;124m'\u001b[39m\u001b[38;5;124mseed\u001b[39m\u001b[38;5;124m'\u001b[39m]\u001b[38;5;132;01m}\u001b[39;00m\u001b[38;5;124m\"\u001b[39m\n",
      "\u001b[0;31mAssertionError\u001b[0m: "
     ]
    }
   ],
   "source": [
    "cases = tuple([{\"dt\": dt, \"N\": mlt, \"seed\": seed} for dt, mlt, seed in itertools.product(DTS, MLT, SEEDS)])\n",
    "rate = 1e-9 / si.s\n",
    "immersed_surface_area = 1 * si.m\n",
    "\n",
    "number_of_real_droplets = 1024*1\n",
    "total_time = (\n",
    "    0.2e8  # effectively interpreted here as seconds, i.e. cycle = 1 * si.s\n",
    ")\n",
    "\n",
    "# dummy (but must-be-set) values\n",
    "vol = (\n",
    "    44  # for sign flip (ice water has negative volumes), value does not matter\n",
    ")\n",
    "d_v = 666  # products use conc., dividing there, multiplying here, value does not matter\n",
    "\n",
    "def hgh(t):\n",
    "    return np.exp(-0.75 * rate * (t - total_time / 4))\n",
    "\n",
    "def low(t):\n",
    "    return np.exp(-1.25 * rate * (t + total_time / 4))\n",
    "\n",
    "\n",
    "output = {}\n",
    "\n",
    "products = (IceWaterContent(name=\"qi\"),)\n",
    "\n",
    "for backend_class in (GPU,):\n",
    "    backend_key = backend_class.__name__\n",
    "    output[backend_key] = {}\n",
    "    for case in cases:\n",
    "        formulae = Formulae(\n",
    "            heterogeneous_ice_nucleation_rate=\"Constant\",\n",
    "            constants={\"J_HET\": rate / immersed_surface_area},\n",
    "            seed=case['seed'],\n",
    "        )\n",
    "        \n",
    "        n_sd = int(number_of_real_droplets // case[\"N\"])\n",
    "        assert n_sd == number_of_real_droplets / case[\"N\"]\n",
    "        assert total_time // case[\"dt\"] == total_time / case[\"dt\"]\n",
    "\n",
    "        key = f\"{case['dt']}:{n_sd}:{case['seed']}\"\n",
    "        print(key, \"...\")\n",
    "        output[backend_key][key] = {\"unfrozen_fraction\": [], \"dt\": case[\"dt\"], \"N\": case[\"N\"]}\n",
    "\n",
    "        builder = Builder(n_sd=n_sd, backend=backend_class(formulae=formulae))\n",
    "        env = Box(dt=case[\"dt\"], dv=d_v)\n",
    "        builder.set_environment(env)\n",
    "        builder.add_dynamic(Freezing(singular=False))\n",
    "        attributes = {\n",
    "            \"multiplicity\": np.full(n_sd, int(case[\"N\"])),\n",
    "            \"immersed surface area\": np.full(n_sd, immersed_surface_area),\n",
    "            \"volume\": np.full(n_sd, vol),\n",
    "        }\n",
    "        particulator = builder.build(attributes=attributes, products=products)\n",
    "        env[\"RH\"] = 1.0001\n",
    "        env[\"a_w_ice\"] = np.nan\n",
    "        env[\"T\"] = np.nan\n",
    "\n",
    "        cell_id = 0\n",
    "        for i in range(int(total_time / case[\"dt\"]) + 1):\n",
    "            particulator.run(0 if i == 0 else 1)\n",
    "\n",
    "            ice_mass_per_volume = particulator.products[\"qi\"].get()[cell_id]\n",
    "            ice_mass = ice_mass_per_volume * d_v\n",
    "            ice_number = ice_mass / (const.rho_w * vol)\n",
    "            unfrozen_fraction = 1 - ice_number / number_of_real_droplets\n",
    "            output[backend_key][key][\"unfrozen_fraction\"].append(unfrozen_fraction)"
   ]
  },
  {
   "cell_type": "code",
   "execution_count": null,
   "id": "48b99e24",
   "metadata": {},
   "outputs": [],
   "source": [
    "def _plot_fit(fit_x, fit_y, low, hgh, total_time):\n",
    "    pyplot.plot(\n",
    "        fit_x, fit_y, color=\"black\", linestyle=\"--\", label=\"theory\", linewidth=5\n",
    "    )\n",
    "    pyplot.plot(\n",
    "        fit_x, hgh(fit_x), color=\"black\", linestyle=\":\", label=\"assert upper bound\"\n",
    "    )\n",
    "    pyplot.plot(\n",
    "        fit_x, low(fit_x), color=\"black\", linestyle=\":\", label=\"assert lower bound\"\n",
    "    )\n",
    "    pyplot.legend()\n",
    "    pyplot.yscale(\"log\")\n",
    "    pyplot.ylim(fit_y[-1], fit_y[0])\n",
    "    pyplot.xlim(None, total_time)\n",
    "    pyplot.xlabel(\"time [s]\")\n",
    "    pyplot.ylabel(\"unfrozen fraction\")\n",
    "    pyplot.grid()"
   ]
  },
  {
   "cell_type": "code",
   "execution_count": null,
   "id": "4cc2cbaf",
   "metadata": {},
   "outputs": [],
   "source": [
    "for backend_key in output.keys():\n",
    "    for key, out in output[backend_key].items():\n",
    "        fit_x = np.linspace(0, total_time, num=100)\n",
    "        fit_y = np.exp(-rate * fit_x)\n",
    "\n",
    "        sim_x = out[\"dt\"] * np.arange(len(out[\"unfrozen_fraction\"]))\n",
    "        sim_y = out[\"unfrozen_fraction\"]\n",
    "#         pyplot.step(\n",
    "#             sim_x,\n",
    "#             sim_y,\n",
    "#             label=f\"dt={out['dt']:.2g} / N={out['N']}\",\n",
    "#             marker=\".\",\n",
    "#            # linewidth=1 + out[\"N\"] // 8,\n",
    "#         )\n",
    "        output[backend_key][key]['mse'] = error_norm(\n",
    "            actual=sim_y[1:],\n",
    "            expected=np.exp(-rate * sim_x[1:])\n",
    "        )\n",
    "#     _plot_fit(fit_x, fit_y, low, hgh, total_time)\n",
    "#     pyplot.title(f\"backand: {backend_key}\")\n",
    "#     show_plot(f\"fig_convergence_{backend_key}.pdf\")"
   ]
  },
  {
   "cell_type": "code",
   "execution_count": null,
   "id": "d2652fad",
   "metadata": {},
   "outputs": [],
   "source": [
    "data = {}\n",
    "serr = {}\n",
    "for backend_key in output.keys():\n",
    "    data[backend_key] = np.zeros(shape=(len(DTS), len(MLT)))\n",
    "    serr[backend_key] = np.zeros(shape=(len(DTS), len(MLT)))\n",
    "    for key in output[backend_key].keys():\n",
    "        dt, mlt, _ = key.split(':')\n",
    "        i = DTS.index(float(dt))\n",
    "        j = MLT.index(number_of_real_droplets // int(mlt))\n",
    "        data[backend_key][i, j] += output[backend_key][key]['mse']\n",
    "        serr[backend_key][i, j] += output[backend_key][key]['mse']**2\n",
    "    data[backend_key] /= len(SEEDS)\n",
    "    serr[backend_key] /= len(SEEDS)\n",
    "    serr[backend_key] -= data[backend_key]**2\n",
    "    serr[backend_key] = np.where(\n",
    "        serr[backend_key] != 0,\n",
    "        np.sqrt(serr[backend_key] / len(SEEDS)),\n",
    "        np.nan\n",
    "    )\n",
    "\n",
    "def phi(dts):\n",
    "    l2dts = np.log2(dts)\n",
    "    scaled = (l2dts - min(l2dts)) / (max(l2dts) - min(l2dts))\n",
    "    return scaled * np.pi / 2\n",
    "\n",
    "def rho(n):\n",
    "    return np.log2(n)\n",
    "\n",
    "for backend_key in output.keys():\n",
    "    theta_array = phi(total_time // np.asarray(DTS))\n",
    "    r_array = rho(number_of_real_droplets // np.asarray(MLT))\n",
    "\n",
    "    X, Y = np.meshgrid(theta_array, r_array)\n",
    "    Z = np.array(list(np.log2(data[backend_key]))).reshape(len(MLT), len(DTS)).T \n",
    "    \n",
    "    rng = [math.floor(np.amin(Z)), math.ceil(np.amax(Z))]\n",
    "    levels = np.linspace(*rng, rng[-1] - rng[0] + 1)\n",
    "    \n",
    "    ax = pyplot.subplot(111, projection='polar')\n",
    "    cnt = ax.contourf(X, Y, Z, levels, cmap='jet')\n",
    "    pyplot.contour(X, Y, Z, levels, colors='black')\n",
    "    \n",
    "    ax.scatter(X, Y, alpha=.8, s=10)\n",
    "    legend = pyplot.colorbar(cnt, ax=ax, pad=0.1)\n",
    "    legend.set_label(r'$log_2(Err_{L2})$', rotation=90)\n",
    "\n",
    "    ax.set_xlabel(r\"$n_{sd}$\", labelpad=18)\n",
    "    ax.set_rlim(min(r_array) - 1, max(r_array))\n",
    "    ax.set_yticks(r_array)\n",
    "    ax.set_yticklabels(\"$2^{\" + f\"{int(tick):d}\" + \"}$\" for tick in r_array)\n",
    "    \n",
    "    ax.annotate(r'$dt$ [s]', xy=(.8, .85), xycoords='axes fraction')\n",
    "    ax.set_thetalim(min(theta_array), max(theta_array))\n",
    "    ax.set_thetagrids(theta_array / (np.pi/2) * 90, tuple(f\"{dt:d}\" for dt in DTS))\n",
    "\n",
    "    ax.grid(True)\n",
    "    \n",
    "    show_plot(f'fig_contours_{backend_key}.pdf')\n",
    "    \n",
    "    ax = pyplot.subplot(111)\n",
    "    for i, dt in enumerate(DTS):\n",
    "        ax.errorbar(\n",
    "            x=number_of_real_droplets // np.asarray(MLT),\n",
    "            y=data[backend_key][i, :],\n",
    "            yerr=serr[backend_key][i, :],\n",
    "            label=f\"dt={dt} s\",\n",
    "            marker='o',\n",
    "            capsize=4\n",
    "        )\n",
    "    pyplot.xscale('log', base=2)\n",
    "    pyplot.yscale('log', base=2)\n",
    "    pyplot.legend()\n",
    "    pyplot.xlabel(\"$n_{sd}$\")\n",
    "    pyplot.ylabel(r'$Err_{L2} (bars: std. err.)$')\n",
    "    pyplot.grid()\n",
    "    show_plot(f'fig_lines_{backend_key}.pdf')"
   ]
  },
  {
   "cell_type": "code",
   "execution_count": null,
   "id": "cb9d082d",
   "metadata": {},
   "outputs": [],
   "source": []
  },
  {
   "cell_type": "code",
   "execution_count": null,
   "id": "5165ab83",
   "metadata": {},
   "outputs": [],
   "source": []
  },
  {
   "cell_type": "code",
   "execution_count": null,
   "id": "378221af",
   "metadata": {},
   "outputs": [],
   "source": []
  },
  {
   "cell_type": "code",
   "execution_count": null,
   "id": "f96e0ae8",
   "metadata": {},
   "outputs": [],
   "source": []
  },
  {
   "cell_type": "code",
   "execution_count": null,
   "id": "8ada2a44",
   "metadata": {},
   "outputs": [],
   "source": []
  },
  {
   "cell_type": "code",
   "execution_count": null,
   "id": "bd1dfb15",
   "metadata": {},
   "outputs": [],
   "source": []
  }
 ],
 "metadata": {
  "kernelspec": {
   "display_name": "Python 3 (ipykernel)",
   "language": "python",
   "name": "python3"
  },
  "language_info": {
   "codemirror_mode": {
    "name": "ipython",
    "version": 3
   },
   "file_extension": ".py",
   "mimetype": "text/x-python",
   "name": "python",
   "nbconvert_exporter": "python",
   "pygments_lexer": "ipython3",
   "version": "3.10.6"
  }
 },
 "nbformat": 4,
 "nbformat_minor": 5
}
