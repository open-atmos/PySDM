{
 "cells": [
  {
   "cell_type": "code",
   "execution_count": null,
   "id": "e34aa194",
   "metadata": {},
   "outputs": [],
   "source": [
    "import pyvinecopulib as pv\n",
    "import seaborn\n",
    "from matplotlib import pyplot\n",
    "from PySDM import Formulae\n",
    "from PySDM.physics import si\n",
    "from PySDM.initialisation.spectra import Lognormal\n",
    "from open_atmos_jupyter_utils import show_plot\n",
    "import numpy as np"
   ]
  },
  {
   "cell_type": "code",
   "execution_count": null,
   "id": "f8e0bfd6",
   "metadata": {},
   "outputs": [],
   "source": [
    "import matplotlib\n",
    "font = {'family' : 'monospace',\n",
    "        'weight' : 'light',\n",
    "        'size'   : 13\n",
    "       }\n",
    "matplotlib.rc('font', **font)  \n",
    "matplotlib.pyplot.tight_layout()"
   ]
  },
  {
   "cell_type": "code",
   "execution_count": null,
   "id": "a8cd1d9a",
   "metadata": {},
   "outputs": [],
   "source": [
    "freezing_fit_a = -0.5\n",
    "freezing_fit_b = 10\n",
    "lognormal_median = 5*si.um**2\n",
    "lognormal_g_mean = 1.75"
   ]
  },
  {
   "cell_type": "code",
   "execution_count": null,
   "id": "d49edfcf",
   "metadata": {},
   "outputs": [],
   "source": [
    "formulae = Formulae(\n",
    "    freezing_temperature_spectrum='Niemand_et_al_2012',\n",
    "    constants={\n",
    "        'NIEMAND_A': freezing_fit_a,\n",
    "        'NIEMAND_B': freezing_fit_b \n",
    "    }\n",
    ")\n",
    "spectrum = Lognormal(norm_factor=1, m_mode=lognormal_median, s_geom=lognormal_g_mean)"
   ]
  },
  {
   "cell_type": "code",
   "execution_count": null,
   "id": "9f12ad46",
   "metadata": {},
   "outputs": [],
   "source": [
    "T_range = (230 * si.K, 255 * si.K)\n",
    "A_range = (.05 * si.um**2, 40 * si.um**2)\n",
    "\n",
    "label_T=f'normalised freezing T within {T_range} K' \n",
    "label_A=f'normalised insoluble A within {tuple(np.asarray(A_range) / si.um**2)} $μm^2$'"
   ]
  },
  {
   "cell_type": "code",
   "execution_count": null,
   "id": "019715d6",
   "metadata": {},
   "outputs": [],
   "source": [
    "N = 256\n",
    "T = np.linspace(*T_range, N)\n",
    "A = np.linspace(*A_range, N)\n",
    "\n",
    "grid = np.meshgrid(T, A)\n",
    "\n",
    "def pdf(T_arg, A_arg):\n",
    "    return formulae.freezing_temperature_spectrum.pdf(T_arg, A_arg) * spectrum.pdf(A_arg)\n",
    "\n",
    "def cdfA(A_arg):\n",
    "    return spectrum.cdf(A_arg)\n",
    "\n",
    "def cdfT(T_arg):\n",
    "    return formulae.freezing_temperature_spectrum.cdf(T_arg, spectrum.median)\n",
    "\n",
    "def invcdfA(x):\n",
    "    return spectrum.percentiles(x)\n",
    "\n",
    "def invcdfT(x):\n",
    "    return formulae.freezing_temperature_spectrum.invcdf(x, spectrum.median)\n",
    "\n",
    "def _T_to_01(T_arg):\n",
    "    return (T_arg - T_range[0]) / np.diff(T_range)\n",
    "\n",
    "def _01_to_T(x):\n",
    "    return x * np.diff(T_range) + T_range[0]\n",
    "\n",
    "def _A_to_01(A_arg):\n",
    "    return (A_arg - A_range[0]) / np.diff(A_range)\n",
    "    \n",
    "def _01_to_A(x):\n",
    "    return x * np.diff(A_range) + A_range[0]\n",
    "\n",
    "\n",
    "dT = T[1] - T[0]\n",
    "dA = A[1] - A[0]\n",
    "sampled_pdf = pdf(*grid)"
   ]
  },
  {
   "cell_type": "code",
   "execution_count": null,
   "id": "944ab8a0",
   "metadata": {},
   "outputs": [],
   "source": [
    "fig = pyplot.figure(figsize=(7, 6))\n",
    "ax = fig.add_subplot(111)\n",
    "ax.set_xlabel('freezing temperature [K]')\n",
    "ax.set_ylabel('insoluble surface [$μm^2$]')\n",
    "cnt = ax.contour(grid[0], grid[1] / si.um**2, sampled_pdf * si.um**2, levels=20)\n",
    "cbar = pyplot.colorbar(cnt)\n",
    "cbar.set_label('pdf [$K^{-1} μm^{-2}$]')\n",
    "pyplot.grid()\n",
    "show_plot()\n",
    "np.testing.assert_almost_equal(np.sum(sampled_pdf) * dT * dA, 1, decimal=1)"
   ]
  },
  {
   "cell_type": "code",
   "execution_count": null,
   "id": "8a08db5f",
   "metadata": {},
   "outputs": [],
   "source": [
    "n_samples = 2222\n",
    "seed = 222\n",
    "mult = 22\n",
    "\n",
    "rng = np.random.default_rng(seed)\n",
    "T_rand = rng.uniform(0, 1, n_samples)\n",
    "A_rand = rng.uniform(0, 1, n_samples)\n",
    "data = pdf(\n",
    "    _01_to_T(T_rand),\n",
    "    _01_to_A(A_rand)\n",
    ")\n",
    "\n",
    "data -= min(data)\n",
    "data /= max(data)\n",
    "data *= mult\n",
    "\n",
    "points_T = []\n",
    "points_A = []\n",
    "for i, v in enumerate(np.round(data).astype(dtype=int)):\n",
    "    for _ in range(v):\n",
    "        points_T.append(T_rand[i])\n",
    "        points_A.append(A_rand[i])\n",
    "\n",
    "data = np.asarray([points_T, points_A]).T"
   ]
  },
  {
   "cell_type": "code",
   "execution_count": null,
   "id": "e4ccc918",
   "metadata": {},
   "outputs": [],
   "source": [
    "def jointplot(data_arg, title=''):\n",
    "    h = seaborn.jointplot(x=data_arg[:, 0], y=data_arg[:, 1], kind='hex', label=title)\n",
    "    h.set_axis_labels(label_T, label_A)\n",
    "    if title != '':\n",
    "        pyplot.legend(loc='upper right')"
   ]
  },
  {
   "cell_type": "code",
   "execution_count": null,
   "id": "fd8fd4c1",
   "metadata": {},
   "outputs": [],
   "source": [
    "jointplot(data)\n",
    "show_plot('01.pdf')"
   ]
  },
  {
   "cell_type": "code",
   "execution_count": null,
   "id": "7604f8af",
   "metadata": {},
   "outputs": [],
   "source": [
    "# transform data to uniform (= copula) scale\n",
    "# (n / (n + 1)) is a correction for the cdf so it stays away from 1\n",
    "n=data.shape[0]\n",
    "udata=np.empty((n,2))\n",
    "udata[:,0]=1-cdfT(_01_to_T(data[:,0]))#*n/(n+1)\n",
    "udata[:,1]=cdfA(_01_to_A(data[:,1]))#*n/(n+1)"
   ]
  },
  {
   "cell_type": "code",
   "execution_count": null,
   "id": "9bac7953",
   "metadata": {},
   "outputs": [],
   "source": [
    "def check_cdf(arg, fun, xlabel):\n",
    "    histo, bins = np.histogram(arg, bins=64, density=True)\n",
    "    dx = bins[1] - bins[0]\n",
    "    cdf = np.concatenate([[0], np.cumsum(histo*dx)])\n",
    "    pyplot.step(bins, cdf, where='mid')\n",
    "    pyplot.plot(bins, fun(bins)*n/(n+1))\n",
    "    pyplot.ylabel('cdf')\n",
    "    pyplot.xlabel(xlabel)\n",
    "    pyplot.grid()\n",
    "    show_plot()\n",
    "\n",
    "check_cdf(data[:,0], lambda x: 1-cdfT(_01_to_T(x)), xlabel=label_T)\n",
    "check_cdf(data[:,1], lambda x: cdfA(_01_to_A(x)), xlabel=label_A)"
   ]
  },
  {
   "cell_type": "code",
   "execution_count": null,
   "id": "1f1cade9",
   "metadata": {},
   "outputs": [],
   "source": [
    "# udata are almost perfectly uniform by construction\n",
    "jointplot(udata)\n",
    "show_plot('02.pdf')"
   ]
  },
  {
   "cell_type": "code",
   "execution_count": null,
   "id": "ecc2f508",
   "metadata": {},
   "outputs": [],
   "source": [
    "# transform back to original scale\n",
    "testdata=np.empty((data.shape[0],2))\n",
    "testdata[:,0]=np.quantile(data[:,0],udata[:,0])\n",
    "testdata[:,1]=np.quantile(data[:,1],udata[:,1])\n",
    "jointplot(testdata)"
   ]
  },
  {
   "cell_type": "code",
   "execution_count": null,
   "id": "0c9a6bcd",
   "metadata": {},
   "outputs": [],
   "source": [
    "families = (pv.BicopFamily.indep, pv.BicopFamily.tll)\n",
    "copulae = {}\n",
    "for family in families:\n",
    "    copulae[family] = pv.Bicop(udata, controls = pv.FitControlsBicop(family_set=[family]))"
   ]
  },
  {
   "cell_type": "code",
   "execution_count": null,
   "id": "3bd379b3",
   "metadata": {},
   "outputs": [],
   "source": [
    "for i, family in enumerate(families):    \n",
    "    simulated = copulae[family].simulate(n=256, seeds=[44])\n",
    "    copdata=np.empty((simulated.shape[0], 2))\n",
    "    copdata[:, 0] = _T_to_01(invcdfT(1-simulated[:,0]))\n",
    "    copdata[:, 1] = _A_to_01(invcdfA(simulated[:,1]))\n",
    "    \n",
    "    jointplot(copdata, title=copulae[family])\n",
    "    pyplot.gca().set_xlim(-.01,1)\n",
    "    pyplot.gca().set_ylim(-.01,1)\n",
    "    pyplot.gca().contour(_T_to_01(grid[0]), _A_to_01(grid[1]), sampled_pdf, levels=10, alpha=.75)\n",
    "    pyplot.grid()\n",
    "    show_plot(f'03_{i}.pdf')"
   ]
  },
  {
   "cell_type": "code",
   "execution_count": null,
   "id": "e2cec306",
   "metadata": {},
   "outputs": [],
   "source": []
  },
  {
   "cell_type": "code",
   "execution_count": null,
   "id": "8f027526",
   "metadata": {},
   "outputs": [],
   "source": []
  }
 ],
 "metadata": {
  "kernelspec": {
   "display_name": "Python 3 (ipykernel)",
   "language": "python",
   "name": "python3"
  },
  "language_info": {
   "codemirror_mode": {
    "name": "ipython",
    "version": 3
   },
   "file_extension": ".py",
   "mimetype": "text/x-python",
   "name": "python",
   "nbconvert_exporter": "python",
   "pygments_lexer": "ipython3",
   "version": "3.8.9"
  }
 },
 "nbformat": 4,
 "nbformat_minor": 5
}
