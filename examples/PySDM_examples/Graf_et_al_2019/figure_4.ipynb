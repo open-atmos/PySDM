{
 "cells": [
  {
   "cell_type": "markdown",
   "source": [
    "[![View notebook](https://img.shields.io/static/v1?label=render%20on&logo=github&color=87ce3e&message=GitHub)](https://github.com/open-atmos/PySDM/blob/main/examples/PySDM_examples/Graf_et_al_2019/figure_4.ipynb)\n",
    "[![Binder](https://mybinder.org/badge_logo.svg)](https://mybinder.org/v2/gh/open-atmos/PySDM.git/main?urlpath=examples/PySDM_examples/Graf_et_al_2019/figure_4.ipynb)   \n",
    "[![Open In Colab](https://colab.research.google.com/assets/colab-badge.svg)](https://colab.research.google.com/github/open-atmos/PySDM/blob/main/examples/PySDM_examples/Graf_et_al_2019/figure_4.ipynb)"
   ],
   "metadata": {
    "collapsed": false
   },
   "id": "327f2a018faf3142"
  },
  {
   "cell_type": "markdown",
   "source": [
    "based on [Graf et al. 2019](https://doi.org/10.5194/acp-19-747-2019)"
   ],
   "metadata": {
    "collapsed": false
   },
   "id": "aa160d9c48befc58"
  },
  {
   "cell_type": "code",
   "outputs": [],
   "source": [
    "import math\n",
    "import numpy as np\n",
    "from open_atmos_jupyter_utils import show_plot\n",
    "from PySDM.physics import si\n",
    "from PySDM.environments import Parcel\n",
    "from PySDM.backends import CPU\n",
    "from PySDM import Builder, Formulae\n",
    "from PySDM.dynamics import AmbientThermodynamics, Condensation\n",
    "from PySDM.initialisation.spectra import Lognormal\n",
    "from PySDM.initialisation.sampling import spectral_sampling\n",
    "from PySDM.initialisation import equilibrate_wet_radii, discretise_multiplicities\n",
    "from PySDM import products"
   ],
   "metadata": {
    "collapsed": false,
    "ExecuteTime": {
     "end_time": "2024-01-11T08:43:41.429069Z",
     "start_time": "2024-01-11T08:43:41.423952Z"
    }
   },
   "id": "2432d43d15e97625",
   "execution_count": 13
  },
  {
   "cell_type": "code",
   "outputs": [],
   "source": [
    "formulae = Formulae()\n",
    "const = formulae.constants\n",
    "pvs_Celsius = formulae.saturation_vapour_pressure.pvs_Celsius\n",
    "\n",
    "RH0 = .75\n",
    "p0 = 950 * si.hPa\n",
    "T0_C = 12 * si.K\n",
    "alt_initial = 500 * si.m \n",
    "alt_final = 3500 * si.m\n",
    "\n",
    "total_displacement = alt_final - alt_initial\n",
    "initial_water_vapour_mixing_ratio = const.eps / (p0 / RH0 / pvs_Celsius(T0_C) - 1)\n",
    "\n",
    "n_sd = 1\n",
    "dt = 10 * si.s\n",
    "vertical_velocity = 2.5 * si.m / si.s"
   ],
   "metadata": {
    "collapsed": false,
    "ExecuteTime": {
     "end_time": "2024-01-11T08:42:35.791569Z",
     "start_time": "2024-01-11T08:42:35.352112Z"
    }
   },
   "id": "81d815991be0cc9",
   "execution_count": 2
  },
  {
   "cell_type": "code",
   "outputs": [],
   "source": [
    "env = Parcel(\n",
    "    # given in the paper\n",
    "    p0=p0,\n",
    "    T0=T0_C + const.T0,\n",
    "    initial_water_vapour_mixing_ratio=initial_water_vapour_mixing_ratio,\n",
    "    # arbitrary choices\n",
    "    w=vertical_velocity,\n",
    "    dt=dt,\n",
    "    mass_of_dry_air=1e3 * si.kg,\n",
    ")"
   ],
   "metadata": {
    "collapsed": false,
    "ExecuteTime": {
     "end_time": "2024-01-11T08:42:35.796706Z",
     "start_time": "2024-01-11T08:42:35.793581Z"
    }
   },
   "id": "dada2ae5b4083f0e",
   "execution_count": 3
  },
  {
   "cell_type": "code",
   "outputs": [],
   "source": [
    "builder = Builder(backend=CPU(formulae=formulae), n_sd=n_sd, environment=env)\n",
    "builder.add_dynamic(AmbientThermodynamics())\n",
    "builder.add_dynamic(Condensation())"
   ],
   "metadata": {
    "collapsed": false,
    "ExecuteTime": {
     "end_time": "2024-01-11T08:42:36.874577Z",
     "start_time": "2024-01-11T08:42:35.804074Z"
    }
   },
   "id": "47f3f883e4e67ed",
   "execution_count": 4
  },
  {
   "cell_type": "code",
   "outputs": [],
   "source": [
    "spectrum = Lognormal(norm_factor=1e4 / si.mg, m_mode=50 * si.nm, s_geom=1.5)\n",
    "kappa = .5 * si.dimensionless\n",
    "cloud_range = (.5 * si.um, 25 * si.um)\n",
    "output_interval = 4\n",
    "output_points = 40"
   ],
   "metadata": {
    "collapsed": false,
    "ExecuteTime": {
     "end_time": "2024-01-11T08:42:36.878312Z",
     "start_time": "2024-01-11T08:42:36.876718Z"
    }
   },
   "id": "f98070a3d550d65",
   "execution_count": 5
  },
  {
   "cell_type": "code",
   "outputs": [],
   "source": [
    "r_dry, specific_concentration = spectral_sampling.Logarithmic(spectrum).sample(n_sd)"
   ],
   "metadata": {
    "collapsed": false,
    "ExecuteTime": {
     "end_time": "2024-01-11T08:42:36.883Z",
     "start_time": "2024-01-11T08:42:36.880940Z"
    }
   },
   "id": "5ec5eabc3c1d3872",
   "execution_count": 6
  },
  {
   "cell_type": "code",
   "outputs": [],
   "source": [
    "v_dry = formulae.trivia.volume(radius=r_dry)"
   ],
   "metadata": {
    "collapsed": false,
    "ExecuteTime": {
     "end_time": "2024-01-11T08:42:37.072808Z",
     "start_time": "2024-01-11T08:42:36.886365Z"
    }
   },
   "id": "ce639f01f48ff348",
   "execution_count": 7
  },
  {
   "cell_type": "code",
   "outputs": [],
   "source": [
    "r_wet = equilibrate_wet_radii(r_dry=r_dry, environment=env, kappa_times_dry_volume=kappa * v_dry)"
   ],
   "metadata": {
    "collapsed": false,
    "ExecuteTime": {
     "end_time": "2024-01-11T08:42:38.909344Z",
     "start_time": "2024-01-11T08:42:37.088206Z"
    }
   },
   "id": "28897f499330f699",
   "execution_count": 8
  },
  {
   "cell_type": "code",
   "outputs": [],
   "source": [
    "attributes = {\n",
    "    'multiplicity': discretise_multiplicities(specific_concentration * env.mass_of_dry_air),\n",
    "    'dry volume': v_dry,\n",
    "    'kappa times dry volume': kappa * v_dry,\n",
    "    'volume': formulae.trivia.volume(radius=r_wet)\n",
    "}"
   ],
   "metadata": {
    "collapsed": false,
    "ExecuteTime": {
     "end_time": "2024-01-11T08:42:38.913147Z",
     "start_time": "2024-01-11T08:42:38.909929Z"
    }
   },
   "id": "8cf40dfb18e7e082",
   "execution_count": 9
  },
  {
   "cell_type": "code",
   "outputs": [],
   "source": [
    "particulator = builder.build(\n",
    "    attributes=attributes,\n",
    "    products=(\n",
    "        products.PeakSupersaturation(name='S_max'),\n",
    "        products.ParcelDisplacement(name=\"z\"),\n",
    "        products.AmbientTemperature(name=\"T\")\n",
    "    )\n",
    ")"
   ],
   "metadata": {
    "collapsed": false,
    "ExecuteTime": {
     "end_time": "2024-01-11T08:42:39.067069Z",
     "start_time": "2024-01-11T08:42:38.920056Z"
    }
   },
   "id": "f36faa7368db791e",
   "execution_count": 10
  },
  {
   "cell_type": "code",
   "outputs": [],
   "source": [
    "n_steps = total_displacement / (dt * vertical_velocity)\n",
    "\n",
    "output = {name:[] for name in particulator.products}\n",
    "levels = {\n",
    "    'CB': None,\n",
    "    '0C': None\n",
    "}\n",
    "\n",
    "ONE_AND_ONLY_GRID_ELEMENT = 0\n",
    "\n",
    "for step in range(math.ceil(n_steps)):\n",
    "    particulator.run(steps=1)\n",
    "    for name, product in particulator.products.items():\n",
    "        product_buffer_reference = product.get()\n",
    "        output[name].append(product_buffer_reference[ONE_AND_ONLY_GRID_ELEMENT])\n",
    "      \n",
    "    if levels['CB'] is None and output[\"S_max\"][-1] > 0:\n",
    "        levels['CB'] = .5 * (output[\"z\"][-1] + output[\"z\"][-2])\n",
    "      \n",
    "    if levels['0C'] is None and output[\"T\"][-1] < const.T0:\n",
    "        levels['0C'] = .5 * (output['z'][-1] + output[\"z\"][-2])"
   ],
   "metadata": {
    "collapsed": false,
    "ExecuteTime": {
     "end_time": "2024-01-11T08:42:45.925004Z",
     "start_time": "2024-01-11T08:42:39.077019Z"
    }
   },
   "id": "843a224f900fb94d",
   "execution_count": 11
  },
  {
   "cell_type": "code",
   "outputs": [
    {
     "data": {
      "text/plain": "<Figure size 640x480 with 2 Axes>",
      "image/svg+xml": "<?xml version=\"1.0\" encoding=\"utf-8\" standalone=\"no\"?>\n<!DOCTYPE svg PUBLIC \"-//W3C//DTD SVG 1.1//EN\"\n  \"http://www.w3.org/Graphics/SVG/1.1/DTD/svg11.dtd\">\n<svg xmlns:xlink=\"http://www.w3.org/1999/xlink\" width=\"417.648125pt\" height=\"339.144812pt\" viewBox=\"0 0 417.648125 339.144812\" xmlns=\"http://www.w3.org/2000/svg\" version=\"1.1\">\n <metadata>\n  <rdf:RDF xmlns:dc=\"http://purl.org/dc/elements/1.1/\" xmlns:cc=\"http://creativecommons.org/ns#\" xmlns:rdf=\"http://www.w3.org/1999/02/22-rdf-syntax-ns#\">\n   <cc:Work>\n    <dc:type rdf:resource=\"http://purl.org/dc/dcmitype/StillImage\"/>\n    <dc:date>2024-01-11T09:42:46.281407</dc:date>\n    <dc:format>image/svg+xml</dc:format>\n    <dc:creator>\n     <cc:Agent>\n      <dc:title>Matplotlib v3.8.2, https://matplotlib.org/</dc:title>\n     </cc:Agent>\n    </dc:creator>\n   </cc:Work>\n  </rdf:RDF>\n </metadata>\n <defs>\n  <style type=\"text/css\">*{stroke-linejoin: round; stroke-linecap: butt}</style>\n </defs>\n <g id=\"figure_1\">\n  <g id=\"patch_1\">\n   <path d=\"M 0 339.144812 \nL 417.648125 339.144812 \nL 417.648125 0 \nL 0 0 \nz\n\" style=\"fill: #ffffff\"/>\n  </g>\n  <g id=\"axes_1\">\n   <g id=\"patch_2\">\n    <path d=\"M 53.328125 301.588562 \nL 410.448125 301.588562 \nL 410.448125 35.476562 \nL 53.328125 35.476562 \nz\n\" style=\"fill: #ffffff\"/>\n   </g>\n   <g id=\"matplotlib.axis_1\">\n    <g id=\"xtick_1\">\n     <g id=\"line2d_1\">\n      <defs>\n       <path id=\"mbaaee85266\" d=\"M 0 0 \nL 0 3.5 \n\" style=\"stroke: #000000; stroke-width: 0.8\"/>\n      </defs>\n      <g>\n       <use xlink:href=\"#mbaaee85266\" x=\"53.328125\" y=\"301.588562\" style=\"stroke: #000000; stroke-width: 0.8\"/>\n      </g>\n     </g>\n     <g id=\"text_1\">\n      <!-- 75 -->\n      <g transform=\"translate(46.965625 316.187) scale(0.1 -0.1)\">\n       <defs>\n        <path id=\"DejaVuSans-37\" d=\"M 525 4666 \nL 3525 4666 \nL 3525 4397 \nL 1831 0 \nL 1172 0 \nL 2766 4134 \nL 525 4134 \nL 525 4666 \nz\n\" transform=\"scale(0.015625)\"/>\n        <path id=\"DejaVuSans-35\" d=\"M 691 4666 \nL 3169 4666 \nL 3169 4134 \nL 1269 4134 \nL 1269 2991 \nQ 1406 3038 1543 3061 \nQ 1681 3084 1819 3084 \nQ 2600 3084 3056 2656 \nQ 3513 2228 3513 1497 \nQ 3513 744 3044 326 \nQ 2575 -91 1722 -91 \nQ 1428 -91 1123 -41 \nQ 819 9 494 109 \nL 494 744 \nQ 775 591 1075 516 \nQ 1375 441 1709 441 \nQ 2250 441 2565 725 \nQ 2881 1009 2881 1497 \nQ 2881 1984 2565 2268 \nQ 2250 2553 1709 2553 \nQ 1456 2553 1204 2497 \nQ 953 2441 691 2322 \nL 691 4666 \nz\n\" transform=\"scale(0.015625)\"/>\n       </defs>\n       <use xlink:href=\"#DejaVuSans-37\"/>\n       <use xlink:href=\"#DejaVuSans-35\" x=\"63.623047\"/>\n      </g>\n     </g>\n    </g>\n    <g id=\"xtick_2\">\n     <g id=\"line2d_2\">\n      <g>\n       <use xlink:href=\"#mbaaee85266\" x=\"109.128125\" y=\"301.588562\" style=\"stroke: #000000; stroke-width: 0.8\"/>\n      </g>\n     </g>\n     <g id=\"text_2\">\n      <!-- 80 -->\n      <g transform=\"translate(102.765625 316.187) scale(0.1 -0.1)\">\n       <defs>\n        <path id=\"DejaVuSans-38\" d=\"M 2034 2216 \nQ 1584 2216 1326 1975 \nQ 1069 1734 1069 1313 \nQ 1069 891 1326 650 \nQ 1584 409 2034 409 \nQ 2484 409 2743 651 \nQ 3003 894 3003 1313 \nQ 3003 1734 2745 1975 \nQ 2488 2216 2034 2216 \nz\nM 1403 2484 \nQ 997 2584 770 2862 \nQ 544 3141 544 3541 \nQ 544 4100 942 4425 \nQ 1341 4750 2034 4750 \nQ 2731 4750 3128 4425 \nQ 3525 4100 3525 3541 \nQ 3525 3141 3298 2862 \nQ 3072 2584 2669 2484 \nQ 3125 2378 3379 2068 \nQ 3634 1759 3634 1313 \nQ 3634 634 3220 271 \nQ 2806 -91 2034 -91 \nQ 1263 -91 848 271 \nQ 434 634 434 1313 \nQ 434 1759 690 2068 \nQ 947 2378 1403 2484 \nz\nM 1172 3481 \nQ 1172 3119 1398 2916 \nQ 1625 2713 2034 2713 \nQ 2441 2713 2670 2916 \nQ 2900 3119 2900 3481 \nQ 2900 3844 2670 4047 \nQ 2441 4250 2034 4250 \nQ 1625 4250 1398 4047 \nQ 1172 3844 1172 3481 \nz\n\" transform=\"scale(0.015625)\"/>\n        <path id=\"DejaVuSans-30\" d=\"M 2034 4250 \nQ 1547 4250 1301 3770 \nQ 1056 3291 1056 2328 \nQ 1056 1369 1301 889 \nQ 1547 409 2034 409 \nQ 2525 409 2770 889 \nQ 3016 1369 3016 2328 \nQ 3016 3291 2770 3770 \nQ 2525 4250 2034 4250 \nz\nM 2034 4750 \nQ 2819 4750 3233 4129 \nQ 3647 3509 3647 2328 \nQ 3647 1150 3233 529 \nQ 2819 -91 2034 -91 \nQ 1250 -91 836 529 \nQ 422 1150 422 2328 \nQ 422 3509 836 4129 \nQ 1250 4750 2034 4750 \nz\n\" transform=\"scale(0.015625)\"/>\n       </defs>\n       <use xlink:href=\"#DejaVuSans-38\"/>\n       <use xlink:href=\"#DejaVuSans-30\" x=\"63.623047\"/>\n      </g>\n     </g>\n    </g>\n    <g id=\"xtick_3\">\n     <g id=\"line2d_3\">\n      <g>\n       <use xlink:href=\"#mbaaee85266\" x=\"164.928125\" y=\"301.588562\" style=\"stroke: #000000; stroke-width: 0.8\"/>\n      </g>\n     </g>\n     <g id=\"text_3\">\n      <!-- 85 -->\n      <g transform=\"translate(158.565625 316.187) scale(0.1 -0.1)\">\n       <use xlink:href=\"#DejaVuSans-38\"/>\n       <use xlink:href=\"#DejaVuSans-35\" x=\"63.623047\"/>\n      </g>\n     </g>\n    </g>\n    <g id=\"xtick_4\">\n     <g id=\"line2d_4\">\n      <g>\n       <use xlink:href=\"#mbaaee85266\" x=\"220.728125\" y=\"301.588562\" style=\"stroke: #000000; stroke-width: 0.8\"/>\n      </g>\n     </g>\n     <g id=\"text_4\">\n      <!-- 90 -->\n      <g transform=\"translate(214.365625 316.187) scale(0.1 -0.1)\">\n       <defs>\n        <path id=\"DejaVuSans-39\" d=\"M 703 97 \nL 703 672 \nQ 941 559 1184 500 \nQ 1428 441 1663 441 \nQ 2288 441 2617 861 \nQ 2947 1281 2994 2138 \nQ 2813 1869 2534 1725 \nQ 2256 1581 1919 1581 \nQ 1219 1581 811 2004 \nQ 403 2428 403 3163 \nQ 403 3881 828 4315 \nQ 1253 4750 1959 4750 \nQ 2769 4750 3195 4129 \nQ 3622 3509 3622 2328 \nQ 3622 1225 3098 567 \nQ 2575 -91 1691 -91 \nQ 1453 -91 1209 -44 \nQ 966 3 703 97 \nz\nM 1959 2075 \nQ 2384 2075 2632 2365 \nQ 2881 2656 2881 3163 \nQ 2881 3666 2632 3958 \nQ 2384 4250 1959 4250 \nQ 1534 4250 1286 3958 \nQ 1038 3666 1038 3163 \nQ 1038 2656 1286 2365 \nQ 1534 2075 1959 2075 \nz\n\" transform=\"scale(0.015625)\"/>\n       </defs>\n       <use xlink:href=\"#DejaVuSans-39\"/>\n       <use xlink:href=\"#DejaVuSans-30\" x=\"63.623047\"/>\n      </g>\n     </g>\n    </g>\n    <g id=\"xtick_5\">\n     <g id=\"line2d_5\">\n      <g>\n       <use xlink:href=\"#mbaaee85266\" x=\"276.528125\" y=\"301.588562\" style=\"stroke: #000000; stroke-width: 0.8\"/>\n      </g>\n     </g>\n     <g id=\"text_5\">\n      <!-- 95 -->\n      <g transform=\"translate(270.165625 316.187) scale(0.1 -0.1)\">\n       <use xlink:href=\"#DejaVuSans-39\"/>\n       <use xlink:href=\"#DejaVuSans-35\" x=\"63.623047\"/>\n      </g>\n     </g>\n    </g>\n    <g id=\"xtick_6\">\n     <g id=\"line2d_6\">\n      <g>\n       <use xlink:href=\"#mbaaee85266\" x=\"332.328125\" y=\"301.588562\" style=\"stroke: #000000; stroke-width: 0.8\"/>\n      </g>\n     </g>\n     <g id=\"text_6\">\n      <!-- 100 -->\n      <g transform=\"translate(322.784375 316.187) scale(0.1 -0.1)\">\n       <defs>\n        <path id=\"DejaVuSans-31\" d=\"M 794 531 \nL 1825 531 \nL 1825 4091 \nL 703 3866 \nL 703 4441 \nL 1819 4666 \nL 2450 4666 \nL 2450 531 \nL 3481 531 \nL 3481 0 \nL 794 0 \nL 794 531 \nz\n\" transform=\"scale(0.015625)\"/>\n       </defs>\n       <use xlink:href=\"#DejaVuSans-31\"/>\n       <use xlink:href=\"#DejaVuSans-30\" x=\"63.623047\"/>\n       <use xlink:href=\"#DejaVuSans-30\" x=\"127.246094\"/>\n      </g>\n     </g>\n    </g>\n    <g id=\"xtick_7\">\n     <g id=\"line2d_7\">\n      <g>\n       <use xlink:href=\"#mbaaee85266\" x=\"388.128125\" y=\"301.588562\" style=\"stroke: #000000; stroke-width: 0.8\"/>\n      </g>\n     </g>\n     <g id=\"text_7\">\n      <!-- 105 -->\n      <g transform=\"translate(378.584375 316.187) scale(0.1 -0.1)\">\n       <use xlink:href=\"#DejaVuSans-31\"/>\n       <use xlink:href=\"#DejaVuSans-30\" x=\"63.623047\"/>\n       <use xlink:href=\"#DejaVuSans-35\" x=\"127.246094\"/>\n      </g>\n     </g>\n    </g>\n    <g id=\"text_8\">\n     <!-- RH / % -->\n     <g transform=\"translate(215.040469 329.865125) scale(0.1 -0.1)\">\n      <defs>\n       <path id=\"DejaVuSans-52\" d=\"M 2841 2188 \nQ 3044 2119 3236 1894 \nQ 3428 1669 3622 1275 \nL 4263 0 \nL 3584 0 \nL 2988 1197 \nQ 2756 1666 2539 1819 \nQ 2322 1972 1947 1972 \nL 1259 1972 \nL 1259 0 \nL 628 0 \nL 628 4666 \nL 2053 4666 \nQ 2853 4666 3247 4331 \nQ 3641 3997 3641 3322 \nQ 3641 2881 3436 2590 \nQ 3231 2300 2841 2188 \nz\nM 1259 4147 \nL 1259 2491 \nL 2053 2491 \nQ 2509 2491 2742 2702 \nQ 2975 2913 2975 3322 \nQ 2975 3731 2742 3939 \nQ 2509 4147 2053 4147 \nL 1259 4147 \nz\n\" transform=\"scale(0.015625)\"/>\n       <path id=\"DejaVuSans-48\" d=\"M 628 4666 \nL 1259 4666 \nL 1259 2753 \nL 3553 2753 \nL 3553 4666 \nL 4184 4666 \nL 4184 0 \nL 3553 0 \nL 3553 2222 \nL 1259 2222 \nL 1259 0 \nL 628 0 \nL 628 4666 \nz\n\" transform=\"scale(0.015625)\"/>\n       <path id=\"DejaVuSans-20\" transform=\"scale(0.015625)\"/>\n       <path id=\"DejaVuSans-2f\" d=\"M 1625 4666 \nL 2156 4666 \nL 531 -594 \nL 0 -594 \nL 1625 4666 \nz\n\" transform=\"scale(0.015625)\"/>\n       <path id=\"DejaVuSans-25\" d=\"M 4653 2053 \nQ 4381 2053 4226 1822 \nQ 4072 1591 4072 1178 \nQ 4072 772 4226 539 \nQ 4381 306 4653 306 \nQ 4919 306 5073 539 \nQ 5228 772 5228 1178 \nQ 5228 1588 5073 1820 \nQ 4919 2053 4653 2053 \nz\nM 4653 2450 \nQ 5147 2450 5437 2106 \nQ 5728 1763 5728 1178 \nQ 5728 594 5436 251 \nQ 5144 -91 4653 -91 \nQ 4153 -91 3862 251 \nQ 3572 594 3572 1178 \nQ 3572 1766 3864 2108 \nQ 4156 2450 4653 2450 \nz\nM 1428 4353 \nQ 1159 4353 1004 4120 \nQ 850 3888 850 3481 \nQ 850 3069 1003 2837 \nQ 1156 2606 1428 2606 \nQ 1700 2606 1854 2837 \nQ 2009 3069 2009 3481 \nQ 2009 3884 1853 4118 \nQ 1697 4353 1428 4353 \nz\nM 4250 4750 \nL 4750 4750 \nL 1831 -91 \nL 1331 -91 \nL 4250 4750 \nz\nM 1428 4750 \nQ 1922 4750 2215 4408 \nQ 2509 4066 2509 3481 \nQ 2509 2891 2217 2550 \nQ 1925 2209 1428 2209 \nQ 931 2209 642 2551 \nQ 353 2894 353 3481 \nQ 353 4063 643 4406 \nQ 934 4750 1428 4750 \nz\n\" transform=\"scale(0.015625)\"/>\n      </defs>\n      <use xlink:href=\"#DejaVuSans-52\"/>\n      <use xlink:href=\"#DejaVuSans-48\" x=\"69.482422\"/>\n      <use xlink:href=\"#DejaVuSans-20\" x=\"144.677734\"/>\n      <use xlink:href=\"#DejaVuSans-2f\" x=\"176.464844\"/>\n      <use xlink:href=\"#DejaVuSans-20\" x=\"210.15625\"/>\n      <use xlink:href=\"#DejaVuSans-25\" x=\"241.943359\"/>\n     </g>\n    </g>\n   </g>\n   <g id=\"matplotlib.axis_2\">\n    <g id=\"ytick_1\">\n     <g id=\"line2d_8\">\n      <defs>\n       <path id=\"m37c1c5937e\" d=\"M 0 0 \nL -3.5 0 \n\" style=\"stroke: #000000; stroke-width: 0.8\"/>\n      </defs>\n      <g>\n       <use xlink:href=\"#m37c1c5937e\" x=\"53.328125\" y=\"301.588562\" style=\"stroke: #000000; stroke-width: 0.8\"/>\n      </g>\n     </g>\n     <g id=\"text_9\">\n      <!-- 500 -->\n      <g transform=\"translate(27.240625 305.387781) scale(0.1 -0.1)\">\n       <use xlink:href=\"#DejaVuSans-35\"/>\n       <use xlink:href=\"#DejaVuSans-30\" x=\"63.623047\"/>\n       <use xlink:href=\"#DejaVuSans-30\" x=\"127.246094\"/>\n      </g>\n     </g>\n    </g>\n    <g id=\"ytick_2\">\n     <g id=\"line2d_9\">\n      <g>\n       <use xlink:href=\"#m37c1c5937e\" x=\"53.328125\" y=\"257.236562\" style=\"stroke: #000000; stroke-width: 0.8\"/>\n      </g>\n     </g>\n     <g id=\"text_10\">\n      <!-- 1000 -->\n      <g transform=\"translate(20.878125 261.035781) scale(0.1 -0.1)\">\n       <use xlink:href=\"#DejaVuSans-31\"/>\n       <use xlink:href=\"#DejaVuSans-30\" x=\"63.623047\"/>\n       <use xlink:href=\"#DejaVuSans-30\" x=\"127.246094\"/>\n       <use xlink:href=\"#DejaVuSans-30\" x=\"190.869141\"/>\n      </g>\n     </g>\n    </g>\n    <g id=\"ytick_3\">\n     <g id=\"line2d_10\">\n      <g>\n       <use xlink:href=\"#m37c1c5937e\" x=\"53.328125\" y=\"212.884562\" style=\"stroke: #000000; stroke-width: 0.8\"/>\n      </g>\n     </g>\n     <g id=\"text_11\">\n      <!-- 1500 -->\n      <g transform=\"translate(20.878125 216.683781) scale(0.1 -0.1)\">\n       <use xlink:href=\"#DejaVuSans-31\"/>\n       <use xlink:href=\"#DejaVuSans-35\" x=\"63.623047\"/>\n       <use xlink:href=\"#DejaVuSans-30\" x=\"127.246094\"/>\n       <use xlink:href=\"#DejaVuSans-30\" x=\"190.869141\"/>\n      </g>\n     </g>\n    </g>\n    <g id=\"ytick_4\">\n     <g id=\"line2d_11\">\n      <g>\n       <use xlink:href=\"#m37c1c5937e\" x=\"53.328125\" y=\"168.532562\" style=\"stroke: #000000; stroke-width: 0.8\"/>\n      </g>\n     </g>\n     <g id=\"text_12\">\n      <!-- 2000 -->\n      <g transform=\"translate(20.878125 172.331781) scale(0.1 -0.1)\">\n       <defs>\n        <path id=\"DejaVuSans-32\" d=\"M 1228 531 \nL 3431 531 \nL 3431 0 \nL 469 0 \nL 469 531 \nQ 828 903 1448 1529 \nQ 2069 2156 2228 2338 \nQ 2531 2678 2651 2914 \nQ 2772 3150 2772 3378 \nQ 2772 3750 2511 3984 \nQ 2250 4219 1831 4219 \nQ 1534 4219 1204 4116 \nQ 875 4013 500 3803 \nL 500 4441 \nQ 881 4594 1212 4672 \nQ 1544 4750 1819 4750 \nQ 2544 4750 2975 4387 \nQ 3406 4025 3406 3419 \nQ 3406 3131 3298 2873 \nQ 3191 2616 2906 2266 \nQ 2828 2175 2409 1742 \nQ 1991 1309 1228 531 \nz\n\" transform=\"scale(0.015625)\"/>\n       </defs>\n       <use xlink:href=\"#DejaVuSans-32\"/>\n       <use xlink:href=\"#DejaVuSans-30\" x=\"63.623047\"/>\n       <use xlink:href=\"#DejaVuSans-30\" x=\"127.246094\"/>\n       <use xlink:href=\"#DejaVuSans-30\" x=\"190.869141\"/>\n      </g>\n     </g>\n    </g>\n    <g id=\"ytick_5\">\n     <g id=\"line2d_12\">\n      <g>\n       <use xlink:href=\"#m37c1c5937e\" x=\"53.328125\" y=\"124.180562\" style=\"stroke: #000000; stroke-width: 0.8\"/>\n      </g>\n     </g>\n     <g id=\"text_13\">\n      <!-- 2500 -->\n      <g transform=\"translate(20.878125 127.979781) scale(0.1 -0.1)\">\n       <use xlink:href=\"#DejaVuSans-32\"/>\n       <use xlink:href=\"#DejaVuSans-35\" x=\"63.623047\"/>\n       <use xlink:href=\"#DejaVuSans-30\" x=\"127.246094\"/>\n       <use xlink:href=\"#DejaVuSans-30\" x=\"190.869141\"/>\n      </g>\n     </g>\n    </g>\n    <g id=\"ytick_6\">\n     <g id=\"line2d_13\">\n      <g>\n       <use xlink:href=\"#m37c1c5937e\" x=\"53.328125\" y=\"79.828562\" style=\"stroke: #000000; stroke-width: 0.8\"/>\n      </g>\n     </g>\n     <g id=\"text_14\">\n      <!-- 3000 -->\n      <g transform=\"translate(20.878125 83.627781) scale(0.1 -0.1)\">\n       <defs>\n        <path id=\"DejaVuSans-33\" d=\"M 2597 2516 \nQ 3050 2419 3304 2112 \nQ 3559 1806 3559 1356 \nQ 3559 666 3084 287 \nQ 2609 -91 1734 -91 \nQ 1441 -91 1130 -33 \nQ 819 25 488 141 \nL 488 750 \nQ 750 597 1062 519 \nQ 1375 441 1716 441 \nQ 2309 441 2620 675 \nQ 2931 909 2931 1356 \nQ 2931 1769 2642 2001 \nQ 2353 2234 1838 2234 \nL 1294 2234 \nL 1294 2753 \nL 1863 2753 \nQ 2328 2753 2575 2939 \nQ 2822 3125 2822 3475 \nQ 2822 3834 2567 4026 \nQ 2313 4219 1838 4219 \nQ 1578 4219 1281 4162 \nQ 984 4106 628 3988 \nL 628 4550 \nQ 988 4650 1302 4700 \nQ 1616 4750 1894 4750 \nQ 2613 4750 3031 4423 \nQ 3450 4097 3450 3541 \nQ 3450 3153 3228 2886 \nQ 3006 2619 2597 2516 \nz\n\" transform=\"scale(0.015625)\"/>\n       </defs>\n       <use xlink:href=\"#DejaVuSans-33\"/>\n       <use xlink:href=\"#DejaVuSans-30\" x=\"63.623047\"/>\n       <use xlink:href=\"#DejaVuSans-30\" x=\"127.246094\"/>\n       <use xlink:href=\"#DejaVuSans-30\" x=\"190.869141\"/>\n      </g>\n     </g>\n    </g>\n    <g id=\"ytick_7\">\n     <g id=\"line2d_14\">\n      <g>\n       <use xlink:href=\"#m37c1c5937e\" x=\"53.328125\" y=\"35.476562\" style=\"stroke: #000000; stroke-width: 0.8\"/>\n      </g>\n     </g>\n     <g id=\"text_15\">\n      <!-- 3500 -->\n      <g transform=\"translate(20.878125 39.275781) scale(0.1 -0.1)\">\n       <use xlink:href=\"#DejaVuSans-33\"/>\n       <use xlink:href=\"#DejaVuSans-35\" x=\"63.623047\"/>\n       <use xlink:href=\"#DejaVuSans-30\" x=\"127.246094\"/>\n       <use xlink:href=\"#DejaVuSans-30\" x=\"190.869141\"/>\n      </g>\n     </g>\n    </g>\n    <g id=\"text_16\">\n     <!-- z / m -->\n     <g transform=\"translate(14.798438 180.889594) rotate(-90) scale(0.1 -0.1)\">\n      <defs>\n       <path id=\"DejaVuSans-7a\" d=\"M 353 3500 \nL 3084 3500 \nL 3084 2975 \nL 922 459 \nL 3084 459 \nL 3084 0 \nL 275 0 \nL 275 525 \nL 2438 3041 \nL 353 3041 \nL 353 3500 \nz\n\" transform=\"scale(0.015625)\"/>\n       <path id=\"DejaVuSans-6d\" d=\"M 3328 2828 \nQ 3544 3216 3844 3400 \nQ 4144 3584 4550 3584 \nQ 5097 3584 5394 3201 \nQ 5691 2819 5691 2113 \nL 5691 0 \nL 5113 0 \nL 5113 2094 \nQ 5113 2597 4934 2840 \nQ 4756 3084 4391 3084 \nQ 3944 3084 3684 2787 \nQ 3425 2491 3425 1978 \nL 3425 0 \nL 2847 0 \nL 2847 2094 \nQ 2847 2600 2669 2842 \nQ 2491 3084 2119 3084 \nQ 1678 3084 1418 2786 \nQ 1159 2488 1159 1978 \nL 1159 0 \nL 581 0 \nL 581 3500 \nL 1159 3500 \nL 1159 2956 \nQ 1356 3278 1631 3431 \nQ 1906 3584 2284 3584 \nQ 2666 3584 2933 3390 \nQ 3200 3197 3328 2828 \nz\n\" transform=\"scale(0.015625)\"/>\n      </defs>\n      <use xlink:href=\"#DejaVuSans-7a\"/>\n      <use xlink:href=\"#DejaVuSans-20\" x=\"52.490234\"/>\n      <use xlink:href=\"#DejaVuSans-2f\" x=\"84.277344\"/>\n      <use xlink:href=\"#DejaVuSans-20\" x=\"117.96875\"/>\n      <use xlink:href=\"#DejaVuSans-6d\" x=\"149.755859\"/>\n     </g>\n    </g>\n   </g>\n   <g id=\"line2d_15\">\n    <path d=\"M 75.072433 297.153362 \nL 86.479253 294.935762 \nL 98.063449 292.718162 \nL 109.828139 290.500562 \nL 121.776499 288.282962 \nL 133.911767 286.065362 \nL 146.237242 283.847762 \nL 158.756287 281.630162 \nL 171.472327 279.412562 \nL 184.388849 277.194962 \nL 197.509404 274.977362 \nL 210.837602 272.759762 \nL 224.377108 270.542162 \nL 238.13163 268.324562 \nL 252.104897 266.106962 \nL 266.300606 263.889362 \nL 280.722281 261.671762 \nL 295.372838 259.454162 \nL 310.252746 257.236562 \nL 325.344995 255.018962 \nL 336.123718 252.801362 \nL 334.374342 250.583762 \nL 333.84401 248.366162 \nL 333.610493 246.148562 \nL 333.473971 243.930962 \nL 333.381529 241.713362 \nL 333.313746 239.495762 \nL 333.258123 237.278162 \nL 333.219024 235.060562 \nL 333.183625 232.842962 \nL 333.15367 230.625362 \nL 333.127729 228.407762 \nL 333.104994 226.190162 \nL 333.08485 223.972562 \nL 333.066832 221.754962 \nL 333.050588 219.537362 \nL 333.035841 217.319762 \nL 333.022375 215.102162 \nL 333.010014 212.884562 \nL 332.998615 210.666962 \nL 332.988059 208.449362 \nL 332.97825 206.231762 \nL 332.969105 204.014162 \nL 332.960552 201.796562 \nL 332.952534 199.578962 \nL 332.944996 197.361362 \nL 332.937896 195.143762 \nL 332.931194 192.926162 \nL 332.924856 190.708562 \nL 332.918852 188.490962 \nL 332.913155 186.273362 \nL 332.907741 184.055762 \nL 332.90259 181.838162 \nL 332.897682 179.620562 \nL 332.893 177.402962 \nL 332.888529 175.185362 \nL 332.884256 172.967762 \nL 332.880167 170.750162 \nL 332.876251 168.532562 \nL 332.872497 166.314962 \nL 332.868897 164.097362 \nL 332.865442 161.879762 \nL 332.862122 159.662162 \nL 332.858581 157.444562 \nL 332.855295 155.226962 \nL 332.851712 153.009362 \nL 332.84914 150.791762 \nL 332.846623 148.574162 \nL 332.844239 146.356562 \nL 332.841278 144.138962 \nL 332.838922 141.921362 \nL 332.83629 139.703762 \nL 332.834128 137.486162 \nL 332.832054 135.268562 \nL 332.829865 133.050962 \nL 332.828134 130.833362 \nL 332.826339 128.615762 \nL 332.823976 126.398162 \nL 332.822884 124.180562 \nL 332.820743 121.962962 \nL 332.819042 119.745362 \nL 332.860062 117.527762 \nL 332.815681 115.310162 \nL 332.814082 113.092562 \nL 332.855918 110.874962 \nL 332.811111 108.657362 \nL 332.853193 106.439762 \nL 332.808489 104.222162 \nL 332.852165 102.004562 \nL 332.820296 99.786962 \nL 332.819554 97.569362 \nL 332.825582 95.351762 \nL 332.824559 93.134162 \nL 332.823363 90.916562 \nL 332.822399 88.698962 \nL 332.821383 86.481362 \nL 332.820543 84.263762 \nL 332.819582 82.046162 \nL 332.818613 79.828562 \nL 332.817732 77.610962 \nL 332.824743 75.393362 \nL 332.824677 73.175762 \nL 332.824908 70.958162 \nL 332.825466 68.740562 \nL 332.842798 66.522962 \nL 332.86961 64.305362 \nL 332.823885 62.087762 \nL 332.823251 59.870162 \nL 332.822779 57.652562 \nL 332.840215 55.434962 \nL 332.838829 53.217362 \nL 332.846336 50.999762 \nL 332.829628 48.782162 \nL 332.842592 46.564562 \nL 332.850908 44.346962 \nL 332.83101 42.129362 \nL 332.846321 39.911762 \nL 332.876765 37.694162 \nL 332.845762 35.476562 \n\" clip-path=\"url(#pdc958a6ff4)\" style=\"fill: none; stroke: #1f77b4; stroke-width: 1.5; stroke-linecap: square\"/>\n   </g>\n   <g id=\"line2d_16\">\n    <path d=\"M 53.328125 253.910162 \nL 410.448125 253.910162 \n\" clip-path=\"url(#pdc958a6ff4)\" style=\"fill: none; stroke-dasharray: 5.55,2.4; stroke-dashoffset: 0; stroke: #000000; stroke-width: 1.5\"/>\n   </g>\n   <g id=\"line2d_17\">\n    <path d=\"M 53.328125 147.465362 \nL 410.448125 147.465362 \n\" clip-path=\"url(#pdc958a6ff4)\" style=\"fill: none; stroke-dasharray: 5.55,2.4; stroke-dashoffset: 0; stroke: #000000; stroke-width: 1.5\"/>\n   </g>\n   <g id=\"patch_3\">\n    <path d=\"M 53.328125 301.588562 \nL 53.328125 35.476562 \n\" style=\"fill: none; stroke: #000000; stroke-width: 0.8; stroke-linejoin: miter; stroke-linecap: square\"/>\n   </g>\n   <g id=\"patch_4\">\n    <path d=\"M 410.448125 301.588562 \nL 410.448125 35.476562 \n\" style=\"fill: none; stroke: #000000; stroke-width: 0.8; stroke-linejoin: miter; stroke-linecap: square\"/>\n   </g>\n   <g id=\"patch_5\">\n    <path d=\"M 53.328125 301.588562 \nL 410.448125 301.588562 \n\" style=\"fill: none; stroke: #000000; stroke-width: 0.8; stroke-linejoin: miter; stroke-linecap: square\"/>\n   </g>\n   <g id=\"patch_6\">\n    <path d=\"M 53.328125 35.476562 \nL 410.448125 35.476562 \n\" style=\"fill: none; stroke: #000000; stroke-width: 0.8; stroke-linejoin: miter; stroke-linecap: square\"/>\n   </g>\n  </g>\n  <g id=\"axes_2\">\n   <g id=\"matplotlib.axis_3\">\n    <g id=\"xtick_8\">\n     <g id=\"line2d_18\">\n      <defs>\n       <path id=\"m304bd107c6\" d=\"M 0 0 \nL 0 -3.5 \n\" style=\"stroke: #000000; stroke-width: 0.8\"/>\n      </defs>\n      <g>\n       <use xlink:href=\"#m304bd107c6\" x=\"53.328125\" y=\"35.476562\" style=\"stroke: #000000; stroke-width: 0.8\"/>\n      </g>\n     </g>\n     <g id=\"text_17\">\n      <!-- −10 -->\n      <g transform=\"translate(42.775781 26.396875) scale(0.1 -0.1)\">\n       <defs>\n        <path id=\"DejaVuSans-2212\" d=\"M 678 2272 \nL 4684 2272 \nL 4684 1741 \nL 678 1741 \nL 678 2272 \nz\n\" transform=\"scale(0.015625)\"/>\n       </defs>\n       <use xlink:href=\"#DejaVuSans-2212\"/>\n       <use xlink:href=\"#DejaVuSans-31\" x=\"83.789062\"/>\n       <use xlink:href=\"#DejaVuSans-30\" x=\"147.412109\"/>\n      </g>\n     </g>\n    </g>\n    <g id=\"xtick_9\">\n     <g id=\"line2d_19\">\n      <g>\n       <use xlink:href=\"#m304bd107c6\" x=\"122.005048\" y=\"35.476562\" style=\"stroke: #000000; stroke-width: 0.8\"/>\n      </g>\n     </g>\n     <g id=\"text_18\">\n      <!-- −5 -->\n      <g transform=\"translate(114.633954 26.396875) scale(0.1 -0.1)\">\n       <use xlink:href=\"#DejaVuSans-2212\"/>\n       <use xlink:href=\"#DejaVuSans-35\" x=\"83.789062\"/>\n      </g>\n     </g>\n    </g>\n    <g id=\"xtick_10\">\n     <g id=\"line2d_20\">\n      <g>\n       <use xlink:href=\"#m304bd107c6\" x=\"190.681971\" y=\"35.476562\" style=\"stroke: #000000; stroke-width: 0.8\"/>\n      </g>\n     </g>\n     <g id=\"text_19\">\n      <!-- 0 -->\n      <g transform=\"translate(187.500721 26.396875) scale(0.1 -0.1)\">\n       <use xlink:href=\"#DejaVuSans-30\"/>\n      </g>\n     </g>\n    </g>\n    <g id=\"xtick_11\">\n     <g id=\"line2d_21\">\n      <g>\n       <use xlink:href=\"#m304bd107c6\" x=\"259.358894\" y=\"35.476562\" style=\"stroke: #000000; stroke-width: 0.8\"/>\n      </g>\n     </g>\n     <g id=\"text_20\">\n      <!-- 5 -->\n      <g transform=\"translate(256.177644 26.396875) scale(0.1 -0.1)\">\n       <use xlink:href=\"#DejaVuSans-35\"/>\n      </g>\n     </g>\n    </g>\n    <g id=\"xtick_12\">\n     <g id=\"line2d_22\">\n      <g>\n       <use xlink:href=\"#m304bd107c6\" x=\"328.035817\" y=\"35.476562\" style=\"stroke: #000000; stroke-width: 0.8\"/>\n      </g>\n     </g>\n     <g id=\"text_21\">\n      <!-- 10 -->\n      <g transform=\"translate(321.673317 26.396875) scale(0.1 -0.1)\">\n       <use xlink:href=\"#DejaVuSans-31\"/>\n       <use xlink:href=\"#DejaVuSans-30\" x=\"63.623047\"/>\n      </g>\n     </g>\n    </g>\n    <g id=\"xtick_13\">\n     <g id=\"line2d_23\">\n      <g>\n       <use xlink:href=\"#m304bd107c6\" x=\"396.71274\" y=\"35.476562\" style=\"stroke: #000000; stroke-width: 0.8\"/>\n      </g>\n     </g>\n     <g id=\"text_22\">\n      <!-- 15 -->\n      <g transform=\"translate(390.35024 26.396875) scale(0.1 -0.1)\">\n       <use xlink:href=\"#DejaVuSans-31\"/>\n       <use xlink:href=\"#DejaVuSans-35\" x=\"63.623047\"/>\n      </g>\n     </g>\n    </g>\n    <g id=\"text_23\">\n     <!-- T / C -->\n     <g transform=\"translate(220.480312 14.798437) scale(0.1 -0.1)\">\n      <defs>\n       <path id=\"DejaVuSans-54\" d=\"M -19 4666 \nL 3928 4666 \nL 3928 4134 \nL 2272 4134 \nL 2272 0 \nL 1638 0 \nL 1638 4134 \nL -19 4134 \nL -19 4666 \nz\n\" transform=\"scale(0.015625)\"/>\n       <path id=\"DejaVuSans-43\" d=\"M 4122 4306 \nL 4122 3641 \nQ 3803 3938 3442 4084 \nQ 3081 4231 2675 4231 \nQ 1875 4231 1450 3742 \nQ 1025 3253 1025 2328 \nQ 1025 1406 1450 917 \nQ 1875 428 2675 428 \nQ 3081 428 3442 575 \nQ 3803 722 4122 1019 \nL 4122 359 \nQ 3791 134 3420 21 \nQ 3050 -91 2638 -91 \nQ 1578 -91 968 557 \nQ 359 1206 359 2328 \nQ 359 3453 968 4101 \nQ 1578 4750 2638 4750 \nQ 3056 4750 3426 4639 \nQ 3797 4528 4122 4306 \nz\n\" transform=\"scale(0.015625)\"/>\n      </defs>\n      <use xlink:href=\"#DejaVuSans-54\"/>\n      <use xlink:href=\"#DejaVuSans-20\" x=\"61.083984\"/>\n      <use xlink:href=\"#DejaVuSans-2f\" x=\"92.871094\"/>\n      <use xlink:href=\"#DejaVuSans-20\" x=\"126.5625\"/>\n      <use xlink:href=\"#DejaVuSans-43\" x=\"158.349609\"/>\n     </g>\n    </g>\n   </g>\n   <g id=\"line2d_24\">\n    <path d=\"M 352.142623 299.370962 \nL 348.778655 297.153362 \nL 345.414687 294.935762 \nL 342.050719 292.718162 \nL 338.686752 290.500562 \nL 335.322786 288.282962 \nL 331.958822 286.065362 \nL 328.59486 283.847762 \nL 325.230902 281.630162 \nL 321.866948 279.412562 \nL 318.503001 277.194962 \nL 315.139064 274.977362 \nL 311.775139 272.759762 \nL 308.411234 270.542162 \nL 305.047357 268.324562 \nL 301.683523 266.106962 \nL 298.319763 263.889362 \nL 294.956135 261.671762 \nL 291.592787 259.454162 \nL 288.230207 257.236562 \nL 284.871572 255.018962 \nL 282.407527 252.801362 \nL 280.785917 250.583762 \nL 279.037997 248.366162 \nL 277.255019 246.148562 \nL 275.459772 243.930962 \nL 273.656412 241.713362 \nL 271.846032 239.495762 \nL 270.022481 237.278162 \nL 268.200008 235.060562 \nL 266.370608 232.842962 \nL 264.534993 230.625362 \nL 262.693289 228.407762 \nL 260.845538 226.190162 \nL 258.991756 223.972562 \nL 257.131949 221.754962 \nL 255.266114 219.537362 \nL 253.394242 217.319762 \nL 251.51632 215.102162 \nL 249.632334 212.884562 \nL 247.742264 210.666962 \nL 245.846092 208.449362 \nL 243.943795 206.231762 \nL 242.03535 204.014162 \nL 240.120735 201.796562 \nL 238.199923 199.578962 \nL 236.272891 197.361362 \nL 234.339613 195.143762 \nL 232.400062 192.926162 \nL 230.454211 190.708562 \nL 228.502034 188.490962 \nL 226.543505 186.273362 \nL 224.578594 184.055762 \nL 222.607276 181.838162 \nL 220.629523 179.620562 \nL 218.645306 177.402962 \nL 216.654599 175.185362 \nL 214.657373 172.967762 \nL 212.653602 170.750162 \nL 210.643256 168.532562 \nL 208.62631 166.314962 \nL 206.602734 164.097362 \nL 204.572502 161.879762 \nL 202.53562 159.662162 \nL 200.493739 157.444562 \nL 198.442765 155.226962 \nL 196.385904 153.009362 \nL 194.321977 150.791762 \nL 192.25093 148.574162 \nL 190.172315 146.356562 \nL 188.089316 144.138962 \nL 185.997748 141.921362 \nL 183.897907 139.703762 \nL 181.794465 137.486162 \nL 179.680466 135.268562 \nL 177.562766 133.050962 \nL 175.43637 130.833362 \nL 173.303029 128.615762 \nL 171.161226 126.398162 \nL 169.015543 124.180562 \nL 166.859527 121.962962 \nL 164.699127 119.745362 \nL 162.533792 117.527762 \nL 160.352017 115.310162 \nL 158.170575 113.092562 \nL 155.983642 110.874962 \nL 153.781344 108.657362 \nL 151.580493 106.439762 \nL 149.363587 104.222162 \nL 147.148229 102.004562 \nL 144.920855 99.786962 \nL 142.68464 97.569362 \nL 140.437759 95.351762 \nL 138.19034 93.134162 \nL 135.933562 90.916562 \nL 133.669467 88.698962 \nL 131.396302 86.481362 \nL 129.118901 84.263762 \nL 126.831004 82.046162 \nL 124.537015 79.828562 \nL 122.236564 77.610962 \nL 119.92584 75.393362 \nL 117.610573 73.175762 \nL 115.285396 70.958162 \nL 112.95162 68.740562 \nL 110.608809 66.522962 \nL 108.26826 64.305362 \nL 105.911894 62.087762 \nL 103.549305 59.870162 \nL 101.177221 57.652562 \nL 98.798468 55.434962 \nL 96.412799 53.217362 \nL 94.023562 50.999762 \nL 91.620511 48.782162 \nL 89.20939 46.564562 \nL 86.796225 44.346962 \nL 84.370746 42.129362 \nL 81.935874 39.911762 \nL 79.5014 37.694162 \nL 77.050865 35.476562 \n\" clip-path=\"url(#pdc958a6ff4)\" style=\"fill: none; stroke: #1f77b4; stroke-width: 1.5; stroke-linecap: square\"/>\n   </g>\n   <g id=\"patch_7\">\n    <path d=\"M 53.328125 301.588562 \nL 53.328125 35.476562 \n\" style=\"fill: none; stroke: #000000; stroke-width: 0.8; stroke-linejoin: miter; stroke-linecap: square\"/>\n   </g>\n   <g id=\"patch_8\">\n    <path d=\"M 410.448125 301.588562 \nL 410.448125 35.476562 \n\" style=\"fill: none; stroke: #000000; stroke-width: 0.8; stroke-linejoin: miter; stroke-linecap: square\"/>\n   </g>\n   <g id=\"patch_9\">\n    <path d=\"M 53.328125 301.588562 \nL 410.448125 301.588562 \n\" style=\"fill: none; stroke: #000000; stroke-width: 0.8; stroke-linejoin: miter; stroke-linecap: square\"/>\n   </g>\n   <g id=\"patch_10\">\n    <path d=\"M 53.328125 35.476562 \nL 410.448125 35.476562 \n\" style=\"fill: none; stroke: #000000; stroke-width: 0.8; stroke-linejoin: miter; stroke-linecap: square\"/>\n   </g>\n  </g>\n </g>\n <defs>\n  <clipPath id=\"pdc958a6ff4\">\n   <rect x=\"53.328125\" y=\"35.476562\" width=\"357.12\" height=\"266.112\"/>\n  </clipPath>\n </defs>\n</svg>\n"
     },
     "metadata": {},
     "output_type": "display_data"
    },
    {
     "data": {
      "text/plain": "HTML(value=\"<a href='./fig_4a.pdf' target='_blank'>./fig_4a.pdf</a><br>\")",
      "application/vnd.jupyter.widget-view+json": {
       "version_major": 2,
       "version_minor": 0,
       "model_id": "30b01b7b859146a7897eba2e25623cf6"
      }
     },
     "metadata": {},
     "output_type": "display_data"
    }
   ],
   "source": [
    "from matplotlib import pyplot\n",
    "\n",
    "fig, axs = pyplot.subplots(1, 1, squeeze=False)\n",
    "xy1 = axs[0,0]\n",
    "xy2 = xy1.twiny()\n",
    "\n",
    "xy1.plot(\n",
    "    (np.asarray(output['S_max']) + 1) * 100,\n",
    "    np.asarray(output['z']) + alt_initial\n",
    ")\n",
    "xy2.plot(\n",
    "    np.asarray(output['T']) - const.T0,\n",
    "    np.asarray(output['z']) + alt_initial\n",
    ")\n",
    "for level in levels.values():\n",
    "    xy1.axhline(y=level + alt_initial, linestyle='--', color='black')\n",
    "\n",
    "xy1.set_xlim(75, 107)\n",
    "xy2.set_xlim(-10, 16)\n",
    "xy1.set_ylim(alt_initial, alt_final)\n",
    "xy1.set_xlabel(\"RH / %\")\n",
    "xy2.set_xlabel(\"T / C\")\n",
    "xy1.set_ylabel(\"z / m\")\n",
    "show_plot('fig_4a.pdf')"
   ],
   "metadata": {
    "collapsed": false,
    "ExecuteTime": {
     "end_time": "2024-01-11T08:42:46.314435Z",
     "start_time": "2024-01-11T08:42:45.927080Z"
    }
   },
   "id": "a363f02a36a714d",
   "execution_count": 12
  },
  {
   "cell_type": "code",
   "outputs": [],
   "source": [],
   "metadata": {
    "collapsed": false,
    "ExecuteTime": {
     "end_time": "2024-01-11T08:42:46.317574Z",
     "start_time": "2024-01-11T08:42:46.313381Z"
    }
   },
   "id": "5acab115cd92fd9b",
   "execution_count": 12
  },
  {
   "cell_type": "code",
   "outputs": [],
   "source": [],
   "metadata": {
    "collapsed": false,
    "ExecuteTime": {
     "end_time": "2024-01-11T08:42:46.323642Z",
     "start_time": "2024-01-11T08:42:46.319974Z"
    }
   },
   "id": "d0173c4dbd123f7b",
   "execution_count": 12
  },
  {
   "cell_type": "code",
   "outputs": [],
   "source": [],
   "metadata": {
    "collapsed": false,
    "ExecuteTime": {
     "end_time": "2024-01-11T08:42:46.326817Z",
     "start_time": "2024-01-11T08:42:46.322560Z"
    }
   },
   "id": "430e8a3643291372",
   "execution_count": 12
  }
 ],
 "metadata": {
  "kernelspec": {
   "display_name": "Python 3",
   "language": "python",
   "name": "python3"
  },
  "language_info": {
   "codemirror_mode": {
    "name": "ipython",
    "version": 2
   },
   "file_extension": ".py",
   "mimetype": "text/x-python",
   "name": "python",
   "nbconvert_exporter": "python",
   "pygments_lexer": "ipython2",
   "version": "2.7.6"
  }
 },
 "nbformat": 4,
 "nbformat_minor": 5
}
