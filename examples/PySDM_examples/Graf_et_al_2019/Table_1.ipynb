{
 "cells": [
  {
   "cell_type": "markdown",
   "id": "e0cb5788-74b3-4da4-8095-880d3505c755",
   "metadata": {
    "collapsed": false,
    "jupyter": {
     "outputs_hidden": false
    }
   },
   "source": [
    "[![View notebook](https://img.shields.io/static/v1?label=render%20on&logo=github&color=87ce3e&message=GitHub)](https://github.com/open-atmos/PySDM/blob/main/examples/PySDM_examples/Graf_et_al_2019/Table_1.ipynb)\n",
    "[![Binder](https://mybinder.org/badge_logo.svg)](https://mybinder.org/v2/gh/open-atmos/PySDM.git/main?urlpath=lab/tree/examples/PySDM_examples/Graf_et_al_2019/Table_1.ipynb)\n",
    "[![Open In Colab](https://colab.research.google.com/assets/colab-badge.svg)](https://colab.research.google.com/github/open-atmos/PySDM/blob/main/examples/PySDM_examples/Graf_et_al_2019/Table_1.ipynb)"
   ]
  },
  {
   "cell_type": "markdown",
   "id": "2e2202e7d784a1cb",
   "metadata": {
    "collapsed": false,
    "jupyter": {
     "outputs_hidden": false
    }
   },
   "source": [
    "### reproducing Table 1 from Graf et al. 2019: https://doi.org/10.5194/acp-19-747-2019\n",
    "\n",
    "Calculated difference in isotopic composition for vapour vs. liquid/solid in equilibrium   \n",
    "Two different isotopic compositions   \n",
    "Exemplifies computation of: δ18O, δ2H, excess-d "
   ]
  },
  {
   "cell_type": "code",
   "execution_count": 3,
   "id": "initial_id",
   "metadata": {
    "ExecuteTime": {
     "end_time": "2024-01-19T14:29:25.839626Z",
     "start_time": "2024-01-19T14:29:25.835319Z"
    }
   },
   "outputs": [],
   "source": [
    "from PySDM import Formulae\n",
    "from PySDM.physics import si, in_unit\n",
    "from IPython.display import display, HTML"
   ]
  },
  {
   "cell_type": "code",
   "execution_count": 6,
   "id": "9e79217e-e30a-4ebe-a14f-532dca3a3d8b",
   "metadata": {},
   "outputs": [],
   "source": [
    "formulae = Formulae(\n",
    "    isotope_equilibrium_fractionation_factors='GrafPhD2017',\n",
    "    isotope_meteoric_water_line_excess='Dansgaard1964'\n",
    ")\n",
    "const = formulae.constants\n",
    "\n",
    "alphas = {\n",
    "    '18O_l': formulae.isotope_equilibrium_fractionation_factors.alpha_l_18O,\n",
    "    '2H_l': formulae.isotope_equilibrium_fractionation_factors.alpha_l_2H,\n",
    "    '18O_s': formulae.isotope_equilibrium_fractionation_factors.alpha_i_18O,\n",
    "    '2H_s': formulae.isotope_equilibrium_fractionation_factors.alpha_i_2H\n",
    "}\n",
    "excess_d = formulae.isotope_meteoric_water_line_excess.excess_d\n",
    "\n",
    "CASES = {\n",
    "    'A': {'18O': -10 * const.PER_MILLE, '2H': -80 * const.PER_MILLE},\n",
    "    'B': {'18O': -25 * const.PER_MILLE, '2H': -200 * const.PER_MILLE}\n",
    "}\n",
    "for case in CASES.values():\n",
    "    case['excess'] = excess_d(delta_2H=case['2H'], delta_18O=case['18O'])"
   ]
  },
  {
   "cell_type": "code",
   "execution_count": null,
   "id": "65fb351f-2bf7-4118-a063-3ea961403db0",
   "metadata": {},
   "outputs": [],
   "source": [
    "# see text just below eq. (4) in the paper\n",
    "alpha_20C_l = alphas['18O_l'](20 * si.K + const.T0)\n",
    "alpha_20C_2H = alphas['2H_l'](20 * si.K + const.T0)\n",
    "assert f\"{alpha_20C_l:.4f}\" == \"1.0098\"\n",
    "assert f\"{alpha_20C_2H:.4f}\" == \"1.0850\""
   ]
  },
  {
   "cell_type": "code",
   "execution_count": 7,
   "id": "dbbf7dc7ddffe08",
   "metadata": {
    "ExecuteTime": {
     "end_time": "2024-01-19T11:34:08.216993Z",
     "start_time": "2024-01-19T11:34:08.211033Z"
    },
    "collapsed": false,
    "jupyter": {
     "outputs_hidden": false
    }
   },
   "outputs": [],
   "source": [
    "table_data = {}\n",
    "for TC in (20, 0):\n",
    "    table_data[TC] = {}\n",
    "    for phase in (('s', 'l') if TC==0 else ('l',)):\n",
    "        table_data[TC][f'{phase}_v'] = {}\n",
    "        for case, delta_v in CASES.items():\n",
    "            case_data = table_data[TC][f'{phase}_v'][case] = {}\n",
    "            for isotope in ('18O', '2H'):\n",
    "                reference_ratio = getattr(const, f\"VSMOW_R_{isotope}\")\n",
    "                Rv = formulae.trivia.isotopic_delta_2_ratio(\n",
    "                    delta=delta_v[isotope],\n",
    "                    reference_ratio=reference_ratio\n",
    "                )\n",
    "                R_phase = alphas[f'{isotope}_{phase}'](TC * si.K + const.T0) * Rv\n",
    "                delta_phase = formulae.trivia.isotopic_ratio_2_delta(\n",
    "                    ratio=R_phase,\n",
    "                    reference_ratio=reference_ratio\n",
    "                )\n",
    "                \n",
    "                case_data[f'delta_{phase}_{isotope}'] = delta_phase\n",
    "                case_data[f'diff_delta_{isotope}'] = delta_phase - delta_v[isotope]\n",
    "            excess_vapour = excess_d(delta_2H=delta_v['2H'], delta_18O=delta_v['18O'])\n",
    "            excess_phase = excess_d(delta_2H=case_data[f'delta_{phase}_2H'], delta_18O=case_data[f'delta_{phase}_18O'])\n",
    "            case_data[\"diff_d_excess\"] = excess_phase - excess_vapour"
   ]
  },
  {
   "cell_type": "code",
   "execution_count": 8,
   "id": "2f24d9cb-a36a-4ebd-87cf-3867f2bf9281",
   "metadata": {},
   "outputs": [],
   "source": [
    "table_html = \"<table>\"\n",
    "table_html += \"\"\"\n",
    "  <tr style=\"border-bottom:1px black solid\">\n",
    "    <th colspan=2>composition of vapour</th>\n",
    "    <th>Δ<sub>l-v</sub>@20<sup>∘</sup>C</th>\n",
    "    <th>Δ<sub>l-v</sub>@0<sup>∘</sup>C</th>\n",
    "    <th>Δ<sub>s-v</sub>@0<sup>∘</sup>C</th>\n",
    "  </tr>\n",
    "\"\"\"\n",
    "row_labels = {\n",
    "    'diff_delta_2H': 'δ<sup>2</sup>H',\n",
    "    'diff_delta_18O': 'δ<sup>18</sup>O',\n",
    "    'diff_d_excess': 'd',\n",
    "}\n",
    "for case in ('A', 'B'):\n",
    "    for row, var in enumerate(('diff_delta_2H', 'diff_delta_18O', 'diff_d_excess')):\n",
    "        table_html += f\"\"\"\n",
    "          <tr{\"\" if row > 0 else ' style=\"border-top:1px black solid\"'}>\n",
    "            <td>{row_labels[var]}</td>\n",
    "            <td>{in_unit(CASES[case][var[var.rindex(\"_\")+1:]], const.PER_MILLE)}‰</td>\n",
    "            <td>{in_unit(table_data[20]['l_v'][case][var], const.PER_MILLE):.1f}‰</td>\n",
    "            <td>{in_unit(table_data[ 0]['l_v'][case][var], const.PER_MILLE):.1f}‰</td>\n",
    "            <td>{in_unit(table_data[ 0]['s_v'][case][var], const.PER_MILLE):.1f}‰</td>\n",
    "          </tr>\n",
    "        \"\"\"\n",
    "table_html += \"</table>\""
   ]
  },
  {
   "cell_type": "code",
   "execution_count": 9,
   "id": "6d80a1710aaff2ef",
   "metadata": {
    "ExecuteTime": {
     "end_time": "2024-01-19T11:37:26.093941Z",
     "start_time": "2024-01-19T11:37:26.088079Z"
    },
    "collapsed": false,
    "jupyter": {
     "outputs_hidden": false
    }
   },
   "outputs": [
    {
     "data": {
      "text/html": [
       "<table>\n",
       "  <tr style=\"border-bottom:1px black solid\">\n",
       "    <th colspan=2>composition of vapour</th>\n",
       "    <th>Δ<sub>l-v</sub>@20<sup>∘</sup>C</th>\n",
       "    <th>Δ<sub>l-v</sub>@0<sup>∘</sup>C</th>\n",
       "    <th>Δ<sub>s-v</sub>@0<sup>∘</sup>C</th>\n",
       "  </tr>\n",
       "\n",
       "          <tr style=\"border-top:1px black solid\">\n",
       "            <td>δ<sup>2</sup>H</td>\n",
       "            <td>-80.0‰</td>\n",
       "            <td>78.2‰</td>\n",
       "            <td>103.3‰</td>\n",
       "            <td>121.3‰</td>\n",
       "          </tr>\n",
       "        \n",
       "          <tr>\n",
       "            <td>δ<sup>18</sup>O</td>\n",
       "            <td>-10.0‰</td>\n",
       "            <td>9.7‰</td>\n",
       "            <td>11.6‰</td>\n",
       "            <td>15.1‰</td>\n",
       "          </tr>\n",
       "        \n",
       "          <tr>\n",
       "            <td>d</td>\n",
       "            <td>0.0‰</td>\n",
       "            <td>0.7‰</td>\n",
       "            <td>10.5‰</td>\n",
       "            <td>0.6‰</td>\n",
       "          </tr>\n",
       "        \n",
       "          <tr style=\"border-top:1px black solid\">\n",
       "            <td>δ<sup>2</sup>H</td>\n",
       "            <td>-200.0‰</td>\n",
       "            <td>68.0‰</td>\n",
       "            <td>89.9‰</td>\n",
       "            <td>105.4‰</td>\n",
       "          </tr>\n",
       "        \n",
       "          <tr>\n",
       "            <td>δ<sup>18</sup>O</td>\n",
       "            <td>-25.0‰</td>\n",
       "            <td>9.5‰</td>\n",
       "            <td>11.4‰</td>\n",
       "            <td>14.9‰</td>\n",
       "          </tr>\n",
       "        \n",
       "          <tr>\n",
       "            <td>d</td>\n",
       "            <td>0.0‰</td>\n",
       "            <td>-8.4‰</td>\n",
       "            <td>-1.6‰</td>\n",
       "            <td>-13.4‰</td>\n",
       "          </tr>\n",
       "        </table>"
      ],
      "text/plain": [
       "<IPython.core.display.HTML object>"
      ]
     },
     "metadata": {},
     "output_type": "display_data"
    }
   ],
   "source": [
    "display(HTML(table_html))"
   ]
  },
  {
   "cell_type": "code",
   "execution_count": null,
   "id": "902db5d8-c140-47c2-b53a-2a5bd745a8bc",
   "metadata": {},
   "outputs": [],
   "source": []
  }
 ],
 "metadata": {
  "kernelspec": {
   "display_name": "Python 3 (ipykernel)",
   "language": "python",
   "name": "python3"
  },
  "language_info": {
   "codemirror_mode": {
    "name": "ipython",
    "version": 3
   },
   "file_extension": ".py",
   "mimetype": "text/x-python",
   "name": "python",
   "nbconvert_exporter": "python",
   "pygments_lexer": "ipython3",
   "version": "3.9.2"
  }
 },
 "nbformat": 4,
 "nbformat_minor": 5
}
