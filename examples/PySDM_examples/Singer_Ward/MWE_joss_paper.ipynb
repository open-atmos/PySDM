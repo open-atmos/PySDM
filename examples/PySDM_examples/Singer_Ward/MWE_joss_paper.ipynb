{
 "cells": [
  {
   "cell_type": "markdown",
   "metadata": {},
   "source": [
    "#### MWE for JOSSv2 paper code snippets"
   ]
  },
  {
   "cell_type": "code",
   "execution_count": null,
   "metadata": {
    "tags": []
   },
   "outputs": [],
   "source": [
    "from PySDM import Formulae\n",
    "from PySDM.physics import si\n",
    "from PySDM_examples.Singer_Ward.aerosol import AerosolBetaCaryophylleneDark\n",
    "aerosol = AerosolBetaCaryophylleneDark()\n",
    "formulae_bulk = Formulae(surface_tension='Constant')\n",
    "formulae_ovad = Formulae(\n",
    "    surface_tension='CompressedFilmOvadnevaite',\n",
    "    constants={\n",
    "        'sgm_org': 35 * si.mN / si.m,\n",
    "        'delta_min': 1.75 * si.nm\n",
    "    }\n",
    ")\n",
    "formulae_ruehl = Formulae(\n",
    "    surface_tension='CompressedFilmRuehl',\n",
    "    constants={\n",
    "        'RUEHL_nu_org': aerosol.modes[0]['nu_org'],\n",
    "        'RUEHL_A0': 115e-20 * si.m * si.m,\n",
    "        'RUEHL_C0': 6e-7,\n",
    "        'RUEHL_m_sigma': 0.3e17 * si.J / si.m**2,\n",
    "        'RUEHL_sgm_min': 35 * si.mN / si.m\n",
    "    }\n",
    ")\n",
    "formulae_sl = Formulae(\n",
    "    surface_tension='SzyszkowskiLangmuir',\n",
    "    constants={\n",
    "        'RUEHL_nu_org': aerosol.modes[0]['nu_org'],\n",
    "        'RUEHL_A0': 115e-20 * si.m * si.m,\n",
    "        'RUEHL_C0': 6e-7,\n",
    "        'RUEHL_sgm_min': 35 * si.mN / si.m\n",
    "    }\n",
    ")"
   ]
  },
  {
   "cell_type": "code",
   "execution_count": null,
   "metadata": {},
   "outputs": [],
   "source": [
    "import numpy as np\n",
    "from matplotlib import pyplot\n",
    "from open_atmos_jupyter_utils import show_plot\n",
    "lines = {'Constant': '-', 'CompressedFilmOvadnevaite': '--', 'CompressedFilmRuehl': ':', 'SzyszkowskiLangmuir': '-.'}\n",
    "colors = {'Constant': 'k', 'CompressedFilmOvadnevaite': 'C0', 'CompressedFilmRuehl': 'C1', 'SzyszkowskiLangmuir': 'C2'}\n",
    "\n",
    "for formulae in (formulae_bulk, formulae_ovad, formulae_ruehl, formulae_sl):    \n",
    "    r_wet = np.logspace(np.log(50 * si.nm), np.log(2000 * si.nm), base=np.e, num=100)\n",
    "    sigma = np.ones(len(r_wet))\n",
    "    for j,vw in enumerate(formulae_ovad.trivia.volume(r_wet)):\n",
    "        sigma[j] = formulae.surface_tension.sigma(\n",
    "            300 * si.K,\n",
    "            vw,\n",
    "            formulae_ovad.trivia.volume(50 * si.nm),\n",
    "            aerosol.modes[0]['f_org']\n",
    "        )\n",
    "    RH_eq = formulae.hygroscopicity.RH_eq(\n",
    "        r_wet,\n",
    "        300 * si.K,\n",
    "        aerosol.modes[0]['kappa'][formulae.surface_tension.__name__],\n",
    "        (50 * si.nm)**3,\n",
    "        sigma\n",
    "    )\n",
    "    model = formulae.surface_tension.__name__\n",
    "    pyplot.plot(\n",
    "        r_wet / si.nm,\n",
    "        (RH_eq - 1)*100,\n",
    "        label=f\"{model}\",\n",
    "        color=colors[model],\n",
    "        linestyle=lines[model]\n",
    "    )\n",
    "pyplot.grid()\n",
    "pyplot.legend(title=\"Surface tension model\", fontsize=10, loc=4)\n",
    "pyplot.xscale('log')\n",
    "r_wet_ticks_nm = (100, 200, 300, 500, 1000, 2000)\n",
    "pyplot.xticks(r_wet_ticks_nm, r_wet_ticks_nm)\n",
    "pyplot.xlim(r_wet[0] / si.nm, r_wet[-1] / si.nm)\n",
    "pyplot.ylabel('Equilibrium supersaturation [%]')\n",
    "yticks = (-.2, -.1, 0, .1, .2, .3, .4)\n",
    "pyplot.yticks(yticks, yticks)\n",
    "pyplot.ylim(yticks[0], .45)\n",
    "pyplot.xlabel('Wet radius [nm]')\n",
    "show_plot(\"Singer_fig1_kohler.pdf\")"
   ]
  },
  {
   "cell_type": "code",
   "execution_count": null,
   "metadata": {},
   "outputs": [],
   "source": []
  }
 ],
 "metadata": {
  "kernelspec": {
   "display_name": "Python 3 (ipykernel)",
   "language": "python",
   "name": "python3"
  },
  "language_info": {
   "codemirror_mode": {
    "name": "ipython",
    "version": 3
   },
   "file_extension": ".py",
   "mimetype": "text/x-python",
   "name": "python",
   "nbconvert_exporter": "python",
   "pygments_lexer": "ipython3",
   "version": "3.9.7"
  }
 },
 "nbformat": 4,
 "nbformat_minor": 4
}
