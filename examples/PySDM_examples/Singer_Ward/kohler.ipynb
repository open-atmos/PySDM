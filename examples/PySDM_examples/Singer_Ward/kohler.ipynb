{
 "cells": [
  {
   "cell_type": "markdown",
   "metadata": {},
   "source": [
    "#### Example of using different surface tension models and the resulting Köhler curves\n",
    "Parameters for surface tension models (and aerosol physiochemical description) loosely based on laboratory experiments by RXW, described in Ward et al., in prep. (2022)"
   ]
  },
  {
   "cell_type": "code",
   "execution_count": null,
   "metadata": {},
   "outputs": [],
   "source": [
    "import sys\n",
    "if 'google.colab' in sys.modules:\n",
    "    !pip --quiet install open-atmos-jupyter-utils\n",
    "    from open_atmos_jupyter_utils import pip_install_on_colab\n",
    "    pip_install_on_colab('PySDM-examples')"
   ]
  },
  {
   "cell_type": "code",
   "execution_count": null,
   "metadata": {
    "pycharm": {
     "name": "#%%\n"
    }
   },
   "outputs": [],
   "source": [
    "from matplotlib import pyplot\n",
    "import numpy as np\n",
    "\n",
    "from PySDM import Formulae\n",
    "from PySDM.physics import si\n",
    "\n",
    "from open_atmos_jupyter_utils import show_plot\n",
    "\n",
    "from PySDM_examples.Singer_Ward.aerosol import AerosolBetaCaryophylleneDark"
   ]
  },
  {
   "cell_type": "code",
   "execution_count": null,
   "metadata": {},
   "outputs": [],
   "source": [
    "# aerosol creation\n",
    "aerosol = AerosolBetaCaryophylleneDark()\n",
    "\n",
    "# formulae creation\n",
    "formulae_bulk = Formulae(surface_tension='Constant')\n",
    "formulae_ovad = Formulae(\n",
    "    surface_tension='CompressedFilmOvadnevaite',\n",
    "    constants={\n",
    "        'sgm_org': 35 * si.mN / si.m,\n",
    "        'delta_min': 1.75 * si.nm\n",
    "    }\n",
    ")\n",
    "formulae_ruehl = Formulae(\n",
    "    surface_tension='CompressedFilmRuehl',\n",
    "    constants={\n",
    "        'RUEHL_nu_org': aerosol.modes[0]['nu_org'],\n",
    "        'RUEHL_A0': 115e-20 * si.m * si.m,\n",
    "        'RUEHL_C0': 6e-7,\n",
    "        'RUEHL_m_sigma': 0.3e17 * si.J / si.m**2,\n",
    "        'RUEHL_sgm_min': 35 * si.mN / si.m\n",
    "    }\n",
    ")\n",
    "formulae_sl = Formulae(\n",
    "    surface_tension='SzyszkowskiLangmuir',\n",
    "    constants={\n",
    "        'RUEHL_nu_org': aerosol.modes[0]['nu_org'],\n",
    "        'RUEHL_A0': 115e-20 * si.m * si.m,\n",
    "        'RUEHL_C0': 6e-7,\n",
    "        'RUEHL_sgm_min': 35 * si.mN / si.m\n",
    "    }\n",
    ")\n",
    "\n",
    "# aerosol and thermodynamic conditions\n",
    "T = 300 * si.K\n",
    "r_dry = 50 * si.nm\n",
    "v_dry = formulae_ovad.trivia.volume(r_dry)\n",
    "\n",
    "# plotting info\n",
    "r_wet = np.logspace(np.log(50 * si.nm), np.log(2000 * si.nm), base=np.e, num=100)\n",
    "v_wet = formulae_ovad.trivia.volume(r_wet)\n",
    "r_wet_ticks_nm = (100, 200, 300, 500, 1000, 2000)\n",
    "lines = {'Constant': '-', 'CompressedFilmOvadnevaite': '--', 'CompressedFilmRuehl': ':', 'SzyszkowskiLangmuir': '-.'}\n",
    "colors = {'Constant': 'k', 'CompressedFilmOvadnevaite': 'C0', 'CompressedFilmRuehl': 'C1', 'SzyszkowskiLangmuir': 'C2'}"
   ]
  },
  {
   "cell_type": "code",
   "execution_count": null,
   "metadata": {},
   "outputs": [],
   "source": [
    "fig,axes = pyplot.subplots(2, 1, figsize=(6,6), sharex=True, sharey=False)\n",
    "\n",
    "for formulae in (formulae_bulk, formulae_ovad, formulae_ruehl, formulae_sl):\n",
    "    model = formulae.surface_tension.__name__\n",
    "    sigma = np.ones(len(v_wet))\n",
    "    if model in (\"CompressedFilmRuehl\", \"SzyszkowskiLangmuir\"):\n",
    "        for j,vw in enumerate(v_wet):\n",
    "            sigma[j] = formulae.surface_tension.sigma(T, vw, v_dry, aerosol.modes[0]['f_org'])\n",
    "    else:\n",
    "        sigma = formulae.surface_tension.sigma(T, v_wet, v_dry, aerosol.modes[0]['f_org'])\n",
    "    RH_eq = formulae.hygroscopicity.RH_eq(r_wet, T, aerosol.modes[0]['kappa'][model], r_dry**3, sigma)\n",
    "\n",
    "    if not type(sigma) is type(v_wet):\n",
    "        sigma = np.ones(len(v_wet)) * sigma\n",
    "    # plot surface tension\n",
    "    axes[0].plot(\n",
    "        r_wet / si.nm,\n",
    "        sigma / (si.mN / si.m),\n",
    "        label=f\"{model}\", \n",
    "        color=colors[model],\n",
    "        linestyle=lines[model]\n",
    "    )\n",
    "    \n",
    "    # plot Köhler curve\n",
    "    axes[1].plot(\n",
    "        r_wet / si.nm, \n",
    "        (RH_eq - 1)*100, \n",
    "        color=colors[model], \n",
    "        linestyle=lines[model]\n",
    "    )\n",
    "\n",
    "# plot attributes\n",
    "for ax in axes:\n",
    "    ax.grid()\n",
    "    ax.set_xscale('log')\n",
    "    ax.set_xticks(r_wet_ticks_nm, r_wet_ticks_nm)\n",
    "    ax.set_xlim(r_wet[0] / si.nm, r_wet[-1] / si.nm)\n",
    "\n",
    "ax = axes[0]\n",
    "ax.set_ylabel('Surface tension [mN m$^{-1}$]')\n",
    "yticks = (30, 40, 50, 60, 70, 80)\n",
    "ax.set_yticks(yticks, yticks)\n",
    "ax.set_ylim(30, 80)\n",
    "ax.legend(title=\"Surface tension model\", fontsize=10, loc=4)\n",
    "\n",
    "ax = axes[1]\n",
    "ax.set_ylabel('Equilibrium supersaturation [%]')\n",
    "yticks = (-.2, -.1, 0, .1, .2, .3, .4)\n",
    "ax.set_yticks(yticks, yticks)\n",
    "ax.set_ylim(yticks[0], .45)\n",
    "ax.set_xlabel('Wet radius [nm]')\n",
    "\n",
    "show_plot(\"Singer_fig1.pdf\")"
   ]
  },
  {
   "cell_type": "code",
   "execution_count": null,
   "metadata": {},
   "outputs": [],
   "source": []
  }
 ],
 "metadata": {
  "kernelspec": {
   "display_name": "Python 3.9.7 ('pysdm')",
   "language": "python",
   "name": "python3"
  },
  "language_info": {
   "codemirror_mode": {
    "name": "ipython",
    "version": 3
   },
   "file_extension": ".py",
   "mimetype": "text/x-python",
   "name": "python",
   "nbconvert_exporter": "python",
   "pygments_lexer": "ipython3",
   "version": "3.9.7"
  },
  "vscode": {
   "interpreter": {
    "hash": "bd962dd91e1cacd3e3e7665b7c8bf16aaf00ede669e24e39bd4423e927038f82"
   }
  }
 },
 "nbformat": 4,
 "nbformat_minor": 4
}
