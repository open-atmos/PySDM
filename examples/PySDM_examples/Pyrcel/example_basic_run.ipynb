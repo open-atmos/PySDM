{
 "cells": [
  {
   "cell_type": "markdown",
   "metadata": {},
   "source": [
    "[![nbviewer](https://raw.githubusercontent.com/jupyter/design/master/logos/Badges/nbviewer_badge.svg)](https://nbviewer.jupyter.org/github/open-atmos/PySDM/blob/main/examples/PySDM_examples/Pyrcel/example_basic_run.ipynb)   \n",
    "[![Binder](https://mybinder.org/badge_logo.svg)](https://mybinder.org/v2/gh/open-atmos/PySDM.git/main?urlpath=examples/PySDM_examples/Pyrcel/example_basic_run.ipynb)   \n",
    "[![Open In Colab](https://colab.research.google.com/assets/colab-badge.svg)](https://colab.research.google.com/github/open-atmos/PySDM/blob/main/examples/PySDM_examples/Pyrcel/example_basic_run.ipynb)"
   ]
  },
  {
   "cell_type": "markdown",
   "metadata": {},
   "source": [
    "#### based on Example Figure from Pyrcel code documentation https://pyrcel.readthedocs.io/en/latest/examples/basic_run.html"
   ]
  },
  {
   "cell_type": "code",
   "execution_count": null,
   "metadata": {},
   "outputs": [],
   "source": [
    "import sys\n",
    "if 'google.colab' in sys.modules:\n",
    "    !pip --quiet install \"open-atmos-jupyter-utils\"\n",
    "    from open_atmos_jupyter_utils import pip_install_on_colab\n",
    "    pip_install_on_colab('PySDM-examples')"
   ]
  },
  {
   "cell_type": "code",
   "execution_count": null,
   "metadata": {},
   "outputs": [],
   "source": [
    "import numpy as np\n",
    "from matplotlib import pyplot\n",
    "from scipy.ndimage.filters import uniform_filter1d\n",
    "from open_atmos_jupyter_utils import show_plot\n",
    "\n",
    "from PySDM import Formulae\n",
    "from PySDM.physics import si\n",
    "from PySDM.initialisation.spectra import Lognormal\n",
    "from PySDM.products import (\n",
    "    ParcelDisplacement, AmbientTemperature, AmbientRelativeHumidity,\n",
    "    ParticleSizeSpectrumPerVolume, ParticleVolumeVersusRadiusLogarithmSpectrum\n",
    ")\n",
    "\n",
    "from PySDM_examples.Pyrcel import Settings, Simulation"
   ]
  },
  {
   "cell_type": "code",
   "execution_count": null,
   "metadata": {},
   "outputs": [],
   "source": [
    "settings = Settings(\n",
    "    dz = 1 * si.m,\n",
    "    n_sd_per_mode = (5, 5),\n",
    "    aerosol_modes_by_kappa = {\n",
    "        .54: Lognormal(\n",
    "            norm_factor=850 / si.cm ** 3,\n",
    "            m_mode=15 * si.nm,\n",
    "            s_geom=1.6\n",
    "        ),\n",
    "        1.2: Lognormal(\n",
    "            norm_factor=10 / si.cm ** 3,\n",
    "            m_mode=850 * si.nm,\n",
    "            s_geom=1.2\n",
    "        )\n",
    "    },\n",
    "    vertical_velocity = 1.0 * si.m / si.s,\n",
    "    initial_pressure = 775 * si.mbar,\n",
    "    initial_temperature = 274 * si.K,\n",
    "    initial_relative_humidity = .98,\n",
    "    displacement = 250 * si.m,\n",
    "    formulae = Formulae(constants={'MAC': .3})\n",
    ")\n",
    "\n",
    "dry_radius_bin_edges = np.logspace(\n",
    "    np.log10(1e-3 * si.um),\n",
    "    np.log10(5e0 * si.um),\n",
    "    33, endpoint=False\n",
    ")\n",
    "\n",
    "simulation = Simulation(settings, products=(\n",
    "    ParcelDisplacement(\n",
    "        name='z'),\n",
    "    AmbientRelativeHumidity(\n",
    "        name='S_max', unit='%', var='RH'),\n",
    "    AmbientTemperature(\n",
    "        name='T'),\n",
    "    ParticleSizeSpectrumPerVolume(\n",
    "        name='dry:dN/dR', radius_bins_edges=dry_radius_bin_edges, dry=True),\n",
    "    ParticleVolumeVersusRadiusLogarithmSpectrum(\n",
    "        name='dry:dV/dlnR', radius_bins_edges=dry_radius_bin_edges, dry=True),\n",
    "))"
   ]
  },
  {
   "cell_type": "code",
   "execution_count": null,
   "metadata": {},
   "outputs": [],
   "source": [
    "output = simulation.run()"
   ]
  },
  {
   "cell_type": "code",
   "execution_count": null,
   "metadata": {},
   "outputs": [],
   "source": [
    "fig, axs = pyplot.subplots(1, 2, sharey=True, figsize=(10, 5))\n",
    "\n",
    "axS = axs[0]\n",
    "axS.plot(np.asarray(output['products']['S_max'])-100, output['products']['z'], color='black')\n",
    "axS.set_ylabel('Displacement [m]')\n",
    "axS.set_xlabel('Supersaturation [%]')\n",
    "axS.set_xlim(0, 0.7)\n",
    "axS.set_ylim(0, 250)\n",
    "axS.text(0.3, 52, f\"max S = {np.nanmax(output['products']['S_max'])-100:.2f}%\")\n",
    "axS.grid()\n",
    "\n",
    "axT = axS.twiny()\n",
    "axT.xaxis.label.set_color('red')\n",
    "axT.tick_params(axis='x', colors='red')\n",
    "axT.plot(output['products']['T'], output['products']['z'], color='red')\n",
    "rng = (270, 274)\n",
    "axT.set_xlim(*rng)\n",
    "axT.set_xticks(np.linspace(*rng, num=5))\n",
    "axT.set_xlabel('Temperature [K]')\n",
    "\n",
    "axR = axs[1]\n",
    "axR.set_xscale('log')\n",
    "axR.set_xlim(1e-2, 1e1)\n",
    "for drop_id, volume in enumerate(output['attributes']['volume']):\n",
    "    axR.plot(\n",
    "        settings.formulae.trivia.radius(volume=np.asarray(volume)) / si.um,\n",
    "        output['products']['z'],\n",
    "        color='magenta' if drop_id < settings.n_sd_per_mode[0] else 'blue',\n",
    "        label='sulfate' if drop_id == 0 else 'sea salt' if drop_id == settings.n_sd_per_mode[0] else ''\n",
    "    )\n",
    "axR.legend(loc='upper right')\n",
    "axR.set_xlabel('Droplet radius [μm]')\n",
    "\n",
    "show_plot(\"supersaturation.pdf\")"
   ]
  },
  {
   "cell_type": "code",
   "execution_count": null,
   "metadata": {},
   "outputs": [],
   "source": [
    "fig, axs = pyplot.subplots(1, 2, figsize=(10, 5), sharex=True)\n",
    "for i, name in enumerate([\"dry:dN/dR\",\"dry:dV/dlnR\",]):\n",
    "    spec = output['products'][name][0]\n",
    "    if name.endswith(\"/dR\"):\n",
    "        spec /= np.diff(np.log(dry_radius_bin_edges))\n",
    "        name = name.replace('/dR', '/dlnR')\n",
    "    axs[i].step(\n",
    "        dry_radius_bin_edges[:-1] / si.um,\n",
    "        uniform_filter1d(spec, size=3),\n",
    "        where='pre'\n",
    "    )\n",
    "    axs[i].set_ylabel(name)\n",
    "    axs[i].set_xlabel(\"Aerosol dry radius [μm]\")\n",
    "    axs[i].grid()\n",
    "    axs[i].set_xscale('log')\n",
    "    axs[i].set_yscale('log')\n",
    "pyplot.xlim(1e-3, 5e0)\n",
    "\n",
    "show_plot(\"size_dist.pdf\")"
   ]
  },
  {
   "cell_type": "code",
   "execution_count": null,
   "metadata": {},
   "outputs": [],
   "source": []
  }
 ],
 "metadata": {
  "kernelspec": {
   "display_name": "Python 3",
   "language": "python",
   "name": "python3"
  },
  "language_info": {
   "codemirror_mode": {
    "name": "ipython",
    "version": 3
   },
   "file_extension": ".py",
   "mimetype": "text/x-python",
   "name": "python",
   "nbconvert_exporter": "python",
   "pygments_lexer": "ipython3",
   "version": "3.8.7"
  }
 },
 "nbformat": 4,
 "nbformat_minor": 4
}
