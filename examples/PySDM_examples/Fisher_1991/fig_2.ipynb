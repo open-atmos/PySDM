{
 "cells": [
  {
   "metadata": {},
   "cell_type": "markdown",
   "source": [
    "[![preview notebook](https://img.shields.io/static/v1?label=render%20on&logo=github&color=87ce3e&message=GitHub)](https://github.com/open-atmos/PySDM/blob/main/examples/PySDM_examples/Fisher_1991/fig_2.ipynb)\n",
    "[![launch on mybinder.org](https://mybinder.org/badge_logo.svg)](https://mybinder.org/v2/gh/open-atmos/PySDM.git/main?urlpath=lab/tree/examples/PySDM_examples/Fisher_1991/fig_2.ipynb)\n",
    "[![launch on Colab](https://colab.research.google.com/assets/colab-badge.svg)](https://colab.research.google.com/github/open-atmos/PySDM/blob/main/examples/PySDM_examples/Fisher_1991/fig_2.ipynb)"
   ],
   "id": "4fecbc8260ee990d"
  },
  {
   "metadata": {},
   "cell_type": "markdown",
   "source": [
    "# based on Fig 2. in [Fisher 1991](https://doi.org/10.1034/j.1600-0889.1991.t01-4-00006.x)\n",
    "Deuterium excess $d=\\delta(D) - 8\\delta( ^{18}O)$"
   ],
   "id": "a290c85256f4f983"
  },
  {
   "metadata": {
    "ExecuteTime": {
     "end_time": "2025-05-05T17:36:12.524553Z",
     "start_time": "2025-05-05T17:36:12.521122Z"
    }
   },
   "cell_type": "code",
   "source": [
    "import sys\n",
    "if 'google.colab' in sys.modules:\n",
    "    !pip --quiet install open-atmos-jupyter-utils\n",
    "    from open_atmos_jupyter_utils import pip_install_on_colab\n",
    "    pip_install_on_colab('PySDM-examples')"
   ],
   "id": "31481014375c7d36",
   "outputs": [],
   "execution_count": 1
  },
  {
   "cell_type": "code",
   "id": "c36c2f5c-17c1-422e-9ab9-f7d612064199",
   "metadata": {
    "ExecuteTime": {
     "end_time": "2025-05-05T17:36:14.192973Z",
     "start_time": "2025-05-05T17:36:12.529203Z"
    }
   },
   "source": [
    "import numpy as np\n",
    "import matplotlib.pyplot as plt\n",
    "from open_atmos_jupyter_utils import show_plot\n",
    "\n",
    "from PySDM import Formulae\n",
    "from PySDM.physics import si\n",
    "from PySDM.physics.constants import PER_CENT, PER_MILLE, in_unit\n"
   ],
   "outputs": [],
   "execution_count": 2
  },
  {
   "metadata": {
    "ExecuteTime": {
     "end_time": "2025-05-05T17:36:14.289687Z",
     "start_time": "2025-05-05T17:36:14.269080Z"
    }
   },
   "cell_type": "code",
   "source": [
    "formulae = Formulae(\n",
    "        drop_growth='Mason1971',\n",
    "        diffusion_thermics='Neglect',\n",
    "        latent_heat_vapourisation='Constant',\n",
    "        saturation_vapour_pressure='Lowe1977',\n",
    "        isotope_meteoric_water_line=\"Dansgaard1964\",\n",
    "        isotope_diffusivity_ratios=\"Stewart1975\",\n",
    "        isotope_equilibrium_fractionation_factors=\"VanHook1968\",\n",
    "        isotope_kinetic_fractionation_factors=\"BolotEtAl2013\"\n",
    ")\n",
    "const=formulae.constants"
   ],
   "id": "91bb290498429f53",
   "outputs": [],
   "execution_count": 3
  },
  {
   "metadata": {
    "ExecuteTime": {
     "end_time": "2025-05-05T17:36:32.410157Z",
     "start_time": "2025-05-05T17:36:32.400027Z"
    }
   },
   "cell_type": "code",
   "source": [
    "temperature = np.linspace(223.15, 263.15, 10) * si.K\n",
    "saturation = 0.9\n",
    "D = formulae.diffusion_thermics.D(1,1)\n",
    "K = formulae.diffusion_thermics.K(1,1)\n",
    "pvs = formulae.saturation_vapour_pressure.pvs_ice(temperature)\n",
    "r_dr_dt = formulae.drop_growth.r_dr_dt(\n",
    "    RH_eq=0,\n",
    "    T=temperature,\n",
    "    RH=saturation,\n",
    "    lv=formulae.latent_heat_vapourisation.lv(temperature),\n",
    "    pvs=pvs,\n",
    "    D=D,\n",
    "    K=K\n",
    ")\n",
    "\n",
    "molar_mass_isotopes = {\n",
    "    '2H': const.M_1H + const.M_2H + const.M_16O,\n",
    "    '18O': 2 * const.M_1H + const.M_18O\n",
    "}"
   ],
   "id": "410921cbf215494d",
   "outputs": [],
   "execution_count": 9
  },
  {
   "metadata": {
    "ExecuteTime": {
     "end_time": "2025-05-05T17:36:33.026841Z",
     "start_time": "2025-05-05T17:36:33.021313Z"
    }
   },
   "cell_type": "code",
   "source": [
    "alpha_l = alpha_kinetic = alpha_kinetic_eff = {}\n",
    "for isotope, molar_mass in molar_mass_isotopes.items():\n",
    "    alpha_l[isotope] = getattr(formulae.isotope_equilibrium_fractionation_factors, f'alpha_l_{isotope}')(temperature)\n",
    "    diffusivity_ratio = getattr(formulae.isotope_diffusivity_ratios, f'ratio_{isotope}')(temperature)\n",
    "    A_liquid_to_ice = formulae.isotope_kinetic_fractionation_factors.transfer_coefficient_liq_to_ice(\n",
    "        diffusion_ventilation_coefficient=D,\n",
    "        condensed_water_density=1,\n",
    "        pvs=pvs,\n",
    "        molar_mass=molar_mass,\n",
    "        temperature=temperature,\n",
    "        relative_humidity=saturation,\n",
    "        r_dr_dt_assuming_RHeq0=r_dr_dt,\n",
    "    )\n",
    "    effective_saturation = formulae.isotope_kinetic_fractionation_factors.effective_supersaturation(\n",
    "        transfer_coefficient_liq_to_ice=A_liquid_to_ice,\n",
    "        relative_humidity=saturation\n",
    "    )\n",
    "    print(effective_saturation)\n",
    "    alpha_kinetic_eff[isotope] = formulae.isotope_kinetic_fractionation_factors.alpha_kinetic(\n",
    "        alpha_equilibrium=alpha_l[isotope],\n",
    "        relative_humidity=effective_saturation,\n",
    "        heavy_to_light_diffusivity_ratio=diffusivity_ratio\n",
    "    )\n",
    "    alpha_kinetic[isotope] = formulae.isotope_kinetic_fractionation_factors.alpha_kinetic(\n",
    "        alpha_equilibrium=alpha_l[isotope],\n",
    "        relative_humidity=saturation,\n",
    "        heavy_to_light_diffusivity_ratio=diffusivity_ratio\n",
    "    )"
   ],
   "id": "f8e437c7cc7df1a7",
   "outputs": [
    {
     "name": "stdout",
     "output_type": "stream",
     "text": [
      "[0.0083754  0.00832899 0.0082578  0.00815325 0.00800334 0.00779458\n",
      " 0.00751373 0.0071501  0.00669866 0.00616344]\n",
      "[0.00796112 0.00791698 0.00784929 0.00774987 0.00760732 0.00740881\n",
      " 0.00714176 0.00679601 0.00636679 0.00585793]\n"
     ]
    }
   ],
   "execution_count": 10
  },
  {
   "metadata": {
    "ExecuteTime": {
     "end_time": "2025-05-05T17:36:34.484123Z",
     "start_time": "2025-05-05T17:36:34.480276Z"
    }
   },
   "cell_type": "code",
   "source": [
    "def delta(delta_0, alpha, alpha_0, m, m_0):\n",
    "    return (\n",
    "            (1 + delta_0)\n",
    "            * alpha / alpha_0\n",
    "            * m / m_0\n",
    "            * np.exp(alpha - 1)\n",
    "            -1\n",
    "    )"
   ],
   "id": "9ca4e3256065274b",
   "outputs": [],
   "execution_count": 11
  },
  {
   "metadata": {},
   "cell_type": "code",
   "outputs": [],
   "execution_count": null,
   "source": "",
   "id": "21149c0db09ce402"
  },
  {
   "metadata": {
    "ExecuteTime": {
     "end_time": "2025-05-05T17:36:34.898793Z",
     "start_time": "2025-05-05T17:36:34.895996Z"
    }
   },
   "cell_type": "code",
   "source": [
    "delta_18O_0 = 15 * PER_MILLE\n",
    "delta_2H_0 = 8 * delta_18O_0\n",
    "T_0 = (- 15 + 273.15) * si.K\n",
    "delta_18O = delta(\n",
    "    delta_0=delta_18O_0,\n",
    "    alpha=alpha_l['18O']*alpha_kinetic['18O'],\n",
    "    alpha_0=1,\n",
    "    m=1,\n",
    "    m_0=1\n",
    ")\n",
    "delta_2H = delta(\n",
    "    delta_0=delta_2H_0,\n",
    "    alpha=alpha_l['2H']*alpha_kinetic['2H'],\n",
    "    alpha_0=1,\n",
    "    m=1,\n",
    "    m_0=1\n",
    ")\n",
    "d_excess_eff = formulae.isotope_meteoric_water_line.excess_d(\n",
    "    delta_2H=delta_2H,\n",
    "    delta_18O=delta_18O,\n",
    ")\n",
    "d_excess = formulae.isotope_meteoric_water_line.excess_d(\n",
    "    delta_2H=delta_2H,\n",
    "    delta_18O=delta_18O,\n",
    ")"
   ],
   "id": "7a8db1123a36cbca",
   "outputs": [],
   "execution_count": 12
  },
  {
   "metadata": {
    "ExecuteTime": {
     "end_time": "2025-05-05T17:36:36.065481Z",
     "start_time": "2025-05-05T17:36:35.814504Z"
    }
   },
   "cell_type": "code",
   "source": [
    "fig, ax = plt.subplots()\n",
    "#ax.plot(temperature, in_unit(d_excess_eff, PER_MILLE), label=\"effective\")\n",
    "ax.plot(temperature, in_unit(d_excess, PER_MILLE), '--', linewidth=2, label=\"t\")\n",
    "ax.set_xlabel(\"Temperature (K)\")\n",
    "ax.set_ylabel(r\"$d$-excess [per mille]\")\n",
    "ax.set_title(\"Deuterium excess comparison for Jouzel and Merlivat and Bolots formulae on kinetic $\\\\alpha$\")\n",
    "ax.legend()\n",
    "ax.grid()\n",
    "show_plot(\"deuterium_excess\")"
   ],
   "id": "e4bbddfe86d024a7",
   "outputs": [
    {
     "data": {
      "text/plain": [
       "<Figure size 640x480 with 1 Axes>"
      ],
      "image/svg+xml": "<?xml version=\"1.0\" encoding=\"utf-8\" standalone=\"no\"?>\n<!DOCTYPE svg PUBLIC \"-//W3C//DTD SVG 1.1//EN\"\n  \"http://www.w3.org/Graphics/SVG/1.1/DTD/svg11.dtd\">\n<svg xmlns:xlink=\"http://www.w3.org/1999/xlink\" width=\"534.6pt\" height=\"325.98825pt\" viewBox=\"0 0 534.6 325.98825\" xmlns=\"http://www.w3.org/2000/svg\" version=\"1.1\">\n <metadata>\n  <rdf:RDF xmlns:dc=\"http://purl.org/dc/elements/1.1/\" xmlns:cc=\"http://creativecommons.org/ns#\" xmlns:rdf=\"http://www.w3.org/1999/02/22-rdf-syntax-ns#\">\n   <cc:Work>\n    <dc:type rdf:resource=\"http://purl.org/dc/dcmitype/StillImage\"/>\n    <dc:date>2025-05-05T19:36:36.047509</dc:date>\n    <dc:format>image/svg+xml</dc:format>\n    <dc:creator>\n     <cc:Agent>\n      <dc:title>Matplotlib v3.10.0, https://matplotlib.org/</dc:title>\n     </cc:Agent>\n    </dc:creator>\n   </cc:Work>\n  </rdf:RDF>\n </metadata>\n <defs>\n  <style type=\"text/css\">*{stroke-linejoin: round; stroke-linecap: butt}</style>\n </defs>\n <g id=\"figure_1\">\n  <g id=\"patch_1\">\n   <path d=\"M 0 325.98825 \nL 534.6 325.98825 \nL 534.6 0 \nL 0 0 \nz\n\" style=\"fill: #ffffff\"/>\n  </g>\n  <g id=\"axes_1\">\n   <g id=\"patch_2\">\n    <path d=\"M 88.74 288.432 \nL 445.86 288.432 \nL 445.86 22.32 \nL 88.74 22.32 \nz\n\" style=\"fill: #ffffff\"/>\n   </g>\n   <g id=\"matplotlib.axis_1\">\n    <g id=\"xtick_1\">\n     <g id=\"line2d_1\">\n      <path d=\"M 119.988 288.432 \nL 119.988 22.32 \n\" clip-path=\"url(#p4f07c8fdef)\" style=\"fill: none; stroke: #b0b0b0; stroke-width: 0.8; stroke-linecap: square\"/>\n     </g>\n     <g id=\"line2d_2\">\n      <defs>\n       <path id=\"m848b2a1a1c\" d=\"M 0 0 \nL 0 3.5 \n\" style=\"stroke: #000000; stroke-width: 0.8\"/>\n      </defs>\n      <g>\n       <use xlink:href=\"#m848b2a1a1c\" x=\"119.988\" y=\"288.432\" style=\"stroke: #000000; stroke-width: 0.8\"/>\n      </g>\n     </g>\n     <g id=\"text_1\">\n      <!-- 225 -->\n      <g transform=\"translate(110.44425 303.030437) scale(0.1 -0.1)\">\n       <defs>\n        <path id=\"DejaVuSans-32\" d=\"M 1228 531 \nL 3431 531 \nL 3431 0 \nL 469 0 \nL 469 531 \nQ 828 903 1448 1529 \nQ 2069 2156 2228 2338 \nQ 2531 2678 2651 2914 \nQ 2772 3150 2772 3378 \nQ 2772 3750 2511 3984 \nQ 2250 4219 1831 4219 \nQ 1534 4219 1204 4116 \nQ 875 4013 500 3803 \nL 500 4441 \nQ 881 4594 1212 4672 \nQ 1544 4750 1819 4750 \nQ 2544 4750 2975 4387 \nQ 3406 4025 3406 3419 \nQ 3406 3131 3298 2873 \nQ 3191 2616 2906 2266 \nQ 2828 2175 2409 1742 \nQ 1991 1309 1228 531 \nz\n\" transform=\"scale(0.015625)\"/>\n        <path id=\"DejaVuSans-35\" d=\"M 691 4666 \nL 3169 4666 \nL 3169 4134 \nL 1269 4134 \nL 1269 2991 \nQ 1406 3038 1543 3061 \nQ 1681 3084 1819 3084 \nQ 2600 3084 3056 2656 \nQ 3513 2228 3513 1497 \nQ 3513 744 3044 326 \nQ 2575 -91 1722 -91 \nQ 1428 -91 1123 -41 \nQ 819 9 494 109 \nL 494 744 \nQ 775 591 1075 516 \nQ 1375 441 1709 441 \nQ 2250 441 2565 725 \nQ 2881 1009 2881 1497 \nQ 2881 1984 2565 2268 \nQ 2250 2553 1709 2553 \nQ 1456 2553 1204 2497 \nQ 953 2441 691 2322 \nL 691 4666 \nz\n\" transform=\"scale(0.015625)\"/>\n       </defs>\n       <use xlink:href=\"#DejaVuSans-32\"/>\n       <use xlink:href=\"#DejaVuSans-32\" transform=\"translate(63.623047 0)\"/>\n       <use xlink:href=\"#DejaVuSans-35\" transform=\"translate(127.246094 0)\"/>\n      </g>\n     </g>\n    </g>\n    <g id=\"xtick_2\">\n     <g id=\"line2d_3\">\n      <path d=\"M 160.569818 288.432 \nL 160.569818 22.32 \n\" clip-path=\"url(#p4f07c8fdef)\" style=\"fill: none; stroke: #b0b0b0; stroke-width: 0.8; stroke-linecap: square\"/>\n     </g>\n     <g id=\"line2d_4\">\n      <g>\n       <use xlink:href=\"#m848b2a1a1c\" x=\"160.569818\" y=\"288.432\" style=\"stroke: #000000; stroke-width: 0.8\"/>\n      </g>\n     </g>\n     <g id=\"text_2\">\n      <!-- 230 -->\n      <g transform=\"translate(151.026068 303.030437) scale(0.1 -0.1)\">\n       <defs>\n        <path id=\"DejaVuSans-33\" d=\"M 2597 2516 \nQ 3050 2419 3304 2112 \nQ 3559 1806 3559 1356 \nQ 3559 666 3084 287 \nQ 2609 -91 1734 -91 \nQ 1441 -91 1130 -33 \nQ 819 25 488 141 \nL 488 750 \nQ 750 597 1062 519 \nQ 1375 441 1716 441 \nQ 2309 441 2620 675 \nQ 2931 909 2931 1356 \nQ 2931 1769 2642 2001 \nQ 2353 2234 1838 2234 \nL 1294 2234 \nL 1294 2753 \nL 1863 2753 \nQ 2328 2753 2575 2939 \nQ 2822 3125 2822 3475 \nQ 2822 3834 2567 4026 \nQ 2313 4219 1838 4219 \nQ 1578 4219 1281 4162 \nQ 984 4106 628 3988 \nL 628 4550 \nQ 988 4650 1302 4700 \nQ 1616 4750 1894 4750 \nQ 2613 4750 3031 4423 \nQ 3450 4097 3450 3541 \nQ 3450 3153 3228 2886 \nQ 3006 2619 2597 2516 \nz\n\" transform=\"scale(0.015625)\"/>\n        <path id=\"DejaVuSans-30\" d=\"M 2034 4250 \nQ 1547 4250 1301 3770 \nQ 1056 3291 1056 2328 \nQ 1056 1369 1301 889 \nQ 1547 409 2034 409 \nQ 2525 409 2770 889 \nQ 3016 1369 3016 2328 \nQ 3016 3291 2770 3770 \nQ 2525 4250 2034 4250 \nz\nM 2034 4750 \nQ 2819 4750 3233 4129 \nQ 3647 3509 3647 2328 \nQ 3647 1150 3233 529 \nQ 2819 -91 2034 -91 \nQ 1250 -91 836 529 \nQ 422 1150 422 2328 \nQ 422 3509 836 4129 \nQ 1250 4750 2034 4750 \nz\n\" transform=\"scale(0.015625)\"/>\n       </defs>\n       <use xlink:href=\"#DejaVuSans-32\"/>\n       <use xlink:href=\"#DejaVuSans-33\" transform=\"translate(63.623047 0)\"/>\n       <use xlink:href=\"#DejaVuSans-30\" transform=\"translate(127.246094 0)\"/>\n      </g>\n     </g>\n    </g>\n    <g id=\"xtick_3\">\n     <g id=\"line2d_5\">\n      <path d=\"M 201.151636 288.432 \nL 201.151636 22.32 \n\" clip-path=\"url(#p4f07c8fdef)\" style=\"fill: none; stroke: #b0b0b0; stroke-width: 0.8; stroke-linecap: square\"/>\n     </g>\n     <g id=\"line2d_6\">\n      <g>\n       <use xlink:href=\"#m848b2a1a1c\" x=\"201.151636\" y=\"288.432\" style=\"stroke: #000000; stroke-width: 0.8\"/>\n      </g>\n     </g>\n     <g id=\"text_3\">\n      <!-- 235 -->\n      <g transform=\"translate(191.607886 303.030437) scale(0.1 -0.1)\">\n       <use xlink:href=\"#DejaVuSans-32\"/>\n       <use xlink:href=\"#DejaVuSans-33\" transform=\"translate(63.623047 0)\"/>\n       <use xlink:href=\"#DejaVuSans-35\" transform=\"translate(127.246094 0)\"/>\n      </g>\n     </g>\n    </g>\n    <g id=\"xtick_4\">\n     <g id=\"line2d_7\">\n      <path d=\"M 241.733455 288.432 \nL 241.733455 22.32 \n\" clip-path=\"url(#p4f07c8fdef)\" style=\"fill: none; stroke: #b0b0b0; stroke-width: 0.8; stroke-linecap: square\"/>\n     </g>\n     <g id=\"line2d_8\">\n      <g>\n       <use xlink:href=\"#m848b2a1a1c\" x=\"241.733455\" y=\"288.432\" style=\"stroke: #000000; stroke-width: 0.8\"/>\n      </g>\n     </g>\n     <g id=\"text_4\">\n      <!-- 240 -->\n      <g transform=\"translate(232.189705 303.030437) scale(0.1 -0.1)\">\n       <defs>\n        <path id=\"DejaVuSans-34\" d=\"M 2419 4116 \nL 825 1625 \nL 2419 1625 \nL 2419 4116 \nz\nM 2253 4666 \nL 3047 4666 \nL 3047 1625 \nL 3713 1625 \nL 3713 1100 \nL 3047 1100 \nL 3047 0 \nL 2419 0 \nL 2419 1100 \nL 313 1100 \nL 313 1709 \nL 2253 4666 \nz\n\" transform=\"scale(0.015625)\"/>\n       </defs>\n       <use xlink:href=\"#DejaVuSans-32\"/>\n       <use xlink:href=\"#DejaVuSans-34\" transform=\"translate(63.623047 0)\"/>\n       <use xlink:href=\"#DejaVuSans-30\" transform=\"translate(127.246094 0)\"/>\n      </g>\n     </g>\n    </g>\n    <g id=\"xtick_5\">\n     <g id=\"line2d_9\">\n      <path d=\"M 282.315273 288.432 \nL 282.315273 22.32 \n\" clip-path=\"url(#p4f07c8fdef)\" style=\"fill: none; stroke: #b0b0b0; stroke-width: 0.8; stroke-linecap: square\"/>\n     </g>\n     <g id=\"line2d_10\">\n      <g>\n       <use xlink:href=\"#m848b2a1a1c\" x=\"282.315273\" y=\"288.432\" style=\"stroke: #000000; stroke-width: 0.8\"/>\n      </g>\n     </g>\n     <g id=\"text_5\">\n      <!-- 245 -->\n      <g transform=\"translate(272.771523 303.030437) scale(0.1 -0.1)\">\n       <use xlink:href=\"#DejaVuSans-32\"/>\n       <use xlink:href=\"#DejaVuSans-34\" transform=\"translate(63.623047 0)\"/>\n       <use xlink:href=\"#DejaVuSans-35\" transform=\"translate(127.246094 0)\"/>\n      </g>\n     </g>\n    </g>\n    <g id=\"xtick_6\">\n     <g id=\"line2d_11\">\n      <path d=\"M 322.897091 288.432 \nL 322.897091 22.32 \n\" clip-path=\"url(#p4f07c8fdef)\" style=\"fill: none; stroke: #b0b0b0; stroke-width: 0.8; stroke-linecap: square\"/>\n     </g>\n     <g id=\"line2d_12\">\n      <g>\n       <use xlink:href=\"#m848b2a1a1c\" x=\"322.897091\" y=\"288.432\" style=\"stroke: #000000; stroke-width: 0.8\"/>\n      </g>\n     </g>\n     <g id=\"text_6\">\n      <!-- 250 -->\n      <g transform=\"translate(313.353341 303.030437) scale(0.1 -0.1)\">\n       <use xlink:href=\"#DejaVuSans-32\"/>\n       <use xlink:href=\"#DejaVuSans-35\" transform=\"translate(63.623047 0)\"/>\n       <use xlink:href=\"#DejaVuSans-30\" transform=\"translate(127.246094 0)\"/>\n      </g>\n     </g>\n    </g>\n    <g id=\"xtick_7\">\n     <g id=\"line2d_13\">\n      <path d=\"M 363.478909 288.432 \nL 363.478909 22.32 \n\" clip-path=\"url(#p4f07c8fdef)\" style=\"fill: none; stroke: #b0b0b0; stroke-width: 0.8; stroke-linecap: square\"/>\n     </g>\n     <g id=\"line2d_14\">\n      <g>\n       <use xlink:href=\"#m848b2a1a1c\" x=\"363.478909\" y=\"288.432\" style=\"stroke: #000000; stroke-width: 0.8\"/>\n      </g>\n     </g>\n     <g id=\"text_7\">\n      <!-- 255 -->\n      <g transform=\"translate(353.935159 303.030437) scale(0.1 -0.1)\">\n       <use xlink:href=\"#DejaVuSans-32\"/>\n       <use xlink:href=\"#DejaVuSans-35\" transform=\"translate(63.623047 0)\"/>\n       <use xlink:href=\"#DejaVuSans-35\" transform=\"translate(127.246094 0)\"/>\n      </g>\n     </g>\n    </g>\n    <g id=\"xtick_8\">\n     <g id=\"line2d_15\">\n      <path d=\"M 404.060727 288.432 \nL 404.060727 22.32 \n\" clip-path=\"url(#p4f07c8fdef)\" style=\"fill: none; stroke: #b0b0b0; stroke-width: 0.8; stroke-linecap: square\"/>\n     </g>\n     <g id=\"line2d_16\">\n      <g>\n       <use xlink:href=\"#m848b2a1a1c\" x=\"404.060727\" y=\"288.432\" style=\"stroke: #000000; stroke-width: 0.8\"/>\n      </g>\n     </g>\n     <g id=\"text_8\">\n      <!-- 260 -->\n      <g transform=\"translate(394.516977 303.030437) scale(0.1 -0.1)\">\n       <defs>\n        <path id=\"DejaVuSans-36\" d=\"M 2113 2584 \nQ 1688 2584 1439 2293 \nQ 1191 2003 1191 1497 \nQ 1191 994 1439 701 \nQ 1688 409 2113 409 \nQ 2538 409 2786 701 \nQ 3034 994 3034 1497 \nQ 3034 2003 2786 2293 \nQ 2538 2584 2113 2584 \nz\nM 3366 4563 \nL 3366 3988 \nQ 3128 4100 2886 4159 \nQ 2644 4219 2406 4219 \nQ 1781 4219 1451 3797 \nQ 1122 3375 1075 2522 \nQ 1259 2794 1537 2939 \nQ 1816 3084 2150 3084 \nQ 2853 3084 3261 2657 \nQ 3669 2231 3669 1497 \nQ 3669 778 3244 343 \nQ 2819 -91 2113 -91 \nQ 1303 -91 875 529 \nQ 447 1150 447 2328 \nQ 447 3434 972 4092 \nQ 1497 4750 2381 4750 \nQ 2619 4750 2861 4703 \nQ 3103 4656 3366 4563 \nz\n\" transform=\"scale(0.015625)\"/>\n       </defs>\n       <use xlink:href=\"#DejaVuSans-32\"/>\n       <use xlink:href=\"#DejaVuSans-36\" transform=\"translate(63.623047 0)\"/>\n       <use xlink:href=\"#DejaVuSans-30\" transform=\"translate(127.246094 0)\"/>\n      </g>\n     </g>\n    </g>\n    <g id=\"xtick_9\">\n     <g id=\"line2d_17\">\n      <path d=\"M 444.642545 288.432 \nL 444.642545 22.32 \n\" clip-path=\"url(#p4f07c8fdef)\" style=\"fill: none; stroke: #b0b0b0; stroke-width: 0.8; stroke-linecap: square\"/>\n     </g>\n     <g id=\"line2d_18\">\n      <g>\n       <use xlink:href=\"#m848b2a1a1c\" x=\"444.642545\" y=\"288.432\" style=\"stroke: #000000; stroke-width: 0.8\"/>\n      </g>\n     </g>\n     <g id=\"text_9\">\n      <!-- 265 -->\n      <g transform=\"translate(435.098795 303.030437) scale(0.1 -0.1)\">\n       <use xlink:href=\"#DejaVuSans-32\"/>\n       <use xlink:href=\"#DejaVuSans-36\" transform=\"translate(63.623047 0)\"/>\n       <use xlink:href=\"#DejaVuSans-35\" transform=\"translate(127.246094 0)\"/>\n      </g>\n     </g>\n    </g>\n    <g id=\"text_10\">\n     <!-- Temperature (K) -->\n     <g transform=\"translate(226.860938 316.708562) scale(0.1 -0.1)\">\n      <defs>\n       <path id=\"DejaVuSans-54\" d=\"M -19 4666 \nL 3928 4666 \nL 3928 4134 \nL 2272 4134 \nL 2272 0 \nL 1638 0 \nL 1638 4134 \nL -19 4134 \nL -19 4666 \nz\n\" transform=\"scale(0.015625)\"/>\n       <path id=\"DejaVuSans-65\" d=\"M 3597 1894 \nL 3597 1613 \nL 953 1613 \nQ 991 1019 1311 708 \nQ 1631 397 2203 397 \nQ 2534 397 2845 478 \nQ 3156 559 3463 722 \nL 3463 178 \nQ 3153 47 2828 -22 \nQ 2503 -91 2169 -91 \nQ 1331 -91 842 396 \nQ 353 884 353 1716 \nQ 353 2575 817 3079 \nQ 1281 3584 2069 3584 \nQ 2775 3584 3186 3129 \nQ 3597 2675 3597 1894 \nz\nM 3022 2063 \nQ 3016 2534 2758 2815 \nQ 2500 3097 2075 3097 \nQ 1594 3097 1305 2825 \nQ 1016 2553 972 2059 \nL 3022 2063 \nz\n\" transform=\"scale(0.015625)\"/>\n       <path id=\"DejaVuSans-6d\" d=\"M 3328 2828 \nQ 3544 3216 3844 3400 \nQ 4144 3584 4550 3584 \nQ 5097 3584 5394 3201 \nQ 5691 2819 5691 2113 \nL 5691 0 \nL 5113 0 \nL 5113 2094 \nQ 5113 2597 4934 2840 \nQ 4756 3084 4391 3084 \nQ 3944 3084 3684 2787 \nQ 3425 2491 3425 1978 \nL 3425 0 \nL 2847 0 \nL 2847 2094 \nQ 2847 2600 2669 2842 \nQ 2491 3084 2119 3084 \nQ 1678 3084 1418 2786 \nQ 1159 2488 1159 1978 \nL 1159 0 \nL 581 0 \nL 581 3500 \nL 1159 3500 \nL 1159 2956 \nQ 1356 3278 1631 3431 \nQ 1906 3584 2284 3584 \nQ 2666 3584 2933 3390 \nQ 3200 3197 3328 2828 \nz\n\" transform=\"scale(0.015625)\"/>\n       <path id=\"DejaVuSans-70\" d=\"M 1159 525 \nL 1159 -1331 \nL 581 -1331 \nL 581 3500 \nL 1159 3500 \nL 1159 2969 \nQ 1341 3281 1617 3432 \nQ 1894 3584 2278 3584 \nQ 2916 3584 3314 3078 \nQ 3713 2572 3713 1747 \nQ 3713 922 3314 415 \nQ 2916 -91 2278 -91 \nQ 1894 -91 1617 61 \nQ 1341 213 1159 525 \nz\nM 3116 1747 \nQ 3116 2381 2855 2742 \nQ 2594 3103 2138 3103 \nQ 1681 3103 1420 2742 \nQ 1159 2381 1159 1747 \nQ 1159 1113 1420 752 \nQ 1681 391 2138 391 \nQ 2594 391 2855 752 \nQ 3116 1113 3116 1747 \nz\n\" transform=\"scale(0.015625)\"/>\n       <path id=\"DejaVuSans-72\" d=\"M 2631 2963 \nQ 2534 3019 2420 3045 \nQ 2306 3072 2169 3072 \nQ 1681 3072 1420 2755 \nQ 1159 2438 1159 1844 \nL 1159 0 \nL 581 0 \nL 581 3500 \nL 1159 3500 \nL 1159 2956 \nQ 1341 3275 1631 3429 \nQ 1922 3584 2338 3584 \nQ 2397 3584 2469 3576 \nQ 2541 3569 2628 3553 \nL 2631 2963 \nz\n\" transform=\"scale(0.015625)\"/>\n       <path id=\"DejaVuSans-61\" d=\"M 2194 1759 \nQ 1497 1759 1228 1600 \nQ 959 1441 959 1056 \nQ 959 750 1161 570 \nQ 1363 391 1709 391 \nQ 2188 391 2477 730 \nQ 2766 1069 2766 1631 \nL 2766 1759 \nL 2194 1759 \nz\nM 3341 1997 \nL 3341 0 \nL 2766 0 \nL 2766 531 \nQ 2569 213 2275 61 \nQ 1981 -91 1556 -91 \nQ 1019 -91 701 211 \nQ 384 513 384 1019 \nQ 384 1609 779 1909 \nQ 1175 2209 1959 2209 \nL 2766 2209 \nL 2766 2266 \nQ 2766 2663 2505 2880 \nQ 2244 3097 1772 3097 \nQ 1472 3097 1187 3025 \nQ 903 2953 641 2809 \nL 641 3341 \nQ 956 3463 1253 3523 \nQ 1550 3584 1831 3584 \nQ 2591 3584 2966 3190 \nQ 3341 2797 3341 1997 \nz\n\" transform=\"scale(0.015625)\"/>\n       <path id=\"DejaVuSans-74\" d=\"M 1172 4494 \nL 1172 3500 \nL 2356 3500 \nL 2356 3053 \nL 1172 3053 \nL 1172 1153 \nQ 1172 725 1289 603 \nQ 1406 481 1766 481 \nL 2356 481 \nL 2356 0 \nL 1766 0 \nQ 1100 0 847 248 \nQ 594 497 594 1153 \nL 594 3053 \nL 172 3053 \nL 172 3500 \nL 594 3500 \nL 594 4494 \nL 1172 4494 \nz\n\" transform=\"scale(0.015625)\"/>\n       <path id=\"DejaVuSans-75\" d=\"M 544 1381 \nL 544 3500 \nL 1119 3500 \nL 1119 1403 \nQ 1119 906 1312 657 \nQ 1506 409 1894 409 \nQ 2359 409 2629 706 \nQ 2900 1003 2900 1516 \nL 2900 3500 \nL 3475 3500 \nL 3475 0 \nL 2900 0 \nL 2900 538 \nQ 2691 219 2414 64 \nQ 2138 -91 1772 -91 \nQ 1169 -91 856 284 \nQ 544 659 544 1381 \nz\nM 1991 3584 \nL 1991 3584 \nz\n\" transform=\"scale(0.015625)\"/>\n       <path id=\"DejaVuSans-20\" transform=\"scale(0.015625)\"/>\n       <path id=\"DejaVuSans-28\" d=\"M 1984 4856 \nQ 1566 4138 1362 3434 \nQ 1159 2731 1159 2009 \nQ 1159 1288 1364 580 \nQ 1569 -128 1984 -844 \nL 1484 -844 \nQ 1016 -109 783 600 \nQ 550 1309 550 2009 \nQ 550 2706 781 3412 \nQ 1013 4119 1484 4856 \nL 1984 4856 \nz\n\" transform=\"scale(0.015625)\"/>\n       <path id=\"DejaVuSans-4b\" d=\"M 628 4666 \nL 1259 4666 \nL 1259 2694 \nL 3353 4666 \nL 4166 4666 \nL 1850 2491 \nL 4331 0 \nL 3500 0 \nL 1259 2247 \nL 1259 0 \nL 628 0 \nL 628 4666 \nz\n\" transform=\"scale(0.015625)\"/>\n       <path id=\"DejaVuSans-29\" d=\"M 513 4856 \nL 1013 4856 \nQ 1481 4119 1714 3412 \nQ 1947 2706 1947 2009 \nQ 1947 1309 1714 600 \nQ 1481 -109 1013 -844 \nL 513 -844 \nQ 928 -128 1133 580 \nQ 1338 1288 1338 2009 \nQ 1338 2731 1133 3434 \nQ 928 4138 513 4856 \nz\n\" transform=\"scale(0.015625)\"/>\n      </defs>\n      <use xlink:href=\"#DejaVuSans-54\"/>\n      <use xlink:href=\"#DejaVuSans-65\" transform=\"translate(44.083984 0)\"/>\n      <use xlink:href=\"#DejaVuSans-6d\" transform=\"translate(105.607422 0)\"/>\n      <use xlink:href=\"#DejaVuSans-70\" transform=\"translate(203.019531 0)\"/>\n      <use xlink:href=\"#DejaVuSans-65\" transform=\"translate(266.496094 0)\"/>\n      <use xlink:href=\"#DejaVuSans-72\" transform=\"translate(328.019531 0)\"/>\n      <use xlink:href=\"#DejaVuSans-61\" transform=\"translate(369.132812 0)\"/>\n      <use xlink:href=\"#DejaVuSans-74\" transform=\"translate(430.412109 0)\"/>\n      <use xlink:href=\"#DejaVuSans-75\" transform=\"translate(469.621094 0)\"/>\n      <use xlink:href=\"#DejaVuSans-72\" transform=\"translate(533 0)\"/>\n      <use xlink:href=\"#DejaVuSans-65\" transform=\"translate(571.863281 0)\"/>\n      <use xlink:href=\"#DejaVuSans-20\" transform=\"translate(633.386719 0)\"/>\n      <use xlink:href=\"#DejaVuSans-28\" transform=\"translate(665.173828 0)\"/>\n      <use xlink:href=\"#DejaVuSans-4b\" transform=\"translate(704.1875 0)\"/>\n      <use xlink:href=\"#DejaVuSans-29\" transform=\"translate(769.763672 0)\"/>\n     </g>\n    </g>\n   </g>\n   <g id=\"matplotlib.axis_2\">\n    <g id=\"ytick_1\">\n     <g id=\"line2d_19\">\n      <path d=\"M 88.74 271.634798 \nL 445.86 271.634798 \n\" clip-path=\"url(#p4f07c8fdef)\" style=\"fill: none; stroke: #b0b0b0; stroke-width: 0.8; stroke-linecap: square\"/>\n     </g>\n     <g id=\"line2d_20\">\n      <defs>\n       <path id=\"mb558c9eddd\" d=\"M 0 0 \nL -3.5 0 \n\" style=\"stroke: #000000; stroke-width: 0.8\"/>\n      </defs>\n      <g>\n       <use xlink:href=\"#mb558c9eddd\" x=\"88.74\" y=\"271.634798\" style=\"stroke: #000000; stroke-width: 0.8\"/>\n      </g>\n     </g>\n     <g id=\"text_11\">\n      <!-- 2580 -->\n      <g transform=\"translate(56.29 275.434017) scale(0.1 -0.1)\">\n       <defs>\n        <path id=\"DejaVuSans-38\" d=\"M 2034 2216 \nQ 1584 2216 1326 1975 \nQ 1069 1734 1069 1313 \nQ 1069 891 1326 650 \nQ 1584 409 2034 409 \nQ 2484 409 2743 651 \nQ 3003 894 3003 1313 \nQ 3003 1734 2745 1975 \nQ 2488 2216 2034 2216 \nz\nM 1403 2484 \nQ 997 2584 770 2862 \nQ 544 3141 544 3541 \nQ 544 4100 942 4425 \nQ 1341 4750 2034 4750 \nQ 2731 4750 3128 4425 \nQ 3525 4100 3525 3541 \nQ 3525 3141 3298 2862 \nQ 3072 2584 2669 2484 \nQ 3125 2378 3379 2068 \nQ 3634 1759 3634 1313 \nQ 3634 634 3220 271 \nQ 2806 -91 2034 -91 \nQ 1263 -91 848 271 \nQ 434 634 434 1313 \nQ 434 1759 690 2068 \nQ 947 2378 1403 2484 \nz\nM 1172 3481 \nQ 1172 3119 1398 2916 \nQ 1625 2713 2034 2713 \nQ 2441 2713 2670 2916 \nQ 2900 3119 2900 3481 \nQ 2900 3844 2670 4047 \nQ 2441 4250 2034 4250 \nQ 1625 4250 1398 4047 \nQ 1172 3844 1172 3481 \nz\n\" transform=\"scale(0.015625)\"/>\n       </defs>\n       <use xlink:href=\"#DejaVuSans-32\"/>\n       <use xlink:href=\"#DejaVuSans-35\" transform=\"translate(63.623047 0)\"/>\n       <use xlink:href=\"#DejaVuSans-38\" transform=\"translate(127.246094 0)\"/>\n       <use xlink:href=\"#DejaVuSans-30\" transform=\"translate(190.869141 0)\"/>\n      </g>\n     </g>\n    </g>\n    <g id=\"ytick_2\">\n     <g id=\"line2d_21\">\n      <path d=\"M 88.74 231.848076 \nL 445.86 231.848076 \n\" clip-path=\"url(#p4f07c8fdef)\" style=\"fill: none; stroke: #b0b0b0; stroke-width: 0.8; stroke-linecap: square\"/>\n     </g>\n     <g id=\"line2d_22\">\n      <g>\n       <use xlink:href=\"#mb558c9eddd\" x=\"88.74\" y=\"231.848076\" style=\"stroke: #000000; stroke-width: 0.8\"/>\n      </g>\n     </g>\n     <g id=\"text_12\">\n      <!-- 2590 -->\n      <g transform=\"translate(56.29 235.647295) scale(0.1 -0.1)\">\n       <defs>\n        <path id=\"DejaVuSans-39\" d=\"M 703 97 \nL 703 672 \nQ 941 559 1184 500 \nQ 1428 441 1663 441 \nQ 2288 441 2617 861 \nQ 2947 1281 2994 2138 \nQ 2813 1869 2534 1725 \nQ 2256 1581 1919 1581 \nQ 1219 1581 811 2004 \nQ 403 2428 403 3163 \nQ 403 3881 828 4315 \nQ 1253 4750 1959 4750 \nQ 2769 4750 3195 4129 \nQ 3622 3509 3622 2328 \nQ 3622 1225 3098 567 \nQ 2575 -91 1691 -91 \nQ 1453 -91 1209 -44 \nQ 966 3 703 97 \nz\nM 1959 2075 \nQ 2384 2075 2632 2365 \nQ 2881 2656 2881 3163 \nQ 2881 3666 2632 3958 \nQ 2384 4250 1959 4250 \nQ 1534 4250 1286 3958 \nQ 1038 3666 1038 3163 \nQ 1038 2656 1286 2365 \nQ 1534 2075 1959 2075 \nz\n\" transform=\"scale(0.015625)\"/>\n       </defs>\n       <use xlink:href=\"#DejaVuSans-32\"/>\n       <use xlink:href=\"#DejaVuSans-35\" transform=\"translate(63.623047 0)\"/>\n       <use xlink:href=\"#DejaVuSans-39\" transform=\"translate(127.246094 0)\"/>\n       <use xlink:href=\"#DejaVuSans-30\" transform=\"translate(190.869141 0)\"/>\n      </g>\n     </g>\n    </g>\n    <g id=\"ytick_3\">\n     <g id=\"line2d_23\">\n      <path d=\"M 88.74 192.061354 \nL 445.86 192.061354 \n\" clip-path=\"url(#p4f07c8fdef)\" style=\"fill: none; stroke: #b0b0b0; stroke-width: 0.8; stroke-linecap: square\"/>\n     </g>\n     <g id=\"line2d_24\">\n      <g>\n       <use xlink:href=\"#mb558c9eddd\" x=\"88.74\" y=\"192.061354\" style=\"stroke: #000000; stroke-width: 0.8\"/>\n      </g>\n     </g>\n     <g id=\"text_13\">\n      <!-- 2600 -->\n      <g transform=\"translate(56.29 195.860573) scale(0.1 -0.1)\">\n       <use xlink:href=\"#DejaVuSans-32\"/>\n       <use xlink:href=\"#DejaVuSans-36\" transform=\"translate(63.623047 0)\"/>\n       <use xlink:href=\"#DejaVuSans-30\" transform=\"translate(127.246094 0)\"/>\n       <use xlink:href=\"#DejaVuSans-30\" transform=\"translate(190.869141 0)\"/>\n      </g>\n     </g>\n    </g>\n    <g id=\"ytick_4\">\n     <g id=\"line2d_25\">\n      <path d=\"M 88.74 152.274632 \nL 445.86 152.274632 \n\" clip-path=\"url(#p4f07c8fdef)\" style=\"fill: none; stroke: #b0b0b0; stroke-width: 0.8; stroke-linecap: square\"/>\n     </g>\n     <g id=\"line2d_26\">\n      <g>\n       <use xlink:href=\"#mb558c9eddd\" x=\"88.74\" y=\"152.274632\" style=\"stroke: #000000; stroke-width: 0.8\"/>\n      </g>\n     </g>\n     <g id=\"text_14\">\n      <!-- 2610 -->\n      <g transform=\"translate(56.29 156.073851) scale(0.1 -0.1)\">\n       <defs>\n        <path id=\"DejaVuSans-31\" d=\"M 794 531 \nL 1825 531 \nL 1825 4091 \nL 703 3866 \nL 703 4441 \nL 1819 4666 \nL 2450 4666 \nL 2450 531 \nL 3481 531 \nL 3481 0 \nL 794 0 \nL 794 531 \nz\n\" transform=\"scale(0.015625)\"/>\n       </defs>\n       <use xlink:href=\"#DejaVuSans-32\"/>\n       <use xlink:href=\"#DejaVuSans-36\" transform=\"translate(63.623047 0)\"/>\n       <use xlink:href=\"#DejaVuSans-31\" transform=\"translate(127.246094 0)\"/>\n       <use xlink:href=\"#DejaVuSans-30\" transform=\"translate(190.869141 0)\"/>\n      </g>\n     </g>\n    </g>\n    <g id=\"ytick_5\">\n     <g id=\"line2d_27\">\n      <path d=\"M 88.74 112.48791 \nL 445.86 112.48791 \n\" clip-path=\"url(#p4f07c8fdef)\" style=\"fill: none; stroke: #b0b0b0; stroke-width: 0.8; stroke-linecap: square\"/>\n     </g>\n     <g id=\"line2d_28\">\n      <g>\n       <use xlink:href=\"#mb558c9eddd\" x=\"88.74\" y=\"112.48791\" style=\"stroke: #000000; stroke-width: 0.8\"/>\n      </g>\n     </g>\n     <g id=\"text_15\">\n      <!-- 2620 -->\n      <g transform=\"translate(56.29 116.287128) scale(0.1 -0.1)\">\n       <use xlink:href=\"#DejaVuSans-32\"/>\n       <use xlink:href=\"#DejaVuSans-36\" transform=\"translate(63.623047 0)\"/>\n       <use xlink:href=\"#DejaVuSans-32\" transform=\"translate(127.246094 0)\"/>\n       <use xlink:href=\"#DejaVuSans-30\" transform=\"translate(190.869141 0)\"/>\n      </g>\n     </g>\n    </g>\n    <g id=\"ytick_6\">\n     <g id=\"line2d_29\">\n      <path d=\"M 88.74 72.701188 \nL 445.86 72.701188 \n\" clip-path=\"url(#p4f07c8fdef)\" style=\"fill: none; stroke: #b0b0b0; stroke-width: 0.8; stroke-linecap: square\"/>\n     </g>\n     <g id=\"line2d_30\">\n      <g>\n       <use xlink:href=\"#mb558c9eddd\" x=\"88.74\" y=\"72.701188\" style=\"stroke: #000000; stroke-width: 0.8\"/>\n      </g>\n     </g>\n     <g id=\"text_16\">\n      <!-- 2630 -->\n      <g transform=\"translate(56.29 76.500406) scale(0.1 -0.1)\">\n       <use xlink:href=\"#DejaVuSans-32\"/>\n       <use xlink:href=\"#DejaVuSans-36\" transform=\"translate(63.623047 0)\"/>\n       <use xlink:href=\"#DejaVuSans-33\" transform=\"translate(127.246094 0)\"/>\n       <use xlink:href=\"#DejaVuSans-30\" transform=\"translate(190.869141 0)\"/>\n      </g>\n     </g>\n    </g>\n    <g id=\"ytick_7\">\n     <g id=\"line2d_31\">\n      <path d=\"M 88.74 32.914465 \nL 445.86 32.914465 \n\" clip-path=\"url(#p4f07c8fdef)\" style=\"fill: none; stroke: #b0b0b0; stroke-width: 0.8; stroke-linecap: square\"/>\n     </g>\n     <g id=\"line2d_32\">\n      <g>\n       <use xlink:href=\"#mb558c9eddd\" x=\"88.74\" y=\"32.914465\" style=\"stroke: #000000; stroke-width: 0.8\"/>\n      </g>\n     </g>\n     <g id=\"text_17\">\n      <!-- 2640 -->\n      <g transform=\"translate(56.29 36.713684) scale(0.1 -0.1)\">\n       <use xlink:href=\"#DejaVuSans-32\"/>\n       <use xlink:href=\"#DejaVuSans-36\" transform=\"translate(63.623047 0)\"/>\n       <use xlink:href=\"#DejaVuSans-34\" transform=\"translate(127.246094 0)\"/>\n       <use xlink:href=\"#DejaVuSans-30\" transform=\"translate(190.869141 0)\"/>\n      </g>\n     </g>\n    </g>\n    <g id=\"text_18\">\n     <!-- $d$-excess -->\n     <g transform=\"translate(50.210312 177.426) rotate(-90) scale(0.1 -0.1)\">\n      <defs>\n       <path id=\"DejaVuSans-Oblique-64\" d=\"M 2675 525 \nQ 2444 222 2128 65 \nQ 1813 -91 1428 -91 \nQ 903 -91 598 267 \nQ 294 625 294 1247 \nQ 294 1766 478 2236 \nQ 663 2706 1013 3078 \nQ 1244 3325 1534 3454 \nQ 1825 3584 2144 3584 \nQ 2481 3584 2739 3421 \nQ 2997 3259 3138 2956 \nL 3513 4863 \nL 4091 4863 \nL 3144 0 \nL 2566 0 \nL 2675 525 \nz\nM 891 1350 \nQ 891 897 1095 644 \nQ 1300 391 1663 391 \nQ 1931 391 2161 520 \nQ 2391 650 2566 903 \nQ 2750 1166 2856 1509 \nQ 2963 1853 2963 2188 \nQ 2963 2622 2758 2865 \nQ 2553 3109 2194 3109 \nQ 1922 3109 1687 2981 \nQ 1453 2853 1288 2613 \nQ 1106 2353 998 2009 \nQ 891 1666 891 1350 \nz\n\" transform=\"scale(0.015625)\"/>\n       <path id=\"DejaVuSans-2d\" d=\"M 313 2009 \nL 1997 2009 \nL 1997 1497 \nL 313 1497 \nL 313 2009 \nz\n\" transform=\"scale(0.015625)\"/>\n       <path id=\"DejaVuSans-78\" d=\"M 3513 3500 \nL 2247 1797 \nL 3578 0 \nL 2900 0 \nL 1881 1375 \nL 863 0 \nL 184 0 \nL 1544 1831 \nL 300 3500 \nL 978 3500 \nL 1906 2253 \nL 2834 3500 \nL 3513 3500 \nz\n\" transform=\"scale(0.015625)\"/>\n       <path id=\"DejaVuSans-63\" d=\"M 3122 3366 \nL 3122 2828 \nQ 2878 2963 2633 3030 \nQ 2388 3097 2138 3097 \nQ 1578 3097 1268 2742 \nQ 959 2388 959 1747 \nQ 959 1106 1268 751 \nQ 1578 397 2138 397 \nQ 2388 397 2633 464 \nQ 2878 531 3122 666 \nL 3122 134 \nQ 2881 22 2623 -34 \nQ 2366 -91 2075 -91 \nQ 1284 -91 818 406 \nQ 353 903 353 1747 \nQ 353 2603 823 3093 \nQ 1294 3584 2113 3584 \nQ 2378 3584 2631 3529 \nQ 2884 3475 3122 3366 \nz\n\" transform=\"scale(0.015625)\"/>\n       <path id=\"DejaVuSans-73\" d=\"M 2834 3397 \nL 2834 2853 \nQ 2591 2978 2328 3040 \nQ 2066 3103 1784 3103 \nQ 1356 3103 1142 2972 \nQ 928 2841 928 2578 \nQ 928 2378 1081 2264 \nQ 1234 2150 1697 2047 \nL 1894 2003 \nQ 2506 1872 2764 1633 \nQ 3022 1394 3022 966 \nQ 3022 478 2636 193 \nQ 2250 -91 1575 -91 \nQ 1294 -91 989 -36 \nQ 684 19 347 128 \nL 347 722 \nQ 666 556 975 473 \nQ 1284 391 1588 391 \nQ 1994 391 2212 530 \nQ 2431 669 2431 922 \nQ 2431 1156 2273 1281 \nQ 2116 1406 1581 1522 \nL 1381 1569 \nQ 847 1681 609 1914 \nQ 372 2147 372 2553 \nQ 372 3047 722 3315 \nQ 1072 3584 1716 3584 \nQ 2034 3584 2315 3537 \nQ 2597 3491 2834 3397 \nz\n\" transform=\"scale(0.015625)\"/>\n      </defs>\n      <use xlink:href=\"#DejaVuSans-Oblique-64\" transform=\"translate(0 0.015625)\"/>\n      <use xlink:href=\"#DejaVuSans-2d\" transform=\"translate(63.476562 0.015625)\"/>\n      <use xlink:href=\"#DejaVuSans-65\" transform=\"translate(99.560547 0.015625)\"/>\n      <use xlink:href=\"#DejaVuSans-78\" transform=\"translate(161.083984 0.015625)\"/>\n      <use xlink:href=\"#DejaVuSans-63\" transform=\"translate(220.263672 0.015625)\"/>\n      <use xlink:href=\"#DejaVuSans-65\" transform=\"translate(275.244141 0.015625)\"/>\n      <use xlink:href=\"#DejaVuSans-73\" transform=\"translate(336.767578 0.015625)\"/>\n      <use xlink:href=\"#DejaVuSans-73\" transform=\"translate(388.867188 0.015625)\"/>\n     </g>\n    </g>\n   </g>\n   <g id=\"line2d_33\">\n    <path d=\"M 104.972727 83.088247 \nL 141.045455 60.757639 \nL 177.118182 43.912114 \nL 213.190909 34.416 \nL 249.263636 34.847289 \nL 285.336364 48.152186 \nL 321.409091 77.266173 \nL 357.481818 124.578996 \nL 393.554545 191.221917 \nL 429.627273 276.336 \n\" clip-path=\"url(#p4f07c8fdef)\" style=\"fill: none; stroke-dasharray: 7.4,3.2; stroke-dashoffset: 0; stroke: #1f77b4; stroke-width: 2\"/>\n   </g>\n   <g id=\"patch_3\">\n    <path d=\"M 88.74 288.432 \nL 88.74 22.32 \n\" style=\"fill: none; stroke: #000000; stroke-width: 0.8; stroke-linejoin: miter; stroke-linecap: square\"/>\n   </g>\n   <g id=\"patch_4\">\n    <path d=\"M 445.86 288.432 \nL 445.86 22.32 \n\" style=\"fill: none; stroke: #000000; stroke-width: 0.8; stroke-linejoin: miter; stroke-linecap: square\"/>\n   </g>\n   <g id=\"patch_5\">\n    <path d=\"M 88.74 288.432 \nL 445.86 288.432 \n\" style=\"fill: none; stroke: #000000; stroke-width: 0.8; stroke-linejoin: miter; stroke-linecap: square\"/>\n   </g>\n   <g id=\"patch_6\">\n    <path d=\"M 88.74 22.32 \nL 445.86 22.32 \n\" style=\"fill: none; stroke: #000000; stroke-width: 0.8; stroke-linejoin: miter; stroke-linecap: square\"/>\n   </g>\n   <g id=\"text_19\">\n    <!-- Deuterium excess comparison for Jouzel and Merlivat and Bolots formulae on kinetic $\\alpha$ -->\n    <g transform=\"translate(7.2 16.32) scale(0.12 -0.12)\">\n     <defs>\n      <path id=\"DejaVuSans-44\" d=\"M 1259 4147 \nL 1259 519 \nL 2022 519 \nQ 2988 519 3436 956 \nQ 3884 1394 3884 2338 \nQ 3884 3275 3436 3711 \nQ 2988 4147 2022 4147 \nL 1259 4147 \nz\nM 628 4666 \nL 1925 4666 \nQ 3281 4666 3915 4102 \nQ 4550 3538 4550 2338 \nQ 4550 1131 3912 565 \nQ 3275 0 1925 0 \nL 628 0 \nL 628 4666 \nz\n\" transform=\"scale(0.015625)\"/>\n      <path id=\"DejaVuSans-69\" d=\"M 603 3500 \nL 1178 3500 \nL 1178 0 \nL 603 0 \nL 603 3500 \nz\nM 603 4863 \nL 1178 4863 \nL 1178 4134 \nL 603 4134 \nL 603 4863 \nz\n\" transform=\"scale(0.015625)\"/>\n      <path id=\"DejaVuSans-6f\" d=\"M 1959 3097 \nQ 1497 3097 1228 2736 \nQ 959 2375 959 1747 \nQ 959 1119 1226 758 \nQ 1494 397 1959 397 \nQ 2419 397 2687 759 \nQ 2956 1122 2956 1747 \nQ 2956 2369 2687 2733 \nQ 2419 3097 1959 3097 \nz\nM 1959 3584 \nQ 2709 3584 3137 3096 \nQ 3566 2609 3566 1747 \nQ 3566 888 3137 398 \nQ 2709 -91 1959 -91 \nQ 1206 -91 779 398 \nQ 353 888 353 1747 \nQ 353 2609 779 3096 \nQ 1206 3584 1959 3584 \nz\n\" transform=\"scale(0.015625)\"/>\n      <path id=\"DejaVuSans-6e\" d=\"M 3513 2113 \nL 3513 0 \nL 2938 0 \nL 2938 2094 \nQ 2938 2591 2744 2837 \nQ 2550 3084 2163 3084 \nQ 1697 3084 1428 2787 \nQ 1159 2491 1159 1978 \nL 1159 0 \nL 581 0 \nL 581 3500 \nL 1159 3500 \nL 1159 2956 \nQ 1366 3272 1645 3428 \nQ 1925 3584 2291 3584 \nQ 2894 3584 3203 3211 \nQ 3513 2838 3513 2113 \nz\n\" transform=\"scale(0.015625)\"/>\n      <path id=\"DejaVuSans-66\" d=\"M 2375 4863 \nL 2375 4384 \nL 1825 4384 \nQ 1516 4384 1395 4259 \nQ 1275 4134 1275 3809 \nL 1275 3500 \nL 2222 3500 \nL 2222 3053 \nL 1275 3053 \nL 1275 0 \nL 697 0 \nL 697 3053 \nL 147 3053 \nL 147 3500 \nL 697 3500 \nL 697 3744 \nQ 697 4328 969 4595 \nQ 1241 4863 1831 4863 \nL 2375 4863 \nz\n\" transform=\"scale(0.015625)\"/>\n      <path id=\"DejaVuSans-4a\" d=\"M 628 4666 \nL 1259 4666 \nL 1259 325 \nQ 1259 -519 939 -900 \nQ 619 -1281 -91 -1281 \nL -331 -1281 \nL -331 -750 \nL -134 -750 \nQ 284 -750 456 -515 \nQ 628 -281 628 325 \nL 628 4666 \nz\n\" transform=\"scale(0.015625)\"/>\n      <path id=\"DejaVuSans-7a\" d=\"M 353 3500 \nL 3084 3500 \nL 3084 2975 \nL 922 459 \nL 3084 459 \nL 3084 0 \nL 275 0 \nL 275 525 \nL 2438 3041 \nL 353 3041 \nL 353 3500 \nz\n\" transform=\"scale(0.015625)\"/>\n      <path id=\"DejaVuSans-6c\" d=\"M 603 4863 \nL 1178 4863 \nL 1178 0 \nL 603 0 \nL 603 4863 \nz\n\" transform=\"scale(0.015625)\"/>\n      <path id=\"DejaVuSans-64\" d=\"M 2906 2969 \nL 2906 4863 \nL 3481 4863 \nL 3481 0 \nL 2906 0 \nL 2906 525 \nQ 2725 213 2448 61 \nQ 2172 -91 1784 -91 \nQ 1150 -91 751 415 \nQ 353 922 353 1747 \nQ 353 2572 751 3078 \nQ 1150 3584 1784 3584 \nQ 2172 3584 2448 3432 \nQ 2725 3281 2906 2969 \nz\nM 947 1747 \nQ 947 1113 1208 752 \nQ 1469 391 1925 391 \nQ 2381 391 2643 752 \nQ 2906 1113 2906 1747 \nQ 2906 2381 2643 2742 \nQ 2381 3103 1925 3103 \nQ 1469 3103 1208 2742 \nQ 947 2381 947 1747 \nz\n\" transform=\"scale(0.015625)\"/>\n      <path id=\"DejaVuSans-4d\" d=\"M 628 4666 \nL 1569 4666 \nL 2759 1491 \nL 3956 4666 \nL 4897 4666 \nL 4897 0 \nL 4281 0 \nL 4281 4097 \nL 3078 897 \nL 2444 897 \nL 1241 4097 \nL 1241 0 \nL 628 0 \nL 628 4666 \nz\n\" transform=\"scale(0.015625)\"/>\n      <path id=\"DejaVuSans-76\" d=\"M 191 3500 \nL 800 3500 \nL 1894 563 \nL 2988 3500 \nL 3597 3500 \nL 2284 0 \nL 1503 0 \nL 191 3500 \nz\n\" transform=\"scale(0.015625)\"/>\n      <path id=\"DejaVuSans-42\" d=\"M 1259 2228 \nL 1259 519 \nL 2272 519 \nQ 2781 519 3026 730 \nQ 3272 941 3272 1375 \nQ 3272 1813 3026 2020 \nQ 2781 2228 2272 2228 \nL 1259 2228 \nz\nM 1259 4147 \nL 1259 2741 \nL 2194 2741 \nQ 2656 2741 2882 2914 \nQ 3109 3088 3109 3444 \nQ 3109 3797 2882 3972 \nQ 2656 4147 2194 4147 \nL 1259 4147 \nz\nM 628 4666 \nL 2241 4666 \nQ 2963 4666 3353 4366 \nQ 3744 4066 3744 3513 \nQ 3744 3084 3544 2831 \nQ 3344 2578 2956 2516 \nQ 3422 2416 3680 2098 \nQ 3938 1781 3938 1306 \nQ 3938 681 3513 340 \nQ 3088 0 2303 0 \nL 628 0 \nL 628 4666 \nz\n\" transform=\"scale(0.015625)\"/>\n      <path id=\"DejaVuSans-6b\" d=\"M 581 4863 \nL 1159 4863 \nL 1159 1991 \nL 2875 3500 \nL 3609 3500 \nL 1753 1863 \nL 3688 0 \nL 2938 0 \nL 1159 1709 \nL 1159 0 \nL 581 0 \nL 581 4863 \nz\n\" transform=\"scale(0.015625)\"/>\n      <path id=\"DejaVuSans-Oblique-3b1\" d=\"M 2619 1628 \nL 2622 2350 \nQ 2625 3088 2069 3091 \nQ 1653 3094 1394 2747 \nQ 1069 2319 959 1747 \nQ 825 1059 994 731 \nQ 1169 397 1547 397 \nQ 1966 397 2319 1063 \nL 2619 1628 \nz\nM 2166 3578 \nQ 3141 3594 3128 2584 \nQ 3128 2584 3616 3500 \nL 4128 3500 \nL 3119 1603 \nL 3109 919 \nQ 3109 766 3194 638 \nQ 3291 488 3391 488 \nL 3669 488 \nL 3575 0 \nL 3228 0 \nQ 2934 0 2722 263 \nQ 2622 394 2619 669 \nQ 2416 334 2066 50 \nQ 1900 -81 1453 -78 \nQ 722 -72 456 397 \nQ 184 884 353 1747 \nQ 534 2675 1009 3097 \nQ 1544 3569 2166 3578 \nz\n\" transform=\"scale(0.015625)\"/>\n     </defs>\n     <use xlink:href=\"#DejaVuSans-44\" transform=\"translate(0 0.015625)\"/>\n     <use xlink:href=\"#DejaVuSans-65\" transform=\"translate(77.001953 0.015625)\"/>\n     <use xlink:href=\"#DejaVuSans-75\" transform=\"translate(138.525391 0.015625)\"/>\n     <use xlink:href=\"#DejaVuSans-74\" transform=\"translate(201.904297 0.015625)\"/>\n     <use xlink:href=\"#DejaVuSans-65\" transform=\"translate(241.113281 0.015625)\"/>\n     <use xlink:href=\"#DejaVuSans-72\" transform=\"translate(302.636719 0.015625)\"/>\n     <use xlink:href=\"#DejaVuSans-69\" transform=\"translate(343.75 0.015625)\"/>\n     <use xlink:href=\"#DejaVuSans-75\" transform=\"translate(371.533203 0.015625)\"/>\n     <use xlink:href=\"#DejaVuSans-6d\" transform=\"translate(434.912109 0.015625)\"/>\n     <use xlink:href=\"#DejaVuSans-20\" transform=\"translate(532.324219 0.015625)\"/>\n     <use xlink:href=\"#DejaVuSans-65\" transform=\"translate(564.111328 0.015625)\"/>\n     <use xlink:href=\"#DejaVuSans-78\" transform=\"translate(625.634766 0.015625)\"/>\n     <use xlink:href=\"#DejaVuSans-63\" transform=\"translate(684.814453 0.015625)\"/>\n     <use xlink:href=\"#DejaVuSans-65\" transform=\"translate(739.794922 0.015625)\"/>\n     <use xlink:href=\"#DejaVuSans-73\" transform=\"translate(801.318359 0.015625)\"/>\n     <use xlink:href=\"#DejaVuSans-73\" transform=\"translate(853.417969 0.015625)\"/>\n     <use xlink:href=\"#DejaVuSans-20\" transform=\"translate(905.517578 0.015625)\"/>\n     <use xlink:href=\"#DejaVuSans-63\" transform=\"translate(937.304688 0.015625)\"/>\n     <use xlink:href=\"#DejaVuSans-6f\" transform=\"translate(992.285156 0.015625)\"/>\n     <use xlink:href=\"#DejaVuSans-6d\" transform=\"translate(1053.466797 0.015625)\"/>\n     <use xlink:href=\"#DejaVuSans-70\" transform=\"translate(1150.878906 0.015625)\"/>\n     <use xlink:href=\"#DejaVuSans-61\" transform=\"translate(1214.355469 0.015625)\"/>\n     <use xlink:href=\"#DejaVuSans-72\" transform=\"translate(1275.634766 0.015625)\"/>\n     <use xlink:href=\"#DejaVuSans-69\" transform=\"translate(1316.748047 0.015625)\"/>\n     <use xlink:href=\"#DejaVuSans-73\" transform=\"translate(1344.53125 0.015625)\"/>\n     <use xlink:href=\"#DejaVuSans-6f\" transform=\"translate(1396.630859 0.015625)\"/>\n     <use xlink:href=\"#DejaVuSans-6e\" transform=\"translate(1457.8125 0.015625)\"/>\n     <use xlink:href=\"#DejaVuSans-20\" transform=\"translate(1521.191406 0.015625)\"/>\n     <use xlink:href=\"#DejaVuSans-66\" transform=\"translate(1552.978516 0.015625)\"/>\n     <use xlink:href=\"#DejaVuSans-6f\" transform=\"translate(1588.183594 0.015625)\"/>\n     <use xlink:href=\"#DejaVuSans-72\" transform=\"translate(1649.365234 0.015625)\"/>\n     <use xlink:href=\"#DejaVuSans-20\" transform=\"translate(1690.478516 0.015625)\"/>\n     <use xlink:href=\"#DejaVuSans-4a\" transform=\"translate(1722.265625 0.015625)\"/>\n     <use xlink:href=\"#DejaVuSans-6f\" transform=\"translate(1751.757812 0.015625)\"/>\n     <use xlink:href=\"#DejaVuSans-75\" transform=\"translate(1812.939453 0.015625)\"/>\n     <use xlink:href=\"#DejaVuSans-7a\" transform=\"translate(1876.318359 0.015625)\"/>\n     <use xlink:href=\"#DejaVuSans-65\" transform=\"translate(1928.808594 0.015625)\"/>\n     <use xlink:href=\"#DejaVuSans-6c\" transform=\"translate(1990.332031 0.015625)\"/>\n     <use xlink:href=\"#DejaVuSans-20\" transform=\"translate(2018.115234 0.015625)\"/>\n     <use xlink:href=\"#DejaVuSans-61\" transform=\"translate(2049.902344 0.015625)\"/>\n     <use xlink:href=\"#DejaVuSans-6e\" transform=\"translate(2111.181641 0.015625)\"/>\n     <use xlink:href=\"#DejaVuSans-64\" transform=\"translate(2174.560547 0.015625)\"/>\n     <use xlink:href=\"#DejaVuSans-20\" transform=\"translate(2238.037109 0.015625)\"/>\n     <use xlink:href=\"#DejaVuSans-4d\" transform=\"translate(2269.824219 0.015625)\"/>\n     <use xlink:href=\"#DejaVuSans-65\" transform=\"translate(2356.103516 0.015625)\"/>\n     <use xlink:href=\"#DejaVuSans-72\" transform=\"translate(2417.626953 0.015625)\"/>\n     <use xlink:href=\"#DejaVuSans-6c\" transform=\"translate(2458.740234 0.015625)\"/>\n     <use xlink:href=\"#DejaVuSans-69\" transform=\"translate(2486.523438 0.015625)\"/>\n     <use xlink:href=\"#DejaVuSans-76\" transform=\"translate(2514.306641 0.015625)\"/>\n     <use xlink:href=\"#DejaVuSans-61\" transform=\"translate(2573.486328 0.015625)\"/>\n     <use xlink:href=\"#DejaVuSans-74\" transform=\"translate(2634.765625 0.015625)\"/>\n     <use xlink:href=\"#DejaVuSans-20\" transform=\"translate(2673.974609 0.015625)\"/>\n     <use xlink:href=\"#DejaVuSans-61\" transform=\"translate(2705.761719 0.015625)\"/>\n     <use xlink:href=\"#DejaVuSans-6e\" transform=\"translate(2767.041016 0.015625)\"/>\n     <use xlink:href=\"#DejaVuSans-64\" transform=\"translate(2830.419922 0.015625)\"/>\n     <use xlink:href=\"#DejaVuSans-20\" transform=\"translate(2893.896484 0.015625)\"/>\n     <use xlink:href=\"#DejaVuSans-42\" transform=\"translate(2925.683594 0.015625)\"/>\n     <use xlink:href=\"#DejaVuSans-6f\" transform=\"translate(2994.287109 0.015625)\"/>\n     <use xlink:href=\"#DejaVuSans-6c\" transform=\"translate(3055.46875 0.015625)\"/>\n     <use xlink:href=\"#DejaVuSans-6f\" transform=\"translate(3083.251953 0.015625)\"/>\n     <use xlink:href=\"#DejaVuSans-74\" transform=\"translate(3144.433594 0.015625)\"/>\n     <use xlink:href=\"#DejaVuSans-73\" transform=\"translate(3183.642578 0.015625)\"/>\n     <use xlink:href=\"#DejaVuSans-20\" transform=\"translate(3235.742188 0.015625)\"/>\n     <use xlink:href=\"#DejaVuSans-66\" transform=\"translate(3267.529297 0.015625)\"/>\n     <use xlink:href=\"#DejaVuSans-6f\" transform=\"translate(3302.734375 0.015625)\"/>\n     <use xlink:href=\"#DejaVuSans-72\" transform=\"translate(3363.916016 0.015625)\"/>\n     <use xlink:href=\"#DejaVuSans-6d\" transform=\"translate(3405.029297 0.015625)\"/>\n     <use xlink:href=\"#DejaVuSans-75\" transform=\"translate(3502.441406 0.015625)\"/>\n     <use xlink:href=\"#DejaVuSans-6c\" transform=\"translate(3565.820312 0.015625)\"/>\n     <use xlink:href=\"#DejaVuSans-61\" transform=\"translate(3593.603516 0.015625)\"/>\n     <use xlink:href=\"#DejaVuSans-65\" transform=\"translate(3654.882812 0.015625)\"/>\n     <use xlink:href=\"#DejaVuSans-20\" transform=\"translate(3716.40625 0.015625)\"/>\n     <use xlink:href=\"#DejaVuSans-6f\" transform=\"translate(3748.193359 0.015625)\"/>\n     <use xlink:href=\"#DejaVuSans-6e\" transform=\"translate(3809.375 0.015625)\"/>\n     <use xlink:href=\"#DejaVuSans-20\" transform=\"translate(3872.753906 0.015625)\"/>\n     <use xlink:href=\"#DejaVuSans-6b\" transform=\"translate(3904.541016 0.015625)\"/>\n     <use xlink:href=\"#DejaVuSans-69\" transform=\"translate(3962.451172 0.015625)\"/>\n     <use xlink:href=\"#DejaVuSans-6e\" transform=\"translate(3990.234375 0.015625)\"/>\n     <use xlink:href=\"#DejaVuSans-65\" transform=\"translate(4053.613281 0.015625)\"/>\n     <use xlink:href=\"#DejaVuSans-74\" transform=\"translate(4115.136719 0.015625)\"/>\n     <use xlink:href=\"#DejaVuSans-69\" transform=\"translate(4154.345703 0.015625)\"/>\n     <use xlink:href=\"#DejaVuSans-63\" transform=\"translate(4182.128906 0.015625)\"/>\n     <use xlink:href=\"#DejaVuSans-20\" transform=\"translate(4237.109375 0.015625)\"/>\n     <use xlink:href=\"#DejaVuSans-Oblique-3b1\" transform=\"translate(4268.896484 0.015625)\"/>\n    </g>\n   </g>\n   <g id=\"legend_1\">\n    <g id=\"patch_7\">\n     <path d=\"M 402.939687 44.998125 \nL 438.86 44.998125 \nQ 440.86 44.998125 440.86 42.998125 \nL 440.86 29.32 \nQ 440.86 27.32 438.86 27.32 \nL 402.939687 27.32 \nQ 400.939687 27.32 400.939687 29.32 \nL 400.939687 42.998125 \nQ 400.939687 44.998125 402.939687 44.998125 \nz\n\" style=\"fill: #ffffff; opacity: 0.8; stroke: #cccccc; stroke-linejoin: miter\"/>\n    </g>\n    <g id=\"line2d_34\">\n     <path d=\"M 404.939687 35.418437 \nL 414.939687 35.418437 \nL 424.939687 35.418437 \n\" style=\"fill: none; stroke-dasharray: 7.4,3.2; stroke-dashoffset: 0; stroke: #1f77b4; stroke-width: 2\"/>\n    </g>\n    <g id=\"text_20\">\n     <!-- t -->\n     <g transform=\"translate(432.939687 38.918437) scale(0.1 -0.1)\">\n      <use xlink:href=\"#DejaVuSans-74\"/>\n     </g>\n    </g>\n   </g>\n  </g>\n </g>\n <defs>\n  <clipPath id=\"p4f07c8fdef\">\n   <rect x=\"88.74\" y=\"22.32\" width=\"357.12\" height=\"266.112\"/>\n  </clipPath>\n </defs>\n</svg>\n"
     },
     "metadata": {},
     "output_type": "display_data"
    },
    {
     "data": {
      "text/plain": [
       "HBox(children=(HTML(value=\"<a href='./deuterium_excess.pdf' target='_blank'>./deuterium_excess.pdf</a><br>\"), …"
      ],
      "application/vnd.jupyter.widget-view+json": {
       "version_major": 2,
       "version_minor": 0,
       "model_id": "7104b0e4b3f54cfa89583b6c3c883492"
      }
     },
     "metadata": {},
     "output_type": "display_data"
    }
   ],
   "execution_count": 13
  },
  {
   "metadata": {
    "ExecuteTime": {
     "end_time": "2025-05-05T17:36:17.628174Z",
     "start_time": "2025-05-05T17:36:17.626769Z"
    }
   },
   "cell_type": "code",
   "source": "",
   "id": "437e2c9e7bcb9b86",
   "outputs": [],
   "execution_count": null
  }
 ],
 "metadata": {
  "kernelspec": {
   "display_name": "Python 3 (ipykernel)",
   "language": "python",
   "name": "python3"
  },
  "language_info": {
   "codemirror_mode": {
    "name": "ipython",
    "version": 3
   },
   "file_extension": ".py",
   "mimetype": "text/x-python",
   "name": "python",
   "nbconvert_exporter": "python",
   "pygments_lexer": "ipython3",
   "version": "3.10.12"
  }
 },
 "nbformat": 4,
 "nbformat_minor": 5
}
