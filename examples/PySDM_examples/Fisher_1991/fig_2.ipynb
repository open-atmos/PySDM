{
 "cells": [
  {
   "metadata": {},
   "cell_type": "markdown",
   "source": [
    "[![preview notebook](https://img.shields.io/static/v1?label=render%20on&logo=github&color=87ce3e&message=GitHub)](https://github.com/open-atmos/PySDM/blob/main/examples/PySDM_examples/Fisher_1991/fig_2.ipynb)\n",
    "[![launch on mybinder.org](https://mybinder.org/badge_logo.svg)](https://mybinder.org/v2/gh/open-atmos/PySDM.git/main?urlpath=lab/tree/examples/PySDM_examples/Fisher_1991/fig_2.ipynb)\n",
    "[![launch on Colab](https://colab.research.google.com/assets/colab-badge.svg)](https://colab.research.google.com/github/open-atmos/PySDM/blob/main/examples/PySDM_examples/Fisher_1991/fig_2.ipynb)"
   ],
   "id": "4fecbc8260ee990d"
  },
  {
   "metadata": {},
   "cell_type": "markdown",
   "source": [
    "# based on Fig 2. in [Fisher 1991](https://doi.org/10.1034/j.1600-0889.1991.t01-4-00006.x)\n",
    "Deuterium excess $d=\\delta(D) - 8\\delta( ^{18}O)$"
   ],
   "id": "a290c85256f4f983"
  },
  {
   "metadata": {
    "ExecuteTime": {
     "end_time": "2025-05-07T20:14:32.091779Z",
     "start_time": "2025-05-07T20:14:32.087894Z"
    }
   },
   "cell_type": "code",
   "source": [
    "import sys\n",
    "if \"google.colab\" in sys.modules:\n",
    "    !pip --quiet install open-atmos-jupyter-utils\n",
    "    from open_atmos_jupyter_utils import pip_install_on_colab\n",
    "    pip_install_on_colab(\"PySDM-examples\")"
   ],
   "id": "31481014375c7d36",
   "outputs": [],
   "execution_count": 1
  },
  {
   "cell_type": "code",
   "id": "c36c2f5c-17c1-422e-9ab9-f7d612064199",
   "metadata": {
    "ExecuteTime": {
     "end_time": "2025-05-07T20:14:33.935876Z",
     "start_time": "2025-05-07T20:14:32.095382Z"
    }
   },
   "source": [
    "import matplotlib.pyplot as plt\n",
    "import numpy as np\n",
    "from open_atmos_jupyter_utils import show_plot\n",
    "from scipy.integrate import solve_ivp\n",
    "\n",
    "from PySDM import Formulae\n",
    "from PySDM.physics import si\n",
    "from PySDM.physics.constants import PER_MILLE, in_unit\n",
    "from PySDM_examples.Jouzel_and_Merlivat_1984.thermodynamic_profiles import (\n",
    "    vapour_mixing_ratio,\n",
    ")"
   ],
   "outputs": [],
   "execution_count": 2
  },
  {
   "metadata": {
    "ExecuteTime": {
     "end_time": "2025-05-07T20:14:34.038821Z",
     "start_time": "2025-05-07T20:14:34.018590Z"
    }
   },
   "cell_type": "code",
   "source": [
    "formulae = Formulae(\n",
    "    drop_growth=\"Mason1971\",\n",
    "    diffusion_thermics=\"Neglect\",\n",
    "    latent_heat_vapourisation=\"Constant\",\n",
    "    saturation_vapour_pressure=\"Lowe1977\",\n",
    "    isotope_meteoric_water_line=\"Dansgaard1964\",\n",
    "    isotope_diffusivity_ratios=\"Stewart1975\",\n",
    "    isotope_equilibrium_fractionation_factors=\"VanHook1968\",\n",
    "    isotope_kinetic_fractionation_factors=\"BolotEtAl2013\",\n",
    ")\n",
    "const = formulae.constants"
   ],
   "id": "91bb290498429f53",
   "outputs": [],
   "execution_count": 3
  },
  {
   "metadata": {
    "ExecuteTime": {
     "end_time": "2025-05-07T20:14:35.818374Z",
     "start_time": "2025-05-07T20:14:34.042941Z"
    }
   },
   "cell_type": "code",
   "source": [
    "temperature = np.linspace(223.15, 263.15, 10) * si.K\n",
    "saturation = 0.9\n",
    "D = formulae.diffusion_thermics.D(1, 1)\n",
    "K = formulae.diffusion_thermics.K(1, 1)\n",
    "pvs = formulae.saturation_vapour_pressure.pvs_ice(temperature)\n",
    "r_dr_dt = formulae.drop_growth.r_dr_dt(\n",
    "    RH_eq=0,\n",
    "    T=temperature,\n",
    "    RH=saturation,\n",
    "    lv=formulae.latent_heat_vapourisation.lv(temperature),\n",
    "    pvs=pvs,\n",
    "    D=D,\n",
    "    K=K,\n",
    ")\n",
    "\n",
    "molar_mass_isotopes = {\n",
    "    \"2H\": const.M_1H + const.M_2H + const.M_16O,\n",
    "    \"18O\": 2 * const.M_1H + const.M_18O,\n",
    "}\n",
    "svp = formulae.saturation_vapour_pressure\n",
    "Si = svp.pvs_water(temperature) / svp.pvs_ice(temperature)"
   ],
   "id": "410921cbf215494d",
   "outputs": [],
   "execution_count": 4
  },
  {
   "metadata": {
    "ExecuteTime": {
     "end_time": "2025-05-07T20:14:54.353566Z",
     "start_time": "2025-05-07T20:14:54.148499Z"
    }
   },
   "cell_type": "code",
   "source": [
    "alpha_l = alpha_kinetic = alpha_kinetic_eff = {}\n",
    "for isotope, molar_mass in molar_mass_isotopes.items():\n",
    "    alpha_l[isotope] = getattr(\n",
    "        formulae.isotope_equilibrium_fractionation_factors, f\"alpha_l_{isotope}\"\n",
    "    )(temperature)\n",
    "    diffusivity_ratio = getattr(\n",
    "        formulae.isotope_diffusivity_ratios, f\"ratio_{isotope}\"\n",
    "    )(temperature)\n",
    "    A_liquid_to_ice = (\n",
    "        formulae.isotope_kinetic_fractionation_factors.transfer_coefficient_liq_to_ice(\n",
    "            diffusion_ventilation_coefficient=D,\n",
    "            condensed_water_density=1,\n",
    "            pvs=pvs,\n",
    "            molar_mass=molar_mass,\n",
    "            temperature=temperature,\n",
    "            relative_humidity=saturation,\n",
    "            r_dr_dt_assuming_RHeq0=r_dr_dt,\n",
    "        )\n",
    "    )\n",
    "    effective_saturation = (\n",
    "        formulae.isotope_kinetic_fractionation_factors.effective_supersaturation(\n",
    "            transfer_coefficient_liq_to_ice=A_liquid_to_ice,\n",
    "            relative_humidity=saturation,\n",
    "        )\n",
    "    )\n",
    "    print(effective_saturation)\n",
    "    alpha_kinetic_eff[isotope] = (\n",
    "        formulae.isotope_kinetic_fractionation_factors.alpha_kinetic(\n",
    "            alpha_equilibrium=alpha_l[isotope],\n",
    "            relative_humidity=effective_saturation,\n",
    "            heavy_to_light_diffusivity_ratio=diffusivity_ratio,\n",
    "        )\n",
    "    )\n",
    "    alpha_kinetic[isotope] = (\n",
    "        formulae.isotope_kinetic_fractionation_factors.alpha_kinetic(\n",
    "            alpha_equilibrium=alpha_l[isotope],\n",
    "            relative_humidity=Si,\n",
    "            heavy_to_light_diffusivity_ratio=diffusivity_ratio,\n",
    "        )\n",
    "    )"
   ],
   "id": "f8e437c7cc7df1a7",
   "outputs": [
    {
     "name": "stdout",
     "output_type": "stream",
     "text": [
      "[0.0083754  0.00832899 0.0082578  0.00815325 0.00800334 0.00779458\n",
      " 0.00751373 0.0071501  0.00669866 0.00616344]\n",
      "[0.00796112 0.00791698 0.00784929 0.00774987 0.00760732 0.00740881\n",
      " 0.00714176 0.00679601 0.00636679 0.00585793]\n"
     ]
    }
   ],
   "execution_count": 9
  },
  {
   "metadata": {
    "ExecuteTime": {
     "end_time": "2025-05-07T20:14:37.503706Z",
     "start_time": "2025-05-07T20:14:37.501487Z"
    }
   },
   "cell_type": "code",
   "source": [
    "def d_delta_dT(delta, T, alpha_s=alpha_kinetic[\"2H\"], y_e=0):\n",
    "    dy_dT = 1\n",
    "    d_alpha_s_dT = 1\n",
    "    y = vapour_mixing_ratio(formulae, T)\n",
    "    return (\n",
    "        (1 + delta)\n",
    "        * (alpha_s * (alpha_s - 1) * dy_dT + y * d_alpha_s_dT)\n",
    "        / alpha_s(T)\n",
    "        * (y + alpha_s * y_e)\n",
    "    )"
   ],
   "id": "9ca4e3256065274b",
   "outputs": [],
   "execution_count": 6
  },
  {
   "metadata": {
    "ExecuteTime": {
     "end_time": "2025-05-07T20:14:37.514870Z",
     "start_time": "2025-05-07T20:14:37.513022Z"
    }
   },
   "cell_type": "code",
   "source": "#solve_ivp(fun=d_delta_dT, t_span=(temperature[0], temperature[-1]), y0=(-15, 263.15))",
   "id": "21149c0db09ce402",
   "outputs": [],
   "execution_count": 7
  },
  {
   "metadata": {
    "ExecuteTime": {
     "end_time": "2025-05-07T20:14:37.751816Z",
     "start_time": "2025-05-07T20:14:37.527713Z"
    }
   },
   "cell_type": "code",
   "source": [
    "delta_18O_0 = 15 * PER_MILLE\n",
    "delta_2H_0 = 8 * delta_18O_0\n",
    "T_0 = (-15 + 273.15) * si.K\n",
    "delta_18O = delta(\n",
    "    delta_0=delta_18O_0,\n",
    "    alpha=alpha_l[\"18O\"] * alpha_kinetic[\"18O\"],\n",
    "    alpha_0=1,\n",
    "    m=1,\n",
    "    m_0=1,\n",
    ")\n",
    "delta_2H = delta(\n",
    "    delta_0=delta_2H_0, alpha=alpha_l[\"2H\"] * alpha_kinetic[\"2H\"], alpha_0=1, m=1, m_0=1\n",
    ")\n",
    "d_excess_eff = formulae.isotope_meteoric_water_line.excess_d(\n",
    "    delta_2H=delta_2H,\n",
    "    delta_18O=delta_18O,\n",
    ")\n",
    "d_excess = formulae.isotope_meteoric_water_line.excess_d(\n",
    "    delta_2H=delta_2H,\n",
    "    delta_18O=delta_18O,\n",
    ")"
   ],
   "id": "7a8db1123a36cbca",
   "outputs": [
    {
     "ename": "NameError",
     "evalue": "name 'delta' is not defined",
     "output_type": "error",
     "traceback": [
      "\u001B[0;31m---------------------------------------------------------------------------\u001B[0m",
      "\u001B[0;31mNameError\u001B[0m                                 Traceback (most recent call last)",
      "Cell \u001B[0;32mIn[8], line 4\u001B[0m\n\u001B[1;32m      2\u001B[0m delta_2H_0 \u001B[38;5;241m=\u001B[39m \u001B[38;5;241m8\u001B[39m \u001B[38;5;241m*\u001B[39m delta_18O_0\n\u001B[1;32m      3\u001B[0m T_0 \u001B[38;5;241m=\u001B[39m (\u001B[38;5;241m-\u001B[39m\u001B[38;5;241m15\u001B[39m \u001B[38;5;241m+\u001B[39m \u001B[38;5;241m273.15\u001B[39m) \u001B[38;5;241m*\u001B[39m si\u001B[38;5;241m.\u001B[39mK\n\u001B[0;32m----> 4\u001B[0m delta_18O \u001B[38;5;241m=\u001B[39m \u001B[43mdelta\u001B[49m(\n\u001B[1;32m      5\u001B[0m     delta_0\u001B[38;5;241m=\u001B[39mdelta_18O_0,\n\u001B[1;32m      6\u001B[0m     alpha\u001B[38;5;241m=\u001B[39malpha_l[\u001B[38;5;124m\"\u001B[39m\u001B[38;5;124m18O\u001B[39m\u001B[38;5;124m\"\u001B[39m] \u001B[38;5;241m*\u001B[39m alpha_kinetic[\u001B[38;5;124m\"\u001B[39m\u001B[38;5;124m18O\u001B[39m\u001B[38;5;124m\"\u001B[39m],\n\u001B[1;32m      7\u001B[0m     alpha_0\u001B[38;5;241m=\u001B[39m\u001B[38;5;241m1\u001B[39m,\n\u001B[1;32m      8\u001B[0m     m\u001B[38;5;241m=\u001B[39m\u001B[38;5;241m1\u001B[39m,\n\u001B[1;32m      9\u001B[0m     m_0\u001B[38;5;241m=\u001B[39m\u001B[38;5;241m1\u001B[39m,\n\u001B[1;32m     10\u001B[0m )\n\u001B[1;32m     11\u001B[0m delta_2H \u001B[38;5;241m=\u001B[39m delta(\n\u001B[1;32m     12\u001B[0m     delta_0\u001B[38;5;241m=\u001B[39mdelta_2H_0, alpha\u001B[38;5;241m=\u001B[39malpha_l[\u001B[38;5;124m\"\u001B[39m\u001B[38;5;124m2H\u001B[39m\u001B[38;5;124m\"\u001B[39m] \u001B[38;5;241m*\u001B[39m alpha_kinetic[\u001B[38;5;124m\"\u001B[39m\u001B[38;5;124m2H\u001B[39m\u001B[38;5;124m\"\u001B[39m], alpha_0\u001B[38;5;241m=\u001B[39m\u001B[38;5;241m1\u001B[39m, m\u001B[38;5;241m=\u001B[39m\u001B[38;5;241m1\u001B[39m, m_0\u001B[38;5;241m=\u001B[39m\u001B[38;5;241m1\u001B[39m\n\u001B[1;32m     13\u001B[0m )\n\u001B[1;32m     14\u001B[0m d_excess_eff \u001B[38;5;241m=\u001B[39m formulae\u001B[38;5;241m.\u001B[39misotope_meteoric_water_line\u001B[38;5;241m.\u001B[39mexcess_d(\n\u001B[1;32m     15\u001B[0m     delta_2H\u001B[38;5;241m=\u001B[39mdelta_2H,\n\u001B[1;32m     16\u001B[0m     delta_18O\u001B[38;5;241m=\u001B[39mdelta_18O,\n\u001B[1;32m     17\u001B[0m )\n",
      "\u001B[0;31mNameError\u001B[0m: name 'delta' is not defined"
     ]
    }
   ],
   "execution_count": 8
  },
  {
   "metadata": {},
   "cell_type": "code",
   "source": [
    "fig, ax = plt.subplots()\n",
    "# ax.plot(temperature, in_unit(d_excess_eff, PER_MILLE), label=\"effective\")\n",
    "ax.plot(temperature, in_unit(d_excess, PER_MILLE), \"--\", linewidth=2, label=\"t\")\n",
    "ax.set_xlabel(\"Temperature (K)\")\n",
    "ax.set_ylabel(r\"$d$-excess [per mille]\")\n",
    "ax.set_title(\n",
    "    \"Deuterium excess comparison for Jouzel and Merlivat and Bolots formulae on kinetic $\\\\alpha$\"\n",
    ")\n",
    "ax.legend()\n",
    "ax.grid()\n",
    "show_plot(\"deuterium_excess\")"
   ],
   "id": "e4bbddfe86d024a7",
   "outputs": [],
   "execution_count": null
  },
  {
   "metadata": {},
   "cell_type": "code",
   "source": "",
   "id": "437e2c9e7bcb9b86",
   "outputs": [],
   "execution_count": null
  }
 ],
 "metadata": {
  "kernelspec": {
   "display_name": "Python 3 (ipykernel)",
   "language": "python",
   "name": "python3"
  },
  "language_info": {
   "codemirror_mode": {
    "name": "ipython",
    "version": 3
   },
   "file_extension": ".py",
   "mimetype": "text/x-python",
   "name": "python",
   "nbconvert_exporter": "python",
   "pygments_lexer": "ipython3",
   "version": "3.10.12"
  }
 },
 "nbformat": 4,
 "nbformat_minor": 5
}
