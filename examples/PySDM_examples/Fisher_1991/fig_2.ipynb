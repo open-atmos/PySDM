{
 "cells": [
  {
   "metadata": {},
   "cell_type": "markdown",
   "source": [
    "[![preview notebook](https://img.shields.io/static/v1?label=render%20on&logo=github&color=87ce3e&message=GitHub)](https://github.com/open-atmos/PySDM/blob/main/examples/PySDM_examples/Fisher_1991/fig_2.ipynb)\n",
    "[![launch on mybinder.org](https://mybinder.org/badge_logo.svg)](https://mybinder.org/v2/gh/open-atmos/PySDM.git/main?urlpath=lab/tree/examples/PySDM_examples/Fisher_1991/fig_2.ipynb)\n",
    "[![launch on Colab](https://colab.research.google.com/assets/colab-badge.svg)](https://colab.research.google.com/github/open-atmos/PySDM/blob/main/examples/PySDM_examples/Fisher_1991/fig_2.ipynb)"
   ],
   "id": "4fecbc8260ee990d"
  },
  {
   "metadata": {},
   "cell_type": "markdown",
   "source": [
    "# based on Fig 2. in [Fisher 1991](https://doi.org/10.1034/j.1600-0889.1991.t01-4-00006.x)\n",
    "Deuterium excess $d=\\delta(D) - 8\\delta( ^{18}O)$"
   ],
   "id": "a290c85256f4f983"
  },
  {
   "metadata": {
    "ExecuteTime": {
     "end_time": "2025-05-08T14:11:22.067746Z",
     "start_time": "2025-05-08T14:11:22.065360Z"
    }
   },
   "cell_type": "code",
   "source": [
    "import sys\n",
    "if \"google.colab\" in sys.modules:\n",
    "    !pip --quiet install open-atmos-jupyter-utils\n",
    "    from open_atmos_jupyter_utils import pip_install_on_colab\n",
    "    pip_install_on_colab(\"PySDM-examples\")"
   ],
   "id": "31481014375c7d36",
   "outputs": [],
   "execution_count": 1
  },
  {
   "cell_type": "code",
   "id": "c36c2f5c-17c1-422e-9ab9-f7d612064199",
   "metadata": {
    "ExecuteTime": {
     "end_time": "2025-05-08T14:11:23.483263Z",
     "start_time": "2025-05-08T14:11:22.069683Z"
    }
   },
   "source": [
    "from matplotlib import pyplot\n",
    "import numpy as np\n",
    "from open_atmos_jupyter_utils import show_plot\n",
    "from scipy.integrate import solve_ivp\n",
    "\n",
    "from PySDM import Formulae\n",
    "from PySDM.physics import si\n",
    "from PySDM.physics.constants import PER_MILLE, in_unit\n",
    "from PySDM_examples.Jouzel_and_Merlivat_1984.thermodynamic_profiles import (\n",
    "    vapour_mixing_ratio,\n",
    ")"
   ],
   "outputs": [],
   "execution_count": 2
  },
  {
   "metadata": {
    "ExecuteTime": {
     "end_time": "2025-05-08T14:11:23.593365Z",
     "start_time": "2025-05-08T14:11:23.572232Z"
    }
   },
   "cell_type": "code",
   "source": [
    "formulae = Formulae(\n",
    "    drop_growth=\"Mason1971\",\n",
    "    diffusion_thermics=\"Neglect\",\n",
    "    latent_heat_vapourisation=\"Constant\",\n",
    "    isotope_meteoric_water_line=\"Dansgaard1964\",\n",
    "    isotope_diffusivity_ratios=\"Stewart1975\",\n",
    "    isotope_equilibrium_fractionation_factors=\"VanHook1968\",\n",
    "    isotope_kinetic_fractionation_factors=\"BolotEtAl2013\",\n",
    ")\n",
    "const = formulae.constants"
   ],
   "id": "91bb290498429f53",
   "outputs": [],
   "execution_count": 3
  },
  {
   "metadata": {
    "ExecuteTime": {
     "end_time": "2025-05-08T14:11:25.703938Z",
     "start_time": "2025-05-08T14:11:23.597833Z"
    }
   },
   "cell_type": "code",
   "source": [
    "temperature = np.linspace(223.15, 263.15, 10) * si.K\n",
    "saturation = 0.9\n",
    "D = formulae.diffusion_thermics.D(1, 1)\n",
    "K = formulae.diffusion_thermics.K(1, 1)\n",
    "\n",
    "molar_mass_isotopes = {\n",
    "    \"2H\": const.M_1H + const.M_2H + const.M_16O,\n",
    "    \"18O\": 2 * const.M_1H + const.M_18O,\n",
    "}\n",
    "svp = formulae.saturation_vapour_pressure\n",
    "Si = svp.pvs_water(temperature) / svp.pvs_ice(temperature)\n",
    "r_dr_dt = formulae.drop_growth.r_dr_dt(\n",
    "    RH_eq=0,\n",
    "    T=temperature,\n",
    "    RH=Si,\n",
    "    lv=formulae.latent_heat_vapourisation.lv(temperature),\n",
    "    pvs=svp.pvs_water(temperature),\n",
    "    D=D,\n",
    "    K=K,\n",
    ")"
   ],
   "id": "410921cbf215494d",
   "outputs": [],
   "execution_count": 4
  },
  {
   "metadata": {
    "ExecuteTime": {
     "end_time": "2025-05-08T14:11:27.381715Z",
     "start_time": "2025-05-08T14:11:25.711945Z"
    }
   },
   "cell_type": "code",
   "source": [
    "alpha_l = alpha_kinetic = alpha_kinetic_eff = {}\n",
    "for isotope, molar_mass in molar_mass_isotopes.items():\n",
    "    alpha_l[isotope] = getattr(\n",
    "        formulae.isotope_equilibrium_fractionation_factors, f\"alpha_l_{isotope}\"\n",
    "    )(temperature)\n",
    "    diffusivity_ratio = getattr(\n",
    "        formulae.isotope_diffusivity_ratios, f\"ratio_{isotope}\"\n",
    "    )(temperature)\n",
    "    A_liquid_to_ice = (\n",
    "        formulae.isotope_kinetic_fractionation_factors.transfer_coefficient_liq_to_ice(\n",
    "            diffusion_ventilation_coefficient=D,\n",
    "            condensed_water_density=1,\n",
    "            pvs=svp.pvs_water(temperature),\n",
    "            molar_mass=molar_mass,\n",
    "            temperature=temperature,\n",
    "            relative_humidity=Si,\n",
    "            r_dr_dt_assuming_RHeq0=r_dr_dt,\n",
    "        )\n",
    "    )\n",
    "    effective_saturation = (\n",
    "        formulae.isotope_kinetic_fractionation_factors.effective_supersaturation(\n",
    "            transfer_coefficient_liq_to_ice=A_liquid_to_ice,\n",
    "            relative_humidity=Si,\n",
    "        )\n",
    "    )\n",
    "    alpha_kinetic_eff[isotope] = (\n",
    "        formulae.isotope_kinetic_fractionation_factors.alpha_kinetic(\n",
    "            alpha_equilibrium=alpha_l[isotope],\n",
    "            relative_humidity=effective_saturation,\n",
    "            heavy_to_light_diffusivity_ratio=diffusivity_ratio,\n",
    "        )\n",
    "    )"
   ],
   "id": "f8e437c7cc7df1a7",
   "outputs": [],
   "execution_count": 5
  },
  {
   "metadata": {
    "ExecuteTime": {
     "end_time": "2025-05-08T14:11:27.389013Z",
     "start_time": "2025-05-08T14:11:27.387217Z"
    }
   },
   "cell_type": "code",
   "source": [
    "from functools import partial\n",
    "yf = partial(vapour_mixing_ratio, formulae=formulae)\n",
    "alpha_s=alpha_kinetic={}\n",
    "for iso in molar_mass_isotopes.keys():\n",
    "    alpha_s[iso] = getattr(formulae.isotope_equilibrium_fractionation_factors, f'alpha_i_{iso}')\n",
    "alpha_kinetic = formulae.isotope_kinetic_fractionation_factors.alpha_kinetic"
   ],
   "id": "71979cfe7348344d",
   "outputs": [],
   "execution_count": 6
  },
  {
   "metadata": {
    "ExecuteTime": {
     "end_time": "2025-05-08T14:11:27.395698Z",
     "start_time": "2025-05-08T14:11:27.393555Z"
    }
   },
   "cell_type": "code",
   "source": [
    "def d_delta_dT(T, delta, isotope):\n",
    "    y = yf(T=T)\n",
    "    dT = 1 * si.K\n",
    "    dy_dT = (yf(T=T+dT/2) - yf(T=T-dT/2)) / dT\n",
    "    \n",
    "    alpha_eq = alpha_s[isotope](T=T)\n",
    "    alpha_kin = alpha_kinetic(\n",
    "        alpha_equilibrium=alpha_eq,\n",
    "        relative_humidity=svp.pvs_water(T) / svp.pvs_ice(T),\n",
    "        heavy_to_light_diffusivity_ratio=getattr(formulae.isotope_diffusivity_ratios, f'ratio_{isotope}')\n",
    "    )\n",
    "    alpha = alpha_eq  * alpha_kin\n",
    "    d_alpha_s_dT = (alpha(T+dt/2) - alpha(T-dT/2)) / dT\n",
    "\n",
    "    return (\n",
    "        (1 + delta)\n",
    "        * (alpha * (alpha - 1) * dy_dT + y * d_alpha_s_dT)\n",
    "        / alpha\n",
    "        * (y + alpha * y_e)\n",
    "    )"
   ],
   "id": "9ca4e3256065274b",
   "outputs": [],
   "execution_count": 7
  },
  {
   "metadata": {
    "ExecuteTime": {
     "end_time": "2025-05-08T14:11:29.283874Z",
     "start_time": "2025-05-08T14:11:27.400321Z"
    }
   },
   "cell_type": "code",
   "source": [
    "iso='2H'\n",
    "solve_ivp(fun=partial(d_delta_dT, isotope=iso), t_span=(temperature[0], temperature[-1]), y0=[-15 * PER_MILLE])"
   ],
   "id": "21149c0db09ce402",
   "outputs": [
    {
     "ename": "TypingError",
     "evalue": "Failed in nopython mode pipeline (step: nopython frontend)\nNo implementation of function Function(<built-in function truediv>) found for signature:\n \n >>> truediv(float64, type(CPUDispatcher(<function _.ratio_2H at 0x10ca36f20>)))\n \nThere are 8 candidate implementations:\n  - Of which 6 did not match due to:\n  Overload of function 'truediv': File: <numerous>: Line N/A.\n    With argument(s): '(float64, type(CPUDispatcher(<function _.ratio_2H at 0x10ca36f20>)))':\n   No match.\n  - Of which 2 did not match due to:\n  Operator Overload in function 'truediv': File: unknown: Line unknown.\n    With argument(s): '(float64, type(CPUDispatcher(<function _.ratio_2H at 0x10ca36f20>)))':\n   No match for registered cases:\n    * (int64, int64) -> float64\n    * (int64, uint64) -> float64\n    * (uint64, int64) -> float64\n    * (uint64, uint64) -> float64\n    * (float32, float32) -> float32\n    * (float64, float64) -> float64\n    * (complex64, complex64) -> complex64\n    * (complex128, complex128) -> complex128\n\nDuring: typing of intrinsic-call at <string> (5)\n\nFile \"<string>\", line 5:\n<source missing, REPL/exec in use?>\n",
     "output_type": "error",
     "traceback": [
      "\u001B[0;31m---------------------------------------------------------------------------\u001B[0m",
      "\u001B[0;31mTypingError\u001B[0m                               Traceback (most recent call last)",
      "Cell \u001B[0;32mIn[8], line 2\u001B[0m\n\u001B[1;32m      1\u001B[0m iso\u001B[38;5;241m=\u001B[39m\u001B[38;5;124m'\u001B[39m\u001B[38;5;124m2H\u001B[39m\u001B[38;5;124m'\u001B[39m\n\u001B[0;32m----> 2\u001B[0m \u001B[43msolve_ivp\u001B[49m\u001B[43m(\u001B[49m\u001B[43mfun\u001B[49m\u001B[38;5;241;43m=\u001B[39;49m\u001B[43mpartial\u001B[49m\u001B[43m(\u001B[49m\u001B[43md_delta_dT\u001B[49m\u001B[43m,\u001B[49m\u001B[43m \u001B[49m\u001B[43misotope\u001B[49m\u001B[38;5;241;43m=\u001B[39;49m\u001B[43miso\u001B[49m\u001B[43m)\u001B[49m\u001B[43m,\u001B[49m\u001B[43m \u001B[49m\u001B[43mt_span\u001B[49m\u001B[38;5;241;43m=\u001B[39;49m\u001B[43m(\u001B[49m\u001B[43mtemperature\u001B[49m\u001B[43m[\u001B[49m\u001B[38;5;241;43m0\u001B[39;49m\u001B[43m]\u001B[49m\u001B[43m,\u001B[49m\u001B[43m \u001B[49m\u001B[43mtemperature\u001B[49m\u001B[43m[\u001B[49m\u001B[38;5;241;43m-\u001B[39;49m\u001B[38;5;241;43m1\u001B[39;49m\u001B[43m]\u001B[49m\u001B[43m)\u001B[49m\u001B[43m,\u001B[49m\u001B[43m \u001B[49m\u001B[43my0\u001B[49m\u001B[38;5;241;43m=\u001B[39;49m\u001B[43m[\u001B[49m\u001B[38;5;241;43m-\u001B[39;49m\u001B[38;5;241;43m15\u001B[39;49m\u001B[43m \u001B[49m\u001B[38;5;241;43m*\u001B[39;49m\u001B[43m \u001B[49m\u001B[43mPER_MILLE\u001B[49m\u001B[43m]\u001B[49m\u001B[43m)\u001B[49m\n",
      "File \u001B[0;32m~/PycharmProjects/venv3.12/lib/python3.12/site-packages/scipy/integrate/_ivp/ivp.py:621\u001B[0m, in \u001B[0;36msolve_ivp\u001B[0;34m(fun, t_span, y0, method, t_eval, dense_output, events, vectorized, args, **options)\u001B[0m\n\u001B[1;32m    618\u001B[0m \u001B[38;5;28;01mif\u001B[39;00m method \u001B[38;5;129;01min\u001B[39;00m METHODS:\n\u001B[1;32m    619\u001B[0m     method \u001B[38;5;241m=\u001B[39m METHODS[method]\n\u001B[0;32m--> 621\u001B[0m solver \u001B[38;5;241m=\u001B[39m \u001B[43mmethod\u001B[49m\u001B[43m(\u001B[49m\u001B[43mfun\u001B[49m\u001B[43m,\u001B[49m\u001B[43m \u001B[49m\u001B[43mt0\u001B[49m\u001B[43m,\u001B[49m\u001B[43m \u001B[49m\u001B[43my0\u001B[49m\u001B[43m,\u001B[49m\u001B[43m \u001B[49m\u001B[43mtf\u001B[49m\u001B[43m,\u001B[49m\u001B[43m \u001B[49m\u001B[43mvectorized\u001B[49m\u001B[38;5;241;43m=\u001B[39;49m\u001B[43mvectorized\u001B[49m\u001B[43m,\u001B[49m\u001B[43m \u001B[49m\u001B[38;5;241;43m*\u001B[39;49m\u001B[38;5;241;43m*\u001B[39;49m\u001B[43moptions\u001B[49m\u001B[43m)\u001B[49m\n\u001B[1;32m    623\u001B[0m \u001B[38;5;28;01mif\u001B[39;00m t_eval \u001B[38;5;129;01mis\u001B[39;00m \u001B[38;5;28;01mNone\u001B[39;00m:\n\u001B[1;32m    624\u001B[0m     ts \u001B[38;5;241m=\u001B[39m [t0]\n",
      "File \u001B[0;32m~/PycharmProjects/venv3.12/lib/python3.12/site-packages/scipy/integrate/_ivp/rk.py:94\u001B[0m, in \u001B[0;36mRungeKutta.__init__\u001B[0;34m(self, fun, t0, y0, t_bound, max_step, rtol, atol, vectorized, first_step, **extraneous)\u001B[0m\n\u001B[1;32m     92\u001B[0m \u001B[38;5;28mself\u001B[39m\u001B[38;5;241m.\u001B[39mmax_step \u001B[38;5;241m=\u001B[39m validate_max_step(max_step)\n\u001B[1;32m     93\u001B[0m \u001B[38;5;28mself\u001B[39m\u001B[38;5;241m.\u001B[39mrtol, \u001B[38;5;28mself\u001B[39m\u001B[38;5;241m.\u001B[39matol \u001B[38;5;241m=\u001B[39m validate_tol(rtol, atol, \u001B[38;5;28mself\u001B[39m\u001B[38;5;241m.\u001B[39mn)\n\u001B[0;32m---> 94\u001B[0m \u001B[38;5;28mself\u001B[39m\u001B[38;5;241m.\u001B[39mf \u001B[38;5;241m=\u001B[39m \u001B[38;5;28;43mself\u001B[39;49m\u001B[38;5;241;43m.\u001B[39;49m\u001B[43mfun\u001B[49m\u001B[43m(\u001B[49m\u001B[38;5;28;43mself\u001B[39;49m\u001B[38;5;241;43m.\u001B[39;49m\u001B[43mt\u001B[49m\u001B[43m,\u001B[49m\u001B[43m \u001B[49m\u001B[38;5;28;43mself\u001B[39;49m\u001B[38;5;241;43m.\u001B[39;49m\u001B[43my\u001B[49m\u001B[43m)\u001B[49m\n\u001B[1;32m     95\u001B[0m \u001B[38;5;28;01mif\u001B[39;00m first_step \u001B[38;5;129;01mis\u001B[39;00m \u001B[38;5;28;01mNone\u001B[39;00m:\n\u001B[1;32m     96\u001B[0m     \u001B[38;5;28mself\u001B[39m\u001B[38;5;241m.\u001B[39mh_abs \u001B[38;5;241m=\u001B[39m select_initial_step(\n\u001B[1;32m     97\u001B[0m         \u001B[38;5;28mself\u001B[39m\u001B[38;5;241m.\u001B[39mfun, \u001B[38;5;28mself\u001B[39m\u001B[38;5;241m.\u001B[39mt, \u001B[38;5;28mself\u001B[39m\u001B[38;5;241m.\u001B[39my, t_bound, max_step, \u001B[38;5;28mself\u001B[39m\u001B[38;5;241m.\u001B[39mf, \u001B[38;5;28mself\u001B[39m\u001B[38;5;241m.\u001B[39mdirection,\n\u001B[1;32m     98\u001B[0m         \u001B[38;5;28mself\u001B[39m\u001B[38;5;241m.\u001B[39merror_estimator_order, \u001B[38;5;28mself\u001B[39m\u001B[38;5;241m.\u001B[39mrtol, \u001B[38;5;28mself\u001B[39m\u001B[38;5;241m.\u001B[39matol)\n",
      "File \u001B[0;32m~/PycharmProjects/venv3.12/lib/python3.12/site-packages/scipy/integrate/_ivp/base.py:154\u001B[0m, in \u001B[0;36mOdeSolver.__init__.<locals>.fun\u001B[0;34m(t, y)\u001B[0m\n\u001B[1;32m    152\u001B[0m \u001B[38;5;28;01mdef\u001B[39;00m \u001B[38;5;21mfun\u001B[39m(t, y):\n\u001B[1;32m    153\u001B[0m     \u001B[38;5;28mself\u001B[39m\u001B[38;5;241m.\u001B[39mnfev \u001B[38;5;241m+\u001B[39m\u001B[38;5;241m=\u001B[39m \u001B[38;5;241m1\u001B[39m\n\u001B[0;32m--> 154\u001B[0m     \u001B[38;5;28;01mreturn\u001B[39;00m \u001B[38;5;28;43mself\u001B[39;49m\u001B[38;5;241;43m.\u001B[39;49m\u001B[43mfun_single\u001B[49m\u001B[43m(\u001B[49m\u001B[43mt\u001B[49m\u001B[43m,\u001B[49m\u001B[43m \u001B[49m\u001B[43my\u001B[49m\u001B[43m)\u001B[49m\n",
      "File \u001B[0;32m~/PycharmProjects/venv3.12/lib/python3.12/site-packages/scipy/integrate/_ivp/base.py:23\u001B[0m, in \u001B[0;36mcheck_arguments.<locals>.fun_wrapped\u001B[0;34m(t, y)\u001B[0m\n\u001B[1;32m     22\u001B[0m \u001B[38;5;28;01mdef\u001B[39;00m \u001B[38;5;21mfun_wrapped\u001B[39m(t, y):\n\u001B[0;32m---> 23\u001B[0m     \u001B[38;5;28;01mreturn\u001B[39;00m np\u001B[38;5;241m.\u001B[39masarray(\u001B[43mfun\u001B[49m\u001B[43m(\u001B[49m\u001B[43mt\u001B[49m\u001B[43m,\u001B[49m\u001B[43m \u001B[49m\u001B[43my\u001B[49m\u001B[43m)\u001B[49m, dtype\u001B[38;5;241m=\u001B[39mdtype)\n",
      "Cell \u001B[0;32mIn[7], line 7\u001B[0m, in \u001B[0;36md_delta_dT\u001B[0;34m(T, delta, isotope)\u001B[0m\n\u001B[1;32m      4\u001B[0m dy_dT \u001B[38;5;241m=\u001B[39m (yf(T\u001B[38;5;241m=\u001B[39mT\u001B[38;5;241m+\u001B[39mdT\u001B[38;5;241m/\u001B[39m\u001B[38;5;241m2\u001B[39m) \u001B[38;5;241m-\u001B[39m yf(T\u001B[38;5;241m=\u001B[39mT\u001B[38;5;241m-\u001B[39mdT\u001B[38;5;241m/\u001B[39m\u001B[38;5;241m2\u001B[39m)) \u001B[38;5;241m/\u001B[39m dT\n\u001B[1;32m      6\u001B[0m alpha_eq \u001B[38;5;241m=\u001B[39m alpha_s[isotope](T\u001B[38;5;241m=\u001B[39mT)\n\u001B[0;32m----> 7\u001B[0m alpha_kin \u001B[38;5;241m=\u001B[39m \u001B[43malpha_kinetic\u001B[49m\u001B[43m(\u001B[49m\n\u001B[1;32m      8\u001B[0m \u001B[43m    \u001B[49m\u001B[43malpha_equilibrium\u001B[49m\u001B[38;5;241;43m=\u001B[39;49m\u001B[43malpha_eq\u001B[49m\u001B[43m,\u001B[49m\n\u001B[1;32m      9\u001B[0m \u001B[43m    \u001B[49m\u001B[43mrelative_humidity\u001B[49m\u001B[38;5;241;43m=\u001B[39;49m\u001B[43msvp\u001B[49m\u001B[38;5;241;43m.\u001B[39;49m\u001B[43mpvs_water\u001B[49m\u001B[43m(\u001B[49m\u001B[43mT\u001B[49m\u001B[43m)\u001B[49m\u001B[43m \u001B[49m\u001B[38;5;241;43m/\u001B[39;49m\u001B[43m \u001B[49m\u001B[43msvp\u001B[49m\u001B[38;5;241;43m.\u001B[39;49m\u001B[43mpvs_ice\u001B[49m\u001B[43m(\u001B[49m\u001B[43mT\u001B[49m\u001B[43m)\u001B[49m\u001B[43m,\u001B[49m\n\u001B[1;32m     10\u001B[0m \u001B[43m    \u001B[49m\u001B[43mheavy_to_light_diffusivity_ratio\u001B[49m\u001B[38;5;241;43m=\u001B[39;49m\u001B[38;5;28;43mgetattr\u001B[39;49m\u001B[43m(\u001B[49m\u001B[43mformulae\u001B[49m\u001B[38;5;241;43m.\u001B[39;49m\u001B[43misotope_diffusivity_ratios\u001B[49m\u001B[43m,\u001B[49m\u001B[43m \u001B[49m\u001B[38;5;124;43mf\u001B[39;49m\u001B[38;5;124;43m'\u001B[39;49m\u001B[38;5;124;43mratio_\u001B[39;49m\u001B[38;5;132;43;01m{\u001B[39;49;00m\u001B[43misotope\u001B[49m\u001B[38;5;132;43;01m}\u001B[39;49;00m\u001B[38;5;124;43m'\u001B[39;49m\u001B[43m)\u001B[49m\n\u001B[1;32m     11\u001B[0m \u001B[43m\u001B[49m\u001B[43m)\u001B[49m\n\u001B[1;32m     12\u001B[0m alpha \u001B[38;5;241m=\u001B[39m alpha_eq  \u001B[38;5;241m*\u001B[39m alpha_kin\n\u001B[1;32m     13\u001B[0m d_alpha_s_dT \u001B[38;5;241m=\u001B[39m (alpha(T\u001B[38;5;241m+\u001B[39mdt\u001B[38;5;241m/\u001B[39m\u001B[38;5;241m2\u001B[39m) \u001B[38;5;241m-\u001B[39m alpha(T\u001B[38;5;241m-\u001B[39mdT\u001B[38;5;241m/\u001B[39m\u001B[38;5;241m2\u001B[39m)) \u001B[38;5;241m/\u001B[39m dT\n",
      "File \u001B[0;32m~/PycharmProjects/venv3.12/lib/python3.12/site-packages/numba/core/dispatcher.py:423\u001B[0m, in \u001B[0;36m_DispatcherBase._compile_for_args\u001B[0;34m(self, *args, **kws)\u001B[0m\n\u001B[1;32m    419\u001B[0m         msg \u001B[38;5;241m=\u001B[39m (\u001B[38;5;124mf\u001B[39m\u001B[38;5;124m\"\u001B[39m\u001B[38;5;132;01m{\u001B[39;00m\u001B[38;5;28mstr\u001B[39m(e)\u001B[38;5;241m.\u001B[39mrstrip()\u001B[38;5;132;01m}\u001B[39;00m\u001B[38;5;124m \u001B[39m\u001B[38;5;130;01m\\n\u001B[39;00m\u001B[38;5;130;01m\\n\u001B[39;00m\u001B[38;5;124mThis error may have been caused \u001B[39m\u001B[38;5;124m\"\u001B[39m\n\u001B[1;32m    420\u001B[0m                \u001B[38;5;124mf\u001B[39m\u001B[38;5;124m\"\u001B[39m\u001B[38;5;124mby the following argument(s):\u001B[39m\u001B[38;5;130;01m\\n\u001B[39;00m\u001B[38;5;132;01m{\u001B[39;00margs_str\u001B[38;5;132;01m}\u001B[39;00m\u001B[38;5;130;01m\\n\u001B[39;00m\u001B[38;5;124m\"\u001B[39m)\n\u001B[1;32m    421\u001B[0m         e\u001B[38;5;241m.\u001B[39mpatch_message(msg)\n\u001B[0;32m--> 423\u001B[0m     \u001B[43merror_rewrite\u001B[49m\u001B[43m(\u001B[49m\u001B[43me\u001B[49m\u001B[43m,\u001B[49m\u001B[43m \u001B[49m\u001B[38;5;124;43m'\u001B[39;49m\u001B[38;5;124;43mtyping\u001B[39;49m\u001B[38;5;124;43m'\u001B[39;49m\u001B[43m)\u001B[49m\n\u001B[1;32m    424\u001B[0m \u001B[38;5;28;01mexcept\u001B[39;00m errors\u001B[38;5;241m.\u001B[39mUnsupportedError \u001B[38;5;28;01mas\u001B[39;00m e:\n\u001B[1;32m    425\u001B[0m     \u001B[38;5;66;03m# Something unsupported is present in the user code, add help info\u001B[39;00m\n\u001B[1;32m    426\u001B[0m     error_rewrite(e, \u001B[38;5;124m'\u001B[39m\u001B[38;5;124munsupported_error\u001B[39m\u001B[38;5;124m'\u001B[39m)\n",
      "File \u001B[0;32m~/PycharmProjects/venv3.12/lib/python3.12/site-packages/numba/core/dispatcher.py:364\u001B[0m, in \u001B[0;36m_DispatcherBase._compile_for_args.<locals>.error_rewrite\u001B[0;34m(e, issue_type)\u001B[0m\n\u001B[1;32m    362\u001B[0m     \u001B[38;5;28;01mraise\u001B[39;00m e\n\u001B[1;32m    363\u001B[0m \u001B[38;5;28;01melse\u001B[39;00m:\n\u001B[0;32m--> 364\u001B[0m     \u001B[38;5;28;01mraise\u001B[39;00m e\u001B[38;5;241m.\u001B[39mwith_traceback(\u001B[38;5;28;01mNone\u001B[39;00m)\n",
      "\u001B[0;31mTypingError\u001B[0m: Failed in nopython mode pipeline (step: nopython frontend)\nNo implementation of function Function(<built-in function truediv>) found for signature:\n \n >>> truediv(float64, type(CPUDispatcher(<function _.ratio_2H at 0x10ca36f20>)))\n \nThere are 8 candidate implementations:\n  - Of which 6 did not match due to:\n  Overload of function 'truediv': File: <numerous>: Line N/A.\n    With argument(s): '(float64, type(CPUDispatcher(<function _.ratio_2H at 0x10ca36f20>)))':\n   No match.\n  - Of which 2 did not match due to:\n  Operator Overload in function 'truediv': File: unknown: Line unknown.\n    With argument(s): '(float64, type(CPUDispatcher(<function _.ratio_2H at 0x10ca36f20>)))':\n   No match for registered cases:\n    * (int64, int64) -> float64\n    * (int64, uint64) -> float64\n    * (uint64, int64) -> float64\n    * (uint64, uint64) -> float64\n    * (float32, float32) -> float32\n    * (float64, float64) -> float64\n    * (complex64, complex64) -> complex64\n    * (complex128, complex128) -> complex128\n\nDuring: typing of intrinsic-call at <string> (5)\n\nFile \"<string>\", line 5:\n<source missing, REPL/exec in use?>\n"
     ]
    }
   ],
   "execution_count": 8
  },
  {
   "metadata": {},
   "cell_type": "code",
   "source": "",
   "id": "571d258dc7dea96f",
   "outputs": [],
   "execution_count": null
  }
 ],
 "metadata": {
  "kernelspec": {
   "display_name": "Python 3 (ipykernel)",
   "language": "python",
   "name": "python3"
  },
  "language_info": {
   "codemirror_mode": {
    "name": "ipython",
    "version": 3
   },
   "file_extension": ".py",
   "mimetype": "text/x-python",
   "name": "python",
   "nbconvert_exporter": "python",
   "pygments_lexer": "ipython3",
   "version": "3.10.12"
  }
 },
 "nbformat": 4,
 "nbformat_minor": 5
}
