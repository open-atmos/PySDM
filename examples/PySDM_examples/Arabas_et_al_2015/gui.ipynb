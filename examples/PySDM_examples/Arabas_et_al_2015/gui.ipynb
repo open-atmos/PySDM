{
 "cells": [
  {
   "cell_type": "markdown",
   "metadata": {},
   "source": [
    "[![preview notebook](https://img.shields.io/static/v1?label=render%20on&logo=github&color=87ce3e&message=GitHub)](https://github.com/open-atmos/PySDM/blob/main/examples/PySDM_examples/Arabas_et_al_2015/gui.ipynb)\n",
    "[![launch on mybinder.org](https://mybinder.org/badge_logo.svg)](https://mybinder.org/v2/gh/open-atmos/PySDM.git/main?urlpath=lab/tree/examples/PySDM_examples/Arabas_et_al_2015/gui.ipynb)\n",
    "[![launch on Colab](https://colab.research.google.com/assets/colab-badge.svg)](https://colab.research.google.com/github/open-atmos/PySDM/blob/main/examples/PySDM_examples/Arabas_et_al_2015/gui.ipynb)"
   ]
  },
  {
   "cell_type": "markdown",
   "metadata": {},
   "source": [
    "#### based on Figs. 8 & 9 from Arabas et al. 2015 (Geosci. Model Dev. 8)  \"_libcloudph++ 1.0: a single-moment bulk, double-moment bulk, and particle-based warm-rain microphysics library in C++_\"   \n",
    "https://doi.org/10.5194/gmd-8-1677-2015"
   ]
  },
  {
   "cell_type": "code",
   "metadata": {
    "ExecuteTime": {
     "end_time": "2025-04-27T18:44:22.003165Z",
     "start_time": "2025-04-27T18:44:22.000131Z"
    }
   },
   "source": [
    "import sys\n",
    "if 'google.colab' in sys.modules:\n",
    "    !pip --quiet install open-atmos-jupyter-utils\n",
    "    from open_atmos_jupyter_utils import pip_install_on_colab\n",
    "    pip_install_on_colab('PySDM-examples')"
   ],
   "outputs": [],
   "execution_count": 1
  },
  {
   "cell_type": "code",
   "metadata": {
    "pycharm": {
     "name": "#%%\n"
    },
    "ExecuteTime": {
     "end_time": "2025-04-27T18:44:30.373907Z",
     "start_time": "2025-04-27T18:44:22.023703Z"
    }
   },
   "source": [
    "from PySDM_examples.Szumowski_et_al_1998 import gui, Simulation, GUISettings, Storage\n",
    "from PySDM_examples.Arabas_et_al_2015 import Settings, SpinUp\n",
    "from PySDM import Formulae\n",
    "settings = GUISettings(Settings(Formulae()))\n",
    "storage = Storage()\n",
    "simulation = Simulation(settings, storage, SpinUp)\n",
    "gui.launch(settings, simulation, storage)"
   ],
   "outputs": [
    {
     "data": {
      "text/plain": [
       "Tab(children=(VBox(children=(HBox(children=(FloatProgress(value=0.0, max=1.0), Button(description='start simul…"
      ],
      "application/vnd.jupyter.widget-view+json": {
       "version_major": 2,
       "version_minor": 0,
       "model_id": "99d48c5e0ec74b3d993245760eb88575"
      }
     },
     "metadata": {},
     "output_type": "display_data"
    }
   ],
   "execution_count": 2
  }
 ],
 "metadata": {
  "kernelspec": {
   "display_name": "Python 3 (ipykernel)",
   "language": "python",
   "name": "python3"
  },
  "language_info": {
   "codemirror_mode": {
    "name": "ipython",
    "version": 3
   },
   "file_extension": ".py",
   "mimetype": "text/x-python",
   "name": "python",
   "nbconvert_exporter": "python",
   "pygments_lexer": "ipython3",
   "version": "3.12.8"
  }
 },
 "nbformat": 4,
 "nbformat_minor": 4
}
