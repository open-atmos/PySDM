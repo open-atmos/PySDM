{
 "cells": [
  {
   "cell_type": "code",
   "execution_count": null,
   "id": "ee889545",
   "metadata": {},
   "outputs": [],
   "source": [
    "from PySDM_examples.Arabas_et_al_2015 import Settings, SpinUp\n",
    "from PySDM_examples.Szumowski_et_al_1998 import Simulation, Storage\n",
    "from PySDM.exporters import VTKExporter\n",
    "from PySDM_examples.utils import ProgBarController\n",
    "from PySDM import products as PySDM_products\n",
    "import subprocess\n",
    "import glob\n",
    "import os\n",
    "import platform"
   ]
  },
  {
   "cell_type": "code",
   "execution_count": null,
   "id": "f0d2581f",
   "metadata": {},
   "outputs": [],
   "source": [
    "products = [\n",
    "    PySDM_products.EffectiveRadius(unit='um')\n",
    "]"
   ]
  },
  {
   "cell_type": "markdown",
   "id": "25232d9f",
   "metadata": {},
   "source": [
    "##### 1. run a simulations saving output to VTK files"
   ]
  },
  {
   "cell_type": "code",
   "execution_count": null,
   "id": "74c00944",
   "metadata": {},
   "outputs": [],
   "source": [
    "settings = Settings()\n",
    "storage = Storage()\n",
    "simulation = Simulation(settings, storage, SpinUp=SpinUp)\n",
    "simulation.reinit(products)\n",
    "\n",
    "vtk_exporter = VTKExporter(path='.')    \n",
    "\n",
    "simulation.run(ProgBarController(\"progress:\"), vtk_exporter=vtk_exporter)\n",
    "vtk_exporter.write_pvd()"
   ]
  },
  {
   "cell_type": "markdown",
   "id": "187cc7c9",
   "metadata": {},
   "source": [
    "#### 2. create a Python script for Paraview"
   ]
  },
  {
   "cell_type": "code",
   "execution_count": null,
   "id": "2030d8e7",
   "metadata": {},
   "outputs": [],
   "source": [
    "%%writefile pvscript.py\n",
    "\n",
    "from paraview import simple as pvs\n",
    "\n",
    "# load data\n",
    "reader_prod = pvs.OpenDataFile(\"./output/sd_products.pvd\")\n",
    "reader_attr = pvs.OpenDataFile(\"./output/sd_attributes.pvd\")\n",
    "\n",
    "# prepare view settings\n",
    "view = pvs.GetRenderView()\n",
    "view.ViewSize = [2000, 800]\n",
    "view.Background = [1, 1, 1]\n",
    "view.CenterAxesVisibility = False\n",
    "view.OrientationAxesVisibility = False\n",
    "axesGrid = view.AxesGrid\n",
    "axesGrid.Visibility = True\n",
    "axesGrid.XTitle = 'Z [m]'\n",
    "axesGrid.YTitle = 'X [m]'\n",
    "\n",
    "axesGrid.XAxisUseCustomLabels = True\n",
    "axesGrid.XAxisLabels = [300, 600, 900, 1200]\n",
    "axesGrid.YAxisUseCustomLabels = True\n",
    "axesGrid.YAxisLabels = [300, 600, 900, 1200]\n",
    "\n",
    "axesGrid.XTitleFontSize = 30\n",
    "axesGrid.XLabelFontSize = 30\n",
    "axesGrid.YTitleFontSize = 30\n",
    "axesGrid.YLabelFontSize = 30\n",
    "\n",
    "axesGrid.XTitleColor = [0, 0, 0]\n",
    "axesGrid.XLabelColor = [0, 0, 0]\n",
    "axesGrid.YTitleColor = [0, 0, 0]\n",
    "axesGrid.YLabelColor = [0, 0, 0]\n",
    "axesGrid.GridColor = [0.1, 0.1, 0.1]\n",
    "\n",
    "# render particles\n",
    "var = 'radius'\n",
    "multiplier = 1e6\n",
    "palette = 'Cold and Hot'\n",
    "palette_invert = False\n",
    "color_range = [0, 10]\n",
    "logscale = False\n",
    "title = var + ' [um]'\n",
    "\n",
    "calculator = pvs.Calculator(reader_attr)\n",
    "calculator.Function = f'{var}*{multiplier}'\n",
    "display_attr = pvs.Show(calculator, view)\n",
    "\n",
    "display_attr.SetRepresentationType('Point Gaussian')\n",
    "display_attr.ShaderPreset = 'Sphere'\n",
    "display_attr.GaussianRadius = 5\n",
    "display_attr.MapScalars = 1\n",
    "\n",
    "display_attr.Ambient = .25\n",
    "pvs.ColorBy(display_attr, ('POINTS', 'Result'))\n",
    "color_scale_attr = pvs.GetColorTransferFunction('Result')\n",
    "color_scale_attr.ApplyPreset(palette, True)\n",
    "if palette_invert:\n",
    "    color_scale_attr.InvertTransferFunction()\n",
    "if color_range is None:\n",
    "    display_attr.RescaleTransferFunctionToDataRange(True)\n",
    "else:\n",
    "    color_scale_attr.RescaleTransferFunction(color_range)\n",
    "if logscale:\n",
    "    color_scale_attr.MapControlPointsToLogSpace()\n",
    "    color_scale_attr.UseLogScale = 1\n",
    "colorbar_attr = pvs.GetScalarBar(color_scale_attr, view)\n",
    "colorbar_attr.TitleColor = [0, 0, 0]\n",
    "colorbar_attr.LabelColor = [0, 0, 0]\n",
    "colorbar_attr.Title = title\n",
    "colorbar_attr.ComponentTitle = ''\n",
    "colorbar_attr.TitleFontSize = 30\n",
    "colorbar_attr.LabelFontSize = 30\n",
    "colorbar_attr.Visibility = True\n",
    "colorbar_attr.WindowLocation = 'AnyLocation'\n",
    "colorbar_attr.Position = [.1, .333]\n",
    "colorbar_attr.RangeLabelFormat = '%g'\n",
    "\n",
    "# render product\n",
    "var = 'effective radius'\n",
    "palette = 'X Ray'\n",
    "palette_invert = True\n",
    "color_range = [0, 10]\n",
    "logscale = False\n",
    "title = var + ' [um]'\n",
    "\n",
    "display_prod = pvs.Show(reader_prod)\n",
    "display_prod.SetRepresentationType('Surface')\n",
    "display_prod.Ambient = .25\n",
    "pvs.ColorBy(display_prod, ('CELLS', var))\n",
    "color_scale_prod = pvs.GetColorTransferFunction(var)\n",
    "if color_range is None:\n",
    "    display_prod.RescaleTransferFunctionToDataRange(True)\n",
    "else:\n",
    "    color_scale_prod.RescaleTransferFunction(color_range)\n",
    "color_scale_prod.ApplyPreset(palette, True)\n",
    "if palette_invert:\n",
    "    color_scale_prod.InvertTransferFunction()\n",
    "colorbar_prod = pvs.GetScalarBar(color_scale_prod, view)\n",
    "colorbar_prod.TitleColor = [0, 0, 0]\n",
    "colorbar_prod.LabelColor = [0, 0, 0]\n",
    "colorbar_prod.Title = title\n",
    "colorbar_prod.ComponentTitle = ''\n",
    "colorbar_prod.TitleFontSize = 30\n",
    "colorbar_prod.LabelFontSize = 30\n",
    "colorbar_prod.Visibility = True\n",
    "colorbar_prod.Position = [.92, .333]\n",
    "colorbar_prod.WindowLocation = 'AnyLocation'\n",
    "colorbar_prod.RangeLabelFormat = '%g'\n",
    "\n",
    "# compose the scene\n",
    "scene = pvs.GetAnimationScene()\n",
    "scene.UpdateAnimationUsingDataTimeSteps()\n",
    "pvs.Render(view)\n",
    "cam = pvs.GetActiveCamera()\n",
    "cam.SetViewUp(1, 0, 0)\n",
    "pos = list(cam.GetPosition())\n",
    "pos[-1] = -pos[-1]\n",
    "cam.SetPosition(pos)\n",
    "cam.Dolly(1.45)\n",
    "\n",
    "# save animation to an Ogg Vorbis file\n",
    "pvs.SaveAnimation('output/anim.ogv', view, FrameRate=10)\n",
    "\n",
    "# save animation frame as pdfs\n",
    "exporters = pvs.servermanager.createModule('exporters')\n",
    "exporter = exporters.GL2PSRenderViewExporterPDF()\n",
    "exporter.Rasterize3Dgeometry = False\n",
    "exporter.GL2PSdepthsortmethod = 'BSP sorting (slow, best)'\n",
    "for t in reader_prod.TimestepValues:\n",
    "    view.ViewTime = t\n",
    "    for reader in (reader_prod, reader_attr):\n",
    "        reader.UpdatePipeline(t)\n",
    "    exporter.SetView(view)\n",
    "    exporter.FileName = f'output/anim_frame_{t}.pdf'\n",
    "    exporter.Write()"
   ]
  },
  {
   "cell_type": "markdown",
   "id": "066f9c18",
   "metadata": {},
   "source": [
    "#### 3. execute the script using `pvpython`"
   ]
  },
  {
   "cell_type": "code",
   "execution_count": null,
   "id": "79477d3d",
   "metadata": {},
   "outputs": [],
   "source": [
    "if not ('CI' in os.environ and platform.system() == 'Windows'):\n",
    "    subprocess.check_output(['pvpython', 'pvscript.py'], shell=True)"
   ]
  },
  {
   "cell_type": "markdown",
   "id": "8a95f135",
   "metadata": {},
   "source": [
    "#### 4. reduce file size for generated pdf files"
   ]
  },
  {
   "cell_type": "code",
   "execution_count": null,
   "id": "23e0cf61",
   "metadata": {},
   "outputs": [],
   "source": [
    "for file in glob.glob('output/anim_frame_*.pdf'):\n",
    "    subprocess.run(['ps2pdf', file, file+'_'], capture_output=True, check=True)\n",
    "    subprocess.call(['mv', file+'_', file])"
   ]
  },
  {
   "cell_type": "code",
   "execution_count": null,
   "id": "9d3e4a35",
   "metadata": {},
   "outputs": [],
   "source": []
  }
 ],
 "metadata": {
  "kernelspec": {
   "display_name": "Python 3 (ipykernel)",
   "language": "python",
   "name": "python3"
  },
  "language_info": {
   "codemirror_mode": {
    "name": "ipython",
    "version": 3
   },
   "file_extension": ".py",
   "mimetype": "text/x-python",
   "name": "python",
   "nbconvert_exporter": "python",
   "pygments_lexer": "ipython3",
   "version": "3.9.4"
  },
  "vscode": {
   "interpreter": {
    "hash": "b43cf254c70d60c2e21a7f71ba113e70c1694742e72407132919c841d907074b"
   }
  }
 },
 "nbformat": 4,
 "nbformat_minor": 5
}
