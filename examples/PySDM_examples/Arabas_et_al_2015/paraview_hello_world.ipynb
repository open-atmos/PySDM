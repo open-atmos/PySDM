{
 "cells": [
  {
   "cell_type": "code",
   "execution_count": 40,
   "id": "ee889545",
   "metadata": {},
   "outputs": [],
   "source": [
    "import subprocess\n",
    "import glob\n",
    "import os\n",
    "import platform\n",
    "\n",
    "from PySDM_examples.Arabas_et_al_2015 import Settings, SpinUp\n",
    "from PySDM_examples.Szumowski_et_al_1998 import Simulation, Storage\n",
    "from PySDM.exporters import VTKExporter\n",
    "from PySDM_examples.utils import ProgBarController\n",
    "from PySDM import products as PySDM_products\n",
    "\n",
    "from IPython.display import HTML, display"
   ]
  },
  {
   "cell_type": "code",
   "execution_count": 2,
   "id": "f0d2581f",
   "metadata": {},
   "outputs": [],
   "source": [
    "products = [\n",
    "    PySDM_products.EffectiveRadius(unit='um')\n",
    "]"
   ]
  },
  {
   "cell_type": "markdown",
   "id": "25232d9f",
   "metadata": {},
   "source": [
    "##### 1. run a simulations saving output to VTK files"
   ]
  },
  {
   "cell_type": "code",
   "execution_count": 3,
   "id": "74c00944",
   "metadata": {},
   "outputs": [
    {
     "data": {
      "application/vnd.jupyter.widget-view+json": {
       "model_id": "a670072d708f480092e35ea5acf98b3a",
       "version_major": 2,
       "version_minor": 0
      },
      "text/plain": [
       "FloatProgress(value=0.0, description='progress:', max=1.0)"
      ]
     },
     "metadata": {},
     "output_type": "display_data"
    }
   ],
   "source": [
    "settings = Settings()\n",
    "storage = Storage()\n",
    "simulation = Simulation(settings, storage, SpinUp=SpinUp)\n",
    "simulation.reinit(products)\n",
    "\n",
    "vtk_exporter = VTKExporter(path='.')    \n",
    "\n",
    "simulation.run(ProgBarController(\"progress:\"), vtk_exporter=vtk_exporter)\n",
    "vtk_exporter.write_pvd()"
   ]
  },
  {
   "cell_type": "markdown",
   "id": "187cc7c9",
   "metadata": {},
   "source": [
    "#### 2. create a Python script for Paraview"
   ]
  },
  {
   "cell_type": "code",
   "execution_count": 30,
   "id": "2030d8e7",
   "metadata": {},
   "outputs": [
    {
     "name": "stdout",
     "output_type": "stream",
     "text": [
      "Overwriting pvscript.py\n"
     ]
    }
   ],
   "source": [
    "%%writefile pvscript.py\n",
    "\n",
    "from paraview import simple as pvs\n",
    "\n",
    "# load data\n",
    "reader_prod = pvs.OpenDataFile(\"./output/sd_products.pvd\")\n",
    "reader_attr = pvs.OpenDataFile(\"./output/sd_attributes.pvd\")\n",
    "\n",
    "# prepare view settings\n",
    "view = pvs.GetRenderView()\n",
    "view.ViewSize = [2000, 800]\n",
    "view.Background = [1, 1, 1]\n",
    "view.CenterAxesVisibility = False\n",
    "view.OrientationAxesVisibility = False\n",
    "axesGrid = view.AxesGrid\n",
    "axesGrid.Visibility = True\n",
    "axesGrid.XTitle = 'Z [m]'\n",
    "axesGrid.YTitle = 'X [m]'\n",
    "\n",
    "axesGrid.XAxisUseCustomLabels = True\n",
    "axesGrid.XAxisLabels = [300, 600, 900, 1200]\n",
    "axesGrid.YAxisUseCustomLabels = True\n",
    "axesGrid.YAxisLabels = [300, 600, 900, 1200]\n",
    "\n",
    "axesGrid.XTitleFontSize = 30\n",
    "axesGrid.XLabelFontSize = 30\n",
    "axesGrid.YTitleFontSize = 30\n",
    "axesGrid.YLabelFontSize = 30\n",
    "\n",
    "axesGrid.XTitleColor = [0, 0, 0]\n",
    "axesGrid.XLabelColor = [0, 0, 0]\n",
    "axesGrid.YTitleColor = [0, 0, 0]\n",
    "axesGrid.YLabelColor = [0, 0, 0]\n",
    "axesGrid.GridColor = [0.1, 0.1, 0.1]\n",
    "\n",
    "# render particles\n",
    "var = 'radius'\n",
    "multiplier = 1e6\n",
    "palette = 'Cold and Hot'\n",
    "palette_invert = False\n",
    "color_range = [0, 10]\n",
    "logscale = False\n",
    "title = var + ' [μm]'\n",
    "\n",
    "calculator = pvs.Calculator(reader_attr)\n",
    "calculator.Function = f'{var}*{multiplier}'\n",
    "display_attr = pvs.Show(calculator, view)\n",
    "\n",
    "display_attr.SetRepresentationType('Point Gaussian')\n",
    "display_attr.ShaderPreset = 'Sphere'\n",
    "display_attr.GaussianRadius = 5\n",
    "display_attr.MapScalars = 1\n",
    "\n",
    "display_attr.Ambient = .25\n",
    "pvs.ColorBy(display_attr, ('POINTS', 'Result'))\n",
    "color_scale_attr = pvs.GetColorTransferFunction('Result')\n",
    "color_scale_attr.ApplyPreset(palette, True)\n",
    "if palette_invert:\n",
    "    color_scale_attr.InvertTransferFunction()\n",
    "if color_range is None:\n",
    "    display_attr.RescaleTransferFunctionToDataRange(True)\n",
    "else:\n",
    "    color_scale_attr.RescaleTransferFunction(color_range)\n",
    "if logscale:\n",
    "    color_scale_attr.MapControlPointsToLogSpace()\n",
    "    color_scale_attr.UseLogScale = 1\n",
    "colorbar_attr = pvs.GetScalarBar(color_scale_attr, view)\n",
    "colorbar_attr.TitleColor = [0, 0, 0]\n",
    "colorbar_attr.LabelColor = [0, 0, 0]\n",
    "colorbar_attr.Title = title\n",
    "colorbar_attr.ComponentTitle = ''\n",
    "colorbar_attr.TitleFontSize = 30\n",
    "colorbar_attr.LabelFontSize = 30\n",
    "colorbar_attr.Visibility = True\n",
    "colorbar_attr.WindowLocation = 'AnyLocation'\n",
    "colorbar_attr.Position = [.1, .333]\n",
    "colorbar_attr.RangeLabelFormat = '%g'\n",
    "\n",
    "# render product\n",
    "var = 'effective radius'\n",
    "palette = 'X Ray'\n",
    "palette_invert = True\n",
    "color_range = [0, 10]\n",
    "logscale = False\n",
    "title = var + ' [μm]'\n",
    "\n",
    "display_prod = pvs.Show(reader_prod)\n",
    "display_prod.SetRepresentationType('Surface')\n",
    "display_prod.Ambient = .25\n",
    "pvs.ColorBy(display_prod, ('CELLS', var))\n",
    "color_scale_prod = pvs.GetColorTransferFunction(var)\n",
    "if color_range is None:\n",
    "    display_prod.RescaleTransferFunctionToDataRange(True)\n",
    "else:\n",
    "    color_scale_prod.RescaleTransferFunction(color_range)\n",
    "color_scale_prod.ApplyPreset(palette, True)\n",
    "if palette_invert:\n",
    "    color_scale_prod.InvertTransferFunction()\n",
    "colorbar_prod = pvs.GetScalarBar(color_scale_prod, view)\n",
    "colorbar_prod.TitleColor = [0, 0, 0]\n",
    "colorbar_prod.LabelColor = [0, 0, 0]\n",
    "colorbar_prod.Title = title\n",
    "colorbar_prod.ComponentTitle = ''\n",
    "colorbar_prod.TitleFontSize = 30\n",
    "colorbar_prod.LabelFontSize = 30\n",
    "colorbar_prod.Visibility = True\n",
    "colorbar_prod.Position = [.92, .333]\n",
    "colorbar_prod.WindowLocation = 'AnyLocation'\n",
    "colorbar_prod.RangeLabelFormat = '%g'\n",
    "\n",
    "# compose the scene\n",
    "scene = pvs.GetAnimationScene()\n",
    "scene.UpdateAnimationUsingDataTimeSteps()\n",
    "pvs.Render(view)\n",
    "cam = pvs.GetActiveCamera()\n",
    "cam.SetViewUp(1, 0, 0)\n",
    "pos = list(cam.GetPosition())\n",
    "pos[-1] = -pos[-1]\n",
    "cam.SetPosition(pos)\n",
    "cam.Dolly(1.45)\n",
    "\n",
    "# save animation to an Ogg Vorbis file\n",
    "anim_file = 'output/anim.ogv'\n",
    "print(anim_file)\n",
    "pvs.SaveAnimation(anim_file, view, FrameRate=10)\n",
    "\n",
    "# save animation frame as pdfs\n",
    "exporters = pvs.servermanager.createModule('exporters')\n",
    "exporter = exporters.GL2PSRenderViewExporterPDF()\n",
    "exporter.Rasterize3Dgeometry = False\n",
    "exporter.GL2PSdepthsortmethod = 'BSP sorting (slow, best)'\n",
    "for t in reader_prod.TimestepValues:\n",
    "    view.ViewTime = t\n",
    "    exporter.FileName = f'output/anim_frame_{t}.pdf'\n",
    "    print(exporter.FileName)\n",
    "    for reader in (reader_prod, reader_attr):\n",
    "        reader.UpdatePipeline(t)\n",
    "    exporter.SetView(view)\n",
    "    exporter.Write()"
   ]
  },
  {
   "cell_type": "markdown",
   "id": "066f9c18",
   "metadata": {},
   "source": [
    "#### 3. execute the script using `pvpython`"
   ]
  },
  {
   "cell_type": "code",
   "execution_count": 32,
   "id": "79477d3d",
   "metadata": {},
   "outputs": [
    {
     "name": "stdout",
     "output_type": "stream",
     "text": [
      "output/anim_frame_0.0.pdf\n",
      "output/anim_frame_60.0.pdf\n",
      "output/anim_frame_120.0.pdf\n",
      "output/anim_frame_180.0.pdf\n",
      "output/anim_frame_240.0.pdf\n",
      "output/anim_frame_300.0.pdf\n",
      "output/anim_frame_360.0.pdf\n",
      "output/anim_frame_420.0.pdf\n",
      "output/anim_frame_480.0.pdf\n",
      "output/anim_frame_540.0.pdf\n",
      "output/anim_frame_600.0.pdf\n",
      "output/anim_frame_660.0.pdf\n",
      "output/anim_frame_720.0.pdf\n",
      "output/anim_frame_780.0.pdf\n",
      "output/anim_frame_840.0.pdf\n",
      "output/anim_frame_900.0.pdf\n",
      "output/anim_frame_960.0.pdf\n",
      "output/anim_frame_1020.0.pdf\n",
      "output/anim_frame_1080.0.pdf\n",
      "output/anim_frame_1140.0.pdf\n",
      "output/anim_frame_1200.0.pdf\n",
      "output/anim_frame_1260.0.pdf\n",
      "output/anim_frame_1320.0.pdf\n",
      "output/anim_frame_1380.0.pdf\n",
      "output/anim_frame_1440.0.pdf\n",
      "output/anim_frame_1500.0.pdf\n",
      "output/anim_frame_1560.0.pdf\n",
      "output/anim_frame_1620.0.pdf\n",
      "output/anim_frame_1680.0.pdf\n",
      "output/anim_frame_1740.0.pdf\n",
      "output/anim_frame_1800.0.pdf\n",
      "output/anim_frame_1860.0.pdf\n",
      "output/anim_frame_1920.0.pdf\n",
      "output/anim_frame_1980.0.pdf\n",
      "output/anim_frame_2040.0.pdf\n",
      "output/anim_frame_2100.0.pdf\n",
      "output/anim_frame_2160.0.pdf\n",
      "output/anim_frame_2220.0.pdf\n",
      "output/anim_frame_2280.0.pdf\n",
      "output/anim_frame_2340.0.pdf\n",
      "output/anim_frame_2400.0.pdf\n",
      "output/anim_frame_2460.0.pdf\n",
      "output/anim_frame_2520.0.pdf\n",
      "output/anim_frame_2580.0.pdf\n",
      "output/anim_frame_2640.0.pdf\n",
      "output/anim_frame_2700.0.pdf\n",
      "output/anim_frame_2760.0.pdf\n",
      "output/anim_frame_2820.0.pdf\n",
      "output/anim_frame_2880.0.pdf\n",
      "output/anim_frame_2940.0.pdf\n",
      "output/anim_frame_3000.0.pdf\n",
      "output/anim_frame_3060.0.pdf\n",
      "output/anim_frame_3120.0.pdf\n",
      "output/anim_frame_3180.0.pdf\n",
      "output/anim_frame_3240.0.pdf\n",
      "output/anim_frame_3300.0.pdf\n",
      "output/anim_frame_3360.0.pdf\n",
      "output/anim_frame_3420.0.pdf\n",
      "output/anim_frame_3480.0.pdf\n",
      "output/anim_frame_3540.0.pdf\n",
      "output/anim_frame_3600.0.pdf\n",
      "output/anim_frame_3660.0.pdf\n",
      "output/anim_frame_3720.0.pdf\n",
      "output/anim_frame_3780.0.pdf\n",
      "output/anim_frame_3840.0.pdf\n",
      "output/anim_frame_3900.0.pdf\n",
      "output/anim_frame_3960.0.pdf\n",
      "output/anim_frame_4020.0.pdf\n",
      "output/anim_frame_4080.0.pdf\n",
      "output/anim_frame_4140.0.pdf\n",
      "output/anim_frame_4200.0.pdf\n",
      "output/anim_frame_4260.0.pdf\n",
      "output/anim_frame_4320.0.pdf\n",
      "output/anim_frame_4380.0.pdf\n",
      "output/anim_frame_4440.0.pdf\n",
      "output/anim_frame_4500.0.pdf\n",
      "output/anim_frame_4560.0.pdf\n",
      "output/anim_frame_4620.0.pdf\n",
      "output/anim_frame_4680.0.pdf\n",
      "output/anim_frame_4740.0.pdf\n",
      "output/anim_frame_4800.0.pdf\n",
      "output/anim_frame_4860.0.pdf\n",
      "output/anim_frame_4920.0.pdf\n",
      "output/anim_frame_4980.0.pdf\n",
      "output/anim_frame_5040.0.pdf\n",
      "output/anim_frame_5100.0.pdf\n",
      "output/anim_frame_5160.0.pdf\n",
      "output/anim_frame_5220.0.pdf\n",
      "output/anim_frame_5280.0.pdf\n",
      "output/anim_frame_5340.0.pdf\n",
      "output/anim_frame_5400.0.pdf\n"
     ]
    }
   ],
   "source": [
    "if not ('CI' in os.environ and platform.system() == 'Windows'):\n",
    "    subprocess.run(\n",
    "        ('pvpython', '--force-offscreen-rendering', 'pvscript.py'),\n",
    "        check=True,\n",
    "    )"
   ]
  },
  {
   "cell_type": "markdown",
   "id": "8a95f135",
   "metadata": {},
   "source": [
    "#### 4. reduce file size for generated pdf files"
   ]
  },
  {
   "cell_type": "code",
   "execution_count": 35,
   "id": "23e0cf61",
   "metadata": {},
   "outputs": [],
   "source": [
    "for file in glob.glob('output/anim_frame_*.pdf'):\n",
    "    subprocess.run(('ps2pdf', file, file + '_'), check=True, capture_output=True)\n",
    "    subprocess.run(('mv', file + '_', file), check=True)"
   ]
  },
  {
   "cell_type": "markdown",
   "id": "07365c36-7d4a-437f-b280-31259a35c1e3",
   "metadata": {},
   "source": [
    "#### 5. display one frame in the notebook"
   ]
  },
  {
   "cell_type": "code",
   "execution_count": 46,
   "id": "f1a1db54-3516-4fce-8bb8-62f2c83a0b19",
   "metadata": {},
   "outputs": [
    {
     "data": {
      "text/html": [
       "<embed src=\"./output/anim_frame_600.0.pdf\" type=\"application/pdf\" width=\"100%%\" height=\"600px\" />"
      ],
      "text/plain": [
       "<IPython.core.display.HTML object>"
      ]
     },
     "metadata": {},
     "output_type": "display_data"
    }
   ],
   "source": [
    "selected_frame = './output/anim_frame_600.0.pdf'\n",
    "display(HTML(f'<embed src=\"{selected_frame}\" type=\"application/pdf\" width=\"100%%\" height=\"600px\" />'))"
   ]
  },
  {
   "cell_type": "code",
   "execution_count": 56,
   "id": "d6dbad77-51d6-4dc3-b78e-15c75d8131d2",
   "metadata": {},
   "outputs": [
    {
     "data": {
      "text/html": [
       "<img src=\"./output/anim_frame_600.0.pdf.png\" />"
      ],
      "text/plain": [
       "<IPython.core.display.HTML object>"
      ]
     },
     "metadata": {},
     "output_type": "display_data"
    }
   ],
   "source": [
    "def pdf2png(pdf_file, png_file):\n",
    "    page = 1\n",
    "    resolution = 100\n",
    "    subprocess.run(\n",
    "        (\"gs\",\n",
    "         \"-q\",\n",
    "         \"-dNOPAUSE\",\n",
    "         \"-dBATCH\",\n",
    "         \"-sDEVICE=pngalpha\",\n",
    "         \"-r\" + str(resolution),\n",
    "         \"-dPDFFitPage\",\n",
    "         \"-sOutputFile=\" + png_file,\n",
    "         \"-dFirstPage=\" + str(page),\n",
    "         \"-dLastPage=\" + str(page),\n",
    "         pdf_file\n",
    "        ),\n",
    "        stdout=open(os.devnull, 'w'),\n",
    "        stderr=subprocess.STDOUT,\n",
    "        check=True\n",
    "    )\n",
    "\n",
    "pdf2png(selected_frame, selected_frame + '.png')\n",
    "\n",
    "display(HTML(f'<img src=\"{selected_frame}.png\" />'))"
   ]
  },
  {
   "cell_type": "code",
   "execution_count": null,
   "id": "3155e063-2853-4915-8920-adf20a66fdf2",
   "metadata": {},
   "outputs": [],
   "source": []
  }
 ],
 "metadata": {
  "kernelspec": {
   "display_name": "Python 3 (ipykernel)",
   "language": "python",
   "name": "python3"
  },
  "language_info": {
   "codemirror_mode": {
    "name": "ipython",
    "version": 3
   },
   "file_extension": ".py",
   "mimetype": "text/x-python",
   "name": "python",
   "nbconvert_exporter": "python",
   "pygments_lexer": "ipython3",
   "version": "3.9.2"
  },
  "vscode": {
   "interpreter": {
    "hash": "b43cf254c70d60c2e21a7f71ba113e70c1694742e72407132919c841d907074b"
   }
  }
 },
 "nbformat": 4,
 "nbformat_minor": 5
}
