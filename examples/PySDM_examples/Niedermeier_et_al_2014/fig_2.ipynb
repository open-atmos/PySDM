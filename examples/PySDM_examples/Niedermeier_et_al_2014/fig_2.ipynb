{
 "cells": [
  {
   "cell_type": "markdown",
   "id": "9c727d1b",
   "metadata": {},
   "source": [
    "[![Binder](https://mybinder.org/badge_logo.svg)](https://mybinder.org/v2/gh/open-atmos/PySDM.git/main?urlpath=examples/PySDM_examples/Niedermeier_et_al_2014/fig_2.ipynb)    \n",
    "[![Open In Colab](https://colab.research.google.com/assets/colab-badge.svg)](https://colab.research.google.com/github/open-atmos/PySDM/blob/main/examples/PySDM_examples/Niedermeier_et_al_2014/fig_2.ipynb)"
   ]
  },
  {
   "cell_type": "markdown",
   "id": "2ac71b75",
   "metadata": {},
   "source": [
    "#### based on Fig. 2 from Niedermeier et al. 2014 (Geophys. Res. Lett. 41)  \"_A computationally efficient description of heterogeneous freezing: A simplified version of the Soccer ball model_\"   \n",
    "https://doi.org/10.1002/2013GL058684"
   ]
  },
  {
   "cell_type": "code",
   "execution_count": null,
   "id": "7d32494f",
   "metadata": {},
   "outputs": [],
   "source": [
    "from matplotlib import pyplot\n",
    "from open_atmos_jupyter_utils import show_plot\n",
    "from scipy.constants import convert_temperature\n",
    "from PySDM import Formulae\n",
    "from PySDM.physics import si\n",
    "from PySDM_examples.Niedermeier_et_al_2014 import Settings, Simulation"
   ]
  },
  {
   "cell_type": "code",
   "execution_count": null,
   "id": "c38109d8",
   "metadata": {},
   "outputs": [],
   "source": [
    "formulae = Formulae(\n",
    "    heterogeneous_ice_nucleation_rate='ABIFM',\n",
    "    particle_shape_and_density=\"MixedPhaseSpheres\",\n",
    "    constants = {\n",
    "        'ABIFM_M': 70,\n",
    "        'ABIFM_C': -10\n",
    "    }\n",
    ")\n",
    "\n",
    "output = []\n",
    "for T0 in (convert_temperature(TC, 'Celsius', 'Kelvin') for TC in (-19, -23)):\n",
    "    settings = Settings(\n",
    "        in_sampling_n=1800,\n",
    "        initial_temperature=T0 * si.K,\n",
    "        timestep=1 * si.s,\n",
    "        formulae=formulae\n",
    "    )\n",
    "    simulation = Simulation(settings)\n",
    "    output.append(simulation.run())"
   ]
  },
  {
   "cell_type": "code",
   "execution_count": null,
   "id": "a3df1ee0",
   "metadata": {},
   "outputs": [],
   "source": [
    "_, axs = pyplot.subplots(1, 2, figsize=(11, 5))\n",
    "for i, ax in enumerate(axs):\n",
    "    ax.grid()\n",
    "    ax.plot(output[i]['ice water content'], convert_temperature(output[i]['T'], 'Kelvin', 'Celsius'))\n",
    "    ax.invert_yaxis()\n",
    "    ax.set_ylabel(r'Temperature [$^\\circ$C]')\n",
    "    ax.set_xlabel('TODO #832 (should be Frozen Fraction)')\n",
    "show_plot('fig_2.pdf')"
   ]
  },
  {
   "cell_type": "code",
   "execution_count": null,
   "id": "31a699a7",
   "metadata": {},
   "outputs": [],
   "source": []
  },
  {
   "cell_type": "code",
   "execution_count": null,
   "id": "d2f529a8",
   "metadata": {},
   "outputs": [],
   "source": []
  }
 ],
 "metadata": {
  "kernelspec": {
   "display_name": "Python 3 (ipykernel)",
   "language": "python",
   "name": "python3"
  },
  "language_info": {
   "codemirror_mode": {
    "name": "ipython",
    "version": 3
   },
   "file_extension": ".py",
   "mimetype": "text/x-python",
   "name": "python",
   "nbconvert_exporter": "python",
   "pygments_lexer": "ipython3",
   "version": "3.10.5"
  }
 },
 "nbformat": 4,
 "nbformat_minor": 5
}
