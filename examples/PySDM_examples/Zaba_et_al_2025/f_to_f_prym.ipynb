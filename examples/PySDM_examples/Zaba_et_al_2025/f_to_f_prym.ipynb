{
 "cells": [
  {
   "cell_type": "code",
   "id": "initial_id",
   "metadata": {
    "collapsed": true,
    "ExecuteTime": {
     "end_time": "2025-03-05T11:53:00.318043Z",
     "start_time": "2025-03-05T11:53:00.311781Z"
    }
   },
   "source": [
    "from PySDM import Formulae\n",
    "from PySDM.attributes.isotopes.delta import isotope\n",
    "from PySDM.physics import si"
   ],
   "outputs": [],
   "execution_count": 13
  },
  {
   "metadata": {
    "ExecuteTime": {
     "end_time": "2025-03-05T11:53:00.329090Z",
     "start_time": "2025-03-05T11:53:00.323021Z"
    }
   },
   "cell_type": "code",
   "source": [
    "formulae = Formulae(\n",
    "    terminal_velocity=\"RogersYau\",\n",
    "    isotope_diffusivity_ratios=\"HellmannAndHarvey2020\",\n",
    "    ventilation=\"Froessling1938\",\n",
    "    particle_shape_and_density=\"LiquidSpheres\",\n",
    "    air_dynamic_viscosity=\"ZografosEtAl1987\",\n",
    ")"
   ],
   "id": "7e10a68cc8f567a3",
   "outputs": [],
   "execution_count": 14
  },
  {
   "metadata": {
    "ExecuteTime": {
     "end_time": "2025-03-05T19:07:06.868457Z",
     "start_time": "2025-03-05T19:07:06.846117Z"
    }
   },
   "cell_type": "code",
   "source": [
    "def f_to_f_iso(f):\n",
    "    D_heavy_to_light = formulae.isotope_diffusivity_ratios.ratio_18O(temperature)\n",
    "    return 1 - (f-1)*((D_heavy_to_light)**(-1/3)-1) / f"
   ],
   "id": "fe9a603efbe85784",
   "outputs": [],
   "execution_count": 75
  },
  {
   "metadata": {
    "ExecuteTime": {
     "end_time": "2025-03-05T19:07:07.577562Z",
     "start_time": "2025-03-05T19:07:07.561896Z"
    }
   },
   "cell_type": "code",
   "source": [
    "temperature = 293.15 *si.K\n",
    "radius = 1 * si.mm\n",
    "eta_air = formulae.air_dynamic_viscosity.eta_air(temperature)\n",
    "air_density = formulae.constants.p_STP / formulae.constants.Rd / temperature\n",
    "f = formulae.ventilation.ventilation_coefficient(\n",
    "    formulae.trivia.sqrt_re_times_cbrt_sc(\n",
    "        Re = formulae.particle_shape_and_density.reynolds_number(\n",
    "            radius = radius, \n",
    "            velocity_wrt_air=formulae.terminal_velocity.v_term(radius), \n",
    "            dynamic_viscosity = eta_air, \n",
    "            density = air_density\n",
    "        ), \n",
    "        Sc = formulae.trivia.air_schmidt_number(\n",
    "            dynamic_viscosity=eta_air,\n",
    "            diffusivity=formulae.diffusion_thermics.D(T=temperature, p=formulae.constants.p_STP),\n",
    "            density=air_density,\n",
    "        )\n",
    "    )\n",
    ")"
   ],
   "id": "44d2d7eed7901612",
   "outputs": [],
   "execution_count": 76
  },
  {
   "metadata": {
    "ExecuteTime": {
     "end_time": "2025-03-05T19:07:08.305863Z",
     "start_time": "2025-03-05T19:07:08.297644Z"
    }
   },
   "cell_type": "code",
   "source": "f_to_f_iso(f)",
   "id": "82a80cad5d47f5",
   "outputs": [
    {
     "data": {
      "text/plain": [
       "np.float64(0.9913214115810522)"
      ]
     },
     "execution_count": 77,
     "metadata": {},
     "output_type": "execute_result"
    }
   ],
   "execution_count": 77
  },
  {
   "metadata": {},
   "cell_type": "code",
   "outputs": [],
   "execution_count": null,
   "source": "",
   "id": "b4d5599cab3d73bf"
  }
 ],
 "metadata": {
  "kernelspec": {
   "display_name": "Python 3",
   "language": "python",
   "name": "python3"
  },
  "language_info": {
   "codemirror_mode": {
    "name": "ipython",
    "version": 2
   },
   "file_extension": ".py",
   "mimetype": "text/x-python",
   "name": "python",
   "nbconvert_exporter": "python",
   "pygments_lexer": "ipython2",
   "version": "2.7.6"
  }
 },
 "nbformat": 4,
 "nbformat_minor": 5
}
