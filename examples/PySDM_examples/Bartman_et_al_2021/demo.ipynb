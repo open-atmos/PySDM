{
 "cells": [
  {
   "cell_type": "code",
   "execution_count": null,
   "metadata": {},
   "outputs": [],
   "source": [
    "import sys\n",
    "if 'google.colab' in sys.modules:\n",
    "    !pip --quiet install open-atmos-jupyter-utils\n",
    "    from open_atmos_jupyter_utils import pip_install_on_colab\n",
    "    pip_install_on_colab('PySDM-examples')"
   ]
  },
  {
   "cell_type": "code",
   "execution_count": null,
   "metadata": {},
   "outputs": [],
   "source": [
    "from PySDM_examples.Arabas_et_al_2015 import Settings, SpinUp\n",
    "from PySDM_examples.Szumowski_et_al_1998 import Simulation, Storage\n",
    "from PySDM_examples.Szumowski_et_al_1998.plots import _TimeseriesPlot, _ImagePlot\n",
    "from PySDM_examples.utils import ProgBarController\n",
    "from PySDM_examples.utils.widgets import HTML, display\n",
    "import PySDM.products as PySDM_products\n",
    "from PySDM.exporters import NetCDFExporter\n",
    "from open_atmos_jupyter_utils import TemporaryFile\n",
    "from PySDM.physics import si\n",
    "import os\n",
    "import numpy as np\n",
    "from scipy.io.netcdf import netcdf_file\n",
    "from matplotlib import pyplot, rcParams\n",
    "from matplotlib.animation import FuncAnimation\n",
    "from matplotlib.gridspec import GridSpec"
   ]
  },
  {
   "cell_type": "code",
   "execution_count": null,
   "metadata": {},
   "outputs": [],
   "source": [
    "settings = Settings()\n",
    "\n",
    "cloud_range = (settings.aerosol_radius_threshold, settings.drizzle_radius_threshold)\n",
    "products = [\n",
    "    PySDM_products.ParticleSpecificConcentration(name='n_a_mg', unit='mg^-1', radius_range=(0, cloud_range[0])),\n",
    "    PySDM_products.EffectiveRadius(name='r_eff', unit='um', radius_range=(cloud_range[0], np.inf)),\n",
    "    PySDM_products.ParticleConcentration(name='n_d_cm3', unit='cm^-3', radius_range=(cloud_range[1], np.inf)),\n",
    "    PySDM_products.WaterMixingRatio(name='qt', unit='g/kg', radius_range=cloud_range),\n",
    "    PySDM_products.CondensationTimestepMin(name='dt_cond_min'),\n",
    "    PySDM_products.CollisionTimestepMin(name='dt_coal_min')\n",
    "]\n",
    "\n",
    "settings.n_sd_per_gridbox = 128 if 'CI' not in os.environ else 32\n",
    "settings.grid = (32, 32)\n",
    "settings.dt = 32 * si.second\n",
    "settings.simulation_time = .175 * settings.spin_up_time\n",
    "settings.output_interval = 1 * si.minute\n",
    "settings.condensation_rtol_x = 1e-6\n",
    "settings.condensation_rtol_thd = 5e-7\n",
    "\n",
    "settings.condensation_dt_cond_range = (.25*si.s, settings.dt)\n",
    "settings.coalescence_dt_coal_range = settings.condensation_dt_cond_range\n",
    "\n",
    "settings.mode_1.norm_factor *= 3\n",
    "settings.mode_2.norm_factor *= 3\n",
    "settings.spectrum_per_mass_of_dry_air.norm_factor *= 3\n",
    "\n",
    "storage = Storage()\n",
    "simulation = Simulation(settings, storage, SpinUp=SpinUp)\n",
    "simulation.reinit(products)"
   ]
  },
  {
   "cell_type": "code",
   "execution_count": null,
   "metadata": {},
   "outputs": [],
   "source": [
    "simulation.run(ProgBarController())"
   ]
  },
  {
   "cell_type": "code",
   "execution_count": null,
   "metadata": {},
   "outputs": [],
   "source": [
    "temp_file = TemporaryFile('.nc')\n",
    "exporter = NetCDFExporter(storage, settings, simulation, temp_file.absolute_path)\n",
    "exporter.run(ProgBarController())"
   ]
  },
  {
   "cell_type": "code",
   "execution_count": null,
   "metadata": {},
   "outputs": [],
   "source": [
    "default_figsize = rcParams[\"figure.figsize\"]\n",
    "figsize = (1.75 * default_figsize[0], 3.1* default_figsize[1])\n",
    "gs = GridSpec(nrows=27, ncols=18)\n",
    "\n",
    "fig = pyplot.figure(figsize=figsize)\n",
    "na = gs.nrows-19\n",
    "nb = gs.nrows-11\n",
    "nc = gs.nrows-3\n",
    "axs = (\n",
    "    fig.add_subplot(gs[:na, 1:gs.ncols//2-1]),\n",
    "    fig.add_subplot(gs[:na, gs.ncols//2+1:2*gs.ncols//2-1]),\n",
    "\n",
    "    fig.add_subplot(gs[na:nb, 1:gs.ncols//2-1]),\n",
    "    fig.add_subplot(gs[na:nb, gs.ncols//2+1:2*gs.ncols//2-1]),\n",
    "    \n",
    "    fig.add_subplot(gs[nb:nc, 1:gs.ncols//2-1]),\n",
    "    fig.add_subplot(gs[nb:nc, gs.ncols//2+1:2*gs.ncols//2-1]),\n",
    "    \n",
    "    fig.add_subplot(gs[gs.nrows-3:-1,2:-1])\n",
    ")\n",
    "gs.tight_layout(fig)\n",
    "ncdf = netcdf_file(temp_file.absolute_path, mode='r', mmap=False)\n",
    "\n",
    "# TODO #419: we should not use products here - all info should be obtained from netCDF\n",
    "plots = []\n",
    "for var, cmap in {\n",
    "    'n_a_mg': 'summer',\n",
    "    'n_d_cm3': 'bone_r',\n",
    "    'r_eff': 'ocean_r',\n",
    "    'qt': 'Blues',\n",
    "    'dt_cond_min': 'tab20c',\n",
    "    'dt_coal_min': 'tab20c'\n",
    "}.items():\n",
    "    plots.append(\n",
    "        _ImagePlot(fig, axs[len(plots)], grid=ncdf.grid, size=ncdf.size, product=simulation.products[var], cmap=cmap)\n",
    "    )\n",
    "plots.append(_TimeseriesPlot(fig, axs[-1], ncdf.variables['T'][:], show=False))\n",
    "\n",
    "plots[-1].ax.axvline(ncdf.n_spin_up * ncdf.dt)\n",
    "plots[-1].ax.set_ylim(0, .001)\n",
    "\n",
    "interval = 100 #ms\n",
    "frame_list = np.arange(ncdf.variables['T'].shape[0], dtype=int)\n",
    "\n",
    "def update(frame_num):\n",
    "    step = frame_num*ncdf.steps_per_output_interval\n",
    "    \n",
    "    for i, product in enumerate(('n_a_mg', 'n_d_cm3', 'r_eff', 'qt', 'dt_cond_min', 'dt_coal_min')):\n",
    "        plots[i].update(ncdf.variables[product][frame_num], step=step)\n",
    "    \n",
    "    precip = np.full_like(ncdf.variables['surf_precip'][:], np.nan)\n",
    "    precip[0:frame_num+1] = ncdf.variables['surf_precip'][0:frame_num+1]\n",
    "    plots[-1].update(precip)\n",
    "    \n",
    "    return (\n",
    "        plots[0].im, plots[1].im, plots[2].im, \n",
    "        plots[3].im, plots[4].im, plots[5].im, \n",
    "        plots[-1].timeseries\n",
    "    )\n",
    "pyplot.close(fig)"
   ]
  },
  {
   "cell_type": "code",
   "execution_count": null,
   "metadata": {},
   "outputs": [],
   "source": [
    "animation = FuncAnimation(fig, update, frames=frame_list, interval=interval, blit=False)\n",
    "\n",
    "if 'CI' not in os.environ:\n",
    "    display(HTML(animation.to_html5_video()))\n",
    "    file = TemporaryFile('.gif')\n",
    "    animation.save(file.absolute_path)\n",
    "    display(file.make_link_widget())"
   ]
  },
  {
   "cell_type": "code",
   "execution_count": null,
   "metadata": {},
   "outputs": [],
   "source": [
    "# save last frame in vector format\n",
    "svg_file = TemporaryFile('.svg')\n",
    "fig.savefig(svg_file.absolute_path)\n",
    "display(svg_file.make_link_widget())"
   ]
  },
  {
   "cell_type": "code",
   "execution_count": null,
   "metadata": {},
   "outputs": [],
   "source": []
  },
  {
   "cell_type": "code",
   "execution_count": null,
   "metadata": {},
   "outputs": [],
   "source": []
  }
 ],
 "metadata": {
  "kernelspec": {
   "display_name": "Python 3 (ipykernel)",
   "language": "python",
   "name": "python3"
  },
  "language_info": {
   "codemirror_mode": {
    "name": "ipython",
    "version": 3
   },
   "file_extension": ".py",
   "mimetype": "text/x-python",
   "name": "python",
   "nbconvert_exporter": "python",
   "pygments_lexer": "ipython3",
   "version": "3.8.9"
  }
 },
 "nbformat": 4,
 "nbformat_minor": 4
}
