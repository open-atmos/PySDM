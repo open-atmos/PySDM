{
 "cells": [
  {
   "cell_type": "markdown",
   "metadata": {
    "pycharm": {
     "name": "#%% md\n"
    }
   },
   "source": [
    "[![Binder](https://mybinder.org/badge_logo.svg)](https://mybinder.org/v2/gh/open-atmos/PySDM.git/main?urlpath=lab/tree/examples/PySDM_examples/Jaruga_and_Pawlowska_2018/fig_3.ipynb)\n",
    "[![Open In Colab](https://colab.research.google.com/assets/colab-badge.svg)](https://colab.research.google.com/github/open-atmos/PySDM/blob/main/examples/PySDM_examples/Jaruga_and_Pawlowska_2018/fig_3.ipynb)"
   ]
  },
  {
   "cell_type": "markdown",
   "metadata": {
    "pycharm": {
     "name": "#%% md\n"
    }
   },
   "source": [
    "#### based on Jaruga and Pawlowska (Geosci. Model Dev. 11)  \"_libcloudph++ 2.0: aqueous-phase chemistry extension of the particle-based cloud microphysics scheme_\"   \n",
    "https://doi.org/10.5194/gmd-11-3623-2018"
   ]
  },
  {
   "cell_type": "code",
   "execution_count": null,
   "metadata": {
    "pycharm": {
     "name": "#%%\n"
    }
   },
   "outputs": [],
   "source": [
    "import sys\n",
    "if 'google.colab' in sys.modules:\n",
    "    !pip --quiet install open-atmos-jupyter-utils\n",
    "    from open_atmos_jupyter_utils import pip_install_on_colab\n",
    "    pip_install_on_colab('PySDM-examples')"
   ]
  },
  {
   "cell_type": "code",
   "execution_count": null,
   "metadata": {
    "pycharm": {
     "name": "#%%\n"
    }
   },
   "outputs": [],
   "source": [
    "from PySDM_examples.Kreidenweis_et_al_2003 import Settings, Simulation\n",
    "from PySDM.physics import si\n",
    "from open_atmos_jupyter_utils import show_plot\n",
    "from PySDM.products import AqueousMassSpectrum\n",
    "from PySDM.products.aqueous_chemistry.aqueous_mass_spectrum import SpecificAqueousMassSpectrum\n",
    "from matplotlib import pyplot\n",
    "import os"
   ]
  },
  {
   "cell_type": "code",
   "execution_count": null,
   "metadata": {
    "pycharm": {
     "name": "#%%\n"
    }
   },
   "outputs": [],
   "source": [
    "settings = Settings(dt=1*si.s, n_sd=16 if 'CI' in os.environ else 256, n_substep=5)\n",
    "products = (\n",
    "    SpecificAqueousMassSpectrum(\n",
    "        key=\"S_VI\",\n",
    "        dry_radius_bins_edges=settings.dry_radius_bins_edges,\n",
    "        name='dm_S_VI/dlog_10(dry diameter)_spec',\n",
    "        unit='ug/kg'\n",
    "    ),\n",
    "    AqueousMassSpectrum(\n",
    "        key=\"S_VI\",\n",
    "        dry_radius_bins_edges=settings.dry_radius_bins_edges,\n",
    "        name='dm_S_VI/dlog_10(dry diameter)',\n",
    "        specific=False,\n",
    "        unit='ug/m^3'\n",
    "    ),\n",
    ")\n",
    "simulation = Simulation(settings, products)\n",
    "output = simulation.run()"
   ]
  },
  {
   "cell_type": "code",
   "execution_count": null,
   "metadata": {
    "pycharm": {
     "name": "#%%\n"
    }
   },
   "outputs": [],
   "source": [
    "for product in products:\n",
    "    fig, axs = pyplot.subplots(1, 2, figsize=(11,5))\n",
    "    labels = {0:\"first\", -1:\"last\"}\n",
    "    for ax in axs:\n",
    "        for step, label in labels.items():\n",
    "            ax.step(\n",
    "                2e6 * settings.dry_radius_bins_edges[:-1],\n",
    "                output[product.name][step],\n",
    "                label=f'step: {label}'\n",
    "            )\n",
    "        ax.set_ylabel(f'dS(VI)/dlog_10(D) [{product.unit}]')\n",
    "        ax.set_xlabel('dry diameter [µm]')\n",
    "        ax.set_xlim([.01, 1])\n",
    "        ax.grid()\n",
    "        ax.set_xscale('log')\n",
    "\n",
    "    axs[0].set_yscale('log')\n",
    "    axs[0].set_ylim([.01, 15])\n",
    "    axs[1].set_ylim([0, 15])\n",
    "    axs[1].legend()\n",
    "\n",
    "    show_plot()"
   ]
  },
  {
   "cell_type": "code",
   "execution_count": null,
   "metadata": {
    "pycharm": {
     "name": "#%%\n"
    }
   },
   "outputs": [],
   "source": []
  }
 ],
 "metadata": {
  "kernelspec": {
   "display_name": "Python 3 (ipykernel)",
   "language": "python",
   "name": "python3"
  },
  "language_info": {
   "codemirror_mode": {
    "name": "ipython",
    "version": 3
   },
   "file_extension": ".py",
   "mimetype": "text/x-python",
   "name": "python",
   "nbconvert_exporter": "python",
   "pygments_lexer": "ipython3",
   "version": "3.8.9"
  }
 },
 "nbformat": 4,
 "nbformat_minor": 4
}
