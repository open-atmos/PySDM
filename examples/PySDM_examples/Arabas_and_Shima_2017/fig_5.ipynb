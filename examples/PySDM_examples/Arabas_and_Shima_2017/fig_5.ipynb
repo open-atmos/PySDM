{
 "cells": [
  {
   "cell_type": "markdown",
   "metadata": {},
   "source": [
    "[![Binder](https://mybinder.org/badge_logo.svg)](https://mybinder.org/v2/gh/open-atmos/PySDM.git/main?urlpath=lab/tree/examples/PySDM_examples/Arabas_and_Shima_2017/fig_5.ipynb)    \n",
    "[![Open In Colab](https://colab.research.google.com/assets/colab-badge.svg)](https://colab.research.google.com/github/open-atmos/PySDM/blob/main/examples/PySDM_examples/Arabas_and_Shima_2017/fig_5.ipynb)"
   ]
  },
  {
   "cell_type": "markdown",
   "metadata": {},
   "source": [
    "#### based on Fig. 5 from Arabas and Shima 2017 (Nonlin. Processes Geophys. 24)  \"_On the CCN (de)activation nonlinearities_\"   \n",
    "https://doi.org/10.5194/npg-24-535-2017"
   ]
  },
  {
   "cell_type": "code",
   "execution_count": null,
   "metadata": {},
   "outputs": [],
   "source": [
    "import sys\n",
    "if 'google.colab' in sys.modules:\n",
    "    !pip --quiet install open-atmos-jupyter-utils\n",
    "    from open_atmos_jupyter_utils import pip_install_on_colab\n",
    "    pip_install_on_colab('PySDM-examples')"
   ]
  },
  {
   "cell_type": "code",
   "execution_count": null,
   "metadata": {},
   "outputs": [],
   "source": [
    "from PySDM_examples.Arabas_and_Shima_2017.example import Simulation, setups\n",
    "from open_atmos_jupyter_utils import show_plot\n",
    "from PySDM.physics import si\n",
    "import numpy as np\n",
    "import matplotlib.pyplot as plt"
   ]
  },
  {
   "cell_type": "code",
   "execution_count": null,
   "metadata": {},
   "outputs": [],
   "source": [
    "output = []\n",
    "for settings in setups:\n",
    "    simulation = Simulation(settings)\n",
    "    output.append(simulation.run())"
   ]
  },
  {
   "cell_type": "code",
   "execution_count": null,
   "metadata": {},
   "outputs": [],
   "source": [
    "figsize = (12, 12)\n",
    "fig, axs = plt.subplots(3, 3, figsize=figsize)\n",
    "\n",
    "linewidths = {\n",
    "    100 * si.centimetre / si.second: 3,\n",
    "    50 * si.centimetre / si.second: 2,\n",
    "    .2 * si.centimetre / si.second: 1\n",
    "}\n",
    "\n",
    "r_label = \"r [μm]\"\n",
    "r_unit = si.micrometre\n",
    "\n",
    "S_ticks = (-0.5, 0, 0.5)\n",
    "S_label = \"S [%]\"\n",
    "S_unit = 0.01\n",
    "\n",
    "z_label = \"z [m]\"\n",
    "z_unit = si.metre\n",
    "\n",
    "for idx, output_item in enumerate(output):\n",
    "    linewidth = linewidths[setups[idx].w_avg]\n",
    "    \n",
    "    if setups[idx].N_STP == 50 / si.centimetre**3 and setups[idx].r_dry == 0.1 * si.micrometre:\n",
    "        col_idx = 0\n",
    "    elif setups[idx].N_STP == 500 / si.centimetre**3 and setups[idx].r_dry == 0.1 * si.micrometre:\n",
    "        col_idx = 1\n",
    "    elif setups[idx].N_STP == 50 / si.centimetre**3 and setups[idx].r_dry == 0.05 * si.micrometre:\n",
    "        col_idx = 2\n",
    "    else:\n",
    "        assert False\n",
    "        \n",
    "    scale = lambda arg, unit: [x / unit for x in arg]\n",
    "    split = lambda arg1, arg2: (arg1[0:np.argmax(arg2) + 1], arg1[np.argmax(arg2):-1])\n",
    "\n",
    "    z = scale(output_item[\"z\"], z_unit)\n",
    "    r = scale(output_item[\"r\"], r_unit)\n",
    "    S = scale(output_item[\"S\"], S_unit)\n",
    "\n",
    "    z1, z2 = split(z, z)\n",
    "    S1, S2 = split(S, z)\n",
    "    r1, r2 = split(r, z)\n",
    "\n",
    "    axs[0][col_idx].plot(S1, z1, color='black', linewidth=linewidth, label=setups[idx].w_avg)\n",
    "    axs[0][col_idx].plot(S2, z2, color='orange', linewidth=linewidth)\n",
    "    axs[0][col_idx].grid()\n",
    "    axs[0][col_idx].set_xlim([-1, 1])\n",
    "    axs[0][col_idx].legend()\n",
    "    axs[0][col_idx].set_xticks(S_ticks)\n",
    "    axs[0][col_idx].set_xlabel(S_label)\n",
    "    axs[0][col_idx].set_ylabel(z_label)\n",
    "\n",
    "    axs[1][col_idx].plot(r1, S1, color='black', linewidth=linewidth)\n",
    "    axs[1][col_idx].plot(r2, S2, color='orange', linewidth=linewidth)\n",
    "    axs[1][col_idx].grid()\n",
    "    axs[1][col_idx].set_ylim([-1, 1])\n",
    "    axs[1][col_idx].set_xscale('log')\n",
    "    axs[1][col_idx].set_yticks(S_ticks)\n",
    "    axs[1][col_idx].set_xlabel(r_label)\n",
    "    axs[1][col_idx].set_ylabel(S_label)\n",
    "\n",
    "    axs[2][col_idx].plot(r1, z1, color='black', linewidth=linewidth)\n",
    "    axs[2][col_idx].plot(r2, z2, color='orange', linewidth=linewidth)\n",
    "    axs[2][col_idx].grid()\n",
    "    axs[2][col_idx].set_ylim([25, 75])\n",
    "    axs[2][col_idx].set_xscale('log')\n",
    "    axs[2][col_idx].set_xlabel(r_label)\n",
    "    axs[2][col_idx].set_ylabel(z_label)\n",
    "\n",
    "show_plot('figs.pdf')"
   ]
  },
  {
   "cell_type": "code",
   "execution_count": null,
   "metadata": {},
   "outputs": [],
   "source": []
  }
 ],
 "metadata": {
  "kernelspec": {
   "display_name": "Python 3 (ipykernel)",
   "language": "python",
   "name": "python3"
  },
  "language_info": {
   "codemirror_mode": {
    "name": "ipython",
    "version": 3
   },
   "file_extension": ".py",
   "mimetype": "text/x-python",
   "name": "python",
   "nbconvert_exporter": "python",
   "pygments_lexer": "ipython3",
   "version": "3.8.9"
  }
 },
 "nbformat": 4,
 "nbformat_minor": 4
}
