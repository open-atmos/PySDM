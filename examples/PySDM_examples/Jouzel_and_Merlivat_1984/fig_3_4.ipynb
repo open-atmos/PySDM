{
 "cells": [
  {
   "metadata": {},
   "cell_type": "markdown",
   "source": [
    "[![preview notebook](https://img.shields.io/static/v1?label=render%20on&logo=github&color=87ce3e&message=GitHub)](https://github.com/open-atmos/PySDM/blob/main/examples/PySDM_examples/Jouzel_and_Merlivat_1984/fig_3_4.ipynb)\n",
    "[![launch on mybinder.org](https://mybinder.org/badge_logo.svg)](https://mybinder.org/v2/gh/open-atmos/PySDM.git/main?urlpath=lab/tree/examples/PySDM_examples/Jouzel_and_Merlivat_1984/fig_3_4.ipynb)\n",
    "[![launch on Colab](https://colab.research.google.com/assets/colab-badge.svg)](https://colab.research.google.com/github/open-atmos/PySDM/blob/main/examples/PySDM_examples/Jouzel_and_Merlivat_1984/fig_3_4.ipynb)"
   ],
   "id": "e9c44968693e12ce"
  },
  {
   "metadata": {},
   "cell_type": "markdown",
   "source": "# based on [Jouzel and Merlivat 1984](https://doi.org/10.1029/JD089iD07p11749)",
   "id": "ced0dfc789d02569"
  },
  {
   "metadata": {
    "ExecuteTime": {
     "end_time": "2025-05-09T23:47:24.133724Z",
     "start_time": "2025-05-09T23:47:24.130471Z"
    }
   },
   "cell_type": "code",
   "source": [
    "import sys\n",
    "if 'google.colab' in sys.modules:\n",
    "    !pip --quiet install open-atmos-jupyter-utils\n",
    "    from open_atmos_jupyter_utils import pip_install_on_colab\n",
    "    pip_install_on_colab('PySDM-examples')"
   ],
   "id": "5941830af852d933",
   "outputs": [],
   "execution_count": 1
  },
  {
   "metadata": {
    "ExecuteTime": {
     "end_time": "2025-05-09T23:47:40.809519Z",
     "start_time": "2025-05-09T23:47:38.694575Z"
    }
   },
   "cell_type": "code",
   "source": [
    "from matplotlib import pyplot\n",
    "import numpy as np\n",
    "\n",
    "from PySDM import Formulae\n",
    "from PySDM_examples.Jouzel_and_Merlivat_1984.thermodynamic_profiles import ice_saturation_curve_4\n",
    "from open_atmos_jupyter_utils import show_plot"
   ],
   "id": "563b75a5c0b6bf18",
   "outputs": [],
   "execution_count": 2
  },
  {
   "metadata": {},
   "cell_type": "code",
   "outputs": [],
   "execution_count": null,
   "source": [
    "formulae = Formulae()\n",
    "svp = formulae.saturation_vapour_pressure\n",
    "C2K = formulae.trivia.C2K\n",
    "K2C = formulae.trivia.K2C\n",
    "\n",
    "n_points = 100\n",
    "T_0_50 = C2K(np.linspace(0.0, -50, n_points))\n",
    "Si = svp.pvs_water(T_0_50) / svp.pvs_ice(T_0_50)"
   ],
   "id": "85ef409a5895fbd8"
  },
  {
   "metadata": {},
   "cell_type": "code",
   "outputs": [],
   "execution_count": null,
   "source": [
    "show_plot('d_excess')\n",
    "pyplot.plot(\n",
    "    in_unit(delta_18O, PER_MILLE),\n",
    "    in_unit(delta_2H, PER_MILLE)\n",
    ")\n",
    "pyplot.gca().set(\n",
    "    xlabel='delta_18O per mille',\n",
    "    ylabel='delta_2H per mille'\n",
    ")\n",
    "pyplot.grid()\n",
    "show_plot('fig_2_j_and_m')"
   ],
   "id": "bf306946dabe9daf"
  },
  {
   "metadata": {},
   "cell_type": "code",
   "outputs": [],
   "execution_count": null,
   "source": [
    "pyplot.plot(\n",
    "    formulae.trivia.K2C(res.t),\n",
    "    in_unit(delta_18O,PER_MILLE)\n",
    ")\n",
    "pyplot.gca().set(\n",
    "    xlabel = 'temperature (C)',\n",
    "    ylabel = 'delta_18O per mille'\n",
    ")\n",
    "pyplot.grid()\n",
    "show_plot('fig_3_j_and_m')"
   ],
   "id": "b95893a3cc9fb41f"
  }
 ],
 "metadata": {
  "kernelspec": {
   "display_name": "Python 3",
   "language": "python",
   "name": "python3"
  },
  "language_info": {
   "codemirror_mode": {
    "name": "ipython",
    "version": 2
   },
   "file_extension": ".py",
   "mimetype": "text/x-python",
   "name": "python",
   "nbconvert_exporter": "python",
   "pygments_lexer": "ipython2",
   "version": "2.7.6"
  }
 },
 "nbformat": 4,
 "nbformat_minor": 5
}
