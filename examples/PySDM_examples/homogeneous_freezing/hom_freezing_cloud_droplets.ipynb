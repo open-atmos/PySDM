{
 "cells": [
  {
   "cell_type": "code",
   "id": "initial_id",
   "metadata": {
    "collapsed": true,
    "ExecuteTime": {
     "end_time": "2025-07-07T15:34:21.020715Z",
     "start_time": "2025-07-07T15:33:46.872523Z"
    }
   },
   "source": [
    "import numpy as np\n",
    "from PySDM.physics.constants import si\n",
    "from settings import Settings\n",
    "from simulation import Simulation\n",
    "from PySDM import Formulae\n",
    "import time"
   ],
   "outputs": [],
   "execution_count": 1
  },
  {
   "metadata": {
    "ExecuteTime": {
     "end_time": "2025-07-07T15:34:22.904776Z",
     "start_time": "2025-07-07T15:34:22.872834Z"
    }
   },
   "cell_type": "code",
   "source": [
    "hom_nucleation_rate = \"Koop_Correction\"\n",
    "formulae = Formulae(\n",
    "            particle_shape_and_density=\"MixedPhaseSpheres\",\n",
    "            homogeneous_ice_nucleation_rate=hom_nucleation_rate,\n",
    "            seed=time.time_ns()\n",
    "        )"
   ],
   "id": "e06f6cde752da42",
   "outputs": [],
   "execution_count": 2
  },
  {
   "metadata": {
    "ExecuteTime": {
     "end_time": "2025-07-07T15:35:48.343520Z",
     "start_time": "2025-07-07T15:35:45.064613Z"
    }
   },
   "cell_type": "code",
   "source": [
    "\"\"\"  basic setup for homogeneous freezing of pure-liquid droplets \"\"\"\n",
    "\"\"\"\n",
    "Ensemble for:\n",
    "1. n_sd\n",
    "2. w\n",
    "3. r & n_c\n",
    "4. use diffrent hom. nucleation rates\n",
    "Questions:\n",
    "- where to store backend\n",
    "- need to restart kernel if change in files outside notebook\n",
    "\"\"\"\n",
    "n_sd = 100\n",
    "number_concentration_droplets = 1e4 / si.meter**3\n",
    "mean_radius_droplets = 50 * si.micrometer\n",
    "\n",
    "\n",
    "updraft = 1 * si.meter / si.second\n",
    "initial_temperature =  formulae.trivia.C2K( -25. )\n",
    "time_step = 0.1 * si.second\n",
    "setting = Settings(\n",
    "    formulae = formulae,\n",
    "    n_sd = n_sd,\n",
    "    w_updraft = updraft,\n",
    "    T0 = initial_temperature,\n",
    "    dt = time_step,\n",
    "    N_dv_droplet_distribution = number_concentration_droplets,\n",
    "    r_mean_droplet_distribution = mean_radius_droplets,\n",
    "    type_droplet_distribution = \"monodisperse\",\n",
    "    RH_0=1.,\n",
    "    condensation_enable = False,\n",
    "    deposition_enable = False,\n",
    ")\n",
    "\n",
    "simulation = Simulation(setting)\n"
   ],
   "id": "4d6a0d9ca45d5029",
   "outputs": [],
   "execution_count": 4
  },
  {
   "metadata": {
    "ExecuteTime": {
     "end_time": "2025-07-07T15:36:23.021004Z",
     "start_time": "2025-07-07T15:36:01.833215Z"
    }
   },
   "cell_type": "code",
   "source": "output = simulation.run()",
   "id": "6780cc4883eeb8f1",
   "outputs": [
    {
     "name": "stdout",
     "output_type": "stream",
     "text": [
      "9.99999999999998 248.05230144943604 1.8723617923038424e-05 0.0\n",
      "20.000000000000014 247.95460289875845 1.872361795937764e-05 0.0\n",
      "30.000000000000156 247.85690434796695 1.8723617995745507e-05 0.0\n",
      "40.0000000000003 247.7592057970615 1.872361803214206e-05 0.0\n",
      "50.00000000000044 247.66150724604208 1.8723618068567325e-05 0.0\n",
      "60.00000000000058 247.5638086949085 1.872361810502134e-05 0.0\n",
      "70.0000000000003 247.46611014366061 1.8723618141504136e-05 0.0\n",
      "79.99999999999973 247.3684115922985 1.8723618178015752e-05 0.0\n",
      "89.99999999999916 247.270713040822 1.4229949843062741e-05 4.4936683714935055e-06\n",
      "99.9999999999986 247.17301448923106 0.0 1.872361825112558e-05\n",
      "break due to LWC\n"
     ]
    }
   ],
   "execution_count": 5
  },
  {
   "metadata": {
    "ExecuteTime": {
     "end_time": "2025-07-07T15:38:55.522400Z",
     "start_time": "2025-07-07T15:38:55.517168Z"
    }
   },
   "cell_type": "code",
   "source": [
    "print(output['IWC'])\n",
    "print(output['rs'])\n",
    "print(output['ri'])\n",
    "print(output['T'])\n",
    "print(output['T_frz'])"
   ],
   "id": "fa9661d69d914d41",
   "outputs": [
    {
     "name": "stdout",
     "output_type": "stream",
     "text": [
      "[np.float64(0.0), np.float64(0.0), np.float64(0.0), np.float64(0.0), np.float64(0.0), np.float64(0.0), np.float64(0.0), np.float64(0.0), np.float64(0.0), np.float64(4.4936683714935055e-06), np.float64(1.872361825112558e-05)]\n",
      "[np.float64(49.99999999999994), np.float64(49.99999999999994), np.float64(49.99999999999994), np.float64(49.99999999999994), np.float64(49.99999999999994), np.float64(49.99999999999994), np.float64(49.99999999999994), np.float64(49.99999999999994), np.float64(49.99999999999994), np.float64(49.99999999999997), np.float64(0.0)]\n",
      "[np.float64(0.0), np.float64(0.0), np.float64(0.0), np.float64(0.0), np.float64(0.0), np.float64(0.0), np.float64(0.0), np.float64(0.0), np.float64(0.0), np.float64(50.00000000000005), np.float64(49.99999999999994)]\n",
      "[np.float64(248.14999999999992), np.float64(248.05230144943604), np.float64(247.95460289875845), np.float64(247.85690434796695), np.float64(247.7592057970615), np.float64(247.66150724604208), np.float64(247.5638086949085), np.float64(247.46611014366061), np.float64(247.3684115922985), np.float64(247.270713040822), np.float64(247.17301448923106)]\n",
      "[[nan, nan, nan, nan, nan, nan, nan, nan, nan, nan, nan, nan, nan, nan, nan, nan, nan, nan, nan, nan, nan, nan, nan, nan, nan, nan, nan, nan, nan, nan, nan, nan, nan, nan, nan, nan, nan, nan, nan, nan, nan, nan, nan, nan, nan, nan, nan, nan, nan, nan, nan, nan, nan, nan, nan, nan, nan, nan, nan, nan, nan, nan, nan, nan, nan, nan, nan, nan, nan, nan, nan, nan, nan, nan, nan, nan, nan, nan, nan, nan, nan, nan, nan, nan, nan, nan, nan, nan, nan, nan, nan, nan, nan, nan, nan, nan, nan, nan, nan, nan], [nan, nan, nan, nan, nan, nan, nan, nan, nan, nan, nan, nan, nan, nan, nan, nan, nan, nan, nan, nan, nan, nan, nan, nan, nan, nan, nan, nan, nan, nan, nan, nan, nan, nan, nan, nan, nan, nan, nan, nan, nan, nan, nan, nan, nan, nan, nan, nan, nan, nan, nan, nan, nan, nan, nan, nan, nan, nan, nan, nan, nan, nan, nan, nan, nan, nan, nan, nan, nan, nan, nan, nan, nan, nan, nan, nan, nan, nan, nan, nan, nan, nan, nan, nan, nan, nan, nan, nan, nan, nan, nan, nan, nan, nan, nan, nan, nan, nan, nan, nan], [nan, nan, nan, nan, nan, nan, nan, nan, nan, nan, nan, nan, nan, nan, nan, nan, nan, nan, nan, nan, nan, nan, nan, nan, nan, nan, nan, nan, nan, nan, nan, nan, nan, nan, nan, nan, nan, nan, nan, nan, nan, nan, nan, nan, nan, nan, nan, nan, nan, nan, nan, nan, nan, nan, nan, nan, nan, nan, nan, nan, nan, nan, nan, nan, nan, nan, nan, nan, nan, nan, nan, nan, nan, nan, nan, nan, nan, nan, nan, nan, nan, nan, nan, nan, nan, nan, nan, nan, nan, nan, nan, nan, nan, nan, nan, nan, nan, nan, nan, nan], [nan, nan, nan, nan, nan, nan, nan, nan, nan, nan, nan, nan, nan, nan, nan, nan, nan, nan, nan, nan, nan, nan, nan, nan, nan, nan, nan, nan, nan, nan, nan, nan, nan, nan, nan, nan, nan, nan, nan, nan, nan, nan, nan, nan, nan, nan, nan, nan, nan, nan, nan, nan, nan, nan, nan, nan, nan, nan, nan, nan, nan, nan, nan, nan, nan, nan, nan, nan, nan, nan, nan, nan, nan, nan, nan, nan, nan, nan, nan, nan, nan, nan, nan, nan, nan, nan, nan, nan, nan, nan, nan, nan, nan, nan, nan, nan, nan, nan, nan, nan], [nan, nan, nan, nan, nan, nan, nan, nan, nan, nan, nan, nan, nan, nan, nan, nan, nan, nan, nan, nan, nan, nan, nan, nan, nan, nan, nan, nan, nan, nan, nan, nan, nan, nan, nan, nan, nan, nan, nan, nan, nan, nan, nan, nan, nan, nan, nan, nan, nan, nan, nan, nan, nan, nan, nan, nan, nan, nan, nan, nan, nan, nan, nan, nan, nan, nan, nan, nan, nan, nan, nan, nan, nan, nan, nan, nan, nan, nan, nan, nan, nan, nan, nan, nan, nan, nan, nan, nan, nan, nan, nan, nan, nan, nan, nan, nan, nan, nan, nan, nan], [nan, nan, nan, nan, nan, nan, nan, nan, nan, nan, nan, nan, nan, nan, nan, nan, nan, nan, nan, nan, nan, nan, nan, nan, nan, nan, nan, nan, nan, nan, nan, nan, nan, nan, nan, nan, nan, nan, nan, nan, nan, nan, nan, nan, nan, nan, nan, nan, nan, nan, nan, nan, nan, nan, nan, nan, nan, nan, nan, nan, nan, nan, nan, nan, nan, nan, nan, nan, nan, nan, nan, nan, nan, nan, nan, nan, nan, nan, nan, nan, nan, nan, nan, nan, nan, nan, nan, nan, nan, nan, nan, nan, nan, nan, nan, nan, nan, nan, nan, nan], [nan, nan, nan, nan, nan, nan, nan, nan, nan, nan, nan, nan, nan, nan, nan, nan, nan, nan, nan, nan, nan, nan, nan, nan, nan, nan, nan, nan, nan, nan, nan, nan, nan, nan, nan, nan, nan, nan, nan, nan, nan, nan, nan, nan, nan, nan, nan, nan, nan, nan, nan, nan, nan, nan, nan, nan, nan, nan, nan, nan, nan, nan, nan, nan, nan, nan, nan, nan, nan, nan, nan, nan, nan, nan, nan, nan, nan, nan, nan, nan, nan, nan, nan, nan, nan, nan, nan, nan, nan, nan, nan, nan, nan, nan, nan, nan, nan, nan, nan, nan], [nan, nan, nan, nan, nan, nan, nan, nan, nan, nan, nan, nan, nan, nan, nan, nan, nan, nan, nan, nan, nan, nan, nan, nan, nan, nan, nan, nan, nan, nan, nan, nan, nan, nan, nan, nan, nan, nan, nan, nan, nan, nan, nan, nan, nan, nan, nan, nan, nan, nan, nan, nan, nan, nan, nan, nan, nan, nan, nan, nan, nan, nan, nan, nan, nan, nan, nan, nan, nan, nan, nan, nan, nan, nan, nan, nan, nan, nan, nan, nan, nan, nan, nan, nan, nan, nan, nan, nan, nan, nan, nan, nan, nan, nan, nan, nan, nan, nan, nan, nan], [nan, nan, nan, nan, nan, nan, nan, nan, nan, nan, nan, nan, nan, nan, nan, nan, nan, nan, nan, nan, nan, nan, nan, nan, nan, nan, nan, nan, nan, nan, nan, nan, nan, nan, nan, nan, nan, nan, nan, nan, nan, nan, nan, nan, nan, nan, nan, nan, nan, nan, nan, nan, nan, nan, nan, nan, nan, nan, nan, nan, nan, nan, nan, nan, nan, nan, nan, nan, nan, nan, nan, nan, nan, nan, nan, nan, nan, nan, nan, nan, nan, nan, nan, nan, nan, nan, nan, nan, nan, nan, nan, nan, nan, nan, nan, nan, nan, nan, nan, nan], [nan, nan, nan, nan, nan, nan, nan, nan, nan, nan, nan, nan, nan, nan, nan, nan, nan, nan, nan, nan, nan, nan, nan, nan, nan, nan, nan, nan, nan, nan, nan, nan, nan, nan, nan, nan, nan, nan, nan, nan, nan, nan, nan, nan, nan, nan, nan, nan, nan, nan, nan, nan, nan, nan, nan, nan, nan, nan, nan, nan, nan, nan, nan, nan, nan, nan, nan, nan, nan, nan, nan, nan, nan, nan, nan, nan, nan, nan, nan, nan, nan, nan, nan, nan, nan, nan, nan, nan, nan, nan, nan, nan, nan, nan, nan, nan, nan, nan, nan, nan], [nan, nan, nan, nan, nan, nan, nan, nan, nan, nan, nan, nan, nan, nan, nan, nan, nan, nan, nan, nan, nan, nan, nan, nan, nan, nan, nan, nan, nan, nan, nan, nan, nan, nan, nan, nan, nan, nan, nan, nan, nan, nan, nan, nan, nan, nan, nan, nan, nan, nan, nan, nan, nan, nan, nan, nan, nan, nan, nan, nan, nan, nan, nan, nan, nan, nan, nan, nan, nan, nan, nan, nan, nan, nan, nan, nan, nan, nan, nan, nan, nan, nan, nan, nan, nan, nan, nan, nan, nan, nan, nan, nan, nan, nan, nan, nan, nan, nan, nan, nan]]\n"
     ]
    }
   ],
   "execution_count": 14
  }
 ],
 "metadata": {
  "kernelspec": {
   "display_name": "Python 3",
   "language": "python",
   "name": "python3"
  },
  "language_info": {
   "codemirror_mode": {
    "name": "ipython",
    "version": 2
   },
   "file_extension": ".py",
   "mimetype": "text/x-python",
   "name": "python",
   "nbconvert_exporter": "python",
   "pygments_lexer": "ipython2",
   "version": "2.7.6"
  }
 },
 "nbformat": 4,
 "nbformat_minor": 5
}
