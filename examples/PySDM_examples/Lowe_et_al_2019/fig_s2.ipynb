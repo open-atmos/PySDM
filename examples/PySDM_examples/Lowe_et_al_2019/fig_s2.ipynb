{
 "cells": [
  {
   "cell_type": "markdown",
   "metadata": {},
   "source": [
    "[![View notebook](https://img.shields.io/static/v1?label=render%20on&logo=github&color=87ce3e&message=GitHub)](https://github.com/open-atmos/PySDM/blob/main/examples/PySDM_examples/Lowe_et_al_2019/fig_s2.ipynb)\n",
    "[![Binder](https://mybinder.org/badge_logo.svg)](https://mybinder.org/v2/gh/open-atmos/PySDM.git/main?urlpath=lab/tree/examples/PySDM_examples/Lowe_et_al_2019/fig_s2.ipynb)\n",
    "[![Open In Colab](https://colab.research.google.com/assets/colab-badge.svg)](https://colab.research.google.com/github/open-atmos/PySDM/blob/main/examples/PySDM_examples/Lowe_et_al_2019/fig_s2.ipynb)"
   ]
  },
  {
   "cell_type": "markdown",
   "metadata": {},
   "source": [
    "#### based on Fig. S2 from Lowe et al. 2019 (Nature Comm.)  \"_Key drivers of cloud response to surface-active organics_\"   \n",
    "https://doi.org/10.1038/s41467-019-12982-0"
   ]
  },
  {
   "cell_type": "code",
   "execution_count": null,
   "metadata": {},
   "outputs": [],
   "source": [
    "import sys\n",
    "if 'google.colab' in sys.modules:\n",
    "    !pip --quiet install open-atmos-jupyter-utils\n",
    "    from open_atmos_jupyter_utils import pip_install_on_colab\n",
    "    pip_install_on_colab('PySDM-examples')"
   ]
  },
  {
   "cell_type": "code",
   "execution_count": null,
   "metadata": {},
   "outputs": [],
   "source": [
    "import os\n",
    "from contextlib import contextmanager\n",
    "\n",
    "import numba\n",
    "\n",
    "from PySDM_examples.Lowe_et_al_2019 import Settings, Simulation\n",
    "from PySDM_examples.Lowe_et_al_2019.aerosol_code import AerosolBoreal, AerosolMarine, AerosolNascent\n",
    "from PySDM_examples.Lowe_et_al_2019.constants_def import LOWE_CONSTS\n",
    "from open_atmos_jupyter_utils import show_plot\n",
    "\n",
    "from PySDM import Formulae\n",
    "from PySDM.initialisation.sampling import spectral_sampling as spec_sampling\n",
    "from PySDM.initialisation.spectra import Sum\n",
    "from PySDM.physics import si, in_unit\n",
    "\n",
    "import numpy as np\n",
    "from joblib import Parallel, delayed, parallel_backend\n",
    "\n",
    "from matplotlib import pyplot"
   ]
  },
  {
   "cell_type": "code",
   "execution_count": null,
   "metadata": {},
   "outputs": [],
   "source": [
    "@contextmanager\n",
    "def numba_threading_disabled():\n",
    "    numba_original_num_threads = numba.get_num_threads()\n",
    "    numba.set_num_threads(1)\n",
    "    try:\n",
    "        yield\n",
    "    finally:\n",
    "        numba.set_num_threads(numba_original_num_threads)"
   ]
  },
  {
   "cell_type": "code",
   "execution_count": null,
   "metadata": {},
   "outputs": [],
   "source": [
    "CI = 'CI' in os.environ\n",
    "nRes = 10\n",
    "updraft_list = np.linspace(0.2, 2.4, 2 if CI else nRes)\n",
    "models = ('Constant', 'CompressedFilmOvadnevaite')\n",
    "\n",
    "FORMULAE = Formulae(\n",
    "    constants=LOWE_CONSTS,\n",
    ")\n",
    "WATER_MOLAR_VOLUME = FORMULAE.constants.Mv / FORMULAE.constants.rho_w\n",
    "aerosols = (\n",
    "    AerosolMarine(water_molar_volume=WATER_MOLAR_VOLUME), \n",
    "    AerosolBoreal(water_molar_volume=WATER_MOLAR_VOLUME), \n",
    "    AerosolNascent(water_molar_volume=WATER_MOLAR_VOLUME)\n",
    ")"
   ]
  },
  {
   "cell_type": "code",
   "execution_count": null,
   "metadata": {},
   "outputs": [],
   "source": [
    "def compute(keyname, settings):\n",
    "    simulation = Simulation(settings)\n",
    "    out = simulation.run()\n",
    "    out['updraft'] = settings.w\n",
    "    out['org_fraction'] = settings.aerosol.modes[0]['f_org']\n",
    "    out['color'] = settings.aerosol.color\n",
    "    out['Na_tot'] = Sum(\n",
    "            tuple(settings.aerosol.modes[i]['spectrum']\n",
    "                  for i in range(len(settings.aerosol.modes)))).norm_factor\n",
    "    return keyname, out\n",
    "\n",
    "print(f'tasks scheduled: {len(models) * len(aerosols) * len(updraft_list)}')\n",
    "print('updrafts:', updraft_list)\n",
    "\n",
    "with numba_threading_disabled():\n",
    "    with parallel_backend(backend='loky', n_jobs=-2):\n",
    "        output = dict(Parallel(verbose=0)(\n",
    "            delayed(compute)(f\"w{w:.2f}_{aerosol.__class__.__name__}_{model}\", Settings(\n",
    "                dz = 10 * si.m if CI else 1 * si.m,\n",
    "                n_sd_per_mode = 10 if CI else 100,\n",
    "                model = model,\n",
    "                aerosol = aerosol,\n",
    "                w = w * si.m / si.s,\n",
    "                spectral_sampling = spec_sampling.ConstantMultiplicity,\n",
    "            ))\n",
    "            for w in updraft_list\n",
    "            for model in models\n",
    "            for aerosol in aerosols\n",
    "        ))"
   ]
  },
  {
   "cell_type": "code",
   "execution_count": null,
   "metadata": {},
   "outputs": [],
   "source": [
    "fig, axes = pyplot.subplots(1, 3, figsize=(10,3))\n",
    "\n",
    "for key, out_item in output.items():\n",
    "    ll = \"_\".join(key.split(\"_\", maxsplit=1)[1:]).replace(\"Aerosol\",\"\").replace(\"CompressedFilm\",\"\")\n",
    "    cc, disp = {\n",
    "        \"Marine\": (\"b\", -0.1),\n",
    "        \"Boreal\": (\"g\", -0.05),\n",
    "        \"Nascent\": (\"r\", 0.0),\n",
    "    }[ll.split(\"_\", maxsplit=1)[0]]\n",
    "    w, a, h = {\n",
    "        \"Constant\": (0.05, 0.4, \"\"),\n",
    "        \"Ovadnevaite\": (0.025, 0.6, \"//\"),\n",
    "    }[ll.split(\"_\", maxsplit=1)[1]]\n",
    "\n",
    "    ax = axes[0]\n",
    "    label = ll if key.split(\"_\", maxsplit=1)[0] == \"w0.20\" else ''\n",
    "    common_kwargs = {\n",
    "        'color': cc,\n",
    "        'width': w,\n",
    "        'alpha': a,\n",
    "        'hatch': h\n",
    "    }\n",
    "\n",
    "    ax.bar(\n",
    "        out_item[\"updraft\"] + disp,\n",
    "        in_unit(out_item[\"lwp\"], si.g / si.m**2),\n",
    "        **common_kwargs, label=label\n",
    "    )\n",
    "    if label != '':\n",
    "        ax.legend(loc = 0) #bbox_to_anchor=(5, 1))\n",
    "\n",
    "    ax.set_xlabel(\"w [m s$^{-1}$]\")\n",
    "    ax.set_ylabel(\"LWP [g m$^{-2}$]\")\n",
    "    ax.set_ylim(27,35) # 27,33\n",
    "\n",
    "    ax = axes[1]\n",
    "    ax.bar(out_item[\"updraft\"] + disp, out_item[\"tau\"], **common_kwargs)\n",
    "    ax.set_xlabel(\"w [m s$^{-1}$]\")\n",
    "    ax.set_ylabel(\"$\\\\tau$, optical depth\")\n",
    "    ax.set_ylim(0,13) # 0,11\n",
    "\n",
    "    ax = axes[2]\n",
    "    ax.bar(out_item[\"updraft\"] + disp, out_item[\"albedo\"], **common_kwargs)\n",
    "    ax.set_xlabel(\"w [m s$^{-1}$]\")\n",
    "    ax.set_ylabel(\"$\\\\alpha$, cloud albedo\")\n",
    "    ax.set_ylim(0,0.5) # 0,0.45\n",
    "\n",
    "pyplot.tight_layout()\n",
    "show_plot()"
   ]
  },
  {
   "cell_type": "code",
   "execution_count": null,
   "metadata": {},
   "outputs": [],
   "source": []
  }
 ],
 "metadata": {
  "kernelspec": {
   "display_name": "Python 3 (ipykernel)",
   "language": "python",
   "name": "python3"
  },
  "language_info": {
   "codemirror_mode": {
    "name": "ipython",
    "version": 3
   },
   "file_extension": ".py",
   "mimetype": "text/x-python",
   "name": "python",
   "nbconvert_exporter": "python",
   "pygments_lexer": "ipython3",
   "version": "3.10.9"
  },
  "vscode": {
   "interpreter": {
    "hash": "b14f34a08619f4a218d80d7380beed3f0c712c89ff93e7183219752d640ed427"
   }
  }
 },
 "nbformat": 4,
 "nbformat_minor": 4
}
