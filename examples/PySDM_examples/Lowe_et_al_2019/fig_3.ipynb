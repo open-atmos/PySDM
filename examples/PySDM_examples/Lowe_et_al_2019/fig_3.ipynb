{
 "cells": [
  {
   "cell_type": "markdown",
   "metadata": {},
   "source": [
    "[![nbviewer](https://raw.githubusercontent.com/jupyter/design/master/logos/Badges/nbviewer_badge.svg)](https://nbviewer.jupyter.org/github/open-atmos/PySDM/blob/main/examples/PySDM_examples/Lowe_et_al_2019/fig_3.ipynb)\n",
    "[![Binder](https://mybinder.org/badge_logo.svg)](https://mybinder.org/v2/gh/open-atmos/PySDM.git/main?urlpath=examples/PySDM_examples/Lowe_et_al_2019/fig_3.ipynb)\n",
    "[![Open In Colab](https://colab.research.google.com/assets/colab-badge.svg)](https://colab.research.google.com/github/open-atmos/PySDM/blob/main/examples/PySDM_examples/Lowe_et_al_2019/fig_3.ipynb)"
   ]
  },
  {
   "cell_type": "markdown",
   "metadata": {},
   "source": [
    "#### based on Fig. 3 from Lowe et al. 2019 (Nature Comm.)  \"_Key drivers of cloud response to surface-active organics_\"   \n",
    "https://doi.org/10.1038/s41467-019-12982-0"
   ]
  },
  {
   "cell_type": "code",
   "execution_count": null,
   "metadata": {},
   "outputs": [],
   "source": [
    "import sys\n",
    "if 'google.colab' in sys.modules:\n",
    "    !pip --quiet install open-atmos-jupyter-utils\n",
    "    from open_atmos_jupyter_utils import pip_install_on_colab\n",
    "    pip_install_on_colab('PySDM-examples')"
   ]
  },
  {
   "cell_type": "code",
   "execution_count": null,
   "metadata": {},
   "outputs": [],
   "source": [
    "from PySDM_examples.Lowe_et_al_2019 import Settings, Simulation\n",
    "from PySDM_examples.Lowe_et_al_2019.aerosol_code import AerosolMarine, AerosolBoreal\n",
    "\n",
    "from PySDM.initialisation.sampling import spectral_sampling as spec_sampling\n",
    "from PySDM.physics import si\n",
    "\n",
    "import numpy as np\n",
    "import os\n",
    "from joblib import Parallel, delayed, parallel_backend"
   ]
  },
  {
   "cell_type": "code",
   "execution_count": null,
   "metadata": {},
   "outputs": [],
   "source": [
    "CI = 'CI' in os.environ\n",
    "\n",
    "nRes = 4\n",
    "updraft_list = np.geomspace(0.1, 10, 2 if CI else nRes)\n",
    "forg_list = np.linspace(0.05, 0.95, 2 if CI else nRes)\n",
    "\n",
    "subplot_list = [\"a\",\"b\",\"c\",\"d\"]\n",
    "models = ('Constant', 'CompressedFilmOvadnevaite')\n",
    "\n",
    "Acc = {\"a\": 30, \"b\": 134, \"c\": 160, \"d\": 540}\n",
    "\n",
    "consts = {\"delta_min\":0.1, \n",
    "          \"MAC\":1, \n",
    "          \"HAC\":1, \n",
    "          \"c_pd\":1006 * si.joule / si.kilogram / si.kelvin, \n",
    "          \"g_std\":9.81 * si.metre / si.second ** 2,\n",
    "          \"scipy_ode_solver\":False\n",
    "          }"
   ]
  },
  {
   "cell_type": "code",
   "execution_count": null,
   "metadata": {},
   "outputs": [],
   "source": [
    "def compute(key, settings):\n",
    "    simulation = Simulation(settings)\n",
    "    out = simulation.run()\n",
    "    out['updraft'] = settings.w\n",
    "    out['org_fraction'] = settings.aerosol.modes[0]['f_org']\n",
    "    out['color'] = settings.aerosol.color\n",
    "    return key, out\n",
    "\n",
    "print(f'tasks scheduled: {len(models) * len(subplot_list) * len(forg_list) * len(updraft_list)}')\n",
    "print(updraft_list)\n",
    "with parallel_backend('loky', n_jobs=-1):\n",
    "    output = dict(Parallel(verbose=10)(\n",
    "        delayed(compute)(subplot+f\"_w{w:.2f}_f{Forg:.2f}_\"+model, Settings(\n",
    "            dz = 10 * si.m if CI else 1 * si.m,\n",
    "            n_sd_per_mode = 10 if CI else 50,\n",
    "            model = model,\n",
    "            aerosol = {\n",
    "                \"a\": AerosolMarine(Forg=Forg, Acc_N2=Acc[\"a\"]),\n",
    "                \"b\": AerosolMarine(Forg=Forg, Acc_N2=Acc[\"b\"]),\n",
    "                \"c\": AerosolBoreal(Forg=Forg, Acc_N2=Acc[\"c\"]),\n",
    "                \"d\": AerosolBoreal(Forg=Forg, Acc_N2=Acc[\"d\"])\n",
    "            }[subplot],\n",
    "            w = w * si.m / si.s,\n",
    "            spectral_sampling = spec_sampling.ConstantMultiplicity,\n",
    "            **consts\n",
    "        ))\n",
    "        for w in updraft_list\n",
    "        for Forg in forg_list\n",
    "        for subplot in subplot_list\n",
    "        for model in models\n",
    "    ))"
   ]
  },
  {
   "cell_type": "code",
   "execution_count": null,
   "metadata": {},
   "outputs": [],
   "source": [
    "from PySDM_examples.Lowe_et_al_2019.plot_helper import plot_contours\n",
    "plot_contours(subplot_list, updraft_list, forg_list, output, actfrac=False, save=False)\n",
    "plot_contours(subplot_list, updraft_list, forg_list, output, actfrac=True, save=False)\n",
    "\n",
    "# from PySDM_examples.Lowe_et_al_2019.plot_helper import plot_profiles\n",
    "# plot_profiles(subplot_list, updraft_list, forg_list, output, save=False)"
   ]
  }
 ],
 "metadata": {
  "kernelspec": {
   "display_name": "Python 3.9.7 ('pysdm')",
   "language": "python",
   "name": "python3"
  },
  "language_info": {
   "codemirror_mode": {
    "name": "ipython",
    "version": 3
   },
   "file_extension": ".py",
   "mimetype": "text/x-python",
   "name": "python",
   "nbconvert_exporter": "python",
   "pygments_lexer": "ipython3",
   "version": "3.9.7"
  },
  "vscode": {
   "interpreter": {
    "hash": "bd962dd91e1cacd3e3e7665b7c8bf16aaf00ede669e24e39bd4423e927038f82"
   }
  }
 },
 "nbformat": 4,
 "nbformat_minor": 4
}
