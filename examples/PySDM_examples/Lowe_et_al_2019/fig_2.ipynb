{
 "cells": [
  {
   "cell_type": "markdown",
   "metadata": {},
   "source": [
    "[![nbviewer](https://raw.githubusercontent.com/jupyter/design/master/logos/Badges/nbviewer_badge.svg)](https://nbviewer.jupyter.org/github/open-atmos/PySDM/blob/main/examples/PySDM_examples/Lowe_et_al_2019/fig_2.ipynb)\n",
    "[![Binder](https://mybinder.org/badge_logo.svg)](https://mybinder.org/v2/gh/open-atmos/PySDM.git/main?urlpath=examples/PySDM_examples/Lowe_et_al_2019/fig_2.ipynb)\n",
    "[![Open In Colab](https://colab.research.google.com/assets/colab-badge.svg)](https://colab.research.google.com/github/open-atmos/PySDM/blob/main/examples/PySDM_examples/Lowe_et_al_2019/fig_2.ipynb)"
   ]
  },
  {
   "cell_type": "markdown",
   "metadata": {},
   "source": [
    "#### based on Fig. 2 from Lowe et al. 2019 (Nature Comm.)  \"_Key drivers of cloud response to surface-active organics_\"   \n",
    "https://doi.org/10.1038/s41467-019-12982-0"
   ]
  },
  {
   "cell_type": "code",
   "execution_count": null,
   "metadata": {},
   "outputs": [],
   "source": [
    "import sys\n",
    "if 'google.colab' in sys.modules:\n",
    "    !pip --quiet install open-atmos-jupyter-utils\n",
    "    from open_atmos_jupyter_utils import pip_install_on_colab\n",
    "    pip_install_on_colab('PySDM-examples')"
   ]
  },
  {
   "cell_type": "code",
   "execution_count": null,
   "metadata": {},
   "outputs": [],
   "source": [
    "from PySDM_examples.Lowe_et_al_2019 import Settings, Simulation\n",
    "from PySDM_examples.Lowe_et_al_2019.aerosol_code import AerosolBoreal, AerosolMarine, AerosolNascent\n",
    "from open_atmos_jupyter_utils import show_plot\n",
    "from PySDM.initialisation.sampling import spectral_sampling as spec_sampling\n",
    "from PySDM.initialisation.spectra import Sum\n",
    "from PySDM.physics import si\n",
    "import numpy as np\n",
    "import matplotlib\n",
    "from matplotlib import pyplot"
   ]
  },
  {
   "cell_type": "code",
   "execution_count": null,
   "metadata": {},
   "outputs": [],
   "source": [
    "consts = {\"delta_min\":0.1, \n",
    "          \"MAC\":1, \n",
    "          \"HAC\":1, \n",
    "          \"c_pd\":1006 * si.joule / si.kilogram / si.kelvin, \n",
    "          \"g_std\":9.81 * si.m / si.s ** 2,\n",
    "          \"scipy_ode_solver\":False\n",
    "          }\n",
    "\n",
    "output = {}\n",
    "for aerosol in (AerosolMarine(), AerosolBoreal(), AerosolNascent()):\n",
    "    for model in ('Constant', 'CompressedFilmOvadnevaite'):\n",
    "        key = f\"{aerosol.__class__.__name__}-{model}\"\n",
    "        settings = Settings(\n",
    "            dz=0.1*si.m, n_sd_per_mode=200, \n",
    "            model=model,\n",
    "            aerosol=aerosol,\n",
    "            spectral_sampling=spec_sampling.ConstantMultiplicity,\n",
    "            **consts\n",
    "        )\n",
    "        simulation = Simulation(settings)\n",
    "        output[key] = simulation.run()\n",
    "        output[key]['color'] = aerosol.color\n",
    "        output[key]['Na_tot'] = Sum(\n",
    "            tuple(settings.aerosol.modes[i]['spectrum']\n",
    "                  for i in range(len(settings.aerosol.modes)))).norm_factor"
   ]
  },
  {
   "cell_type": "code",
   "execution_count": null,
   "metadata": {},
   "outputs": [],
   "source": [
    "figsize = (11, 4)\n",
    "pyplot.rc('font', size=14)\n",
    "fig, axs = pyplot.subplots(1, 2, figsize=figsize, sharey=True)\n",
    "\n",
    "if consts[\"scipy_ode_solver\"]:\n",
    "    vlist = ('RH', 'n_c_cm3')\n",
    "else:\n",
    "    vlist = ('S_max', 'n_c_cm3')\n",
    "\n",
    "for idx, var in enumerate(vlist):\n",
    "    for key, out_item in output.items():\n",
    "        Y = np.asarray(out_item['z'])\n",
    "        if var == 'RH':\n",
    "            X = np.asarray(out_item[var]) - 100\n",
    "        else:\n",
    "            X = out_item[var]\n",
    "        axs[idx].plot(X, Y, \n",
    "                      label=key.split('Aerosol')[-1], \n",
    "                      color=out_item['color'],\n",
    "                      linestyle='-' if key.endswith('-Constant') else '--'\n",
    "                     )\n",
    "        if var == 'n_c_cm3':\n",
    "            axs[idx].axvline(out_item[\"Activated Fraction\"]*out_item[\"Na_tot\"]*1e-6,\n",
    "                             color=out_item['color'],\n",
    "                             alpha=0.5,\n",
    "                             linestyle='-' if key.endswith('-Constant') else '--'\n",
    "                            )\n",
    "    axs[idx].set_ylim(0, 100)\n",
    "    \n",
    "    axs[idx].set_ylabel('Displacement [m]')\n",
    "    if var in ('RH', 'S_max'):\n",
    "        axs[idx].set_xlabel('Supersaturation [%]')\n",
    "        axs[idx].set_xlim(0, 0.5)\n",
    "    elif var == 'n_c_cm3':\n",
    "        axs[idx].set_xlabel('Cloud droplet concentration [cm$^{-3}$]')\n",
    "    else:\n",
    "        assert False\n",
    "    \n",
    "for ax in axs:\n",
    "    ax.grid()\n",
    "axs[0].legend(fontsize=8)\n",
    "show_plot(\"fig_2ab.pdf\")"
   ]
  },
  {
   "cell_type": "code",
   "execution_count": null,
   "metadata": {},
   "outputs": [],
   "source": [
    "from scipy.ndimage.filters import uniform_filter1d\n",
    "\n",
    "record_number = -1\n",
    "figsize = (10, 4)\n",
    "pyplot.rc('font', size=14)\n",
    "fig, axs = pyplot.subplots(1, 1, figsize=figsize, sharey=True)\n",
    "\n",
    "bins = settings.wet_radius_bins_edges / si.um\n",
    "binwidths = np.diff(bins)\n",
    "for key, out_item in output.items():\n",
    "    spectra = out_item['spectrum'] * si.mg * si.um\n",
    "    pyplot.step(\n",
    "        bins[:-1],\n",
    "        uniform_filter1d(spectra * binwidths, size=5),\n",
    "        label=f'wet ({key})',\n",
    "        color=out_item['color'],\n",
    "        linestyle='-' if key.endswith('-Constant') else '--',\n",
    "        where='pre'\n",
    "    )\n",
    "pyplot.xscale('log')\n",
    "pyplot.grid()\n",
    "pyplot.xlabel(\"Hydrometeor radius [μm]\")\n",
    "pyplot.ylabel(\"Hydrometeor number concentration\\n size distribution [cm$^{-3}$]\")\n",
    "xticks = (4,5,6,7,8,9,10,11,12)\n",
    "axs.set_xticks(xticks)\n",
    "axs.set_xlim(xticks[0], xticks[-1])\n",
    "axs.get_xaxis().set_major_formatter(matplotlib.ticker.ScalarFormatter())\n",
    "show_plot(\"fig_2c.pdf\")"
   ]
  },
  {
   "cell_type": "code",
   "execution_count": null,
   "metadata": {},
   "outputs": [],
   "source": []
  }
 ],
 "metadata": {
  "kernelspec": {
   "display_name": "Python 3.9.7 ('pysdm')",
   "language": "python",
   "name": "python3"
  },
  "language_info": {
   "codemirror_mode": {
    "name": "ipython",
    "version": 3
   },
   "file_extension": ".py",
   "mimetype": "text/x-python",
   "name": "python",
   "nbconvert_exporter": "python",
   "pygments_lexer": "ipython3",
   "version": "3.9.7"
  },
  "vscode": {
   "interpreter": {
    "hash": "bd962dd91e1cacd3e3e7665b7c8bf16aaf00ede669e24e39bd4423e927038f82"
   }
  }
 },
 "nbformat": 4,
 "nbformat_minor": 4
}
