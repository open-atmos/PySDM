{
 "cells": [
  {
   "cell_type": "markdown",
   "metadata": {
    "pycharm": {
     "name": "#%% md\n"
    }
   },
   "source": [
    "[![nbviewer](https://raw.githubusercontent.com/jupyter/design/master/logos/Badges/nbviewer_badge.svg)](https://nbviewer.jupyter.org/github/open-atmos/PySDM/blob/main/examples/PySDM_examples/Lowe_et_al_2019/fig_1.ipynb)\n",
    "[![Binder](https://mybinder.org/badge_logo.svg)](https://mybinder.org/v2/gh/open-atmos/PySDM.git/main?urlpath=examples/PySDM_examples/Lowe_et_al_2019/fig_1.ipynb)\n",
    "[![Open In Colab](https://colab.research.google.com/assets/colab-badge.svg)](https://colab.research.google.com/github/open-atmos/PySDM/blob/main/examples/PySDM_examples/Lowe_et_al_2019/fig_1.ipynb)"
   ]
  },
  {
   "cell_type": "markdown",
   "metadata": {},
   "source": [
    "#### based on Fig. 1 from Lowe et al. 2019 (Nature Comm.)  \"_Key drivers of cloud response to surface-active organics_\"\n",
    "https://doi.org/10.1038/s41467-019-12982-0"
   ]
  },
  {
   "cell_type": "code",
   "execution_count": null,
   "metadata": {
    "pycharm": {
     "name": "#%%\n"
    }
   },
   "outputs": [],
   "source": [
    "import sys\n",
    "if 'google.colab' in sys.modules:\n",
    "    !pip --quiet install open-atmos-jupyter-utils\n",
    "    from open_atmos_jupyter_utils import pip_install_on_colab\n",
    "    pip_install_on_colab('PySDM-examples')"
   ]
  },
  {
   "cell_type": "code",
   "execution_count": null,
   "metadata": {
    "pycharm": {
     "name": "#%%\n"
    }
   },
   "outputs": [],
   "source": [
    "from matplotlib import pyplot\n",
    "import numpy as np\n",
    "from PySDM import Formulae\n",
    "from PySDM.initialisation import spectra\n",
    "from PySDM.physics import si\n",
    "from open_atmos_jupyter_utils import show_plot\n",
    "\n",
    "from PySDM_examples.Lowe_et_al_2019.aerosol_code import AerosolMarine, AerosolBoreal, AerosolNascent"
   ]
  },
  {
   "cell_type": "code",
   "execution_count": null,
   "metadata": {},
   "outputs": [],
   "source": [
    "cases = {\n",
    "    'Marine (MA)': AerosolMarine(),\n",
    "    'Boreal (HYY)': AerosolBoreal(),\n",
    "    'NUM event (NE)': AerosolNascent()\n",
    "}\n",
    "\n",
    "formulae_bulk = Formulae(surface_tension='Constant')\n",
    "formulae_surf = Formulae(\n",
    "    surface_tension='CompressedFilmOvadnevaite',\n",
    "    constants={\n",
    "        'sgm_org': 40 * si.mN / si.m,\n",
    "        'delta_min': 0.1 * si.nm  # 0.2 in the paper, but 0.1 matches the paper plot fig 1c and 1d\n",
    "    }\n",
    ")\n",
    "\n",
    "r_wet = np.logspace(np.log(150 * si.nm), np.log(3000 * si.nm), base=np.e, num=100)\n",
    "r_dry = 50 * si.nm\n",
    "v_wet = formulae_surf.trivia.volume(r_wet)\n",
    "v_dry = formulae_surf.trivia.volume(r_dry)\n",
    "T = 300 * si.K\n",
    "r_wet_ticks_nm = (300, 500, 700, 1000, 3000)"
   ]
  },
  {
   "cell_type": "markdown",
   "metadata": {},
   "source": [
    "### Fig. 1 a"
   ]
  },
  {
   "cell_type": "code",
   "execution_count": null,
   "metadata": {},
   "outputs": [],
   "source": [
    "x = np.logspace(np.log(5 * si.nm), np.log(1000 * si.nm), base=np.e)\n",
    "for k, v in cases.items():\n",
    "    spec = spectra.Sum(\n",
    "        tuple(v.modes[i]['spectrum'] for i in range(len(v.modes)))\n",
    "    )\n",
    "    pyplot.loglog(x / si.nm, spec.size_distribution(x)*x / si.cm**-3, label=k, color=v.color)\n",
    "pyplot.ylim(1, 2500)\n",
    "pyplot.xlim(5, 1000)\n",
    "pyplot.legend()\n",
    "pyplot.grid()\n",
    "pyplot.xlabel('Dry aerosol radius [nm]')\n",
    "pyplot.ylabel('Aerosol number concentration\\n size distribution [cm$^{-3}$]')\n",
    "show_plot(\"fig_1a.pdf\")"
   ]
  },
  {
   "cell_type": "markdown",
   "metadata": {},
   "source": [
    "### Fig. 1 c"
   ]
  },
  {
   "cell_type": "code",
   "execution_count": null,
   "metadata": {},
   "outputs": [],
   "source": [
    "rd3 = r_dry**3\n",
    "        \n",
    "for formulae in (formulae_bulk, formulae_surf):\n",
    "    for k, v in cases.items():\n",
    "        sigma = formulae.surface_tension.sigma(np.nan, v_wet, v_dry, v.modes[0]['f_org'])\n",
    "        model = formulae.surface_tension.__name__\n",
    "        RH_eq = formulae.hygroscopicity.RH_eq(r_wet, T, v.modes[0]['kappa'][model], rd3, sigma)\n",
    "        pyplot.plot(\n",
    "            r_wet / si.nm, \n",
    "            (RH_eq - 1)*100, \n",
    "            label=f\"{k}\" if model == 'Constant' else \"\",\n",
    "            color=v.color,        \n",
    "            linestyle='-' if model == 'Constant' else '--'\n",
    "        )\n",
    "    pyplot.plot(r_wet / si.nm, np.ones_like(r_wet), color=\"k\", linestyle='-' if model == 'Constant' else '--', label=f\"{model}\")\n",
    "pyplot.grid()\n",
    "pyplot.xscale('log')\n",
    "pyplot.xticks(r_wet_ticks_nm, r_wet_ticks_nm)\n",
    "pyplot.xlabel('Wet radius [nm]')\n",
    "pyplot.xlim(r_wet[0] / si.nm, r_wet[-1] / si.nm)\n",
    "pyplot.ylabel('Equilibrium supersaturation [%]')\n",
    "yticks = (-.1, 0, .1, .2, .3)\n",
    "pyplot.yticks(yticks, yticks)\n",
    "pyplot.ylim(yticks[0], .35)\n",
    "pyplot.legend()\n",
    "show_plot(\"fig_1c.pdf\")"
   ]
  },
  {
   "cell_type": "markdown",
   "metadata": {},
   "source": [
    "### Fig. 1 d"
   ]
  },
  {
   "cell_type": "code",
   "execution_count": null,
   "metadata": {},
   "outputs": [],
   "source": [
    "for k, v in cases.items():\n",
    "    sigma = formulae_surf.surface_tension.sigma(np.nan, v_wet, v_dry, v.modes[0]['f_org'])\n",
    "    pyplot.plot(r_wet / si.nm, sigma / (si.mN / si.m), label=k, color=v.color, linestyle='--')\n",
    "pyplot.plot(r_wet / si.nm, np.full_like(r_wet, formulae_bulk.constants.sgm_w / (si.mN / si.m)), label='pure water', color='gray')\n",
    "pyplot.grid()\n",
    "pyplot.xscale('log')\n",
    "pyplot.xticks(r_wet_ticks_nm, r_wet_ticks_nm)\n",
    "yticks = (20, 40, 60, 80)\n",
    "pyplot.yticks(yticks, yticks)\n",
    "pyplot.xlim(r_wet[0] / si.nm, r_wet[-1] / si.nm)\n",
    "pyplot.ylim(11, 85)\n",
    "pyplot.xlabel('Wet radius [nm]')\n",
    "pyplot.ylabel('Surface tension [mN m$^{-1}$]')\n",
    "pyplot.legend()\n",
    "show_plot(\"fig_1d.pdf\")"
   ]
  },
  {
   "cell_type": "code",
   "execution_count": null,
   "metadata": {},
   "outputs": [],
   "source": []
  }
 ],
 "metadata": {
  "kernelspec": {
   "display_name": "Python 3.9.7 ('pysdm')",
   "language": "python",
   "name": "python3"
  },
  "language_info": {
   "codemirror_mode": {
    "name": "ipython",
    "version": 3
   },
   "file_extension": ".py",
   "mimetype": "text/x-python",
   "name": "python",
   "nbconvert_exporter": "python",
   "pygments_lexer": "ipython3",
   "version": "3.9.7"
  },
  "vscode": {
   "interpreter": {
    "hash": "bd962dd91e1cacd3e3e7665b7c8bf16aaf00ede669e24e39bd4423e927038f82"
   }
  }
 },
 "nbformat": 4,
 "nbformat_minor": 4
}
