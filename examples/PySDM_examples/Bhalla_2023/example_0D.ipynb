{
 "cells": [
  {
   "cell_type": "markdown",
   "id": "df5d1dfc",
   "metadata": {},
   "source": [
    "### Based on Shima et al 2009"
   ]
  },
  {
   "cell_type": "code",
   "execution_count": null,
   "id": "47caf8b1",
   "metadata": {},
   "outputs": [],
   "source": [
    "from PySDM.physics import si\n",
    "from PySDM_examples.Bhalla_2023.settings_0D import Settings\n",
    "from PySDM_examples.Bhalla_2023.simulation_0D import Simulation"
   ]
  },
  {
   "cell_type": "code",
   "execution_count": null,
   "id": "174a7a6e",
   "metadata": {},
   "outputs": [],
   "source": [
    "RELAXED_VELOCITY = True"
   ]
  },
  {
   "cell_type": "code",
   "execution_count": null,
   "id": "f012a821",
   "metadata": {
    "scrolled": true
   },
   "outputs": [],
   "source": [
    "settings = Settings(n_sd=2**16, evaluate_relaxed_velocity=RELAXED_VELOCITY)\n",
    "simulation = Simulation(settings)"
   ]
  },
  {
   "cell_type": "code",
   "execution_count": null,
   "id": "79ec8276",
   "metadata": {},
   "outputs": [],
   "source": [
    "simulation.run()"
   ]
  },
  {
   "cell_type": "markdown",
   "id": "3f75ed46",
   "metadata": {},
   "source": [
    "## Results"
   ]
  },
  {
   "cell_type": "markdown",
   "id": "6d0bad6b",
   "metadata": {},
   "source": [
    "### Mass distribution"
   ]
  },
  {
   "cell_type": "code",
   "execution_count": null,
   "id": "84888d22",
   "metadata": {},
   "outputs": [],
   "source": [
    "simulation.plot_vs_lnr(\"dm/dlnr\", si.kilograms/si.grams, \"dm/dlnr [g/m^3/(unit dr/r)]\")"
   ]
  },
  {
   "cell_type": "markdown",
   "id": "1518c828",
   "metadata": {},
   "source": [
    "### Terminal velocity vs mass"
   ]
  },
  {
   "cell_type": "code",
   "execution_count": null,
   "id": "40fd27fc",
   "metadata": {},
   "outputs": [],
   "source": [
    "simulation.plot_vs_lnr(\"terminal_vel\", 1, \"terminal velocity [m/s]\")"
   ]
  },
  {
   "cell_type": "markdown",
   "id": "7ee31801",
   "metadata": {},
   "source": [
    "### Fall velocity vs mass"
   ]
  },
  {
   "cell_type": "code",
   "execution_count": null,
   "id": "642aa46d",
   "metadata": {},
   "outputs": [],
   "source": [
    "if simulation.settings.evaluate_relaxed_velocity:\n",
    "    simulation.plot_vs_lnr(\"fall_vel\", 1, \"fall velocity [m/s]\")\n",
    "else:\n",
    "    print(\"Not evaluated\")"
   ]
  },
  {
   "cell_type": "markdown",
   "id": "bfdf6645",
   "metadata": {},
   "source": [
    "## Time"
   ]
  },
  {
   "cell_type": "code",
   "execution_count": null,
   "id": "d27c0ea0",
   "metadata": {},
   "outputs": [],
   "source": [
    "# Total time for the simulation\n",
    "print(simulation._exec_time)"
   ]
  },
  {
   "cell_type": "code",
   "execution_count": null,
   "id": "cbb6628f",
   "metadata": {},
   "outputs": [],
   "source": [
    "# Time for the Collision dynamic\n",
    "print(simulation.particulator.timers[\"Collision\"].time)"
   ]
  },
  {
   "cell_type": "code",
   "execution_count": null,
   "id": "f966e7f5",
   "metadata": {},
   "outputs": [],
   "source": [
    "# Time for the RelaxedVelocity dynamic\n",
    "if simulation.settings.evaluate_relaxed_velocity:\n",
    "    print(simulation.particulator.timers[\"RelaxedVelocity\"].time)\n",
    "else:\n",
    "    print(\"Not evaluated\")"
   ]
  }
 ],
 "metadata": {
  "kernelspec": {
   "display_name": "Python 3 (ipykernel)",
   "language": "python",
   "name": "python3"
  },
  "language_info": {
   "codemirror_mode": {
    "name": "ipython",
    "version": 3
   },
   "file_extension": ".py",
   "mimetype": "text/x-python",
   "name": "python",
   "nbconvert_exporter": "python",
   "pygments_lexer": "ipython3",
   "version": "3.11.3"
  }
 },
 "nbformat": 4,
 "nbformat_minor": 5
}
