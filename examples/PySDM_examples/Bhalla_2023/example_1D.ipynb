{
 "cells": [
  {
   "cell_type": "markdown",
   "id": "097d833a",
   "metadata": {},
   "source": [
    "### Based on Shipway and Hill"
   ]
  },
  {
   "cell_type": "code",
   "execution_count": null,
   "id": "47caf8b1",
   "metadata": {},
   "outputs": [],
   "source": [
    "import numpy as np\n",
    "from PySDM_examples.Bhalla_2023.settings_1D import Settings\n",
    "from PySDM_examples.Bhalla_2023.simulation_1D import Simulation\n",
    "from PySDM_examples.Shipway_and_Hill_2012 import plot"
   ]
  },
  {
   "cell_type": "code",
   "execution_count": null,
   "id": "f012a821",
   "metadata": {},
   "outputs": [],
   "source": [
    "settings = Settings(times_to_save=np.arange(0, 3000, 20), evaluate_relaxed_velocity=True, tau=10)\n",
    "simulation = Simulation(settings)"
   ]
  },
  {
   "cell_type": "code",
   "execution_count": null,
   "id": "79ec8276",
   "metadata": {},
   "outputs": [],
   "source": [
    "results = simulation.run()\n",
    "products = results.products"
   ]
  },
  {
   "cell_type": "markdown",
   "id": "6fada3a7",
   "metadata": {},
   "source": [
    "## Results"
   ]
  },
  {
   "cell_type": "markdown",
   "id": "362e79c6",
   "metadata": {},
   "source": [
    "### Water in clouds"
   ]
  },
  {
   "cell_type": "code",
   "execution_count": null,
   "id": "4b69539e",
   "metadata": {},
   "outputs": [],
   "source": [
    "plot(var=\"qc\", qlabel=\"$q_c$ [g/kg]\", fname=simulation.get_plt_name(\"q_c\")+\".pdf\",\n",
    "             output=products)"
   ]
  },
  {
   "cell_type": "markdown",
   "id": "cf546d27",
   "metadata": {},
   "source": [
    "### Water in rain"
   ]
  },
  {
   "cell_type": "code",
   "execution_count": null,
   "id": "42354f6d",
   "metadata": {
    "scrolled": false
   },
   "outputs": [],
   "source": [
    "plot(var='qr', qlabel='$q_r$ [g/kg]', fname=simulation.get_plt_name(\"q_r\")+\".pdf\",\n",
    "         output=products)"
   ]
  },
  {
   "cell_type": "markdown",
   "id": "84addb07",
   "metadata": {},
   "source": [
    "### Terminal Velocity"
   ]
  },
  {
   "cell_type": "code",
   "execution_count": null,
   "id": "acaff559",
   "metadata": {},
   "outputs": [],
   "source": [
    "import matplotlib.pyplot as plt\n",
    "from PySDM.physics import si\n",
    "\n",
    "r = simulation.output_attributes[\"radius\"][0]\n",
    "v_t = simulation.output_attributes[\"terminal velocity\"][0]\n",
    "\n",
    "plt.scatter(r*si.metres/si.micrometres, v_t)\n",
    "plt.xscale(\"log\")\n",
    "plt.show()"
   ]
  },
  {
   "cell_type": "code",
   "execution_count": null,
   "id": "d46e5c78",
   "metadata": {},
   "outputs": [],
   "source": [
    "import matplotlib.pyplot as plt\n",
    "from PySDM.physics import si\n",
    "\n",
    "r = simulation.output_attributes[\"radius\"][3]\n",
    "v_t = simulation.output_attributes[\"fall velocity\"][3]\n",
    "\n",
    "plt.scatter(r*si.metres/si.micrometres, v_t)\n",
    "plt.xscale(\"log\")\n",
    "plt.show()"
   ]
  },
  {
   "cell_type": "code",
   "execution_count": null,
   "id": "983c1253",
   "metadata": {},
   "outputs": [],
   "source": [
    "simulation.output_attributes[\"radius\"][0].shape"
   ]
  },
  {
   "cell_type": "code",
   "execution_count": null,
   "id": "c8079c76",
   "metadata": {},
   "outputs": [],
   "source": [
    "simulation.output_attributes[\"radius\"][3].shape"
   ]
  },
  {
   "cell_type": "code",
   "execution_count": null,
   "id": "8f52be6e",
   "metadata": {},
   "outputs": [],
   "source": [
    "len(simulation.output_attributes[\"radius\"])"
   ]
  },
  {
   "cell_type": "markdown",
   "id": "1e80b76a",
   "metadata": {},
   "source": [
    "## Time"
   ]
  },
  {
   "cell_type": "code",
   "execution_count": null,
   "id": "76057d70",
   "metadata": {},
   "outputs": [],
   "source": [
    "simulation.exec_time"
   ]
  },
  {
   "cell_type": "markdown",
   "id": "8ecaf72d",
   "metadata": {},
   "source": [
    "## Other"
   ]
  },
  {
   "cell_type": "markdown",
   "id": "43e8e98e",
   "metadata": {},
   "source": [
    "in progress:\n",
    "- plot spectrum animations like in 0D example"
   ]
  },
  {
   "cell_type": "code",
   "execution_count": null,
   "id": "25b676ce",
   "metadata": {
    "scrolled": false
   },
   "outputs": [],
   "source": [
    "simulation.plot_vs_lnr_animation(product_name=\"terminal_vel\", y_scale = 1, y_label = \"Terminal velocity [m/s]\", num_fixed = 4, show=True)"
   ]
  }
 ],
 "metadata": {
  "kernelspec": {
   "display_name": "Python 3 (ipykernel)",
   "language": "python",
   "name": "python3"
  },
  "language_info": {
   "codemirror_mode": {
    "name": "ipython",
    "version": 3
   },
   "file_extension": ".py",
   "mimetype": "text/x-python",
   "name": "python",
   "nbconvert_exporter": "python",
   "pygments_lexer": "ipython3",
   "version": "3.11.3"
  }
 },
 "nbformat": 4,
 "nbformat_minor": 5
}
