{
 "cells": [
  {
   "cell_type": "markdown",
   "id": "097d833a",
   "metadata": {},
   "source": [
    "Based on Shipway and Hill"
   ]
  },
  {
   "cell_type": "code",
   "execution_count": null,
   "id": "5f52a901",
   "metadata": {},
   "outputs": [],
   "source": []
  }
 ],
 "metadata": {
  "kernelspec": {
   "display_name": "Python 3 (ipykernel)",
   "language": "python",
   "name": "python3"
  },
  "language_info": {
   "codemirror_mode": {
    "name": "ipython",
    "version": 3
   },
   "file_extension": ".py",
   "mimetype": "text/x-python",
   "name": "python",
   "nbconvert_exporter": "python",
   "pygments_lexer": "ipython3",
   "version": "3.11.3"
  }
 },
 "nbformat": 4,
 "nbformat_minor": 5
}
