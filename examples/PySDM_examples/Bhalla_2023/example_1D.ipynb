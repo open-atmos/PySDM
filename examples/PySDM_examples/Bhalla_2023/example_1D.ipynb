{
 "cells": [
  {
   "cell_type": "markdown",
   "id": "097d833a",
   "metadata": {},
   "source": [
    "### Based on Shipway and Hill"
   ]
  },
  {
   "cell_type": "code",
   "execution_count": null,
   "id": "47caf8b1",
   "metadata": {},
   "outputs": [],
   "source": [
    "import numpy as np\n",
    "from PySDM_examples.Bhalla_2023.settings_1D import Settings\n",
    "from PySDM_examples.Bhalla_2023.simulation_1D import Simulation\n",
    "from PySDM_examples.Shipway_and_Hill_2012 import plot"
   ]
  },
  {
   "cell_type": "code",
   "execution_count": null,
   "id": "f012a821",
   "metadata": {},
   "outputs": [],
   "source": [
    "settings = Settings(times_to_save=np.arange(0, 3201, 50), evaluate_relaxed_velocity=True, tau=10)\n",
    "simulation = Simulation(settings)"
   ]
  },
  {
   "cell_type": "code",
   "execution_count": null,
   "id": "79ec8276",
   "metadata": {},
   "outputs": [],
   "source": [
    "results = simulation.run()\n",
    "products = results.products"
   ]
  },
  {
   "cell_type": "markdown",
   "id": "6fada3a7",
   "metadata": {},
   "source": [
    "## Results"
   ]
  },
  {
   "cell_type": "markdown",
   "id": "362e79c6",
   "metadata": {},
   "source": [
    "### Water in clouds"
   ]
  },
  {
   "cell_type": "code",
   "execution_count": null,
   "id": "4b69539e",
   "metadata": {},
   "outputs": [],
   "source": [
    "plot(var=\"qc\", qlabel=\"$q_c$ [g/kg]\", fname=simulation.get_plt_name(\"q_c\")+\".pdf\",\n",
    "             output=products)"
   ]
  },
  {
   "cell_type": "markdown",
   "id": "cf546d27",
   "metadata": {},
   "source": [
    "### Water in rain"
   ]
  },
  {
   "cell_type": "code",
   "execution_count": null,
   "id": "42354f6d",
   "metadata": {},
   "outputs": [],
   "source": [
    "plot(var='qr', qlabel='$q_r$ [g/kg]', fname=simulation.get_plt_name(\"q_r\")+\".pdf\",\n",
    "         output=products)"
   ]
  },
  {
   "cell_type": "markdown",
   "id": "fa1d7919",
   "metadata": {},
   "source": [
    "## Time"
   ]
  },
  {
   "cell_type": "code",
   "execution_count": null,
   "id": "2ee69c36",
   "metadata": {},
   "outputs": [],
   "source": [
    "simulation.exec_time"
   ]
  },
  {
   "cell_type": "markdown",
   "id": "84addb07",
   "metadata": {},
   "source": [
    "# Questions"
   ]
  },
  {
   "cell_type": "markdown",
   "id": "7b3a3896",
   "metadata": {},
   "source": [
    "## Droplets with higher fall velocity than terminal velocity"
   ]
  },
  {
   "cell_type": "markdown",
   "id": "016e4305",
   "metadata": {},
   "source": [
    "I thought that there was no breakup happening, and the droplets could only grow larger.  If this is the case, how did the fall velocity get higher than the terminal velocity?"
   ]
  },
  {
   "cell_type": "code",
   "execution_count": null,
   "id": "acaff559",
   "metadata": {},
   "outputs": [],
   "source": [
    "import matplotlib.pyplot as plt\n",
    "from PySDM.physics import si\n",
    "\n",
    "r = simulation.output_attributes[\"radius\"][0]\n",
    "v_t = simulation.output_attributes[\"terminal velocity\"][0]\n",
    "\n",
    "plt.scatter(r*si.metres/si.micrometres, v_t)\n",
    "plt.xscale(\"log\")\n",
    "plt.show()"
   ]
  },
  {
   "cell_type": "code",
   "execution_count": null,
   "id": "d46e5c78",
   "metadata": {
    "scrolled": false
   },
   "outputs": [],
   "source": [
    "r = simulation.output_attributes[\"radius\"][3]\n",
    "v_t = simulation.output_attributes[\"fall velocity\"][3]\n",
    "\n",
    "plt.scatter(r*si.metres/si.micrometres, v_t)\n",
    "plt.xscale(\"log\")\n",
    "plt.show()"
   ]
  },
  {
   "cell_type": "markdown",
   "id": "4a28276b",
   "metadata": {},
   "source": [
    "## Changing number of superdroplets"
   ]
  },
  {
   "cell_type": "markdown",
   "id": "affb085c",
   "metadata": {},
   "source": [
    "What causes the number of super droplets to decrease?"
   ]
  },
  {
   "cell_type": "code",
   "execution_count": null,
   "id": "983c1253",
   "metadata": {},
   "outputs": [],
   "source": [
    "simulation.output_attributes[\"radius\"][0].shape"
   ]
  },
  {
   "cell_type": "code",
   "execution_count": null,
   "id": "c8079c76",
   "metadata": {},
   "outputs": [],
   "source": [
    "simulation.output_attributes[\"radius\"][3].shape"
   ]
  },
  {
   "cell_type": "markdown",
   "id": "8ecaf72d",
   "metadata": {},
   "source": [
    "## In Progress"
   ]
  },
  {
   "cell_type": "markdown",
   "id": "ff90fa9d",
   "metadata": {},
   "source": [
    "I am trying to get aggregate data about the superdroplets.  It seems to work for velocity, but the mass seems to go to 0? I think it is probably something with how either the library or I am doing calculations which I am not aware of."
   ]
  },
  {
   "cell_type": "code",
   "execution_count": null,
   "id": "25b676ce",
   "metadata": {
    "scrolled": false
   },
   "outputs": [],
   "source": [
    "simulation.plot_vs_lnr_animation(product_name=\"terminal_vel\", y_scale = 1, y_label = \"Terminal velocity [m/s]\", num_fixed = 4, show=True)"
   ]
  },
  {
   "cell_type": "raw",
   "id": "e0db5e19",
   "metadata": {},
   "source": [
    "simulation.plot_vs_lnr_animation(product_name=\"dv/dlnr\", y_scale = si.kilograms/si.grams, y_label = \"dv/dlnr\", num_fixed = 4, show=True)"
   ]
  },
  {
   "cell_type": "code",
   "execution_count": null,
   "id": "172922dc",
   "metadata": {},
   "outputs": [],
   "source": [
    "simulation.output_products[\"fall_vel\"].shape"
   ]
  },
  {
   "cell_type": "code",
   "execution_count": null,
   "id": "d7dd28b7",
   "metadata": {},
   "outputs": [],
   "source": [
    "simulation.particulator.products[\"fall_vel\"].get().shape"
   ]
  },
  {
   "cell_type": "code",
   "execution_count": null,
   "id": "fa196529",
   "metadata": {},
   "outputs": [],
   "source": [
    "simulation.output_products[\"dv/dlnr\"].shape"
   ]
  },
  {
   "cell_type": "code",
   "execution_count": null,
   "id": "1a267859",
   "metadata": {},
   "outputs": [],
   "source": [
    "simulation.particulator.products[\"dv/dlnr\"].get().shape"
   ]
  },
  {
   "cell_type": "code",
   "execution_count": null,
   "id": "d72116d6",
   "metadata": {
    "scrolled": false
   },
   "outputs": [],
   "source": [
    "import matplotlib.pyplot as plt\n",
    "from matplotlib import animation\n",
    "from PySDM.physics import si\n",
    "from IPython.display import display, HTML\n",
    "\n",
    "index = 0\n",
    "\n",
    "R = simulation.output_attributes[\"radius\"]\n",
    "N = simulation.output_attributes[\"n\"]\n",
    "\n",
    "import numpy as np\n",
    "import matplotlib.pyplot as plt\n",
    "import matplotlib.animation as animation\n",
    "\n",
    "n = 50\n",
    "number_of_frames = 10\n",
    "data = [R[i]**3*N[i] for i in range(50)]\n",
    "\n",
    "def update_hist(i):\n",
    "    plt.cla()\n",
    "    plt.xscale(\"log\")\n",
    "    plt.hist(R[i]**3*N[i], bins=np.logspace(-17, -5, 100))\n",
    "\n",
    "fig = plt.figure()\n",
    "\n",
    "animation = animation.FuncAnimation(fig, update_hist, number_of_frames )\n",
    "display(HTML(animation.to_html5_video()))\n",
    "plt.close()"
   ]
  },
  {
   "cell_type": "code",
   "execution_count": null,
   "id": "9912733c",
   "metadata": {},
   "outputs": [],
   "source": [
    "1"
   ]
  }
 ],
 "metadata": {
  "kernelspec": {
   "display_name": "Python 3 (ipykernel)",
   "language": "python",
   "name": "python3"
  },
  "language_info": {
   "codemirror_mode": {
    "name": "ipython",
    "version": 3
   },
   "file_extension": ".py",
   "mimetype": "text/x-python",
   "name": "python",
   "nbconvert_exporter": "python",
   "pygments_lexer": "ipython3",
   "version": "3.11.3"
  }
 },
 "nbformat": 4,
 "nbformat_minor": 5
}
