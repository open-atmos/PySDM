{
 "cells": [
  {
   "cell_type": "markdown",
   "id": "097d833a",
   "metadata": {},
   "source": [
    "### Based on Shipway and Hill"
   ]
  },
  {
   "cell_type": "code",
   "execution_count": null,
   "id": "47caf8b1",
   "metadata": {},
   "outputs": [],
   "source": [
    "from PySDM_examples.Bhalla_2023.settings_1D import Settings\n",
    "from PySDM_examples.Bhalla_2023.simulation_1D import Simulation\n",
    "from PySDM_examples.Shipway_and_Hill_2012 import plot"
   ]
  },
  {
   "cell_type": "code",
   "execution_count": null,
   "id": "f012a821",
   "metadata": {},
   "outputs": [],
   "source": [
    "settings = Settings()\n",
    "simulation = Simulation(settings)"
   ]
  },
  {
   "cell_type": "code",
   "execution_count": null,
   "id": "79ec8276",
   "metadata": {},
   "outputs": [],
   "source": [
    "results = simulation.run()\n",
    "products = results.products"
   ]
  },
  {
   "cell_type": "markdown",
   "id": "6fada3a7",
   "metadata": {},
   "source": [
    "## Results"
   ]
  },
  {
   "cell_type": "markdown",
   "id": "362e79c6",
   "metadata": {},
   "source": [
    "### Water in clouds"
   ]
  },
  {
   "cell_type": "code",
   "execution_count": null,
   "id": "4b69539e",
   "metadata": {},
   "outputs": [],
   "source": [
    "plot(var=\"qc\", qlabel=\"$q_c$ [g/kg]\", fname=simulation.get_plt_name(\"q_c\")+\".pdf\",\n",
    "             output=products)"
   ]
  },
  {
   "cell_type": "markdown",
   "id": "cf546d27",
   "metadata": {},
   "source": [
    "### Water in rain"
   ]
  },
  {
   "cell_type": "code",
   "execution_count": null,
   "id": "42354f6d",
   "metadata": {
    "scrolled": false
   },
   "outputs": [],
   "source": [
    "plot(var='qr', qlabel='$q_r$ [g/kg]', fname=simulation.get_plt_name(\"q_r\")+\".pdf\",\n",
    "         output=products)"
   ]
  }
 ],
 "metadata": {
  "kernelspec": {
   "display_name": "Python 3 (ipykernel)",
   "language": "python",
   "name": "python3"
  },
  "language_info": {
   "codemirror_mode": {
    "name": "ipython",
    "version": 3
   },
   "file_extension": ".py",
   "mimetype": "text/x-python",
   "name": "python",
   "nbconvert_exporter": "python",
   "pygments_lexer": "ipython3",
   "version": "3.11.3"
  }
 },
 "nbformat": 4,
 "nbformat_minor": 5
}
