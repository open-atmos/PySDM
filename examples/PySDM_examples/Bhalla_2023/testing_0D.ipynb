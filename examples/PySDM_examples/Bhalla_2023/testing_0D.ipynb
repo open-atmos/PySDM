{
 "cells": [
  {
   "cell_type": "code",
   "execution_count": null,
   "id": "58ba8c0b",
   "metadata": {},
   "outputs": [],
   "source": [
    "from PySDM.physics import si\n",
    "from PySDM_examples.Bhalla_2023.settings_0D import Settings\n",
    "from PySDM_examples.Bhalla_2023.simulation_0D import Simulation\n",
    "from PySDM_examples.Bhalla_2023.plot_terminal_velocity_approx import get_approx\n",
    "import matplotlib.pyplot as plt\n",
    "import numpy as np"
   ]
  },
  {
   "cell_type": "markdown",
   "id": "b2dfbd6a",
   "metadata": {},
   "source": [
    "### Create and run the simulation"
   ]
  },
  {
   "cell_type": "code",
   "execution_count": null,
   "id": "b025fbbe",
   "metadata": {},
   "outputs": [],
   "source": [
    "settings = Settings(n_sd=2**14, evaluate_relaxed_velocity=True, tau=100*si.seconds, dt=5*si.seconds)\n",
    "simulation = Simulation(settings)"
   ]
  },
  {
   "cell_type": "code",
   "execution_count": null,
   "id": "1fbea2ac",
   "metadata": {},
   "outputs": [],
   "source": [
    "simulation.run()"
   ]
  },
  {
   "cell_type": "markdown",
   "id": "7ea602be",
   "metadata": {},
   "source": [
    "### Plot the mass distribution over time"
   ]
  },
  {
   "cell_type": "code",
   "execution_count": null,
   "id": "0a49a4eb",
   "metadata": {
    "scrolled": false
   },
   "outputs": [],
   "source": [
    "simulation.plot_vs_lnr_animation(\"dm/dlnr\", si.kilograms/si.grams, \"dm/dlnr [g/m^3/(unit dr/r)]\")"
   ]
  },
  {
   "cell_type": "markdown",
   "id": "2b42290f",
   "metadata": {},
   "source": [
    "### Plot the fall velocity over time"
   ]
  },
  {
   "cell_type": "code",
   "execution_count": null,
   "id": "3f153627",
   "metadata": {
    "scrolled": false
   },
   "outputs": [],
   "source": [
    "simulation.plot_vs_lnr_animation(\"fall_vel\", 1, \"fall velocity [m/s]\")"
   ]
  },
  {
   "cell_type": "markdown",
   "id": "d9f791d0",
   "metadata": {},
   "source": [
    "### Compare the velocities of each superdroplet to the approximation"
   ]
  },
  {
   "cell_type": "code",
   "execution_count": null,
   "id": "cfd5f990",
   "metadata": {
    "scrolled": false
   },
   "outputs": [],
   "source": [
    "simulation.plot_sd_velocity_animation()"
   ]
  },
  {
   "cell_type": "code",
   "execution_count": null,
   "id": "b719d266",
   "metadata": {
    "scrolled": true
   },
   "outputs": [],
   "source": [
    "from IPython.display import display, HTML\n",
    "display(HTML('<iframe width=\"560\" height=\"315\" src=\"https://www.youtube.com/embed/6n3pFFPSlW4\" frameborder=\"0\" allow=\"accelerometer; autoplay; encrypted-media; gyroscope; picture-in-picture\" allowfullscreen></iframe>'))"
   ]
  },
  {
   "cell_type": "code",
   "execution_count": null,
   "id": "4d6dbe29",
   "metadata": {},
   "outputs": [],
   "source": [
    "simulation.particulator.attributes[\"volume\"].to_ndarray()"
   ]
  },
  {
   "cell_type": "code",
   "execution_count": null,
   "id": "6080655a",
   "metadata": {},
   "outputs": [],
   "source": [
    "simulation.particulator.attributes[\"n\"].to_ndarray()"
   ]
  },
  {
   "cell_type": "code",
   "execution_count": null,
   "id": "7e85edee",
   "metadata": {},
   "outputs": [],
   "source": [
    "plt.plot(simulation.particulator.attributes[\"n\"].to_ndarray(), simulation.particulator.attributes[\"volume\"].to_ndarray(), \"bo\")\n",
    "plt.yscale(\"log\")"
   ]
  },
  {
   "cell_type": "code",
   "execution_count": null,
   "id": "ebd707fe",
   "metadata": {},
   "outputs": [],
   "source": [
    "100*si.mm"
   ]
  },
  {
   "cell_type": "code",
   "execution_count": null,
   "id": "829b210c",
   "metadata": {},
   "outputs": [],
   "source": [
    "4/3*np.pi*(1*si.mm)**3"
   ]
  }
 ],
 "metadata": {
  "kernelspec": {
   "display_name": "Python 3 (ipykernel)",
   "language": "python",
   "name": "python3"
  },
  "language_info": {
   "codemirror_mode": {
    "name": "ipython",
    "version": 3
   },
   "file_extension": ".py",
   "mimetype": "text/x-python",
   "name": "python",
   "nbconvert_exporter": "python",
   "pygments_lexer": "ipython3",
   "version": "3.11.3"
  }
 },
 "nbformat": 4,
 "nbformat_minor": 5
}
