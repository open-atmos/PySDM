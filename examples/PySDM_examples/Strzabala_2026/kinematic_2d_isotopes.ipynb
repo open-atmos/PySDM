{
 "cells": [
  {
   "metadata": {
    "ExecuteTime": {
     "end_time": "2025-05-27T14:35:58.795167Z",
     "start_time": "2025-05-27T14:35:58.791816Z"
    }
   },
   "cell_type": "code",
   "source": [
    "import os\n",
    "import subprocess\n",
    "SUBPROCESS_ENV = os.environ.copy()"
   ],
   "id": "5dd595c4c0edac06",
   "outputs": [],
   "execution_count": 1
  },
  {
   "cell_type": "code",
   "id": "initial_id",
   "metadata": {
    "collapsed": true,
    "ExecuteTime": {
     "end_time": "2025-05-27T14:36:02.233992Z",
     "start_time": "2025-05-27T14:35:58.798955Z"
    }
   },
   "source": [
    "import numpy as np\n",
    "\n",
    "from PySDM_examples.Arabas_et_al_2015 import Settings, SpinUp\n",
    "from PySDM_examples.utils.kinematic_2d import Simulation, Storage\n",
    "from PySDM.exporters import VTKExporter\n",
    "from PySDM_examples.utils import ProgBarController\n",
    "import PySDM_examples\n",
    "import glob\n",
    "import platform\n",
    "import pathlib"
   ],
   "outputs": [],
   "execution_count": 2
  },
  {
   "metadata": {
    "ExecuteTime": {
     "end_time": "2025-05-27T14:36:10.341002Z",
     "start_time": "2025-05-27T14:36:02.342762Z"
    }
   },
   "cell_type": "code",
   "source": [
    "settings = Settings()\n",
    "storage = Storage()\n",
    "simulation = Simulation(settings, storage, SpinUp=SpinUp)\n",
    "advectees_init_profiles = {\n",
    "    \"HDO vapour mixing ratio\": np.full(shape=settings.grid[1], fill_value=1e-6),\n",
    "    \"H18O vapour mixing ratio\": np.full(shape=settings.grid[1], fill_value=1e-6),\n",
    "    \"H17O vapour mixing ratio\": np.full(shape=settings.grid[1], fill_value=1e-6),\n",
    "}\n",
    "simulation.reinit(additional_advectees_initial_profiles=advectees_init_profiles)"
   ],
   "id": "c340b54ecdfefc85",
   "outputs": [
    {
     "name": "stderr",
     "output_type": "stream",
     "text": [
      "/Users/agnieszkazaba/PycharmProjects/PySDM/PySDM/backends/numba.py:48: UserWarning: Disabling Numba threading due to ARM64 CPU (atomics do not work yet)\n",
      "  warnings.warn(\n"
     ]
    }
   ],
   "execution_count": 3
  },
  {
   "metadata": {
    "ExecuteTime": {
     "end_time": "2025-05-27T14:37:26.546427Z",
     "start_time": "2025-05-27T14:36:10.357658Z"
    }
   },
   "cell_type": "code",
   "source": [
    "vtk_exporter = VTKExporter(path='.')    \n",
    "\n",
    "simulation.run(ProgBarController(\"progress:\"), vtk_exporter=vtk_exporter)\n",
    "vtk_exporter.write_pvd()"
   ],
   "id": "ab898240155a0e78",
   "outputs": [
    {
     "data": {
      "text/plain": [
       "FloatProgress(value=0.0, description='progress:', max=1.0)"
      ],
      "application/vnd.jupyter.widget-view+json": {
       "version_major": 2,
       "version_minor": 0,
       "model_id": "00c2aab707a84b0db24eab9669549106"
      }
     },
     "metadata": {},
     "output_type": "display_data"
    }
   ],
   "execution_count": 4
  },
  {
   "metadata": {
    "ExecuteTime": {
     "end_time": "2025-05-27T14:37:58.157595Z",
     "start_time": "2025-05-27T14:37:26.568105Z"
    }
   },
   "cell_type": "code",
   "source": [
    "pvanim = pathlib.Path(PySDM_examples.__file__).parent / \"utils\" / \"pvanim.py\"\n",
    "\n",
    "product = pathlib.Path(\"./output/sd_products.pvd\").absolute()\n",
    "attributes = pathlib.Path(\"./output/sd_attributes.pvd\").absolute()\n",
    "\n",
    "try:\n",
    "    result = subprocess.run(\n",
    "        [\n",
    "            \"pvpython\",\n",
    "            \"--force-offscreen-rendering\",\n",
    "            str(pvanim),\n",
    "            str(product),\n",
    "            str(attributes),\n",
    "            str(pathlib.Path('./output').absolute()),\n",
    "            \"--animationname\", \"docs_intro_animation.ogv\",\n",
    "            \"--animationframename\", \"last_animation_frame.pdf\"\n",
    "        ],\n",
    "        check=platform.system() != \"Windows\",\n",
    "        capture_output=True,\n",
    "        text=True,\n",
    "        env=SUBPROCESS_ENV,\n",
    "    )\n",
    "except subprocess.CalledProcessError as e:\n",
    "    print(e.stderr)\n",
    "    assert False"
   ],
   "id": "ffc5ec194b89182d",
   "outputs": [],
   "execution_count": 5
  },
  {
   "metadata": {
    "ExecuteTime": {
     "end_time": "2025-05-27T14:37:58.175984Z",
     "start_time": "2025-05-27T14:37:58.172186Z"
    }
   },
   "cell_type": "code",
   "source": "",
   "id": "c9130b52152a4dea",
   "outputs": [],
   "execution_count": null
  }
 ],
 "metadata": {
  "kernelspec": {
   "display_name": "Python 3",
   "language": "python",
   "name": "python3"
  },
  "language_info": {
   "codemirror_mode": {
    "name": "ipython",
    "version": 2
   },
   "file_extension": ".py",
   "mimetype": "text/x-python",
   "name": "python",
   "nbconvert_exporter": "python",
   "pygments_lexer": "ipython2",
   "version": "2.7.6"
  }
 },
 "nbformat": 4,
 "nbformat_minor": 5
}
