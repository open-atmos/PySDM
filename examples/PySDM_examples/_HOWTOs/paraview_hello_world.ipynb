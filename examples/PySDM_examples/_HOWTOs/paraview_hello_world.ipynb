{
 "cells": [
  {
   "cell_type": "markdown",
   "id": "a491199946368a38",
   "metadata": {},
   "source": [
    "[![preview notebook](https://img.shields.io/static/v1?label=render%20on&logo=github&color=87ce3e&message=GitHub)](https://github.com/open-atmos/PySDM/blob/main/examples/PySDM_examples/_HOWTOs/paraview_hello_world.ipynb)\n",
    "[![launch on mybinder.org](https://mybinder.org/badge_logo.svg)](https://mybinder.org/v2/gh/open-atmos/PySDM.git/main?urlpath=lab/tree/examples/PySDM_examples/_HOWTOs/paraview_hello_world.ipynb)\n",
    "[![launch on Colab](https://colab.research.google.com/assets/colab-badge.svg)](https://colab.research.google.com/github/open-atmos/PySDM/blob/main/examples/PySDM_examples/_HOWTOs/paraview_hello_world.ipynb)"
   ]
  },
  {
   "cell_type": "markdown",
   "id": "35dba30bf42bd326",
   "metadata": {},
   "source": [
    "### TODO #1417 add description\n",
    "### TODO #1490 fix installation on binder\n",
    "For more informations about Paraview please refere to [Paraview documentation](https://docs.paraview.org/en/latest/Tutorials/SelfDirectedTutorial/)"
   ]
  },
  {
   "cell_type": "code",
   "execution_count": 1,
   "id": "93289adf665b5c7f",
   "metadata": {
    "ExecuteTime": {
     "end_time": "2025-01-06T20:42:41.598955Z",
     "start_time": "2025-01-06T20:42:41.591955Z"
    }
   },
   "outputs": [],
   "source": [
    "import sys\n",
    "if 'google.colab' in sys.modules:\n",
    "    !pip --quiet install open-atmos-jupyter-utils\n",
    "    from open_atmos_jupyter_utils import pip_install_on_colab\n",
    "    pip_install_on_colab('PySDM-examples')"
   ]
  },
  {
   "cell_type": "code",
   "execution_count": 2,
   "id": "e3537b5faa81e11f",
   "metadata": {
    "ExecuteTime": {
     "end_time": "2025-01-06T20:42:48.835403Z",
     "start_time": "2025-01-06T20:42:42.286569Z"
    }
   },
   "outputs": [
    {
     "name": "stdout",
     "output_type": "stream",
     "text": [
      "paraview version 5.13.1\n"
     ]
    }
   ],
   "source": [
    "import os\n",
    "import subprocess\n",
    "SUBPROCESS_ENV = os.environ.copy()\n",
    "\n",
    "if 'google.colab' in sys.modules:\n",
    "    !apt-get install -qq ghostscript\n",
    "    !wget -nv \"https://paraview.org/paraview-downloads/download.php?submit=Download&version=v5.13&type=binary&os=Linux&downloadFile=ParaView-5.13.1-egl-MPI-Linux-Python3.10-x86_64.tar.gz\" -O paraview.tar.gz\n",
    "    !tar xzf paraview.tar.gz\n",
    "    SUBPROCESS_ENV['PATH'] += ':' + subprocess.check_output(['bash', '-c', \"echo `pwd`/`dirname ParaView*/bin/pvpython`\"], text=True)[:-1]\n",
    "    \n",
    "    # check if Ghostscript's ps2pdf works\n",
    "    assert subprocess.check_call(['type', 'ps2pdf'], shell=True) == 0\n",
    "    \n",
    "# check if Paraview's pvpython works\n",
    "assert subprocess.check_call(['pvpython', '--version'], env=SUBPROCESS_ENV) == 0\n",
    "assert subprocess.check_call(['pvpython', '-c', 'import paraview'], env=SUBPROCESS_ENV) == 0"
   ]
  },
  {
   "cell_type": "code",
   "execution_count": 3,
   "id": "ee889545",
   "metadata": {
    "ExecuteTime": {
     "end_time": "2025-01-06T20:42:48.845075Z",
     "start_time": "2025-01-06T20:42:48.842291Z"
    }
   },
   "outputs": [],
   "source": [
    "from PySDM_examples.Arabas_et_al_2015 import Settings, SpinUp\n",
    "from PySDM_examples.Szumowski_et_al_1998 import Simulation, Storage\n",
    "from PySDM.exporters import VTKExporter\n",
    "from PySDM_examples.utils import ProgBarController\n",
    "from PySDM import products as PySDM_products\n",
    "import glob\n",
    "import platform"
   ]
  },
  {
   "cell_type": "code",
   "execution_count": 4,
   "id": "f0d2581f",
   "metadata": {
    "ExecuteTime": {
     "end_time": "2025-01-06T20:42:49.673689Z",
     "start_time": "2025-01-06T20:42:49.664256Z"
    }
   },
   "outputs": [],
   "source": [
    "products = [\n",
    "    PySDM_products.EffectiveRadius(unit='um')\n",
    "]"
   ]
  },
  {
   "cell_type": "markdown",
   "id": "25232d9f",
   "metadata": {},
   "source": [
    "##### 1. run a simulations saving output to VTK files"
   ]
  },
  {
   "cell_type": "code",
   "execution_count": 5,
   "id": "74c00944",
   "metadata": {
    "ExecuteTime": {
     "end_time": "2025-01-06T20:43:31.937868Z",
     "start_time": "2025-01-06T20:42:51.814553Z"
    }
   },
   "outputs": [
    {
     "data": {
      "application/vnd.jupyter.widget-view+json": {
       "model_id": "f9d581fdc60345ff804d5265fc156e1c",
       "version_major": 2,
       "version_minor": 0
      },
      "text/plain": [
       "FloatProgress(value=0.0, description='progress:', max=1.0)"
      ]
     },
     "metadata": {},
     "output_type": "display_data"
    }
   ],
   "source": [
    "settings = Settings()\n",
    "storage = Storage()\n",
    "simulation = Simulation(settings, storage, SpinUp=SpinUp)\n",
    "simulation.reinit(products)\n",
    "\n",
    "vtk_exporter = VTKExporter(path='.')    \n",
    "\n",
    "simulation.run(ProgBarController(\"progress:\"), vtk_exporter=vtk_exporter)\n",
    "vtk_exporter.write_pvd()"
   ]
  },
  {
   "cell_type": "markdown",
   "id": "187cc7c9",
   "metadata": {},
   "source": [
    "#### 2. create a Python script for Paraview"
   ]
  },
  {
   "cell_type": "code",
   "execution_count": 6,
   "id": "2030d8e7",
   "metadata": {
    "ExecuteTime": {
     "end_time": "2025-01-06T20:43:32.052989Z",
     "start_time": "2025-01-06T20:43:32.046624Z"
    }
   },
   "outputs": [
    {
     "name": "stdout",
     "output_type": "stream",
     "text": [
      "Overwriting pvscript.py\n"
     ]
    }
   ],
   "source": [
    "%%writefile pvscript.py\n",
    "\n",
    "from paraview import simple as pvs\n",
    "\n",
    "# load data\n",
    "reader_prod = pvs.OpenDataFile(\"./output/sd_products.pvd\")\n",
    "reader_attr = pvs.OpenDataFile(\"./output/sd_attributes.pvd\")\n",
    "\n",
    "# prepare view settings\n",
    "view = pvs.GetRenderView()\n",
    "view.ViewSize = [2000, 800]\n",
    "view.Background = [1, 1, 1]\n",
    "view.CenterAxesVisibility = False\n",
    "view.OrientationAxesVisibility = False\n",
    "axesGrid = view.AxesGrid\n",
    "axesGrid.Visibility = True\n",
    "axesGrid.XTitle = 'Z [m]'\n",
    "axesGrid.YTitle = 'X [m]'\n",
    "\n",
    "axesGrid.XAxisUseCustomLabels = True\n",
    "axesGrid.XAxisLabels = [300, 600, 900, 1200]\n",
    "axesGrid.YAxisUseCustomLabels = True\n",
    "axesGrid.YAxisLabels = [300, 600, 900, 1200]\n",
    "\n",
    "axesGrid.XTitleFontSize = 30\n",
    "axesGrid.XLabelFontSize = 30\n",
    "axesGrid.YTitleFontSize = 30\n",
    "axesGrid.YLabelFontSize = 30\n",
    "\n",
    "axesGrid.XTitleColor = [0, 0, 0]\n",
    "axesGrid.XLabelColor = [0, 0, 0]\n",
    "axesGrid.YTitleColor = [0, 0, 0]\n",
    "axesGrid.YLabelColor = [0, 0, 0]\n",
    "axesGrid.GridColor = [0.1, 0.1, 0.1]\n",
    "\n",
    "# render particles\n",
    "var = 'radius'\n",
    "multiplier = 1e6\n",
    "palette = 'Cold and Hot'\n",
    "palette_invert = False\n",
    "color_range = [0, 10]\n",
    "logscale = False\n",
    "title = var + ' [um]'\n",
    "\n",
    "calculator = pvs.Calculator(reader_attr)\n",
    "calculator.Function = f'{var}*{multiplier}'\n",
    "display_attr = pvs.Show(calculator, view)\n",
    "\n",
    "display_attr.SetRepresentationType('Point Gaussian')\n",
    "display_attr.ShaderPreset = 'Sphere'\n",
    "display_attr.GaussianRadius = 5\n",
    "display_attr.MapScalars = 1\n",
    "\n",
    "display_attr.Ambient = .25\n",
    "pvs.ColorBy(display_attr, ('POINTS', 'Result'))\n",
    "color_scale_attr = pvs.GetColorTransferFunction('Result')\n",
    "color_scale_attr.ApplyPreset(palette, True)\n",
    "if palette_invert:\n",
    "    color_scale_attr.InvertTransferFunction()\n",
    "if color_range is None:\n",
    "    display_attr.RescaleTransferFunctionToDataRange(True)\n",
    "else:\n",
    "    color_scale_attr.RescaleTransferFunction(color_range)\n",
    "if logscale:\n",
    "    color_scale_attr.MapControlPointsToLogSpace()\n",
    "    color_scale_attr.UseLogScale = 1\n",
    "colorbar_attr = pvs.GetScalarBar(color_scale_attr, view)\n",
    "colorbar_attr.TitleColor = [0, 0, 0]\n",
    "colorbar_attr.LabelColor = [0, 0, 0]\n",
    "colorbar_attr.Title = title\n",
    "colorbar_attr.ComponentTitle = ''\n",
    "colorbar_attr.TitleFontSize = 30\n",
    "colorbar_attr.LabelFontSize = 30\n",
    "colorbar_attr.Visibility = True\n",
    "colorbar_attr.WindowLocation = 'Any Location'\n",
    "colorbar_attr.Position = [.1, .333]\n",
    "colorbar_attr.RangeLabelFormat = '%g'\n",
    "\n",
    "# render product\n",
    "var = 'effective radius'\n",
    "palette = 'X Ray'\n",
    "palette_invert = True\n",
    "color_range = [0, 10]\n",
    "logscale = False\n",
    "title = var + ' [um]'\n",
    "\n",
    "display_prod = pvs.Show(reader_prod)\n",
    "display_prod.SetRepresentationType('Surface')\n",
    "display_prod.Ambient = .25\n",
    "pvs.ColorBy(display_prod, ('CELLS', var))\n",
    "color_scale_prod = pvs.GetColorTransferFunction(var)\n",
    "if color_range is None:\n",
    "    display_prod.RescaleTransferFunctionToDataRange(True)\n",
    "else:\n",
    "    color_scale_prod.RescaleTransferFunction(color_range)\n",
    "color_scale_prod.ApplyPreset(palette, True)\n",
    "if palette_invert:\n",
    "    color_scale_prod.InvertTransferFunction()\n",
    "colorbar_prod = pvs.GetScalarBar(color_scale_prod, view)\n",
    "colorbar_prod.TitleColor = [0, 0, 0]\n",
    "colorbar_prod.LabelColor = [0, 0, 0]\n",
    "colorbar_prod.Title = title\n",
    "colorbar_prod.ComponentTitle = ''\n",
    "colorbar_prod.TitleFontSize = 30\n",
    "colorbar_prod.LabelFontSize = 30\n",
    "colorbar_prod.Visibility = True\n",
    "colorbar_prod.Position = [.92, .333]\n",
    "colorbar_prod.WindowLocation = 'Any Location'\n",
    "colorbar_prod.RangeLabelFormat = '%g'\n",
    "\n",
    "# compose the scene\n",
    "scene = pvs.GetAnimationScene()\n",
    "scene.UpdateAnimationUsingDataTimeSteps()\n",
    "pvs.Render(view)\n",
    "cam = pvs.GetActiveCamera()\n",
    "cam.SetViewUp(1, 0, 0)\n",
    "pos = list(cam.GetPosition())\n",
    "pos[-1] = -pos[-1]\n",
    "cam.SetPosition(pos)\n",
    "cam.Dolly(1.45)\n",
    "\n",
    "# save animation to an Ogg Vorbis file\n",
    "pvs.SaveAnimation('output/anim.ogv', view, FrameRate=10)\n",
    "\n",
    "# save animation frame as pdfs\n",
    "for t in reader_prod.TimestepValues:\n",
    "    view.ViewTime = t\n",
    "    for reader in (reader_prod, reader_attr):\n",
    "        reader.UpdatePipeline(t)    \n",
    "    pvs.ExportView(\n",
    "        filename=f'output/anim_frame_{t}.pdf',\n",
    "        view=view,\n",
    "        Rasterize3Dgeometry= False,\n",
    "        GL2PSdepthsortmethod= 'BSP sorting (slow, best)',\n",
    "    )"
   ]
  },
  {
   "cell_type": "markdown",
   "id": "066f9c18",
   "metadata": {},
   "source": [
    "#### 3. execute the script using `pvpython`"
   ]
  },
  {
   "cell_type": "code",
   "execution_count": 7,
   "id": "79477d3d",
   "metadata": {
    "ExecuteTime": {
     "end_time": "2025-01-06T20:44:22.171797Z",
     "start_time": "2025-01-06T20:43:32.099529Z"
    }
   },
   "outputs": [
    {
     "data": {
      "text/plain": [
       "CompletedProcess(args=['pvpython', '--force-offscreen-rendering', 'pvscript.py'], returncode=0)"
      ]
     },
     "execution_count": 7,
     "metadata": {},
     "output_type": "execute_result"
    }
   ],
   "source": [
    "subprocess.run(['pvpython', '--force-offscreen-rendering', 'pvscript.py'], check=platform.system() != 'Windows', env=SUBPROCESS_ENV)"
   ]
  },
  {
   "cell_type": "markdown",
   "id": "8a95f135",
   "metadata": {},
   "source": [
    "#### 4. reduce file size for generated pdf files"
   ]
  },
  {
   "cell_type": "code",
   "execution_count": 8,
   "id": "23e0cf61",
   "metadata": {
    "ExecuteTime": {
     "end_time": "2025-01-06T20:44:32.623050Z",
     "start_time": "2025-01-06T20:44:22.257021Z"
    }
   },
   "outputs": [],
   "source": [
    "if platform.system() != 'Windows':\n",
    "    for file in glob.glob('output/anim_frame_*.pdf'):\n",
    "        subprocess.run(['ps2pdf', file, file+'_'], capture_output=True, check=True)\n",
    "        subprocess.run(['mv', file+'_', file], check=True)"
   ]
  },
  {
   "cell_type": "code",
   "execution_count": null,
   "id": "9d3e4a35",
   "metadata": {
    "ExecuteTime": {
     "end_time": "2025-01-06T20:42:10.669031Z",
     "start_time": "2025-01-06T20:42:10.667667Z"
    }
   },
   "outputs": [],
   "source": []
  }
 ],
 "metadata": {
  "kernelspec": {
   "display_name": "Python 3 (ipykernel)",
   "language": "python",
   "name": "python3"
  },
  "language_info": {
   "codemirror_mode": {
    "name": "ipython",
    "version": 3
   },
   "file_extension": ".py",
   "mimetype": "text/x-python",
   "name": "python",
   "nbconvert_exporter": "python",
   "pygments_lexer": "ipython3",
   "version": "3.12.8"
  },
  "vscode": {
   "interpreter": {
    "hash": "b43cf254c70d60c2e21a7f71ba113e70c1694742e72407132919c841d907074b"
   }
  }
 },
 "nbformat": 4,
 "nbformat_minor": 5
}
