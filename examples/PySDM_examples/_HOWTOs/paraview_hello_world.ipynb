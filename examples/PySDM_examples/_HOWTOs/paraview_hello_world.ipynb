{
 "cells": [
  {
   "cell_type": "markdown",
   "id": "a491199946368a38",
   "metadata": {},
   "source": [
    "[![preview notebook](https://img.shields.io/static/v1?label=render%20on&logo=github&color=87ce3e&message=GitHub)](https://github.com/open-atmos/PySDM/blob/main/examples/PySDM_examples/_HOWTOs/paraview_hello_world.ipynb)\n",
    "[![launch on mybinder.org](https://mybinder.org/badge_logo.svg)](https://mybinder.org/v2/gh/open-atmos/PySDM.git/main?urlpath=lab/tree/examples/PySDM_examples/_HOWTOs/paraview_hello_world.ipynb)\n",
    "[![launch on Colab](https://colab.research.google.com/assets/colab-badge.svg)](https://colab.research.google.com/github/open-atmos/PySDM/blob/main/examples/PySDM_examples/_HOWTOs/paraview_hello_world.ipynb)"
   ]
  },
  {
   "cell_type": "markdown",
   "id": "35dba30bf42bd326",
   "metadata": {},
   "source": [
    "### TODO #1417 add description\n",
    "### TODO #1490 fix installation on binder\n",
    "For more informations about Paraview please refere to [Paraview documentation](https://docs.paraview.org/en/latest/Tutorials/SelfDirectedTutorial/)"
   ]
  },
  {
   "cell_type": "code",
   "id": "93289adf665b5c7f",
   "metadata": {
    "ExecuteTime": {
     "end_time": "2025-05-09T08:27:59.767037Z",
     "start_time": "2025-05-09T08:27:59.763173Z"
    }
   },
   "source": [
    "import sys\n",
    "if 'google.colab' in sys.modules:\n",
    "    !pip --quiet install open-atmos-jupyter-utils\n",
    "    from open_atmos_jupyter_utils import pip_install_on_colab\n",
    "    pip_install_on_colab('PySDM-examples')"
   ],
   "outputs": [],
   "execution_count": 1
  },
  {
   "cell_type": "code",
   "id": "e3537b5faa81e11f",
   "metadata": {
    "ExecuteTime": {
     "end_time": "2025-05-09T08:28:06.258130Z",
     "start_time": "2025-05-09T08:28:00.353771Z"
    }
   },
   "source": [
    "import os\n",
    "import subprocess\n",
    "SUBPROCESS_ENV = os.environ.copy()\n",
    "\n",
    "if 'google.colab' in sys.modules:\n",
    "    !apt-get install -qq ghostscript\n",
    "    !wget -nv \"https://paraview.org/paraview-downloads/download.php?submit=Download&version=v5.13&type=binary&os=Linux&downloadFile=ParaView-5.13.1-egl-MPI-Linux-Python3.10-x86_64.tar.gz\" -O paraview.tar.gz\n",
    "    !tar xzf paraview.tar.gz\n",
    "    SUBPROCESS_ENV['PATH'] += ':' + subprocess.check_output(['bash', '-c', \"echo `pwd`/`dirname ParaView*/bin/pvpython`\"], text=True)[:-1]\n",
    "    \n",
    "    # check if Ghostscript's ps2pdf works\n",
    "    assert subprocess.check_call(['type', 'ps2pdf'], shell=True) == 0\n",
    "    \n",
    "# check if Paraview's pvpython works\n",
    "assert subprocess.check_call(['pvpython', '--version'], env=SUBPROCESS_ENV) == 0\n",
    "assert subprocess.check_call(['pvpython', '-c', 'import paraview'], env=SUBPROCESS_ENV) == 0"
   ],
   "outputs": [
    {
     "name": "stdout",
     "output_type": "stream",
     "text": [
      "paraview version 5.13.1\n"
     ]
    }
   ],
   "execution_count": 2
  },
  {
   "cell_type": "code",
   "id": "ee889545",
   "metadata": {
    "ExecuteTime": {
     "end_time": "2025-05-09T08:28:08.607057Z",
     "start_time": "2025-05-09T08:28:06.263583Z"
    }
   },
   "source": [
    "from PySDM_examples.Arabas_et_al_2015 import Settings, SpinUp\n",
    "from PySDM_examples.utils.kinematic_2d import Simulation, Storage\n",
    "from PySDM.exporters import VTKExporter\n",
    "from PySDM_examples.utils import ProgBarController\n",
    "from PySDM import products as PySDM_products\n",
    "import PySDM_examples\n",
    "import glob\n",
    "import platform\n",
    "import pathlib"
   ],
   "outputs": [],
   "execution_count": 3
  },
  {
   "cell_type": "code",
   "id": "f0d2581f",
   "metadata": {
    "ExecuteTime": {
     "end_time": "2025-05-09T08:28:08.617918Z",
     "start_time": "2025-05-09T08:28:08.615072Z"
    }
   },
   "source": [
    "products = [\n",
    "    PySDM_products.EffectiveRadius(unit='um'),\n",
    "    PySDM_products.FlowVelocityComponent(component = 0, name = 'cx'),\n",
    "    PySDM_products.FlowVelocityComponent(component = 1, name = 'cy')\n",
    "]"
   ],
   "outputs": [],
   "execution_count": 4
  },
  {
   "cell_type": "markdown",
   "id": "25232d9f",
   "metadata": {},
   "source": [
    "##### 1. run a simulations saving output to VTK files"
   ]
  },
  {
   "metadata": {},
   "cell_type": "code",
   "outputs": [],
   "execution_count": null,
   "source": [
    "settings = Settings()\n",
    "storage = Storage()\n",
    "simulation = Simulation(settings, storage, SpinUp=SpinUp)\n",
    "simulation.reinit(products)\n",
    "\n",
    "vtk_exporter = VTKExporter(path='.')    \n",
    "\n",
    "simulation.run(ProgBarController(\"progress:\"), vtk_exporter=vtk_exporter)\n",
    "vtk_exporter.write_pvd()"
   ],
   "id": "c7634bb25cdbbe46"
  },
  {
   "cell_type": "markdown",
   "id": "066f9c18",
   "metadata": {},
   "source": "#### 2. execute ``PySDM_examples/utils/pvanim.py`` script using `pvpython`"
  },
  {
   "metadata": {
    "ExecuteTime": {
     "end_time": "2025-05-09T08:52:00.913288Z",
     "start_time": "2025-05-09T08:51:55.311337Z"
    }
   },
   "cell_type": "code",
   "source": [
    "pvanim = pathlib.Path(PySDM_examples.__file__).parent / \"utils\" / \"pvanim.py\"\n",
    "result = subprocess.run([\"pvpython\", str(pvanim), '--help'], check=True, env=SUBPROCESS_ENV)"
   ],
   "id": "154ce67d9a84a51d",
   "outputs": [
    {
     "name": "stdout",
     "output_type": "stream",
     "text": [
      "usage: pvanim.py [-h] [--multiplicity_preset MULTIPLICITY_PRESET]\n",
      "                 [--multiplicity_logscale]\n",
      "                 [--effectiveradius_preset EFFECTIVERADIUS_PRESET]\n",
      "                 [--effectiveradius_logscale]\n",
      "                 [--effectiveradius_nan_color EFFECTIVERADIUS_NAN_COLOR EFFECTIVERADIUS_NAN_COLOR EFFECTIVERADIUS_NAN_COLOR]\n",
      "                 [--sd_products_opacity SD_PRODUCTS_OPACITY]\n",
      "                 [--calculator1_opacity CALCULATOR1_OPACITY]\n",
      "                 [--sd_attributes_opacity SD_ATTRIBUTES_OPACITY]\n",
      "                 [--animationframename ANIMATIONFRAMENAME]\n",
      "                 [--animationname ANIMATIONNAME] [--framerate FRAMERATE]\n",
      "                 product_path attributes_path output_path\n",
      "\n",
      "positional arguments:\n",
      "  product_path          path to pvd products file\n",
      "  attributes_path       path to pvd attributes file\n",
      "  output_path           path where to write output files\n",
      "\n",
      "options:\n",
      "  -h, --help            show this help message and exit\n",
      "  --multiplicity_preset MULTIPLICITY_PRESET\n",
      "                        Preset for multiplicity (default: Inferno\n",
      "                        (matplotlib))\n",
      "  --multiplicity_logscale\n",
      "                        Use log scale for multiplicity (default: True)\n",
      "  --effectiveradius_preset EFFECTIVERADIUS_PRESET\n",
      "                        Preset for effectiveradius (default: Black, Blue and\n",
      "                        White)\n",
      "  --effectiveradius_logscale\n",
      "                        Use log scale for effectiveradius (default: True)\n",
      "  --effectiveradius_nan_color EFFECTIVERADIUS_NAN_COLOR EFFECTIVERADIUS_NAN_COLOR EFFECTIVERADIUS_NAN_COLOR\n",
      "                        Nan color in RGB format for effectiveradius (default:\n",
      "                        [0.666, 0.333, 1.0])\n",
      "  --sd_products_opacity SD_PRODUCTS_OPACITY\n",
      "                        Opacity for sd_products (default: 0.9)\n",
      "  --calculator1_opacity CALCULATOR1_OPACITY\n",
      "                        Opacity for calculator1 (default: 0.19)\n",
      "  --sd_attributes_opacity SD_ATTRIBUTES_OPACITY\n",
      "                        Opacity for sd_attributes (default: 0.77)\n",
      "  --animationframename ANIMATIONFRAMENAME\n",
      "                        Name of the file with animation last frame (default:\n",
      "                        None)\n",
      "  --animationname ANIMATIONNAME\n",
      "                        Name of the file with animation (default: None)\n",
      "  --framerate FRAMERATE\n",
      "                        Number of frame rates. (default: 15)\n"
     ]
    }
   ],
   "execution_count": 10
  },
  {
   "cell_type": "code",
   "id": "23e0cf61",
   "metadata": {
    "ExecuteTime": {
     "end_time": "2025-05-09T08:27:54.021909Z",
     "start_time": "2025-05-09T08:25:42.918680Z"
    }
   },
   "source": [
    "product = pathlib.Path(\"./output/sd_products.pvd\").absolute()\n",
    "attributes = pathlib.Path(\"./output/sd_attributes.pvd\").absolute()\n",
    "\n",
    "try:\n",
    "    result = subprocess.run(\n",
    "        [\n",
    "            \"pvpython\",\n",
    "            \"--force-offscreen-rendering\",\n",
    "            str(pvanim),\n",
    "            str(product),\n",
    "            str(attributes),\n",
    "            str(pathlib.Path('./output').absolute()),\n",
    "            \"--animationname\", \"docs_intro_animation.ogv\",\n",
    "            \"--animationframename\", \"last_animation_frame.pdf\"\n",
    "        ],\n",
    "        check=platform.system() != \"Windows\",\n",
    "        capture_output=True,\n",
    "        text=True,\n",
    "        env=SUBPROCESS_ENV,\n",
    "    )\n",
    "except subprocess.CalledProcessError as e:\n",
    "    print(e.stderr)\n",
    "    assert False"
   ],
   "outputs": [],
   "execution_count": 13
  },
  {
   "cell_type": "markdown",
   "id": "8a95f135",
   "metadata": {},
   "source": [
    "#### 3. reduce file size for generated pdf files"
   ]
  },
  {
   "cell_type": "code",
   "id": "3e170fdc",
   "metadata": {
    "ExecuteTime": {
     "end_time": "2025-05-09T08:27:54.022827Z",
     "start_time": "2025-05-09T08:26:10.268239Z"
    }
   },
   "source": [
    "if platform.system() != 'Windows':\n",
    "    for file in glob.glob('output/anim_frame_*.pdf'):\n",
    "        subprocess.run(['ps2pdf', file, file+'_'], capture_output=True, check=True)\n",
    "        subprocess.run(['mv', file+'_', file], check=True)"
   ],
   "outputs": [],
   "execution_count": 14
  },
  {
   "cell_type": "code",
   "id": "9d3e4a35",
   "metadata": {
    "ExecuteTime": {
     "end_time": "2025-05-09T08:27:54.022911Z",
     "start_time": "2025-05-09T08:26:10.277448Z"
    }
   },
   "source": [],
   "outputs": [],
   "execution_count": null
  }
 ],
 "metadata": {
  "kernelspec": {
   "display_name": "base",
   "language": "python",
   "name": "python3"
  },
  "language_info": {
   "codemirror_mode": {
    "name": "ipython",
    "version": 3
   },
   "file_extension": ".py",
   "mimetype": "text/x-python",
   "name": "python",
   "nbconvert_exporter": "python",
   "pygments_lexer": "ipython3",
   "version": "3.12.3"
  }
 },
 "nbformat": 4,
 "nbformat_minor": 5
}
