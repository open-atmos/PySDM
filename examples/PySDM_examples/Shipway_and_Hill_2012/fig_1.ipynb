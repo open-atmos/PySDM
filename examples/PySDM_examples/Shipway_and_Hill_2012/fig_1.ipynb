{
 "cells": [
  {
   "cell_type": "markdown",
   "metadata": {
    "pycharm": {
     "name": "#%% md\n"
    }
   },
   "source": [
    "[![Binder](https://mybinder.org/badge_logo.svg)](https://mybinder.org/v2/gh/open-atmos/PySDM.git/main?urlpath=examples/PySDM_examples/Shipway_and_Hill_2012/fig_1.ipynb)\n",
    "[![Open In Colab](https://colab.research.google.com/assets/colab-badge.svg)](https://colab.research.google.com/github/open-atmos/PySDM/blob/main/examples/PySDM_examples/Shipway_and_Hill_2012/fig_1.ipynb)"
   ]
  },
  {
   "cell_type": "markdown",
   "metadata": {
    "pycharm": {
     "name": "#%% md\n"
    }
   },
   "source": [
    "#### based on Fig. 1 from Shipway & Hill 2012 (Q. J. Royal Meteo. Soc. 138)  \"_Diagnosis of systematic differences between multiple parametrizations of warm rain microphysics using a kinematic framework_\"   \n",
    "https://doi.org/10.1002/qj.1913\n",
    "\n",
    "**NOTES**: \n",
    "- constant momentum profile rather than constant velocity profile is used herein\n",
    "- enabling precipitation interpretted as turning on sedimentation and collisions\n",
    "- pressure at z=0 not given in the paper, assumed (see settings.py)\n",
    "- domain extended below z=0 to mimic particle inflow"
   ]
  },
  {
   "cell_type": "code",
   "execution_count": null,
   "metadata": {},
   "outputs": [],
   "source": [
    "import sys\n",
    "if 'google.colab' in sys.modules:\n",
    "    !pip --quiet install open-atmos-jupyter-utils\n",
    "    from open_atmos_jupyter_utils import pip_install_on_colab\n",
    "    pip_install_on_colab('PySDM-examples')"
   ]
  },
  {
   "cell_type": "code",
   "execution_count": null,
   "metadata": {
    "pycharm": {
     "name": "#%%\n"
    }
   },
   "outputs": [],
   "source": [
    "from PySDM_examples.Shipway_and_Hill_2012 import Settings, Simulation, plot\n",
    "from PySDM.physics import si\n",
    "from PySDM.exporters import NetCDFExporter_1d"
   ]
  },
  {
   "cell_type": "code",
   "execution_count": null,
   "metadata": {
    "pycharm": {
     "name": "#%%\n"
    }
   },
   "outputs": [],
   "source": [
    "common_params = {\n",
    "    \"n_sd_per_gridbox\": 256,\n",
    "    \"dt\": 5 * si.s,\n",
    "    \"dz\": 50 * si.m,\n",
    "    \"p0\": 990 * si.hPa,\n",
    "    \"kappa\": .9,\n",
    "    \"particles_per_volume_STP\": 50 / si.cm**3\n",
    "}\n",
    "\n",
    "output = {}\n",
    "settings = {}\n",
    "simulation = {}\n",
    "for rho_times_w in (\n",
    "    2 * si.kg/si.m**3 * si.m/si.s,\n",
    "    3 * si.kg/si.m**3 * si.m/si.s\n",
    "):\n",
    "    for precip in (\n",
    "        False, \n",
    "        True\n",
    "    ):\n",
    "        key = f\"rhow={rho_times_w}_p={precip}\"\n",
    "        settings[key] = Settings(\n",
    "            **common_params,\n",
    "            rho_times_w_1=rho_times_w,\n",
    "            precip=precip\n",
    "        )\n",
    "        simulation[key] = Simulation(settings[key])\n",
    "        output[key] = simulation[key].run().products\n"
   ]
  },
  {
   "cell_type": "code",
   "execution_count": null,
   "metadata": {
    "pycharm": {
     "name": "#%%\n"
    }
   },
   "outputs": [],
   "source": [
    "for p in (False, True):\n",
    "    for rho_times_w in (2, 3):\n",
    "        plot(var='cloud water mixing ratio', qlabel='cloud water mixing ratio [g/kg]', fname=f'qc_rhow={rho_times_w}_p={p}.pdf',\n",
    "             output=output[f'rhow={rho_times_w}.0_p={p}'])"
   ]
  },
  {
   "cell_type": "code",
   "execution_count": null,
   "metadata": {
    "pycharm": {
     "name": "#%%\n"
    }
   },
   "outputs": [],
   "source": [
    "p = True\n",
    "for rho_times_w in (2, 3):\n",
    "    plot(var='rain water mixing ratio', qlabel='rain water mixing ratio [g/kg]', fname=f'qr_rhow={rho_times_w}_p={p}.pdf',\n",
    "         output=output[f'rhow={rho_times_w}.0_p={p}'])"
   ]
  },
  {
   "cell_type": "code",
   "execution_count": null,
   "metadata": {},
   "outputs": [],
   "source": [
    "for p in (False, True):\n",
    "    for rho_times_w in (2, 3):\n",
    "        key = f\"rhow={rho_times_w}.0_p={p}\"\n",
    "        filename = 'products_' + key + '.nc'\n",
    "        nc_exporter = NetCDFExporter_1d(output[key], settings[key], simulation[key], filename)\n",
    "        nc_exporter.run()"
   ]
  },
  {
   "cell_type": "code",
   "execution_count": null,
   "metadata": {},
   "outputs": [],
   "source": []
  }
 ],
 "metadata": {
  "kernelspec": {
   "display_name": "Python 3.9.4 ('edjPySDM')",
   "language": "python",
   "name": "python3"
  },
  "language_info": {
   "codemirror_mode": {
    "name": "ipython",
    "version": 3
   },
   "file_extension": ".py",
   "mimetype": "text/x-python",
   "name": "python",
   "nbconvert_exporter": "python",
   "pygments_lexer": "ipython3",
   "version": "3.9.4"
  },
  "vscode": {
   "interpreter": {
    "hash": "b43cf254c70d60c2e21a7f71ba113e70c1694742e72407132919c841d907074b"
   }
  }
 },
 "nbformat": 4,
 "nbformat_minor": 1
}
