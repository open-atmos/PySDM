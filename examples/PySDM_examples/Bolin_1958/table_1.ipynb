{
 "cells": [
  {
   "metadata": {},
   "cell_type": "markdown",
   "source": [
    "[![preview notebook](https://img.shields.io/static/v1?label=render%20on&logo=github&color=87ce3e&message=GitHub)](https://github.com/open-atmos/devops_tests/blob/main/test_files/template.ipynb)\n",
    "[![launch on mybinder.org](https://mybinder.org/badge_logo.svg)](https://mybinder.org/v2/gh/open-atmos/devops_tests.git/main?urlpath=lab/tree/test_files/template.ipynb)\n",
    "[![launch on Colab](https://colab.research.google.com/assets/colab-badge.svg)](https://colab.research.google.com/github/open-atmos/devops_tests/blob/main/test_files/template.ipynb)"
   ],
   "id": "e3f1edc815e974f4"
  },
  {
   "metadata": {},
   "cell_type": "markdown",
   "source": "",
   "id": "bb84c52c57a729ec"
  },
  {
   "metadata": {
    "ExecuteTime": {
     "end_time": "2024-11-07T15:59:23.962683Z",
     "start_time": "2024-11-07T15:59:23.936816Z"
    }
   },
   "cell_type": "code",
   "source": [
    "import sys\n",
    "\n",
    "from PySDM.physics.constants_defaults import rho_w\n",
    "\n",
    "if 'google.colab' in sys.modules:\n",
    "    !pip --quiet install open-atmos-jupyter-utils\n",
    "    from open_atmos_jupyter_utils import pip_install_on_colab\n",
    "    pip_install_on_colab('PySDM-examples')"
   ],
   "id": "5e4e58050cc01f64",
   "outputs": [],
   "execution_count": 29
  },
  {
   "metadata": {
    "ExecuteTime": {
     "end_time": "2024-11-07T15:59:24.929155Z",
     "start_time": "2024-11-07T15:59:24.925149Z"
    }
   },
   "cell_type": "code",
   "source": [
    "import numpy as np\n",
    "import pandas\n",
    "from PySDM.physics import in_unit, si\n",
    "from PySDM import Formulae"
   ],
   "id": "95f360dc62f373f9",
   "outputs": [],
   "execution_count": 30
  },
  {
   "metadata": {
    "ExecuteTime": {
     "end_time": "2024-11-07T15:59:38.089178Z",
     "start_time": "2024-11-07T15:59:38.072063Z"
    }
   },
   "cell_type": "code",
   "source": [
    "radii = np.asarray([0.005, 0.01, 0.025, 0.05, 0.075, 0.1, 0.15, 0.20]) * si.cm\n",
    "c1 = 1.63"
   ],
   "id": "e29a92d6680c4e51",
   "outputs": [],
   "execution_count": 31
  },
  {
   "metadata": {
    "ExecuteTime": {
     "end_time": "2024-11-07T16:55:19.583140Z",
     "start_time": "2024-11-07T16:55:18.909798Z"
    }
   },
   "cell_type": "code",
   "source": [
    "formulae = Formulae(\n",
    "    terminal_velocity='RogersYau',\n",
    "    drop_growth='Mason1951',\n",
    "    diffusion_thermics='Neglect',\n",
    "    saturation_vapour_pressure='AugustRocheMagnus',\n",
    "    ventilation='Froessling1938',\n",
    "    particle_shape_and_density='LiquidSpheres',\n",
    "    air_dynamic_viscosity='ZografosEtAl1987',\n",
    ")\n",
    "const = formulae.constants\n",
    "any_non_zero_value = 44.\n",
    "temperature = const.T0 + 10 * si.K\n",
    "pressure = const.p_STP\n",
    "pvs = formulae.saturation_vapour_pressure.pvs_water(temperature)\n",
    "v_term = formulae.terminal_velocity.v_term(radii)\n",
    "eta_air=formulae.air_dynamic_viscosity.eta_air(temperature)\n",
    "D=formulae.diffusion_thermics.D(T=temperature, p=pressure)\n",
    "Re = formulae.particle_shape_and_density.reynolds_number(\n",
    "     radius=radii,\n",
    "     velocity_wrt_air=v_term,\n",
    "     dynamic_viscosity=eta_air,\n",
    "     density=const.rho_w,\n",
    ")\n",
    "Sc = formulae.trivia.air_schmidt_number(\n",
    "    dynamic_viscosity=eta_air, \n",
    "    diffusivity=D, \n",
    "    density=const.rho_w,\n",
    ")\n",
    "F = formulae.ventilation.ventilation_coefficient(sqrt_re_times_cbrt_sc=Re**(1/2) * Sc**(1/3))\n",
    "f = .75\n",
    "\n",
    "r_dr_dt = formulae.drop_growth.r_dr_dt(\n",
    "    RH_eq=1,\n",
    "    T=temperature,\n",
    "    RH=0,\n",
    "    lv=0,\n",
    "    pvs=pvs,\n",
    "    D=D,\n",
    "    K=any_non_zero_value,\n",
    "    ventilation_factor=f\n",
    ")\n",
    "adjustment_time = (-3 / radii**2 * r_dr_dt * c1)**-1\n",
    "\n",
    "\n",
    "\n",
    "data = pandas.DataFrame({\n",
    "    'radius [cm]': in_unit(radii, si.cm),\n",
    "    'adjustment time [s]': adjustment_time,\n",
    "    'terminal velocity [m/s]': v_term,\n",
    "    'd [m]': v_term * adjustment_time\n",
    "})\n",
    "\n",
    "data"
   ],
   "id": "314f42c310883cfa",
   "outputs": [
    {
     "data": {
      "text/plain": [
       "   radius [cm]  adjustment time [s]  terminal velocity [m/s]         d [m]\n",
       "0        0.005             3.214946                 0.400000      1.285978\n",
       "1        0.010            12.859783                 0.800000     10.287826\n",
       "2        0.025            80.373641                 2.000000    160.747282\n",
       "3        0.050           321.494564                 4.000000   1285.978258\n",
       "4        0.075           723.362770                 5.504612   3981.831170\n",
       "5        0.100          1285.978258                 6.356178   8173.906836\n",
       "6        0.150          2893.451080                 7.784697  22524.638573\n",
       "7        0.200          5143.913032                 8.988993  46238.599620"
      ],
      "text/html": [
       "<div>\n",
       "<style scoped>\n",
       "    .dataframe tbody tr th:only-of-type {\n",
       "        vertical-align: middle;\n",
       "    }\n",
       "\n",
       "    .dataframe tbody tr th {\n",
       "        vertical-align: top;\n",
       "    }\n",
       "\n",
       "    .dataframe thead th {\n",
       "        text-align: right;\n",
       "    }\n",
       "</style>\n",
       "<table border=\"1\" class=\"dataframe\">\n",
       "  <thead>\n",
       "    <tr style=\"text-align: right;\">\n",
       "      <th></th>\n",
       "      <th>radius [cm]</th>\n",
       "      <th>adjustment time [s]</th>\n",
       "      <th>terminal velocity [m/s]</th>\n",
       "      <th>d [m]</th>\n",
       "    </tr>\n",
       "  </thead>\n",
       "  <tbody>\n",
       "    <tr>\n",
       "      <th>0</th>\n",
       "      <td>0.005</td>\n",
       "      <td>3.214946</td>\n",
       "      <td>0.400000</td>\n",
       "      <td>1.285978</td>\n",
       "    </tr>\n",
       "    <tr>\n",
       "      <th>1</th>\n",
       "      <td>0.010</td>\n",
       "      <td>12.859783</td>\n",
       "      <td>0.800000</td>\n",
       "      <td>10.287826</td>\n",
       "    </tr>\n",
       "    <tr>\n",
       "      <th>2</th>\n",
       "      <td>0.025</td>\n",
       "      <td>80.373641</td>\n",
       "      <td>2.000000</td>\n",
       "      <td>160.747282</td>\n",
       "    </tr>\n",
       "    <tr>\n",
       "      <th>3</th>\n",
       "      <td>0.050</td>\n",
       "      <td>321.494564</td>\n",
       "      <td>4.000000</td>\n",
       "      <td>1285.978258</td>\n",
       "    </tr>\n",
       "    <tr>\n",
       "      <th>4</th>\n",
       "      <td>0.075</td>\n",
       "      <td>723.362770</td>\n",
       "      <td>5.504612</td>\n",
       "      <td>3981.831170</td>\n",
       "    </tr>\n",
       "    <tr>\n",
       "      <th>5</th>\n",
       "      <td>0.100</td>\n",
       "      <td>1285.978258</td>\n",
       "      <td>6.356178</td>\n",
       "      <td>8173.906836</td>\n",
       "    </tr>\n",
       "    <tr>\n",
       "      <th>6</th>\n",
       "      <td>0.150</td>\n",
       "      <td>2893.451080</td>\n",
       "      <td>7.784697</td>\n",
       "      <td>22524.638573</td>\n",
       "    </tr>\n",
       "    <tr>\n",
       "      <th>7</th>\n",
       "      <td>0.200</td>\n",
       "      <td>5143.913032</td>\n",
       "      <td>8.988993</td>\n",
       "      <td>46238.599620</td>\n",
       "    </tr>\n",
       "  </tbody>\n",
       "</table>\n",
       "</div>"
      ]
     },
     "execution_count": 42,
     "metadata": {},
     "output_type": "execute_result"
    }
   ],
   "execution_count": 42
  },
  {
   "metadata": {
    "ExecuteTime": {
     "end_time": "2024-11-07T16:24:53.937759Z",
     "start_time": "2024-11-07T16:24:53.933144Z"
    }
   },
   "cell_type": "code",
   "source": [
    "a = np.zeros((1,2,3))\n",
    "print(a.ctypes.data, np.asarray(a).ctypes.data, np.array(a).ctypes.data)"
   ],
   "id": "b9f93620afbd7c4c",
   "outputs": [
    {
     "name": "stdout",
     "output_type": "stream",
     "text": [
      "105553144971456 105553144971456 105553144971264\n"
     ]
    }
   ],
   "execution_count": 39
  },
  {
   "metadata": {},
   "cell_type": "code",
   "outputs": [],
   "execution_count": null,
   "source": "",
   "id": "c9957e8d2f7621c9"
  }
 ],
 "metadata": {
  "kernelspec": {
   "display_name": "Python 3",
   "language": "python",
   "name": "python3"
  },
  "language_info": {
   "codemirror_mode": {
    "name": "ipython",
    "version": 2
   },
   "file_extension": ".py",
   "mimetype": "text/x-python",
   "name": "python",
   "nbconvert_exporter": "python",
   "pygments_lexer": "ipython2",
   "version": "2.7.6"
  }
 },
 "nbformat": 4,
 "nbformat_minor": 5
}
