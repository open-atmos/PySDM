{
 "cells": [
  {
   "cell_type": "markdown",
   "id": "e3f1edc815e974f4",
   "metadata": {},
   "source": [
    "[![preview notebook](https://img.shields.io/static/v1?label=render%20on&logo=github&color=87ce3e&message=GitHub)](https://github.com/open-atmos/PySDM/blob/main/examples/PySDM_examples/Bolin_1958/table_1.ipynb)\n",
    "[![launch on mybinder.org](https://mybinder.org/badge_logo.svg)](https://mybinder.org/v2/gh/open-atmos/PySDM.git/main?urlpath=lab/tree/examples/PySDM_examples/Bolin_1958/table_1.ipynb)\n",
    "[![launch on Colab](https://colab.research.google.com/assets/colab-badge.svg)](https://colab.research.google.com/github/open-atmos/PySDM/blob/main/examples/PySDM_examples/Bolin_1958/table_1.ipynb)"
   ]
  },
  {
   "cell_type": "markdown",
   "id": "bb84c52c57a729ec",
   "metadata": {},
   "source": "### based on Table 1 from B.Bolin 1958 \"On the use of tritium as a tracer for water in nature\" (https://digitallibrary.un.org/record/3892725)"
  },
  {
   "cell_type": "code",
   "id": "5e4e58050cc01f64",
   "metadata": {
    "ExecuteTime": {
     "end_time": "2025-01-28T12:20:25.165736Z",
     "start_time": "2025-01-28T12:20:25.109680Z"
    }
   },
   "source": [
    "import sys\n",
    "if 'google.colab' in sys.modules:\n",
    "    !pip --quiet install open-atmos-jupyter-utils\n",
    "    from open_atmos_jupyter_utils import pip_install_on_colab\n",
    "    pip_install_on_colab('PySDM-examples')"
   ],
   "outputs": [],
   "execution_count": 4
  },
  {
   "cell_type": "code",
   "id": "95f360dc62f373f9",
   "metadata": {
    "ExecuteTime": {
     "end_time": "2025-01-28T12:20:25.181288Z",
     "start_time": "2025-01-28T12:20:25.171899Z"
    }
   },
   "source": [
    "import pandas\n",
    "import numpy as np\n",
    "from PySDM.physics import in_unit, si\n",
    "from PySDM import Formulae\n",
    "from PySDM_examples.Bolin_1958.common import r_dr_dt_fun\n"
   ],
   "outputs": [],
   "execution_count": 5
  },
  {
   "metadata": {
    "ExecuteTime": {
     "end_time": "2025-01-28T12:20:25.641500Z",
     "start_time": "2025-01-28T12:20:25.242660Z"
    }
   },
   "cell_type": "code",
   "source": [
    "any_non_zero_value = 44.0\n",
    "radii = np.asarray([0.005, 0.01, 0.025, 0.05, 0.075, 0.1, 0.15, 0.20]) * si.cm\n",
    "formulae = Formulae(\n",
    "    terminal_velocity=\"RogersYau\",\n",
    "    drop_growth=\"Mason1951\",\n",
    "    diffusion_thermics=\"Neglect\",\n",
    "    saturation_vapour_pressure=\"AugustRocheMagnus\",\n",
    "    ventilation=\"Froessling1938\",\n",
    "    particle_shape_and_density=\"LiquidSpheres\",\n",
    "    air_dynamic_viscosity=\"ZografosEtAl1987\",\n",
    "    constants={\"BOLIN_ISOTOPE_TIMESCALE_COEFF_C1\": 1.63},\n",
    "    isotope_relaxation_timescale=\"Bolin1958\",\n",
    ")\n",
    "temperature = formulae.constants.T0 + 10 * si.K\n",
    "v_term = formulae.terminal_velocity.v_term(radii)\n",
    "r_dr_dt = r_dr_dt_fun(v_term=v_term, radii=radii, temperature=temperature, formulae=formulae, K=any_non_zero_value)\n",
    "adjustment_time = formulae.isotope_relaxation_timescale.tau_of_rdrdt(radius = radii, r_dr_dt = r_dr_dt)"
   ],
   "id": "4a8c2bd612c892f2",
   "outputs": [
    {
     "ename": "TypingError",
     "evalue": "Failed in nopython mode pipeline (step: nopython frontend)\nnon-precise type pyobject\nDuring: typing of argument at <string> (2)\n\nFile \"<string>\", line 2:\n<source missing, REPL/exec in use?> \n\nThis error may have been caused by the following argument(s):\n- argument 1: Cannot determine Numba type of <class 'functools.partial'> \n\nThis error may have been caused by the following argument(s):\n- argument 1: Cannot determine Numba type of <class 'functools.partial'>\n",
     "output_type": "error",
     "traceback": [
      "\u001B[0;31m---------------------------------------------------------------------------\u001B[0m",
      "\u001B[0;31mTypingError\u001B[0m                               Traceback (most recent call last)",
      "Cell \u001B[0;32mIn[6], line 17\u001B[0m\n\u001B[1;32m     15\u001B[0m v_term \u001B[38;5;241m=\u001B[39m formulae\u001B[38;5;241m.\u001B[39mterminal_velocity\u001B[38;5;241m.\u001B[39mv_term(radii)\n\u001B[1;32m     16\u001B[0m r_dr_dt \u001B[38;5;241m=\u001B[39m r_dr_dt_fun(v_term\u001B[38;5;241m=\u001B[39mv_term, radii\u001B[38;5;241m=\u001B[39mradii, temperature\u001B[38;5;241m=\u001B[39mtemperature, formulae\u001B[38;5;241m=\u001B[39mformulae, K\u001B[38;5;241m=\u001B[39many_non_zero_value)\n\u001B[0;32m---> 17\u001B[0m adjustment_time \u001B[38;5;241m=\u001B[39m \u001B[43mformulae\u001B[49m\u001B[38;5;241;43m.\u001B[39;49m\u001B[43misotope_relaxation_timescale\u001B[49m\u001B[38;5;241;43m.\u001B[39;49m\u001B[43mtau_of_rdrdt\u001B[49m\u001B[43m(\u001B[49m\u001B[43mradius\u001B[49m\u001B[43m \u001B[49m\u001B[38;5;241;43m=\u001B[39;49m\u001B[43m \u001B[49m\u001B[43mradii\u001B[49m\u001B[43m,\u001B[49m\u001B[43m \u001B[49m\u001B[43mr_dr_dt\u001B[49m\u001B[43m \u001B[49m\u001B[38;5;241;43m=\u001B[39;49m\u001B[43m \u001B[49m\u001B[43mr_dr_dt\u001B[49m\u001B[43m)\u001B[49m\n",
      "File \u001B[0;32m~/PycharmProjects/venv3.12/lib/python3.12/site-packages/numba/core/dispatcher.py:423\u001B[0m, in \u001B[0;36m_DispatcherBase._compile_for_args\u001B[0;34m(self, *args, **kws)\u001B[0m\n\u001B[1;32m    419\u001B[0m         msg \u001B[38;5;241m=\u001B[39m (\u001B[38;5;124mf\u001B[39m\u001B[38;5;124m\"\u001B[39m\u001B[38;5;132;01m{\u001B[39;00m\u001B[38;5;28mstr\u001B[39m(e)\u001B[38;5;241m.\u001B[39mrstrip()\u001B[38;5;132;01m}\u001B[39;00m\u001B[38;5;124m \u001B[39m\u001B[38;5;130;01m\\n\u001B[39;00m\u001B[38;5;130;01m\\n\u001B[39;00m\u001B[38;5;124mThis error may have been caused \u001B[39m\u001B[38;5;124m\"\u001B[39m\n\u001B[1;32m    420\u001B[0m                \u001B[38;5;124mf\u001B[39m\u001B[38;5;124m\"\u001B[39m\u001B[38;5;124mby the following argument(s):\u001B[39m\u001B[38;5;130;01m\\n\u001B[39;00m\u001B[38;5;132;01m{\u001B[39;00margs_str\u001B[38;5;132;01m}\u001B[39;00m\u001B[38;5;130;01m\\n\u001B[39;00m\u001B[38;5;124m\"\u001B[39m)\n\u001B[1;32m    421\u001B[0m         e\u001B[38;5;241m.\u001B[39mpatch_message(msg)\n\u001B[0;32m--> 423\u001B[0m     \u001B[43merror_rewrite\u001B[49m\u001B[43m(\u001B[49m\u001B[43me\u001B[49m\u001B[43m,\u001B[49m\u001B[43m \u001B[49m\u001B[38;5;124;43m'\u001B[39;49m\u001B[38;5;124;43mtyping\u001B[39;49m\u001B[38;5;124;43m'\u001B[39;49m\u001B[43m)\u001B[49m\n\u001B[1;32m    424\u001B[0m \u001B[38;5;28;01mexcept\u001B[39;00m errors\u001B[38;5;241m.\u001B[39mUnsupportedError \u001B[38;5;28;01mas\u001B[39;00m e:\n\u001B[1;32m    425\u001B[0m     \u001B[38;5;66;03m# Something unsupported is present in the user code, add help info\u001B[39;00m\n\u001B[1;32m    426\u001B[0m     error_rewrite(e, \u001B[38;5;124m'\u001B[39m\u001B[38;5;124munsupported_error\u001B[39m\u001B[38;5;124m'\u001B[39m)\n",
      "File \u001B[0;32m~/PycharmProjects/venv3.12/lib/python3.12/site-packages/numba/core/dispatcher.py:364\u001B[0m, in \u001B[0;36m_DispatcherBase._compile_for_args.<locals>.error_rewrite\u001B[0;34m(e, issue_type)\u001B[0m\n\u001B[1;32m    362\u001B[0m     \u001B[38;5;28;01mraise\u001B[39;00m e\n\u001B[1;32m    363\u001B[0m \u001B[38;5;28;01melse\u001B[39;00m:\n\u001B[0;32m--> 364\u001B[0m     \u001B[38;5;28;01mraise\u001B[39;00m e\u001B[38;5;241m.\u001B[39mwith_traceback(\u001B[38;5;28;01mNone\u001B[39;00m)\n",
      "\u001B[0;31mTypingError\u001B[0m: Failed in nopython mode pipeline (step: nopython frontend)\nnon-precise type pyobject\nDuring: typing of argument at <string> (2)\n\nFile \"<string>\", line 2:\n<source missing, REPL/exec in use?> \n\nThis error may have been caused by the following argument(s):\n- argument 1: Cannot determine Numba type of <class 'functools.partial'> \n\nThis error may have been caused by the following argument(s):\n- argument 1: Cannot determine Numba type of <class 'functools.partial'>\n"
     ]
    }
   ],
   "execution_count": 6
  },
  {
   "metadata": {},
   "cell_type": "code",
   "source": [
    "pandas.options.display.float_format = '{:>,.2g}'.format\n",
    "data = pandas.DataFrame({\n",
    "    'radius [cm]': in_unit(radii, si.cm),\n",
    "    'adjustment time [s]': adjustment_time,\n",
    "    'terminal velocity [m/s]': v_term,\n",
    "    'distance [m]': v_term * adjustment_time,\n",
    "})\n",
    "\n",
    "data # pylint: disable=pointless-statement"
   ],
   "id": "340812de267c4290",
   "outputs": [],
   "execution_count": null
  },
  {
   "metadata": {},
   "cell_type": "code",
   "source": "",
   "id": "eeec7e163ba8c4ea",
   "outputs": [],
   "execution_count": null
  }
 ],
 "metadata": {
  "kernelspec": {
   "display_name": "Python 3 (ipykernel)",
   "language": "python",
   "name": "python3"
  },
  "language_info": {
   "codemirror_mode": {
    "name": "ipython",
    "version": 3
   },
   "file_extension": ".py",
   "mimetype": "text/x-python",
   "name": "python",
   "nbconvert_exporter": "python",
   "pygments_lexer": "ipython3",
   "version": "3.9.6"
  }
 },
 "nbformat": 4,
 "nbformat_minor": 5
}
