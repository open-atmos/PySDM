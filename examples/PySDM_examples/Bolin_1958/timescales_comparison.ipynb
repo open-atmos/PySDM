{
 "cells": [
  {
   "metadata": {},
   "cell_type": "markdown",
   "source": [
    "[![preview notebook](https://img.shields.io/static/v1?label=render%20on&logo=github&color=87ce3e&message=GitHub)](https://github.com/open-atmos/PySDM/blob/main/examples/PySDM_examples/Bolin_1958/timescales_comparison.ipynb)\n",
    "[![launch on mybinder.org](https://mybinder.org/badge_logo.svg)](https://mybinder.org/v2/gh/open-atmos/PySDM.git/main?urlpath=lab/tree/examples/PySDM_examples/Bolin_1958/timescales_comparison.ipynb)\n",
    "[![launch on Colab](https://colab.research.google.com/assets/colab-badge.svg)](https://colab.research.google.com/github/open-atmos/PySDM/blob/main/examples/PySDM_examples/Bolin_1958/timescales_comparison.ipynb)"
   ],
   "id": "da62f9aa77468520"
  },
  {
   "metadata": {},
   "cell_type": "markdown",
   "source": [
    "#### Timescales comparison \n",
    "##### Bolin\n",
    "##### Gedzelman"
   ],
   "id": "c7eb55d509c585e9"
  },
  {
   "metadata": {
    "ExecuteTime": {
     "end_time": "2025-02-07T13:57:52.306089Z",
     "start_time": "2025-02-07T13:57:50.786747Z"
    }
   },
   "cell_type": "code",
   "source": [
    "import sys\n",
    "\n",
    "from dill import settings\n",
    "\n",
    "from PySDM.attributes.isotopes.delta import isotope\n",
    "\n",
    "if 'google.colab' in sys.modules:\n",
    "    !pip --quiet install open-atmos-jupyter-utils\n",
    "    from open_atmos_jupyter_utils import pip_install_on_colab\n",
    "    pip_install_on_colab('PySDM-examples')"
   ],
   "id": "f508348dd491651d",
   "outputs": [],
   "execution_count": 1
  },
  {
   "metadata": {
    "ExecuteTime": {
     "end_time": "2025-02-07T13:57:52.668515Z",
     "start_time": "2025-02-07T13:57:52.316357Z"
    }
   },
   "cell_type": "code",
   "source": [
    "import numpy as np\n",
    "from PySDM.physics import si\n",
    "from PySDM import Formulae\n",
    "from PySDM_examples.Bolin_1958.common import IsotopeTimescaleCommon\n",
    "from open_atmos_jupyter_utils import show_plot"
   ],
   "id": "c680144e7ad3b94a",
   "outputs": [],
   "execution_count": 2
  },
  {
   "metadata": {
    "ExecuteTime": {
     "end_time": "2025-02-07T14:00:26.965676Z",
     "start_time": "2025-02-07T14:00:26.952976Z"
    }
   },
   "cell_type": "code",
   "source": [
    "any_non_zero_value = 44.0\n",
    "radii = np.asarray([0.005, 0.01, 0.025, 0.05, 0.075, 0.1, 0.15, 0.20]) * si.cm\n",
    "temperature = Formulae().constants.T0 + 10 * si.K\n",
    "\n",
    "settings = {\n",
    "    \"terminal_velocity\":\"RogersYau\",\n",
    "    \"drop_growth\":\"Mason1951\",\n",
    "    \"diffusion_thermics\":\"Neglect\",\n",
    "    \"saturation_vapour_pressure\":\"AugustRocheMagnus\",\n",
    "    \"ventilation\":\"Froessling1938\",\n",
    "    \"particle_shape_and_density\":\"LiquidSpheres\",\n",
    "    \"air_dynamic_viscosity\":\"ZografosEtAl1987\",\n",
    "}\n",
    "\n",
    "variants = {\n",
    "    'bolin': {\n",
    "        'constants': {\"BOLIN_ISOTOPE_TIMESCALE_COEFF_C1\": 1.63},\n",
    "        'isotope_relaxation_timescale': \"Bolin1958\",\n",
    "    },\n",
    "    'miyake': {\n",
    "        'isotope_relaxation_timescale': \"MiyakeEtAl1968\",\n",
    "    }\n",
    "}\n",
    "\n",
    "adjustment_time = {}\n",
    "for variant, kwargs in variants.items():\n",
    "    formulae = Formulae(\n",
    "        **{**kwargs, **settings},\n",
    "    )\n",
    "    const = formulae.constants\n",
    "    isotope_functions = IsotopeTimescaleCommon(formulae=formulae, temperature=temperature, radii=radii)\n",
    "    \n",
    "    r_dr_dt = isotope_functions.r_dr_dt_fun(K=any_non_zero_value)\n",
    "    adjustment_time[variant] = formulae.isotope_relaxation_timescale.tau_of_rdrdt(\n",
    "        radius = radii,\n",
    "        r_dr_dt = r_dr_dt(RH=0, RH_eq=1, lv=0),\n",
    "        alpha=1\n",
    "    )\n",
    "    \n",
    "    if variant == 'bolin':\n",
    "        vent_coeff = isotope_functions.vent_coeff_fun()\n",
    "        alpha = 0.75\n",
    "        c1_coeff = isotope_functions.formulae.isotope_relaxation_timescale.c1_coeff(\n",
    "            vent_coeff_iso = vent_coeff,\n",
    "            vent_coeff = vent_coeff,\n",
    "            D_iso = isotope_functions.D,\n",
    "            D = isotope_functions.D,\n",
    "            alpha = alpha,\n",
    "            rho_env_iso = 0,\n",
    "            rho_env = 0,\n",
    "            M_iso = 1, #any number const.M_3H,\n",
    "            pvs_iso = 1, #any number\n",
    "            pvs_water =1, #any number isotope_functions.formulae.saturation_vapour_pressure.pvs_water(temperature),\n",
    "            temperature = isotope_functions.temperature,\n",
    "        )\n",
    "        print(f\"c1 = {c1_coeff}\")\n",
    "        adjustment_time['bolin_c1'] = formulae.isotope_relaxation_timescale.tau_of_rdrdt_c1(\n",
    "        radius = radii,\n",
    "        r_dr_dt = r_dr_dt(RH=0, RH_eq=1, lv=0),\n",
    "        alpha=1,\n",
    "        c1_coeff = c1_coeff\n",
    "    )"
   ],
   "id": "c5b65e0aa78917e9",
   "outputs": [
    {
     "name": "stdout",
     "output_type": "stream",
     "text": [
      "c1 = [1.33333333 1.33333333 1.33333333 1.33333333 1.33333333 1.33333333\n",
      " 1.33333333 1.33333333]\n"
     ]
    }
   ],
   "execution_count": 13
  },
  {
   "metadata": {
    "ExecuteTime": {
     "end_time": "2025-02-07T13:57:52.852067Z",
     "start_time": "2025-02-07T13:57:52.847989Z"
    }
   },
   "cell_type": "code",
   "source": "adjustment_time",
   "id": "2c00df07bb9ed47b",
   "outputs": [
    {
     "data": {
      "text/plain": [
       "{'bolin': array([  4.58101402,  14.2607967 ,  53.52400906, 128.5239839 ,\n",
       "        214.34582876, 316.23237039, 542.50772639, 791.741067  ]),\n",
       " 'bolin_c1': array([  2.10782854,   6.56171627,  24.62761153,  59.13680241,\n",
       "         98.62538133, 145.50569189, 249.6201195 , 364.29803696]),\n",
       " 'miyake': array([  2.81043805,   8.74895503,  32.83681537,  78.84906987,\n",
       "        131.50050844, 194.00758919, 332.82682601, 485.73071595])}"
      ]
     },
     "execution_count": 4,
     "metadata": {},
     "output_type": "execute_result"
    }
   ],
   "execution_count": 4
  },
  {
   "metadata": {
    "ExecuteTime": {
     "end_time": "2025-02-07T13:57:53.328964Z",
     "start_time": "2025-02-07T13:57:52.931088Z"
    }
   },
   "cell_type": "code",
   "source": [
    "import matplotlib.pyplot as plt\n",
    "\n",
    "fig, ax = plt.subplots()\n",
    "for variant, time in adjustment_time.items():\n",
    "    ax.loglog(radii, time * si.s, label=variant)\n",
    "ax.set_title('Isotopic relaxation timescale comparison in a log-log scale')\n",
    "ax.set_xlabel('Log Radius [cm]')\n",
    "ax.set_ylabel('Log Time [s]')\n",
    "ax.legend()\n",
    "show_plot('timescales_comparison.pdf')"
   ],
   "id": "52ad83d048dd7bbc",
   "outputs": [
    {
     "data": {
      "text/plain": [
       "<Figure size 640x480 with 1 Axes>"
      ],
      "image/svg+xml": "<?xml version=\"1.0\" encoding=\"utf-8\" standalone=\"no\"?>\n<!DOCTYPE svg PUBLIC \"-//W3C//DTD SVG 1.1//EN\"\n  \"http://www.w3.org/Graphics/SVG/1.1/DTD/svg11.dtd\">\n<svg xmlns:xlink=\"http://www.w3.org/1999/xlink\" width=\"409.798125pt\" height=\"325.986375pt\" viewBox=\"0 0 409.798125 325.986375\" xmlns=\"http://www.w3.org/2000/svg\" version=\"1.1\">\n <metadata>\n  <rdf:RDF xmlns:dc=\"http://purl.org/dc/elements/1.1/\" xmlns:cc=\"http://creativecommons.org/ns#\" xmlns:rdf=\"http://www.w3.org/1999/02/22-rdf-syntax-ns#\">\n   <cc:Work>\n    <dc:type rdf:resource=\"http://purl.org/dc/dcmitype/StillImage\"/>\n    <dc:date>2025-02-07T14:57:53.300128</dc:date>\n    <dc:format>image/svg+xml</dc:format>\n    <dc:creator>\n     <cc:Agent>\n      <dc:title>Matplotlib v3.10.0, https://matplotlib.org/</dc:title>\n     </cc:Agent>\n    </dc:creator>\n   </cc:Work>\n  </rdf:RDF>\n </metadata>\n <defs>\n  <style type=\"text/css\">*{stroke-linejoin: round; stroke-linecap: butt}</style>\n </defs>\n <g id=\"figure_1\">\n  <g id=\"patch_1\">\n   <path d=\"M 0 325.986375 \nL 409.798125 325.986375 \nL 409.798125 0 \nL 0 0 \nz\n\" style=\"fill: #ffffff\"/>\n  </g>\n  <g id=\"axes_1\">\n   <g id=\"patch_2\">\n    <path d=\"M 45.478125 288.430125 \nL 402.598125 288.430125 \nL 402.598125 22.318125 \nL 45.478125 22.318125 \nz\n\" style=\"fill: #ffffff\"/>\n   </g>\n   <g id=\"matplotlib.axis_1\">\n    <g id=\"xtick_1\">\n     <g id=\"line2d_1\">\n      <defs>\n       <path id=\"mf2e2d5c230\" d=\"M 0 0 \nL 0 3.5 \n\" style=\"stroke: #000000; stroke-width: 0.8\"/>\n      </defs>\n      <g>\n       <use xlink:href=\"#mf2e2d5c230\" x=\"122.714034\" y=\"288.430125\" style=\"stroke: #000000; stroke-width: 0.8\"/>\n      </g>\n     </g>\n     <g id=\"text_1\">\n      <!-- $\\mathdefault{10^{-4}}$ -->\n      <g transform=\"translate(110.964034 303.028562) scale(0.1 -0.1)\">\n       <defs>\n        <path id=\"DejaVuSans-31\" d=\"M 794 531 \nL 1825 531 \nL 1825 4091 \nL 703 3866 \nL 703 4441 \nL 1819 4666 \nL 2450 4666 \nL 2450 531 \nL 3481 531 \nL 3481 0 \nL 794 0 \nL 794 531 \nz\n\" transform=\"scale(0.015625)\"/>\n        <path id=\"DejaVuSans-30\" d=\"M 2034 4250 \nQ 1547 4250 1301 3770 \nQ 1056 3291 1056 2328 \nQ 1056 1369 1301 889 \nQ 1547 409 2034 409 \nQ 2525 409 2770 889 \nQ 3016 1369 3016 2328 \nQ 3016 3291 2770 3770 \nQ 2525 4250 2034 4250 \nz\nM 2034 4750 \nQ 2819 4750 3233 4129 \nQ 3647 3509 3647 2328 \nQ 3647 1150 3233 529 \nQ 2819 -91 2034 -91 \nQ 1250 -91 836 529 \nQ 422 1150 422 2328 \nQ 422 3509 836 4129 \nQ 1250 4750 2034 4750 \nz\n\" transform=\"scale(0.015625)\"/>\n        <path id=\"DejaVuSans-2212\" d=\"M 678 2272 \nL 4684 2272 \nL 4684 1741 \nL 678 1741 \nL 678 2272 \nz\n\" transform=\"scale(0.015625)\"/>\n        <path id=\"DejaVuSans-34\" d=\"M 2419 4116 \nL 825 1625 \nL 2419 1625 \nL 2419 4116 \nz\nM 2253 4666 \nL 3047 4666 \nL 3047 1625 \nL 3713 1625 \nL 3713 1100 \nL 3047 1100 \nL 3047 0 \nL 2419 0 \nL 2419 1100 \nL 313 1100 \nL 313 1709 \nL 2253 4666 \nz\n\" transform=\"scale(0.015625)\"/>\n       </defs>\n       <use xlink:href=\"#DejaVuSans-31\" transform=\"translate(0 0.684375)\"/>\n       <use xlink:href=\"#DejaVuSans-30\" transform=\"translate(63.623047 0.684375)\"/>\n       <use xlink:href=\"#DejaVuSans-2212\" transform=\"translate(128.203125 38.965625) scale(0.7)\"/>\n       <use xlink:href=\"#DejaVuSans-34\" transform=\"translate(186.855469 38.965625) scale(0.7)\"/>\n      </g>\n     </g>\n    </g>\n    <g id=\"xtick_2\">\n     <g id=\"line2d_2\">\n      <g>\n       <use xlink:href=\"#mf2e2d5c230\" x=\"325.362216\" y=\"288.430125\" style=\"stroke: #000000; stroke-width: 0.8\"/>\n      </g>\n     </g>\n     <g id=\"text_2\">\n      <!-- $\\mathdefault{10^{-3}}$ -->\n      <g transform=\"translate(313.612216 303.028562) scale(0.1 -0.1)\">\n       <defs>\n        <path id=\"DejaVuSans-33\" d=\"M 2597 2516 \nQ 3050 2419 3304 2112 \nQ 3559 1806 3559 1356 \nQ 3559 666 3084 287 \nQ 2609 -91 1734 -91 \nQ 1441 -91 1130 -33 \nQ 819 25 488 141 \nL 488 750 \nQ 750 597 1062 519 \nQ 1375 441 1716 441 \nQ 2309 441 2620 675 \nQ 2931 909 2931 1356 \nQ 2931 1769 2642 2001 \nQ 2353 2234 1838 2234 \nL 1294 2234 \nL 1294 2753 \nL 1863 2753 \nQ 2328 2753 2575 2939 \nQ 2822 3125 2822 3475 \nQ 2822 3834 2567 4026 \nQ 2313 4219 1838 4219 \nQ 1578 4219 1281 4162 \nQ 984 4106 628 3988 \nL 628 4550 \nQ 988 4650 1302 4700 \nQ 1616 4750 1894 4750 \nQ 2613 4750 3031 4423 \nQ 3450 4097 3450 3541 \nQ 3450 3153 3228 2886 \nQ 3006 2619 2597 2516 \nz\n\" transform=\"scale(0.015625)\"/>\n       </defs>\n       <use xlink:href=\"#DejaVuSans-31\" transform=\"translate(0 0.765625)\"/>\n       <use xlink:href=\"#DejaVuSans-30\" transform=\"translate(63.623047 0.765625)\"/>\n       <use xlink:href=\"#DejaVuSans-2212\" transform=\"translate(128.203125 39.046875) scale(0.7)\"/>\n       <use xlink:href=\"#DejaVuSans-33\" transform=\"translate(186.855469 39.046875) scale(0.7)\"/>\n      </g>\n     </g>\n    </g>\n    <g id=\"xtick_3\">\n     <g id=\"line2d_3\">\n      <defs>\n       <path id=\"m28679805c1\" d=\"M 0 0 \nL 0 2 \n\" style=\"stroke: #000000; stroke-width: 0.6\"/>\n      </defs>\n      <g>\n       <use xlink:href=\"#m28679805c1\" x=\"61.710852\" y=\"288.430125\" style=\"stroke: #000000; stroke-width: 0.6\"/>\n      </g>\n     </g>\n    </g>\n    <g id=\"xtick_4\">\n     <g id=\"line2d_4\">\n      <g>\n       <use xlink:href=\"#m28679805c1\" x=\"77.756788\" y=\"288.430125\" style=\"stroke: #000000; stroke-width: 0.6\"/>\n      </g>\n     </g>\n    </g>\n    <g id=\"xtick_5\">\n     <g id=\"line2d_5\">\n      <g>\n       <use xlink:href=\"#m28679805c1\" x=\"91.323433\" y=\"288.430125\" style=\"stroke: #000000; stroke-width: 0.6\"/>\n      </g>\n     </g>\n    </g>\n    <g id=\"xtick_6\">\n     <g id=\"line2d_6\">\n      <g>\n       <use xlink:href=\"#m28679805c1\" x=\"103.075396\" y=\"288.430125\" style=\"stroke: #000000; stroke-width: 0.6\"/>\n      </g>\n     </g>\n    </g>\n    <g id=\"xtick_7\">\n     <g id=\"line2d_7\">\n      <g>\n       <use xlink:href=\"#m28679805c1\" x=\"113.441361\" y=\"288.430125\" style=\"stroke: #000000; stroke-width: 0.6\"/>\n      </g>\n     </g>\n    </g>\n    <g id=\"xtick_8\">\n     <g id=\"line2d_8\">\n      <g>\n       <use xlink:href=\"#m28679805c1\" x=\"183.717215\" y=\"288.430125\" style=\"stroke: #000000; stroke-width: 0.6\"/>\n      </g>\n     </g>\n    </g>\n    <g id=\"xtick_9\">\n     <g id=\"line2d_9\">\n      <g>\n       <use xlink:href=\"#m28679805c1\" x=\"219.401789\" y=\"288.430125\" style=\"stroke: #000000; stroke-width: 0.6\"/>\n      </g>\n     </g>\n    </g>\n    <g id=\"xtick_10\">\n     <g id=\"line2d_10\">\n      <g>\n       <use xlink:href=\"#m28679805c1\" x=\"244.720397\" y=\"288.430125\" style=\"stroke: #000000; stroke-width: 0.6\"/>\n      </g>\n     </g>\n    </g>\n    <g id=\"xtick_11\">\n     <g id=\"line2d_11\">\n      <g>\n       <use xlink:href=\"#m28679805c1\" x=\"264.359035\" y=\"288.430125\" style=\"stroke: #000000; stroke-width: 0.6\"/>\n      </g>\n     </g>\n    </g>\n    <g id=\"xtick_12\">\n     <g id=\"line2d_12\">\n      <g>\n       <use xlink:href=\"#m28679805c1\" x=\"280.40497\" y=\"288.430125\" style=\"stroke: #000000; stroke-width: 0.6\"/>\n      </g>\n     </g>\n    </g>\n    <g id=\"xtick_13\">\n     <g id=\"line2d_13\">\n      <g>\n       <use xlink:href=\"#m28679805c1\" x=\"293.971616\" y=\"288.430125\" style=\"stroke: #000000; stroke-width: 0.6\"/>\n      </g>\n     </g>\n    </g>\n    <g id=\"xtick_14\">\n     <g id=\"line2d_14\">\n      <g>\n       <use xlink:href=\"#m28679805c1\" x=\"305.723578\" y=\"288.430125\" style=\"stroke: #000000; stroke-width: 0.6\"/>\n      </g>\n     </g>\n    </g>\n    <g id=\"xtick_15\">\n     <g id=\"line2d_15\">\n      <g>\n       <use xlink:href=\"#m28679805c1\" x=\"316.089544\" y=\"288.430125\" style=\"stroke: #000000; stroke-width: 0.6\"/>\n      </g>\n     </g>\n    </g>\n    <g id=\"xtick_16\">\n     <g id=\"line2d_16\">\n      <g>\n       <use xlink:href=\"#m28679805c1\" x=\"386.365398\" y=\"288.430125\" style=\"stroke: #000000; stroke-width: 0.6\"/>\n      </g>\n     </g>\n    </g>\n    <g id=\"text_3\">\n     <!-- Log Radius [cm] -->\n     <g transform=\"translate(183.644375 316.706687) scale(0.1 -0.1)\">\n      <defs>\n       <path id=\"DejaVuSans-4c\" d=\"M 628 4666 \nL 1259 4666 \nL 1259 531 \nL 3531 531 \nL 3531 0 \nL 628 0 \nL 628 4666 \nz\n\" transform=\"scale(0.015625)\"/>\n       <path id=\"DejaVuSans-6f\" d=\"M 1959 3097 \nQ 1497 3097 1228 2736 \nQ 959 2375 959 1747 \nQ 959 1119 1226 758 \nQ 1494 397 1959 397 \nQ 2419 397 2687 759 \nQ 2956 1122 2956 1747 \nQ 2956 2369 2687 2733 \nQ 2419 3097 1959 3097 \nz\nM 1959 3584 \nQ 2709 3584 3137 3096 \nQ 3566 2609 3566 1747 \nQ 3566 888 3137 398 \nQ 2709 -91 1959 -91 \nQ 1206 -91 779 398 \nQ 353 888 353 1747 \nQ 353 2609 779 3096 \nQ 1206 3584 1959 3584 \nz\n\" transform=\"scale(0.015625)\"/>\n       <path id=\"DejaVuSans-67\" d=\"M 2906 1791 \nQ 2906 2416 2648 2759 \nQ 2391 3103 1925 3103 \nQ 1463 3103 1205 2759 \nQ 947 2416 947 1791 \nQ 947 1169 1205 825 \nQ 1463 481 1925 481 \nQ 2391 481 2648 825 \nQ 2906 1169 2906 1791 \nz\nM 3481 434 \nQ 3481 -459 3084 -895 \nQ 2688 -1331 1869 -1331 \nQ 1566 -1331 1297 -1286 \nQ 1028 -1241 775 -1147 \nL 775 -588 \nQ 1028 -725 1275 -790 \nQ 1522 -856 1778 -856 \nQ 2344 -856 2625 -561 \nQ 2906 -266 2906 331 \nL 2906 616 \nQ 2728 306 2450 153 \nQ 2172 0 1784 0 \nQ 1141 0 747 490 \nQ 353 981 353 1791 \nQ 353 2603 747 3093 \nQ 1141 3584 1784 3584 \nQ 2172 3584 2450 3431 \nQ 2728 3278 2906 2969 \nL 2906 3500 \nL 3481 3500 \nL 3481 434 \nz\n\" transform=\"scale(0.015625)\"/>\n       <path id=\"DejaVuSans-20\" transform=\"scale(0.015625)\"/>\n       <path id=\"DejaVuSans-52\" d=\"M 2841 2188 \nQ 3044 2119 3236 1894 \nQ 3428 1669 3622 1275 \nL 4263 0 \nL 3584 0 \nL 2988 1197 \nQ 2756 1666 2539 1819 \nQ 2322 1972 1947 1972 \nL 1259 1972 \nL 1259 0 \nL 628 0 \nL 628 4666 \nL 2053 4666 \nQ 2853 4666 3247 4331 \nQ 3641 3997 3641 3322 \nQ 3641 2881 3436 2590 \nQ 3231 2300 2841 2188 \nz\nM 1259 4147 \nL 1259 2491 \nL 2053 2491 \nQ 2509 2491 2742 2702 \nQ 2975 2913 2975 3322 \nQ 2975 3731 2742 3939 \nQ 2509 4147 2053 4147 \nL 1259 4147 \nz\n\" transform=\"scale(0.015625)\"/>\n       <path id=\"DejaVuSans-61\" d=\"M 2194 1759 \nQ 1497 1759 1228 1600 \nQ 959 1441 959 1056 \nQ 959 750 1161 570 \nQ 1363 391 1709 391 \nQ 2188 391 2477 730 \nQ 2766 1069 2766 1631 \nL 2766 1759 \nL 2194 1759 \nz\nM 3341 1997 \nL 3341 0 \nL 2766 0 \nL 2766 531 \nQ 2569 213 2275 61 \nQ 1981 -91 1556 -91 \nQ 1019 -91 701 211 \nQ 384 513 384 1019 \nQ 384 1609 779 1909 \nQ 1175 2209 1959 2209 \nL 2766 2209 \nL 2766 2266 \nQ 2766 2663 2505 2880 \nQ 2244 3097 1772 3097 \nQ 1472 3097 1187 3025 \nQ 903 2953 641 2809 \nL 641 3341 \nQ 956 3463 1253 3523 \nQ 1550 3584 1831 3584 \nQ 2591 3584 2966 3190 \nQ 3341 2797 3341 1997 \nz\n\" transform=\"scale(0.015625)\"/>\n       <path id=\"DejaVuSans-64\" d=\"M 2906 2969 \nL 2906 4863 \nL 3481 4863 \nL 3481 0 \nL 2906 0 \nL 2906 525 \nQ 2725 213 2448 61 \nQ 2172 -91 1784 -91 \nQ 1150 -91 751 415 \nQ 353 922 353 1747 \nQ 353 2572 751 3078 \nQ 1150 3584 1784 3584 \nQ 2172 3584 2448 3432 \nQ 2725 3281 2906 2969 \nz\nM 947 1747 \nQ 947 1113 1208 752 \nQ 1469 391 1925 391 \nQ 2381 391 2643 752 \nQ 2906 1113 2906 1747 \nQ 2906 2381 2643 2742 \nQ 2381 3103 1925 3103 \nQ 1469 3103 1208 2742 \nQ 947 2381 947 1747 \nz\n\" transform=\"scale(0.015625)\"/>\n       <path id=\"DejaVuSans-69\" d=\"M 603 3500 \nL 1178 3500 \nL 1178 0 \nL 603 0 \nL 603 3500 \nz\nM 603 4863 \nL 1178 4863 \nL 1178 4134 \nL 603 4134 \nL 603 4863 \nz\n\" transform=\"scale(0.015625)\"/>\n       <path id=\"DejaVuSans-75\" d=\"M 544 1381 \nL 544 3500 \nL 1119 3500 \nL 1119 1403 \nQ 1119 906 1312 657 \nQ 1506 409 1894 409 \nQ 2359 409 2629 706 \nQ 2900 1003 2900 1516 \nL 2900 3500 \nL 3475 3500 \nL 3475 0 \nL 2900 0 \nL 2900 538 \nQ 2691 219 2414 64 \nQ 2138 -91 1772 -91 \nQ 1169 -91 856 284 \nQ 544 659 544 1381 \nz\nM 1991 3584 \nL 1991 3584 \nz\n\" transform=\"scale(0.015625)\"/>\n       <path id=\"DejaVuSans-73\" d=\"M 2834 3397 \nL 2834 2853 \nQ 2591 2978 2328 3040 \nQ 2066 3103 1784 3103 \nQ 1356 3103 1142 2972 \nQ 928 2841 928 2578 \nQ 928 2378 1081 2264 \nQ 1234 2150 1697 2047 \nL 1894 2003 \nQ 2506 1872 2764 1633 \nQ 3022 1394 3022 966 \nQ 3022 478 2636 193 \nQ 2250 -91 1575 -91 \nQ 1294 -91 989 -36 \nQ 684 19 347 128 \nL 347 722 \nQ 666 556 975 473 \nQ 1284 391 1588 391 \nQ 1994 391 2212 530 \nQ 2431 669 2431 922 \nQ 2431 1156 2273 1281 \nQ 2116 1406 1581 1522 \nL 1381 1569 \nQ 847 1681 609 1914 \nQ 372 2147 372 2553 \nQ 372 3047 722 3315 \nQ 1072 3584 1716 3584 \nQ 2034 3584 2315 3537 \nQ 2597 3491 2834 3397 \nz\n\" transform=\"scale(0.015625)\"/>\n       <path id=\"DejaVuSans-5b\" d=\"M 550 4863 \nL 1875 4863 \nL 1875 4416 \nL 1125 4416 \nL 1125 -397 \nL 1875 -397 \nL 1875 -844 \nL 550 -844 \nL 550 4863 \nz\n\" transform=\"scale(0.015625)\"/>\n       <path id=\"DejaVuSans-63\" d=\"M 3122 3366 \nL 3122 2828 \nQ 2878 2963 2633 3030 \nQ 2388 3097 2138 3097 \nQ 1578 3097 1268 2742 \nQ 959 2388 959 1747 \nQ 959 1106 1268 751 \nQ 1578 397 2138 397 \nQ 2388 397 2633 464 \nQ 2878 531 3122 666 \nL 3122 134 \nQ 2881 22 2623 -34 \nQ 2366 -91 2075 -91 \nQ 1284 -91 818 406 \nQ 353 903 353 1747 \nQ 353 2603 823 3093 \nQ 1294 3584 2113 3584 \nQ 2378 3584 2631 3529 \nQ 2884 3475 3122 3366 \nz\n\" transform=\"scale(0.015625)\"/>\n       <path id=\"DejaVuSans-6d\" d=\"M 3328 2828 \nQ 3544 3216 3844 3400 \nQ 4144 3584 4550 3584 \nQ 5097 3584 5394 3201 \nQ 5691 2819 5691 2113 \nL 5691 0 \nL 5113 0 \nL 5113 2094 \nQ 5113 2597 4934 2840 \nQ 4756 3084 4391 3084 \nQ 3944 3084 3684 2787 \nQ 3425 2491 3425 1978 \nL 3425 0 \nL 2847 0 \nL 2847 2094 \nQ 2847 2600 2669 2842 \nQ 2491 3084 2119 3084 \nQ 1678 3084 1418 2786 \nQ 1159 2488 1159 1978 \nL 1159 0 \nL 581 0 \nL 581 3500 \nL 1159 3500 \nL 1159 2956 \nQ 1356 3278 1631 3431 \nQ 1906 3584 2284 3584 \nQ 2666 3584 2933 3390 \nQ 3200 3197 3328 2828 \nz\n\" transform=\"scale(0.015625)\"/>\n       <path id=\"DejaVuSans-5d\" d=\"M 1947 4863 \nL 1947 -844 \nL 622 -844 \nL 622 -397 \nL 1369 -397 \nL 1369 4416 \nL 622 4416 \nL 622 4863 \nL 1947 4863 \nz\n\" transform=\"scale(0.015625)\"/>\n      </defs>\n      <use xlink:href=\"#DejaVuSans-4c\"/>\n      <use xlink:href=\"#DejaVuSans-6f\" transform=\"translate(53.962891 0)\"/>\n      <use xlink:href=\"#DejaVuSans-67\" transform=\"translate(115.144531 0)\"/>\n      <use xlink:href=\"#DejaVuSans-20\" transform=\"translate(178.621094 0)\"/>\n      <use xlink:href=\"#DejaVuSans-52\" transform=\"translate(210.408203 0)\"/>\n      <use xlink:href=\"#DejaVuSans-61\" transform=\"translate(277.640625 0)\"/>\n      <use xlink:href=\"#DejaVuSans-64\" transform=\"translate(338.919922 0)\"/>\n      <use xlink:href=\"#DejaVuSans-69\" transform=\"translate(402.396484 0)\"/>\n      <use xlink:href=\"#DejaVuSans-75\" transform=\"translate(430.179688 0)\"/>\n      <use xlink:href=\"#DejaVuSans-73\" transform=\"translate(493.558594 0)\"/>\n      <use xlink:href=\"#DejaVuSans-20\" transform=\"translate(545.658203 0)\"/>\n      <use xlink:href=\"#DejaVuSans-5b\" transform=\"translate(577.445312 0)\"/>\n      <use xlink:href=\"#DejaVuSans-63\" transform=\"translate(616.458984 0)\"/>\n      <use xlink:href=\"#DejaVuSans-6d\" transform=\"translate(671.439453 0)\"/>\n      <use xlink:href=\"#DejaVuSans-5d\" transform=\"translate(768.851562 0)\"/>\n     </g>\n    </g>\n   </g>\n   <g id=\"matplotlib.axis_2\">\n    <g id=\"ytick_1\">\n     <g id=\"line2d_17\">\n      <defs>\n       <path id=\"mb3282af03a\" d=\"M 0 0 \nL -3.5 0 \n\" style=\"stroke: #000000; stroke-width: 0.8\"/>\n      </defs>\n      <g>\n       <use xlink:href=\"#mb3282af03a\" x=\"45.478125\" y=\"212.802558\" style=\"stroke: #000000; stroke-width: 0.8\"/>\n      </g>\n     </g>\n     <g id=\"text_4\">\n      <!-- $\\mathdefault{10^{1}}$ -->\n      <g transform=\"translate(20.878125 216.601776) scale(0.1 -0.1)\">\n       <use xlink:href=\"#DejaVuSans-31\" transform=\"translate(0 0.684375)\"/>\n       <use xlink:href=\"#DejaVuSans-30\" transform=\"translate(63.623047 0.684375)\"/>\n       <use xlink:href=\"#DejaVuSans-31\" transform=\"translate(128.203125 38.965625) scale(0.7)\"/>\n      </g>\n     </g>\n    </g>\n    <g id=\"ytick_2\">\n     <g id=\"line2d_18\">\n      <g>\n       <use xlink:href=\"#mb3282af03a\" x=\"45.478125\" y=\"118.843844\" style=\"stroke: #000000; stroke-width: 0.8\"/>\n      </g>\n     </g>\n     <g id=\"text_5\">\n      <!-- $\\mathdefault{10^{2}}$ -->\n      <g transform=\"translate(20.878125 122.643063) scale(0.1 -0.1)\">\n       <defs>\n        <path id=\"DejaVuSans-32\" d=\"M 1228 531 \nL 3431 531 \nL 3431 0 \nL 469 0 \nL 469 531 \nQ 828 903 1448 1529 \nQ 2069 2156 2228 2338 \nQ 2531 2678 2651 2914 \nQ 2772 3150 2772 3378 \nQ 2772 3750 2511 3984 \nQ 2250 4219 1831 4219 \nQ 1534 4219 1204 4116 \nQ 875 4013 500 3803 \nL 500 4441 \nQ 881 4594 1212 4672 \nQ 1544 4750 1819 4750 \nQ 2544 4750 2975 4387 \nQ 3406 4025 3406 3419 \nQ 3406 3131 3298 2873 \nQ 3191 2616 2906 2266 \nQ 2828 2175 2409 1742 \nQ 1991 1309 1228 531 \nz\n\" transform=\"scale(0.015625)\"/>\n       </defs>\n       <use xlink:href=\"#DejaVuSans-31\" transform=\"translate(0 0.765625)\"/>\n       <use xlink:href=\"#DejaVuSans-30\" transform=\"translate(63.623047 0.765625)\"/>\n       <use xlink:href=\"#DejaVuSans-32\" transform=\"translate(128.203125 39.046875) scale(0.7)\"/>\n      </g>\n     </g>\n    </g>\n    <g id=\"ytick_3\">\n     <g id=\"line2d_19\">\n      <g>\n       <use xlink:href=\"#mb3282af03a\" x=\"45.478125\" y=\"24.88513\" style=\"stroke: #000000; stroke-width: 0.8\"/>\n      </g>\n     </g>\n     <g id=\"text_6\">\n      <!-- $\\mathdefault{10^{3}}$ -->\n      <g transform=\"translate(20.878125 28.684349) scale(0.1 -0.1)\">\n       <use xlink:href=\"#DejaVuSans-31\" transform=\"translate(0 0.765625)\"/>\n       <use xlink:href=\"#DejaVuSans-30\" transform=\"translate(63.623047 0.765625)\"/>\n       <use xlink:href=\"#DejaVuSans-33\" transform=\"translate(128.203125 39.046875) scale(0.7)\"/>\n      </g>\n     </g>\n    </g>\n    <g id=\"ytick_4\">\n     <g id=\"line2d_20\">\n      <defs>\n       <path id=\"mc36bd190d3\" d=\"M 0 0 \nL -2 0 \n\" style=\"stroke: #000000; stroke-width: 0.6\"/>\n      </defs>\n      <g>\n       <use xlink:href=\"#mc36bd190d3\" x=\"45.478125\" y=\"278.47688\" style=\"stroke: #000000; stroke-width: 0.6\"/>\n      </g>\n     </g>\n    </g>\n    <g id=\"ytick_5\">\n     <g id=\"line2d_21\">\n      <g>\n       <use xlink:href=\"#mc36bd190d3\" x=\"45.478125\" y=\"261.931572\" style=\"stroke: #000000; stroke-width: 0.6\"/>\n      </g>\n     </g>\n    </g>\n    <g id=\"ytick_6\">\n     <g id=\"line2d_22\">\n      <g>\n       <use xlink:href=\"#mc36bd190d3\" x=\"45.478125\" y=\"250.192489\" style=\"stroke: #000000; stroke-width: 0.6\"/>\n      </g>\n     </g>\n    </g>\n    <g id=\"ytick_7\">\n     <g id=\"line2d_23\">\n      <g>\n       <use xlink:href=\"#mc36bd190d3\" x=\"45.478125\" y=\"241.086949\" style=\"stroke: #000000; stroke-width: 0.6\"/>\n      </g>\n     </g>\n    </g>\n    <g id=\"ytick_8\">\n     <g id=\"line2d_24\">\n      <g>\n       <use xlink:href=\"#mc36bd190d3\" x=\"45.478125\" y=\"233.647181\" style=\"stroke: #000000; stroke-width: 0.6\"/>\n      </g>\n     </g>\n    </g>\n    <g id=\"ytick_9\">\n     <g id=\"line2d_25\">\n      <g>\n       <use xlink:href=\"#mc36bd190d3\" x=\"45.478125\" y=\"227.356947\" style=\"stroke: #000000; stroke-width: 0.6\"/>\n      </g>\n     </g>\n    </g>\n    <g id=\"ytick_10\">\n     <g id=\"line2d_26\">\n      <g>\n       <use xlink:href=\"#mc36bd190d3\" x=\"45.478125\" y=\"221.908098\" style=\"stroke: #000000; stroke-width: 0.6\"/>\n      </g>\n     </g>\n    </g>\n    <g id=\"ytick_11\">\n     <g id=\"line2d_27\">\n      <g>\n       <use xlink:href=\"#mc36bd190d3\" x=\"45.478125\" y=\"217.101873\" style=\"stroke: #000000; stroke-width: 0.6\"/>\n      </g>\n     </g>\n    </g>\n    <g id=\"ytick_12\">\n     <g id=\"line2d_28\">\n      <g>\n       <use xlink:href=\"#mc36bd190d3\" x=\"45.478125\" y=\"184.518167\" style=\"stroke: #000000; stroke-width: 0.6\"/>\n      </g>\n     </g>\n    </g>\n    <g id=\"ytick_13\">\n     <g id=\"line2d_29\">\n      <g>\n       <use xlink:href=\"#mc36bd190d3\" x=\"45.478125\" y=\"167.972858\" style=\"stroke: #000000; stroke-width: 0.6\"/>\n      </g>\n     </g>\n    </g>\n    <g id=\"ytick_14\">\n     <g id=\"line2d_30\">\n      <g>\n       <use xlink:href=\"#mc36bd190d3\" x=\"45.478125\" y=\"156.233775\" style=\"stroke: #000000; stroke-width: 0.6\"/>\n      </g>\n     </g>\n    </g>\n    <g id=\"ytick_15\">\n     <g id=\"line2d_31\">\n      <g>\n       <use xlink:href=\"#mc36bd190d3\" x=\"45.478125\" y=\"147.128235\" style=\"stroke: #000000; stroke-width: 0.6\"/>\n      </g>\n     </g>\n    </g>\n    <g id=\"ytick_16\">\n     <g id=\"line2d_32\">\n      <g>\n       <use xlink:href=\"#mc36bd190d3\" x=\"45.478125\" y=\"139.688467\" style=\"stroke: #000000; stroke-width: 0.6\"/>\n      </g>\n     </g>\n    </g>\n    <g id=\"ytick_17\">\n     <g id=\"line2d_33\">\n      <g>\n       <use xlink:href=\"#mc36bd190d3\" x=\"45.478125\" y=\"133.398233\" style=\"stroke: #000000; stroke-width: 0.6\"/>\n      </g>\n     </g>\n    </g>\n    <g id=\"ytick_18\">\n     <g id=\"line2d_34\">\n      <g>\n       <use xlink:href=\"#mc36bd190d3\" x=\"45.478125\" y=\"127.949384\" style=\"stroke: #000000; stroke-width: 0.6\"/>\n      </g>\n     </g>\n    </g>\n    <g id=\"ytick_19\">\n     <g id=\"line2d_35\">\n      <g>\n       <use xlink:href=\"#mc36bd190d3\" x=\"45.478125\" y=\"123.143159\" style=\"stroke: #000000; stroke-width: 0.6\"/>\n      </g>\n     </g>\n    </g>\n    <g id=\"ytick_20\">\n     <g id=\"line2d_36\">\n      <g>\n       <use xlink:href=\"#mc36bd190d3\" x=\"45.478125\" y=\"90.559453\" style=\"stroke: #000000; stroke-width: 0.6\"/>\n      </g>\n     </g>\n    </g>\n    <g id=\"ytick_21\">\n     <g id=\"line2d_37\">\n      <g>\n       <use xlink:href=\"#mc36bd190d3\" x=\"45.478125\" y=\"74.014145\" style=\"stroke: #000000; stroke-width: 0.6\"/>\n      </g>\n     </g>\n    </g>\n    <g id=\"ytick_22\">\n     <g id=\"line2d_38\">\n      <g>\n       <use xlink:href=\"#mc36bd190d3\" x=\"45.478125\" y=\"62.275062\" style=\"stroke: #000000; stroke-width: 0.6\"/>\n      </g>\n     </g>\n    </g>\n    <g id=\"ytick_23\">\n     <g id=\"line2d_39\">\n      <g>\n       <use xlink:href=\"#mc36bd190d3\" x=\"45.478125\" y=\"53.169521\" style=\"stroke: #000000; stroke-width: 0.6\"/>\n      </g>\n     </g>\n    </g>\n    <g id=\"ytick_24\">\n     <g id=\"line2d_40\">\n      <g>\n       <use xlink:href=\"#mc36bd190d3\" x=\"45.478125\" y=\"45.729753\" style=\"stroke: #000000; stroke-width: 0.6\"/>\n      </g>\n     </g>\n    </g>\n    <g id=\"ytick_25\">\n     <g id=\"line2d_41\">\n      <g>\n       <use xlink:href=\"#mc36bd190d3\" x=\"45.478125\" y=\"39.439519\" style=\"stroke: #000000; stroke-width: 0.6\"/>\n      </g>\n     </g>\n    </g>\n    <g id=\"ytick_26\">\n     <g id=\"line2d_42\">\n      <g>\n       <use xlink:href=\"#mc36bd190d3\" x=\"45.478125\" y=\"33.99067\" style=\"stroke: #000000; stroke-width: 0.6\"/>\n      </g>\n     </g>\n    </g>\n    <g id=\"ytick_27\">\n     <g id=\"line2d_43\">\n      <g>\n       <use xlink:href=\"#mc36bd190d3\" x=\"45.478125\" y=\"29.184445\" style=\"stroke: #000000; stroke-width: 0.6\"/>\n      </g>\n     </g>\n    </g>\n    <g id=\"text_7\">\n     <!-- Log Time [s] -->\n     <g transform=\"translate(14.798438 186.224125) rotate(-90) scale(0.1 -0.1)\">\n      <defs>\n       <path id=\"DejaVuSans-54\" d=\"M -19 4666 \nL 3928 4666 \nL 3928 4134 \nL 2272 4134 \nL 2272 0 \nL 1638 0 \nL 1638 4134 \nL -19 4134 \nL -19 4666 \nz\n\" transform=\"scale(0.015625)\"/>\n       <path id=\"DejaVuSans-65\" d=\"M 3597 1894 \nL 3597 1613 \nL 953 1613 \nQ 991 1019 1311 708 \nQ 1631 397 2203 397 \nQ 2534 397 2845 478 \nQ 3156 559 3463 722 \nL 3463 178 \nQ 3153 47 2828 -22 \nQ 2503 -91 2169 -91 \nQ 1331 -91 842 396 \nQ 353 884 353 1716 \nQ 353 2575 817 3079 \nQ 1281 3584 2069 3584 \nQ 2775 3584 3186 3129 \nQ 3597 2675 3597 1894 \nz\nM 3022 2063 \nQ 3016 2534 2758 2815 \nQ 2500 3097 2075 3097 \nQ 1594 3097 1305 2825 \nQ 1016 2553 972 2059 \nL 3022 2063 \nz\n\" transform=\"scale(0.015625)\"/>\n      </defs>\n      <use xlink:href=\"#DejaVuSans-4c\"/>\n      <use xlink:href=\"#DejaVuSans-6f\" transform=\"translate(53.962891 0)\"/>\n      <use xlink:href=\"#DejaVuSans-67\" transform=\"translate(115.144531 0)\"/>\n      <use xlink:href=\"#DejaVuSans-20\" transform=\"translate(178.621094 0)\"/>\n      <use xlink:href=\"#DejaVuSans-54\" transform=\"translate(210.408203 0)\"/>\n      <use xlink:href=\"#DejaVuSans-69\" transform=\"translate(268.367188 0)\"/>\n      <use xlink:href=\"#DejaVuSans-6d\" transform=\"translate(296.150391 0)\"/>\n      <use xlink:href=\"#DejaVuSans-65\" transform=\"translate(393.5625 0)\"/>\n      <use xlink:href=\"#DejaVuSans-20\" transform=\"translate(455.085938 0)\"/>\n      <use xlink:href=\"#DejaVuSans-5b\" transform=\"translate(486.873047 0)\"/>\n      <use xlink:href=\"#DejaVuSans-73\" transform=\"translate(525.886719 0)\"/>\n      <use xlink:href=\"#DejaVuSans-5d\" transform=\"translate(577.986328 0)\"/>\n     </g>\n    </g>\n   </g>\n   <g id=\"line2d_44\">\n    <path d=\"M 61.710852 244.658168 \nL 122.714034 198.319406 \nL 203.355853 144.349065 \nL 264.359035 108.603831 \nL 300.043608 87.732701 \nL 325.362216 71.863893 \nL 361.04679 49.840008 \nL 386.365398 34.414125 \n\" clip-path=\"url(#pc4855e3783)\" style=\"fill: none; stroke: #1f77b4; stroke-width: 1.5; stroke-linecap: square\"/>\n   </g>\n   <g id=\"line2d_45\">\n    <path d=\"M 61.710852 276.334125 \nL 122.714034 229.995363 \nL 203.355853 176.025022 \nL 264.359035 140.279788 \nL 300.043608 119.408658 \nL 325.362216 103.53985 \nL 361.04679 81.515965 \nL 386.365398 66.090082 \n\" clip-path=\"url(#pc4855e3783)\" style=\"fill: none; stroke: #ff7f0e; stroke-width: 1.5; stroke-linecap: square\"/>\n   </g>\n   <g id=\"line2d_46\">\n    <path d=\"M 61.710852 264.595042 \nL 122.714034 218.25628 \nL 203.355853 164.285939 \nL 264.359035 128.540705 \nL 300.043608 107.669575 \nL 325.362216 91.800767 \nL 361.04679 69.776882 \nL 386.365398 54.350999 \n\" clip-path=\"url(#pc4855e3783)\" style=\"fill: none; stroke: #2ca02c; stroke-width: 1.5; stroke-linecap: square\"/>\n   </g>\n   <g id=\"patch_3\">\n    <path d=\"M 45.478125 288.430125 \nL 45.478125 22.318125 \n\" style=\"fill: none; stroke: #000000; stroke-width: 0.8; stroke-linejoin: miter; stroke-linecap: square\"/>\n   </g>\n   <g id=\"patch_4\">\n    <path d=\"M 402.598125 288.430125 \nL 402.598125 22.318125 \n\" style=\"fill: none; stroke: #000000; stroke-width: 0.8; stroke-linejoin: miter; stroke-linecap: square\"/>\n   </g>\n   <g id=\"patch_5\">\n    <path d=\"M 45.478125 288.430125 \nL 402.598125 288.430125 \n\" style=\"fill: none; stroke: #000000; stroke-width: 0.8; stroke-linejoin: miter; stroke-linecap: square\"/>\n   </g>\n   <g id=\"patch_6\">\n    <path d=\"M 45.478125 22.318125 \nL 402.598125 22.318125 \n\" style=\"fill: none; stroke: #000000; stroke-width: 0.8; stroke-linejoin: miter; stroke-linecap: square\"/>\n   </g>\n   <g id=\"text_8\">\n    <!-- Isotopic relaxation timescale comparison in a log-log scale -->\n    <g transform=\"translate(48.121875 16.318125) scale(0.12 -0.12)\">\n     <defs>\n      <path id=\"DejaVuSans-49\" d=\"M 628 4666 \nL 1259 4666 \nL 1259 0 \nL 628 0 \nL 628 4666 \nz\n\" transform=\"scale(0.015625)\"/>\n      <path id=\"DejaVuSans-74\" d=\"M 1172 4494 \nL 1172 3500 \nL 2356 3500 \nL 2356 3053 \nL 1172 3053 \nL 1172 1153 \nQ 1172 725 1289 603 \nQ 1406 481 1766 481 \nL 2356 481 \nL 2356 0 \nL 1766 0 \nQ 1100 0 847 248 \nQ 594 497 594 1153 \nL 594 3053 \nL 172 3053 \nL 172 3500 \nL 594 3500 \nL 594 4494 \nL 1172 4494 \nz\n\" transform=\"scale(0.015625)\"/>\n      <path id=\"DejaVuSans-70\" d=\"M 1159 525 \nL 1159 -1331 \nL 581 -1331 \nL 581 3500 \nL 1159 3500 \nL 1159 2969 \nQ 1341 3281 1617 3432 \nQ 1894 3584 2278 3584 \nQ 2916 3584 3314 3078 \nQ 3713 2572 3713 1747 \nQ 3713 922 3314 415 \nQ 2916 -91 2278 -91 \nQ 1894 -91 1617 61 \nQ 1341 213 1159 525 \nz\nM 3116 1747 \nQ 3116 2381 2855 2742 \nQ 2594 3103 2138 3103 \nQ 1681 3103 1420 2742 \nQ 1159 2381 1159 1747 \nQ 1159 1113 1420 752 \nQ 1681 391 2138 391 \nQ 2594 391 2855 752 \nQ 3116 1113 3116 1747 \nz\n\" transform=\"scale(0.015625)\"/>\n      <path id=\"DejaVuSans-72\" d=\"M 2631 2963 \nQ 2534 3019 2420 3045 \nQ 2306 3072 2169 3072 \nQ 1681 3072 1420 2755 \nQ 1159 2438 1159 1844 \nL 1159 0 \nL 581 0 \nL 581 3500 \nL 1159 3500 \nL 1159 2956 \nQ 1341 3275 1631 3429 \nQ 1922 3584 2338 3584 \nQ 2397 3584 2469 3576 \nQ 2541 3569 2628 3553 \nL 2631 2963 \nz\n\" transform=\"scale(0.015625)\"/>\n      <path id=\"DejaVuSans-6c\" d=\"M 603 4863 \nL 1178 4863 \nL 1178 0 \nL 603 0 \nL 603 4863 \nz\n\" transform=\"scale(0.015625)\"/>\n      <path id=\"DejaVuSans-78\" d=\"M 3513 3500 \nL 2247 1797 \nL 3578 0 \nL 2900 0 \nL 1881 1375 \nL 863 0 \nL 184 0 \nL 1544 1831 \nL 300 3500 \nL 978 3500 \nL 1906 2253 \nL 2834 3500 \nL 3513 3500 \nz\n\" transform=\"scale(0.015625)\"/>\n      <path id=\"DejaVuSans-6e\" d=\"M 3513 2113 \nL 3513 0 \nL 2938 0 \nL 2938 2094 \nQ 2938 2591 2744 2837 \nQ 2550 3084 2163 3084 \nQ 1697 3084 1428 2787 \nQ 1159 2491 1159 1978 \nL 1159 0 \nL 581 0 \nL 581 3500 \nL 1159 3500 \nL 1159 2956 \nQ 1366 3272 1645 3428 \nQ 1925 3584 2291 3584 \nQ 2894 3584 3203 3211 \nQ 3513 2838 3513 2113 \nz\n\" transform=\"scale(0.015625)\"/>\n      <path id=\"DejaVuSans-2d\" d=\"M 313 2009 \nL 1997 2009 \nL 1997 1497 \nL 313 1497 \nL 313 2009 \nz\n\" transform=\"scale(0.015625)\"/>\n     </defs>\n     <use xlink:href=\"#DejaVuSans-49\"/>\n     <use xlink:href=\"#DejaVuSans-73\" transform=\"translate(29.492188 0)\"/>\n     <use xlink:href=\"#DejaVuSans-6f\" transform=\"translate(81.591797 0)\"/>\n     <use xlink:href=\"#DejaVuSans-74\" transform=\"translate(142.773438 0)\"/>\n     <use xlink:href=\"#DejaVuSans-6f\" transform=\"translate(181.982422 0)\"/>\n     <use xlink:href=\"#DejaVuSans-70\" transform=\"translate(243.164062 0)\"/>\n     <use xlink:href=\"#DejaVuSans-69\" transform=\"translate(306.640625 0)\"/>\n     <use xlink:href=\"#DejaVuSans-63\" transform=\"translate(334.423828 0)\"/>\n     <use xlink:href=\"#DejaVuSans-20\" transform=\"translate(389.404297 0)\"/>\n     <use xlink:href=\"#DejaVuSans-72\" transform=\"translate(421.191406 0)\"/>\n     <use xlink:href=\"#DejaVuSans-65\" transform=\"translate(460.054688 0)\"/>\n     <use xlink:href=\"#DejaVuSans-6c\" transform=\"translate(521.578125 0)\"/>\n     <use xlink:href=\"#DejaVuSans-61\" transform=\"translate(549.361328 0)\"/>\n     <use xlink:href=\"#DejaVuSans-78\" transform=\"translate(610.640625 0)\"/>\n     <use xlink:href=\"#DejaVuSans-61\" transform=\"translate(669.820312 0)\"/>\n     <use xlink:href=\"#DejaVuSans-74\" transform=\"translate(731.099609 0)\"/>\n     <use xlink:href=\"#DejaVuSans-69\" transform=\"translate(770.308594 0)\"/>\n     <use xlink:href=\"#DejaVuSans-6f\" transform=\"translate(798.091797 0)\"/>\n     <use xlink:href=\"#DejaVuSans-6e\" transform=\"translate(859.273438 0)\"/>\n     <use xlink:href=\"#DejaVuSans-20\" transform=\"translate(922.652344 0)\"/>\n     <use xlink:href=\"#DejaVuSans-74\" transform=\"translate(954.439453 0)\"/>\n     <use xlink:href=\"#DejaVuSans-69\" transform=\"translate(993.648438 0)\"/>\n     <use xlink:href=\"#DejaVuSans-6d\" transform=\"translate(1021.431641 0)\"/>\n     <use xlink:href=\"#DejaVuSans-65\" transform=\"translate(1118.84375 0)\"/>\n     <use xlink:href=\"#DejaVuSans-73\" transform=\"translate(1180.367188 0)\"/>\n     <use xlink:href=\"#DejaVuSans-63\" transform=\"translate(1232.466797 0)\"/>\n     <use xlink:href=\"#DejaVuSans-61\" transform=\"translate(1287.447266 0)\"/>\n     <use xlink:href=\"#DejaVuSans-6c\" transform=\"translate(1348.726562 0)\"/>\n     <use xlink:href=\"#DejaVuSans-65\" transform=\"translate(1376.509766 0)\"/>\n     <use xlink:href=\"#DejaVuSans-20\" transform=\"translate(1438.033203 0)\"/>\n     <use xlink:href=\"#DejaVuSans-63\" transform=\"translate(1469.820312 0)\"/>\n     <use xlink:href=\"#DejaVuSans-6f\" transform=\"translate(1524.800781 0)\"/>\n     <use xlink:href=\"#DejaVuSans-6d\" transform=\"translate(1585.982422 0)\"/>\n     <use xlink:href=\"#DejaVuSans-70\" transform=\"translate(1683.394531 0)\"/>\n     <use xlink:href=\"#DejaVuSans-61\" transform=\"translate(1746.871094 0)\"/>\n     <use xlink:href=\"#DejaVuSans-72\" transform=\"translate(1808.150391 0)\"/>\n     <use xlink:href=\"#DejaVuSans-69\" transform=\"translate(1849.263672 0)\"/>\n     <use xlink:href=\"#DejaVuSans-73\" transform=\"translate(1877.046875 0)\"/>\n     <use xlink:href=\"#DejaVuSans-6f\" transform=\"translate(1929.146484 0)\"/>\n     <use xlink:href=\"#DejaVuSans-6e\" transform=\"translate(1990.328125 0)\"/>\n     <use xlink:href=\"#DejaVuSans-20\" transform=\"translate(2053.707031 0)\"/>\n     <use xlink:href=\"#DejaVuSans-69\" transform=\"translate(2085.494141 0)\"/>\n     <use xlink:href=\"#DejaVuSans-6e\" transform=\"translate(2113.277344 0)\"/>\n     <use xlink:href=\"#DejaVuSans-20\" transform=\"translate(2176.65625 0)\"/>\n     <use xlink:href=\"#DejaVuSans-61\" transform=\"translate(2208.443359 0)\"/>\n     <use xlink:href=\"#DejaVuSans-20\" transform=\"translate(2269.722656 0)\"/>\n     <use xlink:href=\"#DejaVuSans-6c\" transform=\"translate(2301.509766 0)\"/>\n     <use xlink:href=\"#DejaVuSans-6f\" transform=\"translate(2329.292969 0)\"/>\n     <use xlink:href=\"#DejaVuSans-67\" transform=\"translate(2390.474609 0)\"/>\n     <use xlink:href=\"#DejaVuSans-2d\" transform=\"translate(2453.951172 0)\"/>\n     <use xlink:href=\"#DejaVuSans-6c\" transform=\"translate(2490.035156 0)\"/>\n     <use xlink:href=\"#DejaVuSans-6f\" transform=\"translate(2517.818359 0)\"/>\n     <use xlink:href=\"#DejaVuSans-67\" transform=\"translate(2579 0)\"/>\n     <use xlink:href=\"#DejaVuSans-20\" transform=\"translate(2642.476562 0)\"/>\n     <use xlink:href=\"#DejaVuSans-73\" transform=\"translate(2674.263672 0)\"/>\n     <use xlink:href=\"#DejaVuSans-63\" transform=\"translate(2726.363281 0)\"/>\n     <use xlink:href=\"#DejaVuSans-61\" transform=\"translate(2781.34375 0)\"/>\n     <use xlink:href=\"#DejaVuSans-6c\" transform=\"translate(2842.623047 0)\"/>\n     <use xlink:href=\"#DejaVuSans-65\" transform=\"translate(2870.40625 0)\"/>\n    </g>\n   </g>\n   <g id=\"legend_1\">\n    <g id=\"patch_7\">\n     <path d=\"M 52.478125 74.630625 \nL 125.7 74.630625 \nQ 127.7 74.630625 127.7 72.630625 \nL 127.7 29.318125 \nQ 127.7 27.318125 125.7 27.318125 \nL 52.478125 27.318125 \nQ 50.478125 27.318125 50.478125 29.318125 \nL 50.478125 72.630625 \nQ 50.478125 74.630625 52.478125 74.630625 \nz\n\" style=\"fill: #ffffff; opacity: 0.8; stroke: #cccccc; stroke-linejoin: miter\"/>\n    </g>\n    <g id=\"line2d_47\">\n     <path d=\"M 54.478125 35.416562 \nL 64.478125 35.416562 \nL 74.478125 35.416562 \n\" style=\"fill: none; stroke: #1f77b4; stroke-width: 1.5; stroke-linecap: square\"/>\n    </g>\n    <g id=\"text_9\">\n     <!-- bolin -->\n     <g transform=\"translate(82.478125 38.916562) scale(0.1 -0.1)\">\n      <defs>\n       <path id=\"DejaVuSans-62\" d=\"M 3116 1747 \nQ 3116 2381 2855 2742 \nQ 2594 3103 2138 3103 \nQ 1681 3103 1420 2742 \nQ 1159 2381 1159 1747 \nQ 1159 1113 1420 752 \nQ 1681 391 2138 391 \nQ 2594 391 2855 752 \nQ 3116 1113 3116 1747 \nz\nM 1159 2969 \nQ 1341 3281 1617 3432 \nQ 1894 3584 2278 3584 \nQ 2916 3584 3314 3078 \nQ 3713 2572 3713 1747 \nQ 3713 922 3314 415 \nQ 2916 -91 2278 -91 \nQ 1894 -91 1617 61 \nQ 1341 213 1159 525 \nL 1159 0 \nL 581 0 \nL 581 4863 \nL 1159 4863 \nL 1159 2969 \nz\n\" transform=\"scale(0.015625)\"/>\n      </defs>\n      <use xlink:href=\"#DejaVuSans-62\"/>\n      <use xlink:href=\"#DejaVuSans-6f\" transform=\"translate(63.476562 0)\"/>\n      <use xlink:href=\"#DejaVuSans-6c\" transform=\"translate(124.658203 0)\"/>\n      <use xlink:href=\"#DejaVuSans-69\" transform=\"translate(152.441406 0)\"/>\n      <use xlink:href=\"#DejaVuSans-6e\" transform=\"translate(180.224609 0)\"/>\n     </g>\n    </g>\n    <g id=\"line2d_48\">\n     <path d=\"M 54.478125 50.094688 \nL 64.478125 50.094688 \nL 74.478125 50.094688 \n\" style=\"fill: none; stroke: #ff7f0e; stroke-width: 1.5; stroke-linecap: square\"/>\n    </g>\n    <g id=\"text_10\">\n     <!-- bolin_c1 -->\n     <g transform=\"translate(82.478125 53.594688) scale(0.1 -0.1)\">\n      <defs>\n       <path id=\"DejaVuSans-5f\" d=\"M 3263 -1063 \nL 3263 -1509 \nL -63 -1509 \nL -63 -1063 \nL 3263 -1063 \nz\n\" transform=\"scale(0.015625)\"/>\n      </defs>\n      <use xlink:href=\"#DejaVuSans-62\"/>\n      <use xlink:href=\"#DejaVuSans-6f\" transform=\"translate(63.476562 0)\"/>\n      <use xlink:href=\"#DejaVuSans-6c\" transform=\"translate(124.658203 0)\"/>\n      <use xlink:href=\"#DejaVuSans-69\" transform=\"translate(152.441406 0)\"/>\n      <use xlink:href=\"#DejaVuSans-6e\" transform=\"translate(180.224609 0)\"/>\n      <use xlink:href=\"#DejaVuSans-5f\" transform=\"translate(243.603516 0)\"/>\n      <use xlink:href=\"#DejaVuSans-63\" transform=\"translate(293.603516 0)\"/>\n      <use xlink:href=\"#DejaVuSans-31\" transform=\"translate(348.583984 0)\"/>\n     </g>\n    </g>\n    <g id=\"line2d_49\">\n     <path d=\"M 54.478125 65.050937 \nL 64.478125 65.050937 \nL 74.478125 65.050937 \n\" style=\"fill: none; stroke: #2ca02c; stroke-width: 1.5; stroke-linecap: square\"/>\n    </g>\n    <g id=\"text_11\">\n     <!-- miyake -->\n     <g transform=\"translate(82.478125 68.550937) scale(0.1 -0.1)\">\n      <defs>\n       <path id=\"DejaVuSans-79\" d=\"M 2059 -325 \nQ 1816 -950 1584 -1140 \nQ 1353 -1331 966 -1331 \nL 506 -1331 \nL 506 -850 \nL 844 -850 \nQ 1081 -850 1212 -737 \nQ 1344 -625 1503 -206 \nL 1606 56 \nL 191 3500 \nL 800 3500 \nL 1894 763 \nL 2988 3500 \nL 3597 3500 \nL 2059 -325 \nz\n\" transform=\"scale(0.015625)\"/>\n       <path id=\"DejaVuSans-6b\" d=\"M 581 4863 \nL 1159 4863 \nL 1159 1991 \nL 2875 3500 \nL 3609 3500 \nL 1753 1863 \nL 3688 0 \nL 2938 0 \nL 1159 1709 \nL 1159 0 \nL 581 0 \nL 581 4863 \nz\n\" transform=\"scale(0.015625)\"/>\n      </defs>\n      <use xlink:href=\"#DejaVuSans-6d\"/>\n      <use xlink:href=\"#DejaVuSans-69\" transform=\"translate(97.412109 0)\"/>\n      <use xlink:href=\"#DejaVuSans-79\" transform=\"translate(125.195312 0)\"/>\n      <use xlink:href=\"#DejaVuSans-61\" transform=\"translate(184.375 0)\"/>\n      <use xlink:href=\"#DejaVuSans-6b\" transform=\"translate(245.654297 0)\"/>\n      <use xlink:href=\"#DejaVuSans-65\" transform=\"translate(299.939453 0)\"/>\n     </g>\n    </g>\n   </g>\n  </g>\n </g>\n <defs>\n  <clipPath id=\"pc4855e3783\">\n   <rect x=\"45.478125\" y=\"22.318125\" width=\"357.12\" height=\"266.112\"/>\n  </clipPath>\n </defs>\n</svg>\n"
     },
     "metadata": {},
     "output_type": "display_data"
    },
    {
     "data": {
      "text/plain": [
       "HBox(children=(HTML(value=\"<a href='./timescales_comparison.pdf' target='_blank'>./timescales_comparison.pdf</…"
      ],
      "application/vnd.jupyter.widget-view+json": {
       "version_major": 2,
       "version_minor": 0,
       "model_id": "68dc2229a32f4c4d866f72147a034835"
      }
     },
     "metadata": {},
     "output_type": "display_data"
    }
   ],
   "execution_count": 5
  },
  {
   "metadata": {
    "ExecuteTime": {
     "end_time": "2025-02-07T13:57:53.353198Z",
     "start_time": "2025-02-07T13:57:53.338169Z"
    }
   },
   "cell_type": "code",
   "source": "",
   "id": "fa5a02ddaa0c2d15",
   "outputs": [],
   "execution_count": null
  }
 ],
 "metadata": {
  "kernelspec": {
   "display_name": "Python 3",
   "language": "python",
   "name": "python3"
  },
  "language_info": {
   "codemirror_mode": {
    "name": "ipython",
    "version": 2
   },
   "file_extension": ".py",
   "mimetype": "text/x-python",
   "name": "python",
   "nbconvert_exporter": "python",
   "pygments_lexer": "ipython2",
   "version": "2.7.6"
  }
 },
 "nbformat": 4,
 "nbformat_minor": 5
}
