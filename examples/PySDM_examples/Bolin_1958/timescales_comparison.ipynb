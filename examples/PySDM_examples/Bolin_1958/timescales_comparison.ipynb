{
 "cells": [
  {
   "metadata": {},
   "cell_type": "markdown",
   "source": [
    "[![preview notebook](https://img.shields.io/static/v1?label=render%20on&logo=github&color=87ce3e&message=GitHub)](https://github.com/open-atmos/PySDM/blob/main/examples/PySDM_examples/Bolin_1958/timescales_comparison.ipynb)\n",
    "[![launch on mybinder.org](https://mybinder.org/badge_logo.svg)](https://mybinder.org/v2/gh/open-atmos/PySDM.git/main?urlpath=lab/tree/examples/PySDM_examples/Bolin_1958/timescales_comparison.ipynb)\n",
    "[![launch on Colab](https://colab.research.google.com/assets/colab-badge.svg)](https://colab.research.google.com/github/open-atmos/PySDM/blob/main/examples/PySDM_examples/Bolin_1958/timescales_comparison.ipynb)"
   ],
   "id": "da62f9aa77468520"
  },
  {
   "metadata": {},
   "cell_type": "markdown",
   "source": [
    "#### Timescales comparison \n",
    "##### Bolin\n",
    "##### Gedzelman"
   ],
   "id": "c7eb55d509c585e9"
  },
  {
   "metadata": {
    "ExecuteTime": {
     "end_time": "2025-01-28T01:22:44.819497Z",
     "start_time": "2025-01-28T01:22:39.666049Z"
    }
   },
   "cell_type": "code",
   "source": [
    "import sys\n",
    "\n",
    "from chempy.units import temperature\n",
    "\n",
    "from PySDM.physics.constants_defaults import R_str\n",
    "from PySDM_examples.Szumowski_et_al_1998.sounding import pressure\n",
    "\n",
    "if 'google.colab' in sys.modules:\n",
    "    !pip --quiet install open-atmos-jupyter-utils\n",
    "    from open_atmos_jupyter_utils import pip_install_on_colab\n",
    "    pip_install_on_colab('PySDM-examples')"
   ],
   "id": "f508348dd491651d",
   "outputs": [],
   "execution_count": 2
  },
  {
   "metadata": {
    "ExecuteTime": {
     "end_time": "2025-01-28T01:22:45.207438Z",
     "start_time": "2025-01-28T01:22:44.827700Z"
    }
   },
   "cell_type": "code",
   "source": [
    "import numpy as np\n",
    "import matplotlib.pyplot as plt\n",
    "from PySDM.physics import si\n",
    "from PySDM import Formulae\n",
    "from PySDM_examples.Bolin_1958.common import *"
   ],
   "id": "c680144e7ad3b94a",
   "outputs": [],
   "execution_count": 3
  },
  {
   "metadata": {
    "ExecuteTime": {
     "end_time": "2025-01-28T01:22:47.709056Z",
     "start_time": "2025-01-28T01:22:45.215644Z"
    }
   },
   "cell_type": "code",
   "source": [
    "any_non_zero_value = 44.0\n",
    "radii = np.asarray([0.005, 0.01, 0.025, 0.05, 0.075, 0.1, 0.15, 0.20]) * si.cm\n",
    "temperature = Formulae().constants.T0 + 10 * si.K\n",
    "\n",
    "variants = {\n",
    "    'bolin': {\n",
    "        'constants': {\"BOLIN_ISOTOPE_TIMESCALE_COEFF_C1\": 1.63},\n",
    "        'isotope_relaxation_timescale': \"Bolin1958\",\n",
    "    },\n",
    "    'miyake': {\n",
    "        'isotope_relaxation_timescale': \"MiyakeEtAl1968\",\n",
    "    }\n",
    "}\n",
    "\n",
    "adjustment_time = {}\n",
    "for variant, kwargs in variants.items():\n",
    "    formulae = Formulae(\n",
    "        terminal_velocity=\"RogersYau\",\n",
    "        drop_growth=\"Mason1951\",\n",
    "        diffusion_thermics=\"Neglect\",\n",
    "        saturation_vapour_pressure=\"AugustRocheMagnus\",\n",
    "        ventilation=\"Froessling1938\",\n",
    "        particle_shape_and_density=\"LiquidSpheres\",\n",
    "        air_dynamic_viscosity=\"ZografosEtAl1987\",\n",
    "        **kwargs,\n",
    "    )\n",
    "    v_term = formulae.terminal_velocity.v_term(radii)\n",
    "    r_dr_dt = r_dr_dt_fun(v_term=v_term, radii=radii, temperature=temperature, formulae=formulae, K=any_non_zero_value)\n",
    "    adjustment_time[variant] = formulae.isotope_relaxation_timescale.tau_of_rdrdt(\n",
    "        radius = radii,\n",
    "        r_dr_dt = r_dr_dt(RH=0, RH_eq=1, lv=0),\n",
    "        alpha=1\n",
    "    )"
   ],
   "id": "c5b65e0aa78917e9",
   "outputs": [
    {
     "ename": "TypeError",
     "evalue": "not enough arguments: expected 5, got 3",
     "output_type": "error",
     "traceback": [
      "\u001B[0;31m---------------------------------------------------------------------------\u001B[0m",
      "\u001B[0;31mTypeError\u001B[0m                                 Traceback (most recent call last)",
      "Cell \u001B[0;32mIn[4], line 29\u001B[0m\n\u001B[1;32m     27\u001B[0m v_term \u001B[38;5;241m=\u001B[39m formulae\u001B[38;5;241m.\u001B[39mterminal_velocity\u001B[38;5;241m.\u001B[39mv_term(radii)\n\u001B[1;32m     28\u001B[0m r_dr_dt \u001B[38;5;241m=\u001B[39m r_dr_dt_fun(v_term\u001B[38;5;241m=\u001B[39mv_term, radii\u001B[38;5;241m=\u001B[39mradii, temperature\u001B[38;5;241m=\u001B[39mtemperature, formulae\u001B[38;5;241m=\u001B[39mformulae, K\u001B[38;5;241m=\u001B[39many_non_zero_value)\n\u001B[0;32m---> 29\u001B[0m adjustment_time[variant] \u001B[38;5;241m=\u001B[39m \u001B[43mformulae\u001B[49m\u001B[38;5;241;43m.\u001B[39;49m\u001B[43misotope_relaxation_timescale\u001B[49m\u001B[38;5;241;43m.\u001B[39;49m\u001B[43mtau_of_rdrdt\u001B[49m\u001B[43m(\u001B[49m\n\u001B[1;32m     30\u001B[0m \u001B[43m    \u001B[49m\u001B[43mradius\u001B[49m\u001B[43m \u001B[49m\u001B[38;5;241;43m=\u001B[39;49m\u001B[43m \u001B[49m\u001B[43mradii\u001B[49m\u001B[43m,\u001B[49m\n\u001B[1;32m     31\u001B[0m \u001B[43m    \u001B[49m\u001B[43mr_dr_dt\u001B[49m\u001B[43m \u001B[49m\u001B[38;5;241;43m=\u001B[39;49m\u001B[43m \u001B[49m\u001B[43mr_dr_dt\u001B[49m\u001B[43m(\u001B[49m\u001B[43mRH\u001B[49m\u001B[38;5;241;43m=\u001B[39;49m\u001B[38;5;241;43m0\u001B[39;49m\u001B[43m,\u001B[49m\u001B[43m \u001B[49m\u001B[43mRH_eq\u001B[49m\u001B[38;5;241;43m=\u001B[39;49m\u001B[38;5;241;43m1\u001B[39;49m\u001B[43m,\u001B[49m\u001B[43m \u001B[49m\u001B[43mlv\u001B[49m\u001B[38;5;241;43m=\u001B[39;49m\u001B[38;5;241;43m0\u001B[39;49m\u001B[43m)\u001B[49m\u001B[43m,\u001B[49m\n\u001B[1;32m     32\u001B[0m \u001B[43m    \u001B[49m\u001B[43malpha\u001B[49m\u001B[38;5;241;43m=\u001B[39;49m\u001B[38;5;241;43m1\u001B[39;49m\n\u001B[1;32m     33\u001B[0m \u001B[43m\u001B[49m\u001B[43m)\u001B[49m\n",
      "\u001B[0;31mTypeError\u001B[0m: not enough arguments: expected 5, got 3"
     ]
    }
   ],
   "execution_count": 4
  },
  {
   "metadata": {
    "ExecuteTime": {
     "end_time": "2025-01-28T01:22:47.781588Z",
     "start_time": "2025-01-26T19:43:18.248710Z"
    }
   },
   "cell_type": "code",
   "source": "adjustment_time",
   "id": "2c00df07bb9ed47b",
   "outputs": [
    {
     "data": {
      "text/plain": [
       "{'bolin': array([  1.72419512,   5.36745707,  20.1452855 ,  48.3736625 ,\n",
       "         80.67515855, 119.02306085, 204.18823681, 297.99430427]),\n",
       " 'miyake': array([  2.81043805,   8.74895503,  32.83681537,  78.84906987,\n",
       "        131.50050844, 194.00758919, 332.82682601, 485.73071595])}"
      ]
     },
     "execution_count": 6,
     "metadata": {},
     "output_type": "execute_result"
    }
   ],
   "execution_count": 6
  },
  {
   "metadata": {
    "ExecuteTime": {
     "end_time": "2025-01-28T01:22:47.782233Z",
     "start_time": "2025-01-28T01:22:35.194176Z"
    }
   },
   "cell_type": "code",
   "source": [
    "fig, ax = plt.subplots()\n",
    "ax.plot(radii, adjustment_time[\"bolin\"])\n",
    "ax.plot(radii, adjustment_time[\"miyake\"])\n"
   ],
   "id": "6c78cdc343d5f311",
   "outputs": [
    {
     "ename": "NameError",
     "evalue": "name 'plt' is not defined",
     "output_type": "error",
     "traceback": [
      "\u001B[0;31m---------------------------------------------------------------------------\u001B[0m",
      "\u001B[0;31mNameError\u001B[0m                                 Traceback (most recent call last)",
      "Cell \u001B[0;32mIn[1], line 1\u001B[0m\n\u001B[0;32m----> 1\u001B[0m fig, ax \u001B[38;5;241m=\u001B[39m \u001B[43mplt\u001B[49m\u001B[38;5;241m.\u001B[39msubplots()\n\u001B[1;32m      2\u001B[0m ax\u001B[38;5;241m.\u001B[39mplot(radii, adjustment_time[\u001B[38;5;124m\"\u001B[39m\u001B[38;5;124mbolin\u001B[39m\u001B[38;5;124m\"\u001B[39m])\n\u001B[1;32m      3\u001B[0m ax\u001B[38;5;241m.\u001B[39mplot(radii, adjustment_time[\u001B[38;5;124m\"\u001B[39m\u001B[38;5;124mmiyake\u001B[39m\u001B[38;5;124m\"\u001B[39m])\n",
      "\u001B[0;31mNameError\u001B[0m: name 'plt' is not defined"
     ]
    }
   ],
   "execution_count": 1
  },
  {
   "metadata": {},
   "cell_type": "code",
   "outputs": [],
   "execution_count": null,
   "source": "",
   "id": "52ad83d048dd7bbc"
  }
 ],
 "metadata": {
  "kernelspec": {
   "display_name": "Python 3",
   "language": "python",
   "name": "python3"
  },
  "language_info": {
   "codemirror_mode": {
    "name": "ipython",
    "version": 2
   },
   "file_extension": ".py",
   "mimetype": "text/x-python",
   "name": "python",
   "nbconvert_exporter": "python",
   "pygments_lexer": "ipython2",
   "version": "2.7.6"
  }
 },
 "nbformat": 4,
 "nbformat_minor": 5
}
