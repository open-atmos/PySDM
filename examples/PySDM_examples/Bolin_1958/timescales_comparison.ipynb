{
 "cells": [
  {
   "metadata": {},
   "cell_type": "markdown",
   "source": [
    "[![preview notebook](https://img.shields.io/static/v1?label=render%20on&logo=github&color=87ce3e&message=GitHub)](https://github.com/open-atmos/PySDM/blob/main/examples/PySDM_examples/Bolin_1958/timescales_comparison.ipynb)\n",
    "[![launch on mybinder.org](https://mybinder.org/badge_logo.svg)](https://mybinder.org/v2/gh/open-atmos/PySDM.git/main?urlpath=lab/tree/examples/PySDM_examples/Bolin_1958/timescales_comparison.ipynb)\n",
    "[![launch on Colab](https://colab.research.google.com/assets/colab-badge.svg)](https://colab.research.google.com/github/open-atmos/PySDM/blob/main/examples/PySDM_examples/Bolin_1958/timescales_comparison.ipynb)"
   ],
   "id": "da62f9aa77468520"
  },
  {
   "metadata": {},
   "cell_type": "markdown",
   "source": [
    "#### Timescales comparison \n",
    "##### Bolin\n",
    "##### Gedzelman"
   ],
   "id": "c7eb55d509c585e9"
  },
  {
   "metadata": {
    "ExecuteTime": {
     "end_time": "2025-02-07T11:16:15.610330Z",
     "start_time": "2025-02-07T11:16:15.598304Z"
    }
   },
   "cell_type": "code",
   "source": [
    "import sys\n",
    "\n",
    "from dill import settings\n",
    "\n",
    "if 'google.colab' in sys.modules:\n",
    "    !pip --quiet install open-atmos-jupyter-utils\n",
    "    from open_atmos_jupyter_utils import pip_install_on_colab\n",
    "    pip_install_on_colab('PySDM-examples')"
   ],
   "id": "f508348dd491651d",
   "outputs": [],
   "execution_count": 1
  },
  {
   "metadata": {
    "ExecuteTime": {
     "end_time": "2025-02-07T11:16:17.290151Z",
     "start_time": "2025-02-07T11:16:15.616099Z"
    }
   },
   "cell_type": "code",
   "source": [
    "import numpy as np\n",
    "import matplotlib.pyplot as plt\n",
    "from PySDM.physics import si\n",
    "from PySDM import Formulae\n",
    "from PySDM_examples.Bolin_1958.common import r_dr_dt_fun, vent_coeff_fun"
   ],
   "id": "c680144e7ad3b94a",
   "outputs": [],
   "execution_count": 2
  },
  {
   "metadata": {
    "ExecuteTime": {
     "end_time": "2025-02-07T11:16:49.816086Z",
     "start_time": "2025-02-07T11:16:49.795385Z"
    }
   },
   "cell_type": "code",
   "source": [
    "any_non_zero_value = 44.0\n",
    "radii = np.asarray([0.005, 0.01, 0.025, 0.05, 0.075, 0.1, 0.15, 0.20]) * si.cm\n",
    "temperature = Formulae().constants.T0 + 10 * si.K\n",
    "\n",
    "settings = {\n",
    "    \"terminal_velocity\":\"RogersYau\",\n",
    "    \"drop_growth\":\"Mason1951\",\n",
    "    \"diffusion_thermics\":\"Neglect\",\n",
    "    \"saturation_vapour_pressure\":\"AugustRocheMagnus\",\n",
    "    \"ventilation\":\"Froessling1938\",\n",
    "    \"particle_shape_and_density\":\"LiquidSpheres\",\n",
    "    \"air_dynamic_viscosity\":\"ZografosEtAl1987\",\n",
    "}\n",
    "\n",
    "variants = {\n",
    "    'bolin': {\n",
    "        'constants': {\"BOLIN_ISOTOPE_TIMESCALE_COEFF_C1\": 1.63},\n",
    "        'isotope_relaxation_timescale': \"Bolin1958\",\n",
    "    },\n",
    "    'miyake': {\n",
    "        'isotope_relaxation_timescale': \"MiyakeEtAl1968\",\n",
    "    }\n",
    "}\n",
    "\n",
    "adjustment_time = {}\n",
    "for variant, kwargs in variants.items():\n",
    "    formulae = Formulae(\n",
    "        **{**kwargs, **settings},\n",
    "    )\n",
    "    const = formulae.constants\n",
    "    v_term = formulae.terminal_velocity.v_term(radii)\n",
    "    r_dr_dt, vent_coeff = r_dr_dt_fun(v_term=v_term, radii=radii, temperature=temperature, formulae=formulae, K=any_non_zero_value)\n",
    "    adjustment_time[variant] = formulae.isotope_relaxation_timescale.tau_of_rdrdt(\n",
    "        radius = radii,\n",
    "        r_dr_dt = r_dr_dt(RH=0, RH_eq=1, lv=0),\n",
    "        alpha=1\n",
    "    )\n",
    "    if variant == 'bolin':\n",
    "        c1_coeff = formulae.isotope_relaxation_timescale.c1_coeff(\n",
    "            vent_coeff_iso = vent_coeff,\n",
    "            vent_coeff = vent_coeff,\n",
    "            D_iso = D,\n",
    "            D = D,\n",
    "            alpha = alpha,\n",
    "            R_vap = R_vap,\n",
    "            rho_env_iso = 0,\n",
    "            rho_env = 0,\n",
    "            M_iso = const.M_3H,\n",
    "            pvs_iso = pvs_iso,\n",
    "            pvs_water = const.pvs_water\n",
    "        )\n",
    "        adjustment_time['bolin_c1'] = formulae.isotope_relaxation_timescale.tau_of_rdrdt_c1(\n",
    "        radius = radii,\n",
    "        r_dr_dt = r_dr_dt(RH=0, RH_eq=1, lv=0),\n",
    "        alpha=1,\n",
    "        c1_coeff = c1_coeff\n",
    "    )"
   ],
   "id": "c5b65e0aa78917e9",
   "outputs": [],
   "execution_count": 4
  },
  {
   "metadata": {
    "ExecuteTime": {
     "end_time": "2025-02-07T11:16:50.950759Z",
     "start_time": "2025-02-07T11:16:50.943374Z"
    }
   },
   "cell_type": "code",
   "source": "adjustment_time",
   "id": "2c00df07bb9ed47b",
   "outputs": [
    {
     "data": {
      "text/plain": [
       "{'bolin': array([  4.58101402,  14.2607967 ,  53.52400906, 128.5239839 ,\n",
       "        214.34582876, 316.23237039, 542.50772639, 791.741067  ]),\n",
       " 'miyake': array([  2.81043805,   8.74895503,  32.83681537,  78.84906987,\n",
       "        131.50050844, 194.00758919, 332.82682601, 485.73071595])}"
      ]
     },
     "execution_count": 5,
     "metadata": {},
     "output_type": "execute_result"
    }
   ],
   "execution_count": 5
  },
  {
   "metadata": {},
   "cell_type": "code",
   "source": "",
   "id": "52ad83d048dd7bbc",
   "outputs": [],
   "execution_count": null
  }
 ],
 "metadata": {
  "kernelspec": {
   "display_name": "Python 3",
   "language": "python",
   "name": "python3"
  },
  "language_info": {
   "codemirror_mode": {
    "name": "ipython",
    "version": 2
   },
   "file_extension": ".py",
   "mimetype": "text/x-python",
   "name": "python",
   "nbconvert_exporter": "python",
   "pygments_lexer": "ipython2",
   "version": "2.7.6"
  }
 },
 "nbformat": 4,
 "nbformat_minor": 5
}
