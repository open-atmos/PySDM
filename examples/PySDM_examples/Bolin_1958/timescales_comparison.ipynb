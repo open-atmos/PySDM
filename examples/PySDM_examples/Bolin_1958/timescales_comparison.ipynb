{
 "cells": [
  {
   "cell_type": "markdown",
   "id": "da62f9aa77468520",
   "metadata": {},
   "source": [
    "[![preview notebook](https://img.shields.io/static/v1?label=render%20on&logo=github&color=87ce3e&message=GitHub)](https://github.com/open-atmos/PySDM/blob/main/examples/PySDM_examples/Bolin_1958/timescales_comparison.ipynb)\n",
    "[![launch on mybinder.org](https://mybinder.org/badge_logo.svg)](https://mybinder.org/v2/gh/open-atmos/PySDM.git/main?urlpath=lab/tree/examples/PySDM_examples/Bolin_1958/timescales_comparison.ipynb)\n",
    "[![launch on Colab](https://colab.research.google.com/assets/colab-badge.svg)](https://colab.research.google.com/github/open-atmos/PySDM/blob/main/examples/PySDM_examples/Bolin_1958/timescales_comparison.ipynb)"
   ]
  },
  {
   "cell_type": "markdown",
   "id": "c7eb55d509c585e9",
   "metadata": {},
   "source": [
    "#### Timescales comparison \n",
    "##### Bolin\n",
    "##### Gedzelman\n",
    "- TODO urls\n",
    "- TODO alpha?"
   ]
  },
  {
   "cell_type": "code",
   "id": "f508348dd491651d",
   "metadata": {
    "ExecuteTime": {
     "end_time": "2025-03-02T23:24:13.248335Z",
     "start_time": "2025-03-02T23:24:13.245560Z"
    }
   },
   "source": [
    "import sys\n",
    "if 'google.colab' in sys.modules:\n",
    "    !pip --quiet install open-atmos-jupyter-utils\n",
    "    from open_atmos_jupyter_utils import pip_install_on_colab\n",
    "    pip_install_on_colab('PySDM-examples')"
   ],
   "outputs": [],
   "execution_count": 1
  },
  {
   "cell_type": "code",
   "id": "c680144e7ad3b94a",
   "metadata": {
    "ExecuteTime": {
     "end_time": "2025-03-02T23:24:15.013914Z",
     "start_time": "2025-03-02T23:24:13.251028Z"
    }
   },
   "source": [
    "import numpy as np\n",
    "from PySDM.physics import si, in_unit\n",
    "from PySDM import Formulae\n",
    "from PySDM_examples.Bolin_1958.common import IsotopeTimescale\n",
    "from open_atmos_jupyter_utils import show_plot\n",
    "import pandas as pd\n",
    "import matplotlib.pyplot as plt"
   ],
   "outputs": [],
   "execution_count": 2
  },
  {
   "cell_type": "code",
   "id": "14eb5ccfadb724b4",
   "metadata": {
    "ExecuteTime": {
     "end_time": "2025-03-02T23:24:15.110555Z",
     "start_time": "2025-03-02T23:24:15.095341Z"
    }
   },
   "source": [
    "any_non_zero_value = 44.0\n",
    "radii = np.asarray([0.005, 0.01, 0.025, 0.05, 0.075, 0.1, 0.15, 0.20]) * si.cm\n",
    "temperature = Formulae().constants.T0 + 10 * si.K\n",
    "\n",
    "settings = {\n",
    "    \"terminal_velocity\":\"RogersYau\",\n",
    "    \"drop_growth\":\"Mason1951\",\n",
    "    \"diffusion_thermics\":\"Neglect\",\n",
    "    \"saturation_vapour_pressure\":\"AugustRocheMagnus\",\n",
    "    \"ventilation\":\"Froessling1938\",\n",
    "    \"particle_shape_and_density\":\"LiquidSpheres\",\n",
    "    \"air_dynamic_viscosity\":\"ZografosEtAl1987\",\n",
    "    \"isotope_equilibrium_fractionation_factors\":\"VanHook1968\",\n",
    "    \"isotope_diffusivity_ratios\":\"GrahamsLaw\"\n",
    "}\n",
    "\n",
    "variants = {\n",
    "    'bolin_c1': {\n",
    "        'constants': {\"BOLIN_ISOTOPE_TIMESCALE_COEFF_C1\": 1.63},\n",
    "        'isotope_relaxation_timescale': \"Bolin1958\",\n",
    "    },\n",
    "    'miyake': {\n",
    "        'isotope_relaxation_timescale': \"MiyakeEtAl1968\",\n",
    "    }\n",
    "}\n",
    "\n",
    "adjustment_time = {}"
   ],
   "outputs": [],
   "execution_count": 3
  },
  {
   "cell_type": "code",
   "id": "fa60b9096c1e7645",
   "metadata": {
    "ExecuteTime": {
     "end_time": "2025-03-02T23:24:15.116761Z",
     "start_time": "2025-03-02T23:24:15.114765Z"
    }
   },
   "source": [
    "## Bolin & Miyake"
   ],
   "outputs": [],
   "execution_count": 4
  },
  {
   "cell_type": "code",
   "id": "c5b65e0aa78917e9",
   "metadata": {
    "ExecuteTime": {
     "end_time": "2025-03-02T23:24:15.137335Z",
     "start_time": "2025-03-02T23:24:15.120555Z"
    }
   },
   "source": [
    "for variant, kwargs in variants.items():\n",
    "    new_settings = {**kwargs, **settings}\n",
    "    iso_func = IsotopeTimescale(settings=new_settings, temperature=temperature, radii=radii)\n",
    "    adjustment_time[variant] = iso_func.formulae.isotope_relaxation_timescale.tau_of_rdrdt(\n",
    "        radius = radii,\n",
    "        r_dr_dt = iso_func.r_dr_dt(RH=0, RH_eq=1, lv=0),\n",
    "        alpha=1\n",
    "    )"
   ],
   "outputs": [],
   "execution_count": 5
  },
  {
   "cell_type": "markdown",
   "id": "bbbe4fe40c27d3da",
   "metadata": {},
   "source": [
    "## Bolin - check c1"
   ]
  },
  {
   "cell_type": "code",
   "id": "f321a2a294f976c7",
   "metadata": {
    "ExecuteTime": {
     "end_time": "2025-03-02T23:24:15.143706Z",
     "start_time": "2025-03-02T23:24:15.142313Z"
    }
   },
   "source": [],
   "outputs": [],
   "execution_count": null
  },
  {
   "cell_type": "code",
   "id": "d24be9aa792c4c95",
   "metadata": {
    "ExecuteTime": {
     "end_time": "2025-03-02T23:24:15.153594Z",
     "start_time": "2025-03-02T23:24:15.150017Z"
    }
   },
   "source": [
    "iso_func = IsotopeTimescale(settings={**settings, **variants['bolin_c1']}, temperature=temperature, radii=radii)\n",
    "\n",
    "vent_coeff = iso_func.vent_coeff_fun()\n",
    "f = 0.75\n",
    "c1_coeff = iso_func.formulae.isotope_relaxation_timescale.c1_coeff(   \n",
    "    RH = 0.46,\n",
    "    R_vap = f,\n",
    "    \n",
    ")\n",
    "print(f\"c1 = {c1_coeff:.2f},\\nBolin = {iso_func.formulae.constants.BOLIN_ISOTOPE_TIMESCALE_COEFF_C1}\")\n",
    "adjustment_time['bolin'] = iso_func.formulae.isotope_relaxation_timescale.tau_of_rdrdt_c1(\n",
    "    radius = radii,\n",
    "    r_dr_dt = iso_func.r_dr_dt(RH=0.46, RH_eq=1, lv=0),\n",
    "    c1_coeff = c1_coeff\n",
    ")"
   ],
   "outputs": [
    {
     "name": "stdout",
     "output_type": "stream",
     "text": [
      "c1 = 1.63,\n",
      "Bolin = 1.63\n"
     ]
    }
   ],
   "execution_count": 6
  },
  {
   "cell_type": "code",
   "id": "b35abfb6733cfb83",
   "metadata": {
    "ExecuteTime": {
     "end_time": "2025-03-02T23:24:15.161198Z",
     "start_time": "2025-03-02T23:24:15.159820Z"
    }
   },
   "source": [
    "f = iso_func.formulae.saturation_vapour_pressure.pvs_water"
   ],
   "outputs": [],
   "execution_count": 7
  },
  {
   "cell_type": "markdown",
   "id": "a9f84676e11de4e8",
   "metadata": {},
   "source": "## Bolin without rho_iso_env = 0 assumption"
  },
  {
   "cell_type": "code",
   "id": "f5f11eb4ff50e22a",
   "metadata": {
    "ExecuteTime": {
     "end_time": "2025-03-02T23:24:15.172488Z",
     "start_time": "2025-03-02T23:24:15.170702Z"
    }
   },
   "source": [
    "alpha = 0.75\n",
    "RH = 0\n",
    "c1_coeff = iso_func.c1(\n",
    "    pv_iso=1,\n",
    "    pv_water=1,\n",
    "    R_liq=1,\n",
    "    R_vap=1,\n",
    "    RH=RH\n",
    ")\n",
    "print(f\"c1 = {c1_coeff[0]:.2f}\")\n",
    "adjustment_time['iso_env_not_zero'] = iso_func.formulae.isotope_relaxation_timescale.tau_of_rdrdt_c1(\n",
    "    radius = radii,\n",
    "    r_dr_dt = iso_func.r_dr_dt(RH=RH, RH_eq=1, lv=0),\n",
    "    c1_coeff = c1_coeff\n",
    ")"
   ],
   "outputs": [
    {
     "name": "stdout",
     "output_type": "stream",
     "text": [
      "c1 = 0.95\n"
     ]
    }
   ],
   "execution_count": 8
  },
  {
   "metadata": {
    "ExecuteTime": {
     "end_time": "2025-03-02T23:24:55.291174Z",
     "start_time": "2025-03-02T23:24:55.283433Z"
    }
   },
   "cell_type": "code",
   "source": [
    "alpha = 0.75\n",
    "RH = 0.5\n",
    "c1_coeff = iso_func.c1(\n",
    "    pv_iso=1,\n",
    "    pv_water=1,\n",
    "    R_liq=1,\n",
    "    R_vap=1,\n",
    "    RH=RH\n",
    ")\n",
    "print(f\"c1 = {c1_coeff[0]:.2f}\")\n",
    "adjustment_time['RH_not_zero'] = iso_func.formulae.isotope_relaxation_timescale.tau_of_rdrdt_c1(\n",
    "    radius = radii,\n",
    "    r_dr_dt = iso_func.r_dr_dt(RH=RH, RH_eq=1, lv=0),\n",
    "    c1_coeff = c1_coeff\n",
    ")"
   ],
   "id": "61522ba3fa75e36a",
   "outputs": [
    {
     "name": "stdout",
     "output_type": "stream",
     "text": [
      "c1 = 0.95\n"
     ]
    }
   ],
   "execution_count": 10
  },
  {
   "metadata": {},
   "cell_type": "markdown",
   "source": [
    "--- \n",
    "Bolin's Table 1."
   ],
   "id": "b2cce2a0cc8665c4"
  },
  {
   "metadata": {
    "ExecuteTime": {
     "end_time": "2025-03-02T23:25:01.731526Z",
     "start_time": "2025-03-02T23:25:01.727761Z"
    }
   },
   "cell_type": "code",
   "source": [
    "adjustment_time_bolin = np.asarray((3.3, 7.1, 33.0, 93.0, 165.0, 245.0, 365.0, 435.0)) * si.s\n",
    "terminal_velocity = np.asarray((0.27, 0.72, 2.1, 4.0, 5.4, 6.5, 8.1, 8.8)) * si.m / si.s\n",
    "distance = np.asarray((0.9, 5.1, 69.0, 370.0, 890.0, 1600.0, 3000.0, 3800.0)) * si.m"
   ],
   "id": "ca8953f43f8ae7d3",
   "outputs": [],
   "execution_count": 11
  },
  {
   "metadata": {
    "ExecuteTime": {
     "end_time": "2025-03-02T23:25:02.224020Z",
     "start_time": "2025-03-02T23:25:02.204904Z"
    }
   },
   "cell_type": "code",
   "source": [
    "bolin_table_1 = pd.DataFrame({\n",
    "    'Radius [cm]': in_unit(radii, si.cm),\n",
    "    'Adjustment time [s]': adjustment_time_bolin,\n",
    "    'Terminal velocity [m/s]': terminal_velocity,\n",
    "    'Distance [m]': distance,\n",
    "})\n",
    "bolin_table_1"
   ],
   "id": "5c69060b4bb798f3",
   "outputs": [
    {
     "data": {
      "text/plain": [
       "   Radius [cm]  Adjustment time [s]  Terminal velocity [m/s]  Distance [m]\n",
       "0        0.005                  3.3                     0.27           0.9\n",
       "1        0.010                  7.1                     0.72           5.1\n",
       "2        0.025                 33.0                     2.10          69.0\n",
       "3        0.050                 93.0                     4.00         370.0\n",
       "4        0.075                165.0                     5.40         890.0\n",
       "5        0.100                245.0                     6.50        1600.0\n",
       "6        0.150                365.0                     8.10        3000.0\n",
       "7        0.200                435.0                     8.80        3800.0"
      ],
      "text/html": [
       "<div>\n",
       "<style scoped>\n",
       "    .dataframe tbody tr th:only-of-type {\n",
       "        vertical-align: middle;\n",
       "    }\n",
       "\n",
       "    .dataframe tbody tr th {\n",
       "        vertical-align: top;\n",
       "    }\n",
       "\n",
       "    .dataframe thead th {\n",
       "        text-align: right;\n",
       "    }\n",
       "</style>\n",
       "<table border=\"1\" class=\"dataframe\">\n",
       "  <thead>\n",
       "    <tr style=\"text-align: right;\">\n",
       "      <th></th>\n",
       "      <th>Radius [cm]</th>\n",
       "      <th>Adjustment time [s]</th>\n",
       "      <th>Terminal velocity [m/s]</th>\n",
       "      <th>Distance [m]</th>\n",
       "    </tr>\n",
       "  </thead>\n",
       "  <tbody>\n",
       "    <tr>\n",
       "      <th>0</th>\n",
       "      <td>0.005</td>\n",
       "      <td>3.3</td>\n",
       "      <td>0.27</td>\n",
       "      <td>0.9</td>\n",
       "    </tr>\n",
       "    <tr>\n",
       "      <th>1</th>\n",
       "      <td>0.010</td>\n",
       "      <td>7.1</td>\n",
       "      <td>0.72</td>\n",
       "      <td>5.1</td>\n",
       "    </tr>\n",
       "    <tr>\n",
       "      <th>2</th>\n",
       "      <td>0.025</td>\n",
       "      <td>33.0</td>\n",
       "      <td>2.10</td>\n",
       "      <td>69.0</td>\n",
       "    </tr>\n",
       "    <tr>\n",
       "      <th>3</th>\n",
       "      <td>0.050</td>\n",
       "      <td>93.0</td>\n",
       "      <td>4.00</td>\n",
       "      <td>370.0</td>\n",
       "    </tr>\n",
       "    <tr>\n",
       "      <th>4</th>\n",
       "      <td>0.075</td>\n",
       "      <td>165.0</td>\n",
       "      <td>5.40</td>\n",
       "      <td>890.0</td>\n",
       "    </tr>\n",
       "    <tr>\n",
       "      <th>5</th>\n",
       "      <td>0.100</td>\n",
       "      <td>245.0</td>\n",
       "      <td>6.50</td>\n",
       "      <td>1600.0</td>\n",
       "    </tr>\n",
       "    <tr>\n",
       "      <th>6</th>\n",
       "      <td>0.150</td>\n",
       "      <td>365.0</td>\n",
       "      <td>8.10</td>\n",
       "      <td>3000.0</td>\n",
       "    </tr>\n",
       "    <tr>\n",
       "      <th>7</th>\n",
       "      <td>0.200</td>\n",
       "      <td>435.0</td>\n",
       "      <td>8.80</td>\n",
       "      <td>3800.0</td>\n",
       "    </tr>\n",
       "  </tbody>\n",
       "</table>\n",
       "</div>"
      ]
     },
     "execution_count": 12,
     "metadata": {},
     "output_type": "execute_result"
    }
   ],
   "execution_count": 12
  },
  {
   "cell_type": "code",
   "id": "4d5bd85973a6f574",
   "metadata": {
    "ExecuteTime": {
     "end_time": "2025-03-02T23:25:07.884134Z",
     "start_time": "2025-03-02T23:25:07.877133Z"
    }
   },
   "source": [
    "adjustment_time_frame = pd.DataFrame({\n",
    "    'Radius [cm]' : in_unit(radii, si.cm),\n",
    "    'Miyake [s]' : adjustment_time['miyake'],\n",
    "    'Bolin [s]' : adjustment_time['bolin'],\n",
    "    'c1=1.63 [s]' : adjustment_time['bolin_c1'],\n",
    "    'iso_env!=0 [s]': adjustment_time['iso_env_not_zero'],\n",
    "    'RH_env!=0 [s]': adjustment_time['RH_not_zero'],\n",
    "})\n",
    "adjustment_time_frame"
   ],
   "outputs": [
    {
     "data": {
      "text/plain": [
       "   Radius [cm]  Miyake [s]   Bolin [s]  c1=1.63 [s]  iso_env!=0 [s]  \\\n",
       "0        0.005    2.810438    3.192102     1.724195        2.962984   \n",
       "1        0.010    8.748955    9.937085     5.367457        9.223833   \n",
       "2        0.025   32.836815   37.296136    20.145286       34.619139   \n",
       "3        0.050   78.849070   89.556968    48.373662       83.128857   \n",
       "4        0.075  131.500508  149.358602    80.675159      138.638122   \n",
       "5        0.100  194.007589  220.354299   119.023061      204.537976   \n",
       "6        0.150  332.826826  378.025531   204.188237      350.892074   \n",
       "7        0.200  485.730716  551.694147   297.994304      512.095316   \n",
       "\n",
       "   RH_env!=0 [s]  \n",
       "0       5.925967  \n",
       "1      18.447666  \n",
       "2      69.238279  \n",
       "3     166.257714  \n",
       "4     277.276245  \n",
       "5     409.075952  \n",
       "6     701.784149  \n",
       "7    1024.190631  "
      ],
      "text/html": [
       "<div>\n",
       "<style scoped>\n",
       "    .dataframe tbody tr th:only-of-type {\n",
       "        vertical-align: middle;\n",
       "    }\n",
       "\n",
       "    .dataframe tbody tr th {\n",
       "        vertical-align: top;\n",
       "    }\n",
       "\n",
       "    .dataframe thead th {\n",
       "        text-align: right;\n",
       "    }\n",
       "</style>\n",
       "<table border=\"1\" class=\"dataframe\">\n",
       "  <thead>\n",
       "    <tr style=\"text-align: right;\">\n",
       "      <th></th>\n",
       "      <th>Radius [cm]</th>\n",
       "      <th>Miyake [s]</th>\n",
       "      <th>Bolin [s]</th>\n",
       "      <th>c1=1.63 [s]</th>\n",
       "      <th>iso_env!=0 [s]</th>\n",
       "      <th>RH_env!=0 [s]</th>\n",
       "    </tr>\n",
       "  </thead>\n",
       "  <tbody>\n",
       "    <tr>\n",
       "      <th>0</th>\n",
       "      <td>0.005</td>\n",
       "      <td>2.810438</td>\n",
       "      <td>3.192102</td>\n",
       "      <td>1.724195</td>\n",
       "      <td>2.962984</td>\n",
       "      <td>5.925967</td>\n",
       "    </tr>\n",
       "    <tr>\n",
       "      <th>1</th>\n",
       "      <td>0.010</td>\n",
       "      <td>8.748955</td>\n",
       "      <td>9.937085</td>\n",
       "      <td>5.367457</td>\n",
       "      <td>9.223833</td>\n",
       "      <td>18.447666</td>\n",
       "    </tr>\n",
       "    <tr>\n",
       "      <th>2</th>\n",
       "      <td>0.025</td>\n",
       "      <td>32.836815</td>\n",
       "      <td>37.296136</td>\n",
       "      <td>20.145286</td>\n",
       "      <td>34.619139</td>\n",
       "      <td>69.238279</td>\n",
       "    </tr>\n",
       "    <tr>\n",
       "      <th>3</th>\n",
       "      <td>0.050</td>\n",
       "      <td>78.849070</td>\n",
       "      <td>89.556968</td>\n",
       "      <td>48.373662</td>\n",
       "      <td>83.128857</td>\n",
       "      <td>166.257714</td>\n",
       "    </tr>\n",
       "    <tr>\n",
       "      <th>4</th>\n",
       "      <td>0.075</td>\n",
       "      <td>131.500508</td>\n",
       "      <td>149.358602</td>\n",
       "      <td>80.675159</td>\n",
       "      <td>138.638122</td>\n",
       "      <td>277.276245</td>\n",
       "    </tr>\n",
       "    <tr>\n",
       "      <th>5</th>\n",
       "      <td>0.100</td>\n",
       "      <td>194.007589</td>\n",
       "      <td>220.354299</td>\n",
       "      <td>119.023061</td>\n",
       "      <td>204.537976</td>\n",
       "      <td>409.075952</td>\n",
       "    </tr>\n",
       "    <tr>\n",
       "      <th>6</th>\n",
       "      <td>0.150</td>\n",
       "      <td>332.826826</td>\n",
       "      <td>378.025531</td>\n",
       "      <td>204.188237</td>\n",
       "      <td>350.892074</td>\n",
       "      <td>701.784149</td>\n",
       "    </tr>\n",
       "    <tr>\n",
       "      <th>7</th>\n",
       "      <td>0.200</td>\n",
       "      <td>485.730716</td>\n",
       "      <td>551.694147</td>\n",
       "      <td>297.994304</td>\n",
       "      <td>512.095316</td>\n",
       "      <td>1024.190631</td>\n",
       "    </tr>\n",
       "  </tbody>\n",
       "</table>\n",
       "</div>"
      ]
     },
     "execution_count": 13,
     "metadata": {},
     "output_type": "execute_result"
    }
   ],
   "execution_count": 13
  },
  {
   "cell_type": "code",
   "id": "52ad83d048dd7bbc",
   "metadata": {
    "ExecuteTime": {
     "end_time": "2025-03-02T23:25:09.272472Z",
     "start_time": "2025-03-02T23:25:08.987473Z"
    }
   },
   "source": [
    "fig, ax = plt.subplots()\n",
    "for variant, time in adjustment_time_frame.items():\n",
    "    if variant != 'Radius [cm]':\n",
    "        ax.plot(in_unit(radii, si.cm), time * si.s, label=variant)\n",
    "ax.scatter(in_unit(radii, si.cm), bolin_table_1['Adjustment time [s]'], color='k')\n",
    "ax.set_title('Isotopic relaxation timescale comparison')\n",
    "ax.set_xlabel('Radius [cm]')\n",
    "ax.set_ylabel('Time [s]')\n",
    "ax.legend()\n",
    "show_plot('timescales_comparison.pdf')"
   ],
   "outputs": [
    {
     "data": {
      "text/plain": [
       "<Figure size 640x480 with 1 Axes>"
      ],
      "image/svg+xml": "<?xml version=\"1.0\" encoding=\"utf-8\" standalone=\"no\"?>\n<!DOCTYPE svg PUBLIC \"-//W3C//DTD SVG 1.1//EN\"\n  \"http://www.w3.org/Graphics/SVG/1.1/DTD/svg11.dtd\">\n<svg xmlns:xlink=\"http://www.w3.org/1999/xlink\" width=\"417.648125pt\" height=\"325.986375pt\" viewBox=\"0 0 417.648125 325.986375\" xmlns=\"http://www.w3.org/2000/svg\" version=\"1.1\">\n <metadata>\n  <rdf:RDF xmlns:dc=\"http://purl.org/dc/elements/1.1/\" xmlns:cc=\"http://creativecommons.org/ns#\" xmlns:rdf=\"http://www.w3.org/1999/02/22-rdf-syntax-ns#\">\n   <cc:Work>\n    <dc:type rdf:resource=\"http://purl.org/dc/dcmitype/StillImage\"/>\n    <dc:date>2025-03-03T00:25:09.255012</dc:date>\n    <dc:format>image/svg+xml</dc:format>\n    <dc:creator>\n     <cc:Agent>\n      <dc:title>Matplotlib v3.10.0, https://matplotlib.org/</dc:title>\n     </cc:Agent>\n    </dc:creator>\n   </cc:Work>\n  </rdf:RDF>\n </metadata>\n <defs>\n  <style type=\"text/css\">*{stroke-linejoin: round; stroke-linecap: butt}</style>\n </defs>\n <g id=\"figure_1\">\n  <g id=\"patch_1\">\n   <path d=\"M 0 325.986375 \nL 417.648125 325.986375 \nL 417.648125 0 \nL 0 0 \nz\n\" style=\"fill: #ffffff\"/>\n  </g>\n  <g id=\"axes_1\">\n   <g id=\"patch_2\">\n    <path d=\"M 53.328125 288.430125 \nL 410.448125 288.430125 \nL 410.448125 22.318125 \nL 53.328125 22.318125 \nz\n\" style=\"fill: #ffffff\"/>\n   </g>\n   <g id=\"PathCollection_1\">\n    <defs>\n     <path id=\"m271abf947e\" d=\"M 0 3 \nC 0.795609 3 1.55874 2.683901 2.12132 2.12132 \nC 2.683901 1.55874 3 0.795609 3 0 \nC 3 -0.795609 2.683901 -1.55874 2.12132 -2.12132 \nC 1.55874 -2.683901 0.795609 -3 0 -3 \nC -0.795609 -3 -1.55874 -2.683901 -2.12132 -2.12132 \nC -2.683901 -1.55874 -3 -0.795609 -3 0 \nC -3 0.795609 -2.683901 1.55874 -2.12132 2.12132 \nC -1.55874 2.683901 -0.795609 3 0 3 \nz\n\" style=\"stroke: #000000\"/>\n    </defs>\n    <g clip-path=\"url(#p6f03c2cdff)\">\n     <use xlink:href=\"#m271abf947e\" x=\"69.560852\" y=\"275.961283\" style=\"stroke: #000000\"/>\n     <use xlink:href=\"#m271abf947e\" x=\"77.885328\" y=\"275.062186\" style=\"stroke: #000000\"/>\n     <use xlink:href=\"#m271abf947e\" x=\"102.858754\" y=\"268.934134\" style=\"stroke: #000000\"/>\n     <use xlink:href=\"#m271abf947e\" x=\"144.481132\" y=\"254.737873\" style=\"stroke: #000000\"/>\n     <use xlink:href=\"#m271abf947e\" x=\"186.10351\" y=\"237.70236\" style=\"stroke: #000000\"/>\n     <use xlink:href=\"#m271abf947e\" x=\"227.725887\" y=\"218.774013\" style=\"stroke: #000000\"/>\n     <use xlink:href=\"#m271abf947e\" x=\"310.970642\" y=\"190.381492\" style=\"stroke: #000000\"/>\n     <use xlink:href=\"#m271abf947e\" x=\"394.215398\" y=\"173.819188\" style=\"stroke: #000000\"/>\n    </g>\n   </g>\n   <g id=\"matplotlib.axis_1\">\n    <g id=\"xtick_1\">\n     <g id=\"line2d_1\">\n      <defs>\n       <path id=\"m329c954b20\" d=\"M 0 0 \nL 0 3.5 \n\" style=\"stroke: #000000; stroke-width: 0.8\"/>\n      </defs>\n      <g>\n       <use xlink:href=\"#m329c954b20\" x=\"61.236377\" y=\"288.430125\" style=\"stroke: #000000; stroke-width: 0.8\"/>\n      </g>\n     </g>\n     <g id=\"text_1\">\n      <!-- 0.000 -->\n      <g transform=\"translate(46.922314 303.028562) scale(0.1 -0.1)\">\n       <defs>\n        <path id=\"DejaVuSans-30\" d=\"M 2034 4250 \nQ 1547 4250 1301 3770 \nQ 1056 3291 1056 2328 \nQ 1056 1369 1301 889 \nQ 1547 409 2034 409 \nQ 2525 409 2770 889 \nQ 3016 1369 3016 2328 \nQ 3016 3291 2770 3770 \nQ 2525 4250 2034 4250 \nz\nM 2034 4750 \nQ 2819 4750 3233 4129 \nQ 3647 3509 3647 2328 \nQ 3647 1150 3233 529 \nQ 2819 -91 2034 -91 \nQ 1250 -91 836 529 \nQ 422 1150 422 2328 \nQ 422 3509 836 4129 \nQ 1250 4750 2034 4750 \nz\n\" transform=\"scale(0.015625)\"/>\n        <path id=\"DejaVuSans-2e\" d=\"M 684 794 \nL 1344 794 \nL 1344 0 \nL 684 0 \nL 684 794 \nz\n\" transform=\"scale(0.015625)\"/>\n       </defs>\n       <use xlink:href=\"#DejaVuSans-30\"/>\n       <use xlink:href=\"#DejaVuSans-2e\" transform=\"translate(63.623047 0)\"/>\n       <use xlink:href=\"#DejaVuSans-30\" transform=\"translate(95.410156 0)\"/>\n       <use xlink:href=\"#DejaVuSans-30\" transform=\"translate(159.033203 0)\"/>\n       <use xlink:href=\"#DejaVuSans-30\" transform=\"translate(222.65625 0)\"/>\n      </g>\n     </g>\n    </g>\n    <g id=\"xtick_2\">\n     <g id=\"line2d_2\">\n      <g>\n       <use xlink:href=\"#m329c954b20\" x=\"102.858754\" y=\"288.430125\" style=\"stroke: #000000; stroke-width: 0.8\"/>\n      </g>\n     </g>\n     <g id=\"text_2\">\n      <!-- 0.025 -->\n      <g transform=\"translate(88.544692 303.028562) scale(0.1 -0.1)\">\n       <defs>\n        <path id=\"DejaVuSans-32\" d=\"M 1228 531 \nL 3431 531 \nL 3431 0 \nL 469 0 \nL 469 531 \nQ 828 903 1448 1529 \nQ 2069 2156 2228 2338 \nQ 2531 2678 2651 2914 \nQ 2772 3150 2772 3378 \nQ 2772 3750 2511 3984 \nQ 2250 4219 1831 4219 \nQ 1534 4219 1204 4116 \nQ 875 4013 500 3803 \nL 500 4441 \nQ 881 4594 1212 4672 \nQ 1544 4750 1819 4750 \nQ 2544 4750 2975 4387 \nQ 3406 4025 3406 3419 \nQ 3406 3131 3298 2873 \nQ 3191 2616 2906 2266 \nQ 2828 2175 2409 1742 \nQ 1991 1309 1228 531 \nz\n\" transform=\"scale(0.015625)\"/>\n        <path id=\"DejaVuSans-35\" d=\"M 691 4666 \nL 3169 4666 \nL 3169 4134 \nL 1269 4134 \nL 1269 2991 \nQ 1406 3038 1543 3061 \nQ 1681 3084 1819 3084 \nQ 2600 3084 3056 2656 \nQ 3513 2228 3513 1497 \nQ 3513 744 3044 326 \nQ 2575 -91 1722 -91 \nQ 1428 -91 1123 -41 \nQ 819 9 494 109 \nL 494 744 \nQ 775 591 1075 516 \nQ 1375 441 1709 441 \nQ 2250 441 2565 725 \nQ 2881 1009 2881 1497 \nQ 2881 1984 2565 2268 \nQ 2250 2553 1709 2553 \nQ 1456 2553 1204 2497 \nQ 953 2441 691 2322 \nL 691 4666 \nz\n\" transform=\"scale(0.015625)\"/>\n       </defs>\n       <use xlink:href=\"#DejaVuSans-30\"/>\n       <use xlink:href=\"#DejaVuSans-2e\" transform=\"translate(63.623047 0)\"/>\n       <use xlink:href=\"#DejaVuSans-30\" transform=\"translate(95.410156 0)\"/>\n       <use xlink:href=\"#DejaVuSans-32\" transform=\"translate(159.033203 0)\"/>\n       <use xlink:href=\"#DejaVuSans-35\" transform=\"translate(222.65625 0)\"/>\n      </g>\n     </g>\n    </g>\n    <g id=\"xtick_3\">\n     <g id=\"line2d_3\">\n      <g>\n       <use xlink:href=\"#m329c954b20\" x=\"144.481132\" y=\"288.430125\" style=\"stroke: #000000; stroke-width: 0.8\"/>\n      </g>\n     </g>\n     <g id=\"text_3\">\n      <!-- 0.050 -->\n      <g transform=\"translate(130.167069 303.028562) scale(0.1 -0.1)\">\n       <use xlink:href=\"#DejaVuSans-30\"/>\n       <use xlink:href=\"#DejaVuSans-2e\" transform=\"translate(63.623047 0)\"/>\n       <use xlink:href=\"#DejaVuSans-30\" transform=\"translate(95.410156 0)\"/>\n       <use xlink:href=\"#DejaVuSans-35\" transform=\"translate(159.033203 0)\"/>\n       <use xlink:href=\"#DejaVuSans-30\" transform=\"translate(222.65625 0)\"/>\n      </g>\n     </g>\n    </g>\n    <g id=\"xtick_4\">\n     <g id=\"line2d_4\">\n      <g>\n       <use xlink:href=\"#m329c954b20\" x=\"186.10351\" y=\"288.430125\" style=\"stroke: #000000; stroke-width: 0.8\"/>\n      </g>\n     </g>\n     <g id=\"text_4\">\n      <!-- 0.075 -->\n      <g transform=\"translate(171.789447 303.028562) scale(0.1 -0.1)\">\n       <defs>\n        <path id=\"DejaVuSans-37\" d=\"M 525 4666 \nL 3525 4666 \nL 3525 4397 \nL 1831 0 \nL 1172 0 \nL 2766 4134 \nL 525 4134 \nL 525 4666 \nz\n\" transform=\"scale(0.015625)\"/>\n       </defs>\n       <use xlink:href=\"#DejaVuSans-30\"/>\n       <use xlink:href=\"#DejaVuSans-2e\" transform=\"translate(63.623047 0)\"/>\n       <use xlink:href=\"#DejaVuSans-30\" transform=\"translate(95.410156 0)\"/>\n       <use xlink:href=\"#DejaVuSans-37\" transform=\"translate(159.033203 0)\"/>\n       <use xlink:href=\"#DejaVuSans-35\" transform=\"translate(222.65625 0)\"/>\n      </g>\n     </g>\n    </g>\n    <g id=\"xtick_5\">\n     <g id=\"line2d_5\">\n      <g>\n       <use xlink:href=\"#m329c954b20\" x=\"227.725887\" y=\"288.430125\" style=\"stroke: #000000; stroke-width: 0.8\"/>\n      </g>\n     </g>\n     <g id=\"text_5\">\n      <!-- 0.100 -->\n      <g transform=\"translate(213.411825 303.028562) scale(0.1 -0.1)\">\n       <defs>\n        <path id=\"DejaVuSans-31\" d=\"M 794 531 \nL 1825 531 \nL 1825 4091 \nL 703 3866 \nL 703 4441 \nL 1819 4666 \nL 2450 4666 \nL 2450 531 \nL 3481 531 \nL 3481 0 \nL 794 0 \nL 794 531 \nz\n\" transform=\"scale(0.015625)\"/>\n       </defs>\n       <use xlink:href=\"#DejaVuSans-30\"/>\n       <use xlink:href=\"#DejaVuSans-2e\" transform=\"translate(63.623047 0)\"/>\n       <use xlink:href=\"#DejaVuSans-31\" transform=\"translate(95.410156 0)\"/>\n       <use xlink:href=\"#DejaVuSans-30\" transform=\"translate(159.033203 0)\"/>\n       <use xlink:href=\"#DejaVuSans-30\" transform=\"translate(222.65625 0)\"/>\n      </g>\n     </g>\n    </g>\n    <g id=\"xtick_6\">\n     <g id=\"line2d_6\">\n      <g>\n       <use xlink:href=\"#m329c954b20\" x=\"269.348265\" y=\"288.430125\" style=\"stroke: #000000; stroke-width: 0.8\"/>\n      </g>\n     </g>\n     <g id=\"text_6\">\n      <!-- 0.125 -->\n      <g transform=\"translate(255.034202 303.028562) scale(0.1 -0.1)\">\n       <use xlink:href=\"#DejaVuSans-30\"/>\n       <use xlink:href=\"#DejaVuSans-2e\" transform=\"translate(63.623047 0)\"/>\n       <use xlink:href=\"#DejaVuSans-31\" transform=\"translate(95.410156 0)\"/>\n       <use xlink:href=\"#DejaVuSans-32\" transform=\"translate(159.033203 0)\"/>\n       <use xlink:href=\"#DejaVuSans-35\" transform=\"translate(222.65625 0)\"/>\n      </g>\n     </g>\n    </g>\n    <g id=\"xtick_7\">\n     <g id=\"line2d_7\">\n      <g>\n       <use xlink:href=\"#m329c954b20\" x=\"310.970642\" y=\"288.430125\" style=\"stroke: #000000; stroke-width: 0.8\"/>\n      </g>\n     </g>\n     <g id=\"text_7\">\n      <!-- 0.150 -->\n      <g transform=\"translate(296.65658 303.028562) scale(0.1 -0.1)\">\n       <use xlink:href=\"#DejaVuSans-30\"/>\n       <use xlink:href=\"#DejaVuSans-2e\" transform=\"translate(63.623047 0)\"/>\n       <use xlink:href=\"#DejaVuSans-31\" transform=\"translate(95.410156 0)\"/>\n       <use xlink:href=\"#DejaVuSans-35\" transform=\"translate(159.033203 0)\"/>\n       <use xlink:href=\"#DejaVuSans-30\" transform=\"translate(222.65625 0)\"/>\n      </g>\n     </g>\n    </g>\n    <g id=\"xtick_8\">\n     <g id=\"line2d_8\">\n      <g>\n       <use xlink:href=\"#m329c954b20\" x=\"352.59302\" y=\"288.430125\" style=\"stroke: #000000; stroke-width: 0.8\"/>\n      </g>\n     </g>\n     <g id=\"text_8\">\n      <!-- 0.175 -->\n      <g transform=\"translate(338.278958 303.028562) scale(0.1 -0.1)\">\n       <use xlink:href=\"#DejaVuSans-30\"/>\n       <use xlink:href=\"#DejaVuSans-2e\" transform=\"translate(63.623047 0)\"/>\n       <use xlink:href=\"#DejaVuSans-31\" transform=\"translate(95.410156 0)\"/>\n       <use xlink:href=\"#DejaVuSans-37\" transform=\"translate(159.033203 0)\"/>\n       <use xlink:href=\"#DejaVuSans-35\" transform=\"translate(222.65625 0)\"/>\n      </g>\n     </g>\n    </g>\n    <g id=\"xtick_9\">\n     <g id=\"line2d_9\">\n      <g>\n       <use xlink:href=\"#m329c954b20\" x=\"394.215398\" y=\"288.430125\" style=\"stroke: #000000; stroke-width: 0.8\"/>\n      </g>\n     </g>\n     <g id=\"text_9\">\n      <!-- 0.200 -->\n      <g transform=\"translate(379.901335 303.028562) scale(0.1 -0.1)\">\n       <use xlink:href=\"#DejaVuSans-30\"/>\n       <use xlink:href=\"#DejaVuSans-2e\" transform=\"translate(63.623047 0)\"/>\n       <use xlink:href=\"#DejaVuSans-32\" transform=\"translate(95.410156 0)\"/>\n       <use xlink:href=\"#DejaVuSans-30\" transform=\"translate(159.033203 0)\"/>\n       <use xlink:href=\"#DejaVuSans-30\" transform=\"translate(222.65625 0)\"/>\n      </g>\n     </g>\n    </g>\n    <g id=\"text_10\">\n     <!-- Radius [cm] -->\n     <g transform=\"translate(202.015469 316.706687) scale(0.1 -0.1)\">\n      <defs>\n       <path id=\"DejaVuSans-52\" d=\"M 2841 2188 \nQ 3044 2119 3236 1894 \nQ 3428 1669 3622 1275 \nL 4263 0 \nL 3584 0 \nL 2988 1197 \nQ 2756 1666 2539 1819 \nQ 2322 1972 1947 1972 \nL 1259 1972 \nL 1259 0 \nL 628 0 \nL 628 4666 \nL 2053 4666 \nQ 2853 4666 3247 4331 \nQ 3641 3997 3641 3322 \nQ 3641 2881 3436 2590 \nQ 3231 2300 2841 2188 \nz\nM 1259 4147 \nL 1259 2491 \nL 2053 2491 \nQ 2509 2491 2742 2702 \nQ 2975 2913 2975 3322 \nQ 2975 3731 2742 3939 \nQ 2509 4147 2053 4147 \nL 1259 4147 \nz\n\" transform=\"scale(0.015625)\"/>\n       <path id=\"DejaVuSans-61\" d=\"M 2194 1759 \nQ 1497 1759 1228 1600 \nQ 959 1441 959 1056 \nQ 959 750 1161 570 \nQ 1363 391 1709 391 \nQ 2188 391 2477 730 \nQ 2766 1069 2766 1631 \nL 2766 1759 \nL 2194 1759 \nz\nM 3341 1997 \nL 3341 0 \nL 2766 0 \nL 2766 531 \nQ 2569 213 2275 61 \nQ 1981 -91 1556 -91 \nQ 1019 -91 701 211 \nQ 384 513 384 1019 \nQ 384 1609 779 1909 \nQ 1175 2209 1959 2209 \nL 2766 2209 \nL 2766 2266 \nQ 2766 2663 2505 2880 \nQ 2244 3097 1772 3097 \nQ 1472 3097 1187 3025 \nQ 903 2953 641 2809 \nL 641 3341 \nQ 956 3463 1253 3523 \nQ 1550 3584 1831 3584 \nQ 2591 3584 2966 3190 \nQ 3341 2797 3341 1997 \nz\n\" transform=\"scale(0.015625)\"/>\n       <path id=\"DejaVuSans-64\" d=\"M 2906 2969 \nL 2906 4863 \nL 3481 4863 \nL 3481 0 \nL 2906 0 \nL 2906 525 \nQ 2725 213 2448 61 \nQ 2172 -91 1784 -91 \nQ 1150 -91 751 415 \nQ 353 922 353 1747 \nQ 353 2572 751 3078 \nQ 1150 3584 1784 3584 \nQ 2172 3584 2448 3432 \nQ 2725 3281 2906 2969 \nz\nM 947 1747 \nQ 947 1113 1208 752 \nQ 1469 391 1925 391 \nQ 2381 391 2643 752 \nQ 2906 1113 2906 1747 \nQ 2906 2381 2643 2742 \nQ 2381 3103 1925 3103 \nQ 1469 3103 1208 2742 \nQ 947 2381 947 1747 \nz\n\" transform=\"scale(0.015625)\"/>\n       <path id=\"DejaVuSans-69\" d=\"M 603 3500 \nL 1178 3500 \nL 1178 0 \nL 603 0 \nL 603 3500 \nz\nM 603 4863 \nL 1178 4863 \nL 1178 4134 \nL 603 4134 \nL 603 4863 \nz\n\" transform=\"scale(0.015625)\"/>\n       <path id=\"DejaVuSans-75\" d=\"M 544 1381 \nL 544 3500 \nL 1119 3500 \nL 1119 1403 \nQ 1119 906 1312 657 \nQ 1506 409 1894 409 \nQ 2359 409 2629 706 \nQ 2900 1003 2900 1516 \nL 2900 3500 \nL 3475 3500 \nL 3475 0 \nL 2900 0 \nL 2900 538 \nQ 2691 219 2414 64 \nQ 2138 -91 1772 -91 \nQ 1169 -91 856 284 \nQ 544 659 544 1381 \nz\nM 1991 3584 \nL 1991 3584 \nz\n\" transform=\"scale(0.015625)\"/>\n       <path id=\"DejaVuSans-73\" d=\"M 2834 3397 \nL 2834 2853 \nQ 2591 2978 2328 3040 \nQ 2066 3103 1784 3103 \nQ 1356 3103 1142 2972 \nQ 928 2841 928 2578 \nQ 928 2378 1081 2264 \nQ 1234 2150 1697 2047 \nL 1894 2003 \nQ 2506 1872 2764 1633 \nQ 3022 1394 3022 966 \nQ 3022 478 2636 193 \nQ 2250 -91 1575 -91 \nQ 1294 -91 989 -36 \nQ 684 19 347 128 \nL 347 722 \nQ 666 556 975 473 \nQ 1284 391 1588 391 \nQ 1994 391 2212 530 \nQ 2431 669 2431 922 \nQ 2431 1156 2273 1281 \nQ 2116 1406 1581 1522 \nL 1381 1569 \nQ 847 1681 609 1914 \nQ 372 2147 372 2553 \nQ 372 3047 722 3315 \nQ 1072 3584 1716 3584 \nQ 2034 3584 2315 3537 \nQ 2597 3491 2834 3397 \nz\n\" transform=\"scale(0.015625)\"/>\n       <path id=\"DejaVuSans-20\" transform=\"scale(0.015625)\"/>\n       <path id=\"DejaVuSans-5b\" d=\"M 550 4863 \nL 1875 4863 \nL 1875 4416 \nL 1125 4416 \nL 1125 -397 \nL 1875 -397 \nL 1875 -844 \nL 550 -844 \nL 550 4863 \nz\n\" transform=\"scale(0.015625)\"/>\n       <path id=\"DejaVuSans-63\" d=\"M 3122 3366 \nL 3122 2828 \nQ 2878 2963 2633 3030 \nQ 2388 3097 2138 3097 \nQ 1578 3097 1268 2742 \nQ 959 2388 959 1747 \nQ 959 1106 1268 751 \nQ 1578 397 2138 397 \nQ 2388 397 2633 464 \nQ 2878 531 3122 666 \nL 3122 134 \nQ 2881 22 2623 -34 \nQ 2366 -91 2075 -91 \nQ 1284 -91 818 406 \nQ 353 903 353 1747 \nQ 353 2603 823 3093 \nQ 1294 3584 2113 3584 \nQ 2378 3584 2631 3529 \nQ 2884 3475 3122 3366 \nz\n\" transform=\"scale(0.015625)\"/>\n       <path id=\"DejaVuSans-6d\" d=\"M 3328 2828 \nQ 3544 3216 3844 3400 \nQ 4144 3584 4550 3584 \nQ 5097 3584 5394 3201 \nQ 5691 2819 5691 2113 \nL 5691 0 \nL 5113 0 \nL 5113 2094 \nQ 5113 2597 4934 2840 \nQ 4756 3084 4391 3084 \nQ 3944 3084 3684 2787 \nQ 3425 2491 3425 1978 \nL 3425 0 \nL 2847 0 \nL 2847 2094 \nQ 2847 2600 2669 2842 \nQ 2491 3084 2119 3084 \nQ 1678 3084 1418 2786 \nQ 1159 2488 1159 1978 \nL 1159 0 \nL 581 0 \nL 581 3500 \nL 1159 3500 \nL 1159 2956 \nQ 1356 3278 1631 3431 \nQ 1906 3584 2284 3584 \nQ 2666 3584 2933 3390 \nQ 3200 3197 3328 2828 \nz\n\" transform=\"scale(0.015625)\"/>\n       <path id=\"DejaVuSans-5d\" d=\"M 1947 4863 \nL 1947 -844 \nL 622 -844 \nL 622 -397 \nL 1369 -397 \nL 1369 4416 \nL 622 4416 \nL 622 4863 \nL 1947 4863 \nz\n\" transform=\"scale(0.015625)\"/>\n      </defs>\n      <use xlink:href=\"#DejaVuSans-52\"/>\n      <use xlink:href=\"#DejaVuSans-61\" transform=\"translate(67.232422 0)\"/>\n      <use xlink:href=\"#DejaVuSans-64\" transform=\"translate(128.511719 0)\"/>\n      <use xlink:href=\"#DejaVuSans-69\" transform=\"translate(191.988281 0)\"/>\n      <use xlink:href=\"#DejaVuSans-75\" transform=\"translate(219.771484 0)\"/>\n      <use xlink:href=\"#DejaVuSans-73\" transform=\"translate(283.150391 0)\"/>\n      <use xlink:href=\"#DejaVuSans-20\" transform=\"translate(335.25 0)\"/>\n      <use xlink:href=\"#DejaVuSans-5b\" transform=\"translate(367.037109 0)\"/>\n      <use xlink:href=\"#DejaVuSans-63\" transform=\"translate(406.050781 0)\"/>\n      <use xlink:href=\"#DejaVuSans-6d\" transform=\"translate(461.03125 0)\"/>\n      <use xlink:href=\"#DejaVuSans-5d\" transform=\"translate(558.443359 0)\"/>\n     </g>\n    </g>\n   </g>\n   <g id=\"matplotlib.axis_2\">\n    <g id=\"ytick_1\">\n     <g id=\"line2d_10\">\n      <defs>\n       <path id=\"m56e091ca04\" d=\"M 0 0 \nL -3.5 0 \n\" style=\"stroke: #000000; stroke-width: 0.8\"/>\n      </defs>\n      <g>\n       <use xlink:href=\"#m56e091ca04\" x=\"53.328125\" y=\"276.742077\" style=\"stroke: #000000; stroke-width: 0.8\"/>\n      </g>\n     </g>\n     <g id=\"text_11\">\n      <!-- 0 -->\n      <g transform=\"translate(39.965625 280.541296) scale(0.1 -0.1)\">\n       <use xlink:href=\"#DejaVuSans-30\"/>\n      </g>\n     </g>\n    </g>\n    <g id=\"ytick_2\">\n     <g id=\"line2d_11\">\n      <g>\n       <use xlink:href=\"#m56e091ca04\" x=\"53.328125\" y=\"229.421208\" style=\"stroke: #000000; stroke-width: 0.8\"/>\n      </g>\n     </g>\n     <g id=\"text_12\">\n      <!-- 200 -->\n      <g transform=\"translate(27.240625 233.220427) scale(0.1 -0.1)\">\n       <use xlink:href=\"#DejaVuSans-32\"/>\n       <use xlink:href=\"#DejaVuSans-30\" transform=\"translate(63.623047 0)\"/>\n       <use xlink:href=\"#DejaVuSans-30\" transform=\"translate(127.246094 0)\"/>\n      </g>\n     </g>\n    </g>\n    <g id=\"ytick_3\">\n     <g id=\"line2d_12\">\n      <g>\n       <use xlink:href=\"#m56e091ca04\" x=\"53.328125\" y=\"182.10034\" style=\"stroke: #000000; stroke-width: 0.8\"/>\n      </g>\n     </g>\n     <g id=\"text_13\">\n      <!-- 400 -->\n      <g transform=\"translate(27.240625 185.899558) scale(0.1 -0.1)\">\n       <defs>\n        <path id=\"DejaVuSans-34\" d=\"M 2419 4116 \nL 825 1625 \nL 2419 1625 \nL 2419 4116 \nz\nM 2253 4666 \nL 3047 4666 \nL 3047 1625 \nL 3713 1625 \nL 3713 1100 \nL 3047 1100 \nL 3047 0 \nL 2419 0 \nL 2419 1100 \nL 313 1100 \nL 313 1709 \nL 2253 4666 \nz\n\" transform=\"scale(0.015625)\"/>\n       </defs>\n       <use xlink:href=\"#DejaVuSans-34\"/>\n       <use xlink:href=\"#DejaVuSans-30\" transform=\"translate(63.623047 0)\"/>\n       <use xlink:href=\"#DejaVuSans-30\" transform=\"translate(127.246094 0)\"/>\n      </g>\n     </g>\n    </g>\n    <g id=\"ytick_4\">\n     <g id=\"line2d_13\">\n      <g>\n       <use xlink:href=\"#m56e091ca04\" x=\"53.328125\" y=\"134.779471\" style=\"stroke: #000000; stroke-width: 0.8\"/>\n      </g>\n     </g>\n     <g id=\"text_14\">\n      <!-- 600 -->\n      <g transform=\"translate(27.240625 138.57869) scale(0.1 -0.1)\">\n       <defs>\n        <path id=\"DejaVuSans-36\" d=\"M 2113 2584 \nQ 1688 2584 1439 2293 \nQ 1191 2003 1191 1497 \nQ 1191 994 1439 701 \nQ 1688 409 2113 409 \nQ 2538 409 2786 701 \nQ 3034 994 3034 1497 \nQ 3034 2003 2786 2293 \nQ 2538 2584 2113 2584 \nz\nM 3366 4563 \nL 3366 3988 \nQ 3128 4100 2886 4159 \nQ 2644 4219 2406 4219 \nQ 1781 4219 1451 3797 \nQ 1122 3375 1075 2522 \nQ 1259 2794 1537 2939 \nQ 1816 3084 2150 3084 \nQ 2853 3084 3261 2657 \nQ 3669 2231 3669 1497 \nQ 3669 778 3244 343 \nQ 2819 -91 2113 -91 \nQ 1303 -91 875 529 \nQ 447 1150 447 2328 \nQ 447 3434 972 4092 \nQ 1497 4750 2381 4750 \nQ 2619 4750 2861 4703 \nQ 3103 4656 3366 4563 \nz\n\" transform=\"scale(0.015625)\"/>\n       </defs>\n       <use xlink:href=\"#DejaVuSans-36\"/>\n       <use xlink:href=\"#DejaVuSans-30\" transform=\"translate(63.623047 0)\"/>\n       <use xlink:href=\"#DejaVuSans-30\" transform=\"translate(127.246094 0)\"/>\n      </g>\n     </g>\n    </g>\n    <g id=\"ytick_5\">\n     <g id=\"line2d_14\">\n      <g>\n       <use xlink:href=\"#m56e091ca04\" x=\"53.328125\" y=\"87.458602\" style=\"stroke: #000000; stroke-width: 0.8\"/>\n      </g>\n     </g>\n     <g id=\"text_15\">\n      <!-- 800 -->\n      <g transform=\"translate(27.240625 91.257821) scale(0.1 -0.1)\">\n       <defs>\n        <path id=\"DejaVuSans-38\" d=\"M 2034 2216 \nQ 1584 2216 1326 1975 \nQ 1069 1734 1069 1313 \nQ 1069 891 1326 650 \nQ 1584 409 2034 409 \nQ 2484 409 2743 651 \nQ 3003 894 3003 1313 \nQ 3003 1734 2745 1975 \nQ 2488 2216 2034 2216 \nz\nM 1403 2484 \nQ 997 2584 770 2862 \nQ 544 3141 544 3541 \nQ 544 4100 942 4425 \nQ 1341 4750 2034 4750 \nQ 2731 4750 3128 4425 \nQ 3525 4100 3525 3541 \nQ 3525 3141 3298 2862 \nQ 3072 2584 2669 2484 \nQ 3125 2378 3379 2068 \nQ 3634 1759 3634 1313 \nQ 3634 634 3220 271 \nQ 2806 -91 2034 -91 \nQ 1263 -91 848 271 \nQ 434 634 434 1313 \nQ 434 1759 690 2068 \nQ 947 2378 1403 2484 \nz\nM 1172 3481 \nQ 1172 3119 1398 2916 \nQ 1625 2713 2034 2713 \nQ 2441 2713 2670 2916 \nQ 2900 3119 2900 3481 \nQ 2900 3844 2670 4047 \nQ 2441 4250 2034 4250 \nQ 1625 4250 1398 4047 \nQ 1172 3844 1172 3481 \nz\n\" transform=\"scale(0.015625)\"/>\n       </defs>\n       <use xlink:href=\"#DejaVuSans-38\"/>\n       <use xlink:href=\"#DejaVuSans-30\" transform=\"translate(63.623047 0)\"/>\n       <use xlink:href=\"#DejaVuSans-30\" transform=\"translate(127.246094 0)\"/>\n      </g>\n     </g>\n    </g>\n    <g id=\"ytick_6\">\n     <g id=\"line2d_15\">\n      <g>\n       <use xlink:href=\"#m56e091ca04\" x=\"53.328125\" y=\"40.137733\" style=\"stroke: #000000; stroke-width: 0.8\"/>\n      </g>\n     </g>\n     <g id=\"text_16\">\n      <!-- 1000 -->\n      <g transform=\"translate(20.878125 43.936952) scale(0.1 -0.1)\">\n       <use xlink:href=\"#DejaVuSans-31\"/>\n       <use xlink:href=\"#DejaVuSans-30\" transform=\"translate(63.623047 0)\"/>\n       <use xlink:href=\"#DejaVuSans-30\" transform=\"translate(127.246094 0)\"/>\n       <use xlink:href=\"#DejaVuSans-30\" transform=\"translate(190.869141 0)\"/>\n      </g>\n     </g>\n    </g>\n    <g id=\"text_17\">\n     <!-- Time [s] -->\n     <g transform=\"translate(14.798438 175.703031) rotate(-90) scale(0.1 -0.1)\">\n      <defs>\n       <path id=\"DejaVuSans-54\" d=\"M -19 4666 \nL 3928 4666 \nL 3928 4134 \nL 2272 4134 \nL 2272 0 \nL 1638 0 \nL 1638 4134 \nL -19 4134 \nL -19 4666 \nz\n\" transform=\"scale(0.015625)\"/>\n       <path id=\"DejaVuSans-65\" d=\"M 3597 1894 \nL 3597 1613 \nL 953 1613 \nQ 991 1019 1311 708 \nQ 1631 397 2203 397 \nQ 2534 397 2845 478 \nQ 3156 559 3463 722 \nL 3463 178 \nQ 3153 47 2828 -22 \nQ 2503 -91 2169 -91 \nQ 1331 -91 842 396 \nQ 353 884 353 1716 \nQ 353 2575 817 3079 \nQ 1281 3584 2069 3584 \nQ 2775 3584 3186 3129 \nQ 3597 2675 3597 1894 \nz\nM 3022 2063 \nQ 3016 2534 2758 2815 \nQ 2500 3097 2075 3097 \nQ 1594 3097 1305 2825 \nQ 1016 2553 972 2059 \nL 3022 2063 \nz\n\" transform=\"scale(0.015625)\"/>\n      </defs>\n      <use xlink:href=\"#DejaVuSans-54\"/>\n      <use xlink:href=\"#DejaVuSans-69\" transform=\"translate(57.958984 0)\"/>\n      <use xlink:href=\"#DejaVuSans-6d\" transform=\"translate(85.742188 0)\"/>\n      <use xlink:href=\"#DejaVuSans-65\" transform=\"translate(183.154297 0)\"/>\n      <use xlink:href=\"#DejaVuSans-20\" transform=\"translate(244.677734 0)\"/>\n      <use xlink:href=\"#DejaVuSans-5b\" transform=\"translate(276.464844 0)\"/>\n      <use xlink:href=\"#DejaVuSans-73\" transform=\"translate(315.478516 0)\"/>\n      <use xlink:href=\"#DejaVuSans-5d\" transform=\"translate(367.578125 0)\"/>\n     </g>\n    </g>\n   </g>\n   <g id=\"line2d_16\">\n    <path d=\"M 69.560852 276.077115 \nL 77.885328 274.672036 \nL 102.858754 268.972744 \nL 144.481132 258.086045 \nL 186.10351 245.628486 \nL 227.725887 230.839039 \nL 310.970642 197.993804 \nL 394.215398 161.81608 \n\" clip-path=\"url(#p6f03c2cdff)\" style=\"fill: none; stroke: #1f77b4; stroke-width: 1.5; stroke-linecap: square\"/>\n   </g>\n   <g id=\"line2d_17\">\n    <path d=\"M 69.560852 275.986812 \nL 77.885328 274.39092 \nL 102.858754 267.917649 \nL 144.481132 255.552509 \nL 186.10351 241.403183 \nL 227.725887 224.605293 \nL 310.970642 187.299594 \nL 394.215398 146.208846 \n\" clip-path=\"url(#p6f03c2cdff)\" style=\"fill: none; stroke: #ff7f0e; stroke-width: 1.5; stroke-linecap: square\"/>\n   </g>\n   <g id=\"line2d_18\">\n    <path d=\"M 69.560852 276.334125 \nL 77.885328 275.472113 \nL 102.858754 271.975615 \nL 144.481132 265.296658 \nL 186.10351 257.653984 \nL 227.725887 248.580704 \nL 310.970642 228.430253 \nL 394.215398 206.23533 \n\" clip-path=\"url(#p6f03c2cdff)\" style=\"fill: none; stroke: #2ca02c; stroke-width: 1.5; stroke-linecap: square\"/>\n   </g>\n   <g id=\"line2d_19\">\n    <path d=\"M 69.560852 276.041022 \nL 77.885328 274.559678 \nL 102.858754 268.551038 \nL 144.481132 257.073428 \nL 186.10351 243.939695 \nL 227.725887 228.347503 \nL 310.970642 193.719488 \nL 394.215398 155.578101 \n\" clip-path=\"url(#p6f03c2cdff)\" style=\"fill: none; stroke: #d62728; stroke-width: 1.5; stroke-linecap: square\"/>\n   </g>\n   <g id=\"line2d_20\">\n    <path d=\"M 69.560852 275.339967 \nL 77.885328 272.377279 \nL 102.858754 260.36 \nL 144.481132 237.40478 \nL 186.10351 211.137313 \nL 227.725887 179.95293 \nL 310.970642 110.696899 \nL 394.215398 34.414125 \n\" clip-path=\"url(#p6f03c2cdff)\" style=\"fill: none; stroke: #9467bd; stroke-width: 1.5; stroke-linecap: square\"/>\n   </g>\n   <g id=\"patch_3\">\n    <path d=\"M 53.328125 288.430125 \nL 53.328125 22.318125 \n\" style=\"fill: none; stroke: #000000; stroke-width: 0.8; stroke-linejoin: miter; stroke-linecap: square\"/>\n   </g>\n   <g id=\"patch_4\">\n    <path d=\"M 410.448125 288.430125 \nL 410.448125 22.318125 \n\" style=\"fill: none; stroke: #000000; stroke-width: 0.8; stroke-linejoin: miter; stroke-linecap: square\"/>\n   </g>\n   <g id=\"patch_5\">\n    <path d=\"M 53.328125 288.430125 \nL 410.448125 288.430125 \n\" style=\"fill: none; stroke: #000000; stroke-width: 0.8; stroke-linejoin: miter; stroke-linecap: square\"/>\n   </g>\n   <g id=\"patch_6\">\n    <path d=\"M 53.328125 22.318125 \nL 410.448125 22.318125 \n\" style=\"fill: none; stroke: #000000; stroke-width: 0.8; stroke-linejoin: miter; stroke-linecap: square\"/>\n   </g>\n   <g id=\"text_18\">\n    <!-- Isotopic relaxation timescale comparison -->\n    <g transform=\"translate(108.665 16.318125) scale(0.12 -0.12)\">\n     <defs>\n      <path id=\"DejaVuSans-49\" d=\"M 628 4666 \nL 1259 4666 \nL 1259 0 \nL 628 0 \nL 628 4666 \nz\n\" transform=\"scale(0.015625)\"/>\n      <path id=\"DejaVuSans-6f\" d=\"M 1959 3097 \nQ 1497 3097 1228 2736 \nQ 959 2375 959 1747 \nQ 959 1119 1226 758 \nQ 1494 397 1959 397 \nQ 2419 397 2687 759 \nQ 2956 1122 2956 1747 \nQ 2956 2369 2687 2733 \nQ 2419 3097 1959 3097 \nz\nM 1959 3584 \nQ 2709 3584 3137 3096 \nQ 3566 2609 3566 1747 \nQ 3566 888 3137 398 \nQ 2709 -91 1959 -91 \nQ 1206 -91 779 398 \nQ 353 888 353 1747 \nQ 353 2609 779 3096 \nQ 1206 3584 1959 3584 \nz\n\" transform=\"scale(0.015625)\"/>\n      <path id=\"DejaVuSans-74\" d=\"M 1172 4494 \nL 1172 3500 \nL 2356 3500 \nL 2356 3053 \nL 1172 3053 \nL 1172 1153 \nQ 1172 725 1289 603 \nQ 1406 481 1766 481 \nL 2356 481 \nL 2356 0 \nL 1766 0 \nQ 1100 0 847 248 \nQ 594 497 594 1153 \nL 594 3053 \nL 172 3053 \nL 172 3500 \nL 594 3500 \nL 594 4494 \nL 1172 4494 \nz\n\" transform=\"scale(0.015625)\"/>\n      <path id=\"DejaVuSans-70\" d=\"M 1159 525 \nL 1159 -1331 \nL 581 -1331 \nL 581 3500 \nL 1159 3500 \nL 1159 2969 \nQ 1341 3281 1617 3432 \nQ 1894 3584 2278 3584 \nQ 2916 3584 3314 3078 \nQ 3713 2572 3713 1747 \nQ 3713 922 3314 415 \nQ 2916 -91 2278 -91 \nQ 1894 -91 1617 61 \nQ 1341 213 1159 525 \nz\nM 3116 1747 \nQ 3116 2381 2855 2742 \nQ 2594 3103 2138 3103 \nQ 1681 3103 1420 2742 \nQ 1159 2381 1159 1747 \nQ 1159 1113 1420 752 \nQ 1681 391 2138 391 \nQ 2594 391 2855 752 \nQ 3116 1113 3116 1747 \nz\n\" transform=\"scale(0.015625)\"/>\n      <path id=\"DejaVuSans-72\" d=\"M 2631 2963 \nQ 2534 3019 2420 3045 \nQ 2306 3072 2169 3072 \nQ 1681 3072 1420 2755 \nQ 1159 2438 1159 1844 \nL 1159 0 \nL 581 0 \nL 581 3500 \nL 1159 3500 \nL 1159 2956 \nQ 1341 3275 1631 3429 \nQ 1922 3584 2338 3584 \nQ 2397 3584 2469 3576 \nQ 2541 3569 2628 3553 \nL 2631 2963 \nz\n\" transform=\"scale(0.015625)\"/>\n      <path id=\"DejaVuSans-6c\" d=\"M 603 4863 \nL 1178 4863 \nL 1178 0 \nL 603 0 \nL 603 4863 \nz\n\" transform=\"scale(0.015625)\"/>\n      <path id=\"DejaVuSans-78\" d=\"M 3513 3500 \nL 2247 1797 \nL 3578 0 \nL 2900 0 \nL 1881 1375 \nL 863 0 \nL 184 0 \nL 1544 1831 \nL 300 3500 \nL 978 3500 \nL 1906 2253 \nL 2834 3500 \nL 3513 3500 \nz\n\" transform=\"scale(0.015625)\"/>\n      <path id=\"DejaVuSans-6e\" d=\"M 3513 2113 \nL 3513 0 \nL 2938 0 \nL 2938 2094 \nQ 2938 2591 2744 2837 \nQ 2550 3084 2163 3084 \nQ 1697 3084 1428 2787 \nQ 1159 2491 1159 1978 \nL 1159 0 \nL 581 0 \nL 581 3500 \nL 1159 3500 \nL 1159 2956 \nQ 1366 3272 1645 3428 \nQ 1925 3584 2291 3584 \nQ 2894 3584 3203 3211 \nQ 3513 2838 3513 2113 \nz\n\" transform=\"scale(0.015625)\"/>\n     </defs>\n     <use xlink:href=\"#DejaVuSans-49\"/>\n     <use xlink:href=\"#DejaVuSans-73\" transform=\"translate(29.492188 0)\"/>\n     <use xlink:href=\"#DejaVuSans-6f\" transform=\"translate(81.591797 0)\"/>\n     <use xlink:href=\"#DejaVuSans-74\" transform=\"translate(142.773438 0)\"/>\n     <use xlink:href=\"#DejaVuSans-6f\" transform=\"translate(181.982422 0)\"/>\n     <use xlink:href=\"#DejaVuSans-70\" transform=\"translate(243.164062 0)\"/>\n     <use xlink:href=\"#DejaVuSans-69\" transform=\"translate(306.640625 0)\"/>\n     <use xlink:href=\"#DejaVuSans-63\" transform=\"translate(334.423828 0)\"/>\n     <use xlink:href=\"#DejaVuSans-20\" transform=\"translate(389.404297 0)\"/>\n     <use xlink:href=\"#DejaVuSans-72\" transform=\"translate(421.191406 0)\"/>\n     <use xlink:href=\"#DejaVuSans-65\" transform=\"translate(460.054688 0)\"/>\n     <use xlink:href=\"#DejaVuSans-6c\" transform=\"translate(521.578125 0)\"/>\n     <use xlink:href=\"#DejaVuSans-61\" transform=\"translate(549.361328 0)\"/>\n     <use xlink:href=\"#DejaVuSans-78\" transform=\"translate(610.640625 0)\"/>\n     <use xlink:href=\"#DejaVuSans-61\" transform=\"translate(669.820312 0)\"/>\n     <use xlink:href=\"#DejaVuSans-74\" transform=\"translate(731.099609 0)\"/>\n     <use xlink:href=\"#DejaVuSans-69\" transform=\"translate(770.308594 0)\"/>\n     <use xlink:href=\"#DejaVuSans-6f\" transform=\"translate(798.091797 0)\"/>\n     <use xlink:href=\"#DejaVuSans-6e\" transform=\"translate(859.273438 0)\"/>\n     <use xlink:href=\"#DejaVuSans-20\" transform=\"translate(922.652344 0)\"/>\n     <use xlink:href=\"#DejaVuSans-74\" transform=\"translate(954.439453 0)\"/>\n     <use xlink:href=\"#DejaVuSans-69\" transform=\"translate(993.648438 0)\"/>\n     <use xlink:href=\"#DejaVuSans-6d\" transform=\"translate(1021.431641 0)\"/>\n     <use xlink:href=\"#DejaVuSans-65\" transform=\"translate(1118.84375 0)\"/>\n     <use xlink:href=\"#DejaVuSans-73\" transform=\"translate(1180.367188 0)\"/>\n     <use xlink:href=\"#DejaVuSans-63\" transform=\"translate(1232.466797 0)\"/>\n     <use xlink:href=\"#DejaVuSans-61\" transform=\"translate(1287.447266 0)\"/>\n     <use xlink:href=\"#DejaVuSans-6c\" transform=\"translate(1348.726562 0)\"/>\n     <use xlink:href=\"#DejaVuSans-65\" transform=\"translate(1376.509766 0)\"/>\n     <use xlink:href=\"#DejaVuSans-20\" transform=\"translate(1438.033203 0)\"/>\n     <use xlink:href=\"#DejaVuSans-63\" transform=\"translate(1469.820312 0)\"/>\n     <use xlink:href=\"#DejaVuSans-6f\" transform=\"translate(1524.800781 0)\"/>\n     <use xlink:href=\"#DejaVuSans-6d\" transform=\"translate(1585.982422 0)\"/>\n     <use xlink:href=\"#DejaVuSans-70\" transform=\"translate(1683.394531 0)\"/>\n     <use xlink:href=\"#DejaVuSans-61\" transform=\"translate(1746.871094 0)\"/>\n     <use xlink:href=\"#DejaVuSans-72\" transform=\"translate(1808.150391 0)\"/>\n     <use xlink:href=\"#DejaVuSans-69\" transform=\"translate(1849.263672 0)\"/>\n     <use xlink:href=\"#DejaVuSans-73\" transform=\"translate(1877.046875 0)\"/>\n     <use xlink:href=\"#DejaVuSans-6f\" transform=\"translate(1929.146484 0)\"/>\n     <use xlink:href=\"#DejaVuSans-6e\" transform=\"translate(1990.328125 0)\"/>\n    </g>\n   </g>\n   <g id=\"legend_1\">\n    <g id=\"patch_7\">\n     <path d=\"M 60.328125 104.265 \nL 165.148438 104.265 \nQ 167.148438 104.265 167.148438 102.265 \nL 167.148438 29.318125 \nQ 167.148438 27.318125 165.148438 27.318125 \nL 60.328125 27.318125 \nQ 58.328125 27.318125 58.328125 29.318125 \nL 58.328125 102.265 \nQ 58.328125 104.265 60.328125 104.265 \nz\n\" style=\"fill: #ffffff; opacity: 0.8; stroke: #cccccc; stroke-linejoin: miter\"/>\n    </g>\n    <g id=\"line2d_21\">\n     <path d=\"M 62.328125 35.416562 \nL 72.328125 35.416562 \nL 82.328125 35.416562 \n\" style=\"fill: none; stroke: #1f77b4; stroke-width: 1.5; stroke-linecap: square\"/>\n    </g>\n    <g id=\"text_19\">\n     <!-- Miyake [s] -->\n     <g transform=\"translate(90.328125 38.916562) scale(0.1 -0.1)\">\n      <defs>\n       <path id=\"DejaVuSans-4d\" d=\"M 628 4666 \nL 1569 4666 \nL 2759 1491 \nL 3956 4666 \nL 4897 4666 \nL 4897 0 \nL 4281 0 \nL 4281 4097 \nL 3078 897 \nL 2444 897 \nL 1241 4097 \nL 1241 0 \nL 628 0 \nL 628 4666 \nz\n\" transform=\"scale(0.015625)\"/>\n       <path id=\"DejaVuSans-79\" d=\"M 2059 -325 \nQ 1816 -950 1584 -1140 \nQ 1353 -1331 966 -1331 \nL 506 -1331 \nL 506 -850 \nL 844 -850 \nQ 1081 -850 1212 -737 \nQ 1344 -625 1503 -206 \nL 1606 56 \nL 191 3500 \nL 800 3500 \nL 1894 763 \nL 2988 3500 \nL 3597 3500 \nL 2059 -325 \nz\n\" transform=\"scale(0.015625)\"/>\n       <path id=\"DejaVuSans-6b\" d=\"M 581 4863 \nL 1159 4863 \nL 1159 1991 \nL 2875 3500 \nL 3609 3500 \nL 1753 1863 \nL 3688 0 \nL 2938 0 \nL 1159 1709 \nL 1159 0 \nL 581 0 \nL 581 4863 \nz\n\" transform=\"scale(0.015625)\"/>\n      </defs>\n      <use xlink:href=\"#DejaVuSans-4d\"/>\n      <use xlink:href=\"#DejaVuSans-69\" transform=\"translate(86.279297 0)\"/>\n      <use xlink:href=\"#DejaVuSans-79\" transform=\"translate(114.0625 0)\"/>\n      <use xlink:href=\"#DejaVuSans-61\" transform=\"translate(173.242188 0)\"/>\n      <use xlink:href=\"#DejaVuSans-6b\" transform=\"translate(234.521484 0)\"/>\n      <use xlink:href=\"#DejaVuSans-65\" transform=\"translate(288.806641 0)\"/>\n      <use xlink:href=\"#DejaVuSans-20\" transform=\"translate(350.330078 0)\"/>\n      <use xlink:href=\"#DejaVuSans-5b\" transform=\"translate(382.117188 0)\"/>\n      <use xlink:href=\"#DejaVuSans-73\" transform=\"translate(421.130859 0)\"/>\n      <use xlink:href=\"#DejaVuSans-5d\" transform=\"translate(473.230469 0)\"/>\n     </g>\n    </g>\n    <g id=\"line2d_22\">\n     <path d=\"M 62.328125 50.094688 \nL 72.328125 50.094688 \nL 82.328125 50.094688 \n\" style=\"fill: none; stroke: #ff7f0e; stroke-width: 1.5; stroke-linecap: square\"/>\n    </g>\n    <g id=\"text_20\">\n     <!-- Bolin [s] -->\n     <g transform=\"translate(90.328125 53.594688) scale(0.1 -0.1)\">\n      <defs>\n       <path id=\"DejaVuSans-42\" d=\"M 1259 2228 \nL 1259 519 \nL 2272 519 \nQ 2781 519 3026 730 \nQ 3272 941 3272 1375 \nQ 3272 1813 3026 2020 \nQ 2781 2228 2272 2228 \nL 1259 2228 \nz\nM 1259 4147 \nL 1259 2741 \nL 2194 2741 \nQ 2656 2741 2882 2914 \nQ 3109 3088 3109 3444 \nQ 3109 3797 2882 3972 \nQ 2656 4147 2194 4147 \nL 1259 4147 \nz\nM 628 4666 \nL 2241 4666 \nQ 2963 4666 3353 4366 \nQ 3744 4066 3744 3513 \nQ 3744 3084 3544 2831 \nQ 3344 2578 2956 2516 \nQ 3422 2416 3680 2098 \nQ 3938 1781 3938 1306 \nQ 3938 681 3513 340 \nQ 3088 0 2303 0 \nL 628 0 \nL 628 4666 \nz\n\" transform=\"scale(0.015625)\"/>\n      </defs>\n      <use xlink:href=\"#DejaVuSans-42\"/>\n      <use xlink:href=\"#DejaVuSans-6f\" transform=\"translate(68.603516 0)\"/>\n      <use xlink:href=\"#DejaVuSans-6c\" transform=\"translate(129.785156 0)\"/>\n      <use xlink:href=\"#DejaVuSans-69\" transform=\"translate(157.568359 0)\"/>\n      <use xlink:href=\"#DejaVuSans-6e\" transform=\"translate(185.351562 0)\"/>\n      <use xlink:href=\"#DejaVuSans-20\" transform=\"translate(248.730469 0)\"/>\n      <use xlink:href=\"#DejaVuSans-5b\" transform=\"translate(280.517578 0)\"/>\n      <use xlink:href=\"#DejaVuSans-73\" transform=\"translate(319.53125 0)\"/>\n      <use xlink:href=\"#DejaVuSans-5d\" transform=\"translate(371.630859 0)\"/>\n     </g>\n    </g>\n    <g id=\"line2d_23\">\n     <path d=\"M 62.328125 64.772812 \nL 72.328125 64.772812 \nL 82.328125 64.772812 \n\" style=\"fill: none; stroke: #2ca02c; stroke-width: 1.5; stroke-linecap: square\"/>\n    </g>\n    <g id=\"text_21\">\n     <!-- c1=1.63 [s] -->\n     <g transform=\"translate(90.328125 68.272812) scale(0.1 -0.1)\">\n      <defs>\n       <path id=\"DejaVuSans-3d\" d=\"M 678 2906 \nL 4684 2906 \nL 4684 2381 \nL 678 2381 \nL 678 2906 \nz\nM 678 1631 \nL 4684 1631 \nL 4684 1100 \nL 678 1100 \nL 678 1631 \nz\n\" transform=\"scale(0.015625)\"/>\n       <path id=\"DejaVuSans-33\" d=\"M 2597 2516 \nQ 3050 2419 3304 2112 \nQ 3559 1806 3559 1356 \nQ 3559 666 3084 287 \nQ 2609 -91 1734 -91 \nQ 1441 -91 1130 -33 \nQ 819 25 488 141 \nL 488 750 \nQ 750 597 1062 519 \nQ 1375 441 1716 441 \nQ 2309 441 2620 675 \nQ 2931 909 2931 1356 \nQ 2931 1769 2642 2001 \nQ 2353 2234 1838 2234 \nL 1294 2234 \nL 1294 2753 \nL 1863 2753 \nQ 2328 2753 2575 2939 \nQ 2822 3125 2822 3475 \nQ 2822 3834 2567 4026 \nQ 2313 4219 1838 4219 \nQ 1578 4219 1281 4162 \nQ 984 4106 628 3988 \nL 628 4550 \nQ 988 4650 1302 4700 \nQ 1616 4750 1894 4750 \nQ 2613 4750 3031 4423 \nQ 3450 4097 3450 3541 \nQ 3450 3153 3228 2886 \nQ 3006 2619 2597 2516 \nz\n\" transform=\"scale(0.015625)\"/>\n      </defs>\n      <use xlink:href=\"#DejaVuSans-63\"/>\n      <use xlink:href=\"#DejaVuSans-31\" transform=\"translate(54.980469 0)\"/>\n      <use xlink:href=\"#DejaVuSans-3d\" transform=\"translate(118.603516 0)\"/>\n      <use xlink:href=\"#DejaVuSans-31\" transform=\"translate(202.392578 0)\"/>\n      <use xlink:href=\"#DejaVuSans-2e\" transform=\"translate(266.015625 0)\"/>\n      <use xlink:href=\"#DejaVuSans-36\" transform=\"translate(297.802734 0)\"/>\n      <use xlink:href=\"#DejaVuSans-33\" transform=\"translate(361.425781 0)\"/>\n      <use xlink:href=\"#DejaVuSans-20\" transform=\"translate(425.048828 0)\"/>\n      <use xlink:href=\"#DejaVuSans-5b\" transform=\"translate(456.835938 0)\"/>\n      <use xlink:href=\"#DejaVuSans-73\" transform=\"translate(495.849609 0)\"/>\n      <use xlink:href=\"#DejaVuSans-5d\" transform=\"translate(547.949219 0)\"/>\n     </g>\n    </g>\n    <g id=\"line2d_24\">\n     <path d=\"M 62.328125 79.450938 \nL 72.328125 79.450938 \nL 82.328125 79.450938 \n\" style=\"fill: none; stroke: #d62728; stroke-width: 1.5; stroke-linecap: square\"/>\n    </g>\n    <g id=\"text_22\">\n     <!-- iso_env!=0 [s] -->\n     <g transform=\"translate(90.328125 82.950938) scale(0.1 -0.1)\">\n      <defs>\n       <path id=\"DejaVuSans-5f\" d=\"M 3263 -1063 \nL 3263 -1509 \nL -63 -1509 \nL -63 -1063 \nL 3263 -1063 \nz\n\" transform=\"scale(0.015625)\"/>\n       <path id=\"DejaVuSans-76\" d=\"M 191 3500 \nL 800 3500 \nL 1894 563 \nL 2988 3500 \nL 3597 3500 \nL 2284 0 \nL 1503 0 \nL 191 3500 \nz\n\" transform=\"scale(0.015625)\"/>\n       <path id=\"DejaVuSans-21\" d=\"M 966 794 \nL 1600 794 \nL 1600 0 \nL 966 0 \nL 966 794 \nz\nM 966 4666 \nL 1600 4666 \nL 1600 2619 \nL 1538 1503 \nL 1031 1503 \nL 966 2619 \nL 966 4666 \nz\n\" transform=\"scale(0.015625)\"/>\n      </defs>\n      <use xlink:href=\"#DejaVuSans-69\"/>\n      <use xlink:href=\"#DejaVuSans-73\" transform=\"translate(27.783203 0)\"/>\n      <use xlink:href=\"#DejaVuSans-6f\" transform=\"translate(79.882812 0)\"/>\n      <use xlink:href=\"#DejaVuSans-5f\" transform=\"translate(141.064453 0)\"/>\n      <use xlink:href=\"#DejaVuSans-65\" transform=\"translate(191.064453 0)\"/>\n      <use xlink:href=\"#DejaVuSans-6e\" transform=\"translate(252.587891 0)\"/>\n      <use xlink:href=\"#DejaVuSans-76\" transform=\"translate(315.966797 0)\"/>\n      <use xlink:href=\"#DejaVuSans-21\" transform=\"translate(375.146484 0)\"/>\n      <use xlink:href=\"#DejaVuSans-3d\" transform=\"translate(415.234375 0)\"/>\n      <use xlink:href=\"#DejaVuSans-30\" transform=\"translate(499.023438 0)\"/>\n      <use xlink:href=\"#DejaVuSans-20\" transform=\"translate(562.646484 0)\"/>\n      <use xlink:href=\"#DejaVuSans-5b\" transform=\"translate(594.433594 0)\"/>\n      <use xlink:href=\"#DejaVuSans-73\" transform=\"translate(633.447266 0)\"/>\n      <use xlink:href=\"#DejaVuSans-5d\" transform=\"translate(685.546875 0)\"/>\n     </g>\n    </g>\n    <g id=\"line2d_25\">\n     <path d=\"M 62.328125 94.407188 \nL 72.328125 94.407188 \nL 82.328125 94.407188 \n\" style=\"fill: none; stroke: #9467bd; stroke-width: 1.5; stroke-linecap: square\"/>\n    </g>\n    <g id=\"text_23\">\n     <!-- RH_env!=0 [s] -->\n     <g transform=\"translate(90.328125 97.907188) scale(0.1 -0.1)\">\n      <defs>\n       <path id=\"DejaVuSans-48\" d=\"M 628 4666 \nL 1259 4666 \nL 1259 2753 \nL 3553 2753 \nL 3553 4666 \nL 4184 4666 \nL 4184 0 \nL 3553 0 \nL 3553 2222 \nL 1259 2222 \nL 1259 0 \nL 628 0 \nL 628 4666 \nz\n\" transform=\"scale(0.015625)\"/>\n      </defs>\n      <use xlink:href=\"#DejaVuSans-52\"/>\n      <use xlink:href=\"#DejaVuSans-48\" transform=\"translate(69.482422 0)\"/>\n      <use xlink:href=\"#DejaVuSans-5f\" transform=\"translate(144.677734 0)\"/>\n      <use xlink:href=\"#DejaVuSans-65\" transform=\"translate(194.677734 0)\"/>\n      <use xlink:href=\"#DejaVuSans-6e\" transform=\"translate(256.201172 0)\"/>\n      <use xlink:href=\"#DejaVuSans-76\" transform=\"translate(319.580078 0)\"/>\n      <use xlink:href=\"#DejaVuSans-21\" transform=\"translate(378.759766 0)\"/>\n      <use xlink:href=\"#DejaVuSans-3d\" transform=\"translate(418.847656 0)\"/>\n      <use xlink:href=\"#DejaVuSans-30\" transform=\"translate(502.636719 0)\"/>\n      <use xlink:href=\"#DejaVuSans-20\" transform=\"translate(566.259766 0)\"/>\n      <use xlink:href=\"#DejaVuSans-5b\" transform=\"translate(598.046875 0)\"/>\n      <use xlink:href=\"#DejaVuSans-73\" transform=\"translate(637.060547 0)\"/>\n      <use xlink:href=\"#DejaVuSans-5d\" transform=\"translate(689.160156 0)\"/>\n     </g>\n    </g>\n   </g>\n  </g>\n </g>\n <defs>\n  <clipPath id=\"p6f03c2cdff\">\n   <rect x=\"53.328125\" y=\"22.318125\" width=\"357.12\" height=\"266.112\"/>\n  </clipPath>\n </defs>\n</svg>\n"
     },
     "metadata": {},
     "output_type": "display_data"
    },
    {
     "data": {
      "text/plain": [
       "HBox(children=(HTML(value=\"<a href='./timescales_comparison.pdf' target='_blank'>./timescales_comparison.pdf</…"
      ],
      "application/vnd.jupyter.widget-view+json": {
       "version_major": 2,
       "version_minor": 0,
       "model_id": "debb4592b99042d4bc1d43739e2b82ec"
      }
     },
     "metadata": {},
     "output_type": "display_data"
    }
   ],
   "execution_count": 14
  },
  {
   "cell_type": "markdown",
   "id": "753a7cdce2bd8a86",
   "metadata": {},
   "source": [
    "## "
   ]
  },
  {
   "cell_type": "code",
   "id": "37dd6a129c899452",
   "metadata": {
    "ExecuteTime": {
     "end_time": "2025-03-02T23:25:28.860616Z",
     "start_time": "2025-03-02T23:25:28.401792Z"
    }
   },
   "source": [
    "fig, ax = plt.subplots()\n",
    "for variant, time in adjustment_time_frame.items():\n",
    "    if variant != 'Radius [cm]':\n",
    "        ax.loglog(in_unit(radii, si.cm), time * si.s, label=variant)\n",
    "ax.set_title('Isotopic relaxation timescale comparison in a log-log scale')\n",
    "ax.set_xlabel('Log Radius [cm]')\n",
    "ax.set_ylabel('Log Time [s]')\n",
    "ax.legend()\n",
    "show_plot('timescales_comparison_loglog.pdf')"
   ],
   "outputs": [
    {
     "data": {
      "text/plain": [
       "<Figure size 640x480 with 1 Axes>"
      ],
      "image/svg+xml": "<?xml version=\"1.0\" encoding=\"utf-8\" standalone=\"no\"?>\n<!DOCTYPE svg PUBLIC \"-//W3C//DTD SVG 1.1//EN\"\n  \"http://www.w3.org/Graphics/SVG/1.1/DTD/svg11.dtd\">\n<svg xmlns:xlink=\"http://www.w3.org/1999/xlink\" width=\"409.798125pt\" height=\"325.986375pt\" viewBox=\"0 0 409.798125 325.986375\" xmlns=\"http://www.w3.org/2000/svg\" version=\"1.1\">\n <metadata>\n  <rdf:RDF xmlns:dc=\"http://purl.org/dc/elements/1.1/\" xmlns:cc=\"http://creativecommons.org/ns#\" xmlns:rdf=\"http://www.w3.org/1999/02/22-rdf-syntax-ns#\">\n   <cc:Work>\n    <dc:type rdf:resource=\"http://purl.org/dc/dcmitype/StillImage\"/>\n    <dc:date>2025-03-03T00:25:28.832472</dc:date>\n    <dc:format>image/svg+xml</dc:format>\n    <dc:creator>\n     <cc:Agent>\n      <dc:title>Matplotlib v3.10.0, https://matplotlib.org/</dc:title>\n     </cc:Agent>\n    </dc:creator>\n   </cc:Work>\n  </rdf:RDF>\n </metadata>\n <defs>\n  <style type=\"text/css\">*{stroke-linejoin: round; stroke-linecap: butt}</style>\n </defs>\n <g id=\"figure_1\">\n  <g id=\"patch_1\">\n   <path d=\"M 0 325.986375 \nL 409.798125 325.986375 \nL 409.798125 0 \nL 0 0 \nz\n\" style=\"fill: #ffffff\"/>\n  </g>\n  <g id=\"axes_1\">\n   <g id=\"patch_2\">\n    <path d=\"M 45.478125 288.430125 \nL 402.598125 288.430125 \nL 402.598125 22.318125 \nL 45.478125 22.318125 \nz\n\" style=\"fill: #ffffff\"/>\n   </g>\n   <g id=\"matplotlib.axis_1\">\n    <g id=\"xtick_1\">\n     <g id=\"line2d_1\">\n      <defs>\n       <path id=\"m4ba74224f9\" d=\"M 0 0 \nL 0 3.5 \n\" style=\"stroke: #000000; stroke-width: 0.8\"/>\n      </defs>\n      <g>\n       <use xlink:href=\"#m4ba74224f9\" x=\"122.714034\" y=\"288.430125\" style=\"stroke: #000000; stroke-width: 0.8\"/>\n      </g>\n     </g>\n     <g id=\"text_1\">\n      <!-- $\\mathdefault{10^{-2}}$ -->\n      <g transform=\"translate(110.964034 303.028562) scale(0.1 -0.1)\">\n       <defs>\n        <path id=\"DejaVuSans-31\" d=\"M 794 531 \nL 1825 531 \nL 1825 4091 \nL 703 3866 \nL 703 4441 \nL 1819 4666 \nL 2450 4666 \nL 2450 531 \nL 3481 531 \nL 3481 0 \nL 794 0 \nL 794 531 \nz\n\" transform=\"scale(0.015625)\"/>\n        <path id=\"DejaVuSans-30\" d=\"M 2034 4250 \nQ 1547 4250 1301 3770 \nQ 1056 3291 1056 2328 \nQ 1056 1369 1301 889 \nQ 1547 409 2034 409 \nQ 2525 409 2770 889 \nQ 3016 1369 3016 2328 \nQ 3016 3291 2770 3770 \nQ 2525 4250 2034 4250 \nz\nM 2034 4750 \nQ 2819 4750 3233 4129 \nQ 3647 3509 3647 2328 \nQ 3647 1150 3233 529 \nQ 2819 -91 2034 -91 \nQ 1250 -91 836 529 \nQ 422 1150 422 2328 \nQ 422 3509 836 4129 \nQ 1250 4750 2034 4750 \nz\n\" transform=\"scale(0.015625)\"/>\n        <path id=\"DejaVuSans-2212\" d=\"M 678 2272 \nL 4684 2272 \nL 4684 1741 \nL 678 1741 \nL 678 2272 \nz\n\" transform=\"scale(0.015625)\"/>\n        <path id=\"DejaVuSans-32\" d=\"M 1228 531 \nL 3431 531 \nL 3431 0 \nL 469 0 \nL 469 531 \nQ 828 903 1448 1529 \nQ 2069 2156 2228 2338 \nQ 2531 2678 2651 2914 \nQ 2772 3150 2772 3378 \nQ 2772 3750 2511 3984 \nQ 2250 4219 1831 4219 \nQ 1534 4219 1204 4116 \nQ 875 4013 500 3803 \nL 500 4441 \nQ 881 4594 1212 4672 \nQ 1544 4750 1819 4750 \nQ 2544 4750 2975 4387 \nQ 3406 4025 3406 3419 \nQ 3406 3131 3298 2873 \nQ 3191 2616 2906 2266 \nQ 2828 2175 2409 1742 \nQ 1991 1309 1228 531 \nz\n\" transform=\"scale(0.015625)\"/>\n       </defs>\n       <use xlink:href=\"#DejaVuSans-31\" transform=\"translate(0 0.765625)\"/>\n       <use xlink:href=\"#DejaVuSans-30\" transform=\"translate(63.623047 0.765625)\"/>\n       <use xlink:href=\"#DejaVuSans-2212\" transform=\"translate(128.203125 39.046875) scale(0.7)\"/>\n       <use xlink:href=\"#DejaVuSans-32\" transform=\"translate(186.855469 39.046875) scale(0.7)\"/>\n      </g>\n     </g>\n    </g>\n    <g id=\"xtick_2\">\n     <g id=\"line2d_2\">\n      <g>\n       <use xlink:href=\"#m4ba74224f9\" x=\"325.362216\" y=\"288.430125\" style=\"stroke: #000000; stroke-width: 0.8\"/>\n      </g>\n     </g>\n     <g id=\"text_2\">\n      <!-- $\\mathdefault{10^{-1}}$ -->\n      <g transform=\"translate(313.612216 303.028562) scale(0.1 -0.1)\">\n       <use xlink:href=\"#DejaVuSans-31\" transform=\"translate(0 0.684375)\"/>\n       <use xlink:href=\"#DejaVuSans-30\" transform=\"translate(63.623047 0.684375)\"/>\n       <use xlink:href=\"#DejaVuSans-2212\" transform=\"translate(128.203125 38.965625) scale(0.7)\"/>\n       <use xlink:href=\"#DejaVuSans-31\" transform=\"translate(186.855469 38.965625) scale(0.7)\"/>\n      </g>\n     </g>\n    </g>\n    <g id=\"xtick_3\">\n     <g id=\"line2d_3\">\n      <defs>\n       <path id=\"m8581359879\" d=\"M 0 0 \nL 0 2 \n\" style=\"stroke: #000000; stroke-width: 0.6\"/>\n      </defs>\n      <g>\n       <use xlink:href=\"#m8581359879\" x=\"61.710852\" y=\"288.430125\" style=\"stroke: #000000; stroke-width: 0.6\"/>\n      </g>\n     </g>\n    </g>\n    <g id=\"xtick_4\">\n     <g id=\"line2d_4\">\n      <g>\n       <use xlink:href=\"#m8581359879\" x=\"77.756788\" y=\"288.430125\" style=\"stroke: #000000; stroke-width: 0.6\"/>\n      </g>\n     </g>\n    </g>\n    <g id=\"xtick_5\">\n     <g id=\"line2d_5\">\n      <g>\n       <use xlink:href=\"#m8581359879\" x=\"91.323433\" y=\"288.430125\" style=\"stroke: #000000; stroke-width: 0.6\"/>\n      </g>\n     </g>\n    </g>\n    <g id=\"xtick_6\">\n     <g id=\"line2d_6\">\n      <g>\n       <use xlink:href=\"#m8581359879\" x=\"103.075396\" y=\"288.430125\" style=\"stroke: #000000; stroke-width: 0.6\"/>\n      </g>\n     </g>\n    </g>\n    <g id=\"xtick_7\">\n     <g id=\"line2d_7\">\n      <g>\n       <use xlink:href=\"#m8581359879\" x=\"113.441361\" y=\"288.430125\" style=\"stroke: #000000; stroke-width: 0.6\"/>\n      </g>\n     </g>\n    </g>\n    <g id=\"xtick_8\">\n     <g id=\"line2d_8\">\n      <g>\n       <use xlink:href=\"#m8581359879\" x=\"183.717215\" y=\"288.430125\" style=\"stroke: #000000; stroke-width: 0.6\"/>\n      </g>\n     </g>\n    </g>\n    <g id=\"xtick_9\">\n     <g id=\"line2d_9\">\n      <g>\n       <use xlink:href=\"#m8581359879\" x=\"219.401789\" y=\"288.430125\" style=\"stroke: #000000; stroke-width: 0.6\"/>\n      </g>\n     </g>\n    </g>\n    <g id=\"xtick_10\">\n     <g id=\"line2d_10\">\n      <g>\n       <use xlink:href=\"#m8581359879\" x=\"244.720397\" y=\"288.430125\" style=\"stroke: #000000; stroke-width: 0.6\"/>\n      </g>\n     </g>\n    </g>\n    <g id=\"xtick_11\">\n     <g id=\"line2d_11\">\n      <g>\n       <use xlink:href=\"#m8581359879\" x=\"264.359035\" y=\"288.430125\" style=\"stroke: #000000; stroke-width: 0.6\"/>\n      </g>\n     </g>\n    </g>\n    <g id=\"xtick_12\">\n     <g id=\"line2d_12\">\n      <g>\n       <use xlink:href=\"#m8581359879\" x=\"280.40497\" y=\"288.430125\" style=\"stroke: #000000; stroke-width: 0.6\"/>\n      </g>\n     </g>\n    </g>\n    <g id=\"xtick_13\">\n     <g id=\"line2d_13\">\n      <g>\n       <use xlink:href=\"#m8581359879\" x=\"293.971616\" y=\"288.430125\" style=\"stroke: #000000; stroke-width: 0.6\"/>\n      </g>\n     </g>\n    </g>\n    <g id=\"xtick_14\">\n     <g id=\"line2d_14\">\n      <g>\n       <use xlink:href=\"#m8581359879\" x=\"305.723578\" y=\"288.430125\" style=\"stroke: #000000; stroke-width: 0.6\"/>\n      </g>\n     </g>\n    </g>\n    <g id=\"xtick_15\">\n     <g id=\"line2d_15\">\n      <g>\n       <use xlink:href=\"#m8581359879\" x=\"316.089544\" y=\"288.430125\" style=\"stroke: #000000; stroke-width: 0.6\"/>\n      </g>\n     </g>\n    </g>\n    <g id=\"xtick_16\">\n     <g id=\"line2d_16\">\n      <g>\n       <use xlink:href=\"#m8581359879\" x=\"386.365398\" y=\"288.430125\" style=\"stroke: #000000; stroke-width: 0.6\"/>\n      </g>\n     </g>\n    </g>\n    <g id=\"text_3\">\n     <!-- Log Radius [cm] -->\n     <g transform=\"translate(183.644375 316.706687) scale(0.1 -0.1)\">\n      <defs>\n       <path id=\"DejaVuSans-4c\" d=\"M 628 4666 \nL 1259 4666 \nL 1259 531 \nL 3531 531 \nL 3531 0 \nL 628 0 \nL 628 4666 \nz\n\" transform=\"scale(0.015625)\"/>\n       <path id=\"DejaVuSans-6f\" d=\"M 1959 3097 \nQ 1497 3097 1228 2736 \nQ 959 2375 959 1747 \nQ 959 1119 1226 758 \nQ 1494 397 1959 397 \nQ 2419 397 2687 759 \nQ 2956 1122 2956 1747 \nQ 2956 2369 2687 2733 \nQ 2419 3097 1959 3097 \nz\nM 1959 3584 \nQ 2709 3584 3137 3096 \nQ 3566 2609 3566 1747 \nQ 3566 888 3137 398 \nQ 2709 -91 1959 -91 \nQ 1206 -91 779 398 \nQ 353 888 353 1747 \nQ 353 2609 779 3096 \nQ 1206 3584 1959 3584 \nz\n\" transform=\"scale(0.015625)\"/>\n       <path id=\"DejaVuSans-67\" d=\"M 2906 1791 \nQ 2906 2416 2648 2759 \nQ 2391 3103 1925 3103 \nQ 1463 3103 1205 2759 \nQ 947 2416 947 1791 \nQ 947 1169 1205 825 \nQ 1463 481 1925 481 \nQ 2391 481 2648 825 \nQ 2906 1169 2906 1791 \nz\nM 3481 434 \nQ 3481 -459 3084 -895 \nQ 2688 -1331 1869 -1331 \nQ 1566 -1331 1297 -1286 \nQ 1028 -1241 775 -1147 \nL 775 -588 \nQ 1028 -725 1275 -790 \nQ 1522 -856 1778 -856 \nQ 2344 -856 2625 -561 \nQ 2906 -266 2906 331 \nL 2906 616 \nQ 2728 306 2450 153 \nQ 2172 0 1784 0 \nQ 1141 0 747 490 \nQ 353 981 353 1791 \nQ 353 2603 747 3093 \nQ 1141 3584 1784 3584 \nQ 2172 3584 2450 3431 \nQ 2728 3278 2906 2969 \nL 2906 3500 \nL 3481 3500 \nL 3481 434 \nz\n\" transform=\"scale(0.015625)\"/>\n       <path id=\"DejaVuSans-20\" transform=\"scale(0.015625)\"/>\n       <path id=\"DejaVuSans-52\" d=\"M 2841 2188 \nQ 3044 2119 3236 1894 \nQ 3428 1669 3622 1275 \nL 4263 0 \nL 3584 0 \nL 2988 1197 \nQ 2756 1666 2539 1819 \nQ 2322 1972 1947 1972 \nL 1259 1972 \nL 1259 0 \nL 628 0 \nL 628 4666 \nL 2053 4666 \nQ 2853 4666 3247 4331 \nQ 3641 3997 3641 3322 \nQ 3641 2881 3436 2590 \nQ 3231 2300 2841 2188 \nz\nM 1259 4147 \nL 1259 2491 \nL 2053 2491 \nQ 2509 2491 2742 2702 \nQ 2975 2913 2975 3322 \nQ 2975 3731 2742 3939 \nQ 2509 4147 2053 4147 \nL 1259 4147 \nz\n\" transform=\"scale(0.015625)\"/>\n       <path id=\"DejaVuSans-61\" d=\"M 2194 1759 \nQ 1497 1759 1228 1600 \nQ 959 1441 959 1056 \nQ 959 750 1161 570 \nQ 1363 391 1709 391 \nQ 2188 391 2477 730 \nQ 2766 1069 2766 1631 \nL 2766 1759 \nL 2194 1759 \nz\nM 3341 1997 \nL 3341 0 \nL 2766 0 \nL 2766 531 \nQ 2569 213 2275 61 \nQ 1981 -91 1556 -91 \nQ 1019 -91 701 211 \nQ 384 513 384 1019 \nQ 384 1609 779 1909 \nQ 1175 2209 1959 2209 \nL 2766 2209 \nL 2766 2266 \nQ 2766 2663 2505 2880 \nQ 2244 3097 1772 3097 \nQ 1472 3097 1187 3025 \nQ 903 2953 641 2809 \nL 641 3341 \nQ 956 3463 1253 3523 \nQ 1550 3584 1831 3584 \nQ 2591 3584 2966 3190 \nQ 3341 2797 3341 1997 \nz\n\" transform=\"scale(0.015625)\"/>\n       <path id=\"DejaVuSans-64\" d=\"M 2906 2969 \nL 2906 4863 \nL 3481 4863 \nL 3481 0 \nL 2906 0 \nL 2906 525 \nQ 2725 213 2448 61 \nQ 2172 -91 1784 -91 \nQ 1150 -91 751 415 \nQ 353 922 353 1747 \nQ 353 2572 751 3078 \nQ 1150 3584 1784 3584 \nQ 2172 3584 2448 3432 \nQ 2725 3281 2906 2969 \nz\nM 947 1747 \nQ 947 1113 1208 752 \nQ 1469 391 1925 391 \nQ 2381 391 2643 752 \nQ 2906 1113 2906 1747 \nQ 2906 2381 2643 2742 \nQ 2381 3103 1925 3103 \nQ 1469 3103 1208 2742 \nQ 947 2381 947 1747 \nz\n\" transform=\"scale(0.015625)\"/>\n       <path id=\"DejaVuSans-69\" d=\"M 603 3500 \nL 1178 3500 \nL 1178 0 \nL 603 0 \nL 603 3500 \nz\nM 603 4863 \nL 1178 4863 \nL 1178 4134 \nL 603 4134 \nL 603 4863 \nz\n\" transform=\"scale(0.015625)\"/>\n       <path id=\"DejaVuSans-75\" d=\"M 544 1381 \nL 544 3500 \nL 1119 3500 \nL 1119 1403 \nQ 1119 906 1312 657 \nQ 1506 409 1894 409 \nQ 2359 409 2629 706 \nQ 2900 1003 2900 1516 \nL 2900 3500 \nL 3475 3500 \nL 3475 0 \nL 2900 0 \nL 2900 538 \nQ 2691 219 2414 64 \nQ 2138 -91 1772 -91 \nQ 1169 -91 856 284 \nQ 544 659 544 1381 \nz\nM 1991 3584 \nL 1991 3584 \nz\n\" transform=\"scale(0.015625)\"/>\n       <path id=\"DejaVuSans-73\" d=\"M 2834 3397 \nL 2834 2853 \nQ 2591 2978 2328 3040 \nQ 2066 3103 1784 3103 \nQ 1356 3103 1142 2972 \nQ 928 2841 928 2578 \nQ 928 2378 1081 2264 \nQ 1234 2150 1697 2047 \nL 1894 2003 \nQ 2506 1872 2764 1633 \nQ 3022 1394 3022 966 \nQ 3022 478 2636 193 \nQ 2250 -91 1575 -91 \nQ 1294 -91 989 -36 \nQ 684 19 347 128 \nL 347 722 \nQ 666 556 975 473 \nQ 1284 391 1588 391 \nQ 1994 391 2212 530 \nQ 2431 669 2431 922 \nQ 2431 1156 2273 1281 \nQ 2116 1406 1581 1522 \nL 1381 1569 \nQ 847 1681 609 1914 \nQ 372 2147 372 2553 \nQ 372 3047 722 3315 \nQ 1072 3584 1716 3584 \nQ 2034 3584 2315 3537 \nQ 2597 3491 2834 3397 \nz\n\" transform=\"scale(0.015625)\"/>\n       <path id=\"DejaVuSans-5b\" d=\"M 550 4863 \nL 1875 4863 \nL 1875 4416 \nL 1125 4416 \nL 1125 -397 \nL 1875 -397 \nL 1875 -844 \nL 550 -844 \nL 550 4863 \nz\n\" transform=\"scale(0.015625)\"/>\n       <path id=\"DejaVuSans-63\" d=\"M 3122 3366 \nL 3122 2828 \nQ 2878 2963 2633 3030 \nQ 2388 3097 2138 3097 \nQ 1578 3097 1268 2742 \nQ 959 2388 959 1747 \nQ 959 1106 1268 751 \nQ 1578 397 2138 397 \nQ 2388 397 2633 464 \nQ 2878 531 3122 666 \nL 3122 134 \nQ 2881 22 2623 -34 \nQ 2366 -91 2075 -91 \nQ 1284 -91 818 406 \nQ 353 903 353 1747 \nQ 353 2603 823 3093 \nQ 1294 3584 2113 3584 \nQ 2378 3584 2631 3529 \nQ 2884 3475 3122 3366 \nz\n\" transform=\"scale(0.015625)\"/>\n       <path id=\"DejaVuSans-6d\" d=\"M 3328 2828 \nQ 3544 3216 3844 3400 \nQ 4144 3584 4550 3584 \nQ 5097 3584 5394 3201 \nQ 5691 2819 5691 2113 \nL 5691 0 \nL 5113 0 \nL 5113 2094 \nQ 5113 2597 4934 2840 \nQ 4756 3084 4391 3084 \nQ 3944 3084 3684 2787 \nQ 3425 2491 3425 1978 \nL 3425 0 \nL 2847 0 \nL 2847 2094 \nQ 2847 2600 2669 2842 \nQ 2491 3084 2119 3084 \nQ 1678 3084 1418 2786 \nQ 1159 2488 1159 1978 \nL 1159 0 \nL 581 0 \nL 581 3500 \nL 1159 3500 \nL 1159 2956 \nQ 1356 3278 1631 3431 \nQ 1906 3584 2284 3584 \nQ 2666 3584 2933 3390 \nQ 3200 3197 3328 2828 \nz\n\" transform=\"scale(0.015625)\"/>\n       <path id=\"DejaVuSans-5d\" d=\"M 1947 4863 \nL 1947 -844 \nL 622 -844 \nL 622 -397 \nL 1369 -397 \nL 1369 4416 \nL 622 4416 \nL 622 4863 \nL 1947 4863 \nz\n\" transform=\"scale(0.015625)\"/>\n      </defs>\n      <use xlink:href=\"#DejaVuSans-4c\"/>\n      <use xlink:href=\"#DejaVuSans-6f\" transform=\"translate(53.962891 0)\"/>\n      <use xlink:href=\"#DejaVuSans-67\" transform=\"translate(115.144531 0)\"/>\n      <use xlink:href=\"#DejaVuSans-20\" transform=\"translate(178.621094 0)\"/>\n      <use xlink:href=\"#DejaVuSans-52\" transform=\"translate(210.408203 0)\"/>\n      <use xlink:href=\"#DejaVuSans-61\" transform=\"translate(277.640625 0)\"/>\n      <use xlink:href=\"#DejaVuSans-64\" transform=\"translate(338.919922 0)\"/>\n      <use xlink:href=\"#DejaVuSans-69\" transform=\"translate(402.396484 0)\"/>\n      <use xlink:href=\"#DejaVuSans-75\" transform=\"translate(430.179688 0)\"/>\n      <use xlink:href=\"#DejaVuSans-73\" transform=\"translate(493.558594 0)\"/>\n      <use xlink:href=\"#DejaVuSans-20\" transform=\"translate(545.658203 0)\"/>\n      <use xlink:href=\"#DejaVuSans-5b\" transform=\"translate(577.445312 0)\"/>\n      <use xlink:href=\"#DejaVuSans-63\" transform=\"translate(616.458984 0)\"/>\n      <use xlink:href=\"#DejaVuSans-6d\" transform=\"translate(671.439453 0)\"/>\n      <use xlink:href=\"#DejaVuSans-5d\" transform=\"translate(768.851562 0)\"/>\n     </g>\n    </g>\n   </g>\n   <g id=\"matplotlib.axis_2\">\n    <g id=\"ytick_1\">\n     <g id=\"line2d_17\">\n      <defs>\n       <path id=\"m2575762791\" d=\"M 0 0 \nL -3.5 0 \n\" style=\"stroke: #000000; stroke-width: 0.8\"/>\n      </defs>\n      <g>\n       <use xlink:href=\"#m2575762791\" x=\"45.478125\" y=\"209.752039\" style=\"stroke: #000000; stroke-width: 0.8\"/>\n      </g>\n     </g>\n     <g id=\"text_4\">\n      <!-- $\\mathdefault{10^{1}}$ -->\n      <g transform=\"translate(20.878125 213.551258) scale(0.1 -0.1)\">\n       <use xlink:href=\"#DejaVuSans-31\" transform=\"translate(0 0.684375)\"/>\n       <use xlink:href=\"#DejaVuSans-30\" transform=\"translate(63.623047 0.684375)\"/>\n       <use xlink:href=\"#DejaVuSans-31\" transform=\"translate(128.203125 38.965625) scale(0.7)\"/>\n      </g>\n     </g>\n    </g>\n    <g id=\"ytick_2\">\n     <g id=\"line2d_18\">\n      <g>\n       <use xlink:href=\"#m2575762791\" x=\"45.478125\" y=\"122.53577\" style=\"stroke: #000000; stroke-width: 0.8\"/>\n      </g>\n     </g>\n     <g id=\"text_5\">\n      <!-- $\\mathdefault{10^{2}}$ -->\n      <g transform=\"translate(20.878125 126.334988) scale(0.1 -0.1)\">\n       <use xlink:href=\"#DejaVuSans-31\" transform=\"translate(0 0.765625)\"/>\n       <use xlink:href=\"#DejaVuSans-30\" transform=\"translate(63.623047 0.765625)\"/>\n       <use xlink:href=\"#DejaVuSans-32\" transform=\"translate(128.203125 39.046875) scale(0.7)\"/>\n      </g>\n     </g>\n    </g>\n    <g id=\"ytick_3\">\n     <g id=\"line2d_19\">\n      <g>\n       <use xlink:href=\"#m2575762791\" x=\"45.478125\" y=\"35.3195\" style=\"stroke: #000000; stroke-width: 0.8\"/>\n      </g>\n     </g>\n     <g id=\"text_6\">\n      <!-- $\\mathdefault{10^{3}}$ -->\n      <g transform=\"translate(20.878125 39.118718) scale(0.1 -0.1)\">\n       <defs>\n        <path id=\"DejaVuSans-33\" d=\"M 2597 2516 \nQ 3050 2419 3304 2112 \nQ 3559 1806 3559 1356 \nQ 3559 666 3084 287 \nQ 2609 -91 1734 -91 \nQ 1441 -91 1130 -33 \nQ 819 25 488 141 \nL 488 750 \nQ 750 597 1062 519 \nQ 1375 441 1716 441 \nQ 2309 441 2620 675 \nQ 2931 909 2931 1356 \nQ 2931 1769 2642 2001 \nQ 2353 2234 1838 2234 \nL 1294 2234 \nL 1294 2753 \nL 1863 2753 \nQ 2328 2753 2575 2939 \nQ 2822 3125 2822 3475 \nQ 2822 3834 2567 4026 \nQ 2313 4219 1838 4219 \nQ 1578 4219 1281 4162 \nQ 984 4106 628 3988 \nL 628 4550 \nQ 988 4650 1302 4700 \nQ 1616 4750 1894 4750 \nQ 2613 4750 3031 4423 \nQ 3450 4097 3450 3541 \nQ 3450 3153 3228 2886 \nQ 3006 2619 2597 2516 \nz\n\" transform=\"scale(0.015625)\"/>\n       </defs>\n       <use xlink:href=\"#DejaVuSans-31\" transform=\"translate(0 0.765625)\"/>\n       <use xlink:href=\"#DejaVuSans-30\" transform=\"translate(63.623047 0.765625)\"/>\n       <use xlink:href=\"#DejaVuSans-33\" transform=\"translate(128.203125 39.046875) scale(0.7)\"/>\n      </g>\n     </g>\n    </g>\n    <g id=\"ytick_4\">\n     <g id=\"line2d_20\">\n      <defs>\n       <path id=\"m68a9bbad13\" d=\"M 0 0 \nL -2 0 \n\" style=\"stroke: #000000; stroke-width: 0.6\"/>\n      </defs>\n      <g>\n       <use xlink:href=\"#m68a9bbad13\" x=\"45.478125\" y=\"270.713596\" style=\"stroke: #000000; stroke-width: 0.6\"/>\n      </g>\n     </g>\n    </g>\n    <g id=\"ytick_5\">\n     <g id=\"line2d_21\">\n      <g>\n       <use xlink:href=\"#m68a9bbad13\" x=\"45.478125\" y=\"255.355573\" style=\"stroke: #000000; stroke-width: 0.6\"/>\n      </g>\n     </g>\n    </g>\n    <g id=\"ytick_6\">\n     <g id=\"line2d_22\">\n      <g>\n       <use xlink:href=\"#m68a9bbad13\" x=\"45.478125\" y=\"244.458883\" style=\"stroke: #000000; stroke-width: 0.6\"/>\n      </g>\n     </g>\n    </g>\n    <g id=\"ytick_7\">\n     <g id=\"line2d_23\">\n      <g>\n       <use xlink:href=\"#m68a9bbad13\" x=\"45.478125\" y=\"236.006753\" style=\"stroke: #000000; stroke-width: 0.6\"/>\n      </g>\n     </g>\n    </g>\n    <g id=\"ytick_8\">\n     <g id=\"line2d_24\">\n      <g>\n       <use xlink:href=\"#m68a9bbad13\" x=\"45.478125\" y=\"229.10086\" style=\"stroke: #000000; stroke-width: 0.6\"/>\n      </g>\n     </g>\n    </g>\n    <g id=\"ytick_9\">\n     <g id=\"line2d_25\">\n      <g>\n       <use xlink:href=\"#m68a9bbad13\" x=\"45.478125\" y=\"223.262011\" style=\"stroke: #000000; stroke-width: 0.6\"/>\n      </g>\n     </g>\n    </g>\n    <g id=\"ytick_10\">\n     <g id=\"line2d_26\">\n      <g>\n       <use xlink:href=\"#m68a9bbad13\" x=\"45.478125\" y=\"218.204169\" style=\"stroke: #000000; stroke-width: 0.6\"/>\n      </g>\n     </g>\n    </g>\n    <g id=\"ytick_11\">\n     <g id=\"line2d_27\">\n      <g>\n       <use xlink:href=\"#m68a9bbad13\" x=\"45.478125\" y=\"213.742837\" style=\"stroke: #000000; stroke-width: 0.6\"/>\n      </g>\n     </g>\n    </g>\n    <g id=\"ytick_12\">\n     <g id=\"line2d_28\">\n      <g>\n       <use xlink:href=\"#m68a9bbad13\" x=\"45.478125\" y=\"183.497326\" style=\"stroke: #000000; stroke-width: 0.6\"/>\n      </g>\n     </g>\n    </g>\n    <g id=\"ytick_13\">\n     <g id=\"line2d_29\">\n      <g>\n       <use xlink:href=\"#m68a9bbad13\" x=\"45.478125\" y=\"168.139303\" style=\"stroke: #000000; stroke-width: 0.6\"/>\n      </g>\n     </g>\n    </g>\n    <g id=\"ytick_14\">\n     <g id=\"line2d_30\">\n      <g>\n       <use xlink:href=\"#m68a9bbad13\" x=\"45.478125\" y=\"157.242613\" style=\"stroke: #000000; stroke-width: 0.6\"/>\n      </g>\n     </g>\n    </g>\n    <g id=\"ytick_15\">\n     <g id=\"line2d_31\">\n      <g>\n       <use xlink:href=\"#m68a9bbad13\" x=\"45.478125\" y=\"148.790483\" style=\"stroke: #000000; stroke-width: 0.6\"/>\n      </g>\n     </g>\n    </g>\n    <g id=\"ytick_16\">\n     <g id=\"line2d_32\">\n      <g>\n       <use xlink:href=\"#m68a9bbad13\" x=\"45.478125\" y=\"141.88459\" style=\"stroke: #000000; stroke-width: 0.6\"/>\n      </g>\n     </g>\n    </g>\n    <g id=\"ytick_17\">\n     <g id=\"line2d_33\">\n      <g>\n       <use xlink:href=\"#m68a9bbad13\" x=\"45.478125\" y=\"136.045741\" style=\"stroke: #000000; stroke-width: 0.6\"/>\n      </g>\n     </g>\n    </g>\n    <g id=\"ytick_18\">\n     <g id=\"line2d_34\">\n      <g>\n       <use xlink:href=\"#m68a9bbad13\" x=\"45.478125\" y=\"130.987899\" style=\"stroke: #000000; stroke-width: 0.6\"/>\n      </g>\n     </g>\n    </g>\n    <g id=\"ytick_19\">\n     <g id=\"line2d_35\">\n      <g>\n       <use xlink:href=\"#m68a9bbad13\" x=\"45.478125\" y=\"126.526567\" style=\"stroke: #000000; stroke-width: 0.6\"/>\n      </g>\n     </g>\n    </g>\n    <g id=\"ytick_20\">\n     <g id=\"line2d_36\">\n      <g>\n       <use xlink:href=\"#m68a9bbad13\" x=\"45.478125\" y=\"96.281056\" style=\"stroke: #000000; stroke-width: 0.6\"/>\n      </g>\n     </g>\n    </g>\n    <g id=\"ytick_21\">\n     <g id=\"line2d_37\">\n      <g>\n       <use xlink:href=\"#m68a9bbad13\" x=\"45.478125\" y=\"80.923033\" style=\"stroke: #000000; stroke-width: 0.6\"/>\n      </g>\n     </g>\n    </g>\n    <g id=\"ytick_22\">\n     <g id=\"line2d_38\">\n      <g>\n       <use xlink:href=\"#m68a9bbad13\" x=\"45.478125\" y=\"70.026343\" style=\"stroke: #000000; stroke-width: 0.6\"/>\n      </g>\n     </g>\n    </g>\n    <g id=\"ytick_23\">\n     <g id=\"line2d_39\">\n      <g>\n       <use xlink:href=\"#m68a9bbad13\" x=\"45.478125\" y=\"61.574213\" style=\"stroke: #000000; stroke-width: 0.6\"/>\n      </g>\n     </g>\n    </g>\n    <g id=\"ytick_24\">\n     <g id=\"line2d_40\">\n      <g>\n       <use xlink:href=\"#m68a9bbad13\" x=\"45.478125\" y=\"54.66832\" style=\"stroke: #000000; stroke-width: 0.6\"/>\n      </g>\n     </g>\n    </g>\n    <g id=\"ytick_25\">\n     <g id=\"line2d_41\">\n      <g>\n       <use xlink:href=\"#m68a9bbad13\" x=\"45.478125\" y=\"48.829471\" style=\"stroke: #000000; stroke-width: 0.6\"/>\n      </g>\n     </g>\n    </g>\n    <g id=\"ytick_26\">\n     <g id=\"line2d_42\">\n      <g>\n       <use xlink:href=\"#m68a9bbad13\" x=\"45.478125\" y=\"43.771629\" style=\"stroke: #000000; stroke-width: 0.6\"/>\n      </g>\n     </g>\n    </g>\n    <g id=\"ytick_27\">\n     <g id=\"line2d_43\">\n      <g>\n       <use xlink:href=\"#m68a9bbad13\" x=\"45.478125\" y=\"39.310297\" style=\"stroke: #000000; stroke-width: 0.6\"/>\n      </g>\n     </g>\n    </g>\n    <g id=\"text_7\">\n     <!-- Log Time [s] -->\n     <g transform=\"translate(14.798438 186.224125) rotate(-90) scale(0.1 -0.1)\">\n      <defs>\n       <path id=\"DejaVuSans-54\" d=\"M -19 4666 \nL 3928 4666 \nL 3928 4134 \nL 2272 4134 \nL 2272 0 \nL 1638 0 \nL 1638 4134 \nL -19 4134 \nL -19 4666 \nz\n\" transform=\"scale(0.015625)\"/>\n       <path id=\"DejaVuSans-65\" d=\"M 3597 1894 \nL 3597 1613 \nL 953 1613 \nQ 991 1019 1311 708 \nQ 1631 397 2203 397 \nQ 2534 397 2845 478 \nQ 3156 559 3463 722 \nL 3463 178 \nQ 3153 47 2828 -22 \nQ 2503 -91 2169 -91 \nQ 1331 -91 842 396 \nQ 353 884 353 1716 \nQ 353 2575 817 3079 \nQ 1281 3584 2069 3584 \nQ 2775 3584 3186 3129 \nQ 3597 2675 3597 1894 \nz\nM 3022 2063 \nQ 3016 2534 2758 2815 \nQ 2500 3097 2075 3097 \nQ 1594 3097 1305 2825 \nQ 1016 2553 972 2059 \nL 3022 2063 \nz\n\" transform=\"scale(0.015625)\"/>\n      </defs>\n      <use xlink:href=\"#DejaVuSans-4c\"/>\n      <use xlink:href=\"#DejaVuSans-6f\" transform=\"translate(53.962891 0)\"/>\n      <use xlink:href=\"#DejaVuSans-67\" transform=\"translate(115.144531 0)\"/>\n      <use xlink:href=\"#DejaVuSans-20\" transform=\"translate(178.621094 0)\"/>\n      <use xlink:href=\"#DejaVuSans-54\" transform=\"translate(210.408203 0)\"/>\n      <use xlink:href=\"#DejaVuSans-69\" transform=\"translate(268.367188 0)\"/>\n      <use xlink:href=\"#DejaVuSans-6d\" transform=\"translate(296.150391 0)\"/>\n      <use xlink:href=\"#DejaVuSans-65\" transform=\"translate(393.5625 0)\"/>\n      <use xlink:href=\"#DejaVuSans-20\" transform=\"translate(455.085938 0)\"/>\n      <use xlink:href=\"#DejaVuSans-5b\" transform=\"translate(486.873047 0)\"/>\n      <use xlink:href=\"#DejaVuSans-73\" transform=\"translate(525.886719 0)\"/>\n      <use xlink:href=\"#DejaVuSans-5d\" transform=\"translate(577.986328 0)\"/>\n     </g>\n    </g>\n   </g>\n   <g id=\"line2d_44\">\n    <path d=\"M 61.710852 257.827914 \nL 122.714034 214.814405 \nL 203.355853 164.716956 \nL 264.359035 131.536787 \nL 300.043608 112.163362 \nL 325.362216 97.433294 \nL 361.04679 76.989835 \nL 386.365398 62.670908 \n\" clip-path=\"url(#p30177299fc)\" style=\"fill: none; stroke: #1f77b4; stroke-width: 1.5; stroke-linecap: square\"/>\n   </g>\n   <g id=\"line2d_45\">\n    <path d=\"M 61.710852 253.004609 \nL 122.714034 209.9911 \nL 203.355853 159.893652 \nL 264.359035 126.713483 \nL 300.043608 107.340058 \nL 325.362216 92.60999 \nL 361.04679 72.166531 \nL 386.365398 57.847604 \n\" clip-path=\"url(#p30177299fc)\" style=\"fill: none; stroke: #ff7f0e; stroke-width: 1.5; stroke-linecap: square\"/>\n   </g>\n   <g id=\"line2d_46\">\n    <path d=\"M 61.710852 276.334125 \nL 122.714034 233.320616 \nL 203.355853 183.223168 \nL 264.359035 150.042999 \nL 300.043608 130.669574 \nL 325.362216 115.939506 \nL 361.04679 95.496047 \nL 386.365398 81.17712 \n\" clip-path=\"url(#p30177299fc)\" style=\"fill: none; stroke: #2ca02c; stroke-width: 1.5; stroke-linecap: square\"/>\n   </g>\n   <g id=\"line2d_47\">\n    <path d=\"M 61.710852 255.825844 \nL 122.714034 212.812335 \nL 203.355853 162.714886 \nL 264.359035 129.534717 \nL 300.043608 110.161292 \nL 325.362216 95.431224 \nL 361.04679 74.987765 \nL 386.365398 60.668838 \n\" clip-path=\"url(#p30177299fc)\" style=\"fill: none; stroke: #d62728; stroke-width: 1.5; stroke-linecap: square\"/>\n   </g>\n   <g id=\"line2d_48\">\n    <path d=\"M 61.710852 229.57113 \nL 122.714034 186.557621 \nL 203.355853 136.460173 \nL 264.359035 103.280004 \nL 300.043608 83.906579 \nL 325.362216 69.176511 \nL 361.04679 48.733052 \nL 386.365398 34.414125 \n\" clip-path=\"url(#p30177299fc)\" style=\"fill: none; stroke: #9467bd; stroke-width: 1.5; stroke-linecap: square\"/>\n   </g>\n   <g id=\"patch_3\">\n    <path d=\"M 45.478125 288.430125 \nL 45.478125 22.318125 \n\" style=\"fill: none; stroke: #000000; stroke-width: 0.8; stroke-linejoin: miter; stroke-linecap: square\"/>\n   </g>\n   <g id=\"patch_4\">\n    <path d=\"M 402.598125 288.430125 \nL 402.598125 22.318125 \n\" style=\"fill: none; stroke: #000000; stroke-width: 0.8; stroke-linejoin: miter; stroke-linecap: square\"/>\n   </g>\n   <g id=\"patch_5\">\n    <path d=\"M 45.478125 288.430125 \nL 402.598125 288.430125 \n\" style=\"fill: none; stroke: #000000; stroke-width: 0.8; stroke-linejoin: miter; stroke-linecap: square\"/>\n   </g>\n   <g id=\"patch_6\">\n    <path d=\"M 45.478125 22.318125 \nL 402.598125 22.318125 \n\" style=\"fill: none; stroke: #000000; stroke-width: 0.8; stroke-linejoin: miter; stroke-linecap: square\"/>\n   </g>\n   <g id=\"text_8\">\n    <!-- Isotopic relaxation timescale comparison in a log-log scale -->\n    <g transform=\"translate(48.121875 16.318125) scale(0.12 -0.12)\">\n     <defs>\n      <path id=\"DejaVuSans-49\" d=\"M 628 4666 \nL 1259 4666 \nL 1259 0 \nL 628 0 \nL 628 4666 \nz\n\" transform=\"scale(0.015625)\"/>\n      <path id=\"DejaVuSans-74\" d=\"M 1172 4494 \nL 1172 3500 \nL 2356 3500 \nL 2356 3053 \nL 1172 3053 \nL 1172 1153 \nQ 1172 725 1289 603 \nQ 1406 481 1766 481 \nL 2356 481 \nL 2356 0 \nL 1766 0 \nQ 1100 0 847 248 \nQ 594 497 594 1153 \nL 594 3053 \nL 172 3053 \nL 172 3500 \nL 594 3500 \nL 594 4494 \nL 1172 4494 \nz\n\" transform=\"scale(0.015625)\"/>\n      <path id=\"DejaVuSans-70\" d=\"M 1159 525 \nL 1159 -1331 \nL 581 -1331 \nL 581 3500 \nL 1159 3500 \nL 1159 2969 \nQ 1341 3281 1617 3432 \nQ 1894 3584 2278 3584 \nQ 2916 3584 3314 3078 \nQ 3713 2572 3713 1747 \nQ 3713 922 3314 415 \nQ 2916 -91 2278 -91 \nQ 1894 -91 1617 61 \nQ 1341 213 1159 525 \nz\nM 3116 1747 \nQ 3116 2381 2855 2742 \nQ 2594 3103 2138 3103 \nQ 1681 3103 1420 2742 \nQ 1159 2381 1159 1747 \nQ 1159 1113 1420 752 \nQ 1681 391 2138 391 \nQ 2594 391 2855 752 \nQ 3116 1113 3116 1747 \nz\n\" transform=\"scale(0.015625)\"/>\n      <path id=\"DejaVuSans-72\" d=\"M 2631 2963 \nQ 2534 3019 2420 3045 \nQ 2306 3072 2169 3072 \nQ 1681 3072 1420 2755 \nQ 1159 2438 1159 1844 \nL 1159 0 \nL 581 0 \nL 581 3500 \nL 1159 3500 \nL 1159 2956 \nQ 1341 3275 1631 3429 \nQ 1922 3584 2338 3584 \nQ 2397 3584 2469 3576 \nQ 2541 3569 2628 3553 \nL 2631 2963 \nz\n\" transform=\"scale(0.015625)\"/>\n      <path id=\"DejaVuSans-6c\" d=\"M 603 4863 \nL 1178 4863 \nL 1178 0 \nL 603 0 \nL 603 4863 \nz\n\" transform=\"scale(0.015625)\"/>\n      <path id=\"DejaVuSans-78\" d=\"M 3513 3500 \nL 2247 1797 \nL 3578 0 \nL 2900 0 \nL 1881 1375 \nL 863 0 \nL 184 0 \nL 1544 1831 \nL 300 3500 \nL 978 3500 \nL 1906 2253 \nL 2834 3500 \nL 3513 3500 \nz\n\" transform=\"scale(0.015625)\"/>\n      <path id=\"DejaVuSans-6e\" d=\"M 3513 2113 \nL 3513 0 \nL 2938 0 \nL 2938 2094 \nQ 2938 2591 2744 2837 \nQ 2550 3084 2163 3084 \nQ 1697 3084 1428 2787 \nQ 1159 2491 1159 1978 \nL 1159 0 \nL 581 0 \nL 581 3500 \nL 1159 3500 \nL 1159 2956 \nQ 1366 3272 1645 3428 \nQ 1925 3584 2291 3584 \nQ 2894 3584 3203 3211 \nQ 3513 2838 3513 2113 \nz\n\" transform=\"scale(0.015625)\"/>\n      <path id=\"DejaVuSans-2d\" d=\"M 313 2009 \nL 1997 2009 \nL 1997 1497 \nL 313 1497 \nL 313 2009 \nz\n\" transform=\"scale(0.015625)\"/>\n     </defs>\n     <use xlink:href=\"#DejaVuSans-49\"/>\n     <use xlink:href=\"#DejaVuSans-73\" transform=\"translate(29.492188 0)\"/>\n     <use xlink:href=\"#DejaVuSans-6f\" transform=\"translate(81.591797 0)\"/>\n     <use xlink:href=\"#DejaVuSans-74\" transform=\"translate(142.773438 0)\"/>\n     <use xlink:href=\"#DejaVuSans-6f\" transform=\"translate(181.982422 0)\"/>\n     <use xlink:href=\"#DejaVuSans-70\" transform=\"translate(243.164062 0)\"/>\n     <use xlink:href=\"#DejaVuSans-69\" transform=\"translate(306.640625 0)\"/>\n     <use xlink:href=\"#DejaVuSans-63\" transform=\"translate(334.423828 0)\"/>\n     <use xlink:href=\"#DejaVuSans-20\" transform=\"translate(389.404297 0)\"/>\n     <use xlink:href=\"#DejaVuSans-72\" transform=\"translate(421.191406 0)\"/>\n     <use xlink:href=\"#DejaVuSans-65\" transform=\"translate(460.054688 0)\"/>\n     <use xlink:href=\"#DejaVuSans-6c\" transform=\"translate(521.578125 0)\"/>\n     <use xlink:href=\"#DejaVuSans-61\" transform=\"translate(549.361328 0)\"/>\n     <use xlink:href=\"#DejaVuSans-78\" transform=\"translate(610.640625 0)\"/>\n     <use xlink:href=\"#DejaVuSans-61\" transform=\"translate(669.820312 0)\"/>\n     <use xlink:href=\"#DejaVuSans-74\" transform=\"translate(731.099609 0)\"/>\n     <use xlink:href=\"#DejaVuSans-69\" transform=\"translate(770.308594 0)\"/>\n     <use xlink:href=\"#DejaVuSans-6f\" transform=\"translate(798.091797 0)\"/>\n     <use xlink:href=\"#DejaVuSans-6e\" transform=\"translate(859.273438 0)\"/>\n     <use xlink:href=\"#DejaVuSans-20\" transform=\"translate(922.652344 0)\"/>\n     <use xlink:href=\"#DejaVuSans-74\" transform=\"translate(954.439453 0)\"/>\n     <use xlink:href=\"#DejaVuSans-69\" transform=\"translate(993.648438 0)\"/>\n     <use xlink:href=\"#DejaVuSans-6d\" transform=\"translate(1021.431641 0)\"/>\n     <use xlink:href=\"#DejaVuSans-65\" transform=\"translate(1118.84375 0)\"/>\n     <use xlink:href=\"#DejaVuSans-73\" transform=\"translate(1180.367188 0)\"/>\n     <use xlink:href=\"#DejaVuSans-63\" transform=\"translate(1232.466797 0)\"/>\n     <use xlink:href=\"#DejaVuSans-61\" transform=\"translate(1287.447266 0)\"/>\n     <use xlink:href=\"#DejaVuSans-6c\" transform=\"translate(1348.726562 0)\"/>\n     <use xlink:href=\"#DejaVuSans-65\" transform=\"translate(1376.509766 0)\"/>\n     <use xlink:href=\"#DejaVuSans-20\" transform=\"translate(1438.033203 0)\"/>\n     <use xlink:href=\"#DejaVuSans-63\" transform=\"translate(1469.820312 0)\"/>\n     <use xlink:href=\"#DejaVuSans-6f\" transform=\"translate(1524.800781 0)\"/>\n     <use xlink:href=\"#DejaVuSans-6d\" transform=\"translate(1585.982422 0)\"/>\n     <use xlink:href=\"#DejaVuSans-70\" transform=\"translate(1683.394531 0)\"/>\n     <use xlink:href=\"#DejaVuSans-61\" transform=\"translate(1746.871094 0)\"/>\n     <use xlink:href=\"#DejaVuSans-72\" transform=\"translate(1808.150391 0)\"/>\n     <use xlink:href=\"#DejaVuSans-69\" transform=\"translate(1849.263672 0)\"/>\n     <use xlink:href=\"#DejaVuSans-73\" transform=\"translate(1877.046875 0)\"/>\n     <use xlink:href=\"#DejaVuSans-6f\" transform=\"translate(1929.146484 0)\"/>\n     <use xlink:href=\"#DejaVuSans-6e\" transform=\"translate(1990.328125 0)\"/>\n     <use xlink:href=\"#DejaVuSans-20\" transform=\"translate(2053.707031 0)\"/>\n     <use xlink:href=\"#DejaVuSans-69\" transform=\"translate(2085.494141 0)\"/>\n     <use xlink:href=\"#DejaVuSans-6e\" transform=\"translate(2113.277344 0)\"/>\n     <use xlink:href=\"#DejaVuSans-20\" transform=\"translate(2176.65625 0)\"/>\n     <use xlink:href=\"#DejaVuSans-61\" transform=\"translate(2208.443359 0)\"/>\n     <use xlink:href=\"#DejaVuSans-20\" transform=\"translate(2269.722656 0)\"/>\n     <use xlink:href=\"#DejaVuSans-6c\" transform=\"translate(2301.509766 0)\"/>\n     <use xlink:href=\"#DejaVuSans-6f\" transform=\"translate(2329.292969 0)\"/>\n     <use xlink:href=\"#DejaVuSans-67\" transform=\"translate(2390.474609 0)\"/>\n     <use xlink:href=\"#DejaVuSans-2d\" transform=\"translate(2453.951172 0)\"/>\n     <use xlink:href=\"#DejaVuSans-6c\" transform=\"translate(2490.035156 0)\"/>\n     <use xlink:href=\"#DejaVuSans-6f\" transform=\"translate(2517.818359 0)\"/>\n     <use xlink:href=\"#DejaVuSans-67\" transform=\"translate(2579 0)\"/>\n     <use xlink:href=\"#DejaVuSans-20\" transform=\"translate(2642.476562 0)\"/>\n     <use xlink:href=\"#DejaVuSans-73\" transform=\"translate(2674.263672 0)\"/>\n     <use xlink:href=\"#DejaVuSans-63\" transform=\"translate(2726.363281 0)\"/>\n     <use xlink:href=\"#DejaVuSans-61\" transform=\"translate(2781.34375 0)\"/>\n     <use xlink:href=\"#DejaVuSans-6c\" transform=\"translate(2842.623047 0)\"/>\n     <use xlink:href=\"#DejaVuSans-65\" transform=\"translate(2870.40625 0)\"/>\n    </g>\n   </g>\n   <g id=\"legend_1\">\n    <g id=\"patch_7\">\n     <path d=\"M 52.478125 104.265 \nL 157.298438 104.265 \nQ 159.298438 104.265 159.298438 102.265 \nL 159.298438 29.318125 \nQ 159.298438 27.318125 157.298438 27.318125 \nL 52.478125 27.318125 \nQ 50.478125 27.318125 50.478125 29.318125 \nL 50.478125 102.265 \nQ 50.478125 104.265 52.478125 104.265 \nz\n\" style=\"fill: #ffffff; opacity: 0.8; stroke: #cccccc; stroke-linejoin: miter\"/>\n    </g>\n    <g id=\"line2d_49\">\n     <path d=\"M 54.478125 35.416562 \nL 64.478125 35.416562 \nL 74.478125 35.416562 \n\" style=\"fill: none; stroke: #1f77b4; stroke-width: 1.5; stroke-linecap: square\"/>\n    </g>\n    <g id=\"text_9\">\n     <!-- Miyake [s] -->\n     <g transform=\"translate(82.478125 38.916562) scale(0.1 -0.1)\">\n      <defs>\n       <path id=\"DejaVuSans-4d\" d=\"M 628 4666 \nL 1569 4666 \nL 2759 1491 \nL 3956 4666 \nL 4897 4666 \nL 4897 0 \nL 4281 0 \nL 4281 4097 \nL 3078 897 \nL 2444 897 \nL 1241 4097 \nL 1241 0 \nL 628 0 \nL 628 4666 \nz\n\" transform=\"scale(0.015625)\"/>\n       <path id=\"DejaVuSans-79\" d=\"M 2059 -325 \nQ 1816 -950 1584 -1140 \nQ 1353 -1331 966 -1331 \nL 506 -1331 \nL 506 -850 \nL 844 -850 \nQ 1081 -850 1212 -737 \nQ 1344 -625 1503 -206 \nL 1606 56 \nL 191 3500 \nL 800 3500 \nL 1894 763 \nL 2988 3500 \nL 3597 3500 \nL 2059 -325 \nz\n\" transform=\"scale(0.015625)\"/>\n       <path id=\"DejaVuSans-6b\" d=\"M 581 4863 \nL 1159 4863 \nL 1159 1991 \nL 2875 3500 \nL 3609 3500 \nL 1753 1863 \nL 3688 0 \nL 2938 0 \nL 1159 1709 \nL 1159 0 \nL 581 0 \nL 581 4863 \nz\n\" transform=\"scale(0.015625)\"/>\n      </defs>\n      <use xlink:href=\"#DejaVuSans-4d\"/>\n      <use xlink:href=\"#DejaVuSans-69\" transform=\"translate(86.279297 0)\"/>\n      <use xlink:href=\"#DejaVuSans-79\" transform=\"translate(114.0625 0)\"/>\n      <use xlink:href=\"#DejaVuSans-61\" transform=\"translate(173.242188 0)\"/>\n      <use xlink:href=\"#DejaVuSans-6b\" transform=\"translate(234.521484 0)\"/>\n      <use xlink:href=\"#DejaVuSans-65\" transform=\"translate(288.806641 0)\"/>\n      <use xlink:href=\"#DejaVuSans-20\" transform=\"translate(350.330078 0)\"/>\n      <use xlink:href=\"#DejaVuSans-5b\" transform=\"translate(382.117188 0)\"/>\n      <use xlink:href=\"#DejaVuSans-73\" transform=\"translate(421.130859 0)\"/>\n      <use xlink:href=\"#DejaVuSans-5d\" transform=\"translate(473.230469 0)\"/>\n     </g>\n    </g>\n    <g id=\"line2d_50\">\n     <path d=\"M 54.478125 50.094688 \nL 64.478125 50.094688 \nL 74.478125 50.094688 \n\" style=\"fill: none; stroke: #ff7f0e; stroke-width: 1.5; stroke-linecap: square\"/>\n    </g>\n    <g id=\"text_10\">\n     <!-- Bolin [s] -->\n     <g transform=\"translate(82.478125 53.594688) scale(0.1 -0.1)\">\n      <defs>\n       <path id=\"DejaVuSans-42\" d=\"M 1259 2228 \nL 1259 519 \nL 2272 519 \nQ 2781 519 3026 730 \nQ 3272 941 3272 1375 \nQ 3272 1813 3026 2020 \nQ 2781 2228 2272 2228 \nL 1259 2228 \nz\nM 1259 4147 \nL 1259 2741 \nL 2194 2741 \nQ 2656 2741 2882 2914 \nQ 3109 3088 3109 3444 \nQ 3109 3797 2882 3972 \nQ 2656 4147 2194 4147 \nL 1259 4147 \nz\nM 628 4666 \nL 2241 4666 \nQ 2963 4666 3353 4366 \nQ 3744 4066 3744 3513 \nQ 3744 3084 3544 2831 \nQ 3344 2578 2956 2516 \nQ 3422 2416 3680 2098 \nQ 3938 1781 3938 1306 \nQ 3938 681 3513 340 \nQ 3088 0 2303 0 \nL 628 0 \nL 628 4666 \nz\n\" transform=\"scale(0.015625)\"/>\n      </defs>\n      <use xlink:href=\"#DejaVuSans-42\"/>\n      <use xlink:href=\"#DejaVuSans-6f\" transform=\"translate(68.603516 0)\"/>\n      <use xlink:href=\"#DejaVuSans-6c\" transform=\"translate(129.785156 0)\"/>\n      <use xlink:href=\"#DejaVuSans-69\" transform=\"translate(157.568359 0)\"/>\n      <use xlink:href=\"#DejaVuSans-6e\" transform=\"translate(185.351562 0)\"/>\n      <use xlink:href=\"#DejaVuSans-20\" transform=\"translate(248.730469 0)\"/>\n      <use xlink:href=\"#DejaVuSans-5b\" transform=\"translate(280.517578 0)\"/>\n      <use xlink:href=\"#DejaVuSans-73\" transform=\"translate(319.53125 0)\"/>\n      <use xlink:href=\"#DejaVuSans-5d\" transform=\"translate(371.630859 0)\"/>\n     </g>\n    </g>\n    <g id=\"line2d_51\">\n     <path d=\"M 54.478125 64.772812 \nL 64.478125 64.772812 \nL 74.478125 64.772812 \n\" style=\"fill: none; stroke: #2ca02c; stroke-width: 1.5; stroke-linecap: square\"/>\n    </g>\n    <g id=\"text_11\">\n     <!-- c1=1.63 [s] -->\n     <g transform=\"translate(82.478125 68.272812) scale(0.1 -0.1)\">\n      <defs>\n       <path id=\"DejaVuSans-3d\" d=\"M 678 2906 \nL 4684 2906 \nL 4684 2381 \nL 678 2381 \nL 678 2906 \nz\nM 678 1631 \nL 4684 1631 \nL 4684 1100 \nL 678 1100 \nL 678 1631 \nz\n\" transform=\"scale(0.015625)\"/>\n       <path id=\"DejaVuSans-2e\" d=\"M 684 794 \nL 1344 794 \nL 1344 0 \nL 684 0 \nL 684 794 \nz\n\" transform=\"scale(0.015625)\"/>\n       <path id=\"DejaVuSans-36\" d=\"M 2113 2584 \nQ 1688 2584 1439 2293 \nQ 1191 2003 1191 1497 \nQ 1191 994 1439 701 \nQ 1688 409 2113 409 \nQ 2538 409 2786 701 \nQ 3034 994 3034 1497 \nQ 3034 2003 2786 2293 \nQ 2538 2584 2113 2584 \nz\nM 3366 4563 \nL 3366 3988 \nQ 3128 4100 2886 4159 \nQ 2644 4219 2406 4219 \nQ 1781 4219 1451 3797 \nQ 1122 3375 1075 2522 \nQ 1259 2794 1537 2939 \nQ 1816 3084 2150 3084 \nQ 2853 3084 3261 2657 \nQ 3669 2231 3669 1497 \nQ 3669 778 3244 343 \nQ 2819 -91 2113 -91 \nQ 1303 -91 875 529 \nQ 447 1150 447 2328 \nQ 447 3434 972 4092 \nQ 1497 4750 2381 4750 \nQ 2619 4750 2861 4703 \nQ 3103 4656 3366 4563 \nz\n\" transform=\"scale(0.015625)\"/>\n      </defs>\n      <use xlink:href=\"#DejaVuSans-63\"/>\n      <use xlink:href=\"#DejaVuSans-31\" transform=\"translate(54.980469 0)\"/>\n      <use xlink:href=\"#DejaVuSans-3d\" transform=\"translate(118.603516 0)\"/>\n      <use xlink:href=\"#DejaVuSans-31\" transform=\"translate(202.392578 0)\"/>\n      <use xlink:href=\"#DejaVuSans-2e\" transform=\"translate(266.015625 0)\"/>\n      <use xlink:href=\"#DejaVuSans-36\" transform=\"translate(297.802734 0)\"/>\n      <use xlink:href=\"#DejaVuSans-33\" transform=\"translate(361.425781 0)\"/>\n      <use xlink:href=\"#DejaVuSans-20\" transform=\"translate(425.048828 0)\"/>\n      <use xlink:href=\"#DejaVuSans-5b\" transform=\"translate(456.835938 0)\"/>\n      <use xlink:href=\"#DejaVuSans-73\" transform=\"translate(495.849609 0)\"/>\n      <use xlink:href=\"#DejaVuSans-5d\" transform=\"translate(547.949219 0)\"/>\n     </g>\n    </g>\n    <g id=\"line2d_52\">\n     <path d=\"M 54.478125 79.450938 \nL 64.478125 79.450938 \nL 74.478125 79.450938 \n\" style=\"fill: none; stroke: #d62728; stroke-width: 1.5; stroke-linecap: square\"/>\n    </g>\n    <g id=\"text_12\">\n     <!-- iso_env!=0 [s] -->\n     <g transform=\"translate(82.478125 82.950938) scale(0.1 -0.1)\">\n      <defs>\n       <path id=\"DejaVuSans-5f\" d=\"M 3263 -1063 \nL 3263 -1509 \nL -63 -1509 \nL -63 -1063 \nL 3263 -1063 \nz\n\" transform=\"scale(0.015625)\"/>\n       <path id=\"DejaVuSans-76\" d=\"M 191 3500 \nL 800 3500 \nL 1894 563 \nL 2988 3500 \nL 3597 3500 \nL 2284 0 \nL 1503 0 \nL 191 3500 \nz\n\" transform=\"scale(0.015625)\"/>\n       <path id=\"DejaVuSans-21\" d=\"M 966 794 \nL 1600 794 \nL 1600 0 \nL 966 0 \nL 966 794 \nz\nM 966 4666 \nL 1600 4666 \nL 1600 2619 \nL 1538 1503 \nL 1031 1503 \nL 966 2619 \nL 966 4666 \nz\n\" transform=\"scale(0.015625)\"/>\n      </defs>\n      <use xlink:href=\"#DejaVuSans-69\"/>\n      <use xlink:href=\"#DejaVuSans-73\" transform=\"translate(27.783203 0)\"/>\n      <use xlink:href=\"#DejaVuSans-6f\" transform=\"translate(79.882812 0)\"/>\n      <use xlink:href=\"#DejaVuSans-5f\" transform=\"translate(141.064453 0)\"/>\n      <use xlink:href=\"#DejaVuSans-65\" transform=\"translate(191.064453 0)\"/>\n      <use xlink:href=\"#DejaVuSans-6e\" transform=\"translate(252.587891 0)\"/>\n      <use xlink:href=\"#DejaVuSans-76\" transform=\"translate(315.966797 0)\"/>\n      <use xlink:href=\"#DejaVuSans-21\" transform=\"translate(375.146484 0)\"/>\n      <use xlink:href=\"#DejaVuSans-3d\" transform=\"translate(415.234375 0)\"/>\n      <use xlink:href=\"#DejaVuSans-30\" transform=\"translate(499.023438 0)\"/>\n      <use xlink:href=\"#DejaVuSans-20\" transform=\"translate(562.646484 0)\"/>\n      <use xlink:href=\"#DejaVuSans-5b\" transform=\"translate(594.433594 0)\"/>\n      <use xlink:href=\"#DejaVuSans-73\" transform=\"translate(633.447266 0)\"/>\n      <use xlink:href=\"#DejaVuSans-5d\" transform=\"translate(685.546875 0)\"/>\n     </g>\n    </g>\n    <g id=\"line2d_53\">\n     <path d=\"M 54.478125 94.407188 \nL 64.478125 94.407188 \nL 74.478125 94.407188 \n\" style=\"fill: none; stroke: #9467bd; stroke-width: 1.5; stroke-linecap: square\"/>\n    </g>\n    <g id=\"text_13\">\n     <!-- RH_env!=0 [s] -->\n     <g transform=\"translate(82.478125 97.907188) scale(0.1 -0.1)\">\n      <defs>\n       <path id=\"DejaVuSans-48\" d=\"M 628 4666 \nL 1259 4666 \nL 1259 2753 \nL 3553 2753 \nL 3553 4666 \nL 4184 4666 \nL 4184 0 \nL 3553 0 \nL 3553 2222 \nL 1259 2222 \nL 1259 0 \nL 628 0 \nL 628 4666 \nz\n\" transform=\"scale(0.015625)\"/>\n      </defs>\n      <use xlink:href=\"#DejaVuSans-52\"/>\n      <use xlink:href=\"#DejaVuSans-48\" transform=\"translate(69.482422 0)\"/>\n      <use xlink:href=\"#DejaVuSans-5f\" transform=\"translate(144.677734 0)\"/>\n      <use xlink:href=\"#DejaVuSans-65\" transform=\"translate(194.677734 0)\"/>\n      <use xlink:href=\"#DejaVuSans-6e\" transform=\"translate(256.201172 0)\"/>\n      <use xlink:href=\"#DejaVuSans-76\" transform=\"translate(319.580078 0)\"/>\n      <use xlink:href=\"#DejaVuSans-21\" transform=\"translate(378.759766 0)\"/>\n      <use xlink:href=\"#DejaVuSans-3d\" transform=\"translate(418.847656 0)\"/>\n      <use xlink:href=\"#DejaVuSans-30\" transform=\"translate(502.636719 0)\"/>\n      <use xlink:href=\"#DejaVuSans-20\" transform=\"translate(566.259766 0)\"/>\n      <use xlink:href=\"#DejaVuSans-5b\" transform=\"translate(598.046875 0)\"/>\n      <use xlink:href=\"#DejaVuSans-73\" transform=\"translate(637.060547 0)\"/>\n      <use xlink:href=\"#DejaVuSans-5d\" transform=\"translate(689.160156 0)\"/>\n     </g>\n    </g>\n   </g>\n  </g>\n </g>\n <defs>\n  <clipPath id=\"p30177299fc\">\n   <rect x=\"45.478125\" y=\"22.318125\" width=\"357.12\" height=\"266.112\"/>\n  </clipPath>\n </defs>\n</svg>\n"
     },
     "metadata": {},
     "output_type": "display_data"
    },
    {
     "data": {
      "text/plain": [
       "HBox(children=(HTML(value=\"<a href='./timescales_comparison_loglog.pdf' target='_blank'>./timescales_compariso…"
      ],
      "application/vnd.jupyter.widget-view+json": {
       "version_major": 2,
       "version_minor": 0,
       "model_id": "ad75a56030234d0f8b29bc79681338ce"
      }
     },
     "metadata": {},
     "output_type": "display_data"
    }
   ],
   "execution_count": 15
  },
  {
   "metadata": {
    "ExecuteTime": {
     "end_time": "2025-03-02T23:24:15.388847Z",
     "start_time": "2025-02-25T04:18:41.379162Z"
    }
   },
   "cell_type": "code",
   "source": "",
   "id": "dcf144024dcd6f7a",
   "outputs": [],
   "execution_count": null
  }
 ],
 "metadata": {
  "kernelspec": {
   "display_name": "Python 3 (ipykernel)",
   "language": "python",
   "name": "python3"
  },
  "language_info": {
   "codemirror_mode": {
    "name": "ipython",
    "version": 3
   },
   "file_extension": ".py",
   "mimetype": "text/x-python",
   "name": "python",
   "nbconvert_exporter": "python",
   "pygments_lexer": "ipython3",
   "version": "3.12.8"
  }
 },
 "nbformat": 4,
 "nbformat_minor": 5
}
