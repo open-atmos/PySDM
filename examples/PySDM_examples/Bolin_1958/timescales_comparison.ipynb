{
 "cells": [
  {
   "metadata": {},
   "cell_type": "markdown",
   "source": [
    "[![preview notebook](https://img.shields.io/static/v1?label=render%20on&logo=github&color=87ce3e&message=GitHub)](https://github.com/open-atmos/PySDM/blob/main/examples/PySDM_examples/Bolin_1958/timescales_comparison.ipynb)\n",
    "[![launch on mybinder.org](https://mybinder.org/badge_logo.svg)](https://mybinder.org/v2/gh/open-atmos/PySDM.git/main?urlpath=lab/tree/examples/PySDM_examples/Bolin_1958/timescales_comparison.ipynb)\n",
    "[![launch on Colab](https://colab.research.google.com/assets/colab-badge.svg)](https://colab.research.google.com/github/open-atmos/PySDM/blob/main/examples/PySDM_examples/Bolin_1958/timescales_comparison.ipynb)"
   ],
   "id": "da62f9aa77468520"
  },
  {
   "metadata": {},
   "cell_type": "markdown",
   "source": [
    "#### Timescales comparison \n",
    "##### Bolin\n",
    "##### Gedzelman"
   ],
   "id": "c7eb55d509c585e9"
  },
  {
   "metadata": {
    "ExecuteTime": {
     "end_time": "2025-01-23T13:20:04.489064Z",
     "start_time": "2025-01-23T13:20:03.089216Z"
    }
   },
   "cell_type": "code",
   "source": [
    "import sys\n",
    "\n",
    "from PySDM.physics.constants_defaults import R_str\n",
    "\n",
    "if 'google.colab' in sys.modules:\n",
    "    !pip --quiet install open-atmos-jupyter-utils\n",
    "    from open_atmos_jupyter_utils import pip_install_on_colab\n",
    "    pip_install_on_colab('PySDM-examples')"
   ],
   "id": "f508348dd491651d",
   "outputs": [],
   "execution_count": 1
  },
  {
   "metadata": {
    "ExecuteTime": {
     "end_time": "2025-01-23T13:20:04.501342Z",
     "start_time": "2025-01-23T13:20:04.496673Z"
    }
   },
   "cell_type": "code",
   "source": [
    "import numpy as np\n",
    "from PySDM.physics import si\n",
    "from PySDM import Formulae\n",
    "from PySDM_examples.Bolin_1958.common import *"
   ],
   "id": "c680144e7ad3b94a",
   "outputs": [],
   "execution_count": 2
  },
  {
   "metadata": {
    "ExecuteTime": {
     "end_time": "2025-01-23T13:20:04.594026Z",
     "start_time": "2025-01-23T13:20:04.592182Z"
    }
   },
   "cell_type": "code",
   "source": "from PySDM.physics import constants_defaults as constants",
   "id": "d7b592d337cfd539",
   "outputs": [],
   "execution_count": 3
  },
  {
   "metadata": {
    "ExecuteTime": {
     "end_time": "2025-01-23T13:20:08.100528Z",
     "start_time": "2025-01-23T13:20:04.604563Z"
    }
   },
   "cell_type": "code",
   "source": [
    "any_non_zero_value = 44.0\n",
    "radii = np.asarray([0.005, 0.01, 0.025, 0.05, 0.075, 0.1, 0.15, 0.20]) * si.cm\n",
    "temperature = Formulae().constants.T0 + 10 * si.K\n",
    "\n",
    "variants = {\n",
    "    'bolin': {\n",
    "        'constants': {\"BOLIN_ISOTOPE_TIMESCALE_COEFF_C1\": 1.63},\n",
    "        'isotope_relaxation_timescale': \"Bolin1958\",\n",
    "    },\n",
    "    'miyake': {\n",
    "        'isotope_relaxation_timescale': \"MiyakeEtAl1968\",\n",
    "    }\n",
    "}\n",
    "\n",
    "adjustment_time = {}\n",
    "for variant, kwargs in variants.items():\n",
    "    formulae = Formulae(\n",
    "        terminal_velocity=\"RogersYau\",\n",
    "        drop_growth=\"Mason1951\",\n",
    "        diffusion_thermics=\"Neglect\",\n",
    "        saturation_vapour_pressure=\"AugustRocheMagnus\",\n",
    "        ventilation=\"Froessling1938\",\n",
    "        particle_shape_and_density=\"LiquidSpheres\",\n",
    "        air_dynamic_viscosity=\"ZografosEtAl1987\",\n",
    "        **kwargs,\n",
    "    )\n",
    "    v_term = formulae.terminal_velocity.v_term(radii)\n",
    "    r_dr_dt = r_dr_dt_fun(v_term=v_term, radii=radii, temperature=temperature, formulae=formulae, K=any_non_zero_value)\n",
    "    adjustment_time[variant] = formulae.isotope_relaxation_timescale.tau_of_rdrdt(\n",
    "        radius = radii,\n",
    "        r_dr_dt = r_dr_dt(RH=0, RH_eq=1, lv=0),\n",
    "        alpha=1\n",
    "    )"
   ],
   "id": "c5b65e0aa78917e9",
   "outputs": [],
   "execution_count": 4
  },
  {
   "metadata": {
    "ExecuteTime": {
     "end_time": "2025-01-23T13:20:14.238370Z",
     "start_time": "2025-01-23T13:20:14.225719Z"
    }
   },
   "cell_type": "code",
   "source": "adjustment_time",
   "id": "2c00df07bb9ed47b",
   "outputs": [
    {
     "data": {
      "text/plain": [
       "{'bolin': array([  1.72419512,   5.36745707,  20.1452855 ,  48.3736625 ,\n",
       "         80.67515855, 119.02306085, 204.18823681, 297.99430427]),\n",
       " 'miyake': array([  2.81043805,   8.74895503,  32.83681537,  78.84906987,\n",
       "        131.50050844, 194.00758919, 332.82682601, 485.73071595])}"
      ]
     },
     "execution_count": 5,
     "metadata": {},
     "output_type": "execute_result"
    }
   ],
   "execution_count": 5
  },
  {
   "metadata": {
    "ExecuteTime": {
     "end_time": "2025-01-23T13:05:51.277469Z",
     "start_time": "2025-01-23T13:05:51.267598Z"
    }
   },
   "cell_type": "code",
   "source": "K = formulae.diffusion_thermics.K(T = temperature, p = pressure)",
   "id": "b41071723ec843b7",
   "outputs": [
    {
     "ename": "NameError",
     "evalue": "name 'pressure' is not defined",
     "output_type": "error",
     "traceback": [
      "\u001B[0;31m---------------------------------------------------------------------------\u001B[0m",
      "\u001B[0;31mNameError\u001B[0m                                 Traceback (most recent call last)",
      "Cell \u001B[0;32mIn[5], line 1\u001B[0m\n\u001B[0;32m----> 1\u001B[0m K \u001B[38;5;241m=\u001B[39m formulae\u001B[38;5;241m.\u001B[39mdiffusion_thermics\u001B[38;5;241m.\u001B[39mK(T \u001B[38;5;241m=\u001B[39m temperature, p \u001B[38;5;241m=\u001B[39m \u001B[43mpressure\u001B[49m)\n",
      "\u001B[0;31mNameError\u001B[0m: name 'pressure' is not defined"
     ]
    }
   ],
   "execution_count": 5
  },
  {
   "metadata": {
    "ExecuteTime": {
     "end_time": "2025-01-23T13:03:41.789129Z",
     "start_time": "2025-01-09T15:26:18.004125Z"
    }
   },
   "cell_type": "code",
   "source": [
    "M = 1\n",
    "S = 0.5\n",
    "b = pvs * D * formulae.latent_heat.lv(temperature) * M / constants.R_str / K / temperature**2"
   ],
   "id": "376aa5a3e647dca8",
   "outputs": [],
   "execution_count": 14
  },
  {
   "metadata": {
    "ExecuteTime": {
     "end_time": "2025-01-23T13:03:41.789193Z",
     "start_time": "2025-01-09T15:26:20.894588Z"
    }
   },
   "cell_type": "code",
   "source": "tau = -4 * np.pi * radii * D * F * pvs * (S - 1)/(1 + b)",
   "id": "66b599e2475f5b73",
   "outputs": [],
   "execution_count": 15
  },
  {
   "metadata": {
    "ExecuteTime": {
     "end_time": "2025-01-20T21:44:47.446834Z",
     "start_time": "2025-01-09T15:26:25.449685Z"
    }
   },
   "cell_type": "code",
   "source": "tau",
   "id": "53edb54ed337d98b",
   "outputs": [
    {
     "data": {
      "text/plain": [
       "array([2.30168123e-06, 5.91497611e-06, 2.46245427e-05, 8.20394268e-05,\n",
       "       1.66021960e-04, 2.66741421e-04, 5.24764724e-04, 8.52321804e-04])"
      ]
     },
     "execution_count": 16,
     "metadata": {},
     "output_type": "execute_result"
    }
   ],
   "execution_count": 16
  },
  {
   "metadata": {},
   "cell_type": "code",
   "outputs": [],
   "execution_count": null,
   "source": "",
   "id": "6c78cdc343d5f311"
  }
 ],
 "metadata": {
  "kernelspec": {
   "display_name": "Python 3",
   "language": "python",
   "name": "python3"
  },
  "language_info": {
   "codemirror_mode": {
    "name": "ipython",
    "version": 2
   },
   "file_extension": ".py",
   "mimetype": "text/x-python",
   "name": "python",
   "nbconvert_exporter": "python",
   "pygments_lexer": "ipython2",
   "version": "2.7.6"
  }
 },
 "nbformat": 4,
 "nbformat_minor": 5
}
