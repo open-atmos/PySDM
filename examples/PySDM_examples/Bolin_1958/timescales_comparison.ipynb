{
 "cells": [
  {
   "cell_type": "markdown",
   "id": "da62f9aa77468520",
   "metadata": {},
   "source": [
    "[![preview notebook](https://img.shields.io/static/v1?label=render%20on&logo=github&color=87ce3e&message=GitHub)](https://github.com/open-atmos/PySDM/blob/main/examples/PySDM_examples/Bolin_1958/timescales_comparison.ipynb)\n",
    "[![launch on mybinder.org](https://mybinder.org/badge_logo.svg)](https://mybinder.org/v2/gh/open-atmos/PySDM.git/main?urlpath=lab/tree/examples/PySDM_examples/Bolin_1958/timescales_comparison.ipynb)\n",
    "[![launch on Colab](https://colab.research.google.com/assets/colab-badge.svg)](https://colab.research.google.com/github/open-atmos/PySDM/blob/main/examples/PySDM_examples/Bolin_1958/timescales_comparison.ipynb)"
   ]
  },
  {
   "cell_type": "markdown",
   "id": "c7eb55d509c585e9",
   "metadata": {},
   "source": [
    "#### Timescales comparison \n",
    "##### Bolin\n",
    "##### Gedzelman\n",
    "- TODO urls\n",
    "- TODO alpha?"
   ]
  },
  {
   "cell_type": "code",
   "id": "f508348dd491651d",
   "metadata": {
    "ExecuteTime": {
     "end_time": "2025-03-14T10:53:35.990745Z",
     "start_time": "2025-03-14T10:53:35.983868Z"
    }
   },
   "source": [
    "import sys\n",
    "if 'google.colab' in sys.modules:\n",
    "    !pip --quiet install open-atmos-jupyter-utils\n",
    "    from open_atmos_jupyter_utils import pip_install_on_colab\n",
    "    pip_install_on_colab('PySDM-examples')"
   ],
   "outputs": [],
   "execution_count": 145
  },
  {
   "cell_type": "code",
   "id": "c680144e7ad3b94a",
   "metadata": {
    "ExecuteTime": {
     "end_time": "2025-03-14T10:53:36.003583Z",
     "start_time": "2025-03-14T10:53:36.001248Z"
    }
   },
   "source": [
    "import numpy as np\n",
    "from PySDM.physics import si, in_unit\n",
    "from PySDM import Formulae\n",
    "from PySDM_examples.Bolin_1958.common import IsotopeTimescale\n",
    "from open_atmos_jupyter_utils import show_plot\n",
    "import pandas as pd\n",
    "import matplotlib.pyplot as plt"
   ],
   "outputs": [],
   "execution_count": 146
  },
  {
   "metadata": {
    "ExecuteTime": {
     "end_time": "2025-03-14T10:53:36.019684Z",
     "start_time": "2025-03-14T10:53:36.017111Z"
    }
   },
   "cell_type": "code",
   "source": [
    "def e_fold_timescale(it, isotope, temperature, radii, RH, R_vap, alpha):\n",
    "    c1_coeff = it.c1(\n",
    "        isotope=isotope,\n",
    "        R_vap=R_vap, \n",
    "        RH=RH,\n",
    "        pv_iso=1,\n",
    "        pv_water=1,\n",
    "        alpha=R_liq/R_vap,\n",
    "    )\n",
    "    return it.formulae.isotope_relaxation_timescale.tau_of_rdrdt_c1(\n",
    "        radius = radii,\n",
    "        r_dr_dt = it.r_dr_dt(RH=RH, RH_eq=1, lv=0),\n",
    "        c1_coeff = c1_coeff\n",
    "    )\n",
    "    "
   ],
   "id": "7f1b9ff44452ad5f",
   "outputs": [],
   "execution_count": 147
  },
  {
   "cell_type": "code",
   "id": "14eb5ccfadb724b4",
   "metadata": {
    "ExecuteTime": {
     "end_time": "2025-03-14T10:53:36.031509Z",
     "start_time": "2025-03-14T10:53:36.026313Z"
    }
   },
   "source": [
    "any_non_zero_value = 44.0\n",
    "radii = np.asarray([0.005, 0.01, 0.025, 0.05, 0.075, 0.1, 0.15, 0.20]) * si.cm\n",
    "temperature = Formulae().constants.T0 + 10 * si.K\n",
    "R_vap = 0.75\n",
    "settings = {\n",
    "    \"terminal_velocity\":\"RogersYau\",\n",
    "    \"drop_growth\":\"Mason1951\",\n",
    "    \"diffusion_thermics\":\"Neglect\",\n",
    "    \"saturation_vapour_pressure\":\"AugustRocheMagnus\",\n",
    "    \"ventilation\":\"Froessling1938\",\n",
    "    \"particle_shape_and_density\":\"LiquidSpheres\",\n",
    "    \"air_dynamic_viscosity\":\"ZografosEtAl1987\",\n",
    "    \"isotope_equilibrium_fractionation_factors\":\"VanHook1968\",\n",
    "    \"isotope_diffusivity_ratios\":\"GrahamsLaw\"\n",
    "}\n",
    "\n",
    "variants = {\n",
    "    'bolin_c1': {\n",
    "        'constants': {\"BOLIN_ISOTOPE_TIMESCALE_COEFF_C1\": 1.63},\n",
    "        'isotope_relaxation_timescale': \"Bolin1958\",\n",
    "    },\n",
    "    'miyake': {\n",
    "        'isotope_relaxation_timescale': \"MiyakeEtAl1968\",\n",
    "    },\n",
    "    'zaba_and_arabas': {\n",
    "        'isotope_relaxation_timescale': \"ZabaAndArabas2025\",\n",
    "    }\n",
    "}\n",
    "\n",
    "adjustment_time = {}"
   ],
   "outputs": [],
   "execution_count": 148
  },
  {
   "metadata": {},
   "cell_type": "markdown",
   "source": "## Miyake",
   "id": "667b115396145d14"
  },
  {
   "cell_type": "code",
   "id": "c5b65e0aa78917e9",
   "metadata": {
    "ExecuteTime": {
     "end_time": "2025-03-14T10:53:36.039902Z",
     "start_time": "2025-03-14T10:53:36.036837Z"
    }
   },
   "source": [
    "iso_func = IsotopeTimescale(settings={**settings, **variants['miyake']}, temperature=temperature, radii=radii)\n",
    "R_liq =  1\n",
    "adjustment_time['miyake'] = iso_func.formulae.isotope_relaxation_timescale.tau_of_rdrdt(\n",
    "    radius = radii,\n",
    "    r_dr_dt = iso_func.r_dr_dt(RH=0, RH_eq=1, lv=0),\n",
    "    alpha= 1#/0.75#R_liq/R_vap\n",
    ")"
   ],
   "outputs": [],
   "execution_count": 149
  },
  {
   "cell_type": "markdown",
   "id": "bbbe4fe40c27d3da",
   "metadata": {},
   "source": "## Bolin - check his c1 value"
  },
  {
   "cell_type": "code",
   "id": "d24be9aa792c4c95",
   "metadata": {
    "ExecuteTime": {
     "end_time": "2025-03-14T10:53:36.050340Z",
     "start_time": "2025-03-14T10:53:36.046229Z"
    }
   },
   "source": [
    "iso_func = IsotopeTimescale(settings={**settings, **variants['bolin_c1']}, temperature=temperature, radii=radii)\n",
    "rh = 0.46 #arbitrary?\n",
    "vent_coeff = iso_func.vent_coeff_fun()\n",
    "c1_coeff = iso_func.formulae.isotope_relaxation_timescale.c1_coeff(   \n",
    "    RH = rh,\n",
    "    R_vap = R_vap,\n",
    "    \n",
    ")\n",
    "print(f\"c1 = {c1_coeff:.2f},\\nBolin = {iso_func.formulae.constants.BOLIN_ISOTOPE_TIMESCALE_COEFF_C1}\")\n",
    "adjustment_time['bolin'] = iso_func.formulae.isotope_relaxation_timescale.tau_of_rdrdt_c1(\n",
    "    radius = radii,\n",
    "    r_dr_dt = iso_func.r_dr_dt(RH=rh, RH_eq=1, lv=0),\n",
    "    c1_coeff = c1_coeff\n",
    ")"
   ],
   "outputs": [
    {
     "name": "stdout",
     "output_type": "stream",
     "text": [
      "c1 = 1.63,\n",
      "Bolin = 1.63\n"
     ]
    }
   ],
   "execution_count": 150
  },
  {
   "metadata": {},
   "cell_type": "markdown",
   "source": "# Zaba and Arabas\n",
   "id": "6fa86cae8a5bc62c"
  },
  {
   "metadata": {
    "ExecuteTime": {
     "end_time": "2025-03-14T10:53:36.071655Z",
     "start_time": "2025-03-14T10:53:36.067614Z"
    }
   },
   "cell_type": "code",
   "source": [
    "it_zaba = IsotopeTimescale(settings={**settings, **variants['zaba_and_arabas']}, temperature=temperature, radii=radii)\n",
    "rh = 0\n",
    "R_vap = 0.75\n",
    "isotope = '3H'\n",
    "D_isotope = getattr(it_zaba.formulae.isotope_diffusivity_ratios, f\"ratio_{isotope}\")(temperature)  * it_zaba.D\n",
    "adjustment_time['zaba_and_arabas'] = it_zaba.formulae.isotope_relaxation_timescale.tau(\n",
    "    it_zaba.formulae.constants,\n",
    "    radius=radii,\n",
    "    alpha_env=getattr(it_zaba.formulae.isotope_equilibrium_fractionation_factors, f\"alpha_l_{isotope}\")(temperature),\n",
    "    D_iso=it_zaba.D,\n",
    "    vent_coeff_iso=it_zaba.vent_coeff_fun(),\n",
    "    k_coeff_iso=1,\n",
    "    e_s =it_zaba.formulae.saturation_vapour_pressure.pvs_water(temperature),\n",
    "    saturation=rh,\n",
    "    R_vap_env=1,\n",
    "    temperature=temperature,\n",
    "    M_iso=it_zaba.formulae.constants.Mv#getattr(it_zaba.formulae.constants, f\"M_{isotope}\"),\n",
    ")"
   ],
   "id": "fea97cba57cc3626",
   "outputs": [],
   "execution_count": 151
  },
  {
   "metadata": {},
   "cell_type": "markdown",
   "source": "Rh = 0.9",
   "id": "1fcb3fa6dd571f29"
  },
  {
   "metadata": {
    "ExecuteTime": {
     "end_time": "2025-03-14T10:56:46.284988Z",
     "start_time": "2025-03-14T10:56:46.270736Z"
    }
   },
   "cell_type": "code",
   "source": [
    "it_zaba = IsotopeTimescale(settings={**settings, **variants['zaba_and_arabas']}, temperature=temperature, radii=radii)\n",
    "rh = 0.85\n",
    "R_vap = 0.75\n",
    "isotope = '3H'\n",
    "D_isotope = getattr(it_zaba.formulae.isotope_diffusivity_ratios, f\"ratio_{isotope}\")(temperature)  * it_zaba.D\n",
    "adjustment_time['zaba_and_arabas_rh0.85'] = it_zaba.formulae.isotope_relaxation_timescale.tau(\n",
    "    it_zaba.formulae.constants,\n",
    "    radius=radii,\n",
    "    alpha_env=getattr(it_zaba.formulae.isotope_equilibrium_fractionation_factors, f\"alpha_l_{isotope}\")(temperature),\n",
    "    D_iso=it_zaba.D,\n",
    "    vent_coeff_iso=it_zaba.vent_coeff_fun(),\n",
    "    k_coeff_iso=1,\n",
    "    e_s =it_zaba.formulae.saturation_vapour_pressure.pvs_water(temperature),\n",
    "    saturation=rh,\n",
    "    R_vap_env=1,\n",
    "    temperature=temperature,\n",
    "    M_iso=it_zaba.formulae.constants.Mv#getattr(it_zaba.formulae.constants, f\"M_{isotope}\"),\n",
    ")"
   ],
   "id": "ee15ff535781d639",
   "outputs": [],
   "execution_count": 169
  },
  {
   "metadata": {
    "ExecuteTime": {
     "end_time": "2025-03-14T10:53:36.094268Z",
     "start_time": "2025-03-14T10:53:36.090134Z"
    }
   },
   "cell_type": "code",
   "source": [
    "it_zaba = IsotopeTimescale(settings={**settings, **variants['zaba_and_arabas']}, temperature=temperature, radii=radii)\n",
    "rh = 0\n",
    "R_vap = 0.75\n",
    "isotope = '2H'\n",
    "D_isotope = getattr(it_zaba.formulae.isotope_diffusivity_ratios, f\"ratio_{isotope}\")(temperature)  * it_zaba.D\n",
    "adjustment_time['zaba_and_arabas_2'] = it_zaba.formulae.isotope_relaxation_timescale.tau(\n",
    "    it_zaba.formulae.constants,\n",
    "    radius=radii,\n",
    "    alpha_env=getattr(it_zaba.formulae.isotope_equilibrium_fractionation_factors, f\"alpha_l_{isotope}\")(temperature),\n",
    "    D_iso=it_zaba.D,\n",
    "    vent_coeff_iso=it_zaba.vent_coeff_fun(),\n",
    "    k_coeff_iso=1,\n",
    "    e_s =it_zaba.formulae.saturation_vapour_pressure.pvs_water(temperature),\n",
    "    saturation=rh,\n",
    "    R_vap_env=1,\n",
    "    temperature=temperature,\n",
    "    M_iso=it_zaba.formulae.constants.Mv#getattr(it_zaba.formulae.constants, f\"M_{isotope}\"),\n",
    ")"
   ],
   "id": "abeb565cbc1c5d78",
   "outputs": [],
   "execution_count": 153
  },
  {
   "cell_type": "markdown",
   "id": "a9f84676e11de4e8",
   "metadata": {},
   "source": "## Bolin without RH = 0 assumption"
  },
  {
   "metadata": {
    "ExecuteTime": {
     "end_time": "2025-03-14T10:53:36.110722Z",
     "start_time": "2025-03-14T10:53:36.107562Z"
    }
   },
   "cell_type": "code",
   "source": [
    "RH = 0.9\n",
    "c1_coeff = iso_func.c1(\n",
    "    isotope=\"3H\",\n",
    "    R_vap=R_vap, \n",
    "    RH=RH,\n",
    "    pv_iso=1,\n",
    "    pv_water=1,\n",
    "    alpha=R_liq/R_vap,\n",
    ")\n",
    "print(f\"c1 = {c1_coeff[0]:.2f}\")\n",
    "adjustment_time[f'RH={RH}'] = iso_func.formulae.isotope_relaxation_timescale.tau_of_rdrdt_c1(\n",
    "    radius = radii,\n",
    "    r_dr_dt = iso_func.r_dr_dt(RH=RH, RH_eq=1, lv=0),\n",
    "    c1_coeff = c1_coeff\n",
    ")"
   ],
   "id": "61522ba3fa75e36a",
   "outputs": [
    {
     "name": "stdout",
     "output_type": "stream",
     "text": [
      "c1 = 3.93\n"
     ]
    }
   ],
   "execution_count": 154
  },
  {
   "metadata": {
    "ExecuteTime": {
     "end_time": "2025-03-14T10:53:36.124871Z",
     "start_time": "2025-03-14T10:53:36.122493Z"
    }
   },
   "cell_type": "code",
   "source": [
    "isotopes = (\"3H\", \"2H\")\n",
    "R_vap = 0.75\n",
    "R_liq = 1 \n",
    "rh_all = np.linspace(0,0.9, 6)\n",
    "\n",
    "for isotope in isotopes:\n",
    "    for rh in rh_all:\n",
    "        c1_coeff = iso_func.c1(\n",
    "            isotope=isotope,\n",
    "            R_vap=R_vap, \n",
    "            RH=rh,\n",
    "            pv_iso=1,\n",
    "            pv_water=1,\n",
    "            alpha=R_liq/R_vap,\n",
    "        )\n",
    "        adjustment_time[f'isotope={isotope}, rh={rh:.3g}'] = iso_func.formulae.isotope_relaxation_timescale.tau_of_rdrdt_c1(\n",
    "            radius = iso_func.radii,\n",
    "            r_dr_dt = iso_func.r_dr_dt(RH=rh, RH_eq=1, lv=0),\n",
    "            c1_coeff = c1_coeff\n",
    "        )"
   ],
   "id": "1393d1c46fe939e5",
   "outputs": [],
   "execution_count": 155
  },
  {
   "metadata": {},
   "cell_type": "markdown",
   "source": [
    "--- \n",
    "## Bolin's Table 1."
   ],
   "id": "b2cce2a0cc8665c4"
  },
  {
   "metadata": {
    "ExecuteTime": {
     "end_time": "2025-03-14T10:53:36.134497Z",
     "start_time": "2025-03-14T10:53:36.132813Z"
    }
   },
   "cell_type": "code",
   "source": [
    "adjustment_time_bolin = np.asarray((3.3, 7.1, 33.0, 93.0, 165.0, 245.0, 365.0, 435.0)) * si.s\n",
    "terminal_velocity = np.asarray((0.27, 0.72, 2.1, 4.0, 5.4, 6.5, 8.1, 8.8)) * si.m / si.s\n",
    "distance = np.asarray((0.9, 5.1, 69.0, 370.0, 890.0, 1600.0, 3000.0, 3800.0)) * si.m"
   ],
   "id": "ca8953f43f8ae7d3",
   "outputs": [],
   "execution_count": 156
  },
  {
   "metadata": {
    "ExecuteTime": {
     "end_time": "2025-03-14T10:53:36.146269Z",
     "start_time": "2025-03-14T10:53:36.141607Z"
    }
   },
   "cell_type": "code",
   "source": [
    "bolin_table_1 = pd.DataFrame({\n",
    "    'Radius [cm]': in_unit(radii, si.cm),\n",
    "    'Adjustment time [s]': adjustment_time_bolin,\n",
    "    'Terminal velocity [m/s]': terminal_velocity,\n",
    "    'Distance [m]': distance,\n",
    "})\n",
    "bolin_table_1"
   ],
   "id": "5c69060b4bb798f3",
   "outputs": [
    {
     "data": {
      "text/plain": [
       "   Radius [cm]  Adjustment time [s]  Terminal velocity [m/s]  Distance [m]\n",
       "0        0.005                  3.3                     0.27           0.9\n",
       "1        0.010                  7.1                     0.72           5.1\n",
       "2        0.025                 33.0                     2.10          69.0\n",
       "3        0.050                 93.0                     4.00         370.0\n",
       "4        0.075                165.0                     5.40         890.0\n",
       "5        0.100                245.0                     6.50        1600.0\n",
       "6        0.150                365.0                     8.10        3000.0\n",
       "7        0.200                435.0                     8.80        3800.0"
      ],
      "text/html": [
       "<div>\n",
       "<style scoped>\n",
       "    .dataframe tbody tr th:only-of-type {\n",
       "        vertical-align: middle;\n",
       "    }\n",
       "\n",
       "    .dataframe tbody tr th {\n",
       "        vertical-align: top;\n",
       "    }\n",
       "\n",
       "    .dataframe thead th {\n",
       "        text-align: right;\n",
       "    }\n",
       "</style>\n",
       "<table border=\"1\" class=\"dataframe\">\n",
       "  <thead>\n",
       "    <tr style=\"text-align: right;\">\n",
       "      <th></th>\n",
       "      <th>Radius [cm]</th>\n",
       "      <th>Adjustment time [s]</th>\n",
       "      <th>Terminal velocity [m/s]</th>\n",
       "      <th>Distance [m]</th>\n",
       "    </tr>\n",
       "  </thead>\n",
       "  <tbody>\n",
       "    <tr>\n",
       "      <th>0</th>\n",
       "      <td>0.005</td>\n",
       "      <td>3.3</td>\n",
       "      <td>0.27</td>\n",
       "      <td>0.9</td>\n",
       "    </tr>\n",
       "    <tr>\n",
       "      <th>1</th>\n",
       "      <td>0.010</td>\n",
       "      <td>7.1</td>\n",
       "      <td>0.72</td>\n",
       "      <td>5.1</td>\n",
       "    </tr>\n",
       "    <tr>\n",
       "      <th>2</th>\n",
       "      <td>0.025</td>\n",
       "      <td>33.0</td>\n",
       "      <td>2.10</td>\n",
       "      <td>69.0</td>\n",
       "    </tr>\n",
       "    <tr>\n",
       "      <th>3</th>\n",
       "      <td>0.050</td>\n",
       "      <td>93.0</td>\n",
       "      <td>4.00</td>\n",
       "      <td>370.0</td>\n",
       "    </tr>\n",
       "    <tr>\n",
       "      <th>4</th>\n",
       "      <td>0.075</td>\n",
       "      <td>165.0</td>\n",
       "      <td>5.40</td>\n",
       "      <td>890.0</td>\n",
       "    </tr>\n",
       "    <tr>\n",
       "      <th>5</th>\n",
       "      <td>0.100</td>\n",
       "      <td>245.0</td>\n",
       "      <td>6.50</td>\n",
       "      <td>1600.0</td>\n",
       "    </tr>\n",
       "    <tr>\n",
       "      <th>6</th>\n",
       "      <td>0.150</td>\n",
       "      <td>365.0</td>\n",
       "      <td>8.10</td>\n",
       "      <td>3000.0</td>\n",
       "    </tr>\n",
       "    <tr>\n",
       "      <th>7</th>\n",
       "      <td>0.200</td>\n",
       "      <td>435.0</td>\n",
       "      <td>8.80</td>\n",
       "      <td>3800.0</td>\n",
       "    </tr>\n",
       "  </tbody>\n",
       "</table>\n",
       "</div>"
      ]
     },
     "execution_count": 157,
     "metadata": {},
     "output_type": "execute_result"
    }
   ],
   "execution_count": 157
  },
  {
   "cell_type": "code",
   "id": "4d5bd85973a6f574",
   "metadata": {
    "ExecuteTime": {
     "end_time": "2025-03-14T10:53:36.177322Z",
     "start_time": "2025-03-14T10:53:36.175074Z"
    }
   },
   "source": [
    "adjustment_time_frame = pd.DataFrame({\n",
    "    'Radius [cm]' : in_unit(radii, si.cm),\n",
    "    'Miyake' : adjustment_time['miyake'],\n",
    "    #'RH_env=0.9': adjustment_time['RH=0.9'],\n",
    "    'Zaba & Arabas': adjustment_time['zaba_and_arabas'],\n",
    "    #'Z&A RH=0.9': adjustment_time['zaba_and_arabas_rh0.9'],\n",
    "    'Z&A 2H': adjustment_time['zaba_and_arabas_2'],\n",
    "})\n",
    "for rh in rh_all:\n",
    "    #adjustment_time_frame[f\"RH_env={rh}_2H\"] = adjustment_time[f'isotope=2H, rh={rh:.3g}']\n",
    "    #adjustment_time_frame[f\"RH_env={rh}_3H\"] = adjustment_time[f'isotope=3H, rh={rh:.3g}']\n",
    "    continue"
   ],
   "outputs": [],
   "execution_count": 158
  },
  {
   "cell_type": "code",
   "id": "52ad83d048dd7bbc",
   "metadata": {
    "ExecuteTime": {
     "end_time": "2025-03-14T10:53:36.374068Z",
     "start_time": "2025-03-14T10:53:36.210651Z"
    }
   },
   "source": [
    "fig, ax = plt.subplots()\n",
    "for variant, time in adjustment_time_frame.items():\n",
    "    if variant != 'Radius [cm]':\n",
    "        ax.plot(in_unit(radii, si.cm), time * si.s, label=variant)\n",
    "ax.scatter(in_unit(radii, si.cm), bolin_table_1['Adjustment time [s]'], color='k')\n",
    "ax.set_title(f'Isotopic relaxation timescale comparison ')\n",
    "ax.set_xlabel('Radius [cm]')\n",
    "ax.set_ylabel('Time [s]')\n",
    "ax.legend()\n",
    "show_plot('timescales_comparison.pdf')"
   ],
   "outputs": [
    {
     "data": {
      "text/plain": [
       "<Figure size 640x480 with 1 Axes>"
      ],
      "image/svg+xml": "<?xml version=\"1.0\" encoding=\"utf-8\" standalone=\"no\"?>\n<!DOCTYPE svg PUBLIC \"-//W3C//DTD SVG 1.1//EN\"\n  \"http://www.w3.org/Graphics/SVG/1.1/DTD/svg11.dtd\">\n<svg xmlns:xlink=\"http://www.w3.org/1999/xlink\" width=\"411.285625pt\" height=\"325.986375pt\" viewBox=\"0 0 411.285625 325.986375\" xmlns=\"http://www.w3.org/2000/svg\" version=\"1.1\">\n <metadata>\n  <rdf:RDF xmlns:dc=\"http://purl.org/dc/elements/1.1/\" xmlns:cc=\"http://creativecommons.org/ns#\" xmlns:rdf=\"http://www.w3.org/1999/02/22-rdf-syntax-ns#\">\n   <cc:Work>\n    <dc:type rdf:resource=\"http://purl.org/dc/dcmitype/StillImage\"/>\n    <dc:date>2025-03-14T11:53:36.355932</dc:date>\n    <dc:format>image/svg+xml</dc:format>\n    <dc:creator>\n     <cc:Agent>\n      <dc:title>Matplotlib v3.10.0, https://matplotlib.org/</dc:title>\n     </cc:Agent>\n    </dc:creator>\n   </cc:Work>\n  </rdf:RDF>\n </metadata>\n <defs>\n  <style type=\"text/css\">*{stroke-linejoin: round; stroke-linecap: butt}</style>\n </defs>\n <g id=\"figure_1\">\n  <g id=\"patch_1\">\n   <path d=\"M 0 325.986375 \nL 411.285625 325.986375 \nL 411.285625 0 \nL 0 0 \nz\n\" style=\"fill: #ffffff\"/>\n  </g>\n  <g id=\"axes_1\">\n   <g id=\"patch_2\">\n    <path d=\"M 46.965625 288.430125 \nL 404.085625 288.430125 \nL 404.085625 22.318125 \nL 46.965625 22.318125 \nz\n\" style=\"fill: #ffffff\"/>\n   </g>\n   <g id=\"PathCollection_1\">\n    <defs>\n     <path id=\"m43e080afe5\" d=\"M 0 3 \nC 0.795609 3 1.55874 2.683901 2.12132 2.12132 \nC 2.683901 1.55874 3 0.795609 3 0 \nC 3 -0.795609 2.683901 -1.55874 2.12132 -2.12132 \nC 1.55874 -2.683901 0.795609 -3 0 -3 \nC -0.795609 -3 -1.55874 -2.683901 -2.12132 -2.12132 \nC -2.683901 -1.55874 -3 -0.795609 -3 0 \nC -3 0.795609 -2.683901 1.55874 -2.12132 2.12132 \nC -1.55874 2.683901 -0.795609 3 0 3 \nz\n\" style=\"stroke: #000000\"/>\n    </defs>\n    <g clip-path=\"url(#p1a96f820ff)\">\n     <use xlink:href=\"#m43e080afe5\" x=\"63.198352\" y=\"276.115168\" style=\"stroke: #000000\"/>\n     <use xlink:href=\"#m43e080afe5\" x=\"71.522828\" y=\"274.415618\" style=\"stroke: #000000\"/>\n     <use xlink:href=\"#m43e080afe5\" x=\"96.496254\" y=\"262.831843\" style=\"stroke: #000000\"/>\n     <use xlink:href=\"#m43e080afe5\" x=\"138.118632\" y=\"235.996841\" style=\"stroke: #000000\"/>\n     <use xlink:href=\"#m43e080afe5\" x=\"179.74101\" y=\"203.794839\" style=\"stroke: #000000\"/>\n     <use xlink:href=\"#m43e080afe5\" x=\"221.363387\" y=\"168.014836\" style=\"stroke: #000000\"/>\n     <use xlink:href=\"#m43e080afe5\" x=\"304.608142\" y=\"114.344833\" style=\"stroke: #000000\"/>\n     <use xlink:href=\"#m43e080afe5\" x=\"387.852898\" y=\"83.037331\" style=\"stroke: #000000\"/>\n    </g>\n   </g>\n   <g id=\"matplotlib.axis_1\">\n    <g id=\"xtick_1\">\n     <g id=\"line2d_1\">\n      <defs>\n       <path id=\"mc13bc7aacc\" d=\"M 0 0 \nL 0 3.5 \n\" style=\"stroke: #000000; stroke-width: 0.8\"/>\n      </defs>\n      <g>\n       <use xlink:href=\"#mc13bc7aacc\" x=\"54.873877\" y=\"288.430125\" style=\"stroke: #000000; stroke-width: 0.8\"/>\n      </g>\n     </g>\n     <g id=\"text_1\">\n      <!-- 0.000 -->\n      <g transform=\"translate(40.559814 303.028562) scale(0.1 -0.1)\">\n       <defs>\n        <path id=\"DejaVuSans-30\" d=\"M 2034 4250 \nQ 1547 4250 1301 3770 \nQ 1056 3291 1056 2328 \nQ 1056 1369 1301 889 \nQ 1547 409 2034 409 \nQ 2525 409 2770 889 \nQ 3016 1369 3016 2328 \nQ 3016 3291 2770 3770 \nQ 2525 4250 2034 4250 \nz\nM 2034 4750 \nQ 2819 4750 3233 4129 \nQ 3647 3509 3647 2328 \nQ 3647 1150 3233 529 \nQ 2819 -91 2034 -91 \nQ 1250 -91 836 529 \nQ 422 1150 422 2328 \nQ 422 3509 836 4129 \nQ 1250 4750 2034 4750 \nz\n\" transform=\"scale(0.015625)\"/>\n        <path id=\"DejaVuSans-2e\" d=\"M 684 794 \nL 1344 794 \nL 1344 0 \nL 684 0 \nL 684 794 \nz\n\" transform=\"scale(0.015625)\"/>\n       </defs>\n       <use xlink:href=\"#DejaVuSans-30\"/>\n       <use xlink:href=\"#DejaVuSans-2e\" transform=\"translate(63.623047 0)\"/>\n       <use xlink:href=\"#DejaVuSans-30\" transform=\"translate(95.410156 0)\"/>\n       <use xlink:href=\"#DejaVuSans-30\" transform=\"translate(159.033203 0)\"/>\n       <use xlink:href=\"#DejaVuSans-30\" transform=\"translate(222.65625 0)\"/>\n      </g>\n     </g>\n    </g>\n    <g id=\"xtick_2\">\n     <g id=\"line2d_2\">\n      <g>\n       <use xlink:href=\"#mc13bc7aacc\" x=\"96.496254\" y=\"288.430125\" style=\"stroke: #000000; stroke-width: 0.8\"/>\n      </g>\n     </g>\n     <g id=\"text_2\">\n      <!-- 0.025 -->\n      <g transform=\"translate(82.182192 303.028562) scale(0.1 -0.1)\">\n       <defs>\n        <path id=\"DejaVuSans-32\" d=\"M 1228 531 \nL 3431 531 \nL 3431 0 \nL 469 0 \nL 469 531 \nQ 828 903 1448 1529 \nQ 2069 2156 2228 2338 \nQ 2531 2678 2651 2914 \nQ 2772 3150 2772 3378 \nQ 2772 3750 2511 3984 \nQ 2250 4219 1831 4219 \nQ 1534 4219 1204 4116 \nQ 875 4013 500 3803 \nL 500 4441 \nQ 881 4594 1212 4672 \nQ 1544 4750 1819 4750 \nQ 2544 4750 2975 4387 \nQ 3406 4025 3406 3419 \nQ 3406 3131 3298 2873 \nQ 3191 2616 2906 2266 \nQ 2828 2175 2409 1742 \nQ 1991 1309 1228 531 \nz\n\" transform=\"scale(0.015625)\"/>\n        <path id=\"DejaVuSans-35\" d=\"M 691 4666 \nL 3169 4666 \nL 3169 4134 \nL 1269 4134 \nL 1269 2991 \nQ 1406 3038 1543 3061 \nQ 1681 3084 1819 3084 \nQ 2600 3084 3056 2656 \nQ 3513 2228 3513 1497 \nQ 3513 744 3044 326 \nQ 2575 -91 1722 -91 \nQ 1428 -91 1123 -41 \nQ 819 9 494 109 \nL 494 744 \nQ 775 591 1075 516 \nQ 1375 441 1709 441 \nQ 2250 441 2565 725 \nQ 2881 1009 2881 1497 \nQ 2881 1984 2565 2268 \nQ 2250 2553 1709 2553 \nQ 1456 2553 1204 2497 \nQ 953 2441 691 2322 \nL 691 4666 \nz\n\" transform=\"scale(0.015625)\"/>\n       </defs>\n       <use xlink:href=\"#DejaVuSans-30\"/>\n       <use xlink:href=\"#DejaVuSans-2e\" transform=\"translate(63.623047 0)\"/>\n       <use xlink:href=\"#DejaVuSans-30\" transform=\"translate(95.410156 0)\"/>\n       <use xlink:href=\"#DejaVuSans-32\" transform=\"translate(159.033203 0)\"/>\n       <use xlink:href=\"#DejaVuSans-35\" transform=\"translate(222.65625 0)\"/>\n      </g>\n     </g>\n    </g>\n    <g id=\"xtick_3\">\n     <g id=\"line2d_3\">\n      <g>\n       <use xlink:href=\"#mc13bc7aacc\" x=\"138.118632\" y=\"288.430125\" style=\"stroke: #000000; stroke-width: 0.8\"/>\n      </g>\n     </g>\n     <g id=\"text_3\">\n      <!-- 0.050 -->\n      <g transform=\"translate(123.804569 303.028562) scale(0.1 -0.1)\">\n       <use xlink:href=\"#DejaVuSans-30\"/>\n       <use xlink:href=\"#DejaVuSans-2e\" transform=\"translate(63.623047 0)\"/>\n       <use xlink:href=\"#DejaVuSans-30\" transform=\"translate(95.410156 0)\"/>\n       <use xlink:href=\"#DejaVuSans-35\" transform=\"translate(159.033203 0)\"/>\n       <use xlink:href=\"#DejaVuSans-30\" transform=\"translate(222.65625 0)\"/>\n      </g>\n     </g>\n    </g>\n    <g id=\"xtick_4\">\n     <g id=\"line2d_4\">\n      <g>\n       <use xlink:href=\"#mc13bc7aacc\" x=\"179.74101\" y=\"288.430125\" style=\"stroke: #000000; stroke-width: 0.8\"/>\n      </g>\n     </g>\n     <g id=\"text_4\">\n      <!-- 0.075 -->\n      <g transform=\"translate(165.426947 303.028562) scale(0.1 -0.1)\">\n       <defs>\n        <path id=\"DejaVuSans-37\" d=\"M 525 4666 \nL 3525 4666 \nL 3525 4397 \nL 1831 0 \nL 1172 0 \nL 2766 4134 \nL 525 4134 \nL 525 4666 \nz\n\" transform=\"scale(0.015625)\"/>\n       </defs>\n       <use xlink:href=\"#DejaVuSans-30\"/>\n       <use xlink:href=\"#DejaVuSans-2e\" transform=\"translate(63.623047 0)\"/>\n       <use xlink:href=\"#DejaVuSans-30\" transform=\"translate(95.410156 0)\"/>\n       <use xlink:href=\"#DejaVuSans-37\" transform=\"translate(159.033203 0)\"/>\n       <use xlink:href=\"#DejaVuSans-35\" transform=\"translate(222.65625 0)\"/>\n      </g>\n     </g>\n    </g>\n    <g id=\"xtick_5\">\n     <g id=\"line2d_5\">\n      <g>\n       <use xlink:href=\"#mc13bc7aacc\" x=\"221.363387\" y=\"288.430125\" style=\"stroke: #000000; stroke-width: 0.8\"/>\n      </g>\n     </g>\n     <g id=\"text_5\">\n      <!-- 0.100 -->\n      <g transform=\"translate(207.049325 303.028562) scale(0.1 -0.1)\">\n       <defs>\n        <path id=\"DejaVuSans-31\" d=\"M 794 531 \nL 1825 531 \nL 1825 4091 \nL 703 3866 \nL 703 4441 \nL 1819 4666 \nL 2450 4666 \nL 2450 531 \nL 3481 531 \nL 3481 0 \nL 794 0 \nL 794 531 \nz\n\" transform=\"scale(0.015625)\"/>\n       </defs>\n       <use xlink:href=\"#DejaVuSans-30\"/>\n       <use xlink:href=\"#DejaVuSans-2e\" transform=\"translate(63.623047 0)\"/>\n       <use xlink:href=\"#DejaVuSans-31\" transform=\"translate(95.410156 0)\"/>\n       <use xlink:href=\"#DejaVuSans-30\" transform=\"translate(159.033203 0)\"/>\n       <use xlink:href=\"#DejaVuSans-30\" transform=\"translate(222.65625 0)\"/>\n      </g>\n     </g>\n    </g>\n    <g id=\"xtick_6\">\n     <g id=\"line2d_6\">\n      <g>\n       <use xlink:href=\"#mc13bc7aacc\" x=\"262.985765\" y=\"288.430125\" style=\"stroke: #000000; stroke-width: 0.8\"/>\n      </g>\n     </g>\n     <g id=\"text_6\">\n      <!-- 0.125 -->\n      <g transform=\"translate(248.671702 303.028562) scale(0.1 -0.1)\">\n       <use xlink:href=\"#DejaVuSans-30\"/>\n       <use xlink:href=\"#DejaVuSans-2e\" transform=\"translate(63.623047 0)\"/>\n       <use xlink:href=\"#DejaVuSans-31\" transform=\"translate(95.410156 0)\"/>\n       <use xlink:href=\"#DejaVuSans-32\" transform=\"translate(159.033203 0)\"/>\n       <use xlink:href=\"#DejaVuSans-35\" transform=\"translate(222.65625 0)\"/>\n      </g>\n     </g>\n    </g>\n    <g id=\"xtick_7\">\n     <g id=\"line2d_7\">\n      <g>\n       <use xlink:href=\"#mc13bc7aacc\" x=\"304.608142\" y=\"288.430125\" style=\"stroke: #000000; stroke-width: 0.8\"/>\n      </g>\n     </g>\n     <g id=\"text_7\">\n      <!-- 0.150 -->\n      <g transform=\"translate(290.29408 303.028562) scale(0.1 -0.1)\">\n       <use xlink:href=\"#DejaVuSans-30\"/>\n       <use xlink:href=\"#DejaVuSans-2e\" transform=\"translate(63.623047 0)\"/>\n       <use xlink:href=\"#DejaVuSans-31\" transform=\"translate(95.410156 0)\"/>\n       <use xlink:href=\"#DejaVuSans-35\" transform=\"translate(159.033203 0)\"/>\n       <use xlink:href=\"#DejaVuSans-30\" transform=\"translate(222.65625 0)\"/>\n      </g>\n     </g>\n    </g>\n    <g id=\"xtick_8\">\n     <g id=\"line2d_8\">\n      <g>\n       <use xlink:href=\"#mc13bc7aacc\" x=\"346.23052\" y=\"288.430125\" style=\"stroke: #000000; stroke-width: 0.8\"/>\n      </g>\n     </g>\n     <g id=\"text_8\">\n      <!-- 0.175 -->\n      <g transform=\"translate(331.916458 303.028562) scale(0.1 -0.1)\">\n       <use xlink:href=\"#DejaVuSans-30\"/>\n       <use xlink:href=\"#DejaVuSans-2e\" transform=\"translate(63.623047 0)\"/>\n       <use xlink:href=\"#DejaVuSans-31\" transform=\"translate(95.410156 0)\"/>\n       <use xlink:href=\"#DejaVuSans-37\" transform=\"translate(159.033203 0)\"/>\n       <use xlink:href=\"#DejaVuSans-35\" transform=\"translate(222.65625 0)\"/>\n      </g>\n     </g>\n    </g>\n    <g id=\"xtick_9\">\n     <g id=\"line2d_9\">\n      <g>\n       <use xlink:href=\"#mc13bc7aacc\" x=\"387.852898\" y=\"288.430125\" style=\"stroke: #000000; stroke-width: 0.8\"/>\n      </g>\n     </g>\n     <g id=\"text_9\">\n      <!-- 0.200 -->\n      <g transform=\"translate(373.538835 303.028562) scale(0.1 -0.1)\">\n       <use xlink:href=\"#DejaVuSans-30\"/>\n       <use xlink:href=\"#DejaVuSans-2e\" transform=\"translate(63.623047 0)\"/>\n       <use xlink:href=\"#DejaVuSans-32\" transform=\"translate(95.410156 0)\"/>\n       <use xlink:href=\"#DejaVuSans-30\" transform=\"translate(159.033203 0)\"/>\n       <use xlink:href=\"#DejaVuSans-30\" transform=\"translate(222.65625 0)\"/>\n      </g>\n     </g>\n    </g>\n    <g id=\"text_10\">\n     <!-- Radius [cm] -->\n     <g transform=\"translate(195.652969 316.706687) scale(0.1 -0.1)\">\n      <defs>\n       <path id=\"DejaVuSans-52\" d=\"M 2841 2188 \nQ 3044 2119 3236 1894 \nQ 3428 1669 3622 1275 \nL 4263 0 \nL 3584 0 \nL 2988 1197 \nQ 2756 1666 2539 1819 \nQ 2322 1972 1947 1972 \nL 1259 1972 \nL 1259 0 \nL 628 0 \nL 628 4666 \nL 2053 4666 \nQ 2853 4666 3247 4331 \nQ 3641 3997 3641 3322 \nQ 3641 2881 3436 2590 \nQ 3231 2300 2841 2188 \nz\nM 1259 4147 \nL 1259 2491 \nL 2053 2491 \nQ 2509 2491 2742 2702 \nQ 2975 2913 2975 3322 \nQ 2975 3731 2742 3939 \nQ 2509 4147 2053 4147 \nL 1259 4147 \nz\n\" transform=\"scale(0.015625)\"/>\n       <path id=\"DejaVuSans-61\" d=\"M 2194 1759 \nQ 1497 1759 1228 1600 \nQ 959 1441 959 1056 \nQ 959 750 1161 570 \nQ 1363 391 1709 391 \nQ 2188 391 2477 730 \nQ 2766 1069 2766 1631 \nL 2766 1759 \nL 2194 1759 \nz\nM 3341 1997 \nL 3341 0 \nL 2766 0 \nL 2766 531 \nQ 2569 213 2275 61 \nQ 1981 -91 1556 -91 \nQ 1019 -91 701 211 \nQ 384 513 384 1019 \nQ 384 1609 779 1909 \nQ 1175 2209 1959 2209 \nL 2766 2209 \nL 2766 2266 \nQ 2766 2663 2505 2880 \nQ 2244 3097 1772 3097 \nQ 1472 3097 1187 3025 \nQ 903 2953 641 2809 \nL 641 3341 \nQ 956 3463 1253 3523 \nQ 1550 3584 1831 3584 \nQ 2591 3584 2966 3190 \nQ 3341 2797 3341 1997 \nz\n\" transform=\"scale(0.015625)\"/>\n       <path id=\"DejaVuSans-64\" d=\"M 2906 2969 \nL 2906 4863 \nL 3481 4863 \nL 3481 0 \nL 2906 0 \nL 2906 525 \nQ 2725 213 2448 61 \nQ 2172 -91 1784 -91 \nQ 1150 -91 751 415 \nQ 353 922 353 1747 \nQ 353 2572 751 3078 \nQ 1150 3584 1784 3584 \nQ 2172 3584 2448 3432 \nQ 2725 3281 2906 2969 \nz\nM 947 1747 \nQ 947 1113 1208 752 \nQ 1469 391 1925 391 \nQ 2381 391 2643 752 \nQ 2906 1113 2906 1747 \nQ 2906 2381 2643 2742 \nQ 2381 3103 1925 3103 \nQ 1469 3103 1208 2742 \nQ 947 2381 947 1747 \nz\n\" transform=\"scale(0.015625)\"/>\n       <path id=\"DejaVuSans-69\" d=\"M 603 3500 \nL 1178 3500 \nL 1178 0 \nL 603 0 \nL 603 3500 \nz\nM 603 4863 \nL 1178 4863 \nL 1178 4134 \nL 603 4134 \nL 603 4863 \nz\n\" transform=\"scale(0.015625)\"/>\n       <path id=\"DejaVuSans-75\" d=\"M 544 1381 \nL 544 3500 \nL 1119 3500 \nL 1119 1403 \nQ 1119 906 1312 657 \nQ 1506 409 1894 409 \nQ 2359 409 2629 706 \nQ 2900 1003 2900 1516 \nL 2900 3500 \nL 3475 3500 \nL 3475 0 \nL 2900 0 \nL 2900 538 \nQ 2691 219 2414 64 \nQ 2138 -91 1772 -91 \nQ 1169 -91 856 284 \nQ 544 659 544 1381 \nz\nM 1991 3584 \nL 1991 3584 \nz\n\" transform=\"scale(0.015625)\"/>\n       <path id=\"DejaVuSans-73\" d=\"M 2834 3397 \nL 2834 2853 \nQ 2591 2978 2328 3040 \nQ 2066 3103 1784 3103 \nQ 1356 3103 1142 2972 \nQ 928 2841 928 2578 \nQ 928 2378 1081 2264 \nQ 1234 2150 1697 2047 \nL 1894 2003 \nQ 2506 1872 2764 1633 \nQ 3022 1394 3022 966 \nQ 3022 478 2636 193 \nQ 2250 -91 1575 -91 \nQ 1294 -91 989 -36 \nQ 684 19 347 128 \nL 347 722 \nQ 666 556 975 473 \nQ 1284 391 1588 391 \nQ 1994 391 2212 530 \nQ 2431 669 2431 922 \nQ 2431 1156 2273 1281 \nQ 2116 1406 1581 1522 \nL 1381 1569 \nQ 847 1681 609 1914 \nQ 372 2147 372 2553 \nQ 372 3047 722 3315 \nQ 1072 3584 1716 3584 \nQ 2034 3584 2315 3537 \nQ 2597 3491 2834 3397 \nz\n\" transform=\"scale(0.015625)\"/>\n       <path id=\"DejaVuSans-20\" transform=\"scale(0.015625)\"/>\n       <path id=\"DejaVuSans-5b\" d=\"M 550 4863 \nL 1875 4863 \nL 1875 4416 \nL 1125 4416 \nL 1125 -397 \nL 1875 -397 \nL 1875 -844 \nL 550 -844 \nL 550 4863 \nz\n\" transform=\"scale(0.015625)\"/>\n       <path id=\"DejaVuSans-63\" d=\"M 3122 3366 \nL 3122 2828 \nQ 2878 2963 2633 3030 \nQ 2388 3097 2138 3097 \nQ 1578 3097 1268 2742 \nQ 959 2388 959 1747 \nQ 959 1106 1268 751 \nQ 1578 397 2138 397 \nQ 2388 397 2633 464 \nQ 2878 531 3122 666 \nL 3122 134 \nQ 2881 22 2623 -34 \nQ 2366 -91 2075 -91 \nQ 1284 -91 818 406 \nQ 353 903 353 1747 \nQ 353 2603 823 3093 \nQ 1294 3584 2113 3584 \nQ 2378 3584 2631 3529 \nQ 2884 3475 3122 3366 \nz\n\" transform=\"scale(0.015625)\"/>\n       <path id=\"DejaVuSans-6d\" d=\"M 3328 2828 \nQ 3544 3216 3844 3400 \nQ 4144 3584 4550 3584 \nQ 5097 3584 5394 3201 \nQ 5691 2819 5691 2113 \nL 5691 0 \nL 5113 0 \nL 5113 2094 \nQ 5113 2597 4934 2840 \nQ 4756 3084 4391 3084 \nQ 3944 3084 3684 2787 \nQ 3425 2491 3425 1978 \nL 3425 0 \nL 2847 0 \nL 2847 2094 \nQ 2847 2600 2669 2842 \nQ 2491 3084 2119 3084 \nQ 1678 3084 1418 2786 \nQ 1159 2488 1159 1978 \nL 1159 0 \nL 581 0 \nL 581 3500 \nL 1159 3500 \nL 1159 2956 \nQ 1356 3278 1631 3431 \nQ 1906 3584 2284 3584 \nQ 2666 3584 2933 3390 \nQ 3200 3197 3328 2828 \nz\n\" transform=\"scale(0.015625)\"/>\n       <path id=\"DejaVuSans-5d\" d=\"M 1947 4863 \nL 1947 -844 \nL 622 -844 \nL 622 -397 \nL 1369 -397 \nL 1369 4416 \nL 622 4416 \nL 622 4863 \nL 1947 4863 \nz\n\" transform=\"scale(0.015625)\"/>\n      </defs>\n      <use xlink:href=\"#DejaVuSans-52\"/>\n      <use xlink:href=\"#DejaVuSans-61\" transform=\"translate(67.232422 0)\"/>\n      <use xlink:href=\"#DejaVuSans-64\" transform=\"translate(128.511719 0)\"/>\n      <use xlink:href=\"#DejaVuSans-69\" transform=\"translate(191.988281 0)\"/>\n      <use xlink:href=\"#DejaVuSans-75\" transform=\"translate(219.771484 0)\"/>\n      <use xlink:href=\"#DejaVuSans-73\" transform=\"translate(283.150391 0)\"/>\n      <use xlink:href=\"#DejaVuSans-20\" transform=\"translate(335.25 0)\"/>\n      <use xlink:href=\"#DejaVuSans-5b\" transform=\"translate(367.037109 0)\"/>\n      <use xlink:href=\"#DejaVuSans-63\" transform=\"translate(406.050781 0)\"/>\n      <use xlink:href=\"#DejaVuSans-6d\" transform=\"translate(461.03125 0)\"/>\n      <use xlink:href=\"#DejaVuSans-5d\" transform=\"translate(558.443359 0)\"/>\n     </g>\n    </g>\n   </g>\n   <g id=\"matplotlib.axis_2\">\n    <g id=\"ytick_1\">\n     <g id=\"line2d_10\">\n      <defs>\n       <path id=\"me7d7b12aa3\" d=\"M 0 0 \nL -3.5 0 \n\" style=\"stroke: #000000; stroke-width: 0.8\"/>\n      </defs>\n      <g>\n       <use xlink:href=\"#me7d7b12aa3\" x=\"46.965625\" y=\"277.591094\" style=\"stroke: #000000; stroke-width: 0.8\"/>\n      </g>\n     </g>\n     <g id=\"text_11\">\n      <!-- 0 -->\n      <g transform=\"translate(33.603125 281.390312) scale(0.1 -0.1)\">\n       <use xlink:href=\"#DejaVuSans-30\"/>\n      </g>\n     </g>\n    </g>\n    <g id=\"ytick_2\">\n     <g id=\"line2d_11\">\n      <g>\n       <use xlink:href=\"#me7d7b12aa3\" x=\"46.965625\" y=\"232.866091\" style=\"stroke: #000000; stroke-width: 0.8\"/>\n      </g>\n     </g>\n     <g id=\"text_12\">\n      <!-- 100 -->\n      <g transform=\"translate(20.878125 236.665309) scale(0.1 -0.1)\">\n       <use xlink:href=\"#DejaVuSans-31\"/>\n       <use xlink:href=\"#DejaVuSans-30\" transform=\"translate(63.623047 0)\"/>\n       <use xlink:href=\"#DejaVuSans-30\" transform=\"translate(127.246094 0)\"/>\n      </g>\n     </g>\n    </g>\n    <g id=\"ytick_3\">\n     <g id=\"line2d_12\">\n      <g>\n       <use xlink:href=\"#me7d7b12aa3\" x=\"46.965625\" y=\"188.141088\" style=\"stroke: #000000; stroke-width: 0.8\"/>\n      </g>\n     </g>\n     <g id=\"text_13\">\n      <!-- 200 -->\n      <g transform=\"translate(20.878125 191.940306) scale(0.1 -0.1)\">\n       <use xlink:href=\"#DejaVuSans-32\"/>\n       <use xlink:href=\"#DejaVuSans-30\" transform=\"translate(63.623047 0)\"/>\n       <use xlink:href=\"#DejaVuSans-30\" transform=\"translate(127.246094 0)\"/>\n      </g>\n     </g>\n    </g>\n    <g id=\"ytick_4\">\n     <g id=\"line2d_13\">\n      <g>\n       <use xlink:href=\"#me7d7b12aa3\" x=\"46.965625\" y=\"143.416085\" style=\"stroke: #000000; stroke-width: 0.8\"/>\n      </g>\n     </g>\n     <g id=\"text_14\">\n      <!-- 300 -->\n      <g transform=\"translate(20.878125 147.215303) scale(0.1 -0.1)\">\n       <defs>\n        <path id=\"DejaVuSans-33\" d=\"M 2597 2516 \nQ 3050 2419 3304 2112 \nQ 3559 1806 3559 1356 \nQ 3559 666 3084 287 \nQ 2609 -91 1734 -91 \nQ 1441 -91 1130 -33 \nQ 819 25 488 141 \nL 488 750 \nQ 750 597 1062 519 \nQ 1375 441 1716 441 \nQ 2309 441 2620 675 \nQ 2931 909 2931 1356 \nQ 2931 1769 2642 2001 \nQ 2353 2234 1838 2234 \nL 1294 2234 \nL 1294 2753 \nL 1863 2753 \nQ 2328 2753 2575 2939 \nQ 2822 3125 2822 3475 \nQ 2822 3834 2567 4026 \nQ 2313 4219 1838 4219 \nQ 1578 4219 1281 4162 \nQ 984 4106 628 3988 \nL 628 4550 \nQ 988 4650 1302 4700 \nQ 1616 4750 1894 4750 \nQ 2613 4750 3031 4423 \nQ 3450 4097 3450 3541 \nQ 3450 3153 3228 2886 \nQ 3006 2619 2597 2516 \nz\n\" transform=\"scale(0.015625)\"/>\n       </defs>\n       <use xlink:href=\"#DejaVuSans-33\"/>\n       <use xlink:href=\"#DejaVuSans-30\" transform=\"translate(63.623047 0)\"/>\n       <use xlink:href=\"#DejaVuSans-30\" transform=\"translate(127.246094 0)\"/>\n      </g>\n     </g>\n    </g>\n    <g id=\"ytick_5\">\n     <g id=\"line2d_14\">\n      <g>\n       <use xlink:href=\"#me7d7b12aa3\" x=\"46.965625\" y=\"98.691082\" style=\"stroke: #000000; stroke-width: 0.8\"/>\n      </g>\n     </g>\n     <g id=\"text_15\">\n      <!-- 400 -->\n      <g transform=\"translate(20.878125 102.490301) scale(0.1 -0.1)\">\n       <defs>\n        <path id=\"DejaVuSans-34\" d=\"M 2419 4116 \nL 825 1625 \nL 2419 1625 \nL 2419 4116 \nz\nM 2253 4666 \nL 3047 4666 \nL 3047 1625 \nL 3713 1625 \nL 3713 1100 \nL 3047 1100 \nL 3047 0 \nL 2419 0 \nL 2419 1100 \nL 313 1100 \nL 313 1709 \nL 2253 4666 \nz\n\" transform=\"scale(0.015625)\"/>\n       </defs>\n       <use xlink:href=\"#DejaVuSans-34\"/>\n       <use xlink:href=\"#DejaVuSans-30\" transform=\"translate(63.623047 0)\"/>\n       <use xlink:href=\"#DejaVuSans-30\" transform=\"translate(127.246094 0)\"/>\n      </g>\n     </g>\n    </g>\n    <g id=\"ytick_6\">\n     <g id=\"line2d_15\">\n      <g>\n       <use xlink:href=\"#me7d7b12aa3\" x=\"46.965625\" y=\"53.966079\" style=\"stroke: #000000; stroke-width: 0.8\"/>\n      </g>\n     </g>\n     <g id=\"text_16\">\n      <!-- 500 -->\n      <g transform=\"translate(20.878125 57.765298) scale(0.1 -0.1)\">\n       <use xlink:href=\"#DejaVuSans-35\"/>\n       <use xlink:href=\"#DejaVuSans-30\" transform=\"translate(63.623047 0)\"/>\n       <use xlink:href=\"#DejaVuSans-30\" transform=\"translate(127.246094 0)\"/>\n      </g>\n     </g>\n    </g>\n    <g id=\"text_17\">\n     <!-- Time [s] -->\n     <g transform=\"translate(14.798438 175.703031) rotate(-90) scale(0.1 -0.1)\">\n      <defs>\n       <path id=\"DejaVuSans-54\" d=\"M -19 4666 \nL 3928 4666 \nL 3928 4134 \nL 2272 4134 \nL 2272 0 \nL 1638 0 \nL 1638 4134 \nL -19 4134 \nL -19 4666 \nz\n\" transform=\"scale(0.015625)\"/>\n       <path id=\"DejaVuSans-65\" d=\"M 3597 1894 \nL 3597 1613 \nL 953 1613 \nQ 991 1019 1311 708 \nQ 1631 397 2203 397 \nQ 2534 397 2845 478 \nQ 3156 559 3463 722 \nL 3463 178 \nQ 3153 47 2828 -22 \nQ 2503 -91 2169 -91 \nQ 1331 -91 842 396 \nQ 353 884 353 1716 \nQ 353 2575 817 3079 \nQ 1281 3584 2069 3584 \nQ 2775 3584 3186 3129 \nQ 3597 2675 3597 1894 \nz\nM 3022 2063 \nQ 3016 2534 2758 2815 \nQ 2500 3097 2075 3097 \nQ 1594 3097 1305 2825 \nQ 1016 2553 972 2059 \nL 3022 2063 \nz\n\" transform=\"scale(0.015625)\"/>\n      </defs>\n      <use xlink:href=\"#DejaVuSans-54\"/>\n      <use xlink:href=\"#DejaVuSans-69\" transform=\"translate(57.958984 0)\"/>\n      <use xlink:href=\"#DejaVuSans-6d\" transform=\"translate(85.742188 0)\"/>\n      <use xlink:href=\"#DejaVuSans-65\" transform=\"translate(183.154297 0)\"/>\n      <use xlink:href=\"#DejaVuSans-20\" transform=\"translate(244.677734 0)\"/>\n      <use xlink:href=\"#DejaVuSans-5b\" transform=\"translate(276.464844 0)\"/>\n      <use xlink:href=\"#DejaVuSans-73\" transform=\"translate(315.478516 0)\"/>\n      <use xlink:href=\"#DejaVuSans-5d\" transform=\"translate(367.578125 0)\"/>\n     </g>\n    </g>\n   </g>\n   <g id=\"line2d_16\">\n    <path d=\"M 63.198352 276.334125 \nL 71.522828 273.678123 \nL 96.496254 262.904827 \nL 138.118632 242.325845 \nL 179.74101 218.777487 \nL 221.363387 190.821194 \nL 304.608142 128.734286 \nL 387.852898 60.348017 \n\" clip-path=\"url(#p1a96f820ff)\" style=\"fill: none; stroke: #1f77b4; stroke-width: 1.5; stroke-linecap: square\"/>\n   </g>\n   <g id=\"line2d_17\">\n    <path d=\"M 63.198352 276.184071 \nL 71.522828 273.211003 \nL 96.496254 261.15162 \nL 138.118632 238.115975 \nL 179.74101 211.756478 \nL 221.363387 180.462837 \nL 304.608142 110.964162 \nL 387.852898 34.414125 \n\" clip-path=\"url(#p1a96f820ff)\" style=\"fill: none; stroke: #ff7f0e; stroke-width: 1.5; stroke-linecap: square\"/>\n   </g>\n   <g id=\"line2d_18\">\n    <path d=\"M 63.198352 276.217664 \nL 71.522828 273.315577 \nL 96.496254 261.544109 \nL 138.118632 239.058434 \nL 179.74101 213.328264 \nL 221.363387 182.781752 \nL 304.608142 114.942342 \nL 387.852898 40.21992 \n\" clip-path=\"url(#p1a96f820ff)\" style=\"fill: none; stroke: #2ca02c; stroke-width: 1.5; stroke-linecap: square\"/>\n   </g>\n   <g id=\"patch_3\">\n    <path d=\"M 46.965625 288.430125 \nL 46.965625 22.318125 \n\" style=\"fill: none; stroke: #000000; stroke-width: 0.8; stroke-linejoin: miter; stroke-linecap: square\"/>\n   </g>\n   <g id=\"patch_4\">\n    <path d=\"M 404.085625 288.430125 \nL 404.085625 22.318125 \n\" style=\"fill: none; stroke: #000000; stroke-width: 0.8; stroke-linejoin: miter; stroke-linecap: square\"/>\n   </g>\n   <g id=\"patch_5\">\n    <path d=\"M 46.965625 288.430125 \nL 404.085625 288.430125 \n\" style=\"fill: none; stroke: #000000; stroke-width: 0.8; stroke-linejoin: miter; stroke-linecap: square\"/>\n   </g>\n   <g id=\"patch_6\">\n    <path d=\"M 46.965625 22.318125 \nL 404.085625 22.318125 \n\" style=\"fill: none; stroke: #000000; stroke-width: 0.8; stroke-linejoin: miter; stroke-linecap: square\"/>\n   </g>\n   <g id=\"text_18\">\n    <!-- Isotopic relaxation timescale comparison for 2H -->\n    <g transform=\"translate(81.909063 16.318125) scale(0.12 -0.12)\">\n     <defs>\n      <path id=\"DejaVuSans-49\" d=\"M 628 4666 \nL 1259 4666 \nL 1259 0 \nL 628 0 \nL 628 4666 \nz\n\" transform=\"scale(0.015625)\"/>\n      <path id=\"DejaVuSans-6f\" d=\"M 1959 3097 \nQ 1497 3097 1228 2736 \nQ 959 2375 959 1747 \nQ 959 1119 1226 758 \nQ 1494 397 1959 397 \nQ 2419 397 2687 759 \nQ 2956 1122 2956 1747 \nQ 2956 2369 2687 2733 \nQ 2419 3097 1959 3097 \nz\nM 1959 3584 \nQ 2709 3584 3137 3096 \nQ 3566 2609 3566 1747 \nQ 3566 888 3137 398 \nQ 2709 -91 1959 -91 \nQ 1206 -91 779 398 \nQ 353 888 353 1747 \nQ 353 2609 779 3096 \nQ 1206 3584 1959 3584 \nz\n\" transform=\"scale(0.015625)\"/>\n      <path id=\"DejaVuSans-74\" d=\"M 1172 4494 \nL 1172 3500 \nL 2356 3500 \nL 2356 3053 \nL 1172 3053 \nL 1172 1153 \nQ 1172 725 1289 603 \nQ 1406 481 1766 481 \nL 2356 481 \nL 2356 0 \nL 1766 0 \nQ 1100 0 847 248 \nQ 594 497 594 1153 \nL 594 3053 \nL 172 3053 \nL 172 3500 \nL 594 3500 \nL 594 4494 \nL 1172 4494 \nz\n\" transform=\"scale(0.015625)\"/>\n      <path id=\"DejaVuSans-70\" d=\"M 1159 525 \nL 1159 -1331 \nL 581 -1331 \nL 581 3500 \nL 1159 3500 \nL 1159 2969 \nQ 1341 3281 1617 3432 \nQ 1894 3584 2278 3584 \nQ 2916 3584 3314 3078 \nQ 3713 2572 3713 1747 \nQ 3713 922 3314 415 \nQ 2916 -91 2278 -91 \nQ 1894 -91 1617 61 \nQ 1341 213 1159 525 \nz\nM 3116 1747 \nQ 3116 2381 2855 2742 \nQ 2594 3103 2138 3103 \nQ 1681 3103 1420 2742 \nQ 1159 2381 1159 1747 \nQ 1159 1113 1420 752 \nQ 1681 391 2138 391 \nQ 2594 391 2855 752 \nQ 3116 1113 3116 1747 \nz\n\" transform=\"scale(0.015625)\"/>\n      <path id=\"DejaVuSans-72\" d=\"M 2631 2963 \nQ 2534 3019 2420 3045 \nQ 2306 3072 2169 3072 \nQ 1681 3072 1420 2755 \nQ 1159 2438 1159 1844 \nL 1159 0 \nL 581 0 \nL 581 3500 \nL 1159 3500 \nL 1159 2956 \nQ 1341 3275 1631 3429 \nQ 1922 3584 2338 3584 \nQ 2397 3584 2469 3576 \nQ 2541 3569 2628 3553 \nL 2631 2963 \nz\n\" transform=\"scale(0.015625)\"/>\n      <path id=\"DejaVuSans-6c\" d=\"M 603 4863 \nL 1178 4863 \nL 1178 0 \nL 603 0 \nL 603 4863 \nz\n\" transform=\"scale(0.015625)\"/>\n      <path id=\"DejaVuSans-78\" d=\"M 3513 3500 \nL 2247 1797 \nL 3578 0 \nL 2900 0 \nL 1881 1375 \nL 863 0 \nL 184 0 \nL 1544 1831 \nL 300 3500 \nL 978 3500 \nL 1906 2253 \nL 2834 3500 \nL 3513 3500 \nz\n\" transform=\"scale(0.015625)\"/>\n      <path id=\"DejaVuSans-6e\" d=\"M 3513 2113 \nL 3513 0 \nL 2938 0 \nL 2938 2094 \nQ 2938 2591 2744 2837 \nQ 2550 3084 2163 3084 \nQ 1697 3084 1428 2787 \nQ 1159 2491 1159 1978 \nL 1159 0 \nL 581 0 \nL 581 3500 \nL 1159 3500 \nL 1159 2956 \nQ 1366 3272 1645 3428 \nQ 1925 3584 2291 3584 \nQ 2894 3584 3203 3211 \nQ 3513 2838 3513 2113 \nz\n\" transform=\"scale(0.015625)\"/>\n      <path id=\"DejaVuSans-66\" d=\"M 2375 4863 \nL 2375 4384 \nL 1825 4384 \nQ 1516 4384 1395 4259 \nQ 1275 4134 1275 3809 \nL 1275 3500 \nL 2222 3500 \nL 2222 3053 \nL 1275 3053 \nL 1275 0 \nL 697 0 \nL 697 3053 \nL 147 3053 \nL 147 3500 \nL 697 3500 \nL 697 3744 \nQ 697 4328 969 4595 \nQ 1241 4863 1831 4863 \nL 2375 4863 \nz\n\" transform=\"scale(0.015625)\"/>\n      <path id=\"DejaVuSans-48\" d=\"M 628 4666 \nL 1259 4666 \nL 1259 2753 \nL 3553 2753 \nL 3553 4666 \nL 4184 4666 \nL 4184 0 \nL 3553 0 \nL 3553 2222 \nL 1259 2222 \nL 1259 0 \nL 628 0 \nL 628 4666 \nz\n\" transform=\"scale(0.015625)\"/>\n     </defs>\n     <use xlink:href=\"#DejaVuSans-49\"/>\n     <use xlink:href=\"#DejaVuSans-73\" transform=\"translate(29.492188 0)\"/>\n     <use xlink:href=\"#DejaVuSans-6f\" transform=\"translate(81.591797 0)\"/>\n     <use xlink:href=\"#DejaVuSans-74\" transform=\"translate(142.773438 0)\"/>\n     <use xlink:href=\"#DejaVuSans-6f\" transform=\"translate(181.982422 0)\"/>\n     <use xlink:href=\"#DejaVuSans-70\" transform=\"translate(243.164062 0)\"/>\n     <use xlink:href=\"#DejaVuSans-69\" transform=\"translate(306.640625 0)\"/>\n     <use xlink:href=\"#DejaVuSans-63\" transform=\"translate(334.423828 0)\"/>\n     <use xlink:href=\"#DejaVuSans-20\" transform=\"translate(389.404297 0)\"/>\n     <use xlink:href=\"#DejaVuSans-72\" transform=\"translate(421.191406 0)\"/>\n     <use xlink:href=\"#DejaVuSans-65\" transform=\"translate(460.054688 0)\"/>\n     <use xlink:href=\"#DejaVuSans-6c\" transform=\"translate(521.578125 0)\"/>\n     <use xlink:href=\"#DejaVuSans-61\" transform=\"translate(549.361328 0)\"/>\n     <use xlink:href=\"#DejaVuSans-78\" transform=\"translate(610.640625 0)\"/>\n     <use xlink:href=\"#DejaVuSans-61\" transform=\"translate(669.820312 0)\"/>\n     <use xlink:href=\"#DejaVuSans-74\" transform=\"translate(731.099609 0)\"/>\n     <use xlink:href=\"#DejaVuSans-69\" transform=\"translate(770.308594 0)\"/>\n     <use xlink:href=\"#DejaVuSans-6f\" transform=\"translate(798.091797 0)\"/>\n     <use xlink:href=\"#DejaVuSans-6e\" transform=\"translate(859.273438 0)\"/>\n     <use xlink:href=\"#DejaVuSans-20\" transform=\"translate(922.652344 0)\"/>\n     <use xlink:href=\"#DejaVuSans-74\" transform=\"translate(954.439453 0)\"/>\n     <use xlink:href=\"#DejaVuSans-69\" transform=\"translate(993.648438 0)\"/>\n     <use xlink:href=\"#DejaVuSans-6d\" transform=\"translate(1021.431641 0)\"/>\n     <use xlink:href=\"#DejaVuSans-65\" transform=\"translate(1118.84375 0)\"/>\n     <use xlink:href=\"#DejaVuSans-73\" transform=\"translate(1180.367188 0)\"/>\n     <use xlink:href=\"#DejaVuSans-63\" transform=\"translate(1232.466797 0)\"/>\n     <use xlink:href=\"#DejaVuSans-61\" transform=\"translate(1287.447266 0)\"/>\n     <use xlink:href=\"#DejaVuSans-6c\" transform=\"translate(1348.726562 0)\"/>\n     <use xlink:href=\"#DejaVuSans-65\" transform=\"translate(1376.509766 0)\"/>\n     <use xlink:href=\"#DejaVuSans-20\" transform=\"translate(1438.033203 0)\"/>\n     <use xlink:href=\"#DejaVuSans-63\" transform=\"translate(1469.820312 0)\"/>\n     <use xlink:href=\"#DejaVuSans-6f\" transform=\"translate(1524.800781 0)\"/>\n     <use xlink:href=\"#DejaVuSans-6d\" transform=\"translate(1585.982422 0)\"/>\n     <use xlink:href=\"#DejaVuSans-70\" transform=\"translate(1683.394531 0)\"/>\n     <use xlink:href=\"#DejaVuSans-61\" transform=\"translate(1746.871094 0)\"/>\n     <use xlink:href=\"#DejaVuSans-72\" transform=\"translate(1808.150391 0)\"/>\n     <use xlink:href=\"#DejaVuSans-69\" transform=\"translate(1849.263672 0)\"/>\n     <use xlink:href=\"#DejaVuSans-73\" transform=\"translate(1877.046875 0)\"/>\n     <use xlink:href=\"#DejaVuSans-6f\" transform=\"translate(1929.146484 0)\"/>\n     <use xlink:href=\"#DejaVuSans-6e\" transform=\"translate(1990.328125 0)\"/>\n     <use xlink:href=\"#DejaVuSans-20\" transform=\"translate(2053.707031 0)\"/>\n     <use xlink:href=\"#DejaVuSans-66\" transform=\"translate(2085.494141 0)\"/>\n     <use xlink:href=\"#DejaVuSans-6f\" transform=\"translate(2120.699219 0)\"/>\n     <use xlink:href=\"#DejaVuSans-72\" transform=\"translate(2181.880859 0)\"/>\n     <use xlink:href=\"#DejaVuSans-20\" transform=\"translate(2222.994141 0)\"/>\n     <use xlink:href=\"#DejaVuSans-32\" transform=\"translate(2254.78125 0)\"/>\n     <use xlink:href=\"#DejaVuSans-48\" transform=\"translate(2318.404297 0)\"/>\n    </g>\n   </g>\n   <g id=\"legend_1\">\n    <g id=\"patch_7\">\n     <path d=\"M 53.965625 74.3525 \nL 160.340625 74.3525 \nQ 162.340625 74.3525 162.340625 72.3525 \nL 162.340625 29.318125 \nQ 162.340625 27.318125 160.340625 27.318125 \nL 53.965625 27.318125 \nQ 51.965625 27.318125 51.965625 29.318125 \nL 51.965625 72.3525 \nQ 51.965625 74.3525 53.965625 74.3525 \nz\n\" style=\"fill: #ffffff; opacity: 0.8; stroke: #cccccc; stroke-linejoin: miter\"/>\n    </g>\n    <g id=\"line2d_19\">\n     <path d=\"M 55.965625 35.416562 \nL 65.965625 35.416562 \nL 75.965625 35.416562 \n\" style=\"fill: none; stroke: #1f77b4; stroke-width: 1.5; stroke-linecap: square\"/>\n    </g>\n    <g id=\"text_19\">\n     <!-- Miyake -->\n     <g transform=\"translate(83.965625 38.916562) scale(0.1 -0.1)\">\n      <defs>\n       <path id=\"DejaVuSans-4d\" d=\"M 628 4666 \nL 1569 4666 \nL 2759 1491 \nL 3956 4666 \nL 4897 4666 \nL 4897 0 \nL 4281 0 \nL 4281 4097 \nL 3078 897 \nL 2444 897 \nL 1241 4097 \nL 1241 0 \nL 628 0 \nL 628 4666 \nz\n\" transform=\"scale(0.015625)\"/>\n       <path id=\"DejaVuSans-79\" d=\"M 2059 -325 \nQ 1816 -950 1584 -1140 \nQ 1353 -1331 966 -1331 \nL 506 -1331 \nL 506 -850 \nL 844 -850 \nQ 1081 -850 1212 -737 \nQ 1344 -625 1503 -206 \nL 1606 56 \nL 191 3500 \nL 800 3500 \nL 1894 763 \nL 2988 3500 \nL 3597 3500 \nL 2059 -325 \nz\n\" transform=\"scale(0.015625)\"/>\n       <path id=\"DejaVuSans-6b\" d=\"M 581 4863 \nL 1159 4863 \nL 1159 1991 \nL 2875 3500 \nL 3609 3500 \nL 1753 1863 \nL 3688 0 \nL 2938 0 \nL 1159 1709 \nL 1159 0 \nL 581 0 \nL 581 4863 \nz\n\" transform=\"scale(0.015625)\"/>\n      </defs>\n      <use xlink:href=\"#DejaVuSans-4d\"/>\n      <use xlink:href=\"#DejaVuSans-69\" transform=\"translate(86.279297 0)\"/>\n      <use xlink:href=\"#DejaVuSans-79\" transform=\"translate(114.0625 0)\"/>\n      <use xlink:href=\"#DejaVuSans-61\" transform=\"translate(173.242188 0)\"/>\n      <use xlink:href=\"#DejaVuSans-6b\" transform=\"translate(234.521484 0)\"/>\n      <use xlink:href=\"#DejaVuSans-65\" transform=\"translate(288.806641 0)\"/>\n     </g>\n    </g>\n    <g id=\"line2d_20\">\n     <path d=\"M 55.965625 50.094688 \nL 65.965625 50.094688 \nL 75.965625 50.094688 \n\" style=\"fill: none; stroke: #ff7f0e; stroke-width: 1.5; stroke-linecap: square\"/>\n    </g>\n    <g id=\"text_20\">\n     <!-- Zaba &amp; Arabas -->\n     <g transform=\"translate(83.965625 53.594688) scale(0.1 -0.1)\">\n      <defs>\n       <path id=\"DejaVuSans-5a\" d=\"M 359 4666 \nL 4025 4666 \nL 4025 4184 \nL 1075 531 \nL 4097 531 \nL 4097 0 \nL 288 0 \nL 288 481 \nL 3238 4134 \nL 359 4134 \nL 359 4666 \nz\n\" transform=\"scale(0.015625)\"/>\n       <path id=\"DejaVuSans-62\" d=\"M 3116 1747 \nQ 3116 2381 2855 2742 \nQ 2594 3103 2138 3103 \nQ 1681 3103 1420 2742 \nQ 1159 2381 1159 1747 \nQ 1159 1113 1420 752 \nQ 1681 391 2138 391 \nQ 2594 391 2855 752 \nQ 3116 1113 3116 1747 \nz\nM 1159 2969 \nQ 1341 3281 1617 3432 \nQ 1894 3584 2278 3584 \nQ 2916 3584 3314 3078 \nQ 3713 2572 3713 1747 \nQ 3713 922 3314 415 \nQ 2916 -91 2278 -91 \nQ 1894 -91 1617 61 \nQ 1341 213 1159 525 \nL 1159 0 \nL 581 0 \nL 581 4863 \nL 1159 4863 \nL 1159 2969 \nz\n\" transform=\"scale(0.015625)\"/>\n       <path id=\"DejaVuSans-26\" d=\"M 1556 2509 \nQ 1272 2256 1139 2004 \nQ 1006 1753 1006 1478 \nQ 1006 1022 1337 719 \nQ 1669 416 2169 416 \nQ 2466 416 2725 514 \nQ 2984 613 3213 813 \nL 1556 2509 \nz\nM 1997 2859 \nL 3584 1234 \nQ 3769 1513 3872 1830 \nQ 3975 2147 3994 2503 \nL 4575 2503 \nQ 4538 2091 4375 1687 \nQ 4213 1284 3922 891 \nL 4794 0 \nL 4006 0 \nL 3559 459 \nQ 3234 181 2878 45 \nQ 2522 -91 2113 -91 \nQ 1359 -91 881 339 \nQ 403 769 403 1441 \nQ 403 1841 612 2192 \nQ 822 2544 1241 2853 \nQ 1091 3050 1012 3245 \nQ 934 3441 934 3628 \nQ 934 4134 1281 4442 \nQ 1628 4750 2203 4750 \nQ 2463 4750 2720 4694 \nQ 2978 4638 3244 4525 \nL 3244 3956 \nQ 2972 4103 2725 4179 \nQ 2478 4256 2266 4256 \nQ 1938 4256 1733 4082 \nQ 1528 3909 1528 3634 \nQ 1528 3475 1620 3314 \nQ 1713 3153 1997 2859 \nz\n\" transform=\"scale(0.015625)\"/>\n       <path id=\"DejaVuSans-41\" d=\"M 2188 4044 \nL 1331 1722 \nL 3047 1722 \nL 2188 4044 \nz\nM 1831 4666 \nL 2547 4666 \nL 4325 0 \nL 3669 0 \nL 3244 1197 \nL 1141 1197 \nL 716 0 \nL 50 0 \nL 1831 4666 \nz\n\" transform=\"scale(0.015625)\"/>\n      </defs>\n      <use xlink:href=\"#DejaVuSans-5a\"/>\n      <use xlink:href=\"#DejaVuSans-61\" transform=\"translate(68.505859 0)\"/>\n      <use xlink:href=\"#DejaVuSans-62\" transform=\"translate(129.785156 0)\"/>\n      <use xlink:href=\"#DejaVuSans-61\" transform=\"translate(193.261719 0)\"/>\n      <use xlink:href=\"#DejaVuSans-20\" transform=\"translate(254.541016 0)\"/>\n      <use xlink:href=\"#DejaVuSans-26\" transform=\"translate(286.328125 0)\"/>\n      <use xlink:href=\"#DejaVuSans-20\" transform=\"translate(364.306641 0)\"/>\n      <use xlink:href=\"#DejaVuSans-41\" transform=\"translate(396.09375 0)\"/>\n      <use xlink:href=\"#DejaVuSans-72\" transform=\"translate(464.501953 0)\"/>\n      <use xlink:href=\"#DejaVuSans-61\" transform=\"translate(505.615234 0)\"/>\n      <use xlink:href=\"#DejaVuSans-62\" transform=\"translate(566.894531 0)\"/>\n      <use xlink:href=\"#DejaVuSans-61\" transform=\"translate(630.371094 0)\"/>\n      <use xlink:href=\"#DejaVuSans-73\" transform=\"translate(691.650391 0)\"/>\n     </g>\n    </g>\n    <g id=\"line2d_21\">\n     <path d=\"M 55.965625 64.772812 \nL 65.965625 64.772812 \nL 75.965625 64.772812 \n\" style=\"fill: none; stroke: #2ca02c; stroke-width: 1.5; stroke-linecap: square\"/>\n    </g>\n    <g id=\"text_21\">\n     <!-- Z&amp;A 2H -->\n     <g transform=\"translate(83.965625 68.272812) scale(0.1 -0.1)\">\n      <use xlink:href=\"#DejaVuSans-5a\"/>\n      <use xlink:href=\"#DejaVuSans-26\" transform=\"translate(68.505859 0)\"/>\n      <use xlink:href=\"#DejaVuSans-41\" transform=\"translate(146.484375 0)\"/>\n      <use xlink:href=\"#DejaVuSans-20\" transform=\"translate(214.892578 0)\"/>\n      <use xlink:href=\"#DejaVuSans-32\" transform=\"translate(246.679688 0)\"/>\n      <use xlink:href=\"#DejaVuSans-48\" transform=\"translate(310.302734 0)\"/>\n     </g>\n    </g>\n   </g>\n  </g>\n </g>\n <defs>\n  <clipPath id=\"p1a96f820ff\">\n   <rect x=\"46.965625\" y=\"22.318125\" width=\"357.12\" height=\"266.112\"/>\n  </clipPath>\n </defs>\n</svg>\n"
     },
     "metadata": {},
     "output_type": "display_data"
    },
    {
     "data": {
      "text/plain": [
       "HBox(children=(HTML(value=\"<a href='./timescales_comparison.pdf' target='_blank'>./timescales_comparison.pdf</…"
      ],
      "application/vnd.jupyter.widget-view+json": {
       "version_major": 2,
       "version_minor": 0,
       "model_id": "7304494301ce454ab928a6b167776e7c"
      }
     },
     "metadata": {},
     "output_type": "display_data"
    }
   ],
   "execution_count": 159
  },
  {
   "metadata": {
    "ExecuteTime": {
     "end_time": "2025-03-14T10:57:09.744523Z",
     "start_time": "2025-03-14T10:57:09.731717Z"
    }
   },
   "cell_type": "code",
   "source": [
    "adjustment_time_frame = pd.DataFrame({\n",
    "    'Radius [cm]' : in_unit(radii, si.cm),\n",
    "    #'Miyake' : adjustment_time['miyake'],\n",
    "    'RH_env=0.9': adjustment_time['RH=0.9'],\n",
    "    #'Zaba & Arabas': adjustment_time['zaba_and_arabas'],\n",
    "    'Z&A RH=0.9': adjustment_time['zaba_and_arabas_rh0.9'],\n",
    "    'Z&A RH=0.5': adjustment_time['zaba_and_arabas_rh0.5'],\n",
    "    'Z&A RH=0.7': adjustment_time['zaba_and_arabas_rh0.7'],\n",
    "    'Z&A RH=0.8': adjustment_time['zaba_and_arabas_rh0.8'],\n",
    "    'Z&A RH=0.85': adjustment_time['zaba_and_arabas_rh0.85'],\n",
    "    #'Z&A 2H': adjustment_time['zaba_and_arabas_2'],\n",
    "})\n",
    "for rh in rh_all:\n",
    "    #adjustment_time_frame[f\"RH_env={rh}_2H\"] = adjustment_time[f'isotope=2H, rh={rh:.3g}']\n",
    "    #adjustment_time_frame[f\"RH_env={rh}_3H\"] = adjustment_time[f'isotope=3H, rh={rh:.3g}']\n",
    "    continue"
   ],
   "id": "ab3252376ee75f5c",
   "outputs": [],
   "execution_count": 170
  },
  {
   "metadata": {
    "ExecuteTime": {
     "end_time": "2025-03-14T10:57:10.782281Z",
     "start_time": "2025-03-14T10:57:10.584395Z"
    }
   },
   "cell_type": "code",
   "source": [
    "fig, ax = plt.subplots()\n",
    "for variant, time in adjustment_time_frame.items():\n",
    "    if variant != 'Radius [cm]':\n",
    "        ax.plot(in_unit(radii, si.cm), time * si.s, label=variant)\n",
    "ax.scatter(in_unit(radii, si.cm), bolin_table_1['Adjustment time [s]'], color='k')\n",
    "ax.set_title(f'Isotopic relaxation timescale comparison')\n",
    "ax.set_xlabel('Radius [cm]')\n",
    "ax.set_ylabel('Time [s]')\n",
    "ax.legend()\n",
    "show_plot('timescales_comparison.pdf')"
   ],
   "id": "b6955e16b4df95e2",
   "outputs": [
    {
     "data": {
      "text/plain": [
       "<Figure size 640x480 with 1 Axes>"
      ],
      "image/svg+xml": "<?xml version=\"1.0\" encoding=\"utf-8\" standalone=\"no\"?>\n<!DOCTYPE svg PUBLIC \"-//W3C//DTD SVG 1.1//EN\"\n  \"http://www.w3.org/Graphics/SVG/1.1/DTD/svg11.dtd\">\n<svg xmlns:xlink=\"http://www.w3.org/1999/xlink\" width=\"417.648125pt\" height=\"325.986375pt\" viewBox=\"0 0 417.648125 325.986375\" xmlns=\"http://www.w3.org/2000/svg\" version=\"1.1\">\n <metadata>\n  <rdf:RDF xmlns:dc=\"http://purl.org/dc/elements/1.1/\" xmlns:cc=\"http://creativecommons.org/ns#\" xmlns:rdf=\"http://www.w3.org/1999/02/22-rdf-syntax-ns#\">\n   <cc:Work>\n    <dc:type rdf:resource=\"http://purl.org/dc/dcmitype/StillImage\"/>\n    <dc:date>2025-03-14T11:57:10.763121</dc:date>\n    <dc:format>image/svg+xml</dc:format>\n    <dc:creator>\n     <cc:Agent>\n      <dc:title>Matplotlib v3.10.0, https://matplotlib.org/</dc:title>\n     </cc:Agent>\n    </dc:creator>\n   </cc:Work>\n  </rdf:RDF>\n </metadata>\n <defs>\n  <style type=\"text/css\">*{stroke-linejoin: round; stroke-linecap: butt}</style>\n </defs>\n <g id=\"figure_1\">\n  <g id=\"patch_1\">\n   <path d=\"M 0 325.986375 \nL 417.648125 325.986375 \nL 417.648125 0 \nL 0 0 \nz\n\" style=\"fill: #ffffff\"/>\n  </g>\n  <g id=\"axes_1\">\n   <g id=\"patch_2\">\n    <path d=\"M 53.328125 288.430125 \nL 410.448125 288.430125 \nL 410.448125 22.318125 \nL 53.328125 22.318125 \nz\n\" style=\"fill: #ffffff\"/>\n   </g>\n   <g id=\"PathCollection_1\">\n    <defs>\n     <path id=\"m0f29d156ad\" d=\"M 0 3 \nC 0.795609 3 1.55874 2.683901 2.12132 2.12132 \nC 2.683901 1.55874 3 0.795609 3 0 \nC 3 -0.795609 2.683901 -1.55874 2.12132 -2.12132 \nC 1.55874 -2.683901 0.795609 -3 0 -3 \nC -0.795609 -3 -1.55874 -2.683901 -2.12132 -2.12132 \nC -2.683901 -1.55874 -3 -0.795609 -3 0 \nC -3 0.795609 -2.683901 1.55874 -2.12132 2.12132 \nC -1.55874 2.683901 -0.795609 3 0 3 \nz\n\" style=\"stroke: #000000\"/>\n    </defs>\n    <g clip-path=\"url(#p6e0e212cff)\">\n     <use xlink:href=\"#m0f29d156ad\" x=\"69.560852\" y=\"276.334125\" style=\"stroke: #000000\"/>\n     <use xlink:href=\"#m0f29d156ad\" x=\"77.885328\" y=\"276.164946\" style=\"stroke: #000000\"/>\n     <use xlink:href=\"#m0f29d156ad\" x=\"102.858754\" y=\"275.011856\" style=\"stroke: #000000\"/>\n     <use xlink:href=\"#m0f29d156ad\" x=\"144.481132\" y=\"272.340605\" style=\"stroke: #000000\"/>\n     <use xlink:href=\"#m0f29d156ad\" x=\"186.10351\" y=\"269.135105\" style=\"stroke: #000000\"/>\n     <use xlink:href=\"#m0f29d156ad\" x=\"227.725887\" y=\"265.573437\" style=\"stroke: #000000\"/>\n     <use xlink:href=\"#m0f29d156ad\" x=\"310.970642\" y=\"260.230936\" style=\"stroke: #000000\"/>\n     <use xlink:href=\"#m0f29d156ad\" x=\"394.215398\" y=\"257.114477\" style=\"stroke: #000000\"/>\n    </g>\n   </g>\n   <g id=\"matplotlib.axis_1\">\n    <g id=\"xtick_1\">\n     <g id=\"line2d_1\">\n      <defs>\n       <path id=\"m9a82e230ed\" d=\"M 0 0 \nL 0 3.5 \n\" style=\"stroke: #000000; stroke-width: 0.8\"/>\n      </defs>\n      <g>\n       <use xlink:href=\"#m9a82e230ed\" x=\"61.236377\" y=\"288.430125\" style=\"stroke: #000000; stroke-width: 0.8\"/>\n      </g>\n     </g>\n     <g id=\"text_1\">\n      <!-- 0.000 -->\n      <g transform=\"translate(46.922314 303.028562) scale(0.1 -0.1)\">\n       <defs>\n        <path id=\"DejaVuSans-30\" d=\"M 2034 4250 \nQ 1547 4250 1301 3770 \nQ 1056 3291 1056 2328 \nQ 1056 1369 1301 889 \nQ 1547 409 2034 409 \nQ 2525 409 2770 889 \nQ 3016 1369 3016 2328 \nQ 3016 3291 2770 3770 \nQ 2525 4250 2034 4250 \nz\nM 2034 4750 \nQ 2819 4750 3233 4129 \nQ 3647 3509 3647 2328 \nQ 3647 1150 3233 529 \nQ 2819 -91 2034 -91 \nQ 1250 -91 836 529 \nQ 422 1150 422 2328 \nQ 422 3509 836 4129 \nQ 1250 4750 2034 4750 \nz\n\" transform=\"scale(0.015625)\"/>\n        <path id=\"DejaVuSans-2e\" d=\"M 684 794 \nL 1344 794 \nL 1344 0 \nL 684 0 \nL 684 794 \nz\n\" transform=\"scale(0.015625)\"/>\n       </defs>\n       <use xlink:href=\"#DejaVuSans-30\"/>\n       <use xlink:href=\"#DejaVuSans-2e\" transform=\"translate(63.623047 0)\"/>\n       <use xlink:href=\"#DejaVuSans-30\" transform=\"translate(95.410156 0)\"/>\n       <use xlink:href=\"#DejaVuSans-30\" transform=\"translate(159.033203 0)\"/>\n       <use xlink:href=\"#DejaVuSans-30\" transform=\"translate(222.65625 0)\"/>\n      </g>\n     </g>\n    </g>\n    <g id=\"xtick_2\">\n     <g id=\"line2d_2\">\n      <g>\n       <use xlink:href=\"#m9a82e230ed\" x=\"102.858754\" y=\"288.430125\" style=\"stroke: #000000; stroke-width: 0.8\"/>\n      </g>\n     </g>\n     <g id=\"text_2\">\n      <!-- 0.025 -->\n      <g transform=\"translate(88.544692 303.028562) scale(0.1 -0.1)\">\n       <defs>\n        <path id=\"DejaVuSans-32\" d=\"M 1228 531 \nL 3431 531 \nL 3431 0 \nL 469 0 \nL 469 531 \nQ 828 903 1448 1529 \nQ 2069 2156 2228 2338 \nQ 2531 2678 2651 2914 \nQ 2772 3150 2772 3378 \nQ 2772 3750 2511 3984 \nQ 2250 4219 1831 4219 \nQ 1534 4219 1204 4116 \nQ 875 4013 500 3803 \nL 500 4441 \nQ 881 4594 1212 4672 \nQ 1544 4750 1819 4750 \nQ 2544 4750 2975 4387 \nQ 3406 4025 3406 3419 \nQ 3406 3131 3298 2873 \nQ 3191 2616 2906 2266 \nQ 2828 2175 2409 1742 \nQ 1991 1309 1228 531 \nz\n\" transform=\"scale(0.015625)\"/>\n        <path id=\"DejaVuSans-35\" d=\"M 691 4666 \nL 3169 4666 \nL 3169 4134 \nL 1269 4134 \nL 1269 2991 \nQ 1406 3038 1543 3061 \nQ 1681 3084 1819 3084 \nQ 2600 3084 3056 2656 \nQ 3513 2228 3513 1497 \nQ 3513 744 3044 326 \nQ 2575 -91 1722 -91 \nQ 1428 -91 1123 -41 \nQ 819 9 494 109 \nL 494 744 \nQ 775 591 1075 516 \nQ 1375 441 1709 441 \nQ 2250 441 2565 725 \nQ 2881 1009 2881 1497 \nQ 2881 1984 2565 2268 \nQ 2250 2553 1709 2553 \nQ 1456 2553 1204 2497 \nQ 953 2441 691 2322 \nL 691 4666 \nz\n\" transform=\"scale(0.015625)\"/>\n       </defs>\n       <use xlink:href=\"#DejaVuSans-30\"/>\n       <use xlink:href=\"#DejaVuSans-2e\" transform=\"translate(63.623047 0)\"/>\n       <use xlink:href=\"#DejaVuSans-30\" transform=\"translate(95.410156 0)\"/>\n       <use xlink:href=\"#DejaVuSans-32\" transform=\"translate(159.033203 0)\"/>\n       <use xlink:href=\"#DejaVuSans-35\" transform=\"translate(222.65625 0)\"/>\n      </g>\n     </g>\n    </g>\n    <g id=\"xtick_3\">\n     <g id=\"line2d_3\">\n      <g>\n       <use xlink:href=\"#m9a82e230ed\" x=\"144.481132\" y=\"288.430125\" style=\"stroke: #000000; stroke-width: 0.8\"/>\n      </g>\n     </g>\n     <g id=\"text_3\">\n      <!-- 0.050 -->\n      <g transform=\"translate(130.167069 303.028562) scale(0.1 -0.1)\">\n       <use xlink:href=\"#DejaVuSans-30\"/>\n       <use xlink:href=\"#DejaVuSans-2e\" transform=\"translate(63.623047 0)\"/>\n       <use xlink:href=\"#DejaVuSans-30\" transform=\"translate(95.410156 0)\"/>\n       <use xlink:href=\"#DejaVuSans-35\" transform=\"translate(159.033203 0)\"/>\n       <use xlink:href=\"#DejaVuSans-30\" transform=\"translate(222.65625 0)\"/>\n      </g>\n     </g>\n    </g>\n    <g id=\"xtick_4\">\n     <g id=\"line2d_4\">\n      <g>\n       <use xlink:href=\"#m9a82e230ed\" x=\"186.10351\" y=\"288.430125\" style=\"stroke: #000000; stroke-width: 0.8\"/>\n      </g>\n     </g>\n     <g id=\"text_4\">\n      <!-- 0.075 -->\n      <g transform=\"translate(171.789447 303.028562) scale(0.1 -0.1)\">\n       <defs>\n        <path id=\"DejaVuSans-37\" d=\"M 525 4666 \nL 3525 4666 \nL 3525 4397 \nL 1831 0 \nL 1172 0 \nL 2766 4134 \nL 525 4134 \nL 525 4666 \nz\n\" transform=\"scale(0.015625)\"/>\n       </defs>\n       <use xlink:href=\"#DejaVuSans-30\"/>\n       <use xlink:href=\"#DejaVuSans-2e\" transform=\"translate(63.623047 0)\"/>\n       <use xlink:href=\"#DejaVuSans-30\" transform=\"translate(95.410156 0)\"/>\n       <use xlink:href=\"#DejaVuSans-37\" transform=\"translate(159.033203 0)\"/>\n       <use xlink:href=\"#DejaVuSans-35\" transform=\"translate(222.65625 0)\"/>\n      </g>\n     </g>\n    </g>\n    <g id=\"xtick_5\">\n     <g id=\"line2d_5\">\n      <g>\n       <use xlink:href=\"#m9a82e230ed\" x=\"227.725887\" y=\"288.430125\" style=\"stroke: #000000; stroke-width: 0.8\"/>\n      </g>\n     </g>\n     <g id=\"text_5\">\n      <!-- 0.100 -->\n      <g transform=\"translate(213.411825 303.028562) scale(0.1 -0.1)\">\n       <defs>\n        <path id=\"DejaVuSans-31\" d=\"M 794 531 \nL 1825 531 \nL 1825 4091 \nL 703 3866 \nL 703 4441 \nL 1819 4666 \nL 2450 4666 \nL 2450 531 \nL 3481 531 \nL 3481 0 \nL 794 0 \nL 794 531 \nz\n\" transform=\"scale(0.015625)\"/>\n       </defs>\n       <use xlink:href=\"#DejaVuSans-30\"/>\n       <use xlink:href=\"#DejaVuSans-2e\" transform=\"translate(63.623047 0)\"/>\n       <use xlink:href=\"#DejaVuSans-31\" transform=\"translate(95.410156 0)\"/>\n       <use xlink:href=\"#DejaVuSans-30\" transform=\"translate(159.033203 0)\"/>\n       <use xlink:href=\"#DejaVuSans-30\" transform=\"translate(222.65625 0)\"/>\n      </g>\n     </g>\n    </g>\n    <g id=\"xtick_6\">\n     <g id=\"line2d_6\">\n      <g>\n       <use xlink:href=\"#m9a82e230ed\" x=\"269.348265\" y=\"288.430125\" style=\"stroke: #000000; stroke-width: 0.8\"/>\n      </g>\n     </g>\n     <g id=\"text_6\">\n      <!-- 0.125 -->\n      <g transform=\"translate(255.034202 303.028562) scale(0.1 -0.1)\">\n       <use xlink:href=\"#DejaVuSans-30\"/>\n       <use xlink:href=\"#DejaVuSans-2e\" transform=\"translate(63.623047 0)\"/>\n       <use xlink:href=\"#DejaVuSans-31\" transform=\"translate(95.410156 0)\"/>\n       <use xlink:href=\"#DejaVuSans-32\" transform=\"translate(159.033203 0)\"/>\n       <use xlink:href=\"#DejaVuSans-35\" transform=\"translate(222.65625 0)\"/>\n      </g>\n     </g>\n    </g>\n    <g id=\"xtick_7\">\n     <g id=\"line2d_7\">\n      <g>\n       <use xlink:href=\"#m9a82e230ed\" x=\"310.970642\" y=\"288.430125\" style=\"stroke: #000000; stroke-width: 0.8\"/>\n      </g>\n     </g>\n     <g id=\"text_7\">\n      <!-- 0.150 -->\n      <g transform=\"translate(296.65658 303.028562) scale(0.1 -0.1)\">\n       <use xlink:href=\"#DejaVuSans-30\"/>\n       <use xlink:href=\"#DejaVuSans-2e\" transform=\"translate(63.623047 0)\"/>\n       <use xlink:href=\"#DejaVuSans-31\" transform=\"translate(95.410156 0)\"/>\n       <use xlink:href=\"#DejaVuSans-35\" transform=\"translate(159.033203 0)\"/>\n       <use xlink:href=\"#DejaVuSans-30\" transform=\"translate(222.65625 0)\"/>\n      </g>\n     </g>\n    </g>\n    <g id=\"xtick_8\">\n     <g id=\"line2d_8\">\n      <g>\n       <use xlink:href=\"#m9a82e230ed\" x=\"352.59302\" y=\"288.430125\" style=\"stroke: #000000; stroke-width: 0.8\"/>\n      </g>\n     </g>\n     <g id=\"text_8\">\n      <!-- 0.175 -->\n      <g transform=\"translate(338.278958 303.028562) scale(0.1 -0.1)\">\n       <use xlink:href=\"#DejaVuSans-30\"/>\n       <use xlink:href=\"#DejaVuSans-2e\" transform=\"translate(63.623047 0)\"/>\n       <use xlink:href=\"#DejaVuSans-31\" transform=\"translate(95.410156 0)\"/>\n       <use xlink:href=\"#DejaVuSans-37\" transform=\"translate(159.033203 0)\"/>\n       <use xlink:href=\"#DejaVuSans-35\" transform=\"translate(222.65625 0)\"/>\n      </g>\n     </g>\n    </g>\n    <g id=\"xtick_9\">\n     <g id=\"line2d_9\">\n      <g>\n       <use xlink:href=\"#m9a82e230ed\" x=\"394.215398\" y=\"288.430125\" style=\"stroke: #000000; stroke-width: 0.8\"/>\n      </g>\n     </g>\n     <g id=\"text_9\">\n      <!-- 0.200 -->\n      <g transform=\"translate(379.901335 303.028562) scale(0.1 -0.1)\">\n       <use xlink:href=\"#DejaVuSans-30\"/>\n       <use xlink:href=\"#DejaVuSans-2e\" transform=\"translate(63.623047 0)\"/>\n       <use xlink:href=\"#DejaVuSans-32\" transform=\"translate(95.410156 0)\"/>\n       <use xlink:href=\"#DejaVuSans-30\" transform=\"translate(159.033203 0)\"/>\n       <use xlink:href=\"#DejaVuSans-30\" transform=\"translate(222.65625 0)\"/>\n      </g>\n     </g>\n    </g>\n    <g id=\"text_10\">\n     <!-- Radius [cm] -->\n     <g transform=\"translate(202.015469 316.706687) scale(0.1 -0.1)\">\n      <defs>\n       <path id=\"DejaVuSans-52\" d=\"M 2841 2188 \nQ 3044 2119 3236 1894 \nQ 3428 1669 3622 1275 \nL 4263 0 \nL 3584 0 \nL 2988 1197 \nQ 2756 1666 2539 1819 \nQ 2322 1972 1947 1972 \nL 1259 1972 \nL 1259 0 \nL 628 0 \nL 628 4666 \nL 2053 4666 \nQ 2853 4666 3247 4331 \nQ 3641 3997 3641 3322 \nQ 3641 2881 3436 2590 \nQ 3231 2300 2841 2188 \nz\nM 1259 4147 \nL 1259 2491 \nL 2053 2491 \nQ 2509 2491 2742 2702 \nQ 2975 2913 2975 3322 \nQ 2975 3731 2742 3939 \nQ 2509 4147 2053 4147 \nL 1259 4147 \nz\n\" transform=\"scale(0.015625)\"/>\n       <path id=\"DejaVuSans-61\" d=\"M 2194 1759 \nQ 1497 1759 1228 1600 \nQ 959 1441 959 1056 \nQ 959 750 1161 570 \nQ 1363 391 1709 391 \nQ 2188 391 2477 730 \nQ 2766 1069 2766 1631 \nL 2766 1759 \nL 2194 1759 \nz\nM 3341 1997 \nL 3341 0 \nL 2766 0 \nL 2766 531 \nQ 2569 213 2275 61 \nQ 1981 -91 1556 -91 \nQ 1019 -91 701 211 \nQ 384 513 384 1019 \nQ 384 1609 779 1909 \nQ 1175 2209 1959 2209 \nL 2766 2209 \nL 2766 2266 \nQ 2766 2663 2505 2880 \nQ 2244 3097 1772 3097 \nQ 1472 3097 1187 3025 \nQ 903 2953 641 2809 \nL 641 3341 \nQ 956 3463 1253 3523 \nQ 1550 3584 1831 3584 \nQ 2591 3584 2966 3190 \nQ 3341 2797 3341 1997 \nz\n\" transform=\"scale(0.015625)\"/>\n       <path id=\"DejaVuSans-64\" d=\"M 2906 2969 \nL 2906 4863 \nL 3481 4863 \nL 3481 0 \nL 2906 0 \nL 2906 525 \nQ 2725 213 2448 61 \nQ 2172 -91 1784 -91 \nQ 1150 -91 751 415 \nQ 353 922 353 1747 \nQ 353 2572 751 3078 \nQ 1150 3584 1784 3584 \nQ 2172 3584 2448 3432 \nQ 2725 3281 2906 2969 \nz\nM 947 1747 \nQ 947 1113 1208 752 \nQ 1469 391 1925 391 \nQ 2381 391 2643 752 \nQ 2906 1113 2906 1747 \nQ 2906 2381 2643 2742 \nQ 2381 3103 1925 3103 \nQ 1469 3103 1208 2742 \nQ 947 2381 947 1747 \nz\n\" transform=\"scale(0.015625)\"/>\n       <path id=\"DejaVuSans-69\" d=\"M 603 3500 \nL 1178 3500 \nL 1178 0 \nL 603 0 \nL 603 3500 \nz\nM 603 4863 \nL 1178 4863 \nL 1178 4134 \nL 603 4134 \nL 603 4863 \nz\n\" transform=\"scale(0.015625)\"/>\n       <path id=\"DejaVuSans-75\" d=\"M 544 1381 \nL 544 3500 \nL 1119 3500 \nL 1119 1403 \nQ 1119 906 1312 657 \nQ 1506 409 1894 409 \nQ 2359 409 2629 706 \nQ 2900 1003 2900 1516 \nL 2900 3500 \nL 3475 3500 \nL 3475 0 \nL 2900 0 \nL 2900 538 \nQ 2691 219 2414 64 \nQ 2138 -91 1772 -91 \nQ 1169 -91 856 284 \nQ 544 659 544 1381 \nz\nM 1991 3584 \nL 1991 3584 \nz\n\" transform=\"scale(0.015625)\"/>\n       <path id=\"DejaVuSans-73\" d=\"M 2834 3397 \nL 2834 2853 \nQ 2591 2978 2328 3040 \nQ 2066 3103 1784 3103 \nQ 1356 3103 1142 2972 \nQ 928 2841 928 2578 \nQ 928 2378 1081 2264 \nQ 1234 2150 1697 2047 \nL 1894 2003 \nQ 2506 1872 2764 1633 \nQ 3022 1394 3022 966 \nQ 3022 478 2636 193 \nQ 2250 -91 1575 -91 \nQ 1294 -91 989 -36 \nQ 684 19 347 128 \nL 347 722 \nQ 666 556 975 473 \nQ 1284 391 1588 391 \nQ 1994 391 2212 530 \nQ 2431 669 2431 922 \nQ 2431 1156 2273 1281 \nQ 2116 1406 1581 1522 \nL 1381 1569 \nQ 847 1681 609 1914 \nQ 372 2147 372 2553 \nQ 372 3047 722 3315 \nQ 1072 3584 1716 3584 \nQ 2034 3584 2315 3537 \nQ 2597 3491 2834 3397 \nz\n\" transform=\"scale(0.015625)\"/>\n       <path id=\"DejaVuSans-20\" transform=\"scale(0.015625)\"/>\n       <path id=\"DejaVuSans-5b\" d=\"M 550 4863 \nL 1875 4863 \nL 1875 4416 \nL 1125 4416 \nL 1125 -397 \nL 1875 -397 \nL 1875 -844 \nL 550 -844 \nL 550 4863 \nz\n\" transform=\"scale(0.015625)\"/>\n       <path id=\"DejaVuSans-63\" d=\"M 3122 3366 \nL 3122 2828 \nQ 2878 2963 2633 3030 \nQ 2388 3097 2138 3097 \nQ 1578 3097 1268 2742 \nQ 959 2388 959 1747 \nQ 959 1106 1268 751 \nQ 1578 397 2138 397 \nQ 2388 397 2633 464 \nQ 2878 531 3122 666 \nL 3122 134 \nQ 2881 22 2623 -34 \nQ 2366 -91 2075 -91 \nQ 1284 -91 818 406 \nQ 353 903 353 1747 \nQ 353 2603 823 3093 \nQ 1294 3584 2113 3584 \nQ 2378 3584 2631 3529 \nQ 2884 3475 3122 3366 \nz\n\" transform=\"scale(0.015625)\"/>\n       <path id=\"DejaVuSans-6d\" d=\"M 3328 2828 \nQ 3544 3216 3844 3400 \nQ 4144 3584 4550 3584 \nQ 5097 3584 5394 3201 \nQ 5691 2819 5691 2113 \nL 5691 0 \nL 5113 0 \nL 5113 2094 \nQ 5113 2597 4934 2840 \nQ 4756 3084 4391 3084 \nQ 3944 3084 3684 2787 \nQ 3425 2491 3425 1978 \nL 3425 0 \nL 2847 0 \nL 2847 2094 \nQ 2847 2600 2669 2842 \nQ 2491 3084 2119 3084 \nQ 1678 3084 1418 2786 \nQ 1159 2488 1159 1978 \nL 1159 0 \nL 581 0 \nL 581 3500 \nL 1159 3500 \nL 1159 2956 \nQ 1356 3278 1631 3431 \nQ 1906 3584 2284 3584 \nQ 2666 3584 2933 3390 \nQ 3200 3197 3328 2828 \nz\n\" transform=\"scale(0.015625)\"/>\n       <path id=\"DejaVuSans-5d\" d=\"M 1947 4863 \nL 1947 -844 \nL 622 -844 \nL 622 -397 \nL 1369 -397 \nL 1369 4416 \nL 622 4416 \nL 622 4863 \nL 1947 4863 \nz\n\" transform=\"scale(0.015625)\"/>\n      </defs>\n      <use xlink:href=\"#DejaVuSans-52\"/>\n      <use xlink:href=\"#DejaVuSans-61\" transform=\"translate(67.232422 0)\"/>\n      <use xlink:href=\"#DejaVuSans-64\" transform=\"translate(128.511719 0)\"/>\n      <use xlink:href=\"#DejaVuSans-69\" transform=\"translate(191.988281 0)\"/>\n      <use xlink:href=\"#DejaVuSans-75\" transform=\"translate(219.771484 0)\"/>\n      <use xlink:href=\"#DejaVuSans-73\" transform=\"translate(283.150391 0)\"/>\n      <use xlink:href=\"#DejaVuSans-20\" transform=\"translate(335.25 0)\"/>\n      <use xlink:href=\"#DejaVuSans-5b\" transform=\"translate(367.037109 0)\"/>\n      <use xlink:href=\"#DejaVuSans-63\" transform=\"translate(406.050781 0)\"/>\n      <use xlink:href=\"#DejaVuSans-6d\" transform=\"translate(461.03125 0)\"/>\n      <use xlink:href=\"#DejaVuSans-5d\" transform=\"translate(558.443359 0)\"/>\n     </g>\n    </g>\n   </g>\n   <g id=\"matplotlib.axis_2\">\n    <g id=\"ytick_1\">\n     <g id=\"line2d_10\">\n      <defs>\n       <path id=\"m3f0a4cf9fb\" d=\"M 0 0 \nL -3.5 0 \n\" style=\"stroke: #000000; stroke-width: 0.8\"/>\n      </defs>\n      <g>\n       <use xlink:href=\"#m3f0a4cf9fb\" x=\"53.328125\" y=\"276.481044\" style=\"stroke: #000000; stroke-width: 0.8\"/>\n      </g>\n     </g>\n     <g id=\"text_11\">\n      <!-- 0 -->\n      <g transform=\"translate(39.965625 280.280263) scale(0.1 -0.1)\">\n       <use xlink:href=\"#DejaVuSans-30\"/>\n      </g>\n     </g>\n    </g>\n    <g id=\"ytick_2\">\n     <g id=\"line2d_11\">\n      <g>\n       <use xlink:href=\"#m3f0a4cf9fb\" x=\"53.328125\" y=\"231.960201\" style=\"stroke: #000000; stroke-width: 0.8\"/>\n      </g>\n     </g>\n     <g id=\"text_12\">\n      <!-- 1000 -->\n      <g transform=\"translate(20.878125 235.759419) scale(0.1 -0.1)\">\n       <use xlink:href=\"#DejaVuSans-31\"/>\n       <use xlink:href=\"#DejaVuSans-30\" transform=\"translate(63.623047 0)\"/>\n       <use xlink:href=\"#DejaVuSans-30\" transform=\"translate(127.246094 0)\"/>\n       <use xlink:href=\"#DejaVuSans-30\" transform=\"translate(190.869141 0)\"/>\n      </g>\n     </g>\n    </g>\n    <g id=\"ytick_3\">\n     <g id=\"line2d_12\">\n      <g>\n       <use xlink:href=\"#m3f0a4cf9fb\" x=\"53.328125\" y=\"187.439358\" style=\"stroke: #000000; stroke-width: 0.8\"/>\n      </g>\n     </g>\n     <g id=\"text_13\">\n      <!-- 2000 -->\n      <g transform=\"translate(20.878125 191.238576) scale(0.1 -0.1)\">\n       <use xlink:href=\"#DejaVuSans-32\"/>\n       <use xlink:href=\"#DejaVuSans-30\" transform=\"translate(63.623047 0)\"/>\n       <use xlink:href=\"#DejaVuSans-30\" transform=\"translate(127.246094 0)\"/>\n       <use xlink:href=\"#DejaVuSans-30\" transform=\"translate(190.869141 0)\"/>\n      </g>\n     </g>\n    </g>\n    <g id=\"ytick_4\">\n     <g id=\"line2d_13\">\n      <g>\n       <use xlink:href=\"#m3f0a4cf9fb\" x=\"53.328125\" y=\"142.918515\" style=\"stroke: #000000; stroke-width: 0.8\"/>\n      </g>\n     </g>\n     <g id=\"text_14\">\n      <!-- 3000 -->\n      <g transform=\"translate(20.878125 146.717733) scale(0.1 -0.1)\">\n       <defs>\n        <path id=\"DejaVuSans-33\" d=\"M 2597 2516 \nQ 3050 2419 3304 2112 \nQ 3559 1806 3559 1356 \nQ 3559 666 3084 287 \nQ 2609 -91 1734 -91 \nQ 1441 -91 1130 -33 \nQ 819 25 488 141 \nL 488 750 \nQ 750 597 1062 519 \nQ 1375 441 1716 441 \nQ 2309 441 2620 675 \nQ 2931 909 2931 1356 \nQ 2931 1769 2642 2001 \nQ 2353 2234 1838 2234 \nL 1294 2234 \nL 1294 2753 \nL 1863 2753 \nQ 2328 2753 2575 2939 \nQ 2822 3125 2822 3475 \nQ 2822 3834 2567 4026 \nQ 2313 4219 1838 4219 \nQ 1578 4219 1281 4162 \nQ 984 4106 628 3988 \nL 628 4550 \nQ 988 4650 1302 4700 \nQ 1616 4750 1894 4750 \nQ 2613 4750 3031 4423 \nQ 3450 4097 3450 3541 \nQ 3450 3153 3228 2886 \nQ 3006 2619 2597 2516 \nz\n\" transform=\"scale(0.015625)\"/>\n       </defs>\n       <use xlink:href=\"#DejaVuSans-33\"/>\n       <use xlink:href=\"#DejaVuSans-30\" transform=\"translate(63.623047 0)\"/>\n       <use xlink:href=\"#DejaVuSans-30\" transform=\"translate(127.246094 0)\"/>\n       <use xlink:href=\"#DejaVuSans-30\" transform=\"translate(190.869141 0)\"/>\n      </g>\n     </g>\n    </g>\n    <g id=\"ytick_5\">\n     <g id=\"line2d_14\">\n      <g>\n       <use xlink:href=\"#m3f0a4cf9fb\" x=\"53.328125\" y=\"98.397672\" style=\"stroke: #000000; stroke-width: 0.8\"/>\n      </g>\n     </g>\n     <g id=\"text_15\">\n      <!-- 4000 -->\n      <g transform=\"translate(20.878125 102.19689) scale(0.1 -0.1)\">\n       <defs>\n        <path id=\"DejaVuSans-34\" d=\"M 2419 4116 \nL 825 1625 \nL 2419 1625 \nL 2419 4116 \nz\nM 2253 4666 \nL 3047 4666 \nL 3047 1625 \nL 3713 1625 \nL 3713 1100 \nL 3047 1100 \nL 3047 0 \nL 2419 0 \nL 2419 1100 \nL 313 1100 \nL 313 1709 \nL 2253 4666 \nz\n\" transform=\"scale(0.015625)\"/>\n       </defs>\n       <use xlink:href=\"#DejaVuSans-34\"/>\n       <use xlink:href=\"#DejaVuSans-30\" transform=\"translate(63.623047 0)\"/>\n       <use xlink:href=\"#DejaVuSans-30\" transform=\"translate(127.246094 0)\"/>\n       <use xlink:href=\"#DejaVuSans-30\" transform=\"translate(190.869141 0)\"/>\n      </g>\n     </g>\n    </g>\n    <g id=\"ytick_6\">\n     <g id=\"line2d_15\">\n      <g>\n       <use xlink:href=\"#m3f0a4cf9fb\" x=\"53.328125\" y=\"53.876828\" style=\"stroke: #000000; stroke-width: 0.8\"/>\n      </g>\n     </g>\n     <g id=\"text_16\">\n      <!-- 5000 -->\n      <g transform=\"translate(20.878125 57.676047) scale(0.1 -0.1)\">\n       <use xlink:href=\"#DejaVuSans-35\"/>\n       <use xlink:href=\"#DejaVuSans-30\" transform=\"translate(63.623047 0)\"/>\n       <use xlink:href=\"#DejaVuSans-30\" transform=\"translate(127.246094 0)\"/>\n       <use xlink:href=\"#DejaVuSans-30\" transform=\"translate(190.869141 0)\"/>\n      </g>\n     </g>\n    </g>\n    <g id=\"text_17\">\n     <!-- Time [s] -->\n     <g transform=\"translate(14.798438 175.703031) rotate(-90) scale(0.1 -0.1)\">\n      <defs>\n       <path id=\"DejaVuSans-54\" d=\"M -19 4666 \nL 3928 4666 \nL 3928 4134 \nL 2272 4134 \nL 2272 0 \nL 1638 0 \nL 1638 4134 \nL -19 4134 \nL -19 4666 \nz\n\" transform=\"scale(0.015625)\"/>\n       <path id=\"DejaVuSans-65\" d=\"M 3597 1894 \nL 3597 1613 \nL 953 1613 \nQ 991 1019 1311 708 \nQ 1631 397 2203 397 \nQ 2534 397 2845 478 \nQ 3156 559 3463 722 \nL 3463 178 \nQ 3153 47 2828 -22 \nQ 2503 -91 2169 -91 \nQ 1331 -91 842 396 \nQ 353 884 353 1716 \nQ 353 2575 817 3079 \nQ 1281 3584 2069 3584 \nQ 2775 3584 3186 3129 \nQ 3597 2675 3597 1894 \nz\nM 3022 2063 \nQ 3016 2534 2758 2815 \nQ 2500 3097 2075 3097 \nQ 1594 3097 1305 2825 \nQ 1016 2553 972 2059 \nL 3022 2063 \nz\n\" transform=\"scale(0.015625)\"/>\n      </defs>\n      <use xlink:href=\"#DejaVuSans-54\"/>\n      <use xlink:href=\"#DejaVuSans-69\" transform=\"translate(57.958984 0)\"/>\n      <use xlink:href=\"#DejaVuSans-6d\" transform=\"translate(85.742188 0)\"/>\n      <use xlink:href=\"#DejaVuSans-65\" transform=\"translate(183.154297 0)\"/>\n      <use xlink:href=\"#DejaVuSans-20\" transform=\"translate(244.677734 0)\"/>\n      <use xlink:href=\"#DejaVuSans-5b\" transform=\"translate(276.464844 0)\"/>\n      <use xlink:href=\"#DejaVuSans-73\" transform=\"translate(315.478516 0)\"/>\n      <use xlink:href=\"#DejaVuSans-5d\" transform=\"translate(367.578125 0)\"/>\n     </g>\n    </g>\n   </g>\n   <g id=\"line2d_16\">\n    <path d=\"M 69.560852 276.162867 \nL 77.885328 275.490553 \nL 102.858754 272.763509 \nL 144.481132 267.55435 \nL 186.10351 261.593554 \nL 227.725887 254.516976 \nL 310.970642 238.800915 \nL 394.215398 221.490296 \n\" clip-path=\"url(#p6e0e212cff)\" style=\"fill: none; stroke: #1f77b4; stroke-width: 1.5; stroke-linecap: square\"/>\n   </g>\n   <g id=\"line2d_17\">\n    <path d=\"M 69.560852 275.080445 \nL 77.885328 272.120948 \nL 102.858754 260.116613 \nL 144.481132 237.18612 \nL 186.10351 210.946949 \nL 227.725887 179.796157 \nL 310.970642 110.614728 \nL 394.215398 34.414125 \n\" clip-path=\"url(#p6e0e212cff)\" style=\"fill: none; stroke: #ff7f0e; stroke-width: 1.5; stroke-linecap: square\"/>\n   </g>\n   <g id=\"line2d_18\">\n    <path d=\"M 69.560852 276.200924 \nL 77.885328 275.609025 \nL 102.858754 273.208158 \nL 144.481132 268.622059 \nL 186.10351 263.374225 \nL 227.725887 257.144066 \nL 310.970642 243.307781 \nL 394.215398 228.06766 \n\" clip-path=\"url(#p6e0e212cff)\" style=\"fill: none; stroke: #2ca02c; stroke-width: 1.5; stroke-linecap: square\"/>\n   </g>\n   <g id=\"line2d_19\">\n    <path d=\"M 69.560852 276.014177 \nL 77.885328 275.027678 \nL 102.858754 271.026233 \nL 144.481132 263.382736 \nL 186.10351 254.636345 \nL 227.725887 244.252748 \nL 310.970642 221.192272 \nL 394.215398 195.792071 \n\" clip-path=\"url(#p6e0e212cff)\" style=\"fill: none; stroke: #d62728; stroke-width: 1.5; stroke-linecap: square\"/>\n   </g>\n   <g id=\"line2d_20\">\n    <path d=\"M 69.560852 275.780744 \nL 77.885328 274.300996 \nL 102.858754 268.298828 \nL 144.481132 256.833582 \nL 186.10351 243.713996 \nL 227.725887 228.1386 \nL 310.970642 193.547886 \nL 394.215398 155.447584 \n\" clip-path=\"url(#p6e0e212cff)\" style=\"fill: none; stroke: #9467bd; stroke-width: 1.5; stroke-linecap: square\"/>\n   </g>\n   <g id=\"line2d_21\">\n    <path d=\"M 69.560852 275.547311 \nL 77.885328 273.574313 \nL 102.858754 265.571423 \nL 144.481132 250.284428 \nL 186.10351 232.791647 \nL 227.725887 212.024453 \nL 310.970642 165.9035 \nL 394.215398 115.103098 \n\" clip-path=\"url(#p6e0e212cff)\" style=\"fill: none; stroke: #8c564b; stroke-width: 1.5; stroke-linecap: square\"/>\n   </g>\n   <g id=\"patch_3\">\n    <path d=\"M 53.328125 288.430125 \nL 53.328125 22.318125 \n\" style=\"fill: none; stroke: #000000; stroke-width: 0.8; stroke-linejoin: miter; stroke-linecap: square\"/>\n   </g>\n   <g id=\"patch_4\">\n    <path d=\"M 410.448125 288.430125 \nL 410.448125 22.318125 \n\" style=\"fill: none; stroke: #000000; stroke-width: 0.8; stroke-linejoin: miter; stroke-linecap: square\"/>\n   </g>\n   <g id=\"patch_5\">\n    <path d=\"M 53.328125 288.430125 \nL 410.448125 288.430125 \n\" style=\"fill: none; stroke: #000000; stroke-width: 0.8; stroke-linejoin: miter; stroke-linecap: square\"/>\n   </g>\n   <g id=\"patch_6\">\n    <path d=\"M 53.328125 22.318125 \nL 410.448125 22.318125 \n\" style=\"fill: none; stroke: #000000; stroke-width: 0.8; stroke-linejoin: miter; stroke-linecap: square\"/>\n   </g>\n   <g id=\"text_18\">\n    <!-- Isotopic relaxation timescale comparison -->\n    <g transform=\"translate(108.665 16.318125) scale(0.12 -0.12)\">\n     <defs>\n      <path id=\"DejaVuSans-49\" d=\"M 628 4666 \nL 1259 4666 \nL 1259 0 \nL 628 0 \nL 628 4666 \nz\n\" transform=\"scale(0.015625)\"/>\n      <path id=\"DejaVuSans-6f\" d=\"M 1959 3097 \nQ 1497 3097 1228 2736 \nQ 959 2375 959 1747 \nQ 959 1119 1226 758 \nQ 1494 397 1959 397 \nQ 2419 397 2687 759 \nQ 2956 1122 2956 1747 \nQ 2956 2369 2687 2733 \nQ 2419 3097 1959 3097 \nz\nM 1959 3584 \nQ 2709 3584 3137 3096 \nQ 3566 2609 3566 1747 \nQ 3566 888 3137 398 \nQ 2709 -91 1959 -91 \nQ 1206 -91 779 398 \nQ 353 888 353 1747 \nQ 353 2609 779 3096 \nQ 1206 3584 1959 3584 \nz\n\" transform=\"scale(0.015625)\"/>\n      <path id=\"DejaVuSans-74\" d=\"M 1172 4494 \nL 1172 3500 \nL 2356 3500 \nL 2356 3053 \nL 1172 3053 \nL 1172 1153 \nQ 1172 725 1289 603 \nQ 1406 481 1766 481 \nL 2356 481 \nL 2356 0 \nL 1766 0 \nQ 1100 0 847 248 \nQ 594 497 594 1153 \nL 594 3053 \nL 172 3053 \nL 172 3500 \nL 594 3500 \nL 594 4494 \nL 1172 4494 \nz\n\" transform=\"scale(0.015625)\"/>\n      <path id=\"DejaVuSans-70\" d=\"M 1159 525 \nL 1159 -1331 \nL 581 -1331 \nL 581 3500 \nL 1159 3500 \nL 1159 2969 \nQ 1341 3281 1617 3432 \nQ 1894 3584 2278 3584 \nQ 2916 3584 3314 3078 \nQ 3713 2572 3713 1747 \nQ 3713 922 3314 415 \nQ 2916 -91 2278 -91 \nQ 1894 -91 1617 61 \nQ 1341 213 1159 525 \nz\nM 3116 1747 \nQ 3116 2381 2855 2742 \nQ 2594 3103 2138 3103 \nQ 1681 3103 1420 2742 \nQ 1159 2381 1159 1747 \nQ 1159 1113 1420 752 \nQ 1681 391 2138 391 \nQ 2594 391 2855 752 \nQ 3116 1113 3116 1747 \nz\n\" transform=\"scale(0.015625)\"/>\n      <path id=\"DejaVuSans-72\" d=\"M 2631 2963 \nQ 2534 3019 2420 3045 \nQ 2306 3072 2169 3072 \nQ 1681 3072 1420 2755 \nQ 1159 2438 1159 1844 \nL 1159 0 \nL 581 0 \nL 581 3500 \nL 1159 3500 \nL 1159 2956 \nQ 1341 3275 1631 3429 \nQ 1922 3584 2338 3584 \nQ 2397 3584 2469 3576 \nQ 2541 3569 2628 3553 \nL 2631 2963 \nz\n\" transform=\"scale(0.015625)\"/>\n      <path id=\"DejaVuSans-6c\" d=\"M 603 4863 \nL 1178 4863 \nL 1178 0 \nL 603 0 \nL 603 4863 \nz\n\" transform=\"scale(0.015625)\"/>\n      <path id=\"DejaVuSans-78\" d=\"M 3513 3500 \nL 2247 1797 \nL 3578 0 \nL 2900 0 \nL 1881 1375 \nL 863 0 \nL 184 0 \nL 1544 1831 \nL 300 3500 \nL 978 3500 \nL 1906 2253 \nL 2834 3500 \nL 3513 3500 \nz\n\" transform=\"scale(0.015625)\"/>\n      <path id=\"DejaVuSans-6e\" d=\"M 3513 2113 \nL 3513 0 \nL 2938 0 \nL 2938 2094 \nQ 2938 2591 2744 2837 \nQ 2550 3084 2163 3084 \nQ 1697 3084 1428 2787 \nQ 1159 2491 1159 1978 \nL 1159 0 \nL 581 0 \nL 581 3500 \nL 1159 3500 \nL 1159 2956 \nQ 1366 3272 1645 3428 \nQ 1925 3584 2291 3584 \nQ 2894 3584 3203 3211 \nQ 3513 2838 3513 2113 \nz\n\" transform=\"scale(0.015625)\"/>\n     </defs>\n     <use xlink:href=\"#DejaVuSans-49\"/>\n     <use xlink:href=\"#DejaVuSans-73\" transform=\"translate(29.492188 0)\"/>\n     <use xlink:href=\"#DejaVuSans-6f\" transform=\"translate(81.591797 0)\"/>\n     <use xlink:href=\"#DejaVuSans-74\" transform=\"translate(142.773438 0)\"/>\n     <use xlink:href=\"#DejaVuSans-6f\" transform=\"translate(181.982422 0)\"/>\n     <use xlink:href=\"#DejaVuSans-70\" transform=\"translate(243.164062 0)\"/>\n     <use xlink:href=\"#DejaVuSans-69\" transform=\"translate(306.640625 0)\"/>\n     <use xlink:href=\"#DejaVuSans-63\" transform=\"translate(334.423828 0)\"/>\n     <use xlink:href=\"#DejaVuSans-20\" transform=\"translate(389.404297 0)\"/>\n     <use xlink:href=\"#DejaVuSans-72\" transform=\"translate(421.191406 0)\"/>\n     <use xlink:href=\"#DejaVuSans-65\" transform=\"translate(460.054688 0)\"/>\n     <use xlink:href=\"#DejaVuSans-6c\" transform=\"translate(521.578125 0)\"/>\n     <use xlink:href=\"#DejaVuSans-61\" transform=\"translate(549.361328 0)\"/>\n     <use xlink:href=\"#DejaVuSans-78\" transform=\"translate(610.640625 0)\"/>\n     <use xlink:href=\"#DejaVuSans-61\" transform=\"translate(669.820312 0)\"/>\n     <use xlink:href=\"#DejaVuSans-74\" transform=\"translate(731.099609 0)\"/>\n     <use xlink:href=\"#DejaVuSans-69\" transform=\"translate(770.308594 0)\"/>\n     <use xlink:href=\"#DejaVuSans-6f\" transform=\"translate(798.091797 0)\"/>\n     <use xlink:href=\"#DejaVuSans-6e\" transform=\"translate(859.273438 0)\"/>\n     <use xlink:href=\"#DejaVuSans-20\" transform=\"translate(922.652344 0)\"/>\n     <use xlink:href=\"#DejaVuSans-74\" transform=\"translate(954.439453 0)\"/>\n     <use xlink:href=\"#DejaVuSans-69\" transform=\"translate(993.648438 0)\"/>\n     <use xlink:href=\"#DejaVuSans-6d\" transform=\"translate(1021.431641 0)\"/>\n     <use xlink:href=\"#DejaVuSans-65\" transform=\"translate(1118.84375 0)\"/>\n     <use xlink:href=\"#DejaVuSans-73\" transform=\"translate(1180.367188 0)\"/>\n     <use xlink:href=\"#DejaVuSans-63\" transform=\"translate(1232.466797 0)\"/>\n     <use xlink:href=\"#DejaVuSans-61\" transform=\"translate(1287.447266 0)\"/>\n     <use xlink:href=\"#DejaVuSans-6c\" transform=\"translate(1348.726562 0)\"/>\n     <use xlink:href=\"#DejaVuSans-65\" transform=\"translate(1376.509766 0)\"/>\n     <use xlink:href=\"#DejaVuSans-20\" transform=\"translate(1438.033203 0)\"/>\n     <use xlink:href=\"#DejaVuSans-63\" transform=\"translate(1469.820312 0)\"/>\n     <use xlink:href=\"#DejaVuSans-6f\" transform=\"translate(1524.800781 0)\"/>\n     <use xlink:href=\"#DejaVuSans-6d\" transform=\"translate(1585.982422 0)\"/>\n     <use xlink:href=\"#DejaVuSans-70\" transform=\"translate(1683.394531 0)\"/>\n     <use xlink:href=\"#DejaVuSans-61\" transform=\"translate(1746.871094 0)\"/>\n     <use xlink:href=\"#DejaVuSans-72\" transform=\"translate(1808.150391 0)\"/>\n     <use xlink:href=\"#DejaVuSans-69\" transform=\"translate(1849.263672 0)\"/>\n     <use xlink:href=\"#DejaVuSans-73\" transform=\"translate(1877.046875 0)\"/>\n     <use xlink:href=\"#DejaVuSans-6f\" transform=\"translate(1929.146484 0)\"/>\n     <use xlink:href=\"#DejaVuSans-6e\" transform=\"translate(1990.328125 0)\"/>\n    </g>\n   </g>\n   <g id=\"legend_1\">\n    <g id=\"patch_7\">\n     <path d=\"M 60.328125 118.665 \nL 162.109375 118.665 \nQ 164.109375 118.665 164.109375 116.665 \nL 164.109375 29.318125 \nQ 164.109375 27.318125 162.109375 27.318125 \nL 60.328125 27.318125 \nQ 58.328125 27.318125 58.328125 29.318125 \nL 58.328125 116.665 \nQ 58.328125 118.665 60.328125 118.665 \nz\n\" style=\"fill: #ffffff; opacity: 0.8; stroke: #cccccc; stroke-linejoin: miter\"/>\n    </g>\n    <g id=\"line2d_22\">\n     <path d=\"M 62.328125 35.416562 \nL 72.328125 35.416562 \nL 82.328125 35.416562 \n\" style=\"fill: none; stroke: #1f77b4; stroke-width: 1.5; stroke-linecap: square\"/>\n    </g>\n    <g id=\"text_19\">\n     <!-- RH_env=0.9 -->\n     <g transform=\"translate(90.328125 38.916562) scale(0.1 -0.1)\">\n      <defs>\n       <path id=\"DejaVuSans-48\" d=\"M 628 4666 \nL 1259 4666 \nL 1259 2753 \nL 3553 2753 \nL 3553 4666 \nL 4184 4666 \nL 4184 0 \nL 3553 0 \nL 3553 2222 \nL 1259 2222 \nL 1259 0 \nL 628 0 \nL 628 4666 \nz\n\" transform=\"scale(0.015625)\"/>\n       <path id=\"DejaVuSans-5f\" d=\"M 3263 -1063 \nL 3263 -1509 \nL -63 -1509 \nL -63 -1063 \nL 3263 -1063 \nz\n\" transform=\"scale(0.015625)\"/>\n       <path id=\"DejaVuSans-76\" d=\"M 191 3500 \nL 800 3500 \nL 1894 563 \nL 2988 3500 \nL 3597 3500 \nL 2284 0 \nL 1503 0 \nL 191 3500 \nz\n\" transform=\"scale(0.015625)\"/>\n       <path id=\"DejaVuSans-3d\" d=\"M 678 2906 \nL 4684 2906 \nL 4684 2381 \nL 678 2381 \nL 678 2906 \nz\nM 678 1631 \nL 4684 1631 \nL 4684 1100 \nL 678 1100 \nL 678 1631 \nz\n\" transform=\"scale(0.015625)\"/>\n       <path id=\"DejaVuSans-39\" d=\"M 703 97 \nL 703 672 \nQ 941 559 1184 500 \nQ 1428 441 1663 441 \nQ 2288 441 2617 861 \nQ 2947 1281 2994 2138 \nQ 2813 1869 2534 1725 \nQ 2256 1581 1919 1581 \nQ 1219 1581 811 2004 \nQ 403 2428 403 3163 \nQ 403 3881 828 4315 \nQ 1253 4750 1959 4750 \nQ 2769 4750 3195 4129 \nQ 3622 3509 3622 2328 \nQ 3622 1225 3098 567 \nQ 2575 -91 1691 -91 \nQ 1453 -91 1209 -44 \nQ 966 3 703 97 \nz\nM 1959 2075 \nQ 2384 2075 2632 2365 \nQ 2881 2656 2881 3163 \nQ 2881 3666 2632 3958 \nQ 2384 4250 1959 4250 \nQ 1534 4250 1286 3958 \nQ 1038 3666 1038 3163 \nQ 1038 2656 1286 2365 \nQ 1534 2075 1959 2075 \nz\n\" transform=\"scale(0.015625)\"/>\n      </defs>\n      <use xlink:href=\"#DejaVuSans-52\"/>\n      <use xlink:href=\"#DejaVuSans-48\" transform=\"translate(69.482422 0)\"/>\n      <use xlink:href=\"#DejaVuSans-5f\" transform=\"translate(144.677734 0)\"/>\n      <use xlink:href=\"#DejaVuSans-65\" transform=\"translate(194.677734 0)\"/>\n      <use xlink:href=\"#DejaVuSans-6e\" transform=\"translate(256.201172 0)\"/>\n      <use xlink:href=\"#DejaVuSans-76\" transform=\"translate(319.580078 0)\"/>\n      <use xlink:href=\"#DejaVuSans-3d\" transform=\"translate(378.759766 0)\"/>\n      <use xlink:href=\"#DejaVuSans-30\" transform=\"translate(462.548828 0)\"/>\n      <use xlink:href=\"#DejaVuSans-2e\" transform=\"translate(526.171875 0)\"/>\n      <use xlink:href=\"#DejaVuSans-39\" transform=\"translate(557.958984 0)\"/>\n     </g>\n    </g>\n    <g id=\"line2d_23\">\n     <path d=\"M 62.328125 50.372813 \nL 72.328125 50.372813 \nL 82.328125 50.372813 \n\" style=\"fill: none; stroke: #ff7f0e; stroke-width: 1.5; stroke-linecap: square\"/>\n    </g>\n    <g id=\"text_20\">\n     <!-- Z&amp;A RH=0.9 -->\n     <g transform=\"translate(90.328125 53.872813) scale(0.1 -0.1)\">\n      <defs>\n       <path id=\"DejaVuSans-5a\" d=\"M 359 4666 \nL 4025 4666 \nL 4025 4184 \nL 1075 531 \nL 4097 531 \nL 4097 0 \nL 288 0 \nL 288 481 \nL 3238 4134 \nL 359 4134 \nL 359 4666 \nz\n\" transform=\"scale(0.015625)\"/>\n       <path id=\"DejaVuSans-26\" d=\"M 1556 2509 \nQ 1272 2256 1139 2004 \nQ 1006 1753 1006 1478 \nQ 1006 1022 1337 719 \nQ 1669 416 2169 416 \nQ 2466 416 2725 514 \nQ 2984 613 3213 813 \nL 1556 2509 \nz\nM 1997 2859 \nL 3584 1234 \nQ 3769 1513 3872 1830 \nQ 3975 2147 3994 2503 \nL 4575 2503 \nQ 4538 2091 4375 1687 \nQ 4213 1284 3922 891 \nL 4794 0 \nL 4006 0 \nL 3559 459 \nQ 3234 181 2878 45 \nQ 2522 -91 2113 -91 \nQ 1359 -91 881 339 \nQ 403 769 403 1441 \nQ 403 1841 612 2192 \nQ 822 2544 1241 2853 \nQ 1091 3050 1012 3245 \nQ 934 3441 934 3628 \nQ 934 4134 1281 4442 \nQ 1628 4750 2203 4750 \nQ 2463 4750 2720 4694 \nQ 2978 4638 3244 4525 \nL 3244 3956 \nQ 2972 4103 2725 4179 \nQ 2478 4256 2266 4256 \nQ 1938 4256 1733 4082 \nQ 1528 3909 1528 3634 \nQ 1528 3475 1620 3314 \nQ 1713 3153 1997 2859 \nz\n\" transform=\"scale(0.015625)\"/>\n       <path id=\"DejaVuSans-41\" d=\"M 2188 4044 \nL 1331 1722 \nL 3047 1722 \nL 2188 4044 \nz\nM 1831 4666 \nL 2547 4666 \nL 4325 0 \nL 3669 0 \nL 3244 1197 \nL 1141 1197 \nL 716 0 \nL 50 0 \nL 1831 4666 \nz\n\" transform=\"scale(0.015625)\"/>\n      </defs>\n      <use xlink:href=\"#DejaVuSans-5a\"/>\n      <use xlink:href=\"#DejaVuSans-26\" transform=\"translate(68.505859 0)\"/>\n      <use xlink:href=\"#DejaVuSans-41\" transform=\"translate(146.484375 0)\"/>\n      <use xlink:href=\"#DejaVuSans-20\" transform=\"translate(214.892578 0)\"/>\n      <use xlink:href=\"#DejaVuSans-52\" transform=\"translate(246.679688 0)\"/>\n      <use xlink:href=\"#DejaVuSans-48\" transform=\"translate(316.162109 0)\"/>\n      <use xlink:href=\"#DejaVuSans-3d\" transform=\"translate(391.357422 0)\"/>\n      <use xlink:href=\"#DejaVuSans-30\" transform=\"translate(475.146484 0)\"/>\n      <use xlink:href=\"#DejaVuSans-2e\" transform=\"translate(538.769531 0)\"/>\n      <use xlink:href=\"#DejaVuSans-39\" transform=\"translate(570.556641 0)\"/>\n     </g>\n    </g>\n    <g id=\"line2d_24\">\n     <path d=\"M 62.328125 65.050937 \nL 72.328125 65.050937 \nL 82.328125 65.050937 \n\" style=\"fill: none; stroke: #2ca02c; stroke-width: 1.5; stroke-linecap: square\"/>\n    </g>\n    <g id=\"text_21\">\n     <!-- Z&amp;A RH=0.5 -->\n     <g transform=\"translate(90.328125 68.550937) scale(0.1 -0.1)\">\n      <use xlink:href=\"#DejaVuSans-5a\"/>\n      <use xlink:href=\"#DejaVuSans-26\" transform=\"translate(68.505859 0)\"/>\n      <use xlink:href=\"#DejaVuSans-41\" transform=\"translate(146.484375 0)\"/>\n      <use xlink:href=\"#DejaVuSans-20\" transform=\"translate(214.892578 0)\"/>\n      <use xlink:href=\"#DejaVuSans-52\" transform=\"translate(246.679688 0)\"/>\n      <use xlink:href=\"#DejaVuSans-48\" transform=\"translate(316.162109 0)\"/>\n      <use xlink:href=\"#DejaVuSans-3d\" transform=\"translate(391.357422 0)\"/>\n      <use xlink:href=\"#DejaVuSans-30\" transform=\"translate(475.146484 0)\"/>\n      <use xlink:href=\"#DejaVuSans-2e\" transform=\"translate(538.769531 0)\"/>\n      <use xlink:href=\"#DejaVuSans-35\" transform=\"translate(570.556641 0)\"/>\n     </g>\n    </g>\n    <g id=\"line2d_25\">\n     <path d=\"M 62.328125 79.729062 \nL 72.328125 79.729062 \nL 82.328125 79.729062 \n\" style=\"fill: none; stroke: #d62728; stroke-width: 1.5; stroke-linecap: square\"/>\n    </g>\n    <g id=\"text_22\">\n     <!-- Z&amp;A RH=0.7 -->\n     <g transform=\"translate(90.328125 83.229062) scale(0.1 -0.1)\">\n      <use xlink:href=\"#DejaVuSans-5a\"/>\n      <use xlink:href=\"#DejaVuSans-26\" transform=\"translate(68.505859 0)\"/>\n      <use xlink:href=\"#DejaVuSans-41\" transform=\"translate(146.484375 0)\"/>\n      <use xlink:href=\"#DejaVuSans-20\" transform=\"translate(214.892578 0)\"/>\n      <use xlink:href=\"#DejaVuSans-52\" transform=\"translate(246.679688 0)\"/>\n      <use xlink:href=\"#DejaVuSans-48\" transform=\"translate(316.162109 0)\"/>\n      <use xlink:href=\"#DejaVuSans-3d\" transform=\"translate(391.357422 0)\"/>\n      <use xlink:href=\"#DejaVuSans-30\" transform=\"translate(475.146484 0)\"/>\n      <use xlink:href=\"#DejaVuSans-2e\" transform=\"translate(538.769531 0)\"/>\n      <use xlink:href=\"#DejaVuSans-37\" transform=\"translate(570.556641 0)\"/>\n     </g>\n    </g>\n    <g id=\"line2d_26\">\n     <path d=\"M 62.328125 94.407187 \nL 72.328125 94.407187 \nL 82.328125 94.407187 \n\" style=\"fill: none; stroke: #9467bd; stroke-width: 1.5; stroke-linecap: square\"/>\n    </g>\n    <g id=\"text_23\">\n     <!-- Z&amp;A RH=0.8 -->\n     <g transform=\"translate(90.328125 97.907187) scale(0.1 -0.1)\">\n      <defs>\n       <path id=\"DejaVuSans-38\" d=\"M 2034 2216 \nQ 1584 2216 1326 1975 \nQ 1069 1734 1069 1313 \nQ 1069 891 1326 650 \nQ 1584 409 2034 409 \nQ 2484 409 2743 651 \nQ 3003 894 3003 1313 \nQ 3003 1734 2745 1975 \nQ 2488 2216 2034 2216 \nz\nM 1403 2484 \nQ 997 2584 770 2862 \nQ 544 3141 544 3541 \nQ 544 4100 942 4425 \nQ 1341 4750 2034 4750 \nQ 2731 4750 3128 4425 \nQ 3525 4100 3525 3541 \nQ 3525 3141 3298 2862 \nQ 3072 2584 2669 2484 \nQ 3125 2378 3379 2068 \nQ 3634 1759 3634 1313 \nQ 3634 634 3220 271 \nQ 2806 -91 2034 -91 \nQ 1263 -91 848 271 \nQ 434 634 434 1313 \nQ 434 1759 690 2068 \nQ 947 2378 1403 2484 \nz\nM 1172 3481 \nQ 1172 3119 1398 2916 \nQ 1625 2713 2034 2713 \nQ 2441 2713 2670 2916 \nQ 2900 3119 2900 3481 \nQ 2900 3844 2670 4047 \nQ 2441 4250 2034 4250 \nQ 1625 4250 1398 4047 \nQ 1172 3844 1172 3481 \nz\n\" transform=\"scale(0.015625)\"/>\n      </defs>\n      <use xlink:href=\"#DejaVuSans-5a\"/>\n      <use xlink:href=\"#DejaVuSans-26\" transform=\"translate(68.505859 0)\"/>\n      <use xlink:href=\"#DejaVuSans-41\" transform=\"translate(146.484375 0)\"/>\n      <use xlink:href=\"#DejaVuSans-20\" transform=\"translate(214.892578 0)\"/>\n      <use xlink:href=\"#DejaVuSans-52\" transform=\"translate(246.679688 0)\"/>\n      <use xlink:href=\"#DejaVuSans-48\" transform=\"translate(316.162109 0)\"/>\n      <use xlink:href=\"#DejaVuSans-3d\" transform=\"translate(391.357422 0)\"/>\n      <use xlink:href=\"#DejaVuSans-30\" transform=\"translate(475.146484 0)\"/>\n      <use xlink:href=\"#DejaVuSans-2e\" transform=\"translate(538.769531 0)\"/>\n      <use xlink:href=\"#DejaVuSans-38\" transform=\"translate(570.556641 0)\"/>\n     </g>\n    </g>\n    <g id=\"line2d_27\">\n     <path d=\"M 62.328125 109.085312 \nL 72.328125 109.085312 \nL 82.328125 109.085312 \n\" style=\"fill: none; stroke: #8c564b; stroke-width: 1.5; stroke-linecap: square\"/>\n    </g>\n    <g id=\"text_24\">\n     <!-- Z&amp;A RH=0.85 -->\n     <g transform=\"translate(90.328125 112.585312) scale(0.1 -0.1)\">\n      <use xlink:href=\"#DejaVuSans-5a\"/>\n      <use xlink:href=\"#DejaVuSans-26\" transform=\"translate(68.505859 0)\"/>\n      <use xlink:href=\"#DejaVuSans-41\" transform=\"translate(146.484375 0)\"/>\n      <use xlink:href=\"#DejaVuSans-20\" transform=\"translate(214.892578 0)\"/>\n      <use xlink:href=\"#DejaVuSans-52\" transform=\"translate(246.679688 0)\"/>\n      <use xlink:href=\"#DejaVuSans-48\" transform=\"translate(316.162109 0)\"/>\n      <use xlink:href=\"#DejaVuSans-3d\" transform=\"translate(391.357422 0)\"/>\n      <use xlink:href=\"#DejaVuSans-30\" transform=\"translate(475.146484 0)\"/>\n      <use xlink:href=\"#DejaVuSans-2e\" transform=\"translate(538.769531 0)\"/>\n      <use xlink:href=\"#DejaVuSans-38\" transform=\"translate(570.556641 0)\"/>\n      <use xlink:href=\"#DejaVuSans-35\" transform=\"translate(634.179688 0)\"/>\n     </g>\n    </g>\n   </g>\n  </g>\n </g>\n <defs>\n  <clipPath id=\"p6e0e212cff\">\n   <rect x=\"53.328125\" y=\"22.318125\" width=\"357.12\" height=\"266.112\"/>\n  </clipPath>\n </defs>\n</svg>\n"
     },
     "metadata": {},
     "output_type": "display_data"
    },
    {
     "data": {
      "text/plain": [
       "HBox(children=(HTML(value=\"<a href='./timescales_comparison.pdf' target='_blank'>./timescales_comparison.pdf</…"
      ],
      "application/vnd.jupyter.widget-view+json": {
       "version_major": 2,
       "version_minor": 0,
       "model_id": "9a10c09a5e74429580e8bdf6b892a397"
      }
     },
     "metadata": {},
     "output_type": "display_data"
    }
   ],
   "execution_count": 171
  },
  {
   "cell_type": "markdown",
   "id": "753a7cdce2bd8a86",
   "metadata": {},
   "source": [
    "## "
   ]
  },
  {
   "metadata": {},
   "cell_type": "markdown",
   "source": [
    "# iso_env \n",
    "# 3 izotopy!\n",
    "# RH "
   ],
   "id": "92bd56da8a1d653"
  },
  {
   "metadata": {
    "ExecuteTime": {
     "end_time": "2025-03-14T10:53:36.381444Z",
     "start_time": "2025-03-14T10:53:36.379494Z"
    }
   },
   "cell_type": "code",
   "source": "",
   "id": "c4fff6f246b54630",
   "outputs": [],
   "execution_count": null
  },
  {
   "metadata": {
    "ExecuteTime": {
     "end_time": "2025-03-14T10:53:36.396007Z",
     "start_time": "2025-03-14T10:53:36.394788Z"
    }
   },
   "cell_type": "code",
   "source": "",
   "id": "8b85203875012910",
   "outputs": [],
   "execution_count": null
  }
 ],
 "metadata": {
  "kernelspec": {
   "display_name": "Python 3 (ipykernel)",
   "language": "python",
   "name": "python3"
  },
  "language_info": {
   "codemirror_mode": {
    "name": "ipython",
    "version": 3
   },
   "file_extension": ".py",
   "mimetype": "text/x-python",
   "name": "python",
   "nbconvert_exporter": "python",
   "pygments_lexer": "ipython3",
   "version": "3.12.8"
  }
 },
 "nbformat": 4,
 "nbformat_minor": 5
}
