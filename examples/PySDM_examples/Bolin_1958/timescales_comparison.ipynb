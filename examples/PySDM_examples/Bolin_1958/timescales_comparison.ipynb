{
 "cells": [
  {
   "metadata": {},
   "cell_type": "markdown",
   "source": [
    "[![preview notebook](https://img.shields.io/static/v1?label=render%20on&logo=github&color=87ce3e&message=GitHub)](https://github.com/open-atmos/PySDM/blob/main/examples/PySDM_examples/Bolin_1958/timescales_comparison.ipynb)\n",
    "[![launch on mybinder.org](https://mybinder.org/badge_logo.svg)](https://mybinder.org/v2/gh/open-atmos/PySDM.git/main?urlpath=lab/tree/examples/PySDM_examples/Bolin_1958/timescales_comparison.ipynb)\n",
    "[![launch on Colab](https://colab.research.google.com/assets/colab-badge.svg)](https://colab.research.google.com/github/open-atmos/PySDM/blob/main/examples/PySDM_examples/Bolin_1958/timescales_comparison.ipynb)"
   ],
   "id": "da62f9aa77468520"
  },
  {
   "metadata": {},
   "cell_type": "markdown",
   "source": [
    "#### Timescales comparison \n",
    "##### Bolin\n",
    "##### Gedzelman"
   ],
   "id": "c7eb55d509c585e9"
  },
  {
   "metadata": {
    "ExecuteTime": {
     "end_time": "2025-01-09T15:06:01.173890Z",
     "start_time": "2025-01-09T15:06:01.169926Z"
    }
   },
   "cell_type": "code",
   "source": [
    "import sys\n",
    "\n",
    "from PySDM.physics.constants_defaults import R_str\n",
    "\n",
    "if 'google.colab' in sys.modules:\n",
    "    !pip --quiet install open-atmos-jupyter-utils\n",
    "    from open_atmos_jupyter_utils import pip_install_on_colab\n",
    "    pip_install_on_colab('PySDM-examples')"
   ],
   "id": "f508348dd491651d",
   "outputs": [],
   "execution_count": 2
  },
  {
   "metadata": {
    "ExecuteTime": {
     "end_time": "2025-01-09T15:06:05.085170Z",
     "start_time": "2025-01-09T15:06:01.494279Z"
    }
   },
   "cell_type": "code",
   "source": [
    "import numpy as np\n",
    "from PySDM.physics import si\n",
    "from PySDM import Formulae\n",
    "from PySDM_examples.Bolin_1958.common import *"
   ],
   "id": "c680144e7ad3b94a",
   "outputs": [],
   "execution_count": 3
  },
  {
   "metadata": {
    "ExecuteTime": {
     "end_time": "2025-01-09T15:26:14.986370Z",
     "start_time": "2025-01-09T15:26:14.975243Z"
    }
   },
   "cell_type": "code",
   "source": "from PySDM.physics import constants_defaults as constants",
   "id": "d7b592d337cfd539",
   "outputs": [],
   "execution_count": 12
  },
  {
   "metadata": {
    "ExecuteTime": {
     "end_time": "2025-01-09T15:26:17.074769Z",
     "start_time": "2025-01-09T15:26:17.069900Z"
    }
   },
   "cell_type": "code",
   "source": "K = formulae.diffusion_thermics.K(T = temperature, p = pressure)",
   "id": "b41071723ec843b7",
   "outputs": [],
   "execution_count": 13
  },
  {
   "metadata": {
    "ExecuteTime": {
     "end_time": "2025-01-09T15:26:18.007565Z",
     "start_time": "2025-01-09T15:26:18.004125Z"
    }
   },
   "cell_type": "code",
   "source": [
    "M = 1\n",
    "S = 0.5\n",
    "b = pvs * D * formulae.latent_heat.lv(temperature) * M / constants.R_str / K / temperature**2"
   ],
   "id": "376aa5a3e647dca8",
   "outputs": [],
   "execution_count": 14
  },
  {
   "metadata": {
    "ExecuteTime": {
     "end_time": "2025-01-09T15:26:20.901682Z",
     "start_time": "2025-01-09T15:26:20.894588Z"
    }
   },
   "cell_type": "code",
   "source": "tau = -4 * np.pi * radii * D * F * pvs * (S - 1)/(1 + b)",
   "id": "66b599e2475f5b73",
   "outputs": [],
   "execution_count": 15
  },
  {
   "metadata": {
    "ExecuteTime": {
     "end_time": "2025-01-09T15:26:25.468326Z",
     "start_time": "2025-01-09T15:26:25.449685Z"
    }
   },
   "cell_type": "code",
   "source": "tau",
   "id": "53edb54ed337d98b",
   "outputs": [
    {
     "data": {
      "text/plain": [
       "array([2.30168123e-06, 5.91497611e-06, 2.46245427e-05, 8.20394268e-05,\n",
       "       1.66021960e-04, 2.66741421e-04, 5.24764724e-04, 8.52321804e-04])"
      ]
     },
     "execution_count": 16,
     "metadata": {},
     "output_type": "execute_result"
    }
   ],
   "execution_count": 16
  },
  {
   "metadata": {},
   "cell_type": "code",
   "outputs": [],
   "execution_count": null,
   "source": "",
   "id": "6c78cdc343d5f311"
  }
 ],
 "metadata": {
  "kernelspec": {
   "display_name": "Python 3",
   "language": "python",
   "name": "python3"
  },
  "language_info": {
   "codemirror_mode": {
    "name": "ipython",
    "version": 2
   },
   "file_extension": ".py",
   "mimetype": "text/x-python",
   "name": "python",
   "nbconvert_exporter": "python",
   "pygments_lexer": "ipython2",
   "version": "2.7.6"
  }
 },
 "nbformat": 4,
 "nbformat_minor": 5
}
