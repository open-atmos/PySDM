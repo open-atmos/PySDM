{
 "cells": [
  {
   "metadata": {},
   "cell_type": "markdown",
   "source": [
    "[![preview notebook](https://img.shields.io/static/v1?label=render%20on&logo=github&color=87ce3e&message=GitHub)](https://github.com/open-atmos/PySDM/blob/main/examples/PySDM_examples/Bolin_1958/timescales_comparison.ipynb)\n",
    "[![launch on mybinder.org](https://mybinder.org/badge_logo.svg)](https://mybinder.org/v2/gh/open-atmos/PySDM.git/main?urlpath=lab/tree/examples/PySDM_examples/Bolin_1958/timescales_comparison.ipynb)\n",
    "[![launch on Colab](https://colab.research.google.com/assets/colab-badge.svg)](https://colab.research.google.com/github/open-atmos/PySDM/blob/main/examples/PySDM_examples/Bolin_1958/timescales_comparison.ipynb)"
   ],
   "id": "da62f9aa77468520"
  },
  {
   "metadata": {},
   "cell_type": "markdown",
   "source": [
    "#### Timescales comparison \n",
    "##### Bolin\n",
    "##### Gedzelman"
   ],
   "id": "c7eb55d509c585e9"
  },
  {
   "metadata": {
    "ExecuteTime": {
     "end_time": "2025-02-10T13:20:12.534522Z",
     "start_time": "2025-02-10T13:20:12.530466Z"
    }
   },
   "cell_type": "code",
   "source": [
    "import sys\n",
    "if 'google.colab' in sys.modules:\n",
    "    !pip --quiet install open-atmos-jupyter-utils\n",
    "    from open_atmos_jupyter_utils import pip_install_on_colab\n",
    "    pip_install_on_colab('PySDM-examples')"
   ],
   "id": "f508348dd491651d",
   "outputs": [],
   "execution_count": 1
  },
  {
   "metadata": {
    "ExecuteTime": {
     "end_time": "2025-02-10T13:20:14.256347Z",
     "start_time": "2025-02-10T13:20:12.553872Z"
    }
   },
   "cell_type": "code",
   "source": [
    "import numpy as np\n",
    "from PySDM.physics import si\n",
    "from PySDM import Formulae\n",
    "from PySDM_examples.Bolin_1958.common import IsotopeTimescaleCommon\n",
    "from open_atmos_jupyter_utils import show_plot\n",
    "import pandas as pd"
   ],
   "id": "c680144e7ad3b94a",
   "outputs": [],
   "execution_count": 2
  },
  {
   "metadata": {
    "ExecuteTime": {
     "end_time": "2025-02-10T13:20:14.351647Z",
     "start_time": "2025-02-10T13:20:14.335482Z"
    }
   },
   "cell_type": "code",
   "source": [
    "any_non_zero_value = 44.0\n",
    "radii = np.asarray([0.005, 0.01, 0.025, 0.05, 0.075, 0.1, 0.15, 0.20]) * si.cm\n",
    "temperature = Formulae().constants.T0 + 10 * si.K\n",
    "\n",
    "settings = {\n",
    "    \"terminal_velocity\":\"RogersYau\",\n",
    "    \"drop_growth\":\"Mason1951\",\n",
    "    \"diffusion_thermics\":\"Neglect\",\n",
    "    \"saturation_vapour_pressure\":\"AugustRocheMagnus\",\n",
    "    \"ventilation\":\"Froessling1938\",\n",
    "    \"particle_shape_and_density\":\"LiquidSpheres\",\n",
    "    \"air_dynamic_viscosity\":\"ZografosEtAl1987\",\n",
    "}\n",
    "\n",
    "variants = {\n",
    "    'bolin': {\n",
    "        'constants': {\"BOLIN_ISOTOPE_TIMESCALE_COEFF_C1\": 1.63},\n",
    "        'isotope_relaxation_timescale': \"Bolin1958\",\n",
    "    },\n",
    "    'miyake': {\n",
    "        'isotope_relaxation_timescale': \"MiyakeEtAl1968\",\n",
    "    }\n",
    "}\n",
    "\n",
    "adjustment_time = pd.DataFrame({'radius [cm]':radii})"
   ],
   "id": "14eb5ccfadb724b4",
   "outputs": [],
   "execution_count": 3
  },
  {
   "metadata": {
    "ExecuteTime": {
     "end_time": "2025-02-10T13:20:14.359026Z",
     "start_time": "2025-02-10T13:20:14.357506Z"
    }
   },
   "cell_type": "code",
   "source": "## Bolin & Miyake",
   "id": "fa60b9096c1e7645",
   "outputs": [],
   "execution_count": 4
  },
  {
   "metadata": {
    "ExecuteTime": {
     "end_time": "2025-02-10T13:20:14.375640Z",
     "start_time": "2025-02-10T13:20:14.363173Z"
    }
   },
   "cell_type": "code",
   "source": [
    "for variant, kwargs in variants.items():\n",
    "    new_settings = {**kwargs, **settings}\n",
    "    iso_func = IsotopeTimescaleCommon(settings=new_settings, temperature=temperature, radii=radii)\n",
    "    r_dr_dt = iso_func.r_dr_dt_fun(K=any_non_zero_value)\n",
    "    adjustment_time[variant] = iso_func.formulae.isotope_relaxation_timescale.tau_of_rdrdt(\n",
    "        radius = radii,\n",
    "        r_dr_dt = r_dr_dt(RH=0, RH_eq=1, lv=0),\n",
    "        alpha=1\n",
    "    )"
   ],
   "id": "c5b65e0aa78917e9",
   "outputs": [],
   "execution_count": 5
  },
  {
   "metadata": {},
   "cell_type": "markdown",
   "source": "## Bolin - check c1",
   "id": "bbbe4fe40c27d3da"
  },
  {
   "metadata": {
    "ExecuteTime": {
     "end_time": "2025-02-10T13:20:14.389339Z",
     "start_time": "2025-02-10T13:20:14.384558Z"
    }
   },
   "cell_type": "code",
   "source": [
    "iso_func = IsotopeTimescaleCommon(settings={**settings, **variants['bolin']}, temperature=temperature, radii=radii)\n",
    "r_dr_dt = iso_func.r_dr_dt_fun(K=any_non_zero_value)\n",
    "\n",
    "vent_coeff = iso_func.vent_coeff_fun()\n",
    "alpha = 0.75\n",
    "c1_coeff = iso_func.formulae.isotope_relaxation_timescale.c1_coeff(\n",
    "        vent_coeff_iso = vent_coeff,\n",
    "        vent_coeff = vent_coeff,\n",
    "        D_iso = iso_func.D,\n",
    "        D = iso_func.D,            \n",
    "        alpha = alpha,\n",
    "        rho_env_iso = 0,\n",
    "        rho_env = 0,\n",
    "        M_iso = 1, #any number const.M_3H,\n",
    "        pvs_iso = 1, #any number\n",
    "        pvs_water =1, #any number isotope_functions.formulae.saturation_vapour_pressure.pvs_water(temperature),\n",
    "        temperature = iso_func.temperature,\n",
    ")\n",
    "print(f\"c1 = {c1_coeff[0]:.2f},\\nBolin's c1 = {iso_func.formulae.constants.BOLIN_ISOTOPE_TIMESCALE_COEFF_C1}\")\n",
    "adjustment_time['bolin_c1'] = iso_func.formulae.isotope_relaxation_timescale.tau_of_rdrdt_c1(\n",
    "    radius = radii,\n",
    "    r_dr_dt = r_dr_dt(RH=0, RH_eq=1, lv=0),\n",
    "    c1_coeff = c1_coeff\n",
    ")"
   ],
   "id": "d24be9aa792c4c95",
   "outputs": [
    {
     "name": "stdout",
     "output_type": "stream",
     "text": [
      "c1 = 1.33,\n",
      "Bolin's c1 = 1.63\n"
     ]
    }
   ],
   "execution_count": 6
  },
  {
   "metadata": {},
   "cell_type": "markdown",
   "source": [
    "## Bolin without RH_env = 0 assumption\n",
    "#### TODO how to fix copy paste"
   ],
   "id": "a9f84676e11de4e8"
  },
  {
   "metadata": {
    "ExecuteTime": {
     "end_time": "2025-02-10T13:20:14.408853Z",
     "start_time": "2025-02-10T13:20:14.405564Z"
    }
   },
   "cell_type": "code",
   "source": [
    "alpha = 0.75\n",
    "c1_coeff = iso_func.formulae.isotope_relaxation_timescale.c1_coeff(\n",
    "        vent_coeff_iso = vent_coeff,\n",
    "        vent_coeff = vent_coeff,\n",
    "        D_iso = iso_func.D,\n",
    "        D = iso_func.D,            \n",
    "        alpha = alpha,\n",
    "        rho_env_iso = iso_func.formulae.constants.VSMOW_R_2H, \n",
    "        rho_env = 0,\n",
    "        M_iso = iso_func.formulae.constants.M_3H,\n",
    "        pvs_iso = iso_func.formulae.saturation_vapour_pressure.pvs_water(temperature), #any number\n",
    "        pvs_water = iso_func.formulae.saturation_vapour_pressure.pvs_water(temperature),\n",
    "        temperature = iso_func.temperature,\n",
    ")\n",
    "print(f\"c1 = {c1_coeff[0]:.2f},\\nBolin's c1 = {iso_func.formulae.constants.BOLIN_ISOTOPE_TIMESCALE_COEFF_C1}\")\n",
    "adjustment_time['bolin_c1'] = iso_func.formulae.isotope_relaxation_timescale.tau_of_rdrdt_c1(\n",
    "    radius = radii,\n",
    "    r_dr_dt = r_dr_dt(RH=0, RH_eq=1, lv=0),\n",
    "    c1_coeff = c1_coeff\n",
    ")"
   ],
   "id": "f5f11eb4ff50e22a",
   "outputs": [
    {
     "name": "stdout",
     "output_type": "stream",
     "text": [
      "c1 = 1.20,\n",
      "Bolin's c1 = 1.63\n"
     ]
    }
   ],
   "execution_count": 7
  },
  {
   "metadata": {
    "ExecuteTime": {
     "end_time": "2025-02-10T13:20:14.423633Z",
     "start_time": "2025-02-10T13:20:14.418626Z"
    }
   },
   "cell_type": "code",
   "source": "adjustment_time",
   "id": "2c00df07bb9ed47b",
   "outputs": [
    {
     "data": {
      "text/plain": [
       "   radius [cm]       bolin      miyake    bolin_c1\n",
       "0      0.00005    4.581014    2.810438    2.339868\n",
       "1      0.00010   14.260797    8.748955    7.284060\n",
       "2      0.00025   53.524009   32.836815   27.338732\n",
       "3      0.00050  128.523984   78.849070   65.646853\n",
       "4      0.00075  214.345829  131.500508  109.482517\n",
       "5      0.00100  316.232370  194.007589  161.523627\n",
       "6      0.00150  542.507726  332.826826  277.099450\n",
       "7      0.00200  791.741067  485.730716  404.401639"
      ],
      "text/html": [
       "<div>\n",
       "<style scoped>\n",
       "    .dataframe tbody tr th:only-of-type {\n",
       "        vertical-align: middle;\n",
       "    }\n",
       "\n",
       "    .dataframe tbody tr th {\n",
       "        vertical-align: top;\n",
       "    }\n",
       "\n",
       "    .dataframe thead th {\n",
       "        text-align: right;\n",
       "    }\n",
       "</style>\n",
       "<table border=\"1\" class=\"dataframe\">\n",
       "  <thead>\n",
       "    <tr style=\"text-align: right;\">\n",
       "      <th></th>\n",
       "      <th>radius [cm]</th>\n",
       "      <th>bolin</th>\n",
       "      <th>miyake</th>\n",
       "      <th>bolin_c1</th>\n",
       "    </tr>\n",
       "  </thead>\n",
       "  <tbody>\n",
       "    <tr>\n",
       "      <th>0</th>\n",
       "      <td>0.00005</td>\n",
       "      <td>4.581014</td>\n",
       "      <td>2.810438</td>\n",
       "      <td>2.339868</td>\n",
       "    </tr>\n",
       "    <tr>\n",
       "      <th>1</th>\n",
       "      <td>0.00010</td>\n",
       "      <td>14.260797</td>\n",
       "      <td>8.748955</td>\n",
       "      <td>7.284060</td>\n",
       "    </tr>\n",
       "    <tr>\n",
       "      <th>2</th>\n",
       "      <td>0.00025</td>\n",
       "      <td>53.524009</td>\n",
       "      <td>32.836815</td>\n",
       "      <td>27.338732</td>\n",
       "    </tr>\n",
       "    <tr>\n",
       "      <th>3</th>\n",
       "      <td>0.00050</td>\n",
       "      <td>128.523984</td>\n",
       "      <td>78.849070</td>\n",
       "      <td>65.646853</td>\n",
       "    </tr>\n",
       "    <tr>\n",
       "      <th>4</th>\n",
       "      <td>0.00075</td>\n",
       "      <td>214.345829</td>\n",
       "      <td>131.500508</td>\n",
       "      <td>109.482517</td>\n",
       "    </tr>\n",
       "    <tr>\n",
       "      <th>5</th>\n",
       "      <td>0.00100</td>\n",
       "      <td>316.232370</td>\n",
       "      <td>194.007589</td>\n",
       "      <td>161.523627</td>\n",
       "    </tr>\n",
       "    <tr>\n",
       "      <th>6</th>\n",
       "      <td>0.00150</td>\n",
       "      <td>542.507726</td>\n",
       "      <td>332.826826</td>\n",
       "      <td>277.099450</td>\n",
       "    </tr>\n",
       "    <tr>\n",
       "      <th>7</th>\n",
       "      <td>0.00200</td>\n",
       "      <td>791.741067</td>\n",
       "      <td>485.730716</td>\n",
       "      <td>404.401639</td>\n",
       "    </tr>\n",
       "  </tbody>\n",
       "</table>\n",
       "</div>"
      ]
     },
     "execution_count": 8,
     "metadata": {},
     "output_type": "execute_result"
    }
   ],
   "execution_count": 8
  },
  {
   "metadata": {
    "ExecuteTime": {
     "end_time": "2025-02-10T13:20:15.169425Z",
     "start_time": "2025-02-10T13:20:14.456182Z"
    }
   },
   "cell_type": "code",
   "source": [
    "import matplotlib.pyplot as plt\n",
    "\n",
    "fig, ax = plt.subplots()\n",
    "for variant, time in adjustment_time.items():\n",
    "    ax.loglog(radii, time * si.s, label=variant)\n",
    "ax.set_title('Isotopic relaxation timescale comparison in a log-log scale')\n",
    "ax.set_xlabel('Log Radius [cm]')\n",
    "ax.set_ylabel('Log Time [s]')\n",
    "ax.legend()\n",
    "show_plot('timescales_comparison.pdf')"
   ],
   "id": "52ad83d048dd7bbc",
   "outputs": [
    {
     "data": {
      "text/plain": [
       "<Figure size 640x480 with 1 Axes>"
      ],
      "image/svg+xml": "<?xml version=\"1.0\" encoding=\"utf-8\" standalone=\"no\"?>\n<!DOCTYPE svg PUBLIC \"-//W3C//DTD SVG 1.1//EN\"\n  \"http://www.w3.org/Graphics/SVG/1.1/DTD/svg11.dtd\">\n<svg xmlns:xlink=\"http://www.w3.org/1999/xlink\" width=\"415.698125pt\" height=\"325.986375pt\" viewBox=\"0 0 415.698125 325.986375\" xmlns=\"http://www.w3.org/2000/svg\" version=\"1.1\">\n <metadata>\n  <rdf:RDF xmlns:dc=\"http://purl.org/dc/elements/1.1/\" xmlns:cc=\"http://creativecommons.org/ns#\" xmlns:rdf=\"http://www.w3.org/1999/02/22-rdf-syntax-ns#\">\n   <cc:Work>\n    <dc:type rdf:resource=\"http://purl.org/dc/dcmitype/StillImage\"/>\n    <dc:date>2025-02-10T14:20:15.125971</dc:date>\n    <dc:format>image/svg+xml</dc:format>\n    <dc:creator>\n     <cc:Agent>\n      <dc:title>Matplotlib v3.10.0, https://matplotlib.org/</dc:title>\n     </cc:Agent>\n    </dc:creator>\n   </cc:Work>\n  </rdf:RDF>\n </metadata>\n <defs>\n  <style type=\"text/css\">*{stroke-linejoin: round; stroke-linecap: butt}</style>\n </defs>\n <g id=\"figure_1\">\n  <g id=\"patch_1\">\n   <path d=\"M 0 325.986375 \nL 415.698125 325.986375 \nL 415.698125 0 \nL 0 0 \nz\n\" style=\"fill: #ffffff\"/>\n  </g>\n  <g id=\"axes_1\">\n   <g id=\"patch_2\">\n    <path d=\"M 51.378125 288.430125 \nL 408.498125 288.430125 \nL 408.498125 22.318125 \nL 51.378125 22.318125 \nz\n\" style=\"fill: #ffffff\"/>\n   </g>\n   <g id=\"matplotlib.axis_1\">\n    <g id=\"xtick_1\">\n     <g id=\"line2d_1\">\n      <defs>\n       <path id=\"mdc129db00c\" d=\"M 0 0 \nL 0 3.5 \n\" style=\"stroke: #000000; stroke-width: 0.8\"/>\n      </defs>\n      <g>\n       <use xlink:href=\"#mdc129db00c\" x=\"128.614034\" y=\"288.430125\" style=\"stroke: #000000; stroke-width: 0.8\"/>\n      </g>\n     </g>\n     <g id=\"text_1\">\n      <!-- $\\mathdefault{10^{-4}}$ -->\n      <g transform=\"translate(116.864034 303.028562) scale(0.1 -0.1)\">\n       <defs>\n        <path id=\"DejaVuSans-31\" d=\"M 794 531 \nL 1825 531 \nL 1825 4091 \nL 703 3866 \nL 703 4441 \nL 1819 4666 \nL 2450 4666 \nL 2450 531 \nL 3481 531 \nL 3481 0 \nL 794 0 \nL 794 531 \nz\n\" transform=\"scale(0.015625)\"/>\n        <path id=\"DejaVuSans-30\" d=\"M 2034 4250 \nQ 1547 4250 1301 3770 \nQ 1056 3291 1056 2328 \nQ 1056 1369 1301 889 \nQ 1547 409 2034 409 \nQ 2525 409 2770 889 \nQ 3016 1369 3016 2328 \nQ 3016 3291 2770 3770 \nQ 2525 4250 2034 4250 \nz\nM 2034 4750 \nQ 2819 4750 3233 4129 \nQ 3647 3509 3647 2328 \nQ 3647 1150 3233 529 \nQ 2819 -91 2034 -91 \nQ 1250 -91 836 529 \nQ 422 1150 422 2328 \nQ 422 3509 836 4129 \nQ 1250 4750 2034 4750 \nz\n\" transform=\"scale(0.015625)\"/>\n        <path id=\"DejaVuSans-2212\" d=\"M 678 2272 \nL 4684 2272 \nL 4684 1741 \nL 678 1741 \nL 678 2272 \nz\n\" transform=\"scale(0.015625)\"/>\n        <path id=\"DejaVuSans-34\" d=\"M 2419 4116 \nL 825 1625 \nL 2419 1625 \nL 2419 4116 \nz\nM 2253 4666 \nL 3047 4666 \nL 3047 1625 \nL 3713 1625 \nL 3713 1100 \nL 3047 1100 \nL 3047 0 \nL 2419 0 \nL 2419 1100 \nL 313 1100 \nL 313 1709 \nL 2253 4666 \nz\n\" transform=\"scale(0.015625)\"/>\n       </defs>\n       <use xlink:href=\"#DejaVuSans-31\" transform=\"translate(0 0.684375)\"/>\n       <use xlink:href=\"#DejaVuSans-30\" transform=\"translate(63.623047 0.684375)\"/>\n       <use xlink:href=\"#DejaVuSans-2212\" transform=\"translate(128.203125 38.965625) scale(0.7)\"/>\n       <use xlink:href=\"#DejaVuSans-34\" transform=\"translate(186.855469 38.965625) scale(0.7)\"/>\n      </g>\n     </g>\n    </g>\n    <g id=\"xtick_2\">\n     <g id=\"line2d_2\">\n      <g>\n       <use xlink:href=\"#mdc129db00c\" x=\"331.262216\" y=\"288.430125\" style=\"stroke: #000000; stroke-width: 0.8\"/>\n      </g>\n     </g>\n     <g id=\"text_2\">\n      <!-- $\\mathdefault{10^{-3}}$ -->\n      <g transform=\"translate(319.512216 303.028562) scale(0.1 -0.1)\">\n       <defs>\n        <path id=\"DejaVuSans-33\" d=\"M 2597 2516 \nQ 3050 2419 3304 2112 \nQ 3559 1806 3559 1356 \nQ 3559 666 3084 287 \nQ 2609 -91 1734 -91 \nQ 1441 -91 1130 -33 \nQ 819 25 488 141 \nL 488 750 \nQ 750 597 1062 519 \nQ 1375 441 1716 441 \nQ 2309 441 2620 675 \nQ 2931 909 2931 1356 \nQ 2931 1769 2642 2001 \nQ 2353 2234 1838 2234 \nL 1294 2234 \nL 1294 2753 \nL 1863 2753 \nQ 2328 2753 2575 2939 \nQ 2822 3125 2822 3475 \nQ 2822 3834 2567 4026 \nQ 2313 4219 1838 4219 \nQ 1578 4219 1281 4162 \nQ 984 4106 628 3988 \nL 628 4550 \nQ 988 4650 1302 4700 \nQ 1616 4750 1894 4750 \nQ 2613 4750 3031 4423 \nQ 3450 4097 3450 3541 \nQ 3450 3153 3228 2886 \nQ 3006 2619 2597 2516 \nz\n\" transform=\"scale(0.015625)\"/>\n       </defs>\n       <use xlink:href=\"#DejaVuSans-31\" transform=\"translate(0 0.765625)\"/>\n       <use xlink:href=\"#DejaVuSans-30\" transform=\"translate(63.623047 0.765625)\"/>\n       <use xlink:href=\"#DejaVuSans-2212\" transform=\"translate(128.203125 39.046875) scale(0.7)\"/>\n       <use xlink:href=\"#DejaVuSans-33\" transform=\"translate(186.855469 39.046875) scale(0.7)\"/>\n      </g>\n     </g>\n    </g>\n    <g id=\"xtick_3\">\n     <g id=\"line2d_3\">\n      <defs>\n       <path id=\"me3317f1246\" d=\"M 0 0 \nL 0 2 \n\" style=\"stroke: #000000; stroke-width: 0.6\"/>\n      </defs>\n      <g>\n       <use xlink:href=\"#me3317f1246\" x=\"67.610852\" y=\"288.430125\" style=\"stroke: #000000; stroke-width: 0.6\"/>\n      </g>\n     </g>\n    </g>\n    <g id=\"xtick_4\">\n     <g id=\"line2d_4\">\n      <g>\n       <use xlink:href=\"#me3317f1246\" x=\"83.656788\" y=\"288.430125\" style=\"stroke: #000000; stroke-width: 0.6\"/>\n      </g>\n     </g>\n    </g>\n    <g id=\"xtick_5\">\n     <g id=\"line2d_5\">\n      <g>\n       <use xlink:href=\"#me3317f1246\" x=\"97.223433\" y=\"288.430125\" style=\"stroke: #000000; stroke-width: 0.6\"/>\n      </g>\n     </g>\n    </g>\n    <g id=\"xtick_6\">\n     <g id=\"line2d_6\">\n      <g>\n       <use xlink:href=\"#me3317f1246\" x=\"108.975396\" y=\"288.430125\" style=\"stroke: #000000; stroke-width: 0.6\"/>\n      </g>\n     </g>\n    </g>\n    <g id=\"xtick_7\">\n     <g id=\"line2d_7\">\n      <g>\n       <use xlink:href=\"#me3317f1246\" x=\"119.341361\" y=\"288.430125\" style=\"stroke: #000000; stroke-width: 0.6\"/>\n      </g>\n     </g>\n    </g>\n    <g id=\"xtick_8\">\n     <g id=\"line2d_8\">\n      <g>\n       <use xlink:href=\"#me3317f1246\" x=\"189.617215\" y=\"288.430125\" style=\"stroke: #000000; stroke-width: 0.6\"/>\n      </g>\n     </g>\n    </g>\n    <g id=\"xtick_9\">\n     <g id=\"line2d_9\">\n      <g>\n       <use xlink:href=\"#me3317f1246\" x=\"225.301789\" y=\"288.430125\" style=\"stroke: #000000; stroke-width: 0.6\"/>\n      </g>\n     </g>\n    </g>\n    <g id=\"xtick_10\">\n     <g id=\"line2d_10\">\n      <g>\n       <use xlink:href=\"#me3317f1246\" x=\"250.620397\" y=\"288.430125\" style=\"stroke: #000000; stroke-width: 0.6\"/>\n      </g>\n     </g>\n    </g>\n    <g id=\"xtick_11\">\n     <g id=\"line2d_11\">\n      <g>\n       <use xlink:href=\"#me3317f1246\" x=\"270.259035\" y=\"288.430125\" style=\"stroke: #000000; stroke-width: 0.6\"/>\n      </g>\n     </g>\n    </g>\n    <g id=\"xtick_12\">\n     <g id=\"line2d_12\">\n      <g>\n       <use xlink:href=\"#me3317f1246\" x=\"286.30497\" y=\"288.430125\" style=\"stroke: #000000; stroke-width: 0.6\"/>\n      </g>\n     </g>\n    </g>\n    <g id=\"xtick_13\">\n     <g id=\"line2d_13\">\n      <g>\n       <use xlink:href=\"#me3317f1246\" x=\"299.871616\" y=\"288.430125\" style=\"stroke: #000000; stroke-width: 0.6\"/>\n      </g>\n     </g>\n    </g>\n    <g id=\"xtick_14\">\n     <g id=\"line2d_14\">\n      <g>\n       <use xlink:href=\"#me3317f1246\" x=\"311.623578\" y=\"288.430125\" style=\"stroke: #000000; stroke-width: 0.6\"/>\n      </g>\n     </g>\n    </g>\n    <g id=\"xtick_15\">\n     <g id=\"line2d_15\">\n      <g>\n       <use xlink:href=\"#me3317f1246\" x=\"321.989544\" y=\"288.430125\" style=\"stroke: #000000; stroke-width: 0.6\"/>\n      </g>\n     </g>\n    </g>\n    <g id=\"xtick_16\">\n     <g id=\"line2d_16\">\n      <g>\n       <use xlink:href=\"#me3317f1246\" x=\"392.265398\" y=\"288.430125\" style=\"stroke: #000000; stroke-width: 0.6\"/>\n      </g>\n     </g>\n    </g>\n    <g id=\"text_3\">\n     <!-- Log Radius [cm] -->\n     <g transform=\"translate(189.544375 316.706687) scale(0.1 -0.1)\">\n      <defs>\n       <path id=\"DejaVuSans-4c\" d=\"M 628 4666 \nL 1259 4666 \nL 1259 531 \nL 3531 531 \nL 3531 0 \nL 628 0 \nL 628 4666 \nz\n\" transform=\"scale(0.015625)\"/>\n       <path id=\"DejaVuSans-6f\" d=\"M 1959 3097 \nQ 1497 3097 1228 2736 \nQ 959 2375 959 1747 \nQ 959 1119 1226 758 \nQ 1494 397 1959 397 \nQ 2419 397 2687 759 \nQ 2956 1122 2956 1747 \nQ 2956 2369 2687 2733 \nQ 2419 3097 1959 3097 \nz\nM 1959 3584 \nQ 2709 3584 3137 3096 \nQ 3566 2609 3566 1747 \nQ 3566 888 3137 398 \nQ 2709 -91 1959 -91 \nQ 1206 -91 779 398 \nQ 353 888 353 1747 \nQ 353 2609 779 3096 \nQ 1206 3584 1959 3584 \nz\n\" transform=\"scale(0.015625)\"/>\n       <path id=\"DejaVuSans-67\" d=\"M 2906 1791 \nQ 2906 2416 2648 2759 \nQ 2391 3103 1925 3103 \nQ 1463 3103 1205 2759 \nQ 947 2416 947 1791 \nQ 947 1169 1205 825 \nQ 1463 481 1925 481 \nQ 2391 481 2648 825 \nQ 2906 1169 2906 1791 \nz\nM 3481 434 \nQ 3481 -459 3084 -895 \nQ 2688 -1331 1869 -1331 \nQ 1566 -1331 1297 -1286 \nQ 1028 -1241 775 -1147 \nL 775 -588 \nQ 1028 -725 1275 -790 \nQ 1522 -856 1778 -856 \nQ 2344 -856 2625 -561 \nQ 2906 -266 2906 331 \nL 2906 616 \nQ 2728 306 2450 153 \nQ 2172 0 1784 0 \nQ 1141 0 747 490 \nQ 353 981 353 1791 \nQ 353 2603 747 3093 \nQ 1141 3584 1784 3584 \nQ 2172 3584 2450 3431 \nQ 2728 3278 2906 2969 \nL 2906 3500 \nL 3481 3500 \nL 3481 434 \nz\n\" transform=\"scale(0.015625)\"/>\n       <path id=\"DejaVuSans-20\" transform=\"scale(0.015625)\"/>\n       <path id=\"DejaVuSans-52\" d=\"M 2841 2188 \nQ 3044 2119 3236 1894 \nQ 3428 1669 3622 1275 \nL 4263 0 \nL 3584 0 \nL 2988 1197 \nQ 2756 1666 2539 1819 \nQ 2322 1972 1947 1972 \nL 1259 1972 \nL 1259 0 \nL 628 0 \nL 628 4666 \nL 2053 4666 \nQ 2853 4666 3247 4331 \nQ 3641 3997 3641 3322 \nQ 3641 2881 3436 2590 \nQ 3231 2300 2841 2188 \nz\nM 1259 4147 \nL 1259 2491 \nL 2053 2491 \nQ 2509 2491 2742 2702 \nQ 2975 2913 2975 3322 \nQ 2975 3731 2742 3939 \nQ 2509 4147 2053 4147 \nL 1259 4147 \nz\n\" transform=\"scale(0.015625)\"/>\n       <path id=\"DejaVuSans-61\" d=\"M 2194 1759 \nQ 1497 1759 1228 1600 \nQ 959 1441 959 1056 \nQ 959 750 1161 570 \nQ 1363 391 1709 391 \nQ 2188 391 2477 730 \nQ 2766 1069 2766 1631 \nL 2766 1759 \nL 2194 1759 \nz\nM 3341 1997 \nL 3341 0 \nL 2766 0 \nL 2766 531 \nQ 2569 213 2275 61 \nQ 1981 -91 1556 -91 \nQ 1019 -91 701 211 \nQ 384 513 384 1019 \nQ 384 1609 779 1909 \nQ 1175 2209 1959 2209 \nL 2766 2209 \nL 2766 2266 \nQ 2766 2663 2505 2880 \nQ 2244 3097 1772 3097 \nQ 1472 3097 1187 3025 \nQ 903 2953 641 2809 \nL 641 3341 \nQ 956 3463 1253 3523 \nQ 1550 3584 1831 3584 \nQ 2591 3584 2966 3190 \nQ 3341 2797 3341 1997 \nz\n\" transform=\"scale(0.015625)\"/>\n       <path id=\"DejaVuSans-64\" d=\"M 2906 2969 \nL 2906 4863 \nL 3481 4863 \nL 3481 0 \nL 2906 0 \nL 2906 525 \nQ 2725 213 2448 61 \nQ 2172 -91 1784 -91 \nQ 1150 -91 751 415 \nQ 353 922 353 1747 \nQ 353 2572 751 3078 \nQ 1150 3584 1784 3584 \nQ 2172 3584 2448 3432 \nQ 2725 3281 2906 2969 \nz\nM 947 1747 \nQ 947 1113 1208 752 \nQ 1469 391 1925 391 \nQ 2381 391 2643 752 \nQ 2906 1113 2906 1747 \nQ 2906 2381 2643 2742 \nQ 2381 3103 1925 3103 \nQ 1469 3103 1208 2742 \nQ 947 2381 947 1747 \nz\n\" transform=\"scale(0.015625)\"/>\n       <path id=\"DejaVuSans-69\" d=\"M 603 3500 \nL 1178 3500 \nL 1178 0 \nL 603 0 \nL 603 3500 \nz\nM 603 4863 \nL 1178 4863 \nL 1178 4134 \nL 603 4134 \nL 603 4863 \nz\n\" transform=\"scale(0.015625)\"/>\n       <path id=\"DejaVuSans-75\" d=\"M 544 1381 \nL 544 3500 \nL 1119 3500 \nL 1119 1403 \nQ 1119 906 1312 657 \nQ 1506 409 1894 409 \nQ 2359 409 2629 706 \nQ 2900 1003 2900 1516 \nL 2900 3500 \nL 3475 3500 \nL 3475 0 \nL 2900 0 \nL 2900 538 \nQ 2691 219 2414 64 \nQ 2138 -91 1772 -91 \nQ 1169 -91 856 284 \nQ 544 659 544 1381 \nz\nM 1991 3584 \nL 1991 3584 \nz\n\" transform=\"scale(0.015625)\"/>\n       <path id=\"DejaVuSans-73\" d=\"M 2834 3397 \nL 2834 2853 \nQ 2591 2978 2328 3040 \nQ 2066 3103 1784 3103 \nQ 1356 3103 1142 2972 \nQ 928 2841 928 2578 \nQ 928 2378 1081 2264 \nQ 1234 2150 1697 2047 \nL 1894 2003 \nQ 2506 1872 2764 1633 \nQ 3022 1394 3022 966 \nQ 3022 478 2636 193 \nQ 2250 -91 1575 -91 \nQ 1294 -91 989 -36 \nQ 684 19 347 128 \nL 347 722 \nQ 666 556 975 473 \nQ 1284 391 1588 391 \nQ 1994 391 2212 530 \nQ 2431 669 2431 922 \nQ 2431 1156 2273 1281 \nQ 2116 1406 1581 1522 \nL 1381 1569 \nQ 847 1681 609 1914 \nQ 372 2147 372 2553 \nQ 372 3047 722 3315 \nQ 1072 3584 1716 3584 \nQ 2034 3584 2315 3537 \nQ 2597 3491 2834 3397 \nz\n\" transform=\"scale(0.015625)\"/>\n       <path id=\"DejaVuSans-5b\" d=\"M 550 4863 \nL 1875 4863 \nL 1875 4416 \nL 1125 4416 \nL 1125 -397 \nL 1875 -397 \nL 1875 -844 \nL 550 -844 \nL 550 4863 \nz\n\" transform=\"scale(0.015625)\"/>\n       <path id=\"DejaVuSans-63\" d=\"M 3122 3366 \nL 3122 2828 \nQ 2878 2963 2633 3030 \nQ 2388 3097 2138 3097 \nQ 1578 3097 1268 2742 \nQ 959 2388 959 1747 \nQ 959 1106 1268 751 \nQ 1578 397 2138 397 \nQ 2388 397 2633 464 \nQ 2878 531 3122 666 \nL 3122 134 \nQ 2881 22 2623 -34 \nQ 2366 -91 2075 -91 \nQ 1284 -91 818 406 \nQ 353 903 353 1747 \nQ 353 2603 823 3093 \nQ 1294 3584 2113 3584 \nQ 2378 3584 2631 3529 \nQ 2884 3475 3122 3366 \nz\n\" transform=\"scale(0.015625)\"/>\n       <path id=\"DejaVuSans-6d\" d=\"M 3328 2828 \nQ 3544 3216 3844 3400 \nQ 4144 3584 4550 3584 \nQ 5097 3584 5394 3201 \nQ 5691 2819 5691 2113 \nL 5691 0 \nL 5113 0 \nL 5113 2094 \nQ 5113 2597 4934 2840 \nQ 4756 3084 4391 3084 \nQ 3944 3084 3684 2787 \nQ 3425 2491 3425 1978 \nL 3425 0 \nL 2847 0 \nL 2847 2094 \nQ 2847 2600 2669 2842 \nQ 2491 3084 2119 3084 \nQ 1678 3084 1418 2786 \nQ 1159 2488 1159 1978 \nL 1159 0 \nL 581 0 \nL 581 3500 \nL 1159 3500 \nL 1159 2956 \nQ 1356 3278 1631 3431 \nQ 1906 3584 2284 3584 \nQ 2666 3584 2933 3390 \nQ 3200 3197 3328 2828 \nz\n\" transform=\"scale(0.015625)\"/>\n       <path id=\"DejaVuSans-5d\" d=\"M 1947 4863 \nL 1947 -844 \nL 622 -844 \nL 622 -397 \nL 1369 -397 \nL 1369 4416 \nL 622 4416 \nL 622 4863 \nL 1947 4863 \nz\n\" transform=\"scale(0.015625)\"/>\n      </defs>\n      <use xlink:href=\"#DejaVuSans-4c\"/>\n      <use xlink:href=\"#DejaVuSans-6f\" transform=\"translate(53.962891 0)\"/>\n      <use xlink:href=\"#DejaVuSans-67\" transform=\"translate(115.144531 0)\"/>\n      <use xlink:href=\"#DejaVuSans-20\" transform=\"translate(178.621094 0)\"/>\n      <use xlink:href=\"#DejaVuSans-52\" transform=\"translate(210.408203 0)\"/>\n      <use xlink:href=\"#DejaVuSans-61\" transform=\"translate(277.640625 0)\"/>\n      <use xlink:href=\"#DejaVuSans-64\" transform=\"translate(338.919922 0)\"/>\n      <use xlink:href=\"#DejaVuSans-69\" transform=\"translate(402.396484 0)\"/>\n      <use xlink:href=\"#DejaVuSans-75\" transform=\"translate(430.179688 0)\"/>\n      <use xlink:href=\"#DejaVuSans-73\" transform=\"translate(493.558594 0)\"/>\n      <use xlink:href=\"#DejaVuSans-20\" transform=\"translate(545.658203 0)\"/>\n      <use xlink:href=\"#DejaVuSans-5b\" transform=\"translate(577.445312 0)\"/>\n      <use xlink:href=\"#DejaVuSans-63\" transform=\"translate(616.458984 0)\"/>\n      <use xlink:href=\"#DejaVuSans-6d\" transform=\"translate(671.439453 0)\"/>\n      <use xlink:href=\"#DejaVuSans-5d\" transform=\"translate(768.851562 0)\"/>\n     </g>\n    </g>\n   </g>\n   <g id=\"matplotlib.axis_2\">\n    <g id=\"ytick_1\">\n     <g id=\"line2d_17\">\n      <defs>\n       <path id=\"m8f1f275407\" d=\"M 0 0 \nL -3.5 0 \n\" style=\"stroke: #000000; stroke-width: 0.8\"/>\n      </defs>\n      <g>\n       <use xlink:href=\"#m8f1f275407\" x=\"51.378125\" y=\"266.218974\" style=\"stroke: #000000; stroke-width: 0.8\"/>\n      </g>\n     </g>\n     <g id=\"text_4\">\n      <!-- $\\mathdefault{10^{-4}}$ -->\n      <g transform=\"translate(20.878125 270.018192) scale(0.1 -0.1)\">\n       <use xlink:href=\"#DejaVuSans-31\" transform=\"translate(0 0.684375)\"/>\n       <use xlink:href=\"#DejaVuSans-30\" transform=\"translate(63.623047 0.684375)\"/>\n       <use xlink:href=\"#DejaVuSans-2212\" transform=\"translate(128.203125 38.965625) scale(0.7)\"/>\n       <use xlink:href=\"#DejaVuSans-34\" transform=\"translate(186.855469 38.965625) scale(0.7)\"/>\n      </g>\n     </g>\n    </g>\n    <g id=\"ytick_2\">\n     <g id=\"line2d_18\">\n      <g>\n       <use xlink:href=\"#m8f1f275407\" x=\"51.378125\" y=\"232.617168\" style=\"stroke: #000000; stroke-width: 0.8\"/>\n      </g>\n     </g>\n     <g id=\"text_5\">\n      <!-- $\\mathdefault{10^{-3}}$ -->\n      <g transform=\"translate(20.878125 236.416387) scale(0.1 -0.1)\">\n       <use xlink:href=\"#DejaVuSans-31\" transform=\"translate(0 0.765625)\"/>\n       <use xlink:href=\"#DejaVuSans-30\" transform=\"translate(63.623047 0.765625)\"/>\n       <use xlink:href=\"#DejaVuSans-2212\" transform=\"translate(128.203125 39.046875) scale(0.7)\"/>\n       <use xlink:href=\"#DejaVuSans-33\" transform=\"translate(186.855469 39.046875) scale(0.7)\"/>\n      </g>\n     </g>\n    </g>\n    <g id=\"ytick_3\">\n     <g id=\"line2d_19\">\n      <g>\n       <use xlink:href=\"#m8f1f275407\" x=\"51.378125\" y=\"199.015363\" style=\"stroke: #000000; stroke-width: 0.8\"/>\n      </g>\n     </g>\n     <g id=\"text_6\">\n      <!-- $\\mathdefault{10^{-2}}$ -->\n      <g transform=\"translate(20.878125 202.814582) scale(0.1 -0.1)\">\n       <defs>\n        <path id=\"DejaVuSans-32\" d=\"M 1228 531 \nL 3431 531 \nL 3431 0 \nL 469 0 \nL 469 531 \nQ 828 903 1448 1529 \nQ 2069 2156 2228 2338 \nQ 2531 2678 2651 2914 \nQ 2772 3150 2772 3378 \nQ 2772 3750 2511 3984 \nQ 2250 4219 1831 4219 \nQ 1534 4219 1204 4116 \nQ 875 4013 500 3803 \nL 500 4441 \nQ 881 4594 1212 4672 \nQ 1544 4750 1819 4750 \nQ 2544 4750 2975 4387 \nQ 3406 4025 3406 3419 \nQ 3406 3131 3298 2873 \nQ 3191 2616 2906 2266 \nQ 2828 2175 2409 1742 \nQ 1991 1309 1228 531 \nz\n\" transform=\"scale(0.015625)\"/>\n       </defs>\n       <use xlink:href=\"#DejaVuSans-31\" transform=\"translate(0 0.765625)\"/>\n       <use xlink:href=\"#DejaVuSans-30\" transform=\"translate(63.623047 0.765625)\"/>\n       <use xlink:href=\"#DejaVuSans-2212\" transform=\"translate(128.203125 39.046875) scale(0.7)\"/>\n       <use xlink:href=\"#DejaVuSans-32\" transform=\"translate(186.855469 39.046875) scale(0.7)\"/>\n      </g>\n     </g>\n    </g>\n    <g id=\"ytick_4\">\n     <g id=\"line2d_20\">\n      <g>\n       <use xlink:href=\"#m8f1f275407\" x=\"51.378125\" y=\"165.413558\" style=\"stroke: #000000; stroke-width: 0.8\"/>\n      </g>\n     </g>\n     <g id=\"text_7\">\n      <!-- $\\mathdefault{10^{-1}}$ -->\n      <g transform=\"translate(20.878125 169.212776) scale(0.1 -0.1)\">\n       <use xlink:href=\"#DejaVuSans-31\" transform=\"translate(0 0.684375)\"/>\n       <use xlink:href=\"#DejaVuSans-30\" transform=\"translate(63.623047 0.684375)\"/>\n       <use xlink:href=\"#DejaVuSans-2212\" transform=\"translate(128.203125 38.965625) scale(0.7)\"/>\n       <use xlink:href=\"#DejaVuSans-31\" transform=\"translate(186.855469 38.965625) scale(0.7)\"/>\n      </g>\n     </g>\n    </g>\n    <g id=\"ytick_5\">\n     <g id=\"line2d_21\">\n      <g>\n       <use xlink:href=\"#m8f1f275407\" x=\"51.378125\" y=\"131.811752\" style=\"stroke: #000000; stroke-width: 0.8\"/>\n      </g>\n     </g>\n     <g id=\"text_8\">\n      <!-- $\\mathdefault{10^{0}}$ -->\n      <g transform=\"translate(26.778125 135.610971) scale(0.1 -0.1)\">\n       <use xlink:href=\"#DejaVuSans-31\" transform=\"translate(0 0.765625)\"/>\n       <use xlink:href=\"#DejaVuSans-30\" transform=\"translate(63.623047 0.765625)\"/>\n       <use xlink:href=\"#DejaVuSans-30\" transform=\"translate(128.203125 39.046875) scale(0.7)\"/>\n      </g>\n     </g>\n    </g>\n    <g id=\"ytick_6\">\n     <g id=\"line2d_22\">\n      <g>\n       <use xlink:href=\"#m8f1f275407\" x=\"51.378125\" y=\"98.209947\" style=\"stroke: #000000; stroke-width: 0.8\"/>\n      </g>\n     </g>\n     <g id=\"text_9\">\n      <!-- $\\mathdefault{10^{1}}$ -->\n      <g transform=\"translate(26.778125 102.009166) scale(0.1 -0.1)\">\n       <use xlink:href=\"#DejaVuSans-31\" transform=\"translate(0 0.684375)\"/>\n       <use xlink:href=\"#DejaVuSans-30\" transform=\"translate(63.623047 0.684375)\"/>\n       <use xlink:href=\"#DejaVuSans-31\" transform=\"translate(128.203125 38.965625) scale(0.7)\"/>\n      </g>\n     </g>\n    </g>\n    <g id=\"ytick_7\">\n     <g id=\"line2d_23\">\n      <g>\n       <use xlink:href=\"#m8f1f275407\" x=\"51.378125\" y=\"64.608142\" style=\"stroke: #000000; stroke-width: 0.8\"/>\n      </g>\n     </g>\n     <g id=\"text_10\">\n      <!-- $\\mathdefault{10^{2}}$ -->\n      <g transform=\"translate(26.778125 68.407361) scale(0.1 -0.1)\">\n       <use xlink:href=\"#DejaVuSans-31\" transform=\"translate(0 0.765625)\"/>\n       <use xlink:href=\"#DejaVuSans-30\" transform=\"translate(63.623047 0.765625)\"/>\n       <use xlink:href=\"#DejaVuSans-32\" transform=\"translate(128.203125 39.046875) scale(0.7)\"/>\n      </g>\n     </g>\n    </g>\n    <g id=\"ytick_8\">\n     <g id=\"line2d_24\">\n      <g>\n       <use xlink:href=\"#m8f1f275407\" x=\"51.378125\" y=\"31.006336\" style=\"stroke: #000000; stroke-width: 0.8\"/>\n      </g>\n     </g>\n     <g id=\"text_11\">\n      <!-- $\\mathdefault{10^{3}}$ -->\n      <g transform=\"translate(26.778125 34.805555) scale(0.1 -0.1)\">\n       <use xlink:href=\"#DejaVuSans-31\" transform=\"translate(0 0.765625)\"/>\n       <use xlink:href=\"#DejaVuSans-30\" transform=\"translate(63.623047 0.765625)\"/>\n       <use xlink:href=\"#DejaVuSans-33\" transform=\"translate(128.203125 39.046875) scale(0.7)\"/>\n      </g>\n     </g>\n    </g>\n    <g id=\"ytick_9\">\n     <g id=\"line2d_25\">\n      <defs>\n       <path id=\"ma07d4569c9\" d=\"M 0 0 \nL -2 0 \n\" style=\"stroke: #000000; stroke-width: 0.6\"/>\n      </defs>\n      <g>\n       <use xlink:href=\"#ma07d4569c9\" x=\"51.378125\" y=\"283.788643\" style=\"stroke: #000000; stroke-width: 0.6\"/>\n      </g>\n     </g>\n    </g>\n    <g id=\"ytick_10\">\n     <g id=\"line2d_26\">\n      <g>\n       <use xlink:href=\"#ma07d4569c9\" x=\"51.378125\" y=\"279.590476\" style=\"stroke: #000000; stroke-width: 0.6\"/>\n      </g>\n     </g>\n    </g>\n    <g id=\"ytick_11\">\n     <g id=\"line2d_27\">\n      <g>\n       <use xlink:href=\"#ma07d4569c9\" x=\"51.378125\" y=\"276.334125\" style=\"stroke: #000000; stroke-width: 0.6\"/>\n      </g>\n     </g>\n    </g>\n    <g id=\"ytick_12\">\n     <g id=\"line2d_28\">\n      <g>\n       <use xlink:href=\"#ma07d4569c9\" x=\"51.378125\" y=\"273.673492\" style=\"stroke: #000000; stroke-width: 0.6\"/>\n      </g>\n     </g>\n    </g>\n    <g id=\"ytick_13\">\n     <g id=\"line2d_29\">\n      <g>\n       <use xlink:href=\"#ma07d4569c9\" x=\"51.378125\" y=\"271.423959\" style=\"stroke: #000000; stroke-width: 0.6\"/>\n      </g>\n     </g>\n    </g>\n    <g id=\"ytick_14\">\n     <g id=\"line2d_30\">\n      <g>\n       <use xlink:href=\"#ma07d4569c9\" x=\"51.378125\" y=\"269.475325\" style=\"stroke: #000000; stroke-width: 0.6\"/>\n      </g>\n     </g>\n    </g>\n    <g id=\"ytick_15\">\n     <g id=\"line2d_31\">\n      <g>\n       <use xlink:href=\"#ma07d4569c9\" x=\"51.378125\" y=\"267.756508\" style=\"stroke: #000000; stroke-width: 0.6\"/>\n      </g>\n     </g>\n    </g>\n    <g id=\"ytick_16\">\n     <g id=\"line2d_32\">\n      <g>\n       <use xlink:href=\"#ma07d4569c9\" x=\"51.378125\" y=\"256.103822\" style=\"stroke: #000000; stroke-width: 0.6\"/>\n      </g>\n     </g>\n    </g>\n    <g id=\"ytick_17\">\n     <g id=\"line2d_33\">\n      <g>\n       <use xlink:href=\"#ma07d4569c9\" x=\"51.378125\" y=\"250.186838\" style=\"stroke: #000000; stroke-width: 0.6\"/>\n      </g>\n     </g>\n    </g>\n    <g id=\"ytick_18\">\n     <g id=\"line2d_34\">\n      <g>\n       <use xlink:href=\"#ma07d4569c9\" x=\"51.378125\" y=\"245.988671\" style=\"stroke: #000000; stroke-width: 0.6\"/>\n      </g>\n     </g>\n    </g>\n    <g id=\"ytick_19\">\n     <g id=\"line2d_35\">\n      <g>\n       <use xlink:href=\"#ma07d4569c9\" x=\"51.378125\" y=\"242.73232\" style=\"stroke: #000000; stroke-width: 0.6\"/>\n      </g>\n     </g>\n    </g>\n    <g id=\"ytick_20\">\n     <g id=\"line2d_36\">\n      <g>\n       <use xlink:href=\"#ma07d4569c9\" x=\"51.378125\" y=\"240.071687\" style=\"stroke: #000000; stroke-width: 0.6\"/>\n      </g>\n     </g>\n    </g>\n    <g id=\"ytick_21\">\n     <g id=\"line2d_37\">\n      <g>\n       <use xlink:href=\"#ma07d4569c9\" x=\"51.378125\" y=\"237.822154\" style=\"stroke: #000000; stroke-width: 0.6\"/>\n      </g>\n     </g>\n    </g>\n    <g id=\"ytick_22\">\n     <g id=\"line2d_38\">\n      <g>\n       <use xlink:href=\"#ma07d4569c9\" x=\"51.378125\" y=\"235.87352\" style=\"stroke: #000000; stroke-width: 0.6\"/>\n      </g>\n     </g>\n    </g>\n    <g id=\"ytick_23\">\n     <g id=\"line2d_39\">\n      <g>\n       <use xlink:href=\"#ma07d4569c9\" x=\"51.378125\" y=\"234.154703\" style=\"stroke: #000000; stroke-width: 0.6\"/>\n      </g>\n     </g>\n    </g>\n    <g id=\"ytick_24\">\n     <g id=\"line2d_40\">\n      <g>\n       <use xlink:href=\"#ma07d4569c9\" x=\"51.378125\" y=\"222.502017\" style=\"stroke: #000000; stroke-width: 0.6\"/>\n      </g>\n     </g>\n    </g>\n    <g id=\"ytick_25\">\n     <g id=\"line2d_41\">\n      <g>\n       <use xlink:href=\"#ma07d4569c9\" x=\"51.378125\" y=\"216.585033\" style=\"stroke: #000000; stroke-width: 0.6\"/>\n      </g>\n     </g>\n    </g>\n    <g id=\"ytick_26\">\n     <g id=\"line2d_42\">\n      <g>\n       <use xlink:href=\"#ma07d4569c9\" x=\"51.378125\" y=\"212.386866\" style=\"stroke: #000000; stroke-width: 0.6\"/>\n      </g>\n     </g>\n    </g>\n    <g id=\"ytick_27\">\n     <g id=\"line2d_43\">\n      <g>\n       <use xlink:href=\"#ma07d4569c9\" x=\"51.378125\" y=\"209.130514\" style=\"stroke: #000000; stroke-width: 0.6\"/>\n      </g>\n     </g>\n    </g>\n    <g id=\"ytick_28\">\n     <g id=\"line2d_44\">\n      <g>\n       <use xlink:href=\"#ma07d4569c9\" x=\"51.378125\" y=\"206.469882\" style=\"stroke: #000000; stroke-width: 0.6\"/>\n      </g>\n     </g>\n    </g>\n    <g id=\"ytick_29\">\n     <g id=\"line2d_45\">\n      <g>\n       <use xlink:href=\"#ma07d4569c9\" x=\"51.378125\" y=\"204.220349\" style=\"stroke: #000000; stroke-width: 0.6\"/>\n      </g>\n     </g>\n    </g>\n    <g id=\"ytick_30\">\n     <g id=\"line2d_46\">\n      <g>\n       <use xlink:href=\"#ma07d4569c9\" x=\"51.378125\" y=\"202.271714\" style=\"stroke: #000000; stroke-width: 0.6\"/>\n      </g>\n     </g>\n    </g>\n    <g id=\"ytick_31\">\n     <g id=\"line2d_47\">\n      <g>\n       <use xlink:href=\"#ma07d4569c9\" x=\"51.378125\" y=\"200.552897\" style=\"stroke: #000000; stroke-width: 0.6\"/>\n      </g>\n     </g>\n    </g>\n    <g id=\"ytick_32\">\n     <g id=\"line2d_48\">\n      <g>\n       <use xlink:href=\"#ma07d4569c9\" x=\"51.378125\" y=\"188.900212\" style=\"stroke: #000000; stroke-width: 0.6\"/>\n      </g>\n     </g>\n    </g>\n    <g id=\"ytick_33\">\n     <g id=\"line2d_49\">\n      <g>\n       <use xlink:href=\"#ma07d4569c9\" x=\"51.378125\" y=\"182.983228\" style=\"stroke: #000000; stroke-width: 0.6\"/>\n      </g>\n     </g>\n    </g>\n    <g id=\"ytick_34\">\n     <g id=\"line2d_50\">\n      <g>\n       <use xlink:href=\"#ma07d4569c9\" x=\"51.378125\" y=\"178.78506\" style=\"stroke: #000000; stroke-width: 0.6\"/>\n      </g>\n     </g>\n    </g>\n    <g id=\"ytick_35\">\n     <g id=\"line2d_51\">\n      <g>\n       <use xlink:href=\"#ma07d4569c9\" x=\"51.378125\" y=\"175.528709\" style=\"stroke: #000000; stroke-width: 0.6\"/>\n      </g>\n     </g>\n    </g>\n    <g id=\"ytick_36\">\n     <g id=\"line2d_52\">\n      <g>\n       <use xlink:href=\"#ma07d4569c9\" x=\"51.378125\" y=\"172.868076\" style=\"stroke: #000000; stroke-width: 0.6\"/>\n      </g>\n     </g>\n    </g>\n    <g id=\"ytick_37\">\n     <g id=\"line2d_53\">\n      <g>\n       <use xlink:href=\"#ma07d4569c9\" x=\"51.378125\" y=\"170.618543\" style=\"stroke: #000000; stroke-width: 0.6\"/>\n      </g>\n     </g>\n    </g>\n    <g id=\"ytick_38\">\n     <g id=\"line2d_54\">\n      <g>\n       <use xlink:href=\"#ma07d4569c9\" x=\"51.378125\" y=\"168.669909\" style=\"stroke: #000000; stroke-width: 0.6\"/>\n      </g>\n     </g>\n    </g>\n    <g id=\"ytick_39\">\n     <g id=\"line2d_55\">\n      <g>\n       <use xlink:href=\"#ma07d4569c9\" x=\"51.378125\" y=\"166.951092\" style=\"stroke: #000000; stroke-width: 0.6\"/>\n      </g>\n     </g>\n    </g>\n    <g id=\"ytick_40\">\n     <g id=\"line2d_56\">\n      <g>\n       <use xlink:href=\"#ma07d4569c9\" x=\"51.378125\" y=\"155.298406\" style=\"stroke: #000000; stroke-width: 0.6\"/>\n      </g>\n     </g>\n    </g>\n    <g id=\"ytick_41\">\n     <g id=\"line2d_57\">\n      <g>\n       <use xlink:href=\"#ma07d4569c9\" x=\"51.378125\" y=\"149.381422\" style=\"stroke: #000000; stroke-width: 0.6\"/>\n      </g>\n     </g>\n    </g>\n    <g id=\"ytick_42\">\n     <g id=\"line2d_58\">\n      <g>\n       <use xlink:href=\"#ma07d4569c9\" x=\"51.378125\" y=\"145.183255\" style=\"stroke: #000000; stroke-width: 0.6\"/>\n      </g>\n     </g>\n    </g>\n    <g id=\"ytick_43\">\n     <g id=\"line2d_59\">\n      <g>\n       <use xlink:href=\"#ma07d4569c9\" x=\"51.378125\" y=\"141.926904\" style=\"stroke: #000000; stroke-width: 0.6\"/>\n      </g>\n     </g>\n    </g>\n    <g id=\"ytick_44\">\n     <g id=\"line2d_60\">\n      <g>\n       <use xlink:href=\"#ma07d4569c9\" x=\"51.378125\" y=\"139.266271\" style=\"stroke: #000000; stroke-width: 0.6\"/>\n      </g>\n     </g>\n    </g>\n    <g id=\"ytick_45\">\n     <g id=\"line2d_61\">\n      <g>\n       <use xlink:href=\"#ma07d4569c9\" x=\"51.378125\" y=\"137.016738\" style=\"stroke: #000000; stroke-width: 0.6\"/>\n      </g>\n     </g>\n    </g>\n    <g id=\"ytick_46\">\n     <g id=\"line2d_62\">\n      <g>\n       <use xlink:href=\"#ma07d4569c9\" x=\"51.378125\" y=\"135.068104\" style=\"stroke: #000000; stroke-width: 0.6\"/>\n      </g>\n     </g>\n    </g>\n    <g id=\"ytick_47\">\n     <g id=\"line2d_63\">\n      <g>\n       <use xlink:href=\"#ma07d4569c9\" x=\"51.378125\" y=\"133.349287\" style=\"stroke: #000000; stroke-width: 0.6\"/>\n      </g>\n     </g>\n    </g>\n    <g id=\"ytick_48\">\n     <g id=\"line2d_64\">\n      <g>\n       <use xlink:href=\"#ma07d4569c9\" x=\"51.378125\" y=\"121.696601\" style=\"stroke: #000000; stroke-width: 0.6\"/>\n      </g>\n     </g>\n    </g>\n    <g id=\"ytick_49\">\n     <g id=\"line2d_65\">\n      <g>\n       <use xlink:href=\"#ma07d4569c9\" x=\"51.378125\" y=\"115.779617\" style=\"stroke: #000000; stroke-width: 0.6\"/>\n      </g>\n     </g>\n    </g>\n    <g id=\"ytick_50\">\n     <g id=\"line2d_66\">\n      <g>\n       <use xlink:href=\"#ma07d4569c9\" x=\"51.378125\" y=\"111.58145\" style=\"stroke: #000000; stroke-width: 0.6\"/>\n      </g>\n     </g>\n    </g>\n    <g id=\"ytick_51\">\n     <g id=\"line2d_67\">\n      <g>\n       <use xlink:href=\"#ma07d4569c9\" x=\"51.378125\" y=\"108.325098\" style=\"stroke: #000000; stroke-width: 0.6\"/>\n      </g>\n     </g>\n    </g>\n    <g id=\"ytick_52\">\n     <g id=\"line2d_68\">\n      <g>\n       <use xlink:href=\"#ma07d4569c9\" x=\"51.378125\" y=\"105.664466\" style=\"stroke: #000000; stroke-width: 0.6\"/>\n      </g>\n     </g>\n    </g>\n    <g id=\"ytick_53\">\n     <g id=\"line2d_69\">\n      <g>\n       <use xlink:href=\"#ma07d4569c9\" x=\"51.378125\" y=\"103.414933\" style=\"stroke: #000000; stroke-width: 0.6\"/>\n      </g>\n     </g>\n    </g>\n    <g id=\"ytick_54\">\n     <g id=\"line2d_70\">\n      <g>\n       <use xlink:href=\"#ma07d4569c9\" x=\"51.378125\" y=\"101.466299\" style=\"stroke: #000000; stroke-width: 0.6\"/>\n      </g>\n     </g>\n    </g>\n    <g id=\"ytick_55\">\n     <g id=\"line2d_71\">\n      <g>\n       <use xlink:href=\"#ma07d4569c9\" x=\"51.378125\" y=\"99.747481\" style=\"stroke: #000000; stroke-width: 0.6\"/>\n      </g>\n     </g>\n    </g>\n    <g id=\"ytick_56\">\n     <g id=\"line2d_72\">\n      <g>\n       <use xlink:href=\"#ma07d4569c9\" x=\"51.378125\" y=\"88.094796\" style=\"stroke: #000000; stroke-width: 0.6\"/>\n      </g>\n     </g>\n    </g>\n    <g id=\"ytick_57\">\n     <g id=\"line2d_73\">\n      <g>\n       <use xlink:href=\"#ma07d4569c9\" x=\"51.378125\" y=\"82.177812\" style=\"stroke: #000000; stroke-width: 0.6\"/>\n      </g>\n     </g>\n    </g>\n    <g id=\"ytick_58\">\n     <g id=\"line2d_74\">\n      <g>\n       <use xlink:href=\"#ma07d4569c9\" x=\"51.378125\" y=\"77.979645\" style=\"stroke: #000000; stroke-width: 0.6\"/>\n      </g>\n     </g>\n    </g>\n    <g id=\"ytick_59\">\n     <g id=\"line2d_75\">\n      <g>\n       <use xlink:href=\"#ma07d4569c9\" x=\"51.378125\" y=\"74.723293\" style=\"stroke: #000000; stroke-width: 0.6\"/>\n      </g>\n     </g>\n    </g>\n    <g id=\"ytick_60\">\n     <g id=\"line2d_76\">\n      <g>\n       <use xlink:href=\"#ma07d4569c9\" x=\"51.378125\" y=\"72.06266\" style=\"stroke: #000000; stroke-width: 0.6\"/>\n      </g>\n     </g>\n    </g>\n    <g id=\"ytick_61\">\n     <g id=\"line2d_77\">\n      <g>\n       <use xlink:href=\"#ma07d4569c9\" x=\"51.378125\" y=\"69.813127\" style=\"stroke: #000000; stroke-width: 0.6\"/>\n      </g>\n     </g>\n    </g>\n    <g id=\"ytick_62\">\n     <g id=\"line2d_78\">\n      <g>\n       <use xlink:href=\"#ma07d4569c9\" x=\"51.378125\" y=\"67.864493\" style=\"stroke: #000000; stroke-width: 0.6\"/>\n      </g>\n     </g>\n    </g>\n    <g id=\"ytick_63\">\n     <g id=\"line2d_79\">\n      <g>\n       <use xlink:href=\"#ma07d4569c9\" x=\"51.378125\" y=\"66.145676\" style=\"stroke: #000000; stroke-width: 0.6\"/>\n      </g>\n     </g>\n    </g>\n    <g id=\"ytick_64\">\n     <g id=\"line2d_80\">\n      <g>\n       <use xlink:href=\"#ma07d4569c9\" x=\"51.378125\" y=\"54.49299\" style=\"stroke: #000000; stroke-width: 0.6\"/>\n      </g>\n     </g>\n    </g>\n    <g id=\"ytick_65\">\n     <g id=\"line2d_81\">\n      <g>\n       <use xlink:href=\"#ma07d4569c9\" x=\"51.378125\" y=\"48.576006\" style=\"stroke: #000000; stroke-width: 0.6\"/>\n      </g>\n     </g>\n    </g>\n    <g id=\"ytick_66\">\n     <g id=\"line2d_82\">\n      <g>\n       <use xlink:href=\"#ma07d4569c9\" x=\"51.378125\" y=\"44.377839\" style=\"stroke: #000000; stroke-width: 0.6\"/>\n      </g>\n     </g>\n    </g>\n    <g id=\"ytick_67\">\n     <g id=\"line2d_83\">\n      <g>\n       <use xlink:href=\"#ma07d4569c9\" x=\"51.378125\" y=\"41.121488\" style=\"stroke: #000000; stroke-width: 0.6\"/>\n      </g>\n     </g>\n    </g>\n    <g id=\"ytick_68\">\n     <g id=\"line2d_84\">\n      <g>\n       <use xlink:href=\"#ma07d4569c9\" x=\"51.378125\" y=\"38.460855\" style=\"stroke: #000000; stroke-width: 0.6\"/>\n      </g>\n     </g>\n    </g>\n    <g id=\"ytick_69\">\n     <g id=\"line2d_85\">\n      <g>\n       <use xlink:href=\"#ma07d4569c9\" x=\"51.378125\" y=\"36.211322\" style=\"stroke: #000000; stroke-width: 0.6\"/>\n      </g>\n     </g>\n    </g>\n    <g id=\"ytick_70\">\n     <g id=\"line2d_86\">\n      <g>\n       <use xlink:href=\"#ma07d4569c9\" x=\"51.378125\" y=\"34.262688\" style=\"stroke: #000000; stroke-width: 0.6\"/>\n      </g>\n     </g>\n    </g>\n    <g id=\"ytick_71\">\n     <g id=\"line2d_87\">\n      <g>\n       <use xlink:href=\"#ma07d4569c9\" x=\"51.378125\" y=\"32.543871\" style=\"stroke: #000000; stroke-width: 0.6\"/>\n      </g>\n     </g>\n    </g>\n    <g id=\"text_12\">\n     <!-- Log Time [s] -->\n     <g transform=\"translate(14.798438 186.224125) rotate(-90) scale(0.1 -0.1)\">\n      <defs>\n       <path id=\"DejaVuSans-54\" d=\"M -19 4666 \nL 3928 4666 \nL 3928 4134 \nL 2272 4134 \nL 2272 0 \nL 1638 0 \nL 1638 4134 \nL -19 4134 \nL -19 4666 \nz\n\" transform=\"scale(0.015625)\"/>\n       <path id=\"DejaVuSans-65\" d=\"M 3597 1894 \nL 3597 1613 \nL 953 1613 \nQ 991 1019 1311 708 \nQ 1631 397 2203 397 \nQ 2534 397 2845 478 \nQ 3156 559 3463 722 \nL 3463 178 \nQ 3153 47 2828 -22 \nQ 2503 -91 2169 -91 \nQ 1331 -91 842 396 \nQ 353 884 353 1716 \nQ 353 2575 817 3079 \nQ 1281 3584 2069 3584 \nQ 2775 3584 3186 3129 \nQ 3597 2675 3597 1894 \nz\nM 3022 2063 \nQ 3016 2534 2758 2815 \nQ 2500 3097 2075 3097 \nQ 1594 3097 1305 2825 \nQ 1016 2553 972 2059 \nL 3022 2063 \nz\n\" transform=\"scale(0.015625)\"/>\n      </defs>\n      <use xlink:href=\"#DejaVuSans-4c\"/>\n      <use xlink:href=\"#DejaVuSans-6f\" transform=\"translate(53.962891 0)\"/>\n      <use xlink:href=\"#DejaVuSans-67\" transform=\"translate(115.144531 0)\"/>\n      <use xlink:href=\"#DejaVuSans-20\" transform=\"translate(178.621094 0)\"/>\n      <use xlink:href=\"#DejaVuSans-54\" transform=\"translate(210.408203 0)\"/>\n      <use xlink:href=\"#DejaVuSans-69\" transform=\"translate(268.367188 0)\"/>\n      <use xlink:href=\"#DejaVuSans-6d\" transform=\"translate(296.150391 0)\"/>\n      <use xlink:href=\"#DejaVuSans-65\" transform=\"translate(393.5625 0)\"/>\n      <use xlink:href=\"#DejaVuSans-20\" transform=\"translate(455.085938 0)\"/>\n      <use xlink:href=\"#DejaVuSans-5b\" transform=\"translate(486.873047 0)\"/>\n      <use xlink:href=\"#DejaVuSans-73\" transform=\"translate(525.886719 0)\"/>\n      <use xlink:href=\"#DejaVuSans-5d\" transform=\"translate(577.986328 0)\"/>\n     </g>\n    </g>\n   </g>\n   <g id=\"line2d_88\">\n    <path d=\"M 67.610852 276.334125 \nL 128.614034 266.218974 \nL 209.255853 252.847471 \nL 270.259035 242.73232 \nL 305.943608 236.815335 \nL 331.262216 232.617168 \nL 366.94679 226.700184 \nL 392.265398 222.502017 \n\" clip-path=\"url(#pd68e1210b7)\" style=\"fill: none; stroke: #1f77b4; stroke-width: 1.5; stroke-linecap: square\"/>\n   </g>\n   <g id=\"line2d_89\">\n    <path d=\"M 67.610852 109.602249 \nL 128.614034 93.030438 \nL 209.255853 73.729398 \nL 270.259035 60.946077 \nL 305.943608 53.482079 \nL 331.262216 47.807027 \nL 366.94679 39.930777 \nL 392.265398 34.414125 \n\" clip-path=\"url(#pd68e1210b7)\" style=\"fill: none; stroke: #ff7f0e; stroke-width: 1.5; stroke-linecap: square\"/>\n   </g>\n   <g id=\"line2d_90\">\n    <path d=\"M 67.610852 116.732135 \nL 128.614034 100.160324 \nL 209.255853 80.859284 \nL 270.259035 68.075963 \nL 305.943608 60.611965 \nL 331.262216 54.936913 \nL 366.94679 47.060663 \nL 392.265398 41.544012 \n\" clip-path=\"url(#pd68e1210b7)\" style=\"fill: none; stroke: #2ca02c; stroke-width: 1.5; stroke-linecap: square\"/>\n   </g>\n   <g id=\"line2d_91\">\n    <path d=\"M 67.610852 119.406256 \nL 128.614034 102.834445 \nL 209.255853 83.533405 \nL 270.259035 70.750084 \nL 305.943608 63.286086 \nL 331.262216 57.611034 \nL 366.94679 49.734784 \nL 392.265398 44.218133 \n\" clip-path=\"url(#pd68e1210b7)\" style=\"fill: none; stroke: #d62728; stroke-width: 1.5; stroke-linecap: square\"/>\n   </g>\n   <g id=\"patch_3\">\n    <path d=\"M 51.378125 288.430125 \nL 51.378125 22.318125 \n\" style=\"fill: none; stroke: #000000; stroke-width: 0.8; stroke-linejoin: miter; stroke-linecap: square\"/>\n   </g>\n   <g id=\"patch_4\">\n    <path d=\"M 408.498125 288.430125 \nL 408.498125 22.318125 \n\" style=\"fill: none; stroke: #000000; stroke-width: 0.8; stroke-linejoin: miter; stroke-linecap: square\"/>\n   </g>\n   <g id=\"patch_5\">\n    <path d=\"M 51.378125 288.430125 \nL 408.498125 288.430125 \n\" style=\"fill: none; stroke: #000000; stroke-width: 0.8; stroke-linejoin: miter; stroke-linecap: square\"/>\n   </g>\n   <g id=\"patch_6\">\n    <path d=\"M 51.378125 22.318125 \nL 408.498125 22.318125 \n\" style=\"fill: none; stroke: #000000; stroke-width: 0.8; stroke-linejoin: miter; stroke-linecap: square\"/>\n   </g>\n   <g id=\"text_13\">\n    <!-- Isotopic relaxation timescale comparison in a log-log scale -->\n    <g transform=\"translate(54.021875 16.318125) scale(0.12 -0.12)\">\n     <defs>\n      <path id=\"DejaVuSans-49\" d=\"M 628 4666 \nL 1259 4666 \nL 1259 0 \nL 628 0 \nL 628 4666 \nz\n\" transform=\"scale(0.015625)\"/>\n      <path id=\"DejaVuSans-74\" d=\"M 1172 4494 \nL 1172 3500 \nL 2356 3500 \nL 2356 3053 \nL 1172 3053 \nL 1172 1153 \nQ 1172 725 1289 603 \nQ 1406 481 1766 481 \nL 2356 481 \nL 2356 0 \nL 1766 0 \nQ 1100 0 847 248 \nQ 594 497 594 1153 \nL 594 3053 \nL 172 3053 \nL 172 3500 \nL 594 3500 \nL 594 4494 \nL 1172 4494 \nz\n\" transform=\"scale(0.015625)\"/>\n      <path id=\"DejaVuSans-70\" d=\"M 1159 525 \nL 1159 -1331 \nL 581 -1331 \nL 581 3500 \nL 1159 3500 \nL 1159 2969 \nQ 1341 3281 1617 3432 \nQ 1894 3584 2278 3584 \nQ 2916 3584 3314 3078 \nQ 3713 2572 3713 1747 \nQ 3713 922 3314 415 \nQ 2916 -91 2278 -91 \nQ 1894 -91 1617 61 \nQ 1341 213 1159 525 \nz\nM 3116 1747 \nQ 3116 2381 2855 2742 \nQ 2594 3103 2138 3103 \nQ 1681 3103 1420 2742 \nQ 1159 2381 1159 1747 \nQ 1159 1113 1420 752 \nQ 1681 391 2138 391 \nQ 2594 391 2855 752 \nQ 3116 1113 3116 1747 \nz\n\" transform=\"scale(0.015625)\"/>\n      <path id=\"DejaVuSans-72\" d=\"M 2631 2963 \nQ 2534 3019 2420 3045 \nQ 2306 3072 2169 3072 \nQ 1681 3072 1420 2755 \nQ 1159 2438 1159 1844 \nL 1159 0 \nL 581 0 \nL 581 3500 \nL 1159 3500 \nL 1159 2956 \nQ 1341 3275 1631 3429 \nQ 1922 3584 2338 3584 \nQ 2397 3584 2469 3576 \nQ 2541 3569 2628 3553 \nL 2631 2963 \nz\n\" transform=\"scale(0.015625)\"/>\n      <path id=\"DejaVuSans-6c\" d=\"M 603 4863 \nL 1178 4863 \nL 1178 0 \nL 603 0 \nL 603 4863 \nz\n\" transform=\"scale(0.015625)\"/>\n      <path id=\"DejaVuSans-78\" d=\"M 3513 3500 \nL 2247 1797 \nL 3578 0 \nL 2900 0 \nL 1881 1375 \nL 863 0 \nL 184 0 \nL 1544 1831 \nL 300 3500 \nL 978 3500 \nL 1906 2253 \nL 2834 3500 \nL 3513 3500 \nz\n\" transform=\"scale(0.015625)\"/>\n      <path id=\"DejaVuSans-6e\" d=\"M 3513 2113 \nL 3513 0 \nL 2938 0 \nL 2938 2094 \nQ 2938 2591 2744 2837 \nQ 2550 3084 2163 3084 \nQ 1697 3084 1428 2787 \nQ 1159 2491 1159 1978 \nL 1159 0 \nL 581 0 \nL 581 3500 \nL 1159 3500 \nL 1159 2956 \nQ 1366 3272 1645 3428 \nQ 1925 3584 2291 3584 \nQ 2894 3584 3203 3211 \nQ 3513 2838 3513 2113 \nz\n\" transform=\"scale(0.015625)\"/>\n      <path id=\"DejaVuSans-2d\" d=\"M 313 2009 \nL 1997 2009 \nL 1997 1497 \nL 313 1497 \nL 313 2009 \nz\n\" transform=\"scale(0.015625)\"/>\n     </defs>\n     <use xlink:href=\"#DejaVuSans-49\"/>\n     <use xlink:href=\"#DejaVuSans-73\" transform=\"translate(29.492188 0)\"/>\n     <use xlink:href=\"#DejaVuSans-6f\" transform=\"translate(81.591797 0)\"/>\n     <use xlink:href=\"#DejaVuSans-74\" transform=\"translate(142.773438 0)\"/>\n     <use xlink:href=\"#DejaVuSans-6f\" transform=\"translate(181.982422 0)\"/>\n     <use xlink:href=\"#DejaVuSans-70\" transform=\"translate(243.164062 0)\"/>\n     <use xlink:href=\"#DejaVuSans-69\" transform=\"translate(306.640625 0)\"/>\n     <use xlink:href=\"#DejaVuSans-63\" transform=\"translate(334.423828 0)\"/>\n     <use xlink:href=\"#DejaVuSans-20\" transform=\"translate(389.404297 0)\"/>\n     <use xlink:href=\"#DejaVuSans-72\" transform=\"translate(421.191406 0)\"/>\n     <use xlink:href=\"#DejaVuSans-65\" transform=\"translate(460.054688 0)\"/>\n     <use xlink:href=\"#DejaVuSans-6c\" transform=\"translate(521.578125 0)\"/>\n     <use xlink:href=\"#DejaVuSans-61\" transform=\"translate(549.361328 0)\"/>\n     <use xlink:href=\"#DejaVuSans-78\" transform=\"translate(610.640625 0)\"/>\n     <use xlink:href=\"#DejaVuSans-61\" transform=\"translate(669.820312 0)\"/>\n     <use xlink:href=\"#DejaVuSans-74\" transform=\"translate(731.099609 0)\"/>\n     <use xlink:href=\"#DejaVuSans-69\" transform=\"translate(770.308594 0)\"/>\n     <use xlink:href=\"#DejaVuSans-6f\" transform=\"translate(798.091797 0)\"/>\n     <use xlink:href=\"#DejaVuSans-6e\" transform=\"translate(859.273438 0)\"/>\n     <use xlink:href=\"#DejaVuSans-20\" transform=\"translate(922.652344 0)\"/>\n     <use xlink:href=\"#DejaVuSans-74\" transform=\"translate(954.439453 0)\"/>\n     <use xlink:href=\"#DejaVuSans-69\" transform=\"translate(993.648438 0)\"/>\n     <use xlink:href=\"#DejaVuSans-6d\" transform=\"translate(1021.431641 0)\"/>\n     <use xlink:href=\"#DejaVuSans-65\" transform=\"translate(1118.84375 0)\"/>\n     <use xlink:href=\"#DejaVuSans-73\" transform=\"translate(1180.367188 0)\"/>\n     <use xlink:href=\"#DejaVuSans-63\" transform=\"translate(1232.466797 0)\"/>\n     <use xlink:href=\"#DejaVuSans-61\" transform=\"translate(1287.447266 0)\"/>\n     <use xlink:href=\"#DejaVuSans-6c\" transform=\"translate(1348.726562 0)\"/>\n     <use xlink:href=\"#DejaVuSans-65\" transform=\"translate(1376.509766 0)\"/>\n     <use xlink:href=\"#DejaVuSans-20\" transform=\"translate(1438.033203 0)\"/>\n     <use xlink:href=\"#DejaVuSans-63\" transform=\"translate(1469.820312 0)\"/>\n     <use xlink:href=\"#DejaVuSans-6f\" transform=\"translate(1524.800781 0)\"/>\n     <use xlink:href=\"#DejaVuSans-6d\" transform=\"translate(1585.982422 0)\"/>\n     <use xlink:href=\"#DejaVuSans-70\" transform=\"translate(1683.394531 0)\"/>\n     <use xlink:href=\"#DejaVuSans-61\" transform=\"translate(1746.871094 0)\"/>\n     <use xlink:href=\"#DejaVuSans-72\" transform=\"translate(1808.150391 0)\"/>\n     <use xlink:href=\"#DejaVuSans-69\" transform=\"translate(1849.263672 0)\"/>\n     <use xlink:href=\"#DejaVuSans-73\" transform=\"translate(1877.046875 0)\"/>\n     <use xlink:href=\"#DejaVuSans-6f\" transform=\"translate(1929.146484 0)\"/>\n     <use xlink:href=\"#DejaVuSans-6e\" transform=\"translate(1990.328125 0)\"/>\n     <use xlink:href=\"#DejaVuSans-20\" transform=\"translate(2053.707031 0)\"/>\n     <use xlink:href=\"#DejaVuSans-69\" transform=\"translate(2085.494141 0)\"/>\n     <use xlink:href=\"#DejaVuSans-6e\" transform=\"translate(2113.277344 0)\"/>\n     <use xlink:href=\"#DejaVuSans-20\" transform=\"translate(2176.65625 0)\"/>\n     <use xlink:href=\"#DejaVuSans-61\" transform=\"translate(2208.443359 0)\"/>\n     <use xlink:href=\"#DejaVuSans-20\" transform=\"translate(2269.722656 0)\"/>\n     <use xlink:href=\"#DejaVuSans-6c\" transform=\"translate(2301.509766 0)\"/>\n     <use xlink:href=\"#DejaVuSans-6f\" transform=\"translate(2329.292969 0)\"/>\n     <use xlink:href=\"#DejaVuSans-67\" transform=\"translate(2390.474609 0)\"/>\n     <use xlink:href=\"#DejaVuSans-2d\" transform=\"translate(2453.951172 0)\"/>\n     <use xlink:href=\"#DejaVuSans-6c\" transform=\"translate(2490.035156 0)\"/>\n     <use xlink:href=\"#DejaVuSans-6f\" transform=\"translate(2517.818359 0)\"/>\n     <use xlink:href=\"#DejaVuSans-67\" transform=\"translate(2579 0)\"/>\n     <use xlink:href=\"#DejaVuSans-20\" transform=\"translate(2642.476562 0)\"/>\n     <use xlink:href=\"#DejaVuSans-73\" transform=\"translate(2674.263672 0)\"/>\n     <use xlink:href=\"#DejaVuSans-63\" transform=\"translate(2726.363281 0)\"/>\n     <use xlink:href=\"#DejaVuSans-61\" transform=\"translate(2781.34375 0)\"/>\n     <use xlink:href=\"#DejaVuSans-6c\" transform=\"translate(2842.623047 0)\"/>\n     <use xlink:href=\"#DejaVuSans-65\" transform=\"translate(2870.40625 0)\"/>\n    </g>\n   </g>\n   <g id=\"legend_1\">\n    <g id=\"patch_7\">\n     <path d=\"M 312.365313 186.369437 \nL 401.498125 186.369437 \nQ 403.498125 186.369437 403.498125 184.369437 \nL 403.498125 126.378812 \nQ 403.498125 124.378812 401.498125 124.378812 \nL 312.365313 124.378812 \nQ 310.365313 124.378812 310.365313 126.378812 \nL 310.365313 184.369437 \nQ 310.365313 186.369437 312.365313 186.369437 \nz\n\" style=\"fill: #ffffff; opacity: 0.8; stroke: #cccccc; stroke-linejoin: miter\"/>\n    </g>\n    <g id=\"line2d_92\">\n     <path d=\"M 314.365313 132.47725 \nL 324.365313 132.47725 \nL 334.365313 132.47725 \n\" style=\"fill: none; stroke: #1f77b4; stroke-width: 1.5; stroke-linecap: square\"/>\n    </g>\n    <g id=\"text_14\">\n     <!-- radius [cm] -->\n     <g transform=\"translate(342.365313 135.97725) scale(0.1 -0.1)\">\n      <use xlink:href=\"#DejaVuSans-72\"/>\n      <use xlink:href=\"#DejaVuSans-61\" transform=\"translate(41.113281 0)\"/>\n      <use xlink:href=\"#DejaVuSans-64\" transform=\"translate(102.392578 0)\"/>\n      <use xlink:href=\"#DejaVuSans-69\" transform=\"translate(165.869141 0)\"/>\n      <use xlink:href=\"#DejaVuSans-75\" transform=\"translate(193.652344 0)\"/>\n      <use xlink:href=\"#DejaVuSans-73\" transform=\"translate(257.03125 0)\"/>\n      <use xlink:href=\"#DejaVuSans-20\" transform=\"translate(309.130859 0)\"/>\n      <use xlink:href=\"#DejaVuSans-5b\" transform=\"translate(340.917969 0)\"/>\n      <use xlink:href=\"#DejaVuSans-63\" transform=\"translate(379.931641 0)\"/>\n      <use xlink:href=\"#DejaVuSans-6d\" transform=\"translate(434.912109 0)\"/>\n      <use xlink:href=\"#DejaVuSans-5d\" transform=\"translate(532.324219 0)\"/>\n     </g>\n    </g>\n    <g id=\"line2d_93\">\n     <path d=\"M 314.365313 147.155375 \nL 324.365313 147.155375 \nL 334.365313 147.155375 \n\" style=\"fill: none; stroke: #ff7f0e; stroke-width: 1.5; stroke-linecap: square\"/>\n    </g>\n    <g id=\"text_15\">\n     <!-- bolin -->\n     <g transform=\"translate(342.365313 150.655375) scale(0.1 -0.1)\">\n      <defs>\n       <path id=\"DejaVuSans-62\" d=\"M 3116 1747 \nQ 3116 2381 2855 2742 \nQ 2594 3103 2138 3103 \nQ 1681 3103 1420 2742 \nQ 1159 2381 1159 1747 \nQ 1159 1113 1420 752 \nQ 1681 391 2138 391 \nQ 2594 391 2855 752 \nQ 3116 1113 3116 1747 \nz\nM 1159 2969 \nQ 1341 3281 1617 3432 \nQ 1894 3584 2278 3584 \nQ 2916 3584 3314 3078 \nQ 3713 2572 3713 1747 \nQ 3713 922 3314 415 \nQ 2916 -91 2278 -91 \nQ 1894 -91 1617 61 \nQ 1341 213 1159 525 \nL 1159 0 \nL 581 0 \nL 581 4863 \nL 1159 4863 \nL 1159 2969 \nz\n\" transform=\"scale(0.015625)\"/>\n      </defs>\n      <use xlink:href=\"#DejaVuSans-62\"/>\n      <use xlink:href=\"#DejaVuSans-6f\" transform=\"translate(63.476562 0)\"/>\n      <use xlink:href=\"#DejaVuSans-6c\" transform=\"translate(124.658203 0)\"/>\n      <use xlink:href=\"#DejaVuSans-69\" transform=\"translate(152.441406 0)\"/>\n      <use xlink:href=\"#DejaVuSans-6e\" transform=\"translate(180.224609 0)\"/>\n     </g>\n    </g>\n    <g id=\"line2d_94\">\n     <path d=\"M 314.365313 161.8335 \nL 324.365313 161.8335 \nL 334.365313 161.8335 \n\" style=\"fill: none; stroke: #2ca02c; stroke-width: 1.5; stroke-linecap: square\"/>\n    </g>\n    <g id=\"text_16\">\n     <!-- miyake -->\n     <g transform=\"translate(342.365313 165.3335) scale(0.1 -0.1)\">\n      <defs>\n       <path id=\"DejaVuSans-79\" d=\"M 2059 -325 \nQ 1816 -950 1584 -1140 \nQ 1353 -1331 966 -1331 \nL 506 -1331 \nL 506 -850 \nL 844 -850 \nQ 1081 -850 1212 -737 \nQ 1344 -625 1503 -206 \nL 1606 56 \nL 191 3500 \nL 800 3500 \nL 1894 763 \nL 2988 3500 \nL 3597 3500 \nL 2059 -325 \nz\n\" transform=\"scale(0.015625)\"/>\n       <path id=\"DejaVuSans-6b\" d=\"M 581 4863 \nL 1159 4863 \nL 1159 1991 \nL 2875 3500 \nL 3609 3500 \nL 1753 1863 \nL 3688 0 \nL 2938 0 \nL 1159 1709 \nL 1159 0 \nL 581 0 \nL 581 4863 \nz\n\" transform=\"scale(0.015625)\"/>\n      </defs>\n      <use xlink:href=\"#DejaVuSans-6d\"/>\n      <use xlink:href=\"#DejaVuSans-69\" transform=\"translate(97.412109 0)\"/>\n      <use xlink:href=\"#DejaVuSans-79\" transform=\"translate(125.195312 0)\"/>\n      <use xlink:href=\"#DejaVuSans-61\" transform=\"translate(184.375 0)\"/>\n      <use xlink:href=\"#DejaVuSans-6b\" transform=\"translate(245.654297 0)\"/>\n      <use xlink:href=\"#DejaVuSans-65\" transform=\"translate(299.939453 0)\"/>\n     </g>\n    </g>\n    <g id=\"line2d_95\">\n     <path d=\"M 314.365313 176.511625 \nL 324.365313 176.511625 \nL 334.365313 176.511625 \n\" style=\"fill: none; stroke: #d62728; stroke-width: 1.5; stroke-linecap: square\"/>\n    </g>\n    <g id=\"text_17\">\n     <!-- bolin_c1 -->\n     <g transform=\"translate(342.365313 180.011625) scale(0.1 -0.1)\">\n      <defs>\n       <path id=\"DejaVuSans-5f\" d=\"M 3263 -1063 \nL 3263 -1509 \nL -63 -1509 \nL -63 -1063 \nL 3263 -1063 \nz\n\" transform=\"scale(0.015625)\"/>\n      </defs>\n      <use xlink:href=\"#DejaVuSans-62\"/>\n      <use xlink:href=\"#DejaVuSans-6f\" transform=\"translate(63.476562 0)\"/>\n      <use xlink:href=\"#DejaVuSans-6c\" transform=\"translate(124.658203 0)\"/>\n      <use xlink:href=\"#DejaVuSans-69\" transform=\"translate(152.441406 0)\"/>\n      <use xlink:href=\"#DejaVuSans-6e\" transform=\"translate(180.224609 0)\"/>\n      <use xlink:href=\"#DejaVuSans-5f\" transform=\"translate(243.603516 0)\"/>\n      <use xlink:href=\"#DejaVuSans-63\" transform=\"translate(293.603516 0)\"/>\n      <use xlink:href=\"#DejaVuSans-31\" transform=\"translate(348.583984 0)\"/>\n     </g>\n    </g>\n   </g>\n  </g>\n </g>\n <defs>\n  <clipPath id=\"pd68e1210b7\">\n   <rect x=\"51.378125\" y=\"22.318125\" width=\"357.12\" height=\"266.112\"/>\n  </clipPath>\n </defs>\n</svg>\n"
     },
     "metadata": {},
     "output_type": "display_data"
    },
    {
     "data": {
      "text/plain": [
       "HBox(children=(HTML(value=\"<a href='./timescales_comparison.pdf' target='_blank'>./timescales_comparison.pdf</…"
      ],
      "application/vnd.jupyter.widget-view+json": {
       "version_major": 2,
       "version_minor": 0,
       "model_id": "c82fa6bbdbf84c6b83c02c3b04bed2ee"
      }
     },
     "metadata": {},
     "output_type": "display_data"
    }
   ],
   "execution_count": 9
  },
  {
   "metadata": {},
   "cell_type": "markdown",
   "source": "## ",
   "id": "753a7cdce2bd8a86"
  },
  {
   "metadata": {
    "ExecuteTime": {
     "end_time": "2025-02-10T13:20:15.201724Z",
     "start_time": "2025-02-10T13:20:15.199925Z"
    }
   },
   "cell_type": "code",
   "source": "",
   "id": "fa5a02ddaa0c2d15",
   "outputs": [],
   "execution_count": null
  }
 ],
 "metadata": {
  "kernelspec": {
   "display_name": "Python 3",
   "language": "python",
   "name": "python3"
  },
  "language_info": {
   "codemirror_mode": {
    "name": "ipython",
    "version": 2
   },
   "file_extension": ".py",
   "mimetype": "text/x-python",
   "name": "python",
   "nbconvert_exporter": "python",
   "pygments_lexer": "ipython2",
   "version": "2.7.6"
  }
 },
 "nbformat": 4,
 "nbformat_minor": 5
}
