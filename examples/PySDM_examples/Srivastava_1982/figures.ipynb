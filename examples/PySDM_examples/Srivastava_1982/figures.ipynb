{
 "cells": [
  {
   "cell_type": "markdown",
   "metadata": {
    "collapsed": false,
    "pycharm": {
     "name": "#%% md\n"
    }
   },
   "source": [
    "[![nbviewer](https://raw.githubusercontent.com/jupyter/design/master/logos/Badges/nbviewer_badge.svg)](https://nbviewer.jupyter.org/github/open-atmos/PySDM/blob/main/examples/PySDM_examples/Srivastava_1982/figures.ipynb)\n",
    "[![Binder](https://mybinder.org/badge_logo.svg)](https://mybinder.org/v2/gh/open-atmos/PySDM.git/main?urlpath=examples/PySDM_examples/Srivastava_1982/figures.ipynb)\n",
    "[![Open In Colab](https://colab.research.google.com/assets/colab-badge.svg)](https://colab.research.google.com/github/open-atmos/PySDM/blob/main/examples/PySDM_examples/Srivastava_1982/figures.ipynb)"
   ]
  },
  {
   "cell_type": "code",
   "execution_count": null,
   "metadata": {
    "pycharm": {
     "name": "#%%\n"
    }
   },
   "outputs": [],
   "source": [
    "import sys\n",
    "if 'google.colab' in sys.modules:\n",
    "    !pip --quiet install open-atmos-jupyter-utils\n",
    "    from open_atmos_jupyter_utils import pip_install_on_colab\n",
    "    pip_install_on_colab('PySDM-examples')"
   ]
  },
  {
   "cell_type": "code",
   "execution_count": null,
   "metadata": {
    "pycharm": {
     "name": "#%%\n"
    }
   },
   "outputs": [],
   "source": [
    "from matplotlib import pyplot\n",
    "import numpy as np\n",
    "from PySDM_examples.Srivastava_1982.equations import Equations\n",
    "from open_atmos_jupyter_utils import show_plot"
   ]
  },
  {
   "cell_type": "markdown",
   "metadata": {
    "collapsed": false,
    "pycharm": {
     "name": "#%% md\n"
    }
   },
   "source": [
    "## Figure 1"
   ]
  },
  {
   "cell_type": "code",
   "execution_count": null,
   "metadata": {
    "pycharm": {
     "name": "#%%\n"
    }
   },
   "outputs": [],
   "source": [
    "alpha_star = 1e-5\n",
    "beta_star = 1e-4\n",
    "\n",
    "pyplot.title(\"fig 1 (note: value from paper: m_E=215)\")\n",
    "for m0 in (100, 450):\n",
    "    eqs = Equations(alpha_star=alpha_star, beta_star=beta_star)\n",
    "    tau = np.linspace(0, 900)\n",
    "    y0 = eqs.eq15(m0)\n",
    "    x = eqs.eq16(tau)\n",
    "    y = (y0 + np.tanh(x)) / (1 + y0 * np.tanh(x))\n",
    "    pyplot.plot(tau, eqs.eq15_m_of_y(y), label=f\"$m(τ, m_0={m0})$\")\n",
    "\n",
    "pyplot.axhline(eqs.eq12(), linestyle=\"--\", label=\"$m_E$\")\n",
    "pyplot.xlabel(\"τ\")\n",
    "pyplot.ylabel(\"mass\")\n",
    "pyplot.grid()\n",
    "pyplot.legend()\n",
    "show_plot('fig1.pdf')"
   ]
  },
  {
   "cell_type": "markdown",
   "metadata": {
    "collapsed": false,
    "pycharm": {
     "name": "#%% md\n"
    }
   },
   "source": [
    "## coalescence (equation 13) and breakup (equation 14) analytic"
   ]
  },
  {
   "cell_type": "code",
   "execution_count": null,
   "metadata": {
    "pycharm": {
     "name": "#%%\n"
    }
   },
   "outputs": [],
   "source": [
    "alpha_star = 1e-5\n",
    "beta_star = 1e-4\n",
    "eqs = Equations(alpha_star=alpha_star, beta_star=beta_star)\n",
    "\n",
    "tau = np.linspace(0, 90000)\n",
    "m0 = 100\n",
    "pyplot.title(\"equations (13) and (14)\")\n",
    "pyplot.plot(tau, eqs.eq13(m0, tau), label=f\"m(τ, m_0={m0})\")\n",
    "pyplot.axhline(eqs.eq14(), linestyle=\"--\", label=\"$m_E$\")\n",
    "pyplot.xlabel(\"τ\")\n",
    "pyplot.ylabel(\"mass\")\n",
    "pyplot.grid()\n",
    "pyplot.legend()\n",
    "pyplot.show()\n",
    "show_plot('eq_13_14.pdf')"
   ]
  },
  {
   "cell_type": "code",
   "execution_count": null,
   "metadata": {
    "pycharm": {
     "name": "#%%\n"
    }
   },
   "outputs": [],
   "source": []
  }
 ],
 "metadata": {
  "kernelspec": {
   "display_name": "pysdm_ex_venv",
   "language": "python",
   "name": "pysdm_ex_venv"
  },
  "language_info": {
   "codemirror_mode": {
    "name": "ipython",
    "version": 2
   },
   "file_extension": ".py",
   "mimetype": "text/x-python",
   "name": "python",
   "nbconvert_exporter": "python",
   "pygments_lexer": "ipython2",
   "version": "2.7.6"
  }
 },
 "nbformat": 4,
 "nbformat_minor": 0
}
