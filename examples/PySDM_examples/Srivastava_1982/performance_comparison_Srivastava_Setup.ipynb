{
 "cells": [
  {
   "cell_type": "markdown",
   "metadata": {
    "id": "WIqA5e780Mjf",
    "pycharm": {
     "name": "#%% md\n"
    }
   },
   "source": [
    "[![nbviewer](https://raw.githubusercontent.com/jupyter/design/master/logos/Badges/nbviewer_badge.svg)](https://nbviewer.jupyter.org/github/open-atmos/PySDM/blob/main/examples/PySDM_examples/deJong_Mackay_et_al_2023/convergence.ipynb)\n",
    "[![Binder](https://mybinder.org/badge_logo.svg)](https://mybinder.org/v2/gh/open-atmos/PySDM.git/main?urlpath=examples/PySDM_examples/deJong_Mackay_et_al_2023/convergence.ipynb)\n",
    "[![Open In Colab](https://colab.research.google.com/assets/colab-badge.svg)](https://colab.research.google.com/github/open-atmos/PySDM/blob/main/examples/PySDM_examples/deJong_Mackay_et_al_2023/convergence.ipynb)"
   ]
  },
  {
   "cell_type": "code",
   "execution_count": 1,
   "metadata": {
    "id": "UQMa_1r60Mji",
    "pycharm": {
     "name": "#%%\n"
    }
   },
   "outputs": [],
   "source": [
    "import sys\n",
    "if 'google.colab' in sys.modules:\n",
    "    !pip --quiet install open-atmos-jupyter-utils\n",
    "    from open_atmos_jupyter_utils import pip_install_on_colab\n",
    "    pip_install_on_colab('PySDM-examples')"
   ]
  },
  {
   "cell_type": "code",
   "execution_count": 2,
   "metadata": {
    "id": "CmpuwDeA0Mjk",
    "pycharm": {
     "name": "#%%\n"
    }
   },
   "outputs": [],
   "source": [
    "import os\n",
    "os.environ['NUMBA_NUM_THREADS'] = '10'\n",
    "\n",
    "from open_atmos_jupyter_utils import show_plot\n",
    "from datetime import datetime\n",
    "import json\n",
    "import numpy as np\n",
    "from matplotlib import pyplot\n",
    "import numba\n",
    "\n",
    "from PySDM.backends import GPU, CPU\n",
    "from PySDM.physics import si\n",
    "\n",
    "from perf_comp.utils import go_benchmark, process_results, plot_processed_results, write_to_file\n",
    "from perf_comp.utils import measure_time_per_timestep, measure_time_for_each_step, plot_time_per_step\n",
    "from perf_comp.setups import setup_coalescence_only_sim, setup_breakup_only_sim, setup_coalescence_breakup_sim"
   ]
  },
  {
   "cell_type": "code",
   "execution_count": 3,
   "metadata": {
    "colab": {
     "base_uri": "https://localhost:8080/"
    },
    "id": "Qesf60GDowi-",
    "outputId": "87b58dce-e649-4551-c481-d59e34b11bb3",
    "pycharm": {
     "name": "#%%\n"
    }
   },
   "outputs": [],
   "source": [
    "TIMESTAMP = str(datetime.now()).replace(' ', '_')"
   ]
  },
  {
   "cell_type": "code",
   "execution_count": 4,
   "metadata": {},
   "outputs": [],
   "source": [
    "SIM_RUN_FILENAME=\"env_name_\" + TIMESTAMP"
   ]
  },
  {
   "cell_type": "code",
   "execution_count": 5,
   "metadata": {
    "colab": {
     "base_uri": "https://localhost:8080/",
     "height": 245
    },
    "id": "gXgbRuqNLtO5",
    "outputId": "aa4660c0-3253-498c-8d17-cf76435c1bfc",
    "pycharm": {
     "name": "#%%\n"
    }
   },
   "outputs": [
    {
     "name": "stdout",
     "output_type": "stream",
     "text": [
      "zsh:1: command not found: lscpu\n",
      "zsh:1: command not found: nvidia-smi\n",
      "zsh:1: command not found: nvidia-smi\n",
      "cat: /proc/cpuinfo: No such file or directory\n"
     ]
    }
   ],
   "source": [
    "assert not os.path.isfile(SIM_RUN_FILENAME)\n",
    "\n",
    "!echo NUMBA_DEFAULT_NUM_THREADS: $numba.config.NUMBA_DEFAULT_NUM_THREADS >> $SIM_RUN_FILENAME\n",
    "!echo NUMBA_NUM_THREADS: $numba.config.NUMBA_NUM_THREADS >> $SIM_RUN_FILENAME\n",
    "!lscpu >> $SIM_RUN_FILENAME\n",
    "!nvidia-smi >> $SIM_RUN_FILENAME\n",
    "!nvidia-smi -L >> $SIM_RUN_FILENAME\n",
    "\n",
    "!cat /proc/cpuinfo >> $SIM_RUN_FILENAME"
   ]
  },
  {
   "cell_type": "code",
   "execution_count": 6,
   "metadata": {},
   "outputs": [
    {
     "data": {
      "text/plain": [
       "'env_name_2023-09-29_01:35:17.451690'"
      ]
     },
     "execution_count": 6,
     "metadata": {},
     "output_type": "execute_result"
    }
   ],
   "source": [
    "SIM_RUN_FILENAME"
   ]
  },
  {
   "cell_type": "code",
   "execution_count": 7,
   "metadata": {},
   "outputs": [],
   "source": [
    "CI = True #'CI' in os.environ\n",
    "\n",
    "exponents = [3, 5, 8, 10, 12, 14, 16, 18, 20, 22, 24] if not CI else [3, 5]\n",
    "n_sds = [2 ** i for i in exponents]\n",
    "\n",
    "numba_n_threads = [1, 2, 4, 5, 6, 8, 10] if not CI else [1, 2]\n",
    "\n",
    "n_realisations = 3 if not CI else 2\n",
    "seeds = list(range(n_realisations))\n",
    "\n",
    "n_steps_short = 100 if not CI else 10\n",
    "n_steps_full = 2048 if not CI else 20"
   ]
  },
  {
   "cell_type": "markdown",
   "metadata": {},
   "source": [
    "  "
   ]
  },
  {
   "cell_type": "markdown",
   "metadata": {
    "id": "zRIO0J-C-PlE",
    "pycharm": {
     "name": "#%% md\n"
    }
   },
   "source": [
    "# Benchmark regular setup (without scaling)"
   ]
  },
  {
   "cell_type": "markdown",
   "metadata": {
    "id": "B9_nMuALeOdd",
    "pycharm": {
     "name": "#%% md\n"
    }
   },
   "source": [
    "### Coalescence-only"
   ]
  },
  {
   "cell_type": "code",
   "execution_count": 8,
   "metadata": {
    "colab": {
     "base_uri": "https://localhost:8080/",
     "height": 408
    },
    "id": "igcjY2XPfTLq",
    "outputId": "c085dd3e-088c-4096-83a0-643be5343ac5",
    "pycharm": {
     "name": "#%%\n"
    },
    "scrolled": true
   },
   "outputs": [
    {
     "name": "stdout",
     "output_type": "stream",
     "text": [
      "\n",
      " before\n",
      "\n",
      "Numba_1 8\n",
      "\n",
      "\n",
      "== Settings ==\n",
      "n_sd 8\n",
      "total_number 1000000000000.0\n",
      "dv 1.0\n",
      "\n",
      "\n",
      "prod before\n",
      "total_number [1.e+12]\n",
      "total_volume [1000000.]\n",
      "super_particle_count [8.]\n",
      "\n",
      "start\n",
      "\n",
      " after\n",
      "total_number [4.88281251e+08]\n",
      "total_volume [1000000.]\n",
      "super_particle_count [8.]\n",
      "\n",
      "== Settings ==\n",
      "n_sd 8\n",
      "total_number 1000000000000.0\n",
      "dv 1.0\n",
      "\n",
      "\n",
      "prod before\n",
      "total_number [1.e+12]\n",
      "total_volume [1000000.]\n",
      "super_particle_count [8.]\n",
      "\n",
      "start\n",
      "\n",
      " after\n",
      "total_number [4.88281251e+08]\n",
      "total_volume [1000000.]\n",
      "super_particle_count [8.]\n",
      "\n",
      "Numba_1 32\n",
      "\n",
      "\n",
      "== Settings ==\n",
      "n_sd 32\n",
      "total_number 1000000000000.0\n",
      "dv 1.0\n",
      "\n",
      "\n",
      "prod before\n",
      "total_number [1.e+12]\n",
      "total_volume [1000000.]\n",
      "super_particle_count [32.]\n",
      "\n",
      "start\n",
      "\n",
      " after\n",
      "total_number [7.32412423e+08]\n",
      "total_volume [1000000.]\n",
      "super_particle_count [32.]\n",
      "\n",
      "== Settings ==\n",
      "n_sd 32\n",
      "total_number 1000000000000.0\n",
      "dv 1.0\n",
      "\n",
      "\n",
      "prod before\n",
      "total_number [1.e+12]\n",
      "total_volume [1000000.]\n",
      "super_particle_count [32.]\n",
      "\n",
      "start\n",
      "\n",
      " after\n",
      "total_number [8.23961372e+08]\n",
      "total_volume [1000000.]\n",
      "super_particle_count [32.]\n",
      "\n",
      "Numba_1 256\n",
      "\n",
      "\n",
      "== Settings ==\n",
      "n_sd 256\n",
      "total_number 1000000000000.0\n",
      "dv 1.0\n",
      "\n",
      "\n",
      "prod before\n",
      "total_number [1.e+12]\n",
      "total_volume [1000000.]\n",
      "super_particle_count [256.]\n",
      "\n",
      "start\n",
      "\n",
      " after\n",
      "total_number [1.34960302e+09]\n",
      "total_volume [1000000.]\n",
      "super_particle_count [256.]\n",
      "\n",
      "== Settings ==\n",
      "n_sd 256\n",
      "total_number 1000000000000.0\n",
      "dv 1.0\n",
      "\n",
      "\n",
      "prod before\n",
      "total_number [1.e+12]\n",
      "total_volume [1000000.]\n",
      "super_particle_count [256.]\n",
      "\n",
      "start\n",
      "\n",
      " after\n",
      "total_number [1.21911568e+09]\n",
      "total_volume [1000000.]\n",
      "super_particle_count [256.]\n",
      "\n",
      " before\n",
      "\n",
      "Numba_2 8\n",
      "\n",
      "\n",
      "== Settings ==\n",
      "n_sd 8\n",
      "total_number 1000000000000.0\n",
      "dv 1.0\n",
      "\n",
      "\n",
      "prod before\n",
      "total_number [1.e+12]\n",
      "total_volume [1000000.]\n",
      "super_particle_count [8.]\n",
      "\n",
      "start\n",
      "\n",
      " after\n",
      "total_number [4.88281251e+08]\n",
      "total_volume [1000000.]\n",
      "super_particle_count [8.]\n",
      "\n",
      "== Settings ==\n",
      "n_sd 8\n",
      "total_number 1000000000000.0\n",
      "dv 1.0\n",
      "\n",
      "\n",
      "prod before\n",
      "total_number [1.e+12]\n",
      "total_volume [1000000.]\n",
      "super_particle_count [8.]\n",
      "\n",
      "start\n",
      "\n",
      " after\n",
      "total_number [4.88281251e+08]\n",
      "total_volume [1000000.]\n",
      "super_particle_count [8.]\n",
      "\n",
      "Numba_2 32\n",
      "\n",
      "\n",
      "== Settings ==\n",
      "n_sd 32\n",
      "total_number 1000000000000.0\n",
      "dv 1.0\n",
      "\n",
      "\n",
      "prod before\n",
      "total_number [1.e+12]\n",
      "total_volume [1000000.]\n",
      "super_particle_count [32.]\n",
      "\n",
      "start\n",
      "\n",
      " after\n",
      "total_number [7.32412423e+08]\n",
      "total_volume [1000000.]\n",
      "super_particle_count [32.]\n",
      "\n",
      "== Settings ==\n",
      "n_sd 32\n",
      "total_number 1000000000000.0\n",
      "dv 1.0\n",
      "\n",
      "\n",
      "prod before\n",
      "total_number [1.e+12]\n",
      "total_volume [1000000.]\n",
      "super_particle_count [32.]\n",
      "\n",
      "start\n",
      "\n",
      " after\n",
      "total_number [8.23961372e+08]\n",
      "total_volume [1000000.]\n",
      "super_particle_count [32.]\n",
      "\n",
      "Numba_2 256\n",
      "\n",
      "\n",
      "== Settings ==\n",
      "n_sd 256\n",
      "total_number 1000000000000.0\n",
      "dv 1.0\n",
      "\n",
      "\n",
      "prod before\n",
      "total_number [1.e+12]\n",
      "total_volume [1000000.]\n",
      "super_particle_count [256.]\n",
      "\n",
      "start\n",
      "\n",
      " after\n",
      "total_number [1.34960302e+09]\n",
      "total_volume [1000000.]\n",
      "super_particle_count [256.]\n",
      "\n",
      "== Settings ==\n",
      "n_sd 256\n",
      "total_number 1000000000000.0\n",
      "dv 1.0\n",
      "\n",
      "\n",
      "prod before\n",
      "total_number [1.e+12]\n",
      "total_volume [1000000.]\n",
      "super_particle_count [256.]\n",
      "\n",
      "start\n",
      "\n",
      " after\n",
      "total_number [1.21911568e+09]\n",
      "total_volume [1000000.]\n",
      "super_particle_count [256.]\n",
      "\n",
      " before\n",
      "\n",
      "Numba_4 8\n",
      "\n",
      "\n",
      "== Settings ==\n",
      "n_sd 8\n",
      "total_number 1000000000000.0\n",
      "dv 1.0\n",
      "\n",
      "\n",
      "prod before\n",
      "total_number [1.e+12]\n",
      "total_volume [1000000.]\n",
      "super_particle_count [8.]\n",
      "\n",
      "start\n",
      "\n",
      " after\n",
      "total_number [4.88281251e+08]\n",
      "total_volume [1000000.]\n",
      "super_particle_count [8.]\n",
      "\n",
      "== Settings ==\n",
      "n_sd 8\n",
      "total_number 1000000000000.0\n",
      "dv 1.0\n",
      "\n",
      "\n",
      "prod before\n",
      "total_number [1.e+12]\n",
      "total_volume [1000000.]\n",
      "super_particle_count [8.]\n",
      "\n",
      "start\n",
      "\n",
      " after\n",
      "total_number [4.88281251e+08]\n",
      "total_volume [1000000.]\n",
      "super_particle_count [8.]\n",
      "\n",
      "Numba_4 32\n",
      "\n",
      "\n",
      "== Settings ==\n",
      "n_sd 32\n",
      "total_number 1000000000000.0\n",
      "dv 1.0\n",
      "\n",
      "\n",
      "prod before\n",
      "total_number [1.e+12]\n",
      "total_volume [1000000.]\n",
      "super_particle_count [32.]\n",
      "\n",
      "start\n",
      "\n",
      " after\n",
      "total_number [7.32412423e+08]\n",
      "total_volume [1000000.]\n",
      "super_particle_count [32.]\n",
      "\n",
      "== Settings ==\n",
      "n_sd 32\n",
      "total_number 1000000000000.0\n",
      "dv 1.0\n",
      "\n",
      "\n",
      "prod before\n",
      "total_number [1.e+12]\n",
      "total_volume [1000000.]\n",
      "super_particle_count [32.]\n",
      "\n",
      "start\n",
      "\n",
      " after\n",
      "total_number [8.23961372e+08]\n",
      "total_volume [1000000.]\n",
      "super_particle_count [32.]\n",
      "\n",
      "Numba_4 256\n",
      "\n",
      "\n",
      "== Settings ==\n",
      "n_sd 256\n",
      "total_number 1000000000000.0\n",
      "dv 1.0\n",
      "\n",
      "\n",
      "prod before\n",
      "total_number [1.e+12]\n",
      "total_volume [1000000.]\n",
      "super_particle_count [256.]\n",
      "\n",
      "start\n",
      "\n",
      " after\n",
      "total_number [1.34960302e+09]\n",
      "total_volume [1000000.]\n",
      "super_particle_count [256.]\n",
      "\n",
      "== Settings ==\n",
      "n_sd 256\n",
      "total_number 1000000000000.0\n",
      "dv 1.0\n",
      "\n",
      "\n",
      "prod before\n",
      "total_number [1.e+12]\n",
      "total_volume [1000000.]\n",
      "super_particle_count [256.]\n",
      "\n",
      "start\n",
      "\n",
      " after\n",
      "total_number [1.21911568e+09]\n",
      "total_volume [1000000.]\n",
      "super_particle_count [256.]\n",
      "\n",
      " before\n",
      "\n",
      "ThrustRTC 8\n",
      "\n",
      "\n",
      "== Settings ==\n",
      "n_sd 8\n",
      "total_number 1000000000000.0\n",
      "dv 1.0\n",
      "\n",
      "\n",
      "prod before\n"
     ]
    },
    {
     "name": "stderr",
     "output_type": "stream",
     "text": [
      "/Users/aleks/uni/PySDM/PySDM/backends/thrust_rtc.py:72: UserWarning: CUDA is not available, using FakeThrustRTC!\n",
      "  warnings.warn(\"CUDA is not available, using FakeThrustRTC!\")\n"
     ]
    },
    {
     "name": "stdout",
     "output_type": "stream",
     "text": [
      "total_number [1.e+12]\n",
      "total_volume [1000000.]\n",
      "super_particle_count [8.]\n",
      "\n",
      "start\n",
      "\n",
      " after\n",
      "total_number [4.88281251e+08]\n",
      "total_volume [1000000.]\n",
      "super_particle_count [8.]\n",
      "\n",
      "== Settings ==\n",
      "n_sd 8\n",
      "total_number 1000000000000.0\n",
      "dv 1.0\n",
      "\n",
      "\n",
      "prod before\n"
     ]
    },
    {
     "name": "stderr",
     "output_type": "stream",
     "text": [
      "/Users/aleks/uni/PySDM/PySDM/backends/thrust_rtc.py:72: UserWarning: CUDA is not available, using FakeThrustRTC!\n",
      "  warnings.warn(\"CUDA is not available, using FakeThrustRTC!\")\n"
     ]
    },
    {
     "name": "stdout",
     "output_type": "stream",
     "text": [
      "total_number [1.e+12]\n",
      "total_volume [1000000.]\n",
      "super_particle_count [8.]\n",
      "\n",
      "start\n",
      "\n",
      " after\n",
      "total_number [4.88281251e+08]\n",
      "total_volume [1000000.]\n",
      "super_particle_count [8.]\n",
      "\n",
      "ThrustRTC 32\n",
      "\n",
      "\n",
      "== Settings ==\n",
      "n_sd 32\n",
      "total_number 1000000000000.0\n",
      "dv 1.0\n",
      "\n",
      "\n",
      "prod before\n"
     ]
    },
    {
     "name": "stderr",
     "output_type": "stream",
     "text": [
      "/Users/aleks/uni/PySDM/PySDM/backends/thrust_rtc.py:72: UserWarning: CUDA is not available, using FakeThrustRTC!\n",
      "  warnings.warn(\"CUDA is not available, using FakeThrustRTC!\")\n"
     ]
    },
    {
     "name": "stdout",
     "output_type": "stream",
     "text": [
      "total_number [1.e+12]\n",
      "total_volume [1000000.]\n",
      "super_particle_count [32.]\n",
      "\n",
      "start\n"
     ]
    },
    {
     "ename": "KeyboardInterrupt",
     "evalue": "",
     "output_type": "error",
     "traceback": [
      "\u001b[0;31m---------------------------------------------------------------------------\u001b[0m",
      "\u001b[0;31mKeyboardInterrupt\u001b[0m                         Traceback (most recent call last)",
      "Cell \u001b[0;32mIn [8], line 1\u001b[0m\n\u001b[0;32m----> 1\u001b[0m res_coalescence_only \u001b[38;5;241m=\u001b[39m \u001b[43mgo_benchmark\u001b[49m\u001b[43m(\u001b[49m\n\u001b[1;32m      2\u001b[0m \u001b[43m    \u001b[49m\u001b[43msetup_coalescence_only_sim\u001b[49m\u001b[43m,\u001b[49m\u001b[43m \u001b[49m\u001b[43mn_sds\u001b[49m\u001b[43m,\u001b[49m\u001b[43m \u001b[49m\u001b[43mn_steps_short\u001b[49m\u001b[43m,\u001b[49m\u001b[43m \u001b[49m\u001b[43mseeds\u001b[49m\u001b[43m,\u001b[49m\u001b[43m \u001b[49m\u001b[43mnumba_n_threads\u001b[49m\u001b[38;5;241;43m=\u001b[39;49m\u001b[43mnumba_n_threads\u001b[49m\u001b[43m,\u001b[49m\u001b[43m \u001b[49m\u001b[43mdouble_precision\u001b[49m\u001b[38;5;241;43m=\u001b[39;49m\u001b[38;5;28;43;01mTrue\u001b[39;49;00m\u001b[43m,\u001b[49m\u001b[43m \u001b[49m\n\u001b[1;32m      3\u001b[0m \u001b[43m    \u001b[49m\u001b[43mgeneral_filename\u001b[49m\u001b[38;5;241;43m=\u001b[39;49m\u001b[43mSIM_RUN_FILENAME\u001b[49m\u001b[43m \u001b[49m\u001b[38;5;241;43m+\u001b[39;49m\u001b[43m \u001b[49m\u001b[38;5;124;43m'\u001b[39;49m\u001b[38;5;124;43m-coalescence\u001b[39;49m\u001b[38;5;124;43m'\u001b[39;49m\u001b[43m,\u001b[49m\n\u001b[1;32m      4\u001b[0m \u001b[43m    \u001b[49m\u001b[43mbackends\u001b[49m\u001b[38;5;241;43m=\u001b[39;49m\u001b[43m[\u001b[49m\u001b[43mCPU\u001b[49m\u001b[43m,\u001b[49m\u001b[43m \u001b[49m\u001b[43mGPU\u001b[49m\u001b[43m]\u001b[49m\n\u001b[1;32m      5\u001b[0m \u001b[43m)\u001b[49m\n",
      "File \u001b[0;32m~/uni/PySDM/examples/PySDM_examples/Srivastava_1982/perf_comp/utils.py:130\u001b[0m, in \u001b[0;36mgo_benchmark\u001b[0;34m(setup_sim, n_sds, n_steps, seeds, numba_n_threads, double_precision, general_filename, total_number, dv, time_measurement_fun, backends)\u001b[0m\n\u001b[1;32m    127\u001b[0m \u001b[38;5;28mprint\u001b[39m()\n\u001b[1;32m    128\u001b[0m \u001b[38;5;28mprint\u001b[39m(\u001b[38;5;124m'\u001b[39m\u001b[38;5;124mstart\u001b[39m\u001b[38;5;124m'\u001b[39m)\n\u001b[0;32m--> 130\u001b[0m elapsed_time \u001b[38;5;241m=\u001b[39m \u001b[43mtime_measurement_fun\u001b[49m\u001b[43m(\u001b[49m\u001b[43mparticulator\u001b[49m\u001b[43m,\u001b[49m\u001b[43m \u001b[49m\u001b[43mn_steps\u001b[49m\u001b[43m)\u001b[49m\n\u001b[1;32m    132\u001b[0m \u001b[38;5;28mprint\u001b[39m(\u001b[38;5;124m'\u001b[39m\u001b[38;5;130;01m\\n\u001b[39;00m\u001b[38;5;124m'\u001b[39m, \u001b[38;5;124m'\u001b[39m\u001b[38;5;124mafter\u001b[39m\u001b[38;5;124m'\u001b[39m)\n\u001b[1;32m    133\u001b[0m print_all_products(particulator)\n",
      "File \u001b[0;32m~/uni/PySDM/examples/PySDM_examples/Srivastava_1982/perf_comp/utils.py:63\u001b[0m, in \u001b[0;36mmeasure_time_per_timestep\u001b[0;34m(particulator, n_steps)\u001b[0m\n\u001b[1;32m     62\u001b[0m \u001b[38;5;28;01mdef\u001b[39;00m \u001b[38;5;21mmeasure_time_per_timestep\u001b[39m(particulator, n_steps):\n\u001b[0;32m---> 63\u001b[0m     \u001b[43mparticulator\u001b[49m\u001b[38;5;241;43m.\u001b[39;49m\u001b[43mrun\u001b[49m\u001b[43m(\u001b[49m\u001b[43msteps\u001b[49m\u001b[38;5;241;43m=\u001b[39;49m\u001b[38;5;241;43m1\u001b[39;49m\u001b[43m)\u001b[49m\n\u001b[1;32m     65\u001b[0m     t0 \u001b[38;5;241m=\u001b[39m time\u001b[38;5;241m.\u001b[39mtime()\n\u001b[1;32m     66\u001b[0m     particulator\u001b[38;5;241m.\u001b[39mrun(steps\u001b[38;5;241m=\u001b[39mn_steps)\n",
      "File \u001b[0;32m~/uni/PySDM/PySDM/particulator.py:48\u001b[0m, in \u001b[0;36mParticulator.run\u001b[0;34m(self, steps)\u001b[0m\n\u001b[1;32m     46\u001b[0m \u001b[38;5;28;01mfor\u001b[39;00m key, dynamic \u001b[38;5;129;01min\u001b[39;00m \u001b[38;5;28mself\u001b[39m\u001b[38;5;241m.\u001b[39mdynamics\u001b[38;5;241m.\u001b[39mitems():\n\u001b[1;32m     47\u001b[0m     \u001b[38;5;28;01mwith\u001b[39;00m \u001b[38;5;28mself\u001b[39m\u001b[38;5;241m.\u001b[39mtimers[key]:\n\u001b[0;32m---> 48\u001b[0m         \u001b[43mdynamic\u001b[49m\u001b[43m(\u001b[49m\u001b[43m)\u001b[49m\n\u001b[1;32m     49\u001b[0m \u001b[38;5;28mself\u001b[39m\u001b[38;5;241m.\u001b[39mn_steps \u001b[38;5;241m+\u001b[39m\u001b[38;5;241m=\u001b[39m \u001b[38;5;241m1\u001b[39m\n\u001b[1;32m     50\u001b[0m \u001b[38;5;28mself\u001b[39m\u001b[38;5;241m.\u001b[39m_notify_observers()\n",
      "File \u001b[0;32m~/uni/PySDM/PySDM/dynamics/collisions/collision.py:175\u001b[0m, in \u001b[0;36mCollision.__call__\u001b[0;34m(self)\u001b[0m\n\u001b[1;32m    173\u001b[0m \u001b[38;5;28;01mif\u001b[39;00m \u001b[38;5;129;01mnot\u001b[39;00m \u001b[38;5;28mself\u001b[39m\u001b[38;5;241m.\u001b[39madaptive:\n\u001b[1;32m    174\u001b[0m     \u001b[38;5;28;01mfor\u001b[39;00m _ \u001b[38;5;129;01min\u001b[39;00m \u001b[38;5;28mrange\u001b[39m(\u001b[38;5;28mself\u001b[39m\u001b[38;5;241m.\u001b[39m__substeps):\n\u001b[0;32m--> 175\u001b[0m         \u001b[38;5;28;43mself\u001b[39;49m\u001b[38;5;241;43m.\u001b[39;49m\u001b[43mstep\u001b[49m\u001b[43m(\u001b[49m\u001b[43m)\u001b[49m\n\u001b[1;32m    176\u001b[0m \u001b[38;5;28;01melse\u001b[39;00m:\n\u001b[1;32m    177\u001b[0m     \u001b[38;5;28mself\u001b[39m\u001b[38;5;241m.\u001b[39mdt_left[:] \u001b[38;5;241m=\u001b[39m \u001b[38;5;28mself\u001b[39m\u001b[38;5;241m.\u001b[39mparticulator\u001b[38;5;241m.\u001b[39mdt\n",
      "File \u001b[0;32m~/uni/PySDM/PySDM/dynamics/collisions/collision.py:201\u001b[0m, in \u001b[0;36mCollision.step\u001b[0;34m(self)\u001b[0m\n\u001b[1;32m    196\u001b[0m \u001b[38;5;28mself\u001b[39m\u001b[38;5;241m.\u001b[39mtoss_candidate_pairs_and_sort_within_pair_by_multiplicity(\n\u001b[1;32m    197\u001b[0m     \u001b[38;5;28mself\u001b[39m\u001b[38;5;241m.\u001b[39mis_first_in_pair, pairs_rand\n\u001b[1;32m    198\u001b[0m )\n\u001b[1;32m    200\u001b[0m prob \u001b[38;5;241m=\u001b[39m \u001b[38;5;28mself\u001b[39m\u001b[38;5;241m.\u001b[39mgamma\n\u001b[0;32m--> 201\u001b[0m \u001b[38;5;28;43mself\u001b[39;49m\u001b[38;5;241;43m.\u001b[39;49m\u001b[43mcompute_probabilities_of_collision\u001b[49m\u001b[43m(\u001b[49m\u001b[38;5;28;43mself\u001b[39;49m\u001b[38;5;241;43m.\u001b[39;49m\u001b[43mis_first_in_pair\u001b[49m\u001b[43m,\u001b[49m\u001b[43m \u001b[49m\u001b[43mout\u001b[49m\u001b[38;5;241;43m=\u001b[39;49m\u001b[43mprob\u001b[49m\u001b[43m)\u001b[49m\n\u001b[1;32m    203\u001b[0m \u001b[38;5;28;01mif\u001b[39;00m \u001b[38;5;28mself\u001b[39m\u001b[38;5;241m.\u001b[39menable_breakup:\n\u001b[1;32m    204\u001b[0m     proc_rand \u001b[38;5;241m=\u001b[39m \u001b[38;5;28mself\u001b[39m\u001b[38;5;241m.\u001b[39mrnd_opt_proc\u001b[38;5;241m.\u001b[39mget_random_arrays()\n",
      "File \u001b[0;32m~/uni/PySDM/PySDM/dynamics/collisions/collision.py:250\u001b[0m, in \u001b[0;36mCollision.compute_probabilities_of_collision\u001b[0;34m(self, is_first_in_pair, out)\u001b[0m\n\u001b[1;32m    248\u001b[0m \u001b[38;5;28mself\u001b[39m\u001b[38;5;241m.\u001b[39mcollision_kernel(\u001b[38;5;28mself\u001b[39m\u001b[38;5;241m.\u001b[39mkernel_temp, is_first_in_pair)\n\u001b[1;32m    249\u001b[0m out\u001b[38;5;241m.\u001b[39mmax(\u001b[38;5;28mself\u001b[39m\u001b[38;5;241m.\u001b[39mparticulator\u001b[38;5;241m.\u001b[39mattributes[\u001b[38;5;124m\"\u001b[39m\u001b[38;5;124mmultiplicity\u001b[39m\u001b[38;5;124m\"\u001b[39m], is_first_in_pair)\n\u001b[0;32m--> 250\u001b[0m out \u001b[38;5;241m*\u001b[39m\u001b[38;5;241m=\u001b[39m \u001b[38;5;28mself\u001b[39m\u001b[38;5;241m.\u001b[39mkernel_temp\n\u001b[1;32m    251\u001b[0m \u001b[38;5;28mself\u001b[39m\u001b[38;5;241m.\u001b[39mparticulator\u001b[38;5;241m.\u001b[39mnormalize(out, \u001b[38;5;28mself\u001b[39m\u001b[38;5;241m.\u001b[39mnorm_factor_temp)\n",
      "File \u001b[0;32m~/uni/PySDM/PySDM/backends/impl_thrust_rtc/storage.py:366\u001b[0m, in \u001b[0;36mmake_storage_class.<locals>.Storage.__imul__\u001b[0;34m(self, other)\u001b[0m\n\u001b[1;32m    365\u001b[0m \u001b[38;5;28;01mdef\u001b[39;00m \u001b[38;5;21m__imul__\u001b[39m(\u001b[38;5;28mself\u001b[39m, other):\n\u001b[0;32m--> 366\u001b[0m     \u001b[43mImpl\u001b[49m\u001b[38;5;241;43m.\u001b[39;49m\u001b[43mmultiply\u001b[49m\u001b[43m(\u001b[49m\u001b[38;5;28;43mself\u001b[39;49m\u001b[43m,\u001b[49m\u001b[43m \u001b[49m\u001b[43mother\u001b[49m\u001b[43m)\u001b[49m\n\u001b[1;32m    367\u001b[0m     \u001b[38;5;28;01mreturn\u001b[39;00m \u001b[38;5;28mself\u001b[39m\n",
      "File \u001b[0;32m~/uni/PySDM/PySDM/backends/impl_thrust_rtc/nice_thrust.py:12\u001b[0m, in \u001b[0;36mnice_thrust.<locals>.decorator.<locals>.wrapper\u001b[0;34m(*args, **kwargs)\u001b[0m\n\u001b[1;32m     10\u001b[0m \u001b[38;5;28;01mif\u001b[39;00m debug_print:\n\u001b[1;32m     11\u001b[0m     \u001b[38;5;28mprint\u001b[39m(func\u001b[38;5;241m.\u001b[39m\u001b[38;5;18m__name__\u001b[39m)\n\u001b[0;32m---> 12\u001b[0m result \u001b[38;5;241m=\u001b[39m \u001b[43mfunc\u001b[49m\u001b[43m(\u001b[49m\u001b[38;5;241;43m*\u001b[39;49m\u001b[43margs\u001b[49m\u001b[43m,\u001b[49m\u001b[43m \u001b[49m\u001b[38;5;241;43m*\u001b[39;49m\u001b[38;5;241;43m*\u001b[39;49m\u001b[43mkwargs\u001b[49m\u001b[43m)\u001b[49m\n\u001b[1;32m     13\u001b[0m \u001b[38;5;28;01mif\u001b[39;00m wait:\n\u001b[1;32m     14\u001b[0m     trtc\u001b[38;5;241m.\u001b[39mWait()\n",
      "File \u001b[0;32m~/uni/PySDM/PySDM/backends/impl_thrust_rtc/storage.py:146\u001b[0m, in \u001b[0;36mmake_storage_class.<locals>.Impl.multiply\u001b[0;34m(output, multiplier)\u001b[0m\n\u001b[1;32m    144\u001b[0m \u001b[38;5;28;01melse\u001b[39;00m:\n\u001b[1;32m    145\u001b[0m     loop \u001b[38;5;241m=\u001b[39m Impl\u001b[38;5;241m.\u001b[39m__multiply_body\n\u001b[0;32m--> 146\u001b[0m \u001b[43mloop\u001b[49m\u001b[38;5;241;43m.\u001b[39;49m\u001b[43mlaunch_n\u001b[49m\u001b[43m(\u001b[49m\u001b[43moutput\u001b[49m\u001b[38;5;241;43m.\u001b[39;49m\u001b[43mshape\u001b[49m\u001b[43m[\u001b[49m\u001b[38;5;241;43m0\u001b[39;49m\u001b[43m]\u001b[49m\u001b[43m,\u001b[49m\u001b[43m \u001b[49m\u001b[43mImpl\u001b[49m\u001b[38;5;241;43m.\u001b[39;49m\u001b[43mthrust\u001b[49m\u001b[43m(\u001b[49m\u001b[43m(\u001b[49m\u001b[43moutput\u001b[49m\u001b[43m,\u001b[49m\u001b[43m \u001b[49m\u001b[43mmultiplier\u001b[49m\u001b[43m)\u001b[49m\u001b[43m)\u001b[49m\u001b[43m)\u001b[49m\n",
      "File \u001b[0;32m~/uni/PySDM/PySDM/backends/impl_thrust_rtc/test_helpers/fake_thrust_rtc.py:98\u001b[0m, in \u001b[0;36mFakeThrustRTC.For.launch_n\u001b[0;34m(self, n, args)\u001b[0m\n\u001b[1;32m     96\u001b[0m     \u001b[38;5;28;01mraise\u001b[39;00m \u001b[38;5;167;01mSystemError\u001b[39;00m(\u001b[38;5;124m\"\u001b[39m\u001b[38;5;124mAn internal error happened :) (size==0).\u001b[39m\u001b[38;5;124m\"\u001b[39m)\n\u001b[1;32m     97\u001b[0m \u001b[38;5;28;01mtry\u001b[39;00m:\n\u001b[0;32m---> 98\u001b[0m     result \u001b[38;5;241m=\u001b[39m \u001b[38;5;28;43mself\u001b[39;49m\u001b[38;5;241;43m.\u001b[39;49m\u001b[43m__internal_python_method__\u001b[49m\u001b[43m(\u001b[49m\n\u001b[1;32m     99\u001b[0m \u001b[43m        \u001b[49m\u001b[43mn\u001b[49m\u001b[43m,\u001b[49m\u001b[43m \u001b[49m\u001b[38;5;241;43m*\u001b[39;49m\u001b[43m(\u001b[49m\u001b[43marg\u001b[49m\u001b[38;5;241;43m.\u001b[39;49m\u001b[43mndarray\u001b[49m\u001b[43m \u001b[49m\u001b[38;5;28;43;01mfor\u001b[39;49;00m\u001b[43m \u001b[49m\u001b[43marg\u001b[49m\u001b[43m \u001b[49m\u001b[38;5;129;43;01min\u001b[39;49;00m\u001b[43m \u001b[49m\u001b[43margs\u001b[49m\u001b[43m)\u001b[49m\n\u001b[1;32m    100\u001b[0m \u001b[43m    \u001b[49m\u001b[43m)\u001b[49m\n\u001b[1;32m    101\u001b[0m \u001b[38;5;28;01mexcept\u001b[39;00m (NumbaError, \u001b[38;5;167;01mIndexError\u001b[39;00m) \u001b[38;5;28;01mas\u001b[39;00m error:\n\u001b[1;32m    102\u001b[0m     warnings\u001b[38;5;241m.\u001b[39mwarn(\n\u001b[1;32m    103\u001b[0m         \u001b[38;5;124mf\u001b[39m\u001b[38;5;124m\"\u001b[39m\u001b[38;5;124mError occurred while JIT-compiling/executing: \u001b[39m\u001b[38;5;132;01m{\u001b[39;00m\u001b[38;5;28mself\u001b[39m\u001b[38;5;241m.\u001b[39mcode\u001b[38;5;132;01m}\u001b[39;00m\u001b[38;5;124m\"\u001b[39m\n\u001b[1;32m    104\u001b[0m     )\n",
      "File \u001b[0;32m~/uni/test_venv/PySDM-examples/lib/python3.10/site-packages/numba/core/dispatcher.py:420\u001b[0m, in \u001b[0;36m_DispatcherBase._compile_for_args\u001b[0;34m(self, *args, **kws)\u001b[0m\n\u001b[1;32m    418\u001b[0m return_val \u001b[38;5;241m=\u001b[39m \u001b[38;5;28;01mNone\u001b[39;00m\n\u001b[1;32m    419\u001b[0m \u001b[38;5;28;01mtry\u001b[39;00m:\n\u001b[0;32m--> 420\u001b[0m     return_val \u001b[38;5;241m=\u001b[39m \u001b[38;5;28;43mself\u001b[39;49m\u001b[38;5;241;43m.\u001b[39;49m\u001b[43mcompile\u001b[49m\u001b[43m(\u001b[49m\u001b[38;5;28;43mtuple\u001b[39;49m\u001b[43m(\u001b[49m\u001b[43margtypes\u001b[49m\u001b[43m)\u001b[49m\u001b[43m)\u001b[49m\n\u001b[1;32m    421\u001b[0m \u001b[38;5;28;01mexcept\u001b[39;00m errors\u001b[38;5;241m.\u001b[39mForceLiteralArg \u001b[38;5;28;01mas\u001b[39;00m e:\n\u001b[1;32m    422\u001b[0m     \u001b[38;5;66;03m# Received request for compiler re-entry with the list of arguments\u001b[39;00m\n\u001b[1;32m    423\u001b[0m     \u001b[38;5;66;03m# indicated by e.requested_args.\u001b[39;00m\n\u001b[1;32m    424\u001b[0m     \u001b[38;5;66;03m# First, check if any of these args are already Literal-ized\u001b[39;00m\n\u001b[1;32m    425\u001b[0m     already_lit_pos \u001b[38;5;241m=\u001b[39m [i \u001b[38;5;28;01mfor\u001b[39;00m i \u001b[38;5;129;01min\u001b[39;00m e\u001b[38;5;241m.\u001b[39mrequested_args\n\u001b[1;32m    426\u001b[0m                        \u001b[38;5;28;01mif\u001b[39;00m \u001b[38;5;28misinstance\u001b[39m(args[i], types\u001b[38;5;241m.\u001b[39mLiteral)]\n",
      "File \u001b[0;32m~/uni/test_venv/PySDM-examples/lib/python3.10/site-packages/numba/core/dispatcher.py:965\u001b[0m, in \u001b[0;36mDispatcher.compile\u001b[0;34m(self, sig)\u001b[0m\n\u001b[1;32m    963\u001b[0m \u001b[38;5;28;01mwith\u001b[39;00m ev\u001b[38;5;241m.\u001b[39mtrigger_event(\u001b[38;5;124m\"\u001b[39m\u001b[38;5;124mnumba:compile\u001b[39m\u001b[38;5;124m\"\u001b[39m, data\u001b[38;5;241m=\u001b[39mev_details):\n\u001b[1;32m    964\u001b[0m     \u001b[38;5;28;01mtry\u001b[39;00m:\n\u001b[0;32m--> 965\u001b[0m         cres \u001b[38;5;241m=\u001b[39m \u001b[38;5;28;43mself\u001b[39;49m\u001b[38;5;241;43m.\u001b[39;49m\u001b[43m_compiler\u001b[49m\u001b[38;5;241;43m.\u001b[39;49m\u001b[43mcompile\u001b[49m\u001b[43m(\u001b[49m\u001b[43margs\u001b[49m\u001b[43m,\u001b[49m\u001b[43m \u001b[49m\u001b[43mreturn_type\u001b[49m\u001b[43m)\u001b[49m\n\u001b[1;32m    966\u001b[0m     \u001b[38;5;28;01mexcept\u001b[39;00m errors\u001b[38;5;241m.\u001b[39mForceLiteralArg \u001b[38;5;28;01mas\u001b[39;00m e:\n\u001b[1;32m    967\u001b[0m         \u001b[38;5;28;01mdef\u001b[39;00m \u001b[38;5;21mfolded\u001b[39m(args, kws):\n",
      "File \u001b[0;32m~/uni/test_venv/PySDM-examples/lib/python3.10/site-packages/numba/core/dispatcher.py:125\u001b[0m, in \u001b[0;36m_FunctionCompiler.compile\u001b[0;34m(self, args, return_type)\u001b[0m\n\u001b[1;32m    124\u001b[0m \u001b[38;5;28;01mdef\u001b[39;00m \u001b[38;5;21mcompile\u001b[39m(\u001b[38;5;28mself\u001b[39m, args, return_type):\n\u001b[0;32m--> 125\u001b[0m     status, retval \u001b[38;5;241m=\u001b[39m \u001b[38;5;28;43mself\u001b[39;49m\u001b[38;5;241;43m.\u001b[39;49m\u001b[43m_compile_cached\u001b[49m\u001b[43m(\u001b[49m\u001b[43margs\u001b[49m\u001b[43m,\u001b[49m\u001b[43m \u001b[49m\u001b[43mreturn_type\u001b[49m\u001b[43m)\u001b[49m\n\u001b[1;32m    126\u001b[0m     \u001b[38;5;28;01mif\u001b[39;00m status:\n\u001b[1;32m    127\u001b[0m         \u001b[38;5;28;01mreturn\u001b[39;00m retval\n",
      "File \u001b[0;32m~/uni/test_venv/PySDM-examples/lib/python3.10/site-packages/numba/core/dispatcher.py:139\u001b[0m, in \u001b[0;36m_FunctionCompiler._compile_cached\u001b[0;34m(self, args, return_type)\u001b[0m\n\u001b[1;32m    136\u001b[0m     \u001b[38;5;28;01mpass\u001b[39;00m\n\u001b[1;32m    138\u001b[0m \u001b[38;5;28;01mtry\u001b[39;00m:\n\u001b[0;32m--> 139\u001b[0m     retval \u001b[38;5;241m=\u001b[39m \u001b[38;5;28;43mself\u001b[39;49m\u001b[38;5;241;43m.\u001b[39;49m\u001b[43m_compile_core\u001b[49m\u001b[43m(\u001b[49m\u001b[43margs\u001b[49m\u001b[43m,\u001b[49m\u001b[43m \u001b[49m\u001b[43mreturn_type\u001b[49m\u001b[43m)\u001b[49m\n\u001b[1;32m    140\u001b[0m \u001b[38;5;28;01mexcept\u001b[39;00m errors\u001b[38;5;241m.\u001b[39mTypingError \u001b[38;5;28;01mas\u001b[39;00m e:\n\u001b[1;32m    141\u001b[0m     \u001b[38;5;28mself\u001b[39m\u001b[38;5;241m.\u001b[39m_failed_cache[key] \u001b[38;5;241m=\u001b[39m e\n",
      "File \u001b[0;32m~/uni/test_venv/PySDM-examples/lib/python3.10/site-packages/numba/core/dispatcher.py:152\u001b[0m, in \u001b[0;36m_FunctionCompiler._compile_core\u001b[0;34m(self, args, return_type)\u001b[0m\n\u001b[1;32m    149\u001b[0m flags \u001b[38;5;241m=\u001b[39m \u001b[38;5;28mself\u001b[39m\u001b[38;5;241m.\u001b[39m_customize_flags(flags)\n\u001b[1;32m    151\u001b[0m impl \u001b[38;5;241m=\u001b[39m \u001b[38;5;28mself\u001b[39m\u001b[38;5;241m.\u001b[39m_get_implementation(args, {})\n\u001b[0;32m--> 152\u001b[0m cres \u001b[38;5;241m=\u001b[39m \u001b[43mcompiler\u001b[49m\u001b[38;5;241;43m.\u001b[39;49m\u001b[43mcompile_extra\u001b[49m\u001b[43m(\u001b[49m\u001b[38;5;28;43mself\u001b[39;49m\u001b[38;5;241;43m.\u001b[39;49m\u001b[43mtargetdescr\u001b[49m\u001b[38;5;241;43m.\u001b[39;49m\u001b[43mtyping_context\u001b[49m\u001b[43m,\u001b[49m\n\u001b[1;32m    153\u001b[0m \u001b[43m                              \u001b[49m\u001b[38;5;28;43mself\u001b[39;49m\u001b[38;5;241;43m.\u001b[39;49m\u001b[43mtargetdescr\u001b[49m\u001b[38;5;241;43m.\u001b[39;49m\u001b[43mtarget_context\u001b[49m\u001b[43m,\u001b[49m\n\u001b[1;32m    154\u001b[0m \u001b[43m                              \u001b[49m\u001b[43mimpl\u001b[49m\u001b[43m,\u001b[49m\n\u001b[1;32m    155\u001b[0m \u001b[43m                              \u001b[49m\u001b[43margs\u001b[49m\u001b[38;5;241;43m=\u001b[39;49m\u001b[43margs\u001b[49m\u001b[43m,\u001b[49m\u001b[43m \u001b[49m\u001b[43mreturn_type\u001b[49m\u001b[38;5;241;43m=\u001b[39;49m\u001b[43mreturn_type\u001b[49m\u001b[43m,\u001b[49m\n\u001b[1;32m    156\u001b[0m \u001b[43m                              \u001b[49m\u001b[43mflags\u001b[49m\u001b[38;5;241;43m=\u001b[39;49m\u001b[43mflags\u001b[49m\u001b[43m,\u001b[49m\u001b[43m \u001b[49m\u001b[38;5;28;43mlocals\u001b[39;49m\u001b[38;5;241;43m=\u001b[39;49m\u001b[38;5;28;43mself\u001b[39;49m\u001b[38;5;241;43m.\u001b[39;49m\u001b[43mlocals\u001b[49m\u001b[43m,\u001b[49m\n\u001b[1;32m    157\u001b[0m \u001b[43m                              \u001b[49m\u001b[43mpipeline_class\u001b[49m\u001b[38;5;241;43m=\u001b[39;49m\u001b[38;5;28;43mself\u001b[39;49m\u001b[38;5;241;43m.\u001b[39;49m\u001b[43mpipeline_class\u001b[49m\u001b[43m)\u001b[49m\n\u001b[1;32m    158\u001b[0m \u001b[38;5;66;03m# Check typing error if object mode is used\u001b[39;00m\n\u001b[1;32m    159\u001b[0m \u001b[38;5;28;01mif\u001b[39;00m cres\u001b[38;5;241m.\u001b[39mtyping_error \u001b[38;5;129;01mis\u001b[39;00m \u001b[38;5;129;01mnot\u001b[39;00m \u001b[38;5;28;01mNone\u001b[39;00m \u001b[38;5;129;01mand\u001b[39;00m \u001b[38;5;129;01mnot\u001b[39;00m flags\u001b[38;5;241m.\u001b[39menable_pyobject:\n",
      "File \u001b[0;32m~/uni/test_venv/PySDM-examples/lib/python3.10/site-packages/numba/core/compiler.py:716\u001b[0m, in \u001b[0;36mcompile_extra\u001b[0;34m(typingctx, targetctx, func, args, return_type, flags, locals, library, pipeline_class)\u001b[0m\n\u001b[1;32m    692\u001b[0m \u001b[38;5;124;03m\"\"\"Compiler entry point\u001b[39;00m\n\u001b[1;32m    693\u001b[0m \n\u001b[1;32m    694\u001b[0m \u001b[38;5;124;03mParameter\u001b[39;00m\n\u001b[0;32m   (...)\u001b[0m\n\u001b[1;32m    712\u001b[0m \u001b[38;5;124;03m    compiler pipeline\u001b[39;00m\n\u001b[1;32m    713\u001b[0m \u001b[38;5;124;03m\"\"\"\u001b[39;00m\n\u001b[1;32m    714\u001b[0m pipeline \u001b[38;5;241m=\u001b[39m pipeline_class(typingctx, targetctx, library,\n\u001b[1;32m    715\u001b[0m                           args, return_type, flags, \u001b[38;5;28mlocals\u001b[39m)\n\u001b[0;32m--> 716\u001b[0m \u001b[38;5;28;01mreturn\u001b[39;00m \u001b[43mpipeline\u001b[49m\u001b[38;5;241;43m.\u001b[39;49m\u001b[43mcompile_extra\u001b[49m\u001b[43m(\u001b[49m\u001b[43mfunc\u001b[49m\u001b[43m)\u001b[49m\n",
      "File \u001b[0;32m~/uni/test_venv/PySDM-examples/lib/python3.10/site-packages/numba/core/compiler.py:452\u001b[0m, in \u001b[0;36mCompilerBase.compile_extra\u001b[0;34m(self, func)\u001b[0m\n\u001b[1;32m    450\u001b[0m \u001b[38;5;28mself\u001b[39m\u001b[38;5;241m.\u001b[39mstate\u001b[38;5;241m.\u001b[39mlifted \u001b[38;5;241m=\u001b[39m ()\n\u001b[1;32m    451\u001b[0m \u001b[38;5;28mself\u001b[39m\u001b[38;5;241m.\u001b[39mstate\u001b[38;5;241m.\u001b[39mlifted_from \u001b[38;5;241m=\u001b[39m \u001b[38;5;28;01mNone\u001b[39;00m\n\u001b[0;32m--> 452\u001b[0m \u001b[38;5;28;01mreturn\u001b[39;00m \u001b[38;5;28;43mself\u001b[39;49m\u001b[38;5;241;43m.\u001b[39;49m\u001b[43m_compile_bytecode\u001b[49m\u001b[43m(\u001b[49m\u001b[43m)\u001b[49m\n",
      "File \u001b[0;32m~/uni/test_venv/PySDM-examples/lib/python3.10/site-packages/numba/core/compiler.py:520\u001b[0m, in \u001b[0;36mCompilerBase._compile_bytecode\u001b[0;34m(self)\u001b[0m\n\u001b[1;32m    516\u001b[0m \u001b[38;5;124;03m\"\"\"\u001b[39;00m\n\u001b[1;32m    517\u001b[0m \u001b[38;5;124;03mPopulate and run pipeline for bytecode input\u001b[39;00m\n\u001b[1;32m    518\u001b[0m \u001b[38;5;124;03m\"\"\"\u001b[39;00m\n\u001b[1;32m    519\u001b[0m \u001b[38;5;28;01massert\u001b[39;00m \u001b[38;5;28mself\u001b[39m\u001b[38;5;241m.\u001b[39mstate\u001b[38;5;241m.\u001b[39mfunc_ir \u001b[38;5;129;01mis\u001b[39;00m \u001b[38;5;28;01mNone\u001b[39;00m\n\u001b[0;32m--> 520\u001b[0m \u001b[38;5;28;01mreturn\u001b[39;00m \u001b[38;5;28;43mself\u001b[39;49m\u001b[38;5;241;43m.\u001b[39;49m\u001b[43m_compile_core\u001b[49m\u001b[43m(\u001b[49m\u001b[43m)\u001b[49m\n",
      "File \u001b[0;32m~/uni/test_venv/PySDM-examples/lib/python3.10/site-packages/numba/core/compiler.py:486\u001b[0m, in \u001b[0;36mCompilerBase._compile_core\u001b[0;34m(self)\u001b[0m\n\u001b[1;32m    484\u001b[0m res \u001b[38;5;241m=\u001b[39m \u001b[38;5;28;01mNone\u001b[39;00m\n\u001b[1;32m    485\u001b[0m \u001b[38;5;28;01mtry\u001b[39;00m:\n\u001b[0;32m--> 486\u001b[0m     \u001b[43mpm\u001b[49m\u001b[38;5;241;43m.\u001b[39;49m\u001b[43mrun\u001b[49m\u001b[43m(\u001b[49m\u001b[38;5;28;43mself\u001b[39;49m\u001b[38;5;241;43m.\u001b[39;49m\u001b[43mstate\u001b[49m\u001b[43m)\u001b[49m\n\u001b[1;32m    487\u001b[0m     \u001b[38;5;28;01mif\u001b[39;00m \u001b[38;5;28mself\u001b[39m\u001b[38;5;241m.\u001b[39mstate\u001b[38;5;241m.\u001b[39mcr \u001b[38;5;129;01mis\u001b[39;00m \u001b[38;5;129;01mnot\u001b[39;00m \u001b[38;5;28;01mNone\u001b[39;00m:\n\u001b[1;32m    488\u001b[0m         \u001b[38;5;28;01mbreak\u001b[39;00m\n",
      "File \u001b[0;32m~/uni/test_venv/PySDM-examples/lib/python3.10/site-packages/numba/core/compiler_machinery.py:356\u001b[0m, in \u001b[0;36mPassManager.run\u001b[0;34m(self, state)\u001b[0m\n\u001b[1;32m    354\u001b[0m pass_inst \u001b[38;5;241m=\u001b[39m _pass_registry\u001b[38;5;241m.\u001b[39mget(pss)\u001b[38;5;241m.\u001b[39mpass_inst\n\u001b[1;32m    355\u001b[0m \u001b[38;5;28;01mif\u001b[39;00m \u001b[38;5;28misinstance\u001b[39m(pass_inst, CompilerPass):\n\u001b[0;32m--> 356\u001b[0m     \u001b[38;5;28;43mself\u001b[39;49m\u001b[38;5;241;43m.\u001b[39;49m\u001b[43m_runPass\u001b[49m\u001b[43m(\u001b[49m\u001b[43midx\u001b[49m\u001b[43m,\u001b[49m\u001b[43m \u001b[49m\u001b[43mpass_inst\u001b[49m\u001b[43m,\u001b[49m\u001b[43m \u001b[49m\u001b[43mstate\u001b[49m\u001b[43m)\u001b[49m\n\u001b[1;32m    357\u001b[0m \u001b[38;5;28;01melse\u001b[39;00m:\n\u001b[1;32m    358\u001b[0m     \u001b[38;5;28;01mraise\u001b[39;00m \u001b[38;5;167;01mBaseException\u001b[39;00m(\u001b[38;5;124m\"\u001b[39m\u001b[38;5;124mLegacy pass in use\u001b[39m\u001b[38;5;124m\"\u001b[39m)\n",
      "File \u001b[0;32m~/uni/test_venv/PySDM-examples/lib/python3.10/site-packages/numba/core/compiler_lock.py:35\u001b[0m, in \u001b[0;36m_CompilerLock.__call__.<locals>._acquire_compile_lock\u001b[0;34m(*args, **kwargs)\u001b[0m\n\u001b[1;32m     32\u001b[0m \u001b[38;5;129m@functools\u001b[39m\u001b[38;5;241m.\u001b[39mwraps(func)\n\u001b[1;32m     33\u001b[0m \u001b[38;5;28;01mdef\u001b[39;00m \u001b[38;5;21m_acquire_compile_lock\u001b[39m(\u001b[38;5;241m*\u001b[39margs, \u001b[38;5;241m*\u001b[39m\u001b[38;5;241m*\u001b[39mkwargs):\n\u001b[1;32m     34\u001b[0m     \u001b[38;5;28;01mwith\u001b[39;00m \u001b[38;5;28mself\u001b[39m:\n\u001b[0;32m---> 35\u001b[0m         \u001b[38;5;28;01mreturn\u001b[39;00m \u001b[43mfunc\u001b[49m\u001b[43m(\u001b[49m\u001b[38;5;241;43m*\u001b[39;49m\u001b[43margs\u001b[49m\u001b[43m,\u001b[49m\u001b[43m \u001b[49m\u001b[38;5;241;43m*\u001b[39;49m\u001b[38;5;241;43m*\u001b[39;49m\u001b[43mkwargs\u001b[49m\u001b[43m)\u001b[49m\n",
      "File \u001b[0;32m~/uni/test_venv/PySDM-examples/lib/python3.10/site-packages/numba/core/compiler_machinery.py:311\u001b[0m, in \u001b[0;36mPassManager._runPass\u001b[0;34m(self, index, pss, internal_state)\u001b[0m\n\u001b[1;32m    309\u001b[0m     mutated \u001b[38;5;241m|\u001b[39m\u001b[38;5;241m=\u001b[39m check(pss\u001b[38;5;241m.\u001b[39mrun_initialization, internal_state)\n\u001b[1;32m    310\u001b[0m \u001b[38;5;28;01mwith\u001b[39;00m SimpleTimer() \u001b[38;5;28;01mas\u001b[39;00m pass_time:\n\u001b[0;32m--> 311\u001b[0m     mutated \u001b[38;5;241m|\u001b[39m\u001b[38;5;241m=\u001b[39m \u001b[43mcheck\u001b[49m\u001b[43m(\u001b[49m\u001b[43mpss\u001b[49m\u001b[38;5;241;43m.\u001b[39;49m\u001b[43mrun_pass\u001b[49m\u001b[43m,\u001b[49m\u001b[43m \u001b[49m\u001b[43minternal_state\u001b[49m\u001b[43m)\u001b[49m\n\u001b[1;32m    312\u001b[0m \u001b[38;5;28;01mwith\u001b[39;00m SimpleTimer() \u001b[38;5;28;01mas\u001b[39;00m finalize_time:\n\u001b[1;32m    313\u001b[0m     mutated \u001b[38;5;241m|\u001b[39m\u001b[38;5;241m=\u001b[39m check(pss\u001b[38;5;241m.\u001b[39mrun_finalizer, internal_state)\n",
      "File \u001b[0;32m~/uni/test_venv/PySDM-examples/lib/python3.10/site-packages/numba/core/compiler_machinery.py:273\u001b[0m, in \u001b[0;36mPassManager._runPass.<locals>.check\u001b[0;34m(func, compiler_state)\u001b[0m\n\u001b[1;32m    272\u001b[0m \u001b[38;5;28;01mdef\u001b[39;00m \u001b[38;5;21mcheck\u001b[39m(func, compiler_state):\n\u001b[0;32m--> 273\u001b[0m     mangled \u001b[38;5;241m=\u001b[39m \u001b[43mfunc\u001b[49m\u001b[43m(\u001b[49m\u001b[43mcompiler_state\u001b[49m\u001b[43m)\u001b[49m\n\u001b[1;32m    274\u001b[0m     \u001b[38;5;28;01mif\u001b[39;00m mangled \u001b[38;5;129;01mnot\u001b[39;00m \u001b[38;5;129;01min\u001b[39;00m (\u001b[38;5;28;01mTrue\u001b[39;00m, \u001b[38;5;28;01mFalse\u001b[39;00m):\n\u001b[1;32m    275\u001b[0m         msg \u001b[38;5;241m=\u001b[39m (\u001b[38;5;124m\"\u001b[39m\u001b[38;5;124mCompilerPass implementations should return True/False. \u001b[39m\u001b[38;5;124m\"\u001b[39m\n\u001b[1;32m    276\u001b[0m                \u001b[38;5;124m\"\u001b[39m\u001b[38;5;124mCompilerPass with name \u001b[39m\u001b[38;5;124m'\u001b[39m\u001b[38;5;132;01m%s\u001b[39;00m\u001b[38;5;124m'\u001b[39m\u001b[38;5;124m did not.\u001b[39m\u001b[38;5;124m\"\u001b[39m)\n",
      "File \u001b[0;32m~/uni/test_venv/PySDM-examples/lib/python3.10/site-packages/numba/core/typed_passes.py:394\u001b[0m, in \u001b[0;36mNativeLowering.run_pass\u001b[0;34m(self, state)\u001b[0m\n\u001b[1;32m    391\u001b[0m \u001b[38;5;28;01mwith\u001b[39;00m targetctx\u001b[38;5;241m.\u001b[39mpush_code_library(library):\n\u001b[1;32m    392\u001b[0m     lower \u001b[38;5;241m=\u001b[39m lowering\u001b[38;5;241m.\u001b[39mLower(targetctx, library, fndesc, interp,\n\u001b[1;32m    393\u001b[0m                            metadata\u001b[38;5;241m=\u001b[39mmetadata)\n\u001b[0;32m--> 394\u001b[0m     \u001b[43mlower\u001b[49m\u001b[38;5;241;43m.\u001b[39;49m\u001b[43mlower\u001b[49m\u001b[43m(\u001b[49m\u001b[43m)\u001b[49m\n\u001b[1;32m    395\u001b[0m     \u001b[38;5;28;01mif\u001b[39;00m \u001b[38;5;129;01mnot\u001b[39;00m flags\u001b[38;5;241m.\u001b[39mno_cpython_wrapper:\n\u001b[1;32m    396\u001b[0m         lower\u001b[38;5;241m.\u001b[39mcreate_cpython_wrapper(flags\u001b[38;5;241m.\u001b[39mrelease_gil)\n",
      "File \u001b[0;32m~/uni/test_venv/PySDM-examples/lib/python3.10/site-packages/numba/core/lowering.py:168\u001b[0m, in \u001b[0;36mBaseLower.lower\u001b[0;34m(self)\u001b[0m\n\u001b[1;32m    166\u001b[0m \u001b[38;5;28;01mif\u001b[39;00m \u001b[38;5;28mself\u001b[39m\u001b[38;5;241m.\u001b[39mgenerator_info \u001b[38;5;129;01mis\u001b[39;00m \u001b[38;5;28;01mNone\u001b[39;00m:\n\u001b[1;32m    167\u001b[0m     \u001b[38;5;28mself\u001b[39m\u001b[38;5;241m.\u001b[39mgenlower \u001b[38;5;241m=\u001b[39m \u001b[38;5;28;01mNone\u001b[39;00m\n\u001b[0;32m--> 168\u001b[0m     \u001b[38;5;28;43mself\u001b[39;49m\u001b[38;5;241;43m.\u001b[39;49m\u001b[43mlower_normal_function\u001b[49m\u001b[43m(\u001b[49m\u001b[38;5;28;43mself\u001b[39;49m\u001b[38;5;241;43m.\u001b[39;49m\u001b[43mfndesc\u001b[49m\u001b[43m)\u001b[49m\n\u001b[1;32m    169\u001b[0m \u001b[38;5;28;01melse\u001b[39;00m:\n\u001b[1;32m    170\u001b[0m     \u001b[38;5;28mself\u001b[39m\u001b[38;5;241m.\u001b[39mgenlower \u001b[38;5;241m=\u001b[39m \u001b[38;5;28mself\u001b[39m\u001b[38;5;241m.\u001b[39mGeneratorLower(\u001b[38;5;28mself\u001b[39m)\n",
      "File \u001b[0;32m~/uni/test_venv/PySDM-examples/lib/python3.10/site-packages/numba/core/lowering.py:222\u001b[0m, in \u001b[0;36mBaseLower.lower_normal_function\u001b[0;34m(self, fndesc)\u001b[0m\n\u001b[1;32m    220\u001b[0m \u001b[38;5;66;03m# Init argument values\u001b[39;00m\n\u001b[1;32m    221\u001b[0m \u001b[38;5;28mself\u001b[39m\u001b[38;5;241m.\u001b[39mextract_function_arguments()\n\u001b[0;32m--> 222\u001b[0m entry_block_tail \u001b[38;5;241m=\u001b[39m \u001b[38;5;28;43mself\u001b[39;49m\u001b[38;5;241;43m.\u001b[39;49m\u001b[43mlower_function_body\u001b[49m\u001b[43m(\u001b[49m\u001b[43m)\u001b[49m\n\u001b[1;32m    224\u001b[0m \u001b[38;5;66;03m# Close tail of entry block, do not emit debug metadata else the\u001b[39;00m\n\u001b[1;32m    225\u001b[0m \u001b[38;5;66;03m# unconditional jump gets associated with the metadata from the function\u001b[39;00m\n\u001b[1;32m    226\u001b[0m \u001b[38;5;66;03m# body end.\u001b[39;00m\n\u001b[1;32m    227\u001b[0m \u001b[38;5;28;01mwith\u001b[39;00m debuginfo\u001b[38;5;241m.\u001b[39msuspend_emission(\u001b[38;5;28mself\u001b[39m\u001b[38;5;241m.\u001b[39mbuilder):\n",
      "File \u001b[0;32m~/uni/test_venv/PySDM-examples/lib/python3.10/site-packages/numba/core/lowering.py:251\u001b[0m, in \u001b[0;36mBaseLower.lower_function_body\u001b[0;34m(self)\u001b[0m\n\u001b[1;32m    249\u001b[0m     bb \u001b[38;5;241m=\u001b[39m \u001b[38;5;28mself\u001b[39m\u001b[38;5;241m.\u001b[39mblkmap[offset]\n\u001b[1;32m    250\u001b[0m     \u001b[38;5;28mself\u001b[39m\u001b[38;5;241m.\u001b[39mbuilder\u001b[38;5;241m.\u001b[39mposition_at_end(bb)\n\u001b[0;32m--> 251\u001b[0m     \u001b[38;5;28;43mself\u001b[39;49m\u001b[38;5;241;43m.\u001b[39;49m\u001b[43mlower_block\u001b[49m\u001b[43m(\u001b[49m\u001b[43mblock\u001b[49m\u001b[43m)\u001b[49m\n\u001b[1;32m    252\u001b[0m \u001b[38;5;28mself\u001b[39m\u001b[38;5;241m.\u001b[39mpost_lower()\n\u001b[1;32m    253\u001b[0m \u001b[38;5;28;01mreturn\u001b[39;00m entry_block_tail\n",
      "File \u001b[0;32m~/uni/test_venv/PySDM-examples/lib/python3.10/site-packages/numba/core/lowering.py:265\u001b[0m, in \u001b[0;36mBaseLower.lower_block\u001b[0;34m(self, block)\u001b[0m\n\u001b[1;32m    262\u001b[0m     defaulterrcls \u001b[38;5;241m=\u001b[39m partial(LoweringError, loc\u001b[38;5;241m=\u001b[39m\u001b[38;5;28mself\u001b[39m\u001b[38;5;241m.\u001b[39mloc)\n\u001b[1;32m    263\u001b[0m     \u001b[38;5;28;01mwith\u001b[39;00m new_error_context(\u001b[38;5;124m'\u001b[39m\u001b[38;5;124mlowering \u001b[39m\u001b[38;5;124m\"\u001b[39m\u001b[38;5;132;01m{inst}\u001b[39;00m\u001b[38;5;124m\"\u001b[39m\u001b[38;5;124m at \u001b[39m\u001b[38;5;132;01m{loc}\u001b[39;00m\u001b[38;5;124m'\u001b[39m, inst\u001b[38;5;241m=\u001b[39minst,\n\u001b[1;32m    264\u001b[0m                            loc\u001b[38;5;241m=\u001b[39m\u001b[38;5;28mself\u001b[39m\u001b[38;5;241m.\u001b[39mloc, errcls_\u001b[38;5;241m=\u001b[39mdefaulterrcls):\n\u001b[0;32m--> 265\u001b[0m         \u001b[38;5;28;43mself\u001b[39;49m\u001b[38;5;241;43m.\u001b[39;49m\u001b[43mlower_inst\u001b[49m\u001b[43m(\u001b[49m\u001b[43minst\u001b[49m\u001b[43m)\u001b[49m\n\u001b[1;32m    266\u001b[0m \u001b[38;5;28mself\u001b[39m\u001b[38;5;241m.\u001b[39mpost_block(block)\n",
      "File \u001b[0;32m~/uni/test_venv/PySDM-examples/lib/python3.10/site-packages/numba/core/lowering.py:567\u001b[0m, in \u001b[0;36mLower.lower_inst\u001b[0;34m(self, inst)\u001b[0m\n\u001b[1;32m    565\u001b[0m     \u001b[38;5;28;01mfor\u001b[39;00m _class, func \u001b[38;5;129;01min\u001b[39;00m \u001b[38;5;28mself\u001b[39m\u001b[38;5;241m.\u001b[39mcontext\u001b[38;5;241m.\u001b[39mlower_extensions\u001b[38;5;241m.\u001b[39mitems():\n\u001b[1;32m    566\u001b[0m         \u001b[38;5;28;01mif\u001b[39;00m \u001b[38;5;28misinstance\u001b[39m(inst, _class):\n\u001b[0;32m--> 567\u001b[0m             \u001b[43mfunc\u001b[49m\u001b[43m(\u001b[49m\u001b[38;5;28;43mself\u001b[39;49m\u001b[43m,\u001b[49m\u001b[43m \u001b[49m\u001b[43minst\u001b[49m\u001b[43m)\u001b[49m\n\u001b[1;32m    568\u001b[0m             \u001b[38;5;28;01mreturn\u001b[39;00m\n\u001b[1;32m    569\u001b[0m \u001b[38;5;28;01mraise\u001b[39;00m \u001b[38;5;167;01mNotImplementedError\u001b[39;00m(\u001b[38;5;28mtype\u001b[39m(inst))\n",
      "File \u001b[0;32m~/uni/test_venv/PySDM-examples/lib/python3.10/site-packages/numba/parfors/parfor_lowering.py:348\u001b[0m, in \u001b[0;36m_lower_parfor_parallel\u001b[0;34m(lowerer, parfor)\u001b[0m\n\u001b[1;32m    346\u001b[0m     \u001b[38;5;28mprint\u001b[39m(\u001b[38;5;124m\"\u001b[39m\u001b[38;5;124mloop_nests = \u001b[39m\u001b[38;5;124m\"\u001b[39m, parfor\u001b[38;5;241m.\u001b[39mloop_nests)\n\u001b[1;32m    347\u001b[0m     \u001b[38;5;28mprint\u001b[39m(\u001b[38;5;124m\"\u001b[39m\u001b[38;5;124mloop_ranges = \u001b[39m\u001b[38;5;124m\"\u001b[39m, loop_ranges)\n\u001b[0;32m--> 348\u001b[0m \u001b[43mcall_parallel_gufunc\u001b[49m\u001b[43m(\u001b[49m\n\u001b[1;32m    349\u001b[0m \u001b[43m    \u001b[49m\u001b[43mlowerer\u001b[49m\u001b[43m,\u001b[49m\n\u001b[1;32m    350\u001b[0m \u001b[43m    \u001b[49m\u001b[43mfunc\u001b[49m\u001b[43m,\u001b[49m\n\u001b[1;32m    351\u001b[0m \u001b[43m    \u001b[49m\u001b[43mgu_signature\u001b[49m\u001b[43m,\u001b[49m\n\u001b[1;32m    352\u001b[0m \u001b[43m    \u001b[49m\u001b[43mfunc_sig\u001b[49m\u001b[43m,\u001b[49m\n\u001b[1;32m    353\u001b[0m \u001b[43m    \u001b[49m\u001b[43mfunc_args\u001b[49m\u001b[43m,\u001b[49m\n\u001b[1;32m    354\u001b[0m \u001b[43m    \u001b[49m\u001b[43mfunc_arg_types\u001b[49m\u001b[43m,\u001b[49m\n\u001b[1;32m    355\u001b[0m \u001b[43m    \u001b[49m\u001b[43mloop_ranges\u001b[49m\u001b[43m,\u001b[49m\n\u001b[1;32m    356\u001b[0m \u001b[43m    \u001b[49m\u001b[43mparfor_redvars\u001b[49m\u001b[43m,\u001b[49m\n\u001b[1;32m    357\u001b[0m \u001b[43m    \u001b[49m\u001b[43mparfor_reddict\u001b[49m\u001b[43m,\u001b[49m\n\u001b[1;32m    358\u001b[0m \u001b[43m    \u001b[49m\u001b[43mredarrs\u001b[49m\u001b[43m,\u001b[49m\n\u001b[1;32m    359\u001b[0m \u001b[43m    \u001b[49m\u001b[43mparfor\u001b[49m\u001b[38;5;241;43m.\u001b[39;49m\u001b[43minit_block\u001b[49m\u001b[43m,\u001b[49m\n\u001b[1;32m    360\u001b[0m \u001b[43m    \u001b[49m\u001b[43mindex_var_typ\u001b[49m\u001b[43m,\u001b[49m\n\u001b[1;32m    361\u001b[0m \u001b[43m    \u001b[49m\u001b[43mparfor\u001b[49m\u001b[38;5;241;43m.\u001b[39;49m\u001b[43mraces\u001b[49m\u001b[43m,\u001b[49m\n\u001b[1;32m    362\u001b[0m \u001b[43m    \u001b[49m\u001b[43mexp_name_to_tuple_var\u001b[49m\u001b[43m)\u001b[49m\n\u001b[1;32m    364\u001b[0m \u001b[38;5;28;01mif\u001b[39;00m nredvars \u001b[38;5;241m>\u001b[39m \u001b[38;5;241m0\u001b[39m:\n\u001b[1;32m    365\u001b[0m     _parfor_lowering_finalize_reduction(\n\u001b[1;32m    366\u001b[0m         parfor, redarrs, lowerer, parfor_reddict, num_threads_var,\n\u001b[1;32m    367\u001b[0m     )\n",
      "File \u001b[0;32m~/uni/test_venv/PySDM-examples/lib/python3.10/site-packages/numba/parfors/parfor_lowering.py:1591\u001b[0m, in \u001b[0;36mcall_parallel_gufunc\u001b[0;34m(lowerer, cres, gu_signature, outer_sig, expr_args, expr_arg_types, loop_ranges, redvars, reddict, redarrdict, init_block, index_var_typ, races, exp_name_to_tuple_var)\u001b[0m\n\u001b[1;32m   1588\u001b[0m \u001b[38;5;66;03m# These are necessary for build_gufunc_wrapper to find external symbols\u001b[39;00m\n\u001b[1;32m   1589\u001b[0m _launch_threads()\n\u001b[0;32m-> 1591\u001b[0m info \u001b[38;5;241m=\u001b[39m \u001b[43mbuild_gufunc_wrapper\u001b[49m\u001b[43m(\u001b[49m\u001b[43mllvm_func\u001b[49m\u001b[43m,\u001b[49m\u001b[43m \u001b[49m\u001b[43mcres\u001b[49m\u001b[43m,\u001b[49m\u001b[43m \u001b[49m\u001b[43msin\u001b[49m\u001b[43m,\u001b[49m\u001b[43m \u001b[49m\u001b[43msout\u001b[49m\u001b[43m,\u001b[49m\n\u001b[1;32m   1592\u001b[0m \u001b[43m                            \u001b[49m\u001b[43mcache\u001b[49m\u001b[38;5;241;43m=\u001b[39;49m\u001b[38;5;28;43;01mFalse\u001b[39;49;00m\u001b[43m,\u001b[49m\u001b[43m \u001b[49m\u001b[43mis_parfors\u001b[49m\u001b[38;5;241;43m=\u001b[39;49m\u001b[38;5;28;43;01mTrue\u001b[39;49;00m\u001b[43m)\u001b[49m\n\u001b[1;32m   1593\u001b[0m wrapper_name \u001b[38;5;241m=\u001b[39m info\u001b[38;5;241m.\u001b[39mname\n\u001b[1;32m   1594\u001b[0m cres\u001b[38;5;241m.\u001b[39mlibrary\u001b[38;5;241m.\u001b[39m_ensure_finalized()\n",
      "File \u001b[0;32m~/uni/test_venv/PySDM-examples/lib/python3.10/site-packages/numba/np/ufunc/parallel.py:270\u001b[0m, in \u001b[0;36mbuild_gufunc_wrapper\u001b[0;34m(py_func, cres, sin, sout, cache, is_parfors)\u001b[0m\n\u001b[1;32m    267\u001b[0m sym_out \u001b[38;5;241m=\u001b[39m \u001b[38;5;28mset\u001b[39m(sym \u001b[38;5;28;01mfor\u001b[39;00m term \u001b[38;5;129;01min\u001b[39;00m sout \u001b[38;5;28;01mfor\u001b[39;00m sym \u001b[38;5;129;01min\u001b[39;00m term)\n\u001b[1;32m    268\u001b[0m inner_ndim \u001b[38;5;241m=\u001b[39m \u001b[38;5;28mlen\u001b[39m(sym_in \u001b[38;5;241m|\u001b[39m sym_out)\n\u001b[0;32m--> 270\u001b[0m info \u001b[38;5;241m=\u001b[39m \u001b[43mbuild_gufunc_kernel\u001b[49m\u001b[43m(\u001b[49m\n\u001b[1;32m    271\u001b[0m \u001b[43m    \u001b[49m\u001b[43mlibrary\u001b[49m\u001b[43m,\u001b[49m\u001b[43m \u001b[49m\u001b[43mctx\u001b[49m\u001b[43m,\u001b[49m\u001b[43m \u001b[49m\u001b[43minnerinfo\u001b[49m\u001b[43m,\u001b[49m\u001b[43m \u001b[49m\u001b[43msignature\u001b[49m\u001b[43m,\u001b[49m\u001b[43m \u001b[49m\u001b[43minner_ndim\u001b[49m\u001b[43m,\u001b[49m\n\u001b[1;32m    272\u001b[0m \u001b[43m\u001b[49m\u001b[43m)\u001b[49m\n\u001b[1;32m    273\u001b[0m \u001b[38;5;28;01mreturn\u001b[39;00m info\n",
      "File \u001b[0;32m~/uni/test_venv/PySDM-examples/lib/python3.10/site-packages/numba/np/ufunc/parallel.py:152\u001b[0m, in \u001b[0;36mbuild_gufunc_kernel\u001b[0;34m(library, ctx, info, sig, inner_ndim)\u001b[0m\n\u001b[1;32m    146\u001b[0m innerfunc_fnty \u001b[38;5;241m=\u001b[39m ir\u001b[38;5;241m.\u001b[39mFunctionType(\n\u001b[1;32m    147\u001b[0m     ir\u001b[38;5;241m.\u001b[39mVoidType(),\n\u001b[1;32m    148\u001b[0m     [byte_ptr_ptr_t, intp_ptr_t, intp_ptr_t, byte_ptr_t],\n\u001b[1;32m    149\u001b[0m )\n\u001b[1;32m    150\u001b[0m tmp_voidptr \u001b[38;5;241m=\u001b[39m cgutils\u001b[38;5;241m.\u001b[39mget_or_insert_function(mod, innerfunc_fnty,\n\u001b[1;32m    151\u001b[0m                                              info\u001b[38;5;241m.\u001b[39mname,)\n\u001b[0;32m--> 152\u001b[0m \u001b[43mwrapperlib\u001b[49m\u001b[38;5;241;43m.\u001b[39;49m\u001b[43madd_linking_library\u001b[49m\u001b[43m(\u001b[49m\u001b[43minfo\u001b[49m\u001b[38;5;241;43m.\u001b[39;49m\u001b[43mlibrary\u001b[49m\u001b[43m)\u001b[49m\n\u001b[1;32m    154\u001b[0m get_num_threads \u001b[38;5;241m=\u001b[39m cgutils\u001b[38;5;241m.\u001b[39mget_or_insert_function(\n\u001b[1;32m    155\u001b[0m     builder\u001b[38;5;241m.\u001b[39mmodule,\n\u001b[1;32m    156\u001b[0m     ir\u001b[38;5;241m.\u001b[39mFunctionType(ir\u001b[38;5;241m.\u001b[39mIntType(types\u001b[38;5;241m.\u001b[39mintp\u001b[38;5;241m.\u001b[39mbitwidth), []),\n\u001b[1;32m    157\u001b[0m     \u001b[38;5;124m\"\u001b[39m\u001b[38;5;124mget_num_threads\u001b[39m\u001b[38;5;124m\"\u001b[39m)\n\u001b[1;32m    159\u001b[0m num_threads \u001b[38;5;241m=\u001b[39m builder\u001b[38;5;241m.\u001b[39mcall(get_num_threads, [])\n",
      "File \u001b[0;32m~/uni/test_venv/PySDM-examples/lib/python3.10/site-packages/numba/core/codegen.py:720\u001b[0m, in \u001b[0;36mCPUCodeLibrary.add_linking_library\u001b[0;34m(self, library)\u001b[0m\n\u001b[1;32m    719\u001b[0m \u001b[38;5;28;01mdef\u001b[39;00m \u001b[38;5;21madd_linking_library\u001b[39m(\u001b[38;5;28mself\u001b[39m, library):\n\u001b[0;32m--> 720\u001b[0m     \u001b[43mlibrary\u001b[49m\u001b[38;5;241;43m.\u001b[39;49m\u001b[43m_ensure_finalized\u001b[49m\u001b[43m(\u001b[49m\u001b[43m)\u001b[49m\n\u001b[1;32m    721\u001b[0m     \u001b[38;5;28mself\u001b[39m\u001b[38;5;241m.\u001b[39m_linking_libraries\u001b[38;5;241m.\u001b[39mappend(library)\n",
      "File \u001b[0;32m~/uni/test_venv/PySDM-examples/lib/python3.10/site-packages/numba/core/codegen.py:567\u001b[0m, in \u001b[0;36mCodeLibrary._ensure_finalized\u001b[0;34m(self)\u001b[0m\n\u001b[1;32m    565\u001b[0m \u001b[38;5;28;01mdef\u001b[39;00m \u001b[38;5;21m_ensure_finalized\u001b[39m(\u001b[38;5;28mself\u001b[39m):\n\u001b[1;32m    566\u001b[0m     \u001b[38;5;28;01mif\u001b[39;00m \u001b[38;5;129;01mnot\u001b[39;00m \u001b[38;5;28mself\u001b[39m\u001b[38;5;241m.\u001b[39m_finalized:\n\u001b[0;32m--> 567\u001b[0m         \u001b[38;5;28;43mself\u001b[39;49m\u001b[38;5;241;43m.\u001b[39;49m\u001b[43mfinalize\u001b[49m\u001b[43m(\u001b[49m\u001b[43m)\u001b[49m\n",
      "File \u001b[0;32m~/uni/test_venv/PySDM-examples/lib/python3.10/site-packages/numba/core/codegen.py:762\u001b[0m, in \u001b[0;36mCPUCodeLibrary.finalize\u001b[0;34m(self)\u001b[0m\n\u001b[1;32m    756\u001b[0m         \u001b[38;5;28mself\u001b[39m\u001b[38;5;241m.\u001b[39m_final_module\u001b[38;5;241m.\u001b[39mlink_in(\n\u001b[1;32m    757\u001b[0m             library\u001b[38;5;241m.\u001b[39m_get_module_for_linking(), preserve\u001b[38;5;241m=\u001b[39m\u001b[38;5;28;01mTrue\u001b[39;00m,\n\u001b[1;32m    758\u001b[0m         )\n\u001b[1;32m    760\u001b[0m \u001b[38;5;66;03m# Optimize the module after all dependences are linked in above,\u001b[39;00m\n\u001b[1;32m    761\u001b[0m \u001b[38;5;66;03m# to allow for inlining.\u001b[39;00m\n\u001b[0;32m--> 762\u001b[0m \u001b[38;5;28;43mself\u001b[39;49m\u001b[38;5;241;43m.\u001b[39;49m\u001b[43m_optimize_final_module\u001b[49m\u001b[43m(\u001b[49m\u001b[43m)\u001b[49m\n\u001b[1;32m    764\u001b[0m \u001b[38;5;28mself\u001b[39m\u001b[38;5;241m.\u001b[39m_final_module\u001b[38;5;241m.\u001b[39mverify()\n\u001b[1;32m    765\u001b[0m \u001b[38;5;28mself\u001b[39m\u001b[38;5;241m.\u001b[39m_finalize_final_module()\n",
      "File \u001b[0;32m~/uni/test_venv/PySDM-examples/lib/python3.10/site-packages/numba/core/codegen.py:682\u001b[0m, in \u001b[0;36mCPUCodeLibrary._optimize_final_module\u001b[0;34m(self)\u001b[0m\n\u001b[1;32m    679\u001b[0m full_name \u001b[38;5;241m=\u001b[39m \u001b[38;5;124m\"\u001b[39m\u001b[38;5;124mModule passes (full optimization)\u001b[39m\u001b[38;5;124m\"\u001b[39m\n\u001b[1;32m    680\u001b[0m \u001b[38;5;28;01mwith\u001b[39;00m \u001b[38;5;28mself\u001b[39m\u001b[38;5;241m.\u001b[39m_recorded_timings\u001b[38;5;241m.\u001b[39mrecord(full_name):\n\u001b[1;32m    681\u001b[0m     \u001b[38;5;66;03m# The full optimisation suite is then run on the refop pruned IR\u001b[39;00m\n\u001b[0;32m--> 682\u001b[0m     \u001b[38;5;28;43mself\u001b[39;49m\u001b[38;5;241;43m.\u001b[39;49m\u001b[43m_codegen\u001b[49m\u001b[38;5;241;43m.\u001b[39;49m\u001b[43m_mpm_full\u001b[49m\u001b[38;5;241;43m.\u001b[39;49m\u001b[43mrun\u001b[49m\u001b[43m(\u001b[49m\u001b[38;5;28;43mself\u001b[39;49m\u001b[38;5;241;43m.\u001b[39;49m\u001b[43m_final_module\u001b[49m\u001b[43m)\u001b[49m\n",
      "File \u001b[0;32m~/uni/test_venv/PySDM-examples/lib/python3.10/site-packages/llvmlite/binding/passmanagers.py:223\u001b[0m, in \u001b[0;36mModulePassManager.run\u001b[0;34m(self, module, remarks_file, remarks_format, remarks_filter)\u001b[0m\n\u001b[1;32m    208\u001b[0m \u001b[38;5;124;03m\"\"\"\u001b[39;00m\n\u001b[1;32m    209\u001b[0m \u001b[38;5;124;03mRun optimization passes on the given module.\u001b[39;00m\n\u001b[1;32m    210\u001b[0m \n\u001b[0;32m   (...)\u001b[0m\n\u001b[1;32m    220\u001b[0m \u001b[38;5;124;03m    The filter that should be applied to the remarks output.\u001b[39;00m\n\u001b[1;32m    221\u001b[0m \u001b[38;5;124;03m\"\"\"\u001b[39;00m\n\u001b[1;32m    222\u001b[0m \u001b[38;5;28;01mif\u001b[39;00m remarks_file \u001b[38;5;129;01mis\u001b[39;00m \u001b[38;5;28;01mNone\u001b[39;00m:\n\u001b[0;32m--> 223\u001b[0m     \u001b[38;5;28;01mreturn\u001b[39;00m \u001b[43mffi\u001b[49m\u001b[38;5;241;43m.\u001b[39;49m\u001b[43mlib\u001b[49m\u001b[38;5;241;43m.\u001b[39;49m\u001b[43mLLVMPY_RunPassManager\u001b[49m\u001b[43m(\u001b[49m\u001b[38;5;28;43mself\u001b[39;49m\u001b[43m,\u001b[49m\u001b[43m \u001b[49m\u001b[43mmodule\u001b[49m\u001b[43m)\u001b[49m\n\u001b[1;32m    224\u001b[0m \u001b[38;5;28;01melse\u001b[39;00m:\n\u001b[1;32m    225\u001b[0m     r \u001b[38;5;241m=\u001b[39m ffi\u001b[38;5;241m.\u001b[39mlib\u001b[38;5;241m.\u001b[39mLLVMPY_RunPassManagerWithRemarks(\n\u001b[1;32m    226\u001b[0m         \u001b[38;5;28mself\u001b[39m, module, _encode_string(remarks_format),\n\u001b[1;32m    227\u001b[0m         _encode_string(remarks_filter),\n\u001b[1;32m    228\u001b[0m         _encode_string(remarks_file))\n",
      "File \u001b[0;32m~/uni/test_venv/PySDM-examples/lib/python3.10/site-packages/llvmlite/binding/ffi.py:151\u001b[0m, in \u001b[0;36m_lib_fn_wrapper.__call__\u001b[0;34m(self, *args, **kwargs)\u001b[0m\n\u001b[1;32m    149\u001b[0m \u001b[38;5;28;01mdef\u001b[39;00m \u001b[38;5;21m__call__\u001b[39m(\u001b[38;5;28mself\u001b[39m, \u001b[38;5;241m*\u001b[39margs, \u001b[38;5;241m*\u001b[39m\u001b[38;5;241m*\u001b[39mkwargs):\n\u001b[1;32m    150\u001b[0m     \u001b[38;5;28;01mwith\u001b[39;00m \u001b[38;5;28mself\u001b[39m\u001b[38;5;241m.\u001b[39m_lock:\n\u001b[0;32m--> 151\u001b[0m         \u001b[38;5;28;01mreturn\u001b[39;00m \u001b[38;5;28;43mself\u001b[39;49m\u001b[38;5;241;43m.\u001b[39;49m\u001b[43m_cfn\u001b[49m\u001b[43m(\u001b[49m\u001b[38;5;241;43m*\u001b[39;49m\u001b[43margs\u001b[49m\u001b[43m,\u001b[49m\u001b[43m \u001b[49m\u001b[38;5;241;43m*\u001b[39;49m\u001b[38;5;241;43m*\u001b[39;49m\u001b[43mkwargs\u001b[49m\u001b[43m)\u001b[49m\n",
      "\u001b[0;31mKeyboardInterrupt\u001b[0m: "
     ]
    }
   ],
   "source": [
    "res_coalescence_only = go_benchmark(\n",
    "    setup_coalescence_only_sim, n_sds, n_steps_short, seeds, numba_n_threads=numba_n_threads, double_precision=True, \n",
    "    sim_run_filename=SIM_RUN_FILENAME + '-coalescence',\n",
    "    backends=[CPU, GPU]\n",
    ")"
   ]
  },
  {
   "cell_type": "code",
   "execution_count": null,
   "metadata": {
    "colab": {
     "base_uri": "https://localhost:8080/"
    },
    "id": "sXcOIaz70dFe",
    "outputId": "5869ade7-f18e-4d6f-e919-35e84c58f5d6",
    "pycharm": {
     "name": "#%%\n"
    },
    "scrolled": true
   },
   "outputs": [],
   "source": [
    "coalescence_only_processed = process_results(res_coalescence_only)"
   ]
  },
  {
   "cell_type": "code",
   "execution_count": null,
   "metadata": {
    "colab": {
     "base_uri": "https://localhost:8080/",
     "height": 488,
     "referenced_widgets": [
      "0dab1f08ab1d4f97aecf2795e132116a",
      "4188e05dc62b473c9d8636f1a935c548",
      "85360de6a1a64ca6b7c622599cf05516"
     ]
    },
    "id": "6P2uy4P5yl4R",
    "outputId": "2ad46abf-41e9-4617-f040-8650e82d18d0",
    "pycharm": {
     "name": "#%%\n"
    }
   },
   "outputs": [],
   "source": [
    "plot_processed_results(coalescence_only_processed, plot_title=f'coalescence-only (n_steps: {n_steps_short})')"
   ]
  },
  {
   "cell_type": "code",
   "execution_count": null,
   "metadata": {},
   "outputs": [],
   "source": [
    "filename=f\"{SIM_RUN_FILENAME}-results-coalescence-double-n_steps{n_steps_short}.txt\"\n",
    "write_to_file(filename=filename, d=coalescence_only_processed)"
   ]
  },
  {
   "cell_type": "markdown",
   "metadata": {
    "id": "ESxwZYQJAWPU",
    "pycharm": {
     "name": "#%% md\n"
    }
   },
   "source": [
    "### Breakup-only"
   ]
  },
  {
   "cell_type": "code",
   "execution_count": null,
   "metadata": {
    "colab": {
     "base_uri": "https://localhost:8080/"
    },
    "id": "G3uATRbn0kvP",
    "outputId": "e2b42ae0-a579-4442-f8a9-bdb11afd1780",
    "pycharm": {
     "name": "#%%\n"
    },
    "scrolled": true
   },
   "outputs": [],
   "source": [
    "res_breakup_only = go_benchmark(\n",
    "    setup_breakup_only_sim, n_sds, n_steps_short, seeds, numba_n_threads=numba_n_threads, double_precision=True,\n",
    "    sim_run_filename=SIM_RUN_FILENAME + '-breakup',\n",
    "    backends=[CPU, GPU]\n",
    ")"
   ]
  },
  {
   "cell_type": "code",
   "execution_count": null,
   "metadata": {
    "id": "NOnnkG_14L1k",
    "pycharm": {
     "name": "#%%\n"
    }
   },
   "outputs": [],
   "source": [
    "breakup_only_processed = process_results(res_breakup_only)"
   ]
  },
  {
   "cell_type": "code",
   "execution_count": null,
   "metadata": {
    "id": "b5jjNVtR4Ss1",
    "pycharm": {
     "name": "#%%\n"
    }
   },
   "outputs": [],
   "source": [
    "plot_processed_results(breakup_only_processed, plot_title=f'breakup-only  (n_steps: {n_steps_short})')"
   ]
  },
  {
   "cell_type": "code",
   "execution_count": null,
   "metadata": {},
   "outputs": [],
   "source": [
    "filename=f\"{SIM_RUN_FILENAME}-results-breakup-double-n_steps{n_steps_short}.txt\"\n",
    "write_to_file(filename=filename, d=breakup_only_processed)"
   ]
  },
  {
   "cell_type": "markdown",
   "metadata": {
    "id": "jkJrNYj24gEo",
    "pycharm": {
     "name": "#%% md\n"
    }
   },
   "source": [
    "### Coalescence and Breakup"
   ]
  },
  {
   "cell_type": "code",
   "execution_count": null,
   "metadata": {
    "id": "LwbWQYPA4ZAX",
    "pycharm": {
     "name": "#%%\n"
    },
    "scrolled": true
   },
   "outputs": [],
   "source": [
    "res_coal_breakup = go_benchmark(\n",
    "    setup_coalescence_breakup_sim, n_sds, n_steps_full, seeds, numba_n_threads=numba_n_threads, double_precision=True, \n",
    "    sim_run_filename=SIM_RUN_FILENAME + '-coal-break',\n",
    "    backends=[CPU, GPU]\n",
    ")"
   ]
  },
  {
   "cell_type": "code",
   "execution_count": null,
   "metadata": {
    "id": "rNQHIhvo4ZAX",
    "pycharm": {
     "name": "#%%\n"
    }
   },
   "outputs": [],
   "source": [
    "coal_breakup_processed = process_results(res_coal_breakup)"
   ]
  },
  {
   "cell_type": "code",
   "execution_count": null,
   "metadata": {
    "id": "Z2wL79a04ZAX",
    "pycharm": {
     "name": "#%%\n"
    }
   },
   "outputs": [],
   "source": [
    "plot_processed_results(coal_breakup_processed, plot_title=f'coalescence+breakup (n_steps: {n_steps_full})')"
   ]
  },
  {
   "cell_type": "code",
   "execution_count": null,
   "metadata": {
    "pycharm": {
     "name": "#%%\n"
    }
   },
   "outputs": [],
   "source": [
    "filename=f\"{SIM_RUN_FILENAME}-results-coal_with_breakup-double-n_steps{n_steps_full}.txt\"\n",
    "write_to_file(filename=filename, d=coal_breakup_processed)"
   ]
  },
  {
   "cell_type": "markdown",
   "metadata": {},
   "source": [
    " "
   ]
  },
  {
   "cell_type": "markdown",
   "metadata": {},
   "source": [
    "# Benchmark setup with scaling"
   ]
  },
  {
   "cell_type": "code",
   "execution_count": null,
   "metadata": {},
   "outputs": [],
   "source": [
    "def total_number_from_n_sd(n_sd):\n",
    "    return n_sd * 1e8\n",
    "\n",
    "def dv_from_n_sd(n_sd):\n",
    "    return n_sd * (0.125 * si.m**3)"
   ]
  },
  {
   "cell_type": "markdown",
   "metadata": {
    "id": "B9_nMuALeOdd",
    "pycharm": {
     "name": "#%% md\n"
    }
   },
   "source": [
    "### Coalescence-only"
   ]
  },
  {
   "cell_type": "code",
   "execution_count": null,
   "metadata": {
    "colab": {
     "base_uri": "https://localhost:8080/",
     "height": 408
    },
    "id": "igcjY2XPfTLq",
    "outputId": "c085dd3e-088c-4096-83a0-643be5343ac5",
    "pycharm": {
     "name": "#%%\n"
    },
    "scrolled": true
   },
   "outputs": [],
   "source": [
    "res_coalescence_only_scaled = go_benchmark(\n",
    "    setup_coalescence_only_sim, n_sds, n_steps_short, seeds, numba_n_threads=numba_n_threads, double_precision=True, \n",
    "    sim_run_filename=SIM_RUN_FILENAME + '-coalescence-scaled',\n",
    "    total_number=total_number_from_n_sd,\n",
    "    dv=dv_from_n_sd,\n",
    "    backends=[CPU, GPU]\n",
    ")"
   ]
  },
  {
   "cell_type": "code",
   "execution_count": null,
   "metadata": {
    "colab": {
     "base_uri": "https://localhost:8080/"
    },
    "id": "sXcOIaz70dFe",
    "outputId": "5869ade7-f18e-4d6f-e919-35e84c58f5d6",
    "pycharm": {
     "name": "#%%\n"
    },
    "scrolled": true
   },
   "outputs": [],
   "source": [
    "coalescence_only_processed_scaled = process_results(res_coalescence_only_scaled)"
   ]
  },
  {
   "cell_type": "code",
   "execution_count": null,
   "metadata": {
    "colab": {
     "base_uri": "https://localhost:8080/",
     "height": 488,
     "referenced_widgets": [
      "0dab1f08ab1d4f97aecf2795e132116a",
      "4188e05dc62b473c9d8636f1a935c548",
      "85360de6a1a64ca6b7c622599cf05516"
     ]
    },
    "id": "6P2uy4P5yl4R",
    "outputId": "2ad46abf-41e9-4617-f040-8650e82d18d0",
    "pycharm": {
     "name": "#%%\n"
    }
   },
   "outputs": [],
   "source": [
    "plot_processed_results(coalescence_only_processed_scaled, plot_title=f'coalescence-only with scaling (n_steps: {n_steps_short})')"
   ]
  },
  {
   "cell_type": "code",
   "execution_count": null,
   "metadata": {},
   "outputs": [],
   "source": [
    "filename=f\"{SIM_RUN_FILENAME}-results-scaled-coalescence-double-n_steps{n_steps_short}.txt\"\n",
    "write_to_file(filename=filename, d=coalescence_only_processed_scaled)"
   ]
  },
  {
   "cell_type": "markdown",
   "metadata": {
    "id": "ESxwZYQJAWPU",
    "pycharm": {
     "name": "#%% md\n"
    }
   },
   "source": [
    "### Breakup-only"
   ]
  },
  {
   "cell_type": "code",
   "execution_count": null,
   "metadata": {
    "colab": {
     "base_uri": "https://localhost:8080/"
    },
    "id": "G3uATRbn0kvP",
    "outputId": "e2b42ae0-a579-4442-f8a9-bdb11afd1780",
    "pycharm": {
     "name": "#%%\n"
    },
    "scrolled": true
   },
   "outputs": [],
   "source": [
    "res_breakup_only_scaled = go_benchmark(\n",
    "    setup_breakup_only_sim, n_sds, n_steps_short, seeds, numba_n_threads=numba_n_threads, double_precision=True,\n",
    "    sim_run_filename=MY_SETUP_INFO_FILENAME + '-breakup-scaled',\n",
    "    total_number=total_number_from_n_sd,\n",
    "    dv=dv_from_n_sd,\n",
    "    backends=[CPU, GPU]\n",
    ")"
   ]
  },
  {
   "cell_type": "code",
   "execution_count": null,
   "metadata": {
    "id": "NOnnkG_14L1k",
    "pycharm": {
     "name": "#%%\n"
    }
   },
   "outputs": [],
   "source": [
    "breakup_only_processed_scaled = process_results(res_breakup_only_scaled)"
   ]
  },
  {
   "cell_type": "code",
   "execution_count": null,
   "metadata": {
    "id": "b5jjNVtR4Ss1",
    "pycharm": {
     "name": "#%%\n"
    }
   },
   "outputs": [],
   "source": [
    "plot_processed_results(breakup_only_processed_scaled, plot_title=f'breakup-only with scaling (n_steps: {n_steps_short})')"
   ]
  },
  {
   "cell_type": "code",
   "execution_count": null,
   "metadata": {},
   "outputs": [],
   "source": [
    "filename=f\"{MY_SETUP_INFO_FILENAME}-results-scaled-breakup-double-n_steps{n_steps_short}.txt\"\n",
    "write_to_file(filename=filename, d=breakup_only_processed_scaled)"
   ]
  },
  {
   "cell_type": "markdown",
   "metadata": {
    "id": "jkJrNYj24gEo",
    "pycharm": {
     "name": "#%% md\n"
    }
   },
   "source": [
    "### Coalescence and Breakup"
   ]
  },
  {
   "cell_type": "code",
   "execution_count": null,
   "metadata": {
    "id": "LwbWQYPA4ZAX",
    "pycharm": {
     "name": "#%%\n"
    },
    "scrolled": true
   },
   "outputs": [],
   "source": [
    "res_coal_breakup_scaled = go_benchmark(\n",
    "    setup_coalescence_breakup_sim, n_sds, n_steps_full, seeds, numba_n_threads=numba_n_threads, double_precision=True, \n",
    "    sim_run_filename=SIM_RUN_FILENAME + '-coal-break-scaled',\n",
    "    total_number=total_number_from_n_sd,\n",
    "    dv=dv_from_n_sd,\n",
    "    backends=[CPU, GPU]\n",
    ")"
   ]
  },
  {
   "cell_type": "code",
   "execution_count": null,
   "metadata": {
    "id": "rNQHIhvo4ZAX",
    "pycharm": {
     "name": "#%%\n"
    }
   },
   "outputs": [],
   "source": [
    "coal_breakup_processed_scaled = process_results(res_coal_breakup_scaled)"
   ]
  },
  {
   "cell_type": "code",
   "execution_count": null,
   "metadata": {
    "id": "Z2wL79a04ZAX",
    "pycharm": {
     "name": "#%%\n"
    }
   },
   "outputs": [],
   "source": [
    "plot_processed_results(coal_breakup_processed_scaled, plot_title=f'coalescence+breakup with scaling (n_steps: {n_steps_full})')"
   ]
  },
  {
   "cell_type": "code",
   "execution_count": null,
   "metadata": {
    "pycharm": {
     "name": "#%%\n"
    }
   },
   "outputs": [],
   "source": [
    "filename=f\"{SIM_RUN_FILENAME}-results-scaled-coal_with_breakup-double-n_steps{n_steps_full}.txt\"\n",
    "write_to_file(filename=filename, d=coal_breakup_processed_scaled)"
   ]
  }
 ],
 "metadata": {
  "accelerator": "GPU",
  "colab": {
   "gpuType": "T4",
   "provenance": []
  },
  "kernelspec": {
   "display_name": "pysdm_ex_venv",
   "language": "python",
   "name": "pysdm_ex_venv"
  },
  "language_info": {
   "codemirror_mode": {
    "name": "ipython",
    "version": 3
   },
   "file_extension": ".py",
   "mimetype": "text/x-python",
   "name": "python",
   "nbconvert_exporter": "python",
   "pygments_lexer": "ipython3",
   "version": "3.10.13"
  },
  "vscode": {
   "interpreter": {
    "hash": "b43cf254c70d60c2e21a7f71ba113e70c1694742e72407132919c841d907074b"
   }
  },
  "widgets": {
   "application/vnd.jupyter.widget-state+json": {
    "0dab1f08ab1d4f97aecf2795e132116a": {
     "model_module": "@jupyter-widgets/controls",
     "model_module_version": "1.5.0",
     "model_name": "ButtonModel",
     "state": {
      "_dom_classes": [],
      "_model_module": "@jupyter-widgets/controls",
      "_model_module_version": "1.5.0",
      "_model_name": "ButtonModel",
      "_view_count": null,
      "_view_module": "@jupyter-widgets/controls",
      "_view_module_version": "1.5.0",
      "_view_name": "ButtonView",
      "button_style": "",
      "description": "tmprayqfc55.pdf",
      "disabled": false,
      "icon": "",
      "layout": "IPY_MODEL_4188e05dc62b473c9d8636f1a935c548",
      "style": "IPY_MODEL_85360de6a1a64ca6b7c622599cf05516",
      "tooltip": ""
     }
    },
    "4188e05dc62b473c9d8636f1a935c548": {
     "model_module": "@jupyter-widgets/base",
     "model_module_version": "1.2.0",
     "model_name": "LayoutModel",
     "state": {
      "_model_module": "@jupyter-widgets/base",
      "_model_module_version": "1.2.0",
      "_model_name": "LayoutModel",
      "_view_count": null,
      "_view_module": "@jupyter-widgets/base",
      "_view_module_version": "1.2.0",
      "_view_name": "LayoutView",
      "align_content": null,
      "align_items": null,
      "align_self": null,
      "border": null,
      "bottom": null,
      "display": null,
      "flex": null,
      "flex_flow": null,
      "grid_area": null,
      "grid_auto_columns": null,
      "grid_auto_flow": null,
      "grid_auto_rows": null,
      "grid_column": null,
      "grid_gap": null,
      "grid_row": null,
      "grid_template_areas": null,
      "grid_template_columns": null,
      "grid_template_rows": null,
      "height": null,
      "justify_content": null,
      "justify_items": null,
      "left": null,
      "margin": null,
      "max_height": null,
      "max_width": null,
      "min_height": null,
      "min_width": null,
      "object_fit": null,
      "object_position": null,
      "order": null,
      "overflow": null,
      "overflow_x": null,
      "overflow_y": null,
      "padding": null,
      "right": null,
      "top": null,
      "visibility": null,
      "width": null
     }
    },
    "85360de6a1a64ca6b7c622599cf05516": {
     "model_module": "@jupyter-widgets/controls",
     "model_module_version": "1.5.0",
     "model_name": "ButtonStyleModel",
     "state": {
      "_model_module": "@jupyter-widgets/controls",
      "_model_module_version": "1.5.0",
      "_model_name": "ButtonStyleModel",
      "_view_count": null,
      "_view_module": "@jupyter-widgets/base",
      "_view_module_version": "1.2.0",
      "_view_name": "StyleView",
      "button_color": null,
      "font_weight": ""
     }
    }
   }
  }
 },
 "nbformat": 4,
 "nbformat_minor": 4
}
