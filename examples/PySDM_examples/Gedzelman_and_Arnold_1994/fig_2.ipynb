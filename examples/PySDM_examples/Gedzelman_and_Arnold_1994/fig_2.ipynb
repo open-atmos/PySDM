{
 "cells": [
  {
   "cell_type": "markdown",
   "id": "624a95a895b096b2",
   "metadata": {
    "collapsed": false,
    "jupyter": {
     "outputs_hidden": false
    }
   },
   "source": [
    "[![View notebook](https://img.shields.io/static/v1?label=render%20on&logo=github&color=87ce3e&message=GitHub)](https://github.com/open-atmos/PySDM/blob/main/examples/PySDM_examples/Gedzelman_and_Arnold_1994/fig_2.ipynb)\n",
    "[![Binder](https://mybinder.org/badge_logo.svg)](https://mybinder.org/v2/gh/open-atmos/PySDM.git/main?urlpath=lab/tree/examples/PySDM_examples/Gedzelman_and_Arnold_1994/fig_2.ipynb)\n",
    "[![Open In Colab](https://colab.research.google.com/assets/colab-badge.svg)](https://colab.research.google.com/github/open-atmos/PySDM/blob/main/examples/PySDM_examples/Gedzelman_and_Arnold_1994/fig_2.ipynb)"
   ]
  },
  {
   "cell_type": "markdown",
   "id": "c288f2ecf3a1c2f1",
   "metadata": {
    "collapsed": false,
    "jupyter": {
     "outputs_hidden": false
    }
   },
   "source": [
    "#### based on Fig. 2 from Gedzelman and Arnold 1994 (JGR)  \"_Modeling the isotopic composition of precipitation_\"\n",
    "https://doi.org/10.1029/93JD03518\n",
    "\n",
    "**notes**:\n",
    "- \"b\" defined in eq. (18) lacks multiplication by $\\rho_\\text{s}$ - units do not match, plot matches the one generated with $\\rho_\\text{s}$ included - seems a typo in eq. (18)\n",
    "\n",
    "**extentions (see notebook cells below first figure):**\n",
    "- multiple isotopes (D, $^{18}$O, $^{17}$O)\n",
    "- modern parameterisations: Horita & Wesolowski '94 for D & $^{18}$O equil. fractionation, Barkan & Luz '05 for $^{17}$O, Hellmann & Harvey '20 for diffusivities\n",
    "- environment ratio plot axis\n",
    "- temperature dependence"
   ]
  },
  {
   "cell_type": "code",
   "execution_count": 14,
   "id": "0294286f-145a-4f58-a97b-a0a42486e2cf",
   "metadata": {},
   "source": [
    "import sys\n",
    "if 'google.colab' in sys.modules:\n",
    "    !pip --quiet install open-atmos-jupyter-utils\n",
    "    from open_atmos_jupyter_utils import pip_install_on_colab\n",
    "    pip_install_on_colab('PySDM')"
   ],
   "outputs": []
  },
  {
   "cell_type": "code",
   "execution_count": 15,
   "id": "1eca2529-52c6-4fb6-a5a6-fce87b29c703",
   "metadata": {},
   "source": [
    "from open_atmos_jupyter_utils import show_plot\n",
    "from PySDM import Formulae\n",
    "from PySDM.physics.constants import si, PER_MILLE, T0, in_unit\n",
    "from matplotlib import pyplot\n",
    "import numpy as np\n",
    "\n",
    "VENTILATION_COEFFICIENT_RATIO = 1  # (this is not taken into account as it depends on droplet size which is not considered here)\n",
    "\n",
    "TEMPERATURES = np.linspace(T0-10, T0 + 30 * si.K, 9)\n",
    "DELTAS_2H = (-300 * PER_MILLE, -200 * PER_MILLE, -100 * PER_MILLE)"
   ],
   "outputs": []
  },
  {
   "cell_type": "markdown",
   "id": "6af2cd93-f4a4-4c91-a58d-9f4a753a1aa1",
   "metadata": {},
   "source": [
    "#### derivations:\n",
    "\n",
    "- Maxwell-Mason equation (introducing $\\rho_\\text{s}=\\frac{p_\\text{vs}}{R_\\text{v}T}$, approximated for $S_\\text{eq}\\approx 1$ and taking into account $\\frac{l_\\text{v}}{R_\\text{v} T} \\approx 20 \\gg 1$):\n",
    "$$\n",
    "a\\frac{da}{dt} \n",
    "= f \\frac{\n",
    "    S - S_\\text{eq}\n",
    "}{\n",
    "    \\rho_w \\left(\n",
    "        \\frac{R_\\text{v} T }{\\Psi p_\\text{vs}(T)} + \n",
    "        \\frac{l_\\text{v}}{K T} \\left(\\frac{l_\\text{v}}{R_\\text{v} T}-1\\right)\n",
    "    \\right)\n",
    "}\n",
    "\\approx \\frac{f}{\\rho_\\text{w}} \\frac{S - 1}{        \\frac{1}{\\Psi \\rho_\\text{s}} + \n",
    "        \\frac{l^2_\\text{v}}{K R_v T^2}\n",
    "}\n",
    "= \\frac{f \\Psi \\rho_\\text{s}}{\\rho_\\text{w}} \\frac{S - 1}{        1 + \n",
    "        \\frac{\\Psi \\rho_\\text{s} l^2_\\text{v}}{K R_v T^2}\n",
    "}\n",
    "$$\n",
    "where $t$ is time, $a$ is drop radius, $f$ is ventilation factor, $\\Psi$ is mass diffusion coefficient, $K$ thermal diffusion coefficient, $l_\\text{v}$ is latent heat of condensation, $R_\\text{v}$ gas constant for water vapour, $T$ temperature, $\\rho_\\text{w}$ density of water, $\\rho_\\text{s}$ saturation vapour density."
   ]
  },
  {
   "cell_type": "code",
   "execution_count": 16,
   "id": "e6fa85cf-47e3-4eab-9288-5a700bb828aa",
   "metadata": {},
   "source": [
    "CONST = Formulae().constants\n",
    "print(f\"lv/(Rv T) at the triple point: {CONST.l_tri / (CONST.Rv * CONST.T_tri):.3g}\")\n",
    "CONST = None"
   ],
   "outputs": []
  },
  {
   "cell_type": "markdown",
   "id": "404aa692-62b1-400d-9de4-fc2ff934de4d",
   "metadata": {},
   "source": [
    "- expressed in terms of mass $m=\\frac{4}{3}\\pi a^3 \\rho_\\text{w}$:\n",
    "\n",
    "$$\\frac{dm}{dt} / [\\text{surface}]\n",
    "= \\frac{d\\left(\\frac{4}{3}\\pi a^3 \\rho_\\text{w}\\right)}{dt} \\frac{1}{4 \\pi a^2}\n",
    "= \\rho_\\text{w} \\frac{da}{dt}\n",
    "$$"
   ]
  },
  {
   "cell_type": "markdown",
   "id": "8f232555-3f7f-49f9-b19e-ee56d904467c",
   "metadata": {},
   "source": [
    "- introducing $b=\\frac{l^2_\\text{v} \\Psi}{K R_\\text{v}T^2}$ and approximating leads to eq. (16) in the paper:\n",
    "\n",
    "$$\n",
    "\\frac{dm}{dt} \n",
    "\\approx 4 \\pi a \\Psi f \\rho_\\text{s}\\frac{S-1}{1 + b \\rho_\\text{s}}\n",
    "$$"
   ]
  },
  {
   "cell_type": "code",
   "execution_count": 17,
   "id": "dfcca7fd-dba1-4b1e-b5a5-7250ef26a3ef",
   "metadata": {},
   "source": [
    "class Commons:  # pylint: disable=too-few-public-methods\n",
    "    \"\"\" groups values used in both equations \"\"\"\n",
    "    def __init__(self, **kwargs):\n",
    "        const = kwargs['formulae'].constants\n",
    "        self.vsmow_ratio = getattr(const, f'VSMOW_R_{kwargs[\"isotope\"]}')\n",
    "        self.iso_ratio_v = kwargs['formulae'].trivia.isotopic_delta_2_ratio(kwargs['delta_v'], self.vsmow_ratio)\n",
    "        alpha_fun = getattr(\n",
    "            kwargs['formulae'].isotope_equilibrium_fractionation_factors,\n",
    "            f'alpha_l_{kwargs[\"isotope\"]}'\n",
    "        )\n",
    "        if kwargs['isotope'] == '17O':\n",
    "            alpha_l_18O = kwargs['formulae'].isotope_equilibrium_fractionation_factors.alpha_l_18O(kwargs['temperature'])\n",
    "            self.alpha_w = alpha_fun(np.nan, alpha_l_18O)\n",
    "        else:\n",
    "            self.alpha_w = alpha_fun(kwargs['temperature'])\n",
    "\n",
    "        self.diff_coef_ratio = 1 / getattr(\n",
    "            kwargs['formulae'].isotope_diffusivity_ratios,\n",
    "            f'ratio_{kwargs[\"isotope\"]}'\n",
    "        )(kwargs['temperature'])\n",
    "\n",
    "        missing_b_multiplier = (\n",
    "            kwargs['formulae'].saturation_vapour_pressure.pvs_Celsius(kwargs['temperature'] - T0)\n",
    "            / kwargs['temperature']\n",
    "            / const.Rv\n",
    "        )\n",
    "        self.b = (\n",
    "            missing_b_multiplier\n",
    "            * kwargs['formulae'].latent_heat.lv(kwargs['temperature'])**2\n",
    "            * const.D0\n",
    "            / const.K0\n",
    "            / const.Rv\n",
    "            / kwargs['temperature']**2\n",
    "        )\n",
    "        self.zero_dR_condition = kwargs['formulae'].isotope_ratio_evolution.zero_dR_condition\n",
    "\n",
    "class NoFractionationSaturation:  # pylint: disable=too-few-public-methods\n",
    "    \"\"\" embodies eqs. (22) an (23) from the paper \"\"\"\n",
    "    def __init__(self, cmn: Commons, *, liquid: bool = False, vapour: bool = False):\n",
    "        assert liquid != vapour\n",
    "        self.liquid = liquid\n",
    "        self.cmn = cmn\n",
    "        \n",
    "    def __call__(self, iso_ratio_r):\n",
    "        return self.cmn.zero_dR_condition(\n",
    "            iso_ratio_x=iso_ratio_r if self.liquid else self.cmn.iso_ratio_v,\n",
    "            diff_rat = VENTILATION_COEFFICIENT_RATIO * self.cmn.diff_coef_ratio,\n",
    "            b=self.cmn.b,\n",
    "            alpha_w=self.cmn.alpha_w,\n",
    "            iso_ratio_r=iso_ratio_r,\n",
    "            iso_ratio_v=self.cmn.iso_ratio_v,\n",
    "        )"
   ],
   "outputs": []
  },
  {
   "cell_type": "code",
   "execution_count": 18,
   "id": "46d7efd0-c8d2-4f41-beca-fa2de6560deb",
   "metadata": {},
   "source": [
    "def plot(*, ax, xlim, temperature_label=False, **commons_kwargs):\n",
    "    commons = Commons(**commons_kwargs)\n",
    "    x = np.linspace(commons.alpha_w * commons.iso_ratio_v / commons.vsmow_ratio, 1.1, 200)\n",
    "    y_eq_22 = NoFractionationSaturation(commons, liquid=True)(x * commons.vsmow_ratio)\n",
    "    y_eq_23 = NoFractionationSaturation(commons, vapour=True)(x * commons.vsmow_ratio)\n",
    "\n",
    "    temp_01 = (commons_kwargs['temperature'] - min(TEMPERATURES))/(max(TEMPERATURES) - min(TEMPERATURES))\n",
    "    color = (temp_01, .333, 1-temp_01)\n",
    "\n",
    "    iso_latex = f\"^{{{commons_kwargs['isotope'][:-1]}}}{commons_kwargs['isotope'][-1]}\"\n",
    "    \n",
    "    ax.plot(x, y_eq_22, label='S$_R$(eq)', color=color)\n",
    "    ax.plot(x, y_eq_23, label='S$_V$(eq)', color=color, linestyle=':')\n",
    "    ax.set_title(f\"ambient vapour $\\\\delta{iso_latex}$ = {in_unit(commons_kwargs['delta_v'], PER_MILLE):.3g}‰\" + (\n",
    "        '' if temperature_label else f'\\t T={commons_kwargs[\"temperature\"] - T0}°C'\n",
    "    ))\n",
    "    ax.set_ylim(0, 1)\n",
    "    ax.set_yticks(np.linspace(0, 1, 5))\n",
    "    ax.grid(visible=True, axis='both')\n",
    "    ax.set_xlabel(f'${iso_latex}$: R$_{{rain}}$ / R$_{{SMOW}}$')\n",
    "    ax.set_ylabel('S=RH')\n",
    "    ax.set_xlim(*xlim)\n",
    "\n",
    "    if temperature_label:\n",
    "        ax.annotate(\n",
    "            f' {commons_kwargs[\"temperature\"] - T0:g}°C$\\\\!\\\\!\\\\!\\\\!\\\\!\\\\!$',\n",
    "            (xlim[-1], y_eq_22[-1] - .015),\n",
    "            fontsize=8\n",
    "        )\n",
    "    return x, {'eq_22': y_eq_22, 'eq_23': y_eq_23}"
   ],
   "outputs": []
  },
  {
   "cell_type": "code",
   "execution_count": 19,
   "id": "129c78ed6b12197e",
   "metadata": {
    "ExecuteTime": {
     "end_time": "2024-02-10T23:26:31.079798656Z",
     "start_time": "2024-02-10T23:26:30.696551402Z"
    },
    "collapsed": false,
    "jupyter": {
     "outputs_hidden": false
    }
   },
   "source": [
    "fig2_x, fig2_y = plot(\n",
    "    ax=pyplot.gca(),\n",
    "    formulae=Formulae(\n",
    "        isotope_equilibrium_fractionation_factors='MerlivatAndNief1967',\n",
    "        isotope_diffusivity_ratios='Stewart1975',\n",
    "        isotope_ratio_evolution='GedzelmanAndArnold1994',\n",
    "    ),\n",
    "    isotope='2H',\n",
    "    delta_v= -200 * PER_MILLE,\n",
    "    temperature= T0 + 10 * si.K,\n",
    "    xlim=(.8, 1)\n",
    ")\n",
    "\n",
    "pyplot.legend()\n",
    "\n",
    "annotate_kwargs = {'bbox': {'boxstyle': 'round', 'fc': '0.9'}, 'ha': 'center'}\n",
    "pyplot.annotate(text=\"vapour ratio\\n decreases\", xy=(.84, .3), **annotate_kwargs)\n",
    "pyplot.annotate(text=\"rain ratio\\n decreases\", xy=(.96, .7), **annotate_kwargs)\n",
    "pyplot.annotate(text=\"both ratios\\n increase\", xy=(.94, .1), **annotate_kwargs)\n",
    "\n",
    "show_plot('fig_2.pdf')"
   ],
   "outputs": []
  },
  {
   "cell_type": "code",
   "execution_count": 20,
   "id": "2db74ada-15db-4589-ba50-27cdb09b2538",
   "metadata": {},
   "source": [
    "formulae = Formulae(\n",
    "    isotope_equilibrium_fractionation_factors='BarkanAndLuz2005+HoritaAndWesolowski1994',\n",
    "    isotope_diffusivity_ratios='HellmannAndHarvey2020',\n",
    "    isotope_meteoric_water_line_excess='BarkanAndLuz2007+Dansgaard1964',\n",
    "    isotope_ratio_evolution='GedzelmanAndArnold1994',\n",
    ")\n",
    "deltas_18O = [formulae.isotope_meteoric_water_line_excess.d18O_of_d2H(d2H) for d2H in DELTAS_2H]\n",
    "deltas_17O = [formulae.isotope_meteoric_water_line_excess.d17O_of_d18O(d18O) for d18O in deltas_18O]\n",
    "\n",
    "fig, axs = pyplot.subplots(3, 3, figsize=(10,8), sharex=False, sharey=True, tight_layout=True) \n",
    "\n",
    "for ax_idx_iso, iso_label in enumerate(('2H', '18O', '17O')):\n",
    "    for ax_idx_delta, delta_v in enumerate({\n",
    "        '2H': DELTAS_2H,\n",
    "        '18O': deltas_18O,\n",
    "        '17O': deltas_17O,\n",
    "    }[iso_label]):\n",
    "        for i, temperature in enumerate(TEMPERATURES):\n",
    "            plot(\n",
    "                ax=axs[ax_idx_iso][ax_idx_delta],\n",
    "                formulae=formulae,\n",
    "                isotope=iso_label,\n",
    "                delta_v=delta_v,\n",
    "                temperature=temperature,\n",
    "                xlim={\n",
    "                    '2H': (.7, 1.1),\n",
    "                    '18O': (.95, 1.1),\n",
    "                    '17O': (.95, 1.1),\n",
    "                }[iso_label],\n",
    "                temperature_label=i in (0, len(TEMPERATURES)-1),\n",
    "            )        \n",
    "        if ax_idx_delta != 0:\n",
    "            axs[ax_idx_iso][ax_idx_delta].set_ylabel('')\n",
    "show_plot('plot_grid.pdf')"
   ],
   "outputs": []
  },
  {
   "cell_type": "code",
   "execution_count": null,
   "id": "ce67a73c-c7fa-4179-a1c7-0b9172de243b",
   "metadata": {},
   "source": [],
   "outputs": []
  },
  {
   "cell_type": "code",
   "execution_count": null,
   "id": "bcb8fc04-18d1-4084-9df5-fba1f3c1ad3a",
   "metadata": {},
   "source": [],
   "outputs": []
  }
 ],
 "metadata": {
  "kernelspec": {
   "display_name": "Python 3 (ipykernel)",
   "language": "python",
   "name": "python3"
  },
  "language_info": {
   "codemirror_mode": {
    "name": "ipython",
    "version": 3
   },
   "file_extension": ".py",
   "mimetype": "text/x-python",
   "name": "python",
   "nbconvert_exporter": "python",
   "pygments_lexer": "ipython3",
   "version": "3.9.2"
  }
 },
 "nbformat": 4,
 "nbformat_minor": 5
}
