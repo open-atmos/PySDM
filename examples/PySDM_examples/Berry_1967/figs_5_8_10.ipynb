{
 "cells": [
  {
   "cell_type": "markdown",
   "metadata": {},
   "source": [
    "[![View notebook](https://img.shields.io/static/v1?label=render%20on&logo=github&color=87ce3e&message=GitHub)](https://github.com/open-atmos/PySDM/blob/main/examples/PySDM_examples/Berry_1967/figs_5_8_10.ipynb)\n",
    "[![Binder](https://mybinder.org/badge_logo.svg)](https://mybinder.org/v2/gh/open-atmos/PySDM.git/main?urlpath=lab/tree/examples/PySDM_examples/Berry_1967/figs_5_8_10.ipynb)    \n",
    "[![Open In Colab](https://colab.research.google.com/assets/colab-badge.svg)](https://colab.research.google.com/github/open-atmos/PySDM/blob/main/examples/PySDM_examples/Berry_1967/figs_5_8_10.ipynb)"
   ]
  },
  {
   "cell_type": "markdown",
   "metadata": {},
   "source": [
    "#### based on Figs. 5, 8, & 10 from Berry 1967 (J. Atmos. Sci. 24)  \"_Cloud Droplet Growth by Collection_\"   \n",
    "https://doi.org/10.1175/1520-0469(1967)024%3C0688:CDGBC%3E2.0.CO;2"
   ]
  },
  {
   "cell_type": "code",
   "execution_count": 6,
   "metadata": {
    "ExecuteTime": {
     "end_time": "2023-12-29T12:32:48.816413Z",
     "start_time": "2023-12-29T12:32:48.801075Z"
    }
   },
   "outputs": [],
   "source": [
    "import sys\n",
    "if 'google.colab' in sys.modules:\n",
    "    !pip --quiet install open-atmos-jupyter-utils\n",
    "    from open_atmos_jupyter_utils import pip_install_on_colab\n",
    "    pip_install_on_colab('PySDM-examples')"
   ]
  },
  {
   "cell_type": "code",
   "execution_count": 7,
   "metadata": {
    "pycharm": {
     "name": "#%%\n"
    },
    "ExecuteTime": {
     "end_time": "2023-12-29T12:32:48.818968Z",
     "start_time": "2023-12-29T12:32:48.807900Z"
    }
   },
   "outputs": [],
   "source": [
    "from numpy import errstate\n",
    "from IPython.display import display\n",
    "from PySDM.backends import CPU, GPU\n",
    "from PySDM.dynamics.collisions.collision_kernels import Geometric, Hydrodynamic, Electric\n",
    "from PySDM_examples.Berry_1967.spectrum_plotter import SpectrumPlotter\n",
    "from PySDM_examples.Berry_1967.settings import Settings\n",
    "from PySDM_examples.Shima_et_al_2009.example import run\n",
    "from PySDM_examples.utils import widgets"
   ]
  },
  {
   "cell_type": "code",
   "execution_count": 8,
   "metadata": {
    "ExecuteTime": {
     "end_time": "2023-12-29T12:32:48.839505Z",
     "start_time": "2023-12-29T12:32:48.828044Z"
    }
   },
   "outputs": [],
   "source": [
    "progbar = widgets.IntProgress(min=0, max=100, description='%')"
   ]
  },
  {
   "cell_type": "code",
   "execution_count": 9,
   "metadata": {
    "ExecuteTime": {
     "end_time": "2023-12-29T12:32:48.850503Z",
     "start_time": "2023-12-29T12:32:48.845630Z"
    }
   },
   "outputs": [],
   "source": [
    "def demo(**kwargs):\n",
    "    with kwargs['freezer']:\n",
    "        with errstate(all='raise'):\n",
    "            settings = Settings(steps=[i * (kwargs['n_step'] // kwargs['n_plot']) for i in range(kwargs['n_plot'] + 1)])\n",
    "            backend = GPU if kwargs['gpu'] else CPU\n",
    "            settings.n_sd = 2 ** kwargs['n_SD']\n",
    "            settings.adaptive = kwargs['adaptive']\n",
    "            settings.dt = 10 if settings.adaptive else settings.dt\n",
    "            if kwargs['kernel'] == 'geometric sweep-out':\n",
    "                settings.kernel = Geometric()\n",
    "            elif kwargs['kernel'] == 'electric field 3000V/cm':\n",
    "                settings.kernel = Electric()\n",
    "            else:\n",
    "                settings.kernel = Hydrodynamic()\n",
    "\n",
    "            states, _ = run(settings, backend, (widgets.ProgbarUpdater(progbar, settings.output_steps[-1]),))\n",
    "\n",
    "        with errstate(invalid='ignore'):\n",
    "            plotter = SpectrumPlotter(settings)\n",
    "            plotter.smooth = kwargs['smooth']\n",
    "            for step, state in states.items():\n",
    "                plotter.plot(state, step * settings.dt)\n",
    "            plotter.show()"
   ]
  },
  {
   "cell_type": "code",
   "execution_count": 10,
   "metadata": {
    "ExecuteTime": {
     "end_time": "2023-12-29T12:32:50.477195Z",
     "start_time": "2023-12-29T12:32:48.858011Z"
    }
   },
   "outputs": [
    {
     "data": {
      "text/plain": "HBox(children=(IntSlider(value=14, continuous_update=False, description='$log_2(n_{SD})$', max=18, min=12), In…",
      "application/vnd.jupyter.widget-view+json": {
       "version_major": 2,
       "version_minor": 0,
       "model_id": "c383158d6a3940bbac011961be46ad45"
      }
     },
     "metadata": {},
     "output_type": "display_data"
    },
    {
     "data": {
      "text/plain": "HBox(children=(Checkbox(value=False, description='adaptive dt'), Checkbox(value=True, description='smooth plot…",
      "application/vnd.jupyter.widget-view+json": {
       "version_major": 2,
       "version_minor": 0,
       "model_id": "3cfcefa81e674e17b8d3dab47192f52b"
      }
     },
     "metadata": {},
     "output_type": "display_data"
    },
    {
     "data": {
      "text/plain": "IntProgress(value=100, description='%')",
      "application/vnd.jupyter.widget-view+json": {
       "version_major": 2,
       "version_minor": 0,
       "model_id": "f3f4fbcd471340d4938397b716eaf207"
      }
     },
     "metadata": {},
     "output_type": "display_data"
    },
    {
     "data": {
      "text/plain": "Output()",
      "application/vnd.jupyter.widget-view+json": {
       "version_major": 2,
       "version_minor": 0,
       "model_id": "771bf2c1aea44602b84e83643204aa2e"
      }
     },
     "metadata": {},
     "output_type": "display_data"
    }
   ],
   "source": [
    "n_SD = widgets.IntSlider(value=14, min=12, max=18, step=1, description='$log_2(n_{SD})$', continuous_update=False)\n",
    "n_step = widgets.IntSlider(value=1000, step=100, min=0, max=2400, description='$n_{step}$', continuous_update=False)\n",
    "n_plot = widgets.IntSlider(value=10, step=1, min=1, max=16, description='$n_{plot}$', continuous_update=False)\n",
    "sliders = widgets.HBox([n_SD, n_step, n_plot])\n",
    "\n",
    "adaptive = widgets.Checkbox(value=False, description='adaptive dt')\n",
    "smooth = widgets.Checkbox(value=True, description='smooth plot')\n",
    "gpu = widgets.Checkbox(value=False, description='GPU')\n",
    "options = [adaptive, smooth]\n",
    "if GPU.ENABLE:\n",
    "    options.append(gpu)\n",
    "kernel = widgets.Select(\n",
    "    options=['geometric sweep-out', 'electric field 3000V/cm', 'hydrodynamic capture'],\n",
    "    value='geometric sweep-out',\n",
    "    description='kernel:',\n",
    "    rows=3\n",
    ")\n",
    "options.append(kernel)\n",
    "boxes = widgets.HBox(options)\n",
    "    \n",
    "freezer = widgets.Freezer([n_SD, n_step, n_plot, kernel, adaptive, gpu])\n",
    "self = widgets.interactive_output(demo, \n",
    "                                  {'freezer': freezer, 'n_SD': n_SD, 'n_step': n_step, 'n_plot': n_plot, \n",
    "                                   'kernel': kernel, 'adaptive': adaptive, 'smooth': smooth, 'gpu': gpu})\n",
    "\n",
    "display(sliders, boxes, progbar, self)"
   ]
  }
 ],
 "metadata": {
  "kernelspec": {
   "display_name": "Python 3 (ipykernel)",
   "language": "python",
   "name": "python3"
  },
  "language_info": {
   "codemirror_mode": {
    "name": "ipython",
    "version": 3
   },
   "file_extension": ".py",
   "mimetype": "text/x-python",
   "name": "python",
   "nbconvert_exporter": "python",
   "pygments_lexer": "ipython3",
   "version": "3.8.9"
  }
 },
 "nbformat": 4,
 "nbformat_minor": 4
}
