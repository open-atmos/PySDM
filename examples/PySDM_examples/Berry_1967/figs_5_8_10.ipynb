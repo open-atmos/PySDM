{
 "cells": [
  {
   "cell_type": "markdown",
   "metadata": {},
   "source": [
    "[![Binder](https://mybinder.org/badge_logo.svg)](https://mybinder.org/v2/gh/open-atmos/PySDM-examples.git/main?urlpath=lab/tree/PySDM_examples/Berry_1967/figs_5_8_10.ipynb)    \n",
    "[![Open In Colab](https://colab.research.google.com/assets/colab-badge.svg)](https://colab.research.google.com/github/open-atmos/PySDM-examples/blob/main/PySDM_examples/Berry_1967/figs_5_8_10.ipynb)"
   ]
  },
  {
   "cell_type": "markdown",
   "metadata": {},
   "source": [
    "#### based on Figs. 5, 8, & 10 from Berry 1967 (J. Atmos. Sci. 24)  \"_Cloud Droplet Growth by Collection_\"   \n",
    "https://doi.org/10.1175/1520-0469(1967)024%3C0688:CDGBC%3E2.0.CO;2"
   ]
  },
  {
   "cell_type": "code",
   "execution_count": 1,
   "metadata": {},
   "outputs": [],
   "source": [
    "import sys\n",
    "if 'google.colab' in sys.modules:\n",
    "    !pip --quiet install open-atmos-jupyter-utils\n",
    "    from open_atmos_jupyter_utils import pip_install_on_colab\n",
    "    pip_install_on_colab('PySDM-examples')"
   ]
  },
  {
   "cell_type": "code",
   "execution_count": 2,
   "metadata": {
    "pycharm": {
     "name": "#%%\n"
    }
   },
   "outputs": [],
   "source": [
    "from numpy import errstate\n",
    "from IPython.display import display\n",
    "from PySDM.backends import CPU, GPU\n",
    "from PySDM.dynamics.collisions.collision_kernels import Geometric, Hydrodynamic, Electric\n",
    "from PySDM_examples.Berry_1967.spectrum_plotter import SpectrumPlotter\n",
    "from PySDM_examples.Berry_1967.settings import Settings\n",
    "from PySDM_examples.Shima_et_al_2009.example import run\n",
    "from PySDM_examples.utils import widgets"
   ]
  },
  {
   "cell_type": "code",
   "execution_count": 3,
   "metadata": {},
   "outputs": [],
   "source": [
    "progbar = widgets.IntProgress(min=0, max=100, description='%')"
   ]
  },
  {
   "cell_type": "code",
   "execution_count": 4,
   "metadata": {},
   "outputs": [],
   "source": [
    "def demo(*, freezer, n_SD, n_step, n_plot, kernel, adaptive, smooth, gpu):\n",
    "    with freezer:\n",
    "        with errstate(all='raise'):\n",
    "            settings = Settings(steps=[i * (n_step // n_plot) for i in range(n_plot + 1)])\n",
    "            backend = GPU if gpu else CPU\n",
    "            settings.n_sd = 2 ** n_SD\n",
    "            settings.adaptive = adaptive\n",
    "            settings.dt = 10 if adaptive else settings.dt\n",
    "            if kernel == 'geometric sweep-out':\n",
    "                settings.kernel = Geometric()\n",
    "            elif kernel == 'electric field 3000V/cm':\n",
    "                settings.kernel = Electric()\n",
    "            else:\n",
    "                settings.kernel = Hydrodynamic()\n",
    "\n",
    "            states, _ = run(settings, backend, (widgets.ProgbarUpdater(progbar, settings.output_steps[-1]),))\n",
    "\n",
    "        with errstate(invalid='ignore'):\n",
    "            plotter = SpectrumPlotter(settings)\n",
    "            plotter.smooth = smooth\n",
    "            for step, state in states.items():\n",
    "                plotter.plot(state, step * settings.dt)\n",
    "            plotter.show()"
   ]
  },
  {
   "cell_type": "code",
   "execution_count": 5,
   "metadata": {
    "scrolled": false
   },
   "outputs": [
    {
     "data": {
      "application/vnd.jupyter.widget-view+json": {
       "model_id": "5591c12f56bb416ca54fc721e1819d56",
       "version_major": 2,
       "version_minor": 0
      },
      "text/plain": [
       "HBox(children=(IntSlider(value=14, continuous_update=False, description='$log_2(n_{SD})$', max=18, min=12), In…"
      ]
     },
     "metadata": {},
     "output_type": "display_data"
    },
    {
     "data": {
      "application/vnd.jupyter.widget-view+json": {
       "model_id": "6881f6642cf7469bb6e11d23929b9b8c",
       "version_major": 2,
       "version_minor": 0
      },
      "text/plain": [
       "HBox(children=(Checkbox(value=False, description='adaptive dt'), Checkbox(value=True, description='smooth plot…"
      ]
     },
     "metadata": {},
     "output_type": "display_data"
    },
    {
     "data": {
      "application/vnd.jupyter.widget-view+json": {
       "model_id": "125e0ef62339442bab7be1633cf3c9ef",
       "version_major": 2,
       "version_minor": 0
      },
      "text/plain": [
       "IntProgress(value=100, description='%')"
      ]
     },
     "metadata": {},
     "output_type": "display_data"
    },
    {
     "data": {
      "application/vnd.jupyter.widget-view+json": {
       "model_id": "8a4348a2973b4e74b0bc4f779e8b0520",
       "version_major": 2,
       "version_minor": 0
      },
      "text/plain": [
       "Output()"
      ]
     },
     "metadata": {},
     "output_type": "display_data"
    }
   ],
   "source": [
    "n_SD = widgets.IntSlider(value=14, min=12, max=18, step=1, description='$log_2(n_{SD})$', continuous_update=False)\n",
    "n_step = widgets.IntSlider(value=1000, step=100, min=0, max=2400, description='$n_{step}$', continuous_update=False)\n",
    "n_plot = widgets.IntSlider(value=10, step=1, min=1, max=16, description='$n_{plot}$', continuous_update=False)\n",
    "sliders = widgets.HBox([n_SD, n_step, n_plot])\n",
    "\n",
    "adaptive = widgets.Checkbox(value=False, description='adaptive dt')\n",
    "smooth = widgets.Checkbox(value=True, description='smooth plot')\n",
    "gpu = widgets.Checkbox(value=False, description='GPU')\n",
    "options = [adaptive, smooth]\n",
    "if GPU.ENABLE:\n",
    "    options.append(gpu)\n",
    "kernel = widgets.Select(\n",
    "    options=['geometric sweep-out', 'electric field 3000V/cm', 'hydrodynamic capture'],\n",
    "    value='geometric sweep-out',\n",
    "    description='kernel:',\n",
    "    rows=3\n",
    ")\n",
    "options.append(kernel)\n",
    "boxes = widgets.HBox(options)\n",
    "    \n",
    "freezer = widgets.Freezer([n_SD, n_step, n_plot, kernel, adaptive, gpu])\n",
    "self = widgets.interactive_output(demo, \n",
    "                                  {'freezer': freezer, 'n_SD': n_SD, 'n_step': n_step, 'n_plot': n_plot, \n",
    "                                   'kernel': kernel, 'adaptive': adaptive, 'smooth': smooth, 'gpu': gpu})\n",
    "\n",
    "display(sliders, boxes, progbar, self)"
   ]
  },
  {
   "cell_type": "code",
   "execution_count": null,
   "metadata": {},
   "outputs": [],
   "source": []
  },
  {
   "cell_type": "code",
   "execution_count": null,
   "metadata": {},
   "outputs": [],
   "source": []
  }
 ],
 "metadata": {
  "kernelspec": {
   "display_name": "Python 3 (ipykernel)",
   "language": "python",
   "name": "python3"
  },
  "language_info": {
   "codemirror_mode": {
    "name": "ipython",
    "version": 3
   },
   "file_extension": ".py",
   "mimetype": "text/x-python",
   "name": "python",
   "nbconvert_exporter": "python",
   "pygments_lexer": "ipython3",
   "version": "3.8.9"
  }
 },
 "nbformat": 4,
 "nbformat_minor": 4
}
