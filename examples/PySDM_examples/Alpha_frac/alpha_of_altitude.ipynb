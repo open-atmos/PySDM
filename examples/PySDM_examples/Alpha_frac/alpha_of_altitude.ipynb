{
 "cells": [
  {
   "cell_type": "code",
   "id": "initial_id",
   "metadata": {
    "collapsed": true,
    "ExecuteTime": {
     "end_time": "2025-04-17T17:12:12.834703Z",
     "start_time": "2025-04-17T17:12:12.833495Z"
    }
   },
   "source": [
    ""
   ],
   "outputs": [],
   "execution_count": null
  },
  {
   "metadata": {},
   "cell_type": "markdown",
   "source": "",
   "id": "41cc49913e2454a2"
  },
  {
   "metadata": {
    "ExecuteTime": {
     "end_time": "2025-04-17T17:12:14.446206Z",
     "start_time": "2025-04-17T17:12:12.837122Z"
    }
   },
   "cell_type": "code",
   "source": [
    "import numpy as np\n",
    "import matplotlib.pyplot as plt\n",
    "from PySDM import Formulae\n",
    "from PySDM.physics import si\n",
    "from open_atmos_jupyter_utils import show_plot\n",
    "from height_temperature import data2025Mar28"
   ],
   "id": "ef1da95b769c4edb",
   "outputs": [],
   "execution_count": 1
  },
  {
   "metadata": {
    "ExecuteTime": {
     "end_time": "2025-04-17T17:12:14.538196Z",
     "start_time": "2025-04-17T17:12:14.519791Z"
    }
   },
   "cell_type": "code",
   "source": [
    "formulae = Formulae(\n",
    "    isotope_equilibrium_fractionation_factors='Majoube1971+LambEtAl2017',\n",
    "    isotope_diffusivity_ratios='Stewart1975'\n",
    ")"
   ],
   "id": "de603af4c6f47914",
   "outputs": [],
   "execution_count": 2
  },
  {
   "metadata": {
    "ExecuteTime": {
     "end_time": "2025-04-17T17:12:14.544200Z",
     "start_time": "2025-04-17T17:12:14.542626Z"
    }
   },
   "cell_type": "code",
   "source": [
    "def alpha_kin(RH, alpha_s, D_rat):\n",
    "    return RH / (alpha_s/D_rat*(RH-1)+1)"
   ],
   "id": "f264f94d298431fe",
   "outputs": [],
   "execution_count": 3
  },
  {
   "metadata": {
    "ExecuteTime": {
     "end_time": "2025-04-17T17:12:15.640265Z",
     "start_time": "2025-04-17T17:12:14.549645Z"
    }
   },
   "cell_type": "code",
   "source": [
    "RH = np.linspace(0.85,1.4, 12)\n",
    "print(RH)\n",
    "temperature = np.linspace(230.15, 268.15, 10)*si.K # TODO\n",
    "alpha_l = formulae.isotope_equilibrium_fractionation_factors.alpha_l_2H(temperature)\n",
    "alpha_i = formulae.isotope_equilibrium_fractionation_factors.alpha_i_2H(temperature)\n",
    "D_rat = formulae.isotope_diffusivity_ratios.ratio_2H(temperature)"
   ],
   "id": "1111ade882da58a2",
   "outputs": [
    {
     "name": "stdout",
     "output_type": "stream",
     "text": [
      "[0.85 0.9  0.95 1.   1.05 1.1  1.15 1.2  1.25 1.3  1.35 1.4 ]\n"
     ]
    }
   ],
   "execution_count": 4
  },
  {
   "metadata": {
    "ExecuteTime": {
     "end_time": "2025-04-17T17:12:15.919292Z",
     "start_time": "2025-04-17T17:12:15.647470Z"
    }
   },
   "cell_type": "code",
   "source": [
    "for rh in RH:\n",
    "    for phase in ('liquid', 'ice'):\n",
    "        alpha_eq = locals()[f\"alpha_{phase[0]}\"]\n",
    "        plt.plot(\n",
    "            alpha_eq * alpha_kin(rh, alpha_eq, D_rat),\n",
    "            temperature,\n",
    "            color='black' if phase == 'ice' else 'red',\n",
    "            label=phase if rh == RH[0] else '',\n",
    "            linewidth=1.5 if rh == 1 else .5,\n",
    "        )\n",
    "plt.xlabel('Fractionation factor $\\\\alpha$ for Deuterium')\n",
    "plt.ylabel('Temperature (K)')\n",
    "\n",
    "plt.legend()\n",
    "plt.ylim(temperature[-1], temperature[0])\n",
    "show_plot(\"Fractionation_factor_of_temperature.pdf\")"
   ],
   "id": "9bfff8243231bf9e",
   "outputs": [
    {
     "data": {
      "text/plain": [
       "<Figure size 640x480 with 1 Axes>"
      ],
      "image/svg+xml": "<?xml version=\"1.0\" encoding=\"utf-8\" standalone=\"no\"?>\n<!DOCTYPE svg PUBLIC \"-//W3C//DTD SVG 1.1//EN\"\n  \"http://www.w3.org/Graphics/SVG/1.1/DTD/svg11.dtd\">\n<svg xmlns:xlink=\"http://www.w3.org/1999/xlink\" width=\"411.285625pt\" height=\"310.86825pt\" viewBox=\"0 0 411.285625 310.86825\" xmlns=\"http://www.w3.org/2000/svg\" version=\"1.1\">\n <metadata>\n  <rdf:RDF xmlns:dc=\"http://purl.org/dc/elements/1.1/\" xmlns:cc=\"http://creativecommons.org/ns#\" xmlns:rdf=\"http://www.w3.org/1999/02/22-rdf-syntax-ns#\">\n   <cc:Work>\n    <dc:type rdf:resource=\"http://purl.org/dc/dcmitype/StillImage\"/>\n    <dc:date>2025-04-17T19:12:15.903990</dc:date>\n    <dc:format>image/svg+xml</dc:format>\n    <dc:creator>\n     <cc:Agent>\n      <dc:title>Matplotlib v3.10.0, https://matplotlib.org/</dc:title>\n     </cc:Agent>\n    </dc:creator>\n   </cc:Work>\n  </rdf:RDF>\n </metadata>\n <defs>\n  <style type=\"text/css\">*{stroke-linejoin: round; stroke-linecap: butt}</style>\n </defs>\n <g id=\"figure_1\">\n  <g id=\"patch_1\">\n   <path d=\"M 0 310.86825 \nL 411.285625 310.86825 \nL 411.285625 0 \nL 0 0 \nz\n\" style=\"fill: #ffffff\"/>\n  </g>\n  <g id=\"axes_1\">\n   <g id=\"patch_2\">\n    <path d=\"M 46.965625 273.312 \nL 404.085625 273.312 \nL 404.085625 7.2 \nL 46.965625 7.2 \nz\n\" style=\"fill: #ffffff\"/>\n   </g>\n   <g id=\"matplotlib.axis_1\">\n    <g id=\"xtick_1\">\n     <g id=\"line2d_1\">\n      <defs>\n       <path id=\"m3e375a3354\" d=\"M 0 0 \nL 0 3.5 \n\" style=\"stroke: #000000; stroke-width: 0.8\"/>\n      </defs>\n      <g>\n       <use xlink:href=\"#m3e375a3354\" x=\"58.869711\" y=\"273.312\" style=\"stroke: #000000; stroke-width: 0.8\"/>\n      </g>\n     </g>\n     <g id=\"text_1\">\n      <!-- 1.075 -->\n      <g transform=\"translate(44.555648 287.910437) scale(0.1 -0.1)\">\n       <defs>\n        <path id=\"DejaVuSans-31\" d=\"M 794 531 \nL 1825 531 \nL 1825 4091 \nL 703 3866 \nL 703 4441 \nL 1819 4666 \nL 2450 4666 \nL 2450 531 \nL 3481 531 \nL 3481 0 \nL 794 0 \nL 794 531 \nz\n\" transform=\"scale(0.015625)\"/>\n        <path id=\"DejaVuSans-2e\" d=\"M 684 794 \nL 1344 794 \nL 1344 0 \nL 684 0 \nL 684 794 \nz\n\" transform=\"scale(0.015625)\"/>\n        <path id=\"DejaVuSans-30\" d=\"M 2034 4250 \nQ 1547 4250 1301 3770 \nQ 1056 3291 1056 2328 \nQ 1056 1369 1301 889 \nQ 1547 409 2034 409 \nQ 2525 409 2770 889 \nQ 3016 1369 3016 2328 \nQ 3016 3291 2770 3770 \nQ 2525 4250 2034 4250 \nz\nM 2034 4750 \nQ 2819 4750 3233 4129 \nQ 3647 3509 3647 2328 \nQ 3647 1150 3233 529 \nQ 2819 -91 2034 -91 \nQ 1250 -91 836 529 \nQ 422 1150 422 2328 \nQ 422 3509 836 4129 \nQ 1250 4750 2034 4750 \nz\n\" transform=\"scale(0.015625)\"/>\n        <path id=\"DejaVuSans-37\" d=\"M 525 4666 \nL 3525 4666 \nL 3525 4397 \nL 1831 0 \nL 1172 0 \nL 2766 4134 \nL 525 4134 \nL 525 4666 \nz\n\" transform=\"scale(0.015625)\"/>\n        <path id=\"DejaVuSans-35\" d=\"M 691 4666 \nL 3169 4666 \nL 3169 4134 \nL 1269 4134 \nL 1269 2991 \nQ 1406 3038 1543 3061 \nQ 1681 3084 1819 3084 \nQ 2600 3084 3056 2656 \nQ 3513 2228 3513 1497 \nQ 3513 744 3044 326 \nQ 2575 -91 1722 -91 \nQ 1428 -91 1123 -41 \nQ 819 9 494 109 \nL 494 744 \nQ 775 591 1075 516 \nQ 1375 441 1709 441 \nQ 2250 441 2565 725 \nQ 2881 1009 2881 1497 \nQ 2881 1984 2565 2268 \nQ 2250 2553 1709 2553 \nQ 1456 2553 1204 2497 \nQ 953 2441 691 2322 \nL 691 4666 \nz\n\" transform=\"scale(0.015625)\"/>\n       </defs>\n       <use xlink:href=\"#DejaVuSans-31\"/>\n       <use xlink:href=\"#DejaVuSans-2e\" transform=\"translate(63.623047 0)\"/>\n       <use xlink:href=\"#DejaVuSans-30\" transform=\"translate(95.410156 0)\"/>\n       <use xlink:href=\"#DejaVuSans-37\" transform=\"translate(159.033203 0)\"/>\n       <use xlink:href=\"#DejaVuSans-35\" transform=\"translate(222.65625 0)\"/>\n      </g>\n     </g>\n    </g>\n    <g id=\"xtick_2\">\n     <g id=\"line2d_2\">\n      <g>\n       <use xlink:href=\"#m3e375a3354\" x=\"99.998813\" y=\"273.312\" style=\"stroke: #000000; stroke-width: 0.8\"/>\n      </g>\n     </g>\n     <g id=\"text_2\">\n      <!-- 1.100 -->\n      <g transform=\"translate(85.68475 287.910437) scale(0.1 -0.1)\">\n       <use xlink:href=\"#DejaVuSans-31\"/>\n       <use xlink:href=\"#DejaVuSans-2e\" transform=\"translate(63.623047 0)\"/>\n       <use xlink:href=\"#DejaVuSans-31\" transform=\"translate(95.410156 0)\"/>\n       <use xlink:href=\"#DejaVuSans-30\" transform=\"translate(159.033203 0)\"/>\n       <use xlink:href=\"#DejaVuSans-30\" transform=\"translate(222.65625 0)\"/>\n      </g>\n     </g>\n    </g>\n    <g id=\"xtick_3\">\n     <g id=\"line2d_3\">\n      <g>\n       <use xlink:href=\"#m3e375a3354\" x=\"141.127915\" y=\"273.312\" style=\"stroke: #000000; stroke-width: 0.8\"/>\n      </g>\n     </g>\n     <g id=\"text_3\">\n      <!-- 1.125 -->\n      <g transform=\"translate(126.813852 287.910437) scale(0.1 -0.1)\">\n       <defs>\n        <path id=\"DejaVuSans-32\" d=\"M 1228 531 \nL 3431 531 \nL 3431 0 \nL 469 0 \nL 469 531 \nQ 828 903 1448 1529 \nQ 2069 2156 2228 2338 \nQ 2531 2678 2651 2914 \nQ 2772 3150 2772 3378 \nQ 2772 3750 2511 3984 \nQ 2250 4219 1831 4219 \nQ 1534 4219 1204 4116 \nQ 875 4013 500 3803 \nL 500 4441 \nQ 881 4594 1212 4672 \nQ 1544 4750 1819 4750 \nQ 2544 4750 2975 4387 \nQ 3406 4025 3406 3419 \nQ 3406 3131 3298 2873 \nQ 3191 2616 2906 2266 \nQ 2828 2175 2409 1742 \nQ 1991 1309 1228 531 \nz\n\" transform=\"scale(0.015625)\"/>\n       </defs>\n       <use xlink:href=\"#DejaVuSans-31\"/>\n       <use xlink:href=\"#DejaVuSans-2e\" transform=\"translate(63.623047 0)\"/>\n       <use xlink:href=\"#DejaVuSans-31\" transform=\"translate(95.410156 0)\"/>\n       <use xlink:href=\"#DejaVuSans-32\" transform=\"translate(159.033203 0)\"/>\n       <use xlink:href=\"#DejaVuSans-35\" transform=\"translate(222.65625 0)\"/>\n      </g>\n     </g>\n    </g>\n    <g id=\"xtick_4\">\n     <g id=\"line2d_4\">\n      <g>\n       <use xlink:href=\"#m3e375a3354\" x=\"182.257017\" y=\"273.312\" style=\"stroke: #000000; stroke-width: 0.8\"/>\n      </g>\n     </g>\n     <g id=\"text_4\">\n      <!-- 1.150 -->\n      <g transform=\"translate(167.942954 287.910437) scale(0.1 -0.1)\">\n       <use xlink:href=\"#DejaVuSans-31\"/>\n       <use xlink:href=\"#DejaVuSans-2e\" transform=\"translate(63.623047 0)\"/>\n       <use xlink:href=\"#DejaVuSans-31\" transform=\"translate(95.410156 0)\"/>\n       <use xlink:href=\"#DejaVuSans-35\" transform=\"translate(159.033203 0)\"/>\n       <use xlink:href=\"#DejaVuSans-30\" transform=\"translate(222.65625 0)\"/>\n      </g>\n     </g>\n    </g>\n    <g id=\"xtick_5\">\n     <g id=\"line2d_5\">\n      <g>\n       <use xlink:href=\"#m3e375a3354\" x=\"223.386119\" y=\"273.312\" style=\"stroke: #000000; stroke-width: 0.8\"/>\n      </g>\n     </g>\n     <g id=\"text_5\">\n      <!-- 1.175 -->\n      <g transform=\"translate(209.072056 287.910437) scale(0.1 -0.1)\">\n       <use xlink:href=\"#DejaVuSans-31\"/>\n       <use xlink:href=\"#DejaVuSans-2e\" transform=\"translate(63.623047 0)\"/>\n       <use xlink:href=\"#DejaVuSans-31\" transform=\"translate(95.410156 0)\"/>\n       <use xlink:href=\"#DejaVuSans-37\" transform=\"translate(159.033203 0)\"/>\n       <use xlink:href=\"#DejaVuSans-35\" transform=\"translate(222.65625 0)\"/>\n      </g>\n     </g>\n    </g>\n    <g id=\"xtick_6\">\n     <g id=\"line2d_6\">\n      <g>\n       <use xlink:href=\"#m3e375a3354\" x=\"264.515221\" y=\"273.312\" style=\"stroke: #000000; stroke-width: 0.8\"/>\n      </g>\n     </g>\n     <g id=\"text_6\">\n      <!-- 1.200 -->\n      <g transform=\"translate(250.201158 287.910437) scale(0.1 -0.1)\">\n       <use xlink:href=\"#DejaVuSans-31\"/>\n       <use xlink:href=\"#DejaVuSans-2e\" transform=\"translate(63.623047 0)\"/>\n       <use xlink:href=\"#DejaVuSans-32\" transform=\"translate(95.410156 0)\"/>\n       <use xlink:href=\"#DejaVuSans-30\" transform=\"translate(159.033203 0)\"/>\n       <use xlink:href=\"#DejaVuSans-30\" transform=\"translate(222.65625 0)\"/>\n      </g>\n     </g>\n    </g>\n    <g id=\"xtick_7\">\n     <g id=\"line2d_7\">\n      <g>\n       <use xlink:href=\"#m3e375a3354\" x=\"305.644323\" y=\"273.312\" style=\"stroke: #000000; stroke-width: 0.8\"/>\n      </g>\n     </g>\n     <g id=\"text_7\">\n      <!-- 1.225 -->\n      <g transform=\"translate(291.33026 287.910437) scale(0.1 -0.1)\">\n       <use xlink:href=\"#DejaVuSans-31\"/>\n       <use xlink:href=\"#DejaVuSans-2e\" transform=\"translate(63.623047 0)\"/>\n       <use xlink:href=\"#DejaVuSans-32\" transform=\"translate(95.410156 0)\"/>\n       <use xlink:href=\"#DejaVuSans-32\" transform=\"translate(159.033203 0)\"/>\n       <use xlink:href=\"#DejaVuSans-35\" transform=\"translate(222.65625 0)\"/>\n      </g>\n     </g>\n    </g>\n    <g id=\"xtick_8\">\n     <g id=\"line2d_8\">\n      <g>\n       <use xlink:href=\"#m3e375a3354\" x=\"346.773425\" y=\"273.312\" style=\"stroke: #000000; stroke-width: 0.8\"/>\n      </g>\n     </g>\n     <g id=\"text_8\">\n      <!-- 1.250 -->\n      <g transform=\"translate(332.459362 287.910437) scale(0.1 -0.1)\">\n       <use xlink:href=\"#DejaVuSans-31\"/>\n       <use xlink:href=\"#DejaVuSans-2e\" transform=\"translate(63.623047 0)\"/>\n       <use xlink:href=\"#DejaVuSans-32\" transform=\"translate(95.410156 0)\"/>\n       <use xlink:href=\"#DejaVuSans-35\" transform=\"translate(159.033203 0)\"/>\n       <use xlink:href=\"#DejaVuSans-30\" transform=\"translate(222.65625 0)\"/>\n      </g>\n     </g>\n    </g>\n    <g id=\"xtick_9\">\n     <g id=\"line2d_9\">\n      <g>\n       <use xlink:href=\"#m3e375a3354\" x=\"387.902527\" y=\"273.312\" style=\"stroke: #000000; stroke-width: 0.8\"/>\n      </g>\n     </g>\n     <g id=\"text_9\">\n      <!-- 1.275 -->\n      <g transform=\"translate(373.588464 287.910437) scale(0.1 -0.1)\">\n       <use xlink:href=\"#DejaVuSans-31\"/>\n       <use xlink:href=\"#DejaVuSans-2e\" transform=\"translate(63.623047 0)\"/>\n       <use xlink:href=\"#DejaVuSans-32\" transform=\"translate(95.410156 0)\"/>\n       <use xlink:href=\"#DejaVuSans-37\" transform=\"translate(159.033203 0)\"/>\n       <use xlink:href=\"#DejaVuSans-35\" transform=\"translate(222.65625 0)\"/>\n      </g>\n     </g>\n    </g>\n    <g id=\"text_10\">\n     <!-- Fractionation factor $\\alpha$ for Deuterium -->\n     <g transform=\"translate(134.725625 301.588562) scale(0.1 -0.1)\">\n      <defs>\n       <path id=\"DejaVuSans-46\" d=\"M 628 4666 \nL 3309 4666 \nL 3309 4134 \nL 1259 4134 \nL 1259 2759 \nL 3109 2759 \nL 3109 2228 \nL 1259 2228 \nL 1259 0 \nL 628 0 \nL 628 4666 \nz\n\" transform=\"scale(0.015625)\"/>\n       <path id=\"DejaVuSans-72\" d=\"M 2631 2963 \nQ 2534 3019 2420 3045 \nQ 2306 3072 2169 3072 \nQ 1681 3072 1420 2755 \nQ 1159 2438 1159 1844 \nL 1159 0 \nL 581 0 \nL 581 3500 \nL 1159 3500 \nL 1159 2956 \nQ 1341 3275 1631 3429 \nQ 1922 3584 2338 3584 \nQ 2397 3584 2469 3576 \nQ 2541 3569 2628 3553 \nL 2631 2963 \nz\n\" transform=\"scale(0.015625)\"/>\n       <path id=\"DejaVuSans-61\" d=\"M 2194 1759 \nQ 1497 1759 1228 1600 \nQ 959 1441 959 1056 \nQ 959 750 1161 570 \nQ 1363 391 1709 391 \nQ 2188 391 2477 730 \nQ 2766 1069 2766 1631 \nL 2766 1759 \nL 2194 1759 \nz\nM 3341 1997 \nL 3341 0 \nL 2766 0 \nL 2766 531 \nQ 2569 213 2275 61 \nQ 1981 -91 1556 -91 \nQ 1019 -91 701 211 \nQ 384 513 384 1019 \nQ 384 1609 779 1909 \nQ 1175 2209 1959 2209 \nL 2766 2209 \nL 2766 2266 \nQ 2766 2663 2505 2880 \nQ 2244 3097 1772 3097 \nQ 1472 3097 1187 3025 \nQ 903 2953 641 2809 \nL 641 3341 \nQ 956 3463 1253 3523 \nQ 1550 3584 1831 3584 \nQ 2591 3584 2966 3190 \nQ 3341 2797 3341 1997 \nz\n\" transform=\"scale(0.015625)\"/>\n       <path id=\"DejaVuSans-63\" d=\"M 3122 3366 \nL 3122 2828 \nQ 2878 2963 2633 3030 \nQ 2388 3097 2138 3097 \nQ 1578 3097 1268 2742 \nQ 959 2388 959 1747 \nQ 959 1106 1268 751 \nQ 1578 397 2138 397 \nQ 2388 397 2633 464 \nQ 2878 531 3122 666 \nL 3122 134 \nQ 2881 22 2623 -34 \nQ 2366 -91 2075 -91 \nQ 1284 -91 818 406 \nQ 353 903 353 1747 \nQ 353 2603 823 3093 \nQ 1294 3584 2113 3584 \nQ 2378 3584 2631 3529 \nQ 2884 3475 3122 3366 \nz\n\" transform=\"scale(0.015625)\"/>\n       <path id=\"DejaVuSans-74\" d=\"M 1172 4494 \nL 1172 3500 \nL 2356 3500 \nL 2356 3053 \nL 1172 3053 \nL 1172 1153 \nQ 1172 725 1289 603 \nQ 1406 481 1766 481 \nL 2356 481 \nL 2356 0 \nL 1766 0 \nQ 1100 0 847 248 \nQ 594 497 594 1153 \nL 594 3053 \nL 172 3053 \nL 172 3500 \nL 594 3500 \nL 594 4494 \nL 1172 4494 \nz\n\" transform=\"scale(0.015625)\"/>\n       <path id=\"DejaVuSans-69\" d=\"M 603 3500 \nL 1178 3500 \nL 1178 0 \nL 603 0 \nL 603 3500 \nz\nM 603 4863 \nL 1178 4863 \nL 1178 4134 \nL 603 4134 \nL 603 4863 \nz\n\" transform=\"scale(0.015625)\"/>\n       <path id=\"DejaVuSans-6f\" d=\"M 1959 3097 \nQ 1497 3097 1228 2736 \nQ 959 2375 959 1747 \nQ 959 1119 1226 758 \nQ 1494 397 1959 397 \nQ 2419 397 2687 759 \nQ 2956 1122 2956 1747 \nQ 2956 2369 2687 2733 \nQ 2419 3097 1959 3097 \nz\nM 1959 3584 \nQ 2709 3584 3137 3096 \nQ 3566 2609 3566 1747 \nQ 3566 888 3137 398 \nQ 2709 -91 1959 -91 \nQ 1206 -91 779 398 \nQ 353 888 353 1747 \nQ 353 2609 779 3096 \nQ 1206 3584 1959 3584 \nz\n\" transform=\"scale(0.015625)\"/>\n       <path id=\"DejaVuSans-6e\" d=\"M 3513 2113 \nL 3513 0 \nL 2938 0 \nL 2938 2094 \nQ 2938 2591 2744 2837 \nQ 2550 3084 2163 3084 \nQ 1697 3084 1428 2787 \nQ 1159 2491 1159 1978 \nL 1159 0 \nL 581 0 \nL 581 3500 \nL 1159 3500 \nL 1159 2956 \nQ 1366 3272 1645 3428 \nQ 1925 3584 2291 3584 \nQ 2894 3584 3203 3211 \nQ 3513 2838 3513 2113 \nz\n\" transform=\"scale(0.015625)\"/>\n       <path id=\"DejaVuSans-20\" transform=\"scale(0.015625)\"/>\n       <path id=\"DejaVuSans-66\" d=\"M 2375 4863 \nL 2375 4384 \nL 1825 4384 \nQ 1516 4384 1395 4259 \nQ 1275 4134 1275 3809 \nL 1275 3500 \nL 2222 3500 \nL 2222 3053 \nL 1275 3053 \nL 1275 0 \nL 697 0 \nL 697 3053 \nL 147 3053 \nL 147 3500 \nL 697 3500 \nL 697 3744 \nQ 697 4328 969 4595 \nQ 1241 4863 1831 4863 \nL 2375 4863 \nz\n\" transform=\"scale(0.015625)\"/>\n       <path id=\"DejaVuSans-Oblique-3b1\" d=\"M 2619 1628 \nL 2622 2350 \nQ 2625 3088 2069 3091 \nQ 1653 3094 1394 2747 \nQ 1069 2319 959 1747 \nQ 825 1059 994 731 \nQ 1169 397 1547 397 \nQ 1966 397 2319 1063 \nL 2619 1628 \nz\nM 2166 3578 \nQ 3141 3594 3128 2584 \nQ 3128 2584 3616 3500 \nL 4128 3500 \nL 3119 1603 \nL 3109 919 \nQ 3109 766 3194 638 \nQ 3291 488 3391 488 \nL 3669 488 \nL 3575 0 \nL 3228 0 \nQ 2934 0 2722 263 \nQ 2622 394 2619 669 \nQ 2416 334 2066 50 \nQ 1900 -81 1453 -78 \nQ 722 -72 456 397 \nQ 184 884 353 1747 \nQ 534 2675 1009 3097 \nQ 1544 3569 2166 3578 \nz\n\" transform=\"scale(0.015625)\"/>\n       <path id=\"DejaVuSans-44\" d=\"M 1259 4147 \nL 1259 519 \nL 2022 519 \nQ 2988 519 3436 956 \nQ 3884 1394 3884 2338 \nQ 3884 3275 3436 3711 \nQ 2988 4147 2022 4147 \nL 1259 4147 \nz\nM 628 4666 \nL 1925 4666 \nQ 3281 4666 3915 4102 \nQ 4550 3538 4550 2338 \nQ 4550 1131 3912 565 \nQ 3275 0 1925 0 \nL 628 0 \nL 628 4666 \nz\n\" transform=\"scale(0.015625)\"/>\n       <path id=\"DejaVuSans-65\" d=\"M 3597 1894 \nL 3597 1613 \nL 953 1613 \nQ 991 1019 1311 708 \nQ 1631 397 2203 397 \nQ 2534 397 2845 478 \nQ 3156 559 3463 722 \nL 3463 178 \nQ 3153 47 2828 -22 \nQ 2503 -91 2169 -91 \nQ 1331 -91 842 396 \nQ 353 884 353 1716 \nQ 353 2575 817 3079 \nQ 1281 3584 2069 3584 \nQ 2775 3584 3186 3129 \nQ 3597 2675 3597 1894 \nz\nM 3022 2063 \nQ 3016 2534 2758 2815 \nQ 2500 3097 2075 3097 \nQ 1594 3097 1305 2825 \nQ 1016 2553 972 2059 \nL 3022 2063 \nz\n\" transform=\"scale(0.015625)\"/>\n       <path id=\"DejaVuSans-75\" d=\"M 544 1381 \nL 544 3500 \nL 1119 3500 \nL 1119 1403 \nQ 1119 906 1312 657 \nQ 1506 409 1894 409 \nQ 2359 409 2629 706 \nQ 2900 1003 2900 1516 \nL 2900 3500 \nL 3475 3500 \nL 3475 0 \nL 2900 0 \nL 2900 538 \nQ 2691 219 2414 64 \nQ 2138 -91 1772 -91 \nQ 1169 -91 856 284 \nQ 544 659 544 1381 \nz\nM 1991 3584 \nL 1991 3584 \nz\n\" transform=\"scale(0.015625)\"/>\n       <path id=\"DejaVuSans-6d\" d=\"M 3328 2828 \nQ 3544 3216 3844 3400 \nQ 4144 3584 4550 3584 \nQ 5097 3584 5394 3201 \nQ 5691 2819 5691 2113 \nL 5691 0 \nL 5113 0 \nL 5113 2094 \nQ 5113 2597 4934 2840 \nQ 4756 3084 4391 3084 \nQ 3944 3084 3684 2787 \nQ 3425 2491 3425 1978 \nL 3425 0 \nL 2847 0 \nL 2847 2094 \nQ 2847 2600 2669 2842 \nQ 2491 3084 2119 3084 \nQ 1678 3084 1418 2786 \nQ 1159 2488 1159 1978 \nL 1159 0 \nL 581 0 \nL 581 3500 \nL 1159 3500 \nL 1159 2956 \nQ 1356 3278 1631 3431 \nQ 1906 3584 2284 3584 \nQ 2666 3584 2933 3390 \nQ 3200 3197 3328 2828 \nz\n\" transform=\"scale(0.015625)\"/>\n      </defs>\n      <use xlink:href=\"#DejaVuSans-46\" transform=\"translate(0 0.015625)\"/>\n      <use xlink:href=\"#DejaVuSans-72\" transform=\"translate(57.519531 0.015625)\"/>\n      <use xlink:href=\"#DejaVuSans-61\" transform=\"translate(98.632812 0.015625)\"/>\n      <use xlink:href=\"#DejaVuSans-63\" transform=\"translate(159.912109 0.015625)\"/>\n      <use xlink:href=\"#DejaVuSans-74\" transform=\"translate(214.892578 0.015625)\"/>\n      <use xlink:href=\"#DejaVuSans-69\" transform=\"translate(254.101562 0.015625)\"/>\n      <use xlink:href=\"#DejaVuSans-6f\" transform=\"translate(281.884766 0.015625)\"/>\n      <use xlink:href=\"#DejaVuSans-6e\" transform=\"translate(343.066406 0.015625)\"/>\n      <use xlink:href=\"#DejaVuSans-61\" transform=\"translate(406.445312 0.015625)\"/>\n      <use xlink:href=\"#DejaVuSans-74\" transform=\"translate(467.724609 0.015625)\"/>\n      <use xlink:href=\"#DejaVuSans-69\" transform=\"translate(506.933594 0.015625)\"/>\n      <use xlink:href=\"#DejaVuSans-6f\" transform=\"translate(534.716797 0.015625)\"/>\n      <use xlink:href=\"#DejaVuSans-6e\" transform=\"translate(595.898438 0.015625)\"/>\n      <use xlink:href=\"#DejaVuSans-20\" transform=\"translate(659.277344 0.015625)\"/>\n      <use xlink:href=\"#DejaVuSans-66\" transform=\"translate(691.064453 0.015625)\"/>\n      <use xlink:href=\"#DejaVuSans-61\" transform=\"translate(726.269531 0.015625)\"/>\n      <use xlink:href=\"#DejaVuSans-63\" transform=\"translate(787.548828 0.015625)\"/>\n      <use xlink:href=\"#DejaVuSans-74\" transform=\"translate(842.529297 0.015625)\"/>\n      <use xlink:href=\"#DejaVuSans-6f\" transform=\"translate(881.738281 0.015625)\"/>\n      <use xlink:href=\"#DejaVuSans-72\" transform=\"translate(942.919922 0.015625)\"/>\n      <use xlink:href=\"#DejaVuSans-20\" transform=\"translate(984.033203 0.015625)\"/>\n      <use xlink:href=\"#DejaVuSans-Oblique-3b1\" transform=\"translate(1015.820312 0.015625)\"/>\n      <use xlink:href=\"#DejaVuSans-20\" transform=\"translate(1081.738281 0.015625)\"/>\n      <use xlink:href=\"#DejaVuSans-66\" transform=\"translate(1113.525391 0.015625)\"/>\n      <use xlink:href=\"#DejaVuSans-6f\" transform=\"translate(1148.730469 0.015625)\"/>\n      <use xlink:href=\"#DejaVuSans-72\" transform=\"translate(1209.912109 0.015625)\"/>\n      <use xlink:href=\"#DejaVuSans-20\" transform=\"translate(1251.025391 0.015625)\"/>\n      <use xlink:href=\"#DejaVuSans-44\" transform=\"translate(1282.8125 0.015625)\"/>\n      <use xlink:href=\"#DejaVuSans-65\" transform=\"translate(1359.814453 0.015625)\"/>\n      <use xlink:href=\"#DejaVuSans-75\" transform=\"translate(1421.337891 0.015625)\"/>\n      <use xlink:href=\"#DejaVuSans-74\" transform=\"translate(1484.716797 0.015625)\"/>\n      <use xlink:href=\"#DejaVuSans-65\" transform=\"translate(1523.925781 0.015625)\"/>\n      <use xlink:href=\"#DejaVuSans-72\" transform=\"translate(1585.449219 0.015625)\"/>\n      <use xlink:href=\"#DejaVuSans-69\" transform=\"translate(1626.5625 0.015625)\"/>\n      <use xlink:href=\"#DejaVuSans-75\" transform=\"translate(1654.345703 0.015625)\"/>\n      <use xlink:href=\"#DejaVuSans-6d\" transform=\"translate(1717.724609 0.015625)\"/>\n     </g>\n    </g>\n   </g>\n   <g id=\"matplotlib.axis_2\">\n    <g id=\"ytick_1\">\n     <g id=\"line2d_10\">\n      <defs>\n       <path id=\"m04ba669b5f\" d=\"M 0 0 \nL -3.5 0 \n\" style=\"stroke: #000000; stroke-width: 0.8\"/>\n      </defs>\n      <g>\n       <use xlink:href=\"#m04ba669b5f\" x=\"46.965625\" y=\"41.164295\" style=\"stroke: #000000; stroke-width: 0.8\"/>\n      </g>\n     </g>\n     <g id=\"text_11\">\n      <!-- 235 -->\n      <g transform=\"translate(20.878125 44.963513) scale(0.1 -0.1)\">\n       <defs>\n        <path id=\"DejaVuSans-33\" d=\"M 2597 2516 \nQ 3050 2419 3304 2112 \nQ 3559 1806 3559 1356 \nQ 3559 666 3084 287 \nQ 2609 -91 1734 -91 \nQ 1441 -91 1130 -33 \nQ 819 25 488 141 \nL 488 750 \nQ 750 597 1062 519 \nQ 1375 441 1716 441 \nQ 2309 441 2620 675 \nQ 2931 909 2931 1356 \nQ 2931 1769 2642 2001 \nQ 2353 2234 1838 2234 \nL 1294 2234 \nL 1294 2753 \nL 1863 2753 \nQ 2328 2753 2575 2939 \nQ 2822 3125 2822 3475 \nQ 2822 3834 2567 4026 \nQ 2313 4219 1838 4219 \nQ 1578 4219 1281 4162 \nQ 984 4106 628 3988 \nL 628 4550 \nQ 988 4650 1302 4700 \nQ 1616 4750 1894 4750 \nQ 2613 4750 3031 4423 \nQ 3450 4097 3450 3541 \nQ 3450 3153 3228 2886 \nQ 3006 2619 2597 2516 \nz\n\" transform=\"scale(0.015625)\"/>\n       </defs>\n       <use xlink:href=\"#DejaVuSans-32\"/>\n       <use xlink:href=\"#DejaVuSans-33\" transform=\"translate(63.623047 0)\"/>\n       <use xlink:href=\"#DejaVuSans-35\" transform=\"translate(127.246094 0)\"/>\n      </g>\n     </g>\n    </g>\n    <g id=\"ytick_2\">\n     <g id=\"line2d_11\">\n      <g>\n       <use xlink:href=\"#m04ba669b5f\" x=\"46.965625\" y=\"76.179032\" style=\"stroke: #000000; stroke-width: 0.8\"/>\n      </g>\n     </g>\n     <g id=\"text_12\">\n      <!-- 240 -->\n      <g transform=\"translate(20.878125 79.97825) scale(0.1 -0.1)\">\n       <defs>\n        <path id=\"DejaVuSans-34\" d=\"M 2419 4116 \nL 825 1625 \nL 2419 1625 \nL 2419 4116 \nz\nM 2253 4666 \nL 3047 4666 \nL 3047 1625 \nL 3713 1625 \nL 3713 1100 \nL 3047 1100 \nL 3047 0 \nL 2419 0 \nL 2419 1100 \nL 313 1100 \nL 313 1709 \nL 2253 4666 \nz\n\" transform=\"scale(0.015625)\"/>\n       </defs>\n       <use xlink:href=\"#DejaVuSans-32\"/>\n       <use xlink:href=\"#DejaVuSans-34\" transform=\"translate(63.623047 0)\"/>\n       <use xlink:href=\"#DejaVuSans-30\" transform=\"translate(127.246094 0)\"/>\n      </g>\n     </g>\n    </g>\n    <g id=\"ytick_3\">\n     <g id=\"line2d_12\">\n      <g>\n       <use xlink:href=\"#m04ba669b5f\" x=\"46.965625\" y=\"111.193768\" style=\"stroke: #000000; stroke-width: 0.8\"/>\n      </g>\n     </g>\n     <g id=\"text_13\">\n      <!-- 245 -->\n      <g transform=\"translate(20.878125 114.992987) scale(0.1 -0.1)\">\n       <use xlink:href=\"#DejaVuSans-32\"/>\n       <use xlink:href=\"#DejaVuSans-34\" transform=\"translate(63.623047 0)\"/>\n       <use xlink:href=\"#DejaVuSans-35\" transform=\"translate(127.246094 0)\"/>\n      </g>\n     </g>\n    </g>\n    <g id=\"ytick_4\">\n     <g id=\"line2d_13\">\n      <g>\n       <use xlink:href=\"#m04ba669b5f\" x=\"46.965625\" y=\"146.208505\" style=\"stroke: #000000; stroke-width: 0.8\"/>\n      </g>\n     </g>\n     <g id=\"text_14\">\n      <!-- 250 -->\n      <g transform=\"translate(20.878125 150.007724) scale(0.1 -0.1)\">\n       <use xlink:href=\"#DejaVuSans-32\"/>\n       <use xlink:href=\"#DejaVuSans-35\" transform=\"translate(63.623047 0)\"/>\n       <use xlink:href=\"#DejaVuSans-30\" transform=\"translate(127.246094 0)\"/>\n      </g>\n     </g>\n    </g>\n    <g id=\"ytick_5\">\n     <g id=\"line2d_14\">\n      <g>\n       <use xlink:href=\"#m04ba669b5f\" x=\"46.965625\" y=\"181.223242\" style=\"stroke: #000000; stroke-width: 0.8\"/>\n      </g>\n     </g>\n     <g id=\"text_15\">\n      <!-- 255 -->\n      <g transform=\"translate(20.878125 185.022461) scale(0.1 -0.1)\">\n       <use xlink:href=\"#DejaVuSans-32\"/>\n       <use xlink:href=\"#DejaVuSans-35\" transform=\"translate(63.623047 0)\"/>\n       <use xlink:href=\"#DejaVuSans-35\" transform=\"translate(127.246094 0)\"/>\n      </g>\n     </g>\n    </g>\n    <g id=\"ytick_6\">\n     <g id=\"line2d_15\">\n      <g>\n       <use xlink:href=\"#m04ba669b5f\" x=\"46.965625\" y=\"216.237979\" style=\"stroke: #000000; stroke-width: 0.8\"/>\n      </g>\n     </g>\n     <g id=\"text_16\">\n      <!-- 260 -->\n      <g transform=\"translate(20.878125 220.037198) scale(0.1 -0.1)\">\n       <defs>\n        <path id=\"DejaVuSans-36\" d=\"M 2113 2584 \nQ 1688 2584 1439 2293 \nQ 1191 2003 1191 1497 \nQ 1191 994 1439 701 \nQ 1688 409 2113 409 \nQ 2538 409 2786 701 \nQ 3034 994 3034 1497 \nQ 3034 2003 2786 2293 \nQ 2538 2584 2113 2584 \nz\nM 3366 4563 \nL 3366 3988 \nQ 3128 4100 2886 4159 \nQ 2644 4219 2406 4219 \nQ 1781 4219 1451 3797 \nQ 1122 3375 1075 2522 \nQ 1259 2794 1537 2939 \nQ 1816 3084 2150 3084 \nQ 2853 3084 3261 2657 \nQ 3669 2231 3669 1497 \nQ 3669 778 3244 343 \nQ 2819 -91 2113 -91 \nQ 1303 -91 875 529 \nQ 447 1150 447 2328 \nQ 447 3434 972 4092 \nQ 1497 4750 2381 4750 \nQ 2619 4750 2861 4703 \nQ 3103 4656 3366 4563 \nz\n\" transform=\"scale(0.015625)\"/>\n       </defs>\n       <use xlink:href=\"#DejaVuSans-32\"/>\n       <use xlink:href=\"#DejaVuSans-36\" transform=\"translate(63.623047 0)\"/>\n       <use xlink:href=\"#DejaVuSans-30\" transform=\"translate(127.246094 0)\"/>\n      </g>\n     </g>\n    </g>\n    <g id=\"ytick_7\">\n     <g id=\"line2d_16\">\n      <g>\n       <use xlink:href=\"#m04ba669b5f\" x=\"46.965625\" y=\"251.252716\" style=\"stroke: #000000; stroke-width: 0.8\"/>\n      </g>\n     </g>\n     <g id=\"text_17\">\n      <!-- 265 -->\n      <g transform=\"translate(20.878125 255.051935) scale(0.1 -0.1)\">\n       <use xlink:href=\"#DejaVuSans-32\"/>\n       <use xlink:href=\"#DejaVuSans-36\" transform=\"translate(63.623047 0)\"/>\n       <use xlink:href=\"#DejaVuSans-35\" transform=\"translate(127.246094 0)\"/>\n      </g>\n     </g>\n    </g>\n    <g id=\"text_18\">\n     <!-- Temperature (K) -->\n     <g transform=\"translate(14.798438 180.695062) rotate(-90) scale(0.1 -0.1)\">\n      <defs>\n       <path id=\"DejaVuSans-54\" d=\"M -19 4666 \nL 3928 4666 \nL 3928 4134 \nL 2272 4134 \nL 2272 0 \nL 1638 0 \nL 1638 4134 \nL -19 4134 \nL -19 4666 \nz\n\" transform=\"scale(0.015625)\"/>\n       <path id=\"DejaVuSans-70\" d=\"M 1159 525 \nL 1159 -1331 \nL 581 -1331 \nL 581 3500 \nL 1159 3500 \nL 1159 2969 \nQ 1341 3281 1617 3432 \nQ 1894 3584 2278 3584 \nQ 2916 3584 3314 3078 \nQ 3713 2572 3713 1747 \nQ 3713 922 3314 415 \nQ 2916 -91 2278 -91 \nQ 1894 -91 1617 61 \nQ 1341 213 1159 525 \nz\nM 3116 1747 \nQ 3116 2381 2855 2742 \nQ 2594 3103 2138 3103 \nQ 1681 3103 1420 2742 \nQ 1159 2381 1159 1747 \nQ 1159 1113 1420 752 \nQ 1681 391 2138 391 \nQ 2594 391 2855 752 \nQ 3116 1113 3116 1747 \nz\n\" transform=\"scale(0.015625)\"/>\n       <path id=\"DejaVuSans-28\" d=\"M 1984 4856 \nQ 1566 4138 1362 3434 \nQ 1159 2731 1159 2009 \nQ 1159 1288 1364 580 \nQ 1569 -128 1984 -844 \nL 1484 -844 \nQ 1016 -109 783 600 \nQ 550 1309 550 2009 \nQ 550 2706 781 3412 \nQ 1013 4119 1484 4856 \nL 1984 4856 \nz\n\" transform=\"scale(0.015625)\"/>\n       <path id=\"DejaVuSans-4b\" d=\"M 628 4666 \nL 1259 4666 \nL 1259 2694 \nL 3353 4666 \nL 4166 4666 \nL 1850 2491 \nL 4331 0 \nL 3500 0 \nL 1259 2247 \nL 1259 0 \nL 628 0 \nL 628 4666 \nz\n\" transform=\"scale(0.015625)\"/>\n       <path id=\"DejaVuSans-29\" d=\"M 513 4856 \nL 1013 4856 \nQ 1481 4119 1714 3412 \nQ 1947 2706 1947 2009 \nQ 1947 1309 1714 600 \nQ 1481 -109 1013 -844 \nL 513 -844 \nQ 928 -128 1133 580 \nQ 1338 1288 1338 2009 \nQ 1338 2731 1133 3434 \nQ 928 4138 513 4856 \nz\n\" transform=\"scale(0.015625)\"/>\n      </defs>\n      <use xlink:href=\"#DejaVuSans-54\"/>\n      <use xlink:href=\"#DejaVuSans-65\" transform=\"translate(44.083984 0)\"/>\n      <use xlink:href=\"#DejaVuSans-6d\" transform=\"translate(105.607422 0)\"/>\n      <use xlink:href=\"#DejaVuSans-70\" transform=\"translate(203.019531 0)\"/>\n      <use xlink:href=\"#DejaVuSans-65\" transform=\"translate(266.496094 0)\"/>\n      <use xlink:href=\"#DejaVuSans-72\" transform=\"translate(328.019531 0)\"/>\n      <use xlink:href=\"#DejaVuSans-61\" transform=\"translate(369.132812 0)\"/>\n      <use xlink:href=\"#DejaVuSans-74\" transform=\"translate(430.412109 0)\"/>\n      <use xlink:href=\"#DejaVuSans-75\" transform=\"translate(469.621094 0)\"/>\n      <use xlink:href=\"#DejaVuSans-72\" transform=\"translate(533 0)\"/>\n      <use xlink:href=\"#DejaVuSans-65\" transform=\"translate(571.863281 0)\"/>\n      <use xlink:href=\"#DejaVuSans-20\" transform=\"translate(633.386719 0)\"/>\n      <use xlink:href=\"#DejaVuSans-28\" transform=\"translate(665.173828 0)\"/>\n      <use xlink:href=\"#DejaVuSans-4b\" transform=\"translate(704.1875 0)\"/>\n      <use xlink:href=\"#DejaVuSans-29\" transform=\"translate(769.763672 0)\"/>\n     </g>\n    </g>\n   </g>\n   <g id=\"line2d_17\">\n    <path d=\"M 364.568732 7.2 \nL 337.366749 36.768 \nL 312.238078 66.336 \nL 288.981927 95.904 \nL 267.42158 125.472 \nL 247.400957 155.04 \nL 228.781743 184.608 \nL 211.44098 214.176 \nL 195.269032 243.744 \nL 180.167867 273.312 \n\" clip-path=\"url(#p890831d7b1)\" style=\"fill: none; stroke: #ff0000; stroke-width: 0.5; stroke-linecap: square\"/>\n   </g>\n   <g id=\"line2d_18\">\n    <path d=\"M 387.852898 7.2 \nL 364.510416 36.768 \nL 342.679491 66.336 \nL 322.228118 95.904 \nL 303.03875 125.472 \nL 285.0064 155.04 \nL 268.037034 184.608 \nL 252.046207 214.176 \nL 236.957889 243.744 \nL 222.703462 273.312 \n\" clip-path=\"url(#p890831d7b1)\" style=\"fill: none; stroke: #000000; stroke-width: 0.5; stroke-linecap: square\"/>\n   </g>\n   <g id=\"line2d_19\">\n    <path d=\"M 332.584246 7.2 \nL 307.656746 36.768 \nL 284.588391 66.336 \nL 263.204017 95.904 \nL 243.348827 125.472 \nL 224.885568 155.04 \nL 207.692174 184.608 \nL 191.659763 214.176 \nL 176.690945 243.744 \nL 162.698378 273.312 \n\" clip-path=\"url(#p890831d7b1)\" style=\"fill: none; stroke: #ff0000; stroke-width: 0.5; stroke-linecap: square\"/>\n   </g>\n   <g id=\"line2d_20\">\n    <path d=\"M 353.885129 7.2 \nL 332.530856 36.768 \nL 312.52887 66.336 \nL 293.764041 95.904 \nL 276.133501 125.472 \nL 259.545087 155.04 \nL 243.916009 184.608 \nL 229.171709 214.176 \nL 215.244885 243.744 \nL 202.074647 273.312 \n\" clip-path=\"url(#p890831d7b1)\" style=\"fill: none; stroke: #000000; stroke-width: 0.5; stroke-linecap: square\"/>\n   </g>\n   <g id=\"line2d_21\">\n    <path d=\"M 304.791277 7.2 \nL 281.795748 36.768 \nL 260.482452 66.336 \nL 240.696779 95.904 \nL 222.301589 125.472 \nL 205.174877 155.04 \nL 189.207786 184.608 \nL 174.302927 214.176 \nL 160.372948 243.744 \nL 147.339302 273.312 \n\" clip-path=\"url(#p890831d7b1)\" style=\"fill: none; stroke: #ff0000; stroke-width: 0.5; stroke-linecap: square\"/>\n   </g>\n   <g id=\"line2d_22\">\n    <path d=\"M 324.41214 7.2 \nL 304.742064 36.768 \nL 286.293158 66.336 \nL 268.963795 95.904 \nL 252.662903 125.472 \nL 237.308665 155.04 \nL 222.827391 184.608 \nL 209.15256 214.176 \nL 196.223984 243.744 \nL 183.987089 273.312 \n\" clip-path=\"url(#p890831d7b1)\" style=\"fill: none; stroke: #000000; stroke-width: 0.5; stroke-linecap: square\"/>\n   </g>\n   <g id=\"line2d_23\">\n    <path d=\"M 280.416555 7.2 \nL 259.081285 36.768 \nL 239.28001 66.336 \nL 220.874877 95.904 \nL 203.743212 125.472 \nL 187.775547 155.04 \nL 172.873933 184.608 \nL 158.950509 214.176 \nL 145.926266 243.744 \nL 133.729998 273.312 \n\" clip-path=\"url(#p890831d7b1)\" style=\"fill: none; stroke: #ff0000; stroke-width: 1.5; stroke-linecap: square\"/>\n   </g>\n   <g id=\"line2d_24\">\n    <path d=\"M 298.597138 7.2 \nL 280.370926 36.768 \nL 263.256344 66.336 \nL 247.162754 95.904 \nL 232.008729 125.472 \nL 217.720933 155.04 \nL 204.233166 184.608 \nL 191.485534 214.176 \nL 179.423739 243.744 \nL 167.998449 273.312 \n\" clip-path=\"url(#p890831d7b1)\" style=\"fill: none; stroke: #000000; stroke-width: 1.5; stroke-linecap: square\"/>\n   </g>\n   <g id=\"line2d_25\">\n    <path d=\"M 258.865998 7.2 \nL 238.972027 36.768 \nL 220.486285 66.336 \nL 203.284785 95.904 \nL 187.256874 125.472 \nL 172.303535 155.04 \nL 158.335949 184.608 \nL 145.274249 214.176 \nL 133.046459 243.744 \nL 121.587568 273.312 \n\" clip-path=\"url(#p890831d7b1)\" style=\"fill: none; stroke: #ff0000; stroke-width: 0.5; stroke-linecap: square\"/>\n   </g>\n   <g id=\"line2d_26\">\n    <path d=\"M 275.798907 7.2 \nL 258.823479 36.768 \nL 242.866986 66.336 \nL 227.84788 95.904 \nL 213.692727 125.472 \nL 200.335246 155.04 \nL 187.715483 184.608 \nL 175.779093 214.176 \nL 164.476712 243.744 \nL 153.763418 273.312 \n\" clip-path=\"url(#p890831d7b1)\" style=\"fill: none; stroke: #000000; stroke-width: 0.5; stroke-linecap: square\"/>\n   </g>\n   <g id=\"line2d_27\">\n    <path d=\"M 239.675655 7.2 \nL 221.044081 36.768 \nL 203.712872 66.336 \nL 187.569664 95.904 \nL 172.513908 125.472 \nL 158.455414 155.04 \nL 145.313088 184.608 \nL 133.013855 214.176 \nL 121.491725 243.744 \nL 110.686979 273.312 \n\" clip-path=\"url(#p890831d7b1)\" style=\"fill: none; stroke: #ff0000; stroke-width: 0.5; stroke-linecap: square\"/>\n   </g>\n   <g id=\"line2d_28\">\n    <path d=\"M 255.517827 7.2 \nL 239.635856 36.768 \nL 224.693505 66.336 \nL 210.616835 95.904 \nL 197.339124 125.472 \nL 184.800035 155.04 \nL 172.944888 184.608 \nL 161.724032 214.176 \nL 151.092292 243.744 \nL 141.008495 273.312 \n\" clip-path=\"url(#p890831d7b1)\" style=\"fill: none; stroke: #000000; stroke-width: 0.5; stroke-linecap: square\"/>\n   </g>\n   <g id=\"line2d_29\">\n    <path d=\"M 222.47792 7.2 \nL 204.960787 36.768 \nL 188.650617 66.336 \nL 173.444894 95.904 \nL 159.251669 125.472 \nL 145.988274 155.04 \nL 133.580227 184.608 \nL 121.960278 214.176 \nL 111.067584 243.744 \nL 100.84699 273.312 \n\" clip-path=\"url(#p890831d7b1)\" style=\"fill: none; stroke: #ff0000; stroke-width: 0.5; stroke-linecap: square\"/>\n   </g>\n   <g id=\"line2d_30\">\n    <path d=\"M 237.358828 7.2 \nL 222.44052 36.768 \nL 208.393292 66.336 \nL 195.149649 95.904 \nL 182.648575 125.472 \nL 170.834791 155.04 \nL 159.658117 184.608 \nL 149.072918 214.176 \nL 139.037612 243.744 \nL 129.514244 273.312 \n\" clip-path=\"url(#p890831d7b1)\" style=\"fill: none; stroke: #000000; stroke-width: 0.5; stroke-linecap: square\"/>\n   </g>\n   <g id=\"line2d_31\">\n    <path d=\"M 206.97776 7.2 \nL 190.451373 36.768 \nL 175.050378 66.336 \nL 160.680692 95.904 \nL 147.257745 125.472 \nL 134.705351 155.04 \nL 122.954736 184.608 \nL 111.94369 214.176 \nL 101.615838 243.744 \nL 91.919991 273.312 \n\" clip-path=\"url(#p890831d7b1)\" style=\"fill: none; stroke: #ff0000; stroke-width: 0.5; stroke-linecap: square\"/>\n   </g>\n   <g id=\"line2d_32\">\n    <path d=\"M 221.005409 7.2 \nL 206.942491 36.768 \nL 193.690905 66.336 \nL 181.188675 95.904 \nL 169.379674 125.472 \nL 158.212972 155.04 \nL 147.64227 184.608 \nL 137.6254 214.176 \nL 128.123885 243.744 \nL 119.102562 273.312 \n\" clip-path=\"url(#p890831d7b1)\" style=\"fill: none; stroke: #000000; stroke-width: 0.5; stroke-linecap: square\"/>\n   </g>\n   <g id=\"line2d_33\">\n    <path d=\"M 192.935646 7.2 \nL 177.295591 36.768 \nL 162.709142 66.336 \nL 149.089504 95.904 \nL 136.358499 125.472 \nL 124.445569 155.04 \nL 113.286907 184.608 \nL 102.824704 214.176 \nL 93.006488 243.744 \nL 83.78455 273.312 \n\" clip-path=\"url(#p890831d7b1)\" style=\"fill: none; stroke: #ff0000; stroke-width: 0.5; stroke-linecap: square\"/>\n   </g>\n   <g id=\"line2d_34\">\n    <path d=\"M 206.201025 7.2 \nL 192.902282 36.768 \nL 180.362383 66.336 \nL 168.524112 95.904 \nL 157.335578 125.472 \nL 146.749623 155.04 \nL 136.723319 184.608 \nL 127.217516 214.176 \nL 118.196447 243.744 \nL 109.627388 273.312 \n\" clip-path=\"url(#p890831d7b1)\" style=\"fill: none; stroke: #000000; stroke-width: 0.5; stroke-linecap: square\"/>\n   </g>\n   <g id=\"line2d_35\">\n    <path d=\"M 180.155092 7.2 \nL 165.312456 36.768 \nL 151.459821 66.336 \nL 138.516737 95.904 \nL 126.410606 125.472 \nL 115.075794 155.04 \nL 104.452853 184.608 \nL 94.487839 214.176 \nL 85.131721 243.744 \nL 76.339855 273.312 \n\" clip-path=\"url(#p890831d7b1)\" style=\"fill: none; stroke: #ff0000; stroke-width: 0.5; stroke-linecap: square\"/>\n   </g>\n   <g id=\"line2d_36\">\n    <path d=\"M 192.735537 7.2 \nL 180.12344 36.768 \nL 168.223749 66.336 \nL 156.983396 95.904 \nL 146.354183 125.472 \nL 136.29225 155.04 \nL 126.757621 184.608 \nL 117.713792 214.176 \nL 109.12738 243.744 \nL 100.967804 273.312 \n\" clip-path=\"url(#p890831d7b1)\" style=\"fill: none; stroke: #000000; stroke-width: 0.5; stroke-linecap: square\"/>\n   </g>\n   <g id=\"line2d_37\">\n    <path d=\"M 168.473394 7.2 \nL 154.35187 36.768 \nL 141.16364 66.336 \nL 128.833818 95.904 \nL 117.294715 125.472 \nL 106.485034 155.04 \nL 96.349174 184.608 \nL 86.836612 214.176 \nL 77.901366 243.744 \nL 69.501516 273.312 \n\" clip-path=\"url(#p890831d7b1)\" style=\"fill: none; stroke: #ff0000; stroke-width: 0.5; stroke-linecap: square\"/>\n   </g>\n   <g id=\"line2d_38\">\n    <path d=\"M 180.435169 7.2 \nL 168.443291 36.768 \nL 157.122473 66.336 \nL 146.423288 95.904 \nL 136.300782 125.472 \nL 126.714 155.04 \nL 117.625565 184.608 \nL 109.001314 214.176 \nL 100.809969 243.744 \nL 93.022851 273.312 \n\" clip-path=\"url(#p890831d7b1)\" style=\"fill: none; stroke: #000000; stroke-width: 0.5; stroke-linecap: square\"/>\n   </g>\n   <g id=\"line2d_39\">\n    <path d=\"M 157.754678 7.2 \nL 144.288304 36.768 \nL 131.704385 66.336 \nL 119.932945 95.904 \nL 108.910637 125.472 \nL 98.580012 155.04 \nL 88.888886 184.608 \nL 79.789782 214.176 \nL 71.239433 243.744 \nL 63.198352 273.312 \n\" clip-path=\"url(#p890831d7b1)\" style=\"fill: none; stroke: #ff0000; stroke-width: 0.5; stroke-linecap: square\"/>\n   </g>\n   <g id=\"line2d_40\">\n    <path d=\"M 169.154973 7.2 \nL 157.72598 36.768 \nL 146.931027 66.336 \nL 136.723899 95.904 \nL 127.062513 125.472 \nL 117.908484 155.04 \nL 109.226747 184.608 \nL 100.985216 214.176 \nL 93.154486 243.744 \nL 85.707573 273.312 \n\" clip-path=\"url(#p890831d7b1)\" style=\"fill: none; stroke: #000000; stroke-width: 0.5; stroke-linecap: square\"/>\n   </g>\n   <g id=\"patch_3\">\n    <path d=\"M 46.965625 273.312 \nL 46.965625 7.2 \n\" style=\"fill: none; stroke: #000000; stroke-width: 0.8; stroke-linejoin: miter; stroke-linecap: square\"/>\n   </g>\n   <g id=\"patch_4\">\n    <path d=\"M 404.085625 273.312 \nL 404.085625 7.2 \n\" style=\"fill: none; stroke: #000000; stroke-width: 0.8; stroke-linejoin: miter; stroke-linecap: square\"/>\n   </g>\n   <g id=\"patch_5\">\n    <path d=\"M 46.965625 273.312 \nL 404.085625 273.312 \n\" style=\"fill: none; stroke: #000000; stroke-width: 0.8; stroke-linejoin: miter; stroke-linecap: square\"/>\n   </g>\n   <g id=\"patch_6\">\n    <path d=\"M 46.965625 7.2 \nL 404.085625 7.2 \n\" style=\"fill: none; stroke: #000000; stroke-width: 0.8; stroke-linejoin: miter; stroke-linecap: square\"/>\n   </g>\n   <g id=\"legend_1\">\n    <g id=\"patch_7\">\n     <path d=\"M 53.965625 44.55625 \nL 113.334375 44.55625 \nQ 115.334375 44.55625 115.334375 42.55625 \nL 115.334375 14.2 \nQ 115.334375 12.2 113.334375 12.2 \nL 53.965625 12.2 \nQ 51.965625 12.2 51.965625 14.2 \nL 51.965625 42.55625 \nQ 51.965625 44.55625 53.965625 44.55625 \nz\n\" style=\"fill: #ffffff; opacity: 0.8; stroke: #cccccc; stroke-linejoin: miter\"/>\n    </g>\n    <g id=\"line2d_41\">\n     <path d=\"M 55.965625 20.298437 \nL 65.965625 20.298437 \nL 75.965625 20.298437 \n\" style=\"fill: none; stroke: #ff0000; stroke-width: 0.5; stroke-linecap: square\"/>\n    </g>\n    <g id=\"text_19\">\n     <!-- liquid -->\n     <g transform=\"translate(83.965625 23.798437) scale(0.1 -0.1)\">\n      <defs>\n       <path id=\"DejaVuSans-6c\" d=\"M 603 4863 \nL 1178 4863 \nL 1178 0 \nL 603 0 \nL 603 4863 \nz\n\" transform=\"scale(0.015625)\"/>\n       <path id=\"DejaVuSans-71\" d=\"M 947 1747 \nQ 947 1113 1208 752 \nQ 1469 391 1925 391 \nQ 2381 391 2643 752 \nQ 2906 1113 2906 1747 \nQ 2906 2381 2643 2742 \nQ 2381 3103 1925 3103 \nQ 1469 3103 1208 2742 \nQ 947 2381 947 1747 \nz\nM 2906 525 \nQ 2725 213 2448 61 \nQ 2172 -91 1784 -91 \nQ 1150 -91 751 415 \nQ 353 922 353 1747 \nQ 353 2572 751 3078 \nQ 1150 3584 1784 3584 \nQ 2172 3584 2448 3432 \nQ 2725 3281 2906 2969 \nL 2906 3500 \nL 3481 3500 \nL 3481 -1331 \nL 2906 -1331 \nL 2906 525 \nz\n\" transform=\"scale(0.015625)\"/>\n       <path id=\"DejaVuSans-64\" d=\"M 2906 2969 \nL 2906 4863 \nL 3481 4863 \nL 3481 0 \nL 2906 0 \nL 2906 525 \nQ 2725 213 2448 61 \nQ 2172 -91 1784 -91 \nQ 1150 -91 751 415 \nQ 353 922 353 1747 \nQ 353 2572 751 3078 \nQ 1150 3584 1784 3584 \nQ 2172 3584 2448 3432 \nQ 2725 3281 2906 2969 \nz\nM 947 1747 \nQ 947 1113 1208 752 \nQ 1469 391 1925 391 \nQ 2381 391 2643 752 \nQ 2906 1113 2906 1747 \nQ 2906 2381 2643 2742 \nQ 2381 3103 1925 3103 \nQ 1469 3103 1208 2742 \nQ 947 2381 947 1747 \nz\n\" transform=\"scale(0.015625)\"/>\n      </defs>\n      <use xlink:href=\"#DejaVuSans-6c\"/>\n      <use xlink:href=\"#DejaVuSans-69\" transform=\"translate(27.783203 0)\"/>\n      <use xlink:href=\"#DejaVuSans-71\" transform=\"translate(55.566406 0)\"/>\n      <use xlink:href=\"#DejaVuSans-75\" transform=\"translate(119.042969 0)\"/>\n      <use xlink:href=\"#DejaVuSans-69\" transform=\"translate(182.421875 0)\"/>\n      <use xlink:href=\"#DejaVuSans-64\" transform=\"translate(210.205078 0)\"/>\n     </g>\n    </g>\n    <g id=\"line2d_42\">\n     <path d=\"M 55.965625 34.976562 \nL 65.965625 34.976562 \nL 75.965625 34.976562 \n\" style=\"fill: none; stroke: #000000; stroke-width: 0.5; stroke-linecap: square\"/>\n    </g>\n    <g id=\"text_20\">\n     <!-- ice -->\n     <g transform=\"translate(83.965625 38.476562) scale(0.1 -0.1)\">\n      <use xlink:href=\"#DejaVuSans-69\"/>\n      <use xlink:href=\"#DejaVuSans-63\" transform=\"translate(27.783203 0)\"/>\n      <use xlink:href=\"#DejaVuSans-65\" transform=\"translate(82.763672 0)\"/>\n     </g>\n    </g>\n   </g>\n  </g>\n </g>\n <defs>\n  <clipPath id=\"p890831d7b1\">\n   <rect x=\"46.965625\" y=\"7.2\" width=\"357.12\" height=\"266.112\"/>\n  </clipPath>\n </defs>\n</svg>\n"
     },
     "metadata": {},
     "output_type": "display_data"
    },
    {
     "data": {
      "text/plain": [
       "HBox(children=(HTML(value=\"<a href='./Fractionation_factor_of_temperature.pdf' target='_blank'>./Fractionation…"
      ],
      "application/vnd.jupyter.widget-view+json": {
       "version_major": 2,
       "version_minor": 0,
       "model_id": "1053e9e194984845a22b2d0c873b5c3c"
      }
     },
     "metadata": {},
     "output_type": "display_data"
    }
   ],
   "execution_count": 5
  },
  {
   "metadata": {
    "ExecuteTime": {
     "end_time": "2025-04-17T17:12:15.941970Z",
     "start_time": "2025-04-17T17:12:15.936064Z"
    }
   },
   "cell_type": "code",
   "source": "data2025Mar28",
   "id": "b258702ae8a3aded",
   "outputs": [
    {
     "data": {
      "text/plain": [
       "     height  temperature [C]\n",
       "0       790             13.6\n",
       "1       920             14.0\n",
       "2      1014             13.2\n",
       "3      1080             13.4\n",
       "4      1156             15.4\n",
       "..      ...              ...\n",
       "159   32571            -45.5\n",
       "160   32749            -44.1\n",
       "161   33025            -45.1\n",
       "162   33120            -43.9\n",
       "163   33415            -42.9\n",
       "\n",
       "[164 rows x 2 columns]"
      ],
      "text/html": [
       "<div>\n",
       "<style scoped>\n",
       "    .dataframe tbody tr th:only-of-type {\n",
       "        vertical-align: middle;\n",
       "    }\n",
       "\n",
       "    .dataframe tbody tr th {\n",
       "        vertical-align: top;\n",
       "    }\n",
       "\n",
       "    .dataframe thead th {\n",
       "        text-align: right;\n",
       "    }\n",
       "</style>\n",
       "<table border=\"1\" class=\"dataframe\">\n",
       "  <thead>\n",
       "    <tr style=\"text-align: right;\">\n",
       "      <th></th>\n",
       "      <th>height</th>\n",
       "      <th>temperature [C]</th>\n",
       "    </tr>\n",
       "  </thead>\n",
       "  <tbody>\n",
       "    <tr>\n",
       "      <th>0</th>\n",
       "      <td>790</td>\n",
       "      <td>13.6</td>\n",
       "    </tr>\n",
       "    <tr>\n",
       "      <th>1</th>\n",
       "      <td>920</td>\n",
       "      <td>14.0</td>\n",
       "    </tr>\n",
       "    <tr>\n",
       "      <th>2</th>\n",
       "      <td>1014</td>\n",
       "      <td>13.2</td>\n",
       "    </tr>\n",
       "    <tr>\n",
       "      <th>3</th>\n",
       "      <td>1080</td>\n",
       "      <td>13.4</td>\n",
       "    </tr>\n",
       "    <tr>\n",
       "      <th>4</th>\n",
       "      <td>1156</td>\n",
       "      <td>15.4</td>\n",
       "    </tr>\n",
       "    <tr>\n",
       "      <th>...</th>\n",
       "      <td>...</td>\n",
       "      <td>...</td>\n",
       "    </tr>\n",
       "    <tr>\n",
       "      <th>159</th>\n",
       "      <td>32571</td>\n",
       "      <td>-45.5</td>\n",
       "    </tr>\n",
       "    <tr>\n",
       "      <th>160</th>\n",
       "      <td>32749</td>\n",
       "      <td>-44.1</td>\n",
       "    </tr>\n",
       "    <tr>\n",
       "      <th>161</th>\n",
       "      <td>33025</td>\n",
       "      <td>-45.1</td>\n",
       "    </tr>\n",
       "    <tr>\n",
       "      <th>162</th>\n",
       "      <td>33120</td>\n",
       "      <td>-43.9</td>\n",
       "    </tr>\n",
       "    <tr>\n",
       "      <th>163</th>\n",
       "      <td>33415</td>\n",
       "      <td>-42.9</td>\n",
       "    </tr>\n",
       "  </tbody>\n",
       "</table>\n",
       "<p>164 rows × 2 columns</p>\n",
       "</div>"
      ]
     },
     "execution_count": 6,
     "metadata": {},
     "output_type": "execute_result"
    }
   ],
   "execution_count": 6
  },
  {
   "metadata": {
    "ExecuteTime": {
     "end_time": "2025-04-17T17:12:16.267265Z",
     "start_time": "2025-04-17T17:12:15.968481Z"
    }
   },
   "cell_type": "code",
   "source": [
    "RH = np.linspace(0.85,1.4, 12)\n",
    "temperature_data = (data2025Mar28['temperature [C]'] + 273.15)*si.K\n",
    "alpha_l = formulae.isotope_equilibrium_fractionation_factors.alpha_l_2H(temperature_data)\n",
    "alpha_i = formulae.isotope_equilibrium_fractionation_factors.alpha_i_2H(temperature_data)\n",
    "D_rat = formulae.isotope_diffusivity_ratios.ratio_2H(temperature_data)\n",
    "for rh in RH:\n",
    "    for phase in ('liquid', 'ice'):\n",
    "        alpha_eq = locals()[f\"alpha_{phase[0]}\"]\n",
    "        plt.plot(\n",
    "            alpha_eq * alpha_kin(rh, alpha_eq, D_rat),\n",
    "            data2025Mar28['height'],\n",
    "            color='black' if phase == 'ice' else 'red',\n",
    "            label=phase if rh == RH[0] else '',\n",
    "            linewidth=1.5 if rh == 1 else .5,\n",
    "        )\n",
    "plt.xlabel('Fractionation factor $\\\\alpha$ for Deuterium')\n",
    "plt.ylabel('Altitude [m]')\n",
    "\n",
    "plt.legend()\n",
    "show_plot(\"Fractionation_factor_of_height.pdf\")"
   ],
   "id": "b66a303fe72fd8b9",
   "outputs": [
    {
     "ename": "TypingError",
     "evalue": "Failed in nopython mode pipeline (step: nopython frontend)\nnon-precise type pyobject\nDuring: typing of argument at <string> (2)\n\nFile \"<string>\", line 2:\n<source missing, REPL/exec in use?> \n\nThis error may have been caused by the following argument(s):\n- argument 0: Cannot determine Numba type of <class 'pandas.core.series.Series'>\n",
     "output_type": "error",
     "traceback": [
      "\u001B[0;31m---------------------------------------------------------------------------\u001B[0m",
      "\u001B[0;31mTypingError\u001B[0m                               Traceback (most recent call last)",
      "Cell \u001B[0;32mIn[7], line 3\u001B[0m\n\u001B[1;32m      1\u001B[0m RH \u001B[38;5;241m=\u001B[39m np\u001B[38;5;241m.\u001B[39mlinspace(\u001B[38;5;241m0.85\u001B[39m,\u001B[38;5;241m1.4\u001B[39m, \u001B[38;5;241m12\u001B[39m)\n\u001B[1;32m      2\u001B[0m temperature_data \u001B[38;5;241m=\u001B[39m (data2025Mar28[\u001B[38;5;124m'\u001B[39m\u001B[38;5;124mtemperature [C]\u001B[39m\u001B[38;5;124m'\u001B[39m] \u001B[38;5;241m+\u001B[39m \u001B[38;5;241m273.15\u001B[39m)\u001B[38;5;241m*\u001B[39msi\u001B[38;5;241m.\u001B[39mK\n\u001B[0;32m----> 3\u001B[0m alpha_l \u001B[38;5;241m=\u001B[39m \u001B[43mformulae\u001B[49m\u001B[38;5;241;43m.\u001B[39;49m\u001B[43misotope_equilibrium_fractionation_factors\u001B[49m\u001B[38;5;241;43m.\u001B[39;49m\u001B[43malpha_l_2H\u001B[49m\u001B[43m(\u001B[49m\u001B[43mtemperature_data\u001B[49m\u001B[43m)\u001B[49m\n\u001B[1;32m      4\u001B[0m alpha_i \u001B[38;5;241m=\u001B[39m formulae\u001B[38;5;241m.\u001B[39misotope_equilibrium_fractionation_factors\u001B[38;5;241m.\u001B[39malpha_i_2H(temperature_data)\n\u001B[1;32m      5\u001B[0m D_rat \u001B[38;5;241m=\u001B[39m formulae\u001B[38;5;241m.\u001B[39misotope_diffusivity_ratios\u001B[38;5;241m.\u001B[39mratio_2H(temperature_data)\n",
      "File \u001B[0;32m~/PycharmProjects/venv3.12/lib/python3.12/site-packages/numba/core/dispatcher.py:423\u001B[0m, in \u001B[0;36m_DispatcherBase._compile_for_args\u001B[0;34m(self, *args, **kws)\u001B[0m\n\u001B[1;32m    419\u001B[0m         msg \u001B[38;5;241m=\u001B[39m (\u001B[38;5;124mf\u001B[39m\u001B[38;5;124m\"\u001B[39m\u001B[38;5;132;01m{\u001B[39;00m\u001B[38;5;28mstr\u001B[39m(e)\u001B[38;5;241m.\u001B[39mrstrip()\u001B[38;5;132;01m}\u001B[39;00m\u001B[38;5;124m \u001B[39m\u001B[38;5;130;01m\\n\u001B[39;00m\u001B[38;5;130;01m\\n\u001B[39;00m\u001B[38;5;124mThis error may have been caused \u001B[39m\u001B[38;5;124m\"\u001B[39m\n\u001B[1;32m    420\u001B[0m                \u001B[38;5;124mf\u001B[39m\u001B[38;5;124m\"\u001B[39m\u001B[38;5;124mby the following argument(s):\u001B[39m\u001B[38;5;130;01m\\n\u001B[39;00m\u001B[38;5;132;01m{\u001B[39;00margs_str\u001B[38;5;132;01m}\u001B[39;00m\u001B[38;5;130;01m\\n\u001B[39;00m\u001B[38;5;124m\"\u001B[39m)\n\u001B[1;32m    421\u001B[0m         e\u001B[38;5;241m.\u001B[39mpatch_message(msg)\n\u001B[0;32m--> 423\u001B[0m     \u001B[43merror_rewrite\u001B[49m\u001B[43m(\u001B[49m\u001B[43me\u001B[49m\u001B[43m,\u001B[49m\u001B[43m \u001B[49m\u001B[38;5;124;43m'\u001B[39;49m\u001B[38;5;124;43mtyping\u001B[39;49m\u001B[38;5;124;43m'\u001B[39;49m\u001B[43m)\u001B[49m\n\u001B[1;32m    424\u001B[0m \u001B[38;5;28;01mexcept\u001B[39;00m errors\u001B[38;5;241m.\u001B[39mUnsupportedError \u001B[38;5;28;01mas\u001B[39;00m e:\n\u001B[1;32m    425\u001B[0m     \u001B[38;5;66;03m# Something unsupported is present in the user code, add help info\u001B[39;00m\n\u001B[1;32m    426\u001B[0m     error_rewrite(e, \u001B[38;5;124m'\u001B[39m\u001B[38;5;124munsupported_error\u001B[39m\u001B[38;5;124m'\u001B[39m)\n",
      "File \u001B[0;32m~/PycharmProjects/venv3.12/lib/python3.12/site-packages/numba/core/dispatcher.py:364\u001B[0m, in \u001B[0;36m_DispatcherBase._compile_for_args.<locals>.error_rewrite\u001B[0;34m(e, issue_type)\u001B[0m\n\u001B[1;32m    362\u001B[0m     \u001B[38;5;28;01mraise\u001B[39;00m e\n\u001B[1;32m    363\u001B[0m \u001B[38;5;28;01melse\u001B[39;00m:\n\u001B[0;32m--> 364\u001B[0m     \u001B[38;5;28;01mraise\u001B[39;00m e\u001B[38;5;241m.\u001B[39mwith_traceback(\u001B[38;5;28;01mNone\u001B[39;00m)\n",
      "\u001B[0;31mTypingError\u001B[0m: Failed in nopython mode pipeline (step: nopython frontend)\nnon-precise type pyobject\nDuring: typing of argument at <string> (2)\n\nFile \"<string>\", line 2:\n<source missing, REPL/exec in use?> \n\nThis error may have been caused by the following argument(s):\n- argument 0: Cannot determine Numba type of <class 'pandas.core.series.Series'>\n"
     ]
    }
   ],
   "execution_count": 7
  },
  {
   "metadata": {},
   "cell_type": "code",
   "outputs": [],
   "execution_count": null,
   "source": "",
   "id": "d742b547b2a84fc3"
  }
 ],
 "metadata": {
  "kernelspec": {
   "display_name": "Python 3",
   "language": "python",
   "name": "python3"
  },
  "language_info": {
   "codemirror_mode": {
    "name": "ipython",
    "version": 2
   },
   "file_extension": ".py",
   "mimetype": "text/x-python",
   "name": "python",
   "nbconvert_exporter": "python",
   "pygments_lexer": "ipython2",
   "version": "2.7.6"
  }
 },
 "nbformat": 4,
 "nbformat_minor": 5
}
