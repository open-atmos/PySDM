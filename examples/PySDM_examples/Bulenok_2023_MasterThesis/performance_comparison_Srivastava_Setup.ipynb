{
 "cells": [
  {
   "cell_type": "markdown",
   "metadata": {
    "id": "WIqA5e780Mjf",
    "pycharm": {
     "name": "#%% md\n"
    }
   },
   "source": [
    "[![nbviewer](https://raw.githubusercontent.com/jupyter/design/master/logos/Badges/nbviewer_badge.svg)](https://nbviewer.jupyter.org/github/open-atmos/PySDM/blob/main/examples/PySDM_examples/Bulenok_2023_MasterThesis/performance_comparison_Srivastava_Setup.ipynb)\n",
    "[![Binder](https://mybinder.org/badge_logo.svg)](https://mybinder.org/v2/gh/open-atmos/PySDM.git/main?urlpath=examples/PySDM_examples/Bulenok_2023_MasterThesis/performance_comparison_Srivastava_Setup.ipynb)\n",
    "[![Open In Colab](https://colab.research.google.com/assets/colab-badge.svg)](https://colab.research.google.com/github/open-atmos/PySDM/blob/main/examples/PySDM_examples/Bulenok_2023_MasterThesis/performance_comparison_Srivastava_Setup.ipynb)"
   ]
  },
  {
   "cell_type": "code",
   "execution_count": null,
   "metadata": {
    "id": "UQMa_1r60Mji",
    "pycharm": {
     "name": "#%%\n"
    }
   },
   "outputs": [],
   "source": [
    "import sys\n",
    "if 'google.colab' in sys.modules:\n",
    "    !pip --quiet install open-atmos-jupyter-utils\n",
    "    from open_atmos_jupyter_utils import pip_install_on_colab\n",
    "    pip_install_on_colab('PySDM-examples')"
   ]
  },
  {
   "cell_type": "code",
   "execution_count": null,
   "metadata": {
    "id": "CmpuwDeA0Mjk",
    "pycharm": {
     "name": "#%%\n"
    }
   },
   "outputs": [],
   "source": [
    "import os\n",
    "os.environ['NUMBA_NUM_THREADS'] = '10'\n",
    "\n",
    "from datetime import datetime\n",
    "import numba  # pylint: disable=unused-import\n",
    "\n",
    "from PySDM.backends import GPU, CPU\n",
    "from PySDM.physics import si\n",
    "\n",
    "from PySDM_examples.Bulenok_2023_MasterThesis.utils import go_benchmark, process_results, plot_processed_results, write_to_file\n",
    "from PySDM_examples.Bulenok_2023_MasterThesis.setups import setup_coalescence_only_sim, setup_breakup_only_sim, setup_coalescence_breakup_sim"
   ]
  },
  {
   "cell_type": "code",
   "execution_count": null,
   "metadata": {
    "colab": {
     "base_uri": "https://localhost:8080/"
    },
    "id": "Qesf60GDowi-",
    "outputId": "87b58dce-e649-4551-c481-d59e34b11bb3",
    "pycharm": {
     "name": "#%%\n"
    }
   },
   "outputs": [],
   "source": [
    "TIMESTAMP = str(datetime.now().strftime(\"%Y-%d-%m_%Hh-%Mm-%Ss\"))"
   ]
  },
  {
   "cell_type": "code",
   "execution_count": null,
   "metadata": {},
   "outputs": [],
   "source": [
    "SIM_RUN_FILENAME=\"env_name_\" + TIMESTAMP"
   ]
  },
  {
   "cell_type": "code",
   "execution_count": null,
   "metadata": {
    "colab": {
     "base_uri": "https://localhost:8080/",
     "height": 245
    },
    "id": "gXgbRuqNLtO5",
    "outputId": "aa4660c0-3253-498c-8d17-cf76435c1bfc",
    "pycharm": {
     "name": "#%%\n"
    }
   },
   "outputs": [],
   "source": [
    "assert not os.path.isfile(SIM_RUN_FILENAME)\n",
    "\n",
    "!echo NUMBA_DEFAULT_NUM_THREADS: $numba.config.NUMBA_DEFAULT_NUM_THREADS >> $SIM_RUN_FILENAME\n",
    "!echo NUMBA_NUM_THREADS: $numba.config.NUMBA_NUM_THREADS >> $SIM_RUN_FILENAME\n",
    "!lscpu >> $SIM_RUN_FILENAME\n",
    "!nvidia-smi >> $SIM_RUN_FILENAME\n",
    "!nvidia-smi -L >> $SIM_RUN_FILENAME\n",
    "\n",
    "!cat /proc/cpuinfo >> $SIM_RUN_FILENAME"
   ]
  },
  {
   "cell_type": "code",
   "execution_count": null,
   "metadata": {},
   "outputs": [],
   "source": [
    "CI = 'CI' in os.environ\n",
    "\n",
    "exponents = [3, 5, 8, 10, 12, 14, 16, 18, 20, 22, 24] if not CI else [3, 5]\n",
    "n_sds = [2 ** i for i in exponents]\n",
    "\n",
    "numba_n_threads = [1, 2, 4, 5, 6, 8, 10] if not CI else [1, 2]\n",
    "\n",
    "n_realisations = 3 if not CI else 2\n",
    "seeds = list(range(n_realisations))\n",
    "\n",
    "n_steps_short = 100 if not CI else 3\n",
    "n_steps_full = 2048 if not CI else 3"
   ]
  },
  {
   "cell_type": "markdown",
   "metadata": {},
   "source": [
    "  "
   ]
  },
  {
   "cell_type": "markdown",
   "metadata": {
    "id": "zRIO0J-C-PlE",
    "pycharm": {
     "name": "#%% md\n"
    }
   },
   "source": [
    "# Benchmark regular setup (without scaling)"
   ]
  },
  {
   "cell_type": "markdown",
   "metadata": {
    "id": "B9_nMuALeOdd",
    "pycharm": {
     "name": "#%% md\n"
    }
   },
   "source": [
    "### Coalescence-only"
   ]
  },
  {
   "cell_type": "code",
   "execution_count": null,
   "metadata": {
    "colab": {
     "base_uri": "https://localhost:8080/",
     "height": 408
    },
    "id": "igcjY2XPfTLq",
    "outputId": "c085dd3e-088c-4096-83a0-643be5343ac5",
    "pycharm": {
     "name": "#%%\n"
    },
    "scrolled": true
   },
   "outputs": [],
   "source": [
    "res_coalescence_only = go_benchmark(\n",
    "    setup_coalescence_only_sim, n_sds, n_steps_short, seeds, numba_n_threads=numba_n_threads, double_precision=True, \n",
    "    sim_run_filename=SIM_RUN_FILENAME + '-coalescence',\n",
    "    backends=[CPU, GPU]\n",
    ")"
   ]
  },
  {
   "cell_type": "code",
   "execution_count": null,
   "metadata": {
    "colab": {
     "base_uri": "https://localhost:8080/"
    },
    "id": "sXcOIaz70dFe",
    "outputId": "5869ade7-f18e-4d6f-e919-35e84c58f5d6",
    "pycharm": {
     "name": "#%%\n"
    },
    "scrolled": true
   },
   "outputs": [],
   "source": [
    "coalescence_only_processed = process_results(res_coalescence_only)"
   ]
  },
  {
   "cell_type": "code",
   "execution_count": null,
   "metadata": {
    "colab": {
     "base_uri": "https://localhost:8080/",
     "height": 488,
     "referenced_widgets": [
      "0dab1f08ab1d4f97aecf2795e132116a",
      "4188e05dc62b473c9d8636f1a935c548",
      "85360de6a1a64ca6b7c622599cf05516"
     ]
    },
    "id": "6P2uy4P5yl4R",
    "outputId": "2ad46abf-41e9-4617-f040-8650e82d18d0",
    "pycharm": {
     "name": "#%%\n"
    }
   },
   "outputs": [],
   "source": [
    "plot_processed_results(coalescence_only_processed, plot_title=f'coalescence-only (n_steps: {n_steps_short})')"
   ]
  },
  {
   "cell_type": "code",
   "execution_count": null,
   "metadata": {},
   "outputs": [],
   "source": [
    "filename=f\"{SIM_RUN_FILENAME}-results-coalescence-double-n_steps{n_steps_short}.txt\"\n",
    "write_to_file(filename=filename, d=coalescence_only_processed)"
   ]
  },
  {
   "cell_type": "markdown",
   "metadata": {
    "id": "ESxwZYQJAWPU",
    "pycharm": {
     "name": "#%% md\n"
    }
   },
   "source": [
    "### Breakup-only"
   ]
  },
  {
   "cell_type": "code",
   "execution_count": null,
   "metadata": {
    "colab": {
     "base_uri": "https://localhost:8080/"
    },
    "id": "G3uATRbn0kvP",
    "outputId": "e2b42ae0-a579-4442-f8a9-bdb11afd1780",
    "pycharm": {
     "name": "#%%\n"
    },
    "scrolled": true
   },
   "outputs": [],
   "source": [
    "res_breakup_only = go_benchmark(\n",
    "    setup_breakup_only_sim, n_sds, n_steps_short, seeds, numba_n_threads=numba_n_threads, double_precision=True,\n",
    "    sim_run_filename=SIM_RUN_FILENAME + '-breakup',\n",
    "    backends=[CPU, GPU]\n",
    ")"
   ]
  },
  {
   "cell_type": "code",
   "execution_count": null,
   "metadata": {
    "id": "NOnnkG_14L1k",
    "pycharm": {
     "name": "#%%\n"
    }
   },
   "outputs": [],
   "source": [
    "breakup_only_processed = process_results(res_breakup_only)"
   ]
  },
  {
   "cell_type": "code",
   "execution_count": null,
   "metadata": {
    "id": "b5jjNVtR4Ss1",
    "pycharm": {
     "name": "#%%\n"
    }
   },
   "outputs": [],
   "source": [
    "plot_processed_results(breakup_only_processed, plot_title=f'breakup-only  (n_steps: {n_steps_short})')"
   ]
  },
  {
   "cell_type": "code",
   "execution_count": null,
   "metadata": {},
   "outputs": [],
   "source": [
    "filename=f\"{SIM_RUN_FILENAME}-results-breakup-double-n_steps{n_steps_short}.txt\"\n",
    "write_to_file(filename=filename, d=breakup_only_processed)"
   ]
  },
  {
   "cell_type": "markdown",
   "metadata": {
    "id": "jkJrNYj24gEo",
    "pycharm": {
     "name": "#%% md\n"
    }
   },
   "source": [
    "### Coalescence and Breakup"
   ]
  },
  {
   "cell_type": "code",
   "execution_count": null,
   "metadata": {
    "id": "LwbWQYPA4ZAX",
    "pycharm": {
     "name": "#%%\n"
    },
    "scrolled": true
   },
   "outputs": [],
   "source": [
    "res_coal_breakup = go_benchmark(\n",
    "    setup_coalescence_breakup_sim, n_sds, n_steps_full, seeds, numba_n_threads=numba_n_threads, double_precision=True, \n",
    "    sim_run_filename=SIM_RUN_FILENAME + '-coal-break',\n",
    "    backends=[CPU, GPU]\n",
    ")"
   ]
  },
  {
   "cell_type": "code",
   "execution_count": null,
   "metadata": {
    "id": "rNQHIhvo4ZAX",
    "pycharm": {
     "name": "#%%\n"
    }
   },
   "outputs": [],
   "source": [
    "coal_breakup_processed = process_results(res_coal_breakup)"
   ]
  },
  {
   "cell_type": "code",
   "execution_count": null,
   "metadata": {
    "id": "Z2wL79a04ZAX",
    "pycharm": {
     "name": "#%%\n"
    }
   },
   "outputs": [],
   "source": [
    "plot_processed_results(coal_breakup_processed, plot_title=f'coalescence+breakup (n_steps: {n_steps_full})')"
   ]
  },
  {
   "cell_type": "code",
   "execution_count": null,
   "metadata": {
    "pycharm": {
     "name": "#%%\n"
    }
   },
   "outputs": [],
   "source": [
    "filename=f\"{SIM_RUN_FILENAME}-results-coal_with_breakup-double-n_steps{n_steps_full}.txt\"\n",
    "write_to_file(filename=filename, d=coal_breakup_processed)"
   ]
  },
  {
   "cell_type": "markdown",
   "metadata": {},
   "source": [
    " "
   ]
  },
  {
   "cell_type": "markdown",
   "metadata": {},
   "source": [
    "# Benchmark setup with scaling"
   ]
  },
  {
   "cell_type": "code",
   "execution_count": null,
   "metadata": {},
   "outputs": [],
   "source": [
    "def total_number_from_n_sd(n_sd):\n",
    "    return n_sd * 1e8\n",
    "\n",
    "def dv_from_n_sd(n_sd):\n",
    "    return n_sd * (0.125 * si.m**3)"
   ]
  },
  {
   "cell_type": "markdown",
   "metadata": {
    "id": "B9_nMuALeOdd",
    "pycharm": {
     "name": "#%% md\n"
    }
   },
   "source": [
    "### Coalescence-only"
   ]
  },
  {
   "cell_type": "code",
   "execution_count": null,
   "metadata": {
    "colab": {
     "base_uri": "https://localhost:8080/",
     "height": 408
    },
    "id": "igcjY2XPfTLq",
    "outputId": "c085dd3e-088c-4096-83a0-643be5343ac5",
    "pycharm": {
     "name": "#%%\n"
    },
    "scrolled": true
   },
   "outputs": [],
   "source": [
    "res_coalescence_only_scaled = go_benchmark(\n",
    "    setup_coalescence_only_sim, n_sds, n_steps_short, seeds, numba_n_threads=numba_n_threads, double_precision=True, \n",
    "    sim_run_filename=SIM_RUN_FILENAME + '-coalescence-scaled',\n",
    "    total_number=total_number_from_n_sd,\n",
    "    dv=dv_from_n_sd,\n",
    "    backends=[CPU, GPU]\n",
    ")"
   ]
  },
  {
   "cell_type": "code",
   "execution_count": null,
   "metadata": {
    "colab": {
     "base_uri": "https://localhost:8080/"
    },
    "id": "sXcOIaz70dFe",
    "outputId": "5869ade7-f18e-4d6f-e919-35e84c58f5d6",
    "pycharm": {
     "name": "#%%\n"
    },
    "scrolled": true
   },
   "outputs": [],
   "source": [
    "coalescence_only_processed_scaled = process_results(res_coalescence_only_scaled)"
   ]
  },
  {
   "cell_type": "code",
   "execution_count": null,
   "metadata": {
    "colab": {
     "base_uri": "https://localhost:8080/",
     "height": 488,
     "referenced_widgets": [
      "0dab1f08ab1d4f97aecf2795e132116a",
      "4188e05dc62b473c9d8636f1a935c548",
      "85360de6a1a64ca6b7c622599cf05516"
     ]
    },
    "id": "6P2uy4P5yl4R",
    "outputId": "2ad46abf-41e9-4617-f040-8650e82d18d0",
    "pycharm": {
     "name": "#%%\n"
    }
   },
   "outputs": [],
   "source": [
    "plot_processed_results(coalescence_only_processed_scaled, plot_title=f'coalescence-only with scaling (n_steps: {n_steps_short})')"
   ]
  },
  {
   "cell_type": "code",
   "execution_count": null,
   "metadata": {},
   "outputs": [],
   "source": [
    "filename=f\"{SIM_RUN_FILENAME}-results-scaled-coalescence-double-n_steps{n_steps_short}.txt\"\n",
    "write_to_file(filename=filename, d=coalescence_only_processed_scaled)"
   ]
  },
  {
   "cell_type": "markdown",
   "metadata": {
    "id": "ESxwZYQJAWPU",
    "pycharm": {
     "name": "#%% md\n"
    }
   },
   "source": [
    "### Breakup-only"
   ]
  },
  {
   "cell_type": "code",
   "execution_count": null,
   "metadata": {
    "colab": {
     "base_uri": "https://localhost:8080/"
    },
    "id": "G3uATRbn0kvP",
    "outputId": "e2b42ae0-a579-4442-f8a9-bdb11afd1780",
    "pycharm": {
     "name": "#%%\n"
    },
    "scrolled": true
   },
   "outputs": [],
   "source": [
    "res_breakup_only_scaled = go_benchmark(\n",
    "    setup_breakup_only_sim, n_sds, n_steps_short, seeds, numba_n_threads=numba_n_threads, double_precision=True,\n",
    "    sim_run_filename=SIM_RUN_FILENAME + '-breakup-scaled',\n",
    "    total_number=total_number_from_n_sd,\n",
    "    dv=dv_from_n_sd,\n",
    "    backends=[CPU, GPU]\n",
    ")"
   ]
  },
  {
   "cell_type": "code",
   "execution_count": null,
   "metadata": {
    "id": "NOnnkG_14L1k",
    "pycharm": {
     "name": "#%%\n"
    }
   },
   "outputs": [],
   "source": [
    "breakup_only_processed_scaled = process_results(res_breakup_only_scaled)"
   ]
  },
  {
   "cell_type": "code",
   "execution_count": null,
   "metadata": {
    "id": "b5jjNVtR4Ss1",
    "pycharm": {
     "name": "#%%\n"
    }
   },
   "outputs": [],
   "source": [
    "plot_processed_results(breakup_only_processed_scaled, plot_title=f'breakup-only with scaling (n_steps: {n_steps_short})')"
   ]
  },
  {
   "cell_type": "code",
   "execution_count": null,
   "metadata": {},
   "outputs": [],
   "source": [
    "filename=f\"{SIM_RUN_FILENAME}-results-scaled-breakup-double-n_steps{n_steps_short}.txt\"\n",
    "write_to_file(filename=filename, d=breakup_only_processed_scaled)"
   ]
  },
  {
   "cell_type": "markdown",
   "metadata": {
    "id": "jkJrNYj24gEo",
    "pycharm": {
     "name": "#%% md\n"
    }
   },
   "source": [
    "### Coalescence and Breakup"
   ]
  },
  {
   "cell_type": "code",
   "execution_count": null,
   "metadata": {
    "id": "LwbWQYPA4ZAX",
    "pycharm": {
     "name": "#%%\n"
    },
    "scrolled": true
   },
   "outputs": [],
   "source": [
    "res_coal_breakup_scaled = go_benchmark(\n",
    "    setup_coalescence_breakup_sim, n_sds, n_steps_full, seeds, numba_n_threads=numba_n_threads, double_precision=True, \n",
    "    sim_run_filename=SIM_RUN_FILENAME + '-coal-break-scaled',\n",
    "    total_number=total_number_from_n_sd,\n",
    "    dv=dv_from_n_sd,\n",
    "    backends=[CPU, GPU]\n",
    ")"
   ]
  },
  {
   "cell_type": "code",
   "execution_count": null,
   "metadata": {
    "id": "rNQHIhvo4ZAX",
    "pycharm": {
     "name": "#%%\n"
    }
   },
   "outputs": [],
   "source": [
    "coal_breakup_processed_scaled = process_results(res_coal_breakup_scaled)"
   ]
  },
  {
   "cell_type": "code",
   "execution_count": null,
   "metadata": {
    "id": "Z2wL79a04ZAX",
    "pycharm": {
     "name": "#%%\n"
    }
   },
   "outputs": [],
   "source": [
    "plot_processed_results(coal_breakup_processed_scaled, plot_title=f'coalescence+breakup with scaling (n_steps: {n_steps_full})')"
   ]
  },
  {
   "cell_type": "code",
   "execution_count": null,
   "metadata": {
    "pycharm": {
     "name": "#%%\n"
    }
   },
   "outputs": [],
   "source": [
    "filename=f\"{SIM_RUN_FILENAME}-results-scaled-coal_with_breakup-double-n_steps{n_steps_full}.txt\"\n",
    "write_to_file(filename=filename, d=coal_breakup_processed_scaled)"
   ]
  },
  {
   "cell_type": "code",
   "execution_count": null,
   "metadata": {},
   "outputs": [],
   "source": []
  }
 ],
 "metadata": {
  "accelerator": "GPU",
  "colab": {
   "gpuType": "T4",
   "provenance": []
  },
  "kernelspec": {
   "display_name": "pysdm_ex_venv",
   "language": "python",
   "name": "pysdm_ex_venv"
  },
  "language_info": {
   "codemirror_mode": {
    "name": "ipython",
    "version": 3
   },
   "file_extension": ".py",
   "mimetype": "text/x-python",
   "name": "python",
   "nbconvert_exporter": "python",
   "pygments_lexer": "ipython3",
   "version": "3.10.13"
  },
  "vscode": {
   "interpreter": {
    "hash": "b43cf254c70d60c2e21a7f71ba113e70c1694742e72407132919c841d907074b"
   }
  },
  "widgets": {
   "application/vnd.jupyter.widget-state+json": {
    "0dab1f08ab1d4f97aecf2795e132116a": {
     "model_module": "@jupyter-widgets/controls",
     "model_module_version": "1.5.0",
     "model_name": "ButtonModel",
     "state": {
      "_dom_classes": [],
      "_model_module": "@jupyter-widgets/controls",
      "_model_module_version": "1.5.0",
      "_model_name": "ButtonModel",
      "_view_count": null,
      "_view_module": "@jupyter-widgets/controls",
      "_view_module_version": "1.5.0",
      "_view_name": "ButtonView",
      "button_style": "",
      "description": "tmprayqfc55.pdf",
      "disabled": false,
      "icon": "",
      "layout": "IPY_MODEL_4188e05dc62b473c9d8636f1a935c548",
      "style": "IPY_MODEL_85360de6a1a64ca6b7c622599cf05516",
      "tooltip": ""
     }
    },
    "4188e05dc62b473c9d8636f1a935c548": {
     "model_module": "@jupyter-widgets/base",
     "model_module_version": "1.2.0",
     "model_name": "LayoutModel",
     "state": {
      "_model_module": "@jupyter-widgets/base",
      "_model_module_version": "1.2.0",
      "_model_name": "LayoutModel",
      "_view_count": null,
      "_view_module": "@jupyter-widgets/base",
      "_view_module_version": "1.2.0",
      "_view_name": "LayoutView",
      "align_content": null,
      "align_items": null,
      "align_self": null,
      "border": null,
      "bottom": null,
      "display": null,
      "flex": null,
      "flex_flow": null,
      "grid_area": null,
      "grid_auto_columns": null,
      "grid_auto_flow": null,
      "grid_auto_rows": null,
      "grid_column": null,
      "grid_gap": null,
      "grid_row": null,
      "grid_template_areas": null,
      "grid_template_columns": null,
      "grid_template_rows": null,
      "height": null,
      "justify_content": null,
      "justify_items": null,
      "left": null,
      "margin": null,
      "max_height": null,
      "max_width": null,
      "min_height": null,
      "min_width": null,
      "object_fit": null,
      "object_position": null,
      "order": null,
      "overflow": null,
      "overflow_x": null,
      "overflow_y": null,
      "padding": null,
      "right": null,
      "top": null,
      "visibility": null,
      "width": null
     }
    },
    "85360de6a1a64ca6b7c622599cf05516": {
     "model_module": "@jupyter-widgets/controls",
     "model_module_version": "1.5.0",
     "model_name": "ButtonStyleModel",
     "state": {
      "_model_module": "@jupyter-widgets/controls",
      "_model_module_version": "1.5.0",
      "_model_name": "ButtonStyleModel",
      "_view_count": null,
      "_view_module": "@jupyter-widgets/base",
      "_view_module_version": "1.2.0",
      "_view_name": "StyleView",
      "button_color": null,
      "font_weight": ""
     }
    }
   }
  }
 },
 "nbformat": 4,
 "nbformat_minor": 4
}
