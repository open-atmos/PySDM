{
 "cells": [
  {
   "cell_type": "markdown",
   "metadata": {
    "collapsed": false,
    "pycharm": {
     "name": "#%% md\n"
    }
   },
   "source": [
    "[![preview notebook](https://img.shields.io/static/v1?label=render%20on&logo=github&color=87ce3e&message=GitHub)](https://github.com/open-atmos/PySDM/blob/main/examples/PySDM_examples/deJong_Mackay_et_al_2023/figs_3_4_5.ipynb)\n",
    "[![launch on mybinder.org](https://mybinder.org/badge_logo.svg)](https://mybinder.org/v2/gh/open-atmos/PySDM.git/main?urlpath=lab/tree/examples/PySDM_examples/deJong_Mackay_et_al_2023/figs_3_4_5.ipynb)\n",
    "[![launch on Colab](https://colab.research.google.com/assets/colab-badge.svg)](https://colab.research.google.com/github/open-atmos/PySDM/blob/main/examples/PySDM_examples/deJong_Mackay_et_al_2023/figs_3_4_5.ipynb)"
   ]
  },
  {
   "metadata": {},
   "cell_type": "markdown",
   "source": "TODO #1417"
  },
  {
   "cell_type": "code",
   "metadata": {
    "pycharm": {
     "name": "#%%\n"
    },
    "ExecuteTime": {
     "end_time": "2024-12-06T13:25:16.495056Z",
     "start_time": "2024-12-06T13:25:16.490004Z"
    }
   },
   "source": [
    "import sys\n",
    "if 'google.colab' in sys.modules:\n",
    "    !pip --quiet install open-atmos-jupyter-utils\n",
    "    from open_atmos_jupyter_utils import pip_install_on_colab\n",
    "    pip_install_on_colab('PySDM-examples')"
   ],
   "outputs": [],
   "execution_count": 1
  },
  {
   "cell_type": "code",
   "metadata": {
    "pycharm": {
     "name": "#%%\n"
    },
    "ExecuteTime": {
     "end_time": "2024-12-06T13:25:18.103462Z",
     "start_time": "2024-12-06T13:25:16.501585Z"
    }
   },
   "source": [
    "import os\n",
    "from PySDM.physics import si\n",
    "from PySDM_examples.Srivastava_1982 import coalescence_and_breakup_eq13, Settings\n",
    "from open_atmos_jupyter_utils import show_plot"
   ],
   "outputs": [],
   "execution_count": 2
  },
  {
   "cell_type": "code",
   "metadata": {
    "pycharm": {
     "name": "#%%\n"
    },
    "ExecuteTime": {
     "end_time": "2024-12-06T13:25:18.205268Z",
     "start_time": "2024-12-06T13:25:18.202484Z"
    }
   },
   "source": [
    "dt = 1 * si.s\n",
    "dv = 1 * si.m**3\n",
    "drop_mass_0=1 * si.g\n",
    "total_number=1e6\n",
    "\n",
    "CI = 'CI' in os.environ\n",
    "\n",
    "n_realisations = 10 if not CI else 2\n",
    "n_steps = 2048 if not CI else 1"
   ],
   "outputs": [],
   "execution_count": 3
  },
  {
   "cell_type": "code",
   "metadata": {
    "pycharm": {
     "name": "#%%\n"
    }
   },
   "source": [
    "title = \"fig4_coalescence-only\"\n",
    "c = 0.5e-6 / si.s\n",
    "beta = 1e-15 / si.s\n",
    "frag_mass = -1 * si.g\n",
    "\n",
    "n_sds = (8, 32, 128, 256) if not CI else (8, 16)\n",
    "\n",
    "settings = Settings(\n",
    "    srivastava_c=c,\n",
    "    srivastava_beta=beta,\n",
    "    frag_mass=frag_mass,\n",
    "    drop_mass_0=drop_mass_0,\n",
    "    dt=dt,\n",
    "    dv=dv,\n",
    "    n_sds=n_sds,\n",
    "    total_number=total_number,\n",
    ")\n",
    "coalescence_and_breakup_eq13(\n",
    "    settings,\n",
    "    n_steps=n_steps,\n",
    "    n_realisations=n_realisations,\n",
    ")\n",
    "show_plot(f'{title}.pdf')"
   ],
   "outputs": [],
   "execution_count": null
  },
  {
   "cell_type": "code",
   "metadata": {
    "pycharm": {
     "name": "#%%\n"
    },
    "ExecuteTime": {
     "end_time": "2024-12-06T13:27:03.039336Z",
     "start_time": "2024-12-06T13:26:27.854202Z"
    }
   },
   "source": [
    "title = \"fig3_breakup-only\"\n",
    "c =  1e-15 / si.s\n",
    "beta = 1e-9 / si.s\n",
    "frag_mass = 0.25 * si.g\n",
    "\n",
    "n_sds = (8, 32, 128, 256) if not CI else (8, 16)\n",
    "\n",
    "settings = Settings(\n",
    "    srivastava_c=c,\n",
    "    srivastava_beta=beta,\n",
    "    frag_mass=frag_mass,\n",
    "    drop_mass_0=drop_mass_0,\n",
    "    dt=dt,\n",
    "    dv=dv,\n",
    "    n_sds=n_sds,\n",
    "    total_number=total_number,\n",
    ")\n",
    "coalescence_and_breakup_eq13(\n",
    "    settings,\n",
    "    n_steps=n_steps,\n",
    "    n_realisations=n_realisations,\n",
    ")\n",
    "show_plot(f'{title}.pdf')"
   ],
   "outputs": [
    {
     "name": "stderr",
     "output_type": "stream",
     "text": [
      "/Users/agnieszkazaba/PycharmProjects/PySDM/PySDM/backends/numba.py:47: UserWarning: Disabling Numba threading due to ARM64 CPU (atomics do not work yet)\n",
      "  warnings.warn(\n",
      "/Users/agnieszkazaba/PycharmProjects/PySDM/PySDM/backends/numba.py:47: UserWarning: Disabling Numba threading due to ARM64 CPU (atomics do not work yet)\n",
      "  warnings.warn(\n",
      "/Users/agnieszkazaba/PycharmProjects/PySDM/PySDM/backends/numba.py:47: UserWarning: Disabling Numba threading due to ARM64 CPU (atomics do not work yet)\n",
      "  warnings.warn(\n",
      "/Users/agnieszkazaba/PycharmProjects/PySDM/PySDM/backends/numba.py:47: UserWarning: Disabling Numba threading due to ARM64 CPU (atomics do not work yet)\n",
      "  warnings.warn(\n",
      "/Users/agnieszkazaba/PycharmProjects/PySDM/PySDM/backends/numba.py:47: UserWarning: Disabling Numba threading due to ARM64 CPU (atomics do not work yet)\n",
      "  warnings.warn(\n",
      "/Users/agnieszkazaba/PycharmProjects/PySDM/PySDM/backends/numba.py:47: UserWarning: Disabling Numba threading due to ARM64 CPU (atomics do not work yet)\n",
      "  warnings.warn(\n",
      "/Users/agnieszkazaba/PycharmProjects/PySDM/PySDM/backends/numba.py:47: UserWarning: Disabling Numba threading due to ARM64 CPU (atomics do not work yet)\n",
      "  warnings.warn(\n",
      "/Users/agnieszkazaba/PycharmProjects/PySDM/PySDM/backends/numba.py:47: UserWarning: Disabling Numba threading due to ARM64 CPU (atomics do not work yet)\n",
      "  warnings.warn(\n",
      "/Users/agnieszkazaba/PycharmProjects/PySDM/PySDM/backends/numba.py:47: UserWarning: Disabling Numba threading due to ARM64 CPU (atomics do not work yet)\n",
      "  warnings.warn(\n",
      "/Users/agnieszkazaba/PycharmProjects/PySDM/PySDM/backends/numba.py:47: UserWarning: Disabling Numba threading due to ARM64 CPU (atomics do not work yet)\n",
      "  warnings.warn(\n",
      "/Users/agnieszkazaba/PycharmProjects/PySDM/PySDM/backends/numba.py:47: UserWarning: Disabling Numba threading due to ARM64 CPU (atomics do not work yet)\n",
      "  warnings.warn(\n"
     ]
    },
    {
     "ename": "AssertionError",
     "evalue": "\nNot equal to tolerance rtol=0.001, atol=0\n\nMismatched elements: 1 / 2049 (0.0488%)\nMax absolute difference among violations: 0.0078125\nMax relative difference among violations: 0.0078125\n ACTUAL: array([1., 1., 1., ..., 1., 1., 1.])\n DESIRED: array(1.)",
     "output_type": "error",
     "traceback": [
      "\u001B[0;31m---------------------------------------------------------------------------\u001B[0m",
      "\u001B[0;31mAssertionError\u001B[0m                            Traceback (most recent call last)",
      "Cell \u001B[0;32mIn[5], line 18\u001B[0m\n\u001B[1;32m      6\u001B[0m n_sds \u001B[38;5;241m=\u001B[39m (\u001B[38;5;241m8\u001B[39m, \u001B[38;5;241m32\u001B[39m, \u001B[38;5;241m128\u001B[39m, \u001B[38;5;241m256\u001B[39m) \u001B[38;5;28;01mif\u001B[39;00m \u001B[38;5;129;01mnot\u001B[39;00m CI \u001B[38;5;28;01melse\u001B[39;00m (\u001B[38;5;241m8\u001B[39m, \u001B[38;5;241m16\u001B[39m)\n\u001B[1;32m      8\u001B[0m settings \u001B[38;5;241m=\u001B[39m Settings(\n\u001B[1;32m      9\u001B[0m     srivastava_c\u001B[38;5;241m=\u001B[39mc,\n\u001B[1;32m     10\u001B[0m     srivastava_beta\u001B[38;5;241m=\u001B[39mbeta,\n\u001B[0;32m   (...)\u001B[0m\n\u001B[1;32m     16\u001B[0m     total_number\u001B[38;5;241m=\u001B[39mtotal_number,\n\u001B[1;32m     17\u001B[0m )\n\u001B[0;32m---> 18\u001B[0m \u001B[43mcoalescence_and_breakup_eq13\u001B[49m\u001B[43m(\u001B[49m\n\u001B[1;32m     19\u001B[0m \u001B[43m    \u001B[49m\u001B[43msettings\u001B[49m\u001B[43m,\u001B[49m\n\u001B[1;32m     20\u001B[0m \u001B[43m    \u001B[49m\u001B[43mn_steps\u001B[49m\u001B[38;5;241;43m=\u001B[39;49m\u001B[43mn_steps\u001B[49m\u001B[43m,\u001B[49m\n\u001B[1;32m     21\u001B[0m \u001B[43m    \u001B[49m\u001B[43mn_realisations\u001B[49m\u001B[38;5;241;43m=\u001B[39;49m\u001B[43mn_realisations\u001B[49m\u001B[43m,\u001B[49m\n\u001B[1;32m     22\u001B[0m \u001B[43m)\u001B[49m\n\u001B[1;32m     23\u001B[0m show_plot(\u001B[38;5;124mf\u001B[39m\u001B[38;5;124m'\u001B[39m\u001B[38;5;132;01m{\u001B[39;00mtitle\u001B[38;5;132;01m}\u001B[39;00m\u001B[38;5;124m.pdf\u001B[39m\u001B[38;5;124m'\u001B[39m)\n",
      "File \u001B[0;32m~/PycharmProjects/PySDM/examples/PySDM_examples/Srivastava_1982/example.py:38\u001B[0m, in \u001B[0;36mcoalescence_and_breakup_eq13\u001B[0;34m(settings, n_steps, n_realisations, title, warn_overflows)\u001B[0m\n\u001B[1;32m     25\u001B[0m simulation \u001B[38;5;241m=\u001B[39m Simulation(\n\u001B[1;32m     26\u001B[0m     n_steps\u001B[38;5;241m=\u001B[39mn_steps,\n\u001B[1;32m     27\u001B[0m     settings\u001B[38;5;241m=\u001B[39msettings,\n\u001B[0;32m   (...)\u001B[0m\n\u001B[1;32m     34\u001B[0m     ),\n\u001B[1;32m     35\u001B[0m )\n\u001B[1;32m     37\u001B[0m x \u001B[38;5;241m=\u001B[39m np\u001B[38;5;241m.\u001B[39marange(n_steps \u001B[38;5;241m+\u001B[39m \u001B[38;5;241m1\u001B[39m, dtype\u001B[38;5;241m=\u001B[39m\u001B[38;5;28mfloat\u001B[39m)\n\u001B[0;32m---> 38\u001B[0m sim_products \u001B[38;5;241m=\u001B[39m \u001B[43msimulation\u001B[49m\u001B[38;5;241;43m.\u001B[39;49m\u001B[43mrun_convergence_analysis\u001B[49m\u001B[43m(\u001B[49m\u001B[43mx\u001B[49m\u001B[43m,\u001B[49m\u001B[43m \u001B[49m\u001B[43mseeds\u001B[49m\u001B[38;5;241;43m=\u001B[39;49m\u001B[43mseeds\u001B[49m\u001B[43m)\u001B[49m\n\u001B[1;32m     40\u001B[0m secondary_products \u001B[38;5;241m=\u001B[39m get_pysdm_secondary_products(\n\u001B[1;32m     41\u001B[0m     products\u001B[38;5;241m=\u001B[39msim_products, total_volume\u001B[38;5;241m=\u001B[39msettings\u001B[38;5;241m.\u001B[39mtotal_volume\n\u001B[1;32m     42\u001B[0m )\n\u001B[1;32m     44\u001B[0m pysdm_results \u001B[38;5;241m=\u001B[39m get_processed_results(secondary_products)\n",
      "File \u001B[0;32m~/PycharmProjects/PySDM/examples/PySDM_examples/Srivastava_1982/simulation.py:77\u001B[0m, in \u001B[0;36mSimulation.run_convergence_analysis\u001B[0;34m(self, x, seeds)\u001B[0m\n\u001B[1;32m     72\u001B[0m             \u001B[38;5;28;01mfor\u001B[39;00m prod \u001B[38;5;129;01min\u001B[39;00m \u001B[38;5;28mself\u001B[39m\u001B[38;5;241m.\u001B[39msettings\u001B[38;5;241m.\u001B[39mprods:\n\u001B[1;32m     73\u001B[0m                 (\u001B[38;5;28mself\u001B[39m\u001B[38;5;241m.\u001B[39msimulation_res[n_sd][prod][seed][step],) \u001B[38;5;241m=\u001B[39m (\n\u001B[1;32m     74\u001B[0m                     particulator\u001B[38;5;241m.\u001B[39mproducts[prod]\u001B[38;5;241m.\u001B[39mget()\n\u001B[1;32m     75\u001B[0m                 )\n\u001B[0;32m---> 77\u001B[0m         \u001B[43mnp\u001B[49m\u001B[38;5;241;43m.\u001B[39;49m\u001B[43mtesting\u001B[49m\u001B[38;5;241;43m.\u001B[39;49m\u001B[43massert_allclose\u001B[49m\u001B[43m(\u001B[49m\n\u001B[1;32m     78\u001B[0m \u001B[43m            \u001B[49m\u001B[43mactual\u001B[49m\u001B[38;5;241;43m=\u001B[39;49m\u001B[38;5;28;43mself\u001B[39;49m\u001B[38;5;241;43m.\u001B[39;49m\u001B[43msimulation_res\u001B[49m\u001B[43m[\u001B[49m\u001B[43mn_sd\u001B[49m\u001B[43m]\u001B[49m\u001B[43m[\u001B[49m\n\u001B[1;32m     79\u001B[0m \u001B[43m                \u001B[49m\u001B[43mSimProducts\u001B[49m\u001B[38;5;241;43m.\u001B[39;49m\u001B[43mPySDM\u001B[49m\u001B[38;5;241;43m.\u001B[39;49m\u001B[43mtotal_volume\u001B[49m\u001B[38;5;241;43m.\u001B[39;49m\u001B[43mname\u001B[49m\n\u001B[1;32m     80\u001B[0m \u001B[43m            \u001B[49m\u001B[43m]\u001B[49m\u001B[43m[\u001B[49m\u001B[43mseed\u001B[49m\u001B[43m]\u001B[49m\u001B[43m,\u001B[49m\n\u001B[1;32m     81\u001B[0m \u001B[43m            \u001B[49m\u001B[43mdesired\u001B[49m\u001B[38;5;241;43m=\u001B[39;49m\u001B[38;5;28;43mself\u001B[39;49m\u001B[38;5;241;43m.\u001B[39;49m\u001B[43msettings\u001B[49m\u001B[38;5;241;43m.\u001B[39;49m\u001B[43mtotal_volume\u001B[49m\u001B[43m,\u001B[49m\n\u001B[1;32m     82\u001B[0m \u001B[43m            \u001B[49m\u001B[43mrtol\u001B[49m\u001B[38;5;241;43m=\u001B[39;49m\u001B[38;5;241;43m1e-3\u001B[39;49m\u001B[43m,\u001B[49m\n\u001B[1;32m     83\u001B[0m \u001B[43m        \u001B[49m\u001B[43m)\u001B[49m\n\u001B[1;32m     85\u001B[0m \u001B[38;5;28;01mreturn\u001B[39;00m \u001B[38;5;28mself\u001B[39m\u001B[38;5;241m.\u001B[39msimulation_res\n",
      "    \u001B[0;31m[... skipping hidden 1 frame]\u001B[0m\n",
      "File \u001B[0;32m/Library/Developer/CommandLineTools/Library/Frameworks/Python3.framework/Versions/3.9/lib/python3.9/contextlib.py:79\u001B[0m, in \u001B[0;36mContextDecorator.__call__.<locals>.inner\u001B[0;34m(*args, **kwds)\u001B[0m\n\u001B[1;32m     76\u001B[0m \u001B[38;5;129m@wraps\u001B[39m(func)\n\u001B[1;32m     77\u001B[0m \u001B[38;5;28;01mdef\u001B[39;00m \u001B[38;5;21minner\u001B[39m(\u001B[38;5;241m*\u001B[39margs, \u001B[38;5;241m*\u001B[39m\u001B[38;5;241m*\u001B[39mkwds):\n\u001B[1;32m     78\u001B[0m     \u001B[38;5;28;01mwith\u001B[39;00m \u001B[38;5;28mself\u001B[39m\u001B[38;5;241m.\u001B[39m_recreate_cm():\n\u001B[0;32m---> 79\u001B[0m         \u001B[38;5;28;01mreturn\u001B[39;00m \u001B[43mfunc\u001B[49m\u001B[43m(\u001B[49m\u001B[38;5;241;43m*\u001B[39;49m\u001B[43margs\u001B[49m\u001B[43m,\u001B[49m\u001B[43m \u001B[49m\u001B[38;5;241;43m*\u001B[39;49m\u001B[38;5;241;43m*\u001B[39;49m\u001B[43mkwds\u001B[49m\u001B[43m)\u001B[49m\n",
      "File \u001B[0;32m~/PycharmProjects/venv/lib/python3.9/site-packages/numpy/testing/_private/utils.py:885\u001B[0m, in \u001B[0;36massert_array_compare\u001B[0;34m(comparison, x, y, err_msg, verbose, header, precision, equal_nan, equal_inf, strict, names)\u001B[0m\n\u001B[1;32m    880\u001B[0m         err_msg \u001B[38;5;241m+\u001B[39m\u001B[38;5;241m=\u001B[39m \u001B[38;5;124m'\u001B[39m\u001B[38;5;130;01m\\n\u001B[39;00m\u001B[38;5;124m'\u001B[39m \u001B[38;5;241m+\u001B[39m \u001B[38;5;124m'\u001B[39m\u001B[38;5;130;01m\\n\u001B[39;00m\u001B[38;5;124m'\u001B[39m\u001B[38;5;241m.\u001B[39mjoin(remarks)\n\u001B[1;32m    881\u001B[0m         msg \u001B[38;5;241m=\u001B[39m build_err_msg([ox, oy], err_msg,\n\u001B[1;32m    882\u001B[0m                             verbose\u001B[38;5;241m=\u001B[39mverbose, header\u001B[38;5;241m=\u001B[39mheader,\n\u001B[1;32m    883\u001B[0m                             names\u001B[38;5;241m=\u001B[39mnames,\n\u001B[1;32m    884\u001B[0m                             precision\u001B[38;5;241m=\u001B[39mprecision)\n\u001B[0;32m--> 885\u001B[0m         \u001B[38;5;28;01mraise\u001B[39;00m \u001B[38;5;167;01mAssertionError\u001B[39;00m(msg)\n\u001B[1;32m    886\u001B[0m \u001B[38;5;28;01mexcept\u001B[39;00m \u001B[38;5;167;01mValueError\u001B[39;00m:\n\u001B[1;32m    887\u001B[0m     \u001B[38;5;28;01mimport\u001B[39;00m \u001B[38;5;21;01mtraceback\u001B[39;00m\n",
      "\u001B[0;31mAssertionError\u001B[0m: \nNot equal to tolerance rtol=0.001, atol=0\n\nMismatched elements: 1 / 2049 (0.0488%)\nMax absolute difference among violations: 0.0078125\nMax relative difference among violations: 0.0078125\n ACTUAL: array([1., 1., 1., ..., 1., 1., 1.])\n DESIRED: array(1.)"
     ]
    }
   ],
   "execution_count": 5
  },
  {
   "cell_type": "code",
   "metadata": {
    "pycharm": {
     "name": "#%%\n"
    }
   },
   "source": [
    "title = \"fig5_coalescence-breakup\"\n",
    "c =  0.5e-6 / si.s\n",
    "beta = 1e-9 / si.s\n",
    "frag_mass = 0.25 * si.g\n",
    "\n",
    "n_sds = [2 ** power for power in range(8, 12)] if not CI else (8, 16)\n",
    "\n",
    "settings = Settings(\n",
    "    srivastava_c=c,\n",
    "    srivastava_beta=beta,\n",
    "    frag_mass=frag_mass,\n",
    "    drop_mass_0=drop_mass_0,\n",
    "    dt=dt,\n",
    "    dv=dv,\n",
    "    n_sds=n_sds,\n",
    "    total_number=total_number,\n",
    ")\n",
    "coalescence_and_breakup_eq13(\n",
    "    settings,\n",
    "    n_steps=n_steps,\n",
    "    n_realisations=n_realisations,\n",
    ")\n",
    "show_plot(f'{title}.pdf')"
   ],
   "outputs": [],
   "execution_count": null
  },
  {
   "metadata": {},
   "cell_type": "code",
   "outputs": [],
   "execution_count": null,
   "source": ""
  }
 ],
 "metadata": {
  "kernelspec": {
   "display_name": "edjPySDM",
   "language": "python",
   "name": "python3"
  },
  "language_info": {
   "codemirror_mode": {
    "name": "ipython",
    "version": 2
   },
   "file_extension": ".py",
   "mimetype": "text/x-python",
   "name": "python",
   "nbconvert_exporter": "python",
   "pygments_lexer": "ipython2",
   "version": "3.9.4 (default, Apr  9 2021, 09:32:38) \n[Clang 10.0.0 ]"
  },
  "vscode": {
   "interpreter": {
    "hash": "b43cf254c70d60c2e21a7f71ba113e70c1694742e72407132919c841d907074b"
   }
  }
 },
 "nbformat": 4,
 "nbformat_minor": 0
}
