{
 "cells": [
  {
   "cell_type": "markdown",
   "metadata": {
    "collapsed": false,
    "pycharm": {
     "name": "#%% md\n"
    }
   },
   "source": [
    "[![nbviewer](https://raw.githubusercontent.com/jupyter/design/master/logos/Badges/nbviewer_badge.svg)](https://nbviewer.jupyter.org/github/open-atmos/PySDM/blob/main/examples/PySDM_examples/deJong_Mackay_et_al_2023/figs_3_4_5.ipynb)\n",
    "[![Binder](https://mybinder.org/badge_logo.svg)](https://mybinder.org/v2/gh/open-atmos/PySDM.git/main?urlpath=examples/PySDM_examples/deJong_Mackay_et_al_2023/figs_3_4_5.ipynb)\n",
    "[![Open In Colab](https://colab.research.google.com/assets/colab-badge.svg)](https://colab.research.google.com/github/open-atmos/PySDM/blob/main/examples/PySDM_examples/deJong_Mackay_et_al_2023/figs_3_4_5.ipynb)"
   ]
  },
  {
   "cell_type": "code",
   "execution_count": null,
   "metadata": {
    "pycharm": {
     "name": "#%%\n"
    }
   },
   "outputs": [],
   "source": [
    "import sys\n",
    "if 'google.colab' in sys.modules:\n",
    "    !pip --quiet install open-atmos-jupyter-utils\n",
    "    from open_atmos_jupyter_utils import pip_install_on_colab\n",
    "    pip_install_on_colab('PySDM-examples')"
   ]
  },
  {
   "cell_type": "code",
   "execution_count": null,
   "metadata": {
    "pycharm": {
     "name": "#%%\n"
    }
   },
   "outputs": [],
   "source": [
    "import os\n",
    "from PySDM.physics import si\n",
    "from PySDM_examples.Srivastava_1982 import coalescence_and_breakup_eq13, Settings\n",
    "from open_atmos_jupyter_utils import show_plot"
   ]
  },
  {
   "cell_type": "code",
   "execution_count": null,
   "metadata": {
    "pycharm": {
     "name": "#%%\n"
    }
   },
   "outputs": [],
   "source": [
    "dt = 1 * si.s\n",
    "dv = 1 * si.m**3\n",
    "drop_mass_0=1 * si.g\n",
    "total_number=1e6\n",
    "\n",
    "CI = 'CI' in os.environ\n",
    "\n",
    "n_realisations = 10 if not CI else 2\n",
    "n_steps = 2048 if not CI else 1"
   ]
  },
  {
   "cell_type": "code",
   "execution_count": null,
   "metadata": {
    "pycharm": {
     "name": "#%%\n"
    }
   },
   "outputs": [],
   "source": [
    "title = \"fig4_coalescence-only\"\n",
    "c = 0.5e-6 / si.s\n",
    "beta = 1e-15 / si.s\n",
    "frag_mass = -1 * si.g\n",
    "\n",
    "n_sds = (8, 32, 128, 256) if not CI else (8, 16)\n",
    "\n",
    "settings = Settings(\n",
    "    srivastava_c=c,\n",
    "    srivastava_beta=beta,\n",
    "    frag_mass=frag_mass,\n",
    "    drop_mass_0=drop_mass_0,\n",
    "    dt=dt,\n",
    "    dv=dv,\n",
    "    n_sds=n_sds,\n",
    "    total_number=total_number,\n",
    ")\n",
    "coalescence_and_breakup_eq13(\n",
    "    settings,\n",
    "    n_steps=n_steps,\n",
    "    n_realisations=n_realisations,\n",
    ")\n",
    "show_plot(f'{title}.pdf')"
   ]
  },
  {
   "cell_type": "code",
   "execution_count": null,
   "metadata": {
    "pycharm": {
     "name": "#%%\n"
    }
   },
   "outputs": [],
   "source": [
    "title = \"fig3_breakup-only\"\n",
    "c =  1e-15 / si.s\n",
    "beta = 1e-9 / si.s\n",
    "frag_mass = 0.25 * si.g\n",
    "\n",
    "n_sds = (8, 32, 128, 256) if not CI else (8, 16)\n",
    "\n",
    "settings = Settings(\n",
    "    srivastava_c=c,\n",
    "    srivastava_beta=beta,\n",
    "    frag_mass=frag_mass,\n",
    "    drop_mass_0=drop_mass_0,\n",
    "    dt=dt,\n",
    "    dv=dv,\n",
    "    n_sds=n_sds,\n",
    "    total_number=total_number,\n",
    ")\n",
    "coalescence_and_breakup_eq13(\n",
    "    settings,\n",
    "    n_steps=n_steps,\n",
    "    n_realisations=n_realisations,\n",
    ")\n",
    "show_plot(f'{title}.pdf')"
   ]
  },
  {
   "cell_type": "code",
   "execution_count": null,
   "metadata": {
    "pycharm": {
     "name": "#%%\n"
    }
   },
   "outputs": [],
   "source": [
    "title = \"fig5_coalescence-breakup\"\n",
    "c =  0.5e-6 / si.s\n",
    "beta = 1e-9 / si.s\n",
    "frag_mass = 0.25 * si.g\n",
    "\n",
    "n_sds = [2 ** power for power in range(8, 12)] if not CI else (8, 16)\n",
    "\n",
    "settings = Settings(\n",
    "    srivastava_c=c,\n",
    "    srivastava_beta=beta,\n",
    "    frag_mass=frag_mass,\n",
    "    drop_mass_0=drop_mass_0,\n",
    "    dt=dt,\n",
    "    dv=dv,\n",
    "    n_sds=n_sds,\n",
    "    total_number=total_number,\n",
    ")\n",
    "coalescence_and_breakup_eq13(\n",
    "    settings,\n",
    "    n_steps=n_steps,\n",
    "    n_realisations=n_realisations,\n",
    ")\n",
    "show_plot(f'{title}.pdf')"
   ]
  },
  {
   "cell_type": "code",
   "execution_count": null,
   "metadata": {
    "pycharm": {
     "name": "#%%\n"
    }
   },
   "outputs": [],
   "source": []
  }
 ],
 "metadata": {
  "kernelspec": {
   "display_name": "edjPySDM",
   "language": "python",
   "name": "python3"
  },
  "language_info": {
   "codemirror_mode": {
    "name": "ipython",
    "version": 2
   },
   "file_extension": ".py",
   "mimetype": "text/x-python",
   "name": "python",
   "nbconvert_exporter": "python",
   "pygments_lexer": "ipython2",
   "version": "3.9.4 (default, Apr  9 2021, 09:32:38) \n[Clang 10.0.0 ]"
  },
  "vscode": {
   "interpreter": {
    "hash": "b43cf254c70d60c2e21a7f71ba113e70c1694742e72407132919c841d907074b"
   }
  }
 },
 "nbformat": 4,
 "nbformat_minor": 0
}
