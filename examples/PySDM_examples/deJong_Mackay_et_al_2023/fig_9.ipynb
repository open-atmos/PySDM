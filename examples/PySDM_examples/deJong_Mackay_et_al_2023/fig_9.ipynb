{
 "cells": [
  {
   "cell_type": "markdown",
   "metadata": {},
   "source": [
    "[![View notebook](https://img.shields.io/static/v1?label=render%20on&logo=github&color=87ce3e&message=GitHub)](https://github.com/open-atmos/PySDM/blob/main/examples/PySDM_examples/deJong_Mackay_et_al_2023/fig_9.ipynb)\n",
    "[![Binder](https://mybinder.org/badge_logo.svg)](https://mybinder.org/v2/gh/open-atmos/PySDM.git/main?urlpath=lab/tree/examples/PySDM_examples/deJong_Mackay_et_al_2023/fig_9.ipynb)\n",
    "[![Open In Colab](https://colab.research.google.com/assets/colab-badge.svg)](https://colab.research.google.com/github/open-atmos/PySDM/blob/main/examples/PySDM_examples/deJong_Mackay_et_al_2023/fig_9.ipynb)"
   ]
  },
  {
   "cell_type": "markdown",
   "metadata": {},
   "source": [
    "#### based on Fig. 10 from [Straub et al. 2010 (J. Atmos. Sci. 67)  \"_Numerical Investigation of Collision-Induced Breakup of Raindrops, Part II: Parameterizations of Coalescence Efficiencies and Fragment Size Distributions_\"](https://doi.org/10.1175/2009JAS3175.1)"
   ]
  },
  {
   "cell_type": "code",
   "execution_count": null,
   "metadata": {},
   "outputs": [],
   "source": [
    "from matplotlib import pyplot\n",
    "import matplotlib\n",
    "from PySDM_examples.deJong_Mackay_et_al_2023 import run_to_steady_state, get_straub_fig10_data, get_straub_fig10_init\n",
    "from open_atmos_jupyter_utils import show_plot\n",
    "import numpy as np\n",
    "from PySDM.physics.constants import si\n",
    "import pickle as pkl\n",
    "import time\n",
    "import os"
   ]
  },
  {
   "cell_type": "code",
   "execution_count": null,
   "metadata": {},
   "outputs": [],
   "source": [
    "(straub_x, straub_log_y, straub_dvdlnr_ss) = get_straub_fig10_data()\n",
    "(straub_x_init, straub_y_init, straub_dvdlnr_init) = get_straub_fig10_init()"
   ]
  },
  {
   "cell_type": "code",
   "execution_count": null,
   "metadata": {},
   "outputs": [],
   "source": [
    "CI = 'CI' in os.environ\n",
    "run_sims = True\n",
    "parameterization = 'Straub2010'\n",
    "dt = 1 * si.s\n",
    "n_sds = (2**6, 2**10, 2**14) if not CI else (32,)\n",
    "steps = (0, 7200) \n",
    "nruns = 10 if not CI else 1\n",
    "\n",
    "colors = {32: 'red', 2**6: 'blue', 2**10: 'orange', 2**14: 'green'}\n",
    "\n",
    "kwargs = {'nrows': 1, 'ncols': 2, 'figsize': (10, 4)}\n",
    "fig, ax = pyplot.subplots(**kwargs)\n",
    "fig2, ax2 = pyplot.subplots(**kwargs)      \n",
    "\n",
    "# Obtain data\n",
    "for n_sd in n_sds:\n",
    "    lbl = f\"{n_sd} SDs\"\n",
    "    if run_sims:\n",
    "        t1 = time.time()\n",
    "        run_to_steady_state(parameterization, n_sd, steps, nruns, dt=dt)\n",
    "        t2 = time.time()\n",
    "        print(f'ran {parameterization} for {n_sd} superdroplets in {t2 - t1} sec')\n",
    "    data_filename = f'steadystate_{parameterization}_{n_sd}sd.pkl'\n",
    "    with open(data_filename, 'rb') as handle:\n",
    "        (x, y_ensemble, y2_ensemble, rates) = pkl.load(handle)\n",
    "    \n",
    "    # statistics\n",
    "    # mass density\n",
    "    y_mean = np.nanmean(y_ensemble, axis=0)\n",
    "    y_std = np.nanstd(y_ensemble, axis=0)\n",
    "\n",
    "    # number density\n",
    "    y2_mean = np.nanmean(y2_ensemble, axis=0)\n",
    "    y2_std = np.nanstd(y2_ensemble, axis=0)\n",
    "\n",
    "    # Plotting\n",
    "    cmap = matplotlib.colormaps['viridis']\n",
    "    dr = np.diff(x) * si.um\n",
    "    dr = np.concatenate([dr, [dr[-1]]])\n",
    "\n",
    "    for (j, step) in enumerate(steps):\n",
    "        idx = 1 if step != 0 else 0\n",
    "        label = lbl if lbl not in pyplot.gca().get_legend_handles_labels()[1] else ''\n",
    "        ax[idx].step(\n",
    "            2*x*si.mm,\n",
    "            y2_mean[j]/2/dr * si.mm,\n",
    "            linestyle='-',\n",
    "            color=colors[n_sd],\n",
    "            label=label\n",
    "        )\n",
    "        if step != 0:\n",
    "            ax[idx].fill_between(\n",
    "                2*x*si.mm,\n",
    "                y2_mean[j]/2/dr * si.mm - y2_std[j]/2/dr * si.mm, \n",
    "                y2_mean[j]/2/dr * si.mm + y2_std[j]/2/dr * si.mm,\n",
    "                color=colors[n_sd],\n",
    "                alpha=0.2\n",
    "            )            \n",
    "        ax2[idx].step(\n",
    "            2*x*si.mm,\n",
    "            y_mean[j],\n",
    "            linestyle='-',\n",
    "            color=colors[n_sd],\n",
    "            label=label\n",
    "        )\n",
    "        if step != 0:\n",
    "            ax2[idx].fill_between(\n",
    "                2*x*si.mm,\n",
    "                y_mean[j] - y_std[j], \n",
    "                y_mean[j] + y_std[j],\n",
    "                color=colors[n_sd],\n",
    "                alpha=0.2\n",
    "            )\n",
    "            \n",
    "# Reference data\n",
    "kwargs = {\"label\": \"Reference\", \"linestyle\": \"--\", \"color\": \"k\"}\n",
    "ax[0].plot(straub_x_init/si.mm, straub_y_init, **kwargs)\n",
    "ax[1].plot(straub_x/si.mm, np.power(10, straub_log_y), **kwargs)\n",
    "ax2[0].plot(straub_x_init/si.mm, straub_dvdlnr_init, **kwargs)\n",
    "ax2[1].plot(straub_x/si.mm, straub_dvdlnr_ss / si.mm, **kwargs)\n",
    "\n",
    "for _ax in (ax[0], ax[1]):\n",
    "    _ax.set_yscale(\"log\")\n",
    "    _ax.set_xlim([0.0, 7.0])\n",
    "    _ax.set_ylim([4.0, 2e4])\n",
    "for _ax in (ax2[0], ax2[1]):\n",
    "    _ax.set_xscale(\"log\")\n",
    "    _ax.set_xlim([0.2, 8.0])\n",
    "    _ax.set_ylim([0.0, 2e-5])\n",
    "for _ax in (ax[0], ax[1], ax2[0], ax2[1]):\n",
    "    _ax.set_xlabel(\"particle diameter (mm)\")\n",
    "\n",
    "ax[0].set_ylabel(\"N(v) (m$^{-3}$ mm$^{-1})$\")\n",
    "ax2[0].set_ylabel(\"dv/dlnr\")\n",
    "\n",
    "ax[0].legend()\n",
    "ax[0].set_title(\"(a) Initial Condition\")\n",
    "ax[1].set_title(\"(b) Steady State\")\n",
    "show_plot('fig9_straub_fig10.pdf', fig=fig)\n",
    "show_plot('straub_dvdlnr.pdf', fig=fig2)"
   ]
  }
 ],
 "metadata": {
  "kernelspec": {
   "display_name": "Python 3 (ipykernel)",
   "language": "python",
   "name": "python3"
  },
  "language_info": {
   "codemirror_mode": {
    "name": "ipython",
    "version": 3
   },
   "file_extension": ".py",
   "mimetype": "text/x-python",
   "name": "python",
   "nbconvert_exporter": "python",
   "pygments_lexer": "ipython3",
   "version": "3.9.2"
  },
  "vscode": {
   "interpreter": {
    "hash": "b43cf254c70d60c2e21a7f71ba113e70c1694742e72407132919c841d907074b"
   }
  }
 },
 "nbformat": 4,
 "nbformat_minor": 4
}
