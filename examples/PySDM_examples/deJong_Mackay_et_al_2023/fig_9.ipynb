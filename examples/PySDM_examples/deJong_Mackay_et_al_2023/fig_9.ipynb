{
 "cells": [
  {
   "cell_type": "markdown",
   "metadata": {},
   "source": [
    "[![nbviewer](https://raw.githubusercontent.com/jupyter/design/master/logos/Badges/nbviewer_badge.svg)](https://nbviewer.jupyter.org/github/open-atmos/PySDM/blob/main/examples/PySDM_examples/deJong_Mackay_et_al_2023/straub_fig10.ipynb)    \n",
    "[![Binder](https://mybinder.org/badge_logo.svg)](https://mybinder.org/v2/gh/open-atmos/PySDM.git/main?urlpath=examples/PySDM_examples/deJong_Mackay_et_al_2023/straub_fig10.ipynb)    \n",
    "[![Open In Colab](https://colab.research.google.com/assets/colab-badge.svg)](https://colab.research.google.com/github/open-atmos/PySDM/blob/main/examples/PySDM_examples/deJong_Mackay_et_al_2023/straub_fig10.ipynb)"
   ]
  },
  {
   "cell_type": "markdown",
   "metadata": {},
   "source": [
    "#### based on Fig. 10 from Straub et al. 2010 (J. Atmos. Sci. 67)  \"_Numerical Investigation of Collision-Induced Breakup of Raindrops, Part II: Parameterizations of Coalescence Efficiencies and Fragment Size Distributions_\"   \n",
    "DOI: 10.1175/2009JAS3175.1"
   ]
  },
  {
   "cell_type": "code",
   "execution_count": null,
   "metadata": {},
   "outputs": [],
   "source": [
    "from matplotlib import pyplot\n",
    "import matplotlib\n",
    "from PySDM_examples.deJong_Mackay_et_al_2023 import run_to_steady_state, get_straub_fig10_data, get_straub_fig10_init\n",
    "from open_atmos_jupyter_utils import show_plot\n",
    "import numpy as np\n",
    "from PySDM.physics.constants import si\n",
    "import pickle as pkl\n",
    "import time\n",
    "import os"
   ]
  },
  {
   "cell_type": "code",
   "execution_count": null,
   "metadata": {},
   "outputs": [],
   "source": [
    "(straub_x, straub_log_y, straub_dvdlnr_ss) = get_straub_fig10_data()\n",
    "(straub_x_init, straub_y_init, straub_dvdlnr_init) = get_straub_fig10_init()"
   ]
  },
  {
   "cell_type": "code",
   "execution_count": null,
   "metadata": {},
   "outputs": [],
   "source": [
    "run_sims = True\n",
    "n_sds = [2**6, 2**10, 2**14] if 'CI' not in os.environ else [32]\n",
    "steps = [0, 7200] \n",
    "nruns = 10 if 'CI' not in os.environ else 1\n",
    "\n",
    "(fig, ax) = pyplot.subplots(nrows=1, ncols=2, figsize=(10,4))\n",
    "(fig2, ax2) = pyplot.subplots(nrows=1, ncols=2, figsize=(10,4))      \n",
    "\n",
    "# Obtain data\n",
    "parameterization = 'Straub2010'\n",
    "for n_sd in n_sds:\n",
    "    if run_sims:\n",
    "        t1 = time.time()\n",
    "        run_to_steady_state(parameterization, n_sd, steps, nruns, dt=1*si.s)\n",
    "        t2 = time.time()\n",
    "        print('ran '+parameterization+' for '+str(n_sd)+' superdroplets in '+str(t2 - t1)+' sec')\n",
    "    data_filename = 'steadystate_' + parameterization + '_' + str(n_sd) + 'sd.pkl'\n",
    "    with open(data_filename, 'rb') as handle:\n",
    "        (x, y_ensemble, y2_ensemble, rates) = pkl.load(handle)\n",
    "    \n",
    "    # statistics\n",
    "    # mass density\n",
    "    y_mean = np.nanmean(y_ensemble, axis=0)\n",
    "    y_std = np.nanstd(y_ensemble, axis=0)\n",
    "\n",
    "    # number density\n",
    "    y2_mean = np.nanmean(y2_ensemble, axis=0)\n",
    "    y2_std = np.nanstd(y2_ensemble, axis=0)\n",
    "\n",
    "    # Plotting\n",
    "    cmap = matplotlib.cm.get_cmap('viridis')\n",
    "    dr = np.diff(x) * si.um\n",
    "    dr = np.concatenate([dr, [dr[-1]]])\n",
    "\n",
    "    legend_entries = []\n",
    "\n",
    "    color = next(ax[0]._get_lines.prop_cycler)['color'] # pylint: disable=protected-access\n",
    "    for (j, step) in enumerate(steps):  # pylint: disable=protected-access\n",
    "        if step != 0:\n",
    "            lbl = str(n_sd) + ' SDs'\n",
    "            ax[1].step(2*x*si.mm, y2_mean[j]/2/dr * si.mm,linestyle='-',color=color,\n",
    "                label= lbl if lbl not in pyplot.gca().get_legend_handles_labels()[1] else '')\n",
    "            ax[1].fill_between(2*x*si.mm, y2_mean[j]/2/dr * si.mm - y2_std[j]/2/dr * si.mm, \n",
    "                               y2_mean[j]/2/dr * si.mm + y2_std[j]/2/dr * si.mm, color=color, alpha=0.2)\n",
    "            \n",
    "            ax2[1].step(2*x*si.mm, y_mean[j],linestyle='-',color=color,\n",
    "                label= lbl if lbl not in pyplot.gca().get_legend_handles_labels()[1] else '')\n",
    "            ax2[1].fill_between(2*x*si.mm, y_mean[j] - y_std[j], \n",
    "                    y_mean[j] + y_std[j], color=color, alpha=0.2)\n",
    "        else:\n",
    "            lbl = str(n_sd) + ' SDs'\n",
    "            ax[0].step(2*x*si.mm, y2_mean[j]/2/dr * si.mm,linestyle='-',color=color,\n",
    "                    label= lbl if lbl not in pyplot.gca().get_legend_handles_labels()[1] else '')\n",
    "\n",
    "            ax2[0].step(2*x*si.mm, y_mean[j],linestyle='-',color=color,\n",
    "                label= lbl if lbl not in pyplot.gca().get_legend_handles_labels()[1] else '')\n",
    "            \n",
    "# Reference data\n",
    "ax[0].plot(straub_x_init/si.mm, straub_y_init, color='k', linestyle='--', label='Reference')\n",
    "ax[1].plot(straub_x/si.mm, np.power(10, straub_log_y) ,color='k',linestyle='--', label='Reference')\n",
    "\n",
    "ax2[0].plot(straub_x_init/si.mm, straub_dvdlnr_init, color='k', linestyle='--', label='Reference')\n",
    "ax2[1].plot(straub_x/si.mm, straub_dvdlnr_ss / si.mm ,color='k',linestyle='--', label='Reference')\n",
    "\n",
    "ax[0].set_yscale(\"log\")\n",
    "ax[1].set_yscale(\"log\")\n",
    "ax[0].set_xlim([0.0, 7.0])\n",
    "ax[1].set_xlim([0.0, 7.0])\n",
    "ax[0].set_ylim([4.0, 2e4])\n",
    "ax[1].set_ylim([4.0, 2e4])\n",
    "\n",
    "ax2[0].set_xscale(\"log\")\n",
    "ax2[1].set_xscale(\"log\")\n",
    "ax2[0].set_xlim([0.2, 8.0])\n",
    "ax2[1].set_xlim([0.2, 8.0])\n",
    "ax2[0].set_ylim([0.0, 2e-5])\n",
    "ax2[1].set_ylim([0.0, 2e-5])\n",
    "ax[0].set_xlabel(\"particle diameter (mm)\")\n",
    "ax[1].set_xlabel(\"particle diameter (mm)\")\n",
    "ax2[0].set_xlabel(\"particle diameter (mm)\")\n",
    "ax2[1].set_xlabel(\"particle diameter (mm)\")\n",
    "\n",
    "ax[0].set_ylabel(\"N(v) (m$^{-3}$ mm$^{-1})$\")\n",
    "ax2[0].set_ylabel(\"dv/dlnr\")\n",
    "\n",
    "ax[0].legend()\n",
    "ax[0].set_title(\"(a) Initial Condition\")\n",
    "ax[1].set_title(\"(b) Steady State\")\n",
    "show_plot('fig9_straub_fig10.pdf', fig=fig)\n",
    "show_plot('straub_dvdlnr.pdf', fig=fig2)"
   ]
  },
  {
   "cell_type": "code",
   "execution_count": null,
   "metadata": {},
   "outputs": [],
   "source": []
  }
 ],
 "metadata": {
  "kernelspec": {
   "display_name": "edjPySDM",
   "language": "python",
   "name": "python3"
  },
  "language_info": {
   "codemirror_mode": {
    "name": "ipython",
    "version": 3
   },
   "file_extension": ".py",
   "mimetype": "text/x-python",
   "name": "python",
   "nbconvert_exporter": "python",
   "pygments_lexer": "ipython3",
   "version": "3.9.4 (default, Apr  9 2021, 09:32:38) \n[Clang 10.0.0 ]"
  },
  "vscode": {
   "interpreter": {
    "hash": "b43cf254c70d60c2e21a7f71ba113e70c1694742e72407132919c841d907074b"
   }
  }
 },
 "nbformat": 4,
 "nbformat_minor": 2
}
