{
 "cells": [
  {
   "cell_type": "markdown",
   "metadata": {},
   "source": [
    "[![View notebook](https://img.shields.io/static/v1?label=render%20on&logo=github&color=87ce3e&message=GitHub)](https://github.com/open-atmos/PySDM/tree/main/tutorials/collisions/collisions_playground.ipynb)   \n",
    "[![Binder](https://mybinder.org/badge_logo.svg)](https://mybinder.org/v2/gh/open-atmos/PySDM.git/main?urlpath=lab/tree/tutorials/collisions/collisions_playground.ipynb)   \n",
    "[![Open In Colab](https://colab.research.google.com/assets/colab-badge.svg)](https://colab.research.google.com/github/open-atmos/PySDM/blob/main/tutorials/collisions/collisions_playground.ipynb)"
   ]
  },
  {
   "cell_type": "markdown",
   "metadata": {},
   "source": [
    "## Cloud Microphysics: Part 2\n",
    "- Collisions and coalescence of cloud droplets\n",
    "\n",
    "Based on Fig. 2 from Shima et al. 2009 (Q. J. R. Meteorol. Soc. 135)  \"_The super‐droplet method for the numerical simulation of clouds and precipitation: a particle‐based and probabilistic microphysics model coupled with a non‐hydrostatic model_.\"   \n",
    "https://doi.org/10.1002/qj.441"
   ]
  },
  {
   "cell_type": "markdown",
   "metadata": {},
   "source": [
    "## Collision/coalescence \n",
    "\n",
    "The process of droplets colliding and coalescence, together refered to as collection, is the mechanism by which cloud droplets grow and eventually grow large enough to precipitate.\n",
    "The collection process depends on these two processes, first two droplets colliding, and second that collision resulting in the coalescence of a new larger droplet.\n",
    "\n",
    "In models we parameterize this collection process stochastically by solving what is known as the SCE: Stochastic Collection Equation.\n",
    "And we write the probability that two droplets collide (collision rate) in terms of a \"kernel\": $K(x,y)$, where $x$ and $y$ are the sizes of the two droplets.\n",
    "\n",
    "In this example, we consider the most basic kernel called the Golovin kernel, which is a linear kernel of the form $K(x,y) = b(x+y)$.\n",
    "\n",
    "Below is a drawing from Lamb and Verlinde's \"_The Physics and Chemistry of Clouds_\" illustrating the geometry of droplet collisions.\n",
    "\n",
    "<img src=\"./collection_droplet.svg\" width=\"500\">"
   ]
  },
  {
   "cell_type": "markdown",
   "metadata": {},
   "source": [
    "## PySDM box model widget\n",
    "\n",
    "In this homework assignment, and with this `PySDM` example notebook, you have the chance to explore how particle size, collision kernel, and spectral resolution (number of superdroplets used to represent the droplet size distribution) influence the growth of a population of cloud droplets as they undergo collision and coalescence. \n",
    "\n",
    "In this box setup, we can focus on only the collision/coalescence process while ignoring the hygroscopic growth of particles and activation of aerosols considered in Part 1, as well as fluid flow and mixing from a 2D or 3D simulation."
   ]
  },
  {
   "cell_type": "code",
   "execution_count": null,
   "metadata": {
    "ExecuteTime": {
     "end_time": "2023-10-16T10:50:29.614596281Z",
     "start_time": "2023-10-16T10:50:29.474658084Z"
    }
   },
   "outputs": [],
   "source": [
    "import sys\n",
    "if 'google.colab' in sys.modules:\n",
    "    !pip --quiet install \"open_atmos_jupyter_utils\"\n",
    "    from open_atmos_jupyter_utils import pip_install_on_colab\n",
    "    pip_install_on_colab('PySDM-examples')"
   ]
  },
  {
   "cell_type": "code",
   "execution_count": null,
   "metadata": {
    "ExecuteTime": {
     "end_time": "2023-10-16T10:50:34.479445450Z",
     "start_time": "2023-10-16T10:50:29.475070307Z"
    }
   },
   "outputs": [],
   "source": [
    "from numpy import errstate\n",
    "import os\n",
    "\n",
    "from PySDM import Formulae\n",
    "from PySDM.dynamics.collisions.collision_kernels import Golovin\n",
    "from PySDM.initialisation import spectra\n",
    "from PySDM.physics import si\n",
    "\n",
    "from PySDM_examples.utils import widgets\n",
    "\n",
    "from PySDM_examples.Shima_et_al_2009.tutorial_plotter import SpectrumPlotter\n",
    "from PySDM_examples.Shima_et_al_2009.tutorial_settings import Settings\n",
    "from PySDM_examples.Shima_et_al_2009.tutorial_example import run"
   ]
  },
  {
   "cell_type": "code",
   "execution_count": null,
   "metadata": {
    "ExecuteTime": {
     "end_time": "2023-10-16T10:50:34.608979949Z",
     "start_time": "2023-10-16T10:50:34.508186707Z"
    }
   },
   "outputs": [],
   "source": [
    "def demo(*, _freezer, _n, _b, _r, _smooth):\n",
    "    frm = Formulae()\n",
    "    with _freezer:\n",
    "        with errstate(all='raise'):\n",
    "            n_step = 3600\n",
    "            n_plot = 3\n",
    "            settings = Settings(steps=[i * (n_step // n_plot) for i in range(n_plot + 1)])\n",
    "            settings.n_sd = 2 ** _n\n",
    "            settings.adaptive = True\n",
    "            settings.dt = 10\n",
    "            settings.kernel = Golovin(b=_b / si.second)\n",
    "            settings.X0 = frm.trivia.volume(radius=_r * si.micrometres)\n",
    "            settings.spectrum = spectra.Exponential(\n",
    "                norm_factor=settings.norm_factor, scale=settings.X0\n",
    "                )\n",
    "            states, _ = run(settings, (widgets.ProgbarUpdater(progbar, settings.output_steps[-1]),))\n",
    "\n",
    "        with errstate(invalid='ignore'):\n",
    "            plotter = SpectrumPlotter(settings)\n",
    "            plotter.smooth = _smooth\n",
    "            for step, state in states.items():\n",
    "                plotter.plot(state, step * settings.dt)\n",
    "            plotter.show()"
   ]
  },
  {
   "cell_type": "markdown",
   "metadata": {},
   "source": [
    "## Widget\n",
    "\n",
    "Play around with the widget and change the number of superdroplets ($n_{SD} = 2^X$), slope parameter ($b$) in the Golovin collision kernel, and the scale parameter in the droplet size distribution ($r$).\n",
    "\n",
    "<div class=\"alert alert-block alert-info\">\n",
    "<b>Note:</b> Running the box model takes a few seconds, so be patient after you move one of the sliders.</div>\n",
    "\n",
    "The plot generated shows the evolution of the droplet size distribution at various time points (in color). Plotted underneath (in black) is the analytical solution, which exists for this simple Golovin collision kernel."
   ]
  },
  {
   "cell_type": "code",
   "execution_count": null,
   "metadata": {
    "ExecuteTime": {
     "end_time": "2023-10-16T10:50:54.426815690Z",
     "start_time": "2023-10-16T10:50:34.522224837Z"
    },
    "pycharm": {
     "is_executing": true
    }
   },
   "outputs": [],
   "source": [
    "style = {'description_width': 'initial'}\n",
    "n_SD = widgets.IntSlider(value=12, min=6, max=18, step=1, \n",
    "                         description='log2(nSD)', continuous_update=False, style=style)\n",
    "b = widgets.FloatSlider(value=1.5e3, min=1e3, max=2e3, step=1e2, \n",
    "                        description='b (s-1)', continuous_update=False,\n",
    "                        readout_format='.1e', style=style)\n",
    "r = widgets.IntSlider(value=30, min=25, max=35, step=1, \n",
    "                        description='r (um)', continuous_update=False, style=style)\n",
    "sliders = widgets.HBox([n_SD, b, r])\n",
    "\n",
    "smooth = widgets.Checkbox(value=True, description='smooth plot')\n",
    "options = [smooth]\n",
    "boxes = widgets.HBox(options)\n",
    "freezer = widgets.Freezer([n_SD, b, r])\n",
    "inputs = {'_freezer': freezer, '_n': n_SD, '_b': b, '_r': r, '_smooth': smooth}\n",
    "progbar = widgets.IntProgress(min=0, max=100, description='%')\n",
    "\n",
    "if 'CI' not in os.environ:\n",
    "    widgets.display(sliders, boxes, progbar, widgets.interactive_output(demo, inputs))"
   ]
  },
  {
   "cell_type": "markdown",
   "metadata": {
    "pycharm": {
     "is_executing": true
    }
   },
   "source": [
    "## Questions\n",
    "\n",
    "1. How does the shape of the droplet size distribution change over time as particles collide and coalesce?\n",
    "\n",
    "2. For the Golovin collision kernel there is an analytical solution, plotted in the black curve. \n",
    "How many superdroplets are needed to robustly simulate droplet collection?\n",
    "\n",
    "3. What does the `b` parameter in the collision kernel control?\n",
    "\n",
    "4. How does the mean radius of the droplets affect the collision rate? "
   ]
  },
  {
   "cell_type": "code",
   "execution_count": null,
   "metadata": {
    "ExecuteTime": {
     "end_time": "2023-10-16T10:50:54.440313749Z",
     "start_time": "2023-10-16T10:50:54.426253375Z"
    }
   },
   "outputs": [],
   "source": []
  }
 ],
 "metadata": {
  "kernelspec": {
   "display_name": "Python 3.10.9 ('pysdm')",
   "language": "python",
   "name": "python3"
  },
  "language_info": {
   "codemirror_mode": {
    "name": "ipython",
    "version": 3
   },
   "file_extension": ".py",
   "mimetype": "text/x-python",
   "name": "python",
   "nbconvert_exporter": "python",
   "pygments_lexer": "ipython3",
   "version": "3.10.9"
  },
  "vscode": {
   "interpreter": {
    "hash": "b14f34a08619f4a218d80d7380beed3f0c712c89ff93e7183219752d640ed427"
   }
  }
 },
 "nbformat": 4,
 "nbformat_minor": 4
}
