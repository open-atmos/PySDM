{
 "cells": [
  {
   "cell_type": "markdown",
   "metadata": {},
   "source": [
    "[![View notebook](https://img.shields.io/static/v1?label=render%20on&logo=github&color=87ce3e&message=GitHub)](https://github.com/open-atmos/PySDM/tree/main/tutorials/condensation/condensation_playground.ipynb)   \n",
    "[![Binder](https://mybinder.org/badge_logo.svg)](https://mybinder.org/v2/gh/open-atmos/PySDM.git/main?urlpath=lab/tree/tutorials/condensation/condensation_playground.ipynb)   \n",
    "[![Open In Colab](https://colab.research.google.com/assets/colab-badge.svg)](https://colab.research.google.com/github/open-atmos/PySDM/blob/main/tutorials/condensation/condensation_playground.ipynb)"
   ]
  },
  {
   "cell_type": "markdown",
   "metadata": {},
   "source": [
    "## Cloud Microphysics: Part 1\n",
    "- Activation of aerosol particles into cloud droplets\n",
    "- Exploring how size/composition affect condensational growth\n",
    "\n",
    "Based on Example Figure from Pyrcel code documentation https://pyrcel.readthedocs.io/en/latest/examples/basic_run.html"
   ]
  },
  {
   "cell_type": "markdown",
   "metadata": {},
   "source": [
    "## Droplet activation \n",
    "(for more info read Ch. 6 of Lohmann's _An Introduction to Clouds_)\n",
    "\n",
    "#### Köhler curve:\n",
    "- Curvature effect (Kelvin equation), describes the increase in vapor pressure over a curved surface\n",
    "compared to a flat surface and how this depends on the surface tension and radius of the droplet. \n",
    "$e_s$ is the saturation vapor pressure over a surface of radius $r$, so $e_s(\\infty)$ is the \n",
    "saturation vapor pressure over a flat surface. $\\sigma$ is the surface tension, $\\rho$ is the density\n",
    "of the solution, $R_v$ is the gas constant for water vapor, and $T$ is the temperature.\n",
    "\n",
    "$e_s(r) = e_s(\\infty) \\exp \\left( \\frac{2 \\sigma}{r \\rho R_v T} \\right)$\n",
    "\n",
    "\n",
    "<div class=\"alert alert-block alert-danger\">\n",
    "<b>Fun fact:</b> Based on the curvature considerations alone, saturation ratio in the atmosphere would need to be 5-10 for water to condense homogeneously, aka it would be extremely humid! Fortunately, we have aerosols that can serve as nuclei for water vapor to condense onto, and supersaturations in Earth's atmosphere rarely exceed 1%.\n",
    "</div>\n",
    "\n",
    "- Solute effect (Raoult's law), describes the reduction of vapor pressure over a flat surface due\n",
    "to the presence of soluble material, aka aerosol.\n",
    "$\\kappa$ is refered to as the hygroscopicity, defined as the inverse of the water activity ($a_w$).\n",
    "Again, $e_s$ is the saturation vapor pressure of pure water, and now $e_*$ is the vapor pressure \n",
    "of the solution with $n_s$ moles of solute and $n_w$ moles of water.\n",
    "\n",
    "$\\kappa = \\frac{1}{a_w} = \\frac{e_s(\\infty)}{e_*(\\infty)} = \\frac{n_s + n_w}{n_w}$\n",
    "\n",
    "The hygroscopicity (inverse of water activity) is defined as the ratio of the total number of \n",
    "moles of solute plus water to the number of moles of water.\n",
    "\n",
    "- Putting it together, the Köhler curve, or $\\kappa$-Köhler curve, describes the hygroscopic \n",
    "growth of particles, and the maximum of this curve, describes the point of activation from\n",
    "an aerosol into a cloud droplet.\n",
    "$S$ is the saturation ratio, which is usually linerarized as follows:\n",
    "\n",
    "$S(r) = \\frac{e_*(r)}{e_s(\\infty)} \\approx 1 + \\frac{a}{r} - \\frac{b}{r^3}$\n",
    "\n",
    "<img src=\"./kohler_curve.svg\" width=\"500\">\n",
    "Fig 6.11 from Lohmann. You can see a characteristic Köhler curve with the critical radius ($r_{act}$) and supersaturation ($S_{act}$) which separate the stable (aerosol or \"solution droplet\") and unstable (cloud droplet) regimes labeled.\n",
    "\n",
    "\n",
    "<div class=\"alert alert-block alert-info\">\n",
    "<b>Other considerations:</b> Surface tension: The surface tension $\\sigma$ in the Kelvin equation is usually assumed as constant $\\sigma = \\sigma_w = 72$ mN, but complex chemistry of the aerosol can sometimes actually\n",
    "modify the effective surface tension of the growing cloud droplet.\n",
    "</div>\n"
   ]
  },
  {
   "cell_type": "markdown",
   "metadata": {},
   "source": [
    "## PySDM parcel model widget\n",
    "\n",
    "In this homework assignment, and with this `PySDM` example notebook, you have the chance to explore how particle size, number concentration, and chemical composition, influence the bulk properties of a cloud by using a parcel model.\n",
    "\n",
    "A parcel model takes a parcel of air and lifts it adiabatically, greatly simplifying the dynamics taking place in a real cloud, but resolving the microphysical processes we are interested in exploring here.\n",
    "\n",
    "We initialize this parcel with a bimodal aerosol composed of two lognormal modes. The first mode is fixed, while the widget will let you play with the properties of the second mode. The default configuration represents a typical case in a marine environment. The first mode is smaller, more numerous sulfate aerosol, and the second mode is larger radii, less numerous, highly hygroscopic sea salt aerosol. \n",
    "\n",
    "You can play around with the widget at the bottom to change the initial aerosol properties, while keeping the dynamics fixed (i.e. updraft velocity `w = 1 * si.m / si.s` or temperature `T0 = 274 * si.K`). "
   ]
  },
  {
   "cell_type": "code",
   "execution_count": null,
   "metadata": {
    "ExecuteTime": {
     "end_time": "2023-10-16T10:48:42.215442231Z",
     "start_time": "2023-10-16T10:48:42.165173760Z"
    }
   },
   "outputs": [],
   "source": [
    "# import PySDM library on google colab\n",
    "import sys\n",
    "if 'google.colab' in sys.modules:\n",
    "    !pip --quiet install \"open-atmos-jupyter-utils\"\n",
    "    from open_atmos_jupyter_utils import pip_install_on_colab\n",
    "    pip_install_on_colab('PySDM-examples')"
   ]
  },
  {
   "cell_type": "code",
   "execution_count": null,
   "metadata": {
    "ExecuteTime": {
     "end_time": "2023-10-16T10:48:46.446157420Z",
     "start_time": "2023-10-16T10:48:42.168839122Z"
    }
   },
   "outputs": [],
   "source": [
    "# import functions for creating interactive widget\n",
    "from PySDM_examples.utils import widgets\n",
    "import numpy as np\n",
    "from numpy import errstate\n",
    "import os\n",
    "\n",
    "# import PySDM tools for initializing and running a cloud parcel model\n",
    "from PySDM import Formulae\n",
    "from PySDM.physics import si\n",
    "from PySDM.initialisation.spectra import Lognormal\n",
    "from PySDM.products import (\n",
    "    ParcelDisplacement, AmbientTemperature, AmbientRelativeHumidity,\n",
    "    ParticleSizeSpectrumPerVolume, ParticleVolumeVersusRadiusLogarithmSpectrum\n",
    ")\n",
    "\n",
    "# import tools for running and plotting this tutorial\n",
    "from PySDM_examples.Pyrcel.tutorial_settings import Settings\n",
    "from PySDM_examples.Pyrcel.tutorial_simulation import Simulation\n",
    "from PySDM_examples.Pyrcel.profile_plotter import ProfilePlotter"
   ]
  },
  {
   "cell_type": "code",
   "execution_count": null,
   "metadata": {
    "ExecuteTime": {
     "end_time": "2023-10-16T10:48:46.455145740Z",
     "start_time": "2023-10-16T10:48:46.451616736Z"
    }
   },
   "outputs": [],
   "source": [
    "# create progress bar for widget\n",
    "progbar = widgets.IntProgress(min=0, max=100, description='%')"
   ]
  },
  {
   "cell_type": "code",
   "execution_count": null,
   "metadata": {
    "ExecuteTime": {
     "end_time": "2023-10-16T10:48:46.504641095Z",
     "start_time": "2023-10-16T10:48:46.458931372Z"
    }
   },
   "outputs": [],
   "source": [
    "# create initial aerosol distribution\n",
    "# run cloud parcel model\n",
    "# save and plot results\n",
    "\n",
    "# k2, N2, and r2 are the hygroscopicity, number concentration, and mean radius\n",
    "# of the second Lognormal aerosol mode \n",
    "def demo(*, _freezer, _k2, _N2, _r2):\n",
    "    with _freezer:\n",
    "        with errstate(all='raise'):\n",
    "            settings = Settings(\n",
    "                dz = 1 * si.m,\n",
    "                n_sd_per_mode = (10, 10),\n",
    "                aerosol_modes_by_kappa = {\n",
    "                    .54: Lognormal(\n",
    "                        norm_factor=850 / si.cm ** 3,\n",
    "                        m_mode=15 * si.nm,\n",
    "                        s_geom=1.6\n",
    "                    ),\n",
    "                    _k2: Lognormal(\n",
    "                        norm_factor=_N2 / si.cm ** 3,\n",
    "                        m_mode=_r2 * si.nm,\n",
    "                        s_geom=1.2\n",
    "                    )\n",
    "                },\n",
    "                vertical_velocity = 1.0 * si.m / si.s,\n",
    "                initial_pressure = 775 * si.mbar,\n",
    "                initial_temperature = 274 * si.K,\n",
    "                initial_relative_humidity = 0.98,\n",
    "                displacement = 250 * si.m,\n",
    "                formulae = Formulae(constants={'MAC': .3})\n",
    "            )\n",
    "            dry_radius_bin_edges = np.logspace(\n",
    "                np.log10(1e-3 * si.um),\n",
    "                np.log10(5e0 * si.um),\n",
    "                33, endpoint=False\n",
    "            )\n",
    "            simulation = Simulation(\n",
    "                settings,\n",
    "                products=(\n",
    "                ParcelDisplacement(\n",
    "                    name='z'),\n",
    "                AmbientRelativeHumidity(\n",
    "                    name='S_max', unit='%', var='RH'),\n",
    "                AmbientTemperature(\n",
    "                    name='T'),\n",
    "                ParticleSizeSpectrumPerVolume(\n",
    "                    name='dry:dN/dR', radius_bins_edges=dry_radius_bin_edges, dry=True),\n",
    "                ParticleVolumeVersusRadiusLogarithmSpectrum(\n",
    "                    name='dry:dV/dlnR', radius_bins_edges=dry_radius_bin_edges, dry=True),\n",
    "                ),\n",
    "                scipy_solver=False,\n",
    "            )\n",
    "            output = simulation.run((widgets.ProgbarUpdater(progbar, settings.output_steps[-1]),))\n",
    "\n",
    "        with errstate(invalid='ignore'):\n",
    "            plotter = ProfilePlotter(settings)\n",
    "            plotter.plot(output)\n",
    "            plotter.show()\n"
   ]
  },
  {
   "cell_type": "markdown",
   "metadata": {},
   "source": [
    "## Widget\n",
    "\n",
    "Play around with the widget and change the hygroscopicity ($\\kappa_2$), number concentration ($N_2$), and mean radius ($r_2$) of the second (\"sea salt\") mode. \n",
    "\n",
    "<div class=\"alert alert-block alert-info\">\n",
    "<b>Note:</b> Running the parcel model takes a few seconds, so be patient after you move one of the sliders.</div>\n",
    "\n",
    "The plots generated show (on the left) the profile of supersaturation ($S-1$, black) and temperature ($T$, red) and (on the right) profiles of droplet radius for each super particle. In pink are particles from the first mode (sulfate) and in blue are particles from the second mode (in the default case, sea salt)."
   ]
  },
  {
   "cell_type": "code",
   "execution_count": null,
   "metadata": {
    "ExecuteTime": {
     "end_time": "2023-10-16T10:49:25.298263790Z",
     "start_time": "2023-10-16T10:48:46.504445432Z"
    }
   },
   "outputs": [],
   "source": [
    "# create widget\n",
    "# use to explore how the hygroscopicity, number concentration, and mean radius\n",
    "# of the initial aerosol distribution affect the bulk parcel properties\n",
    "# like maximum supersaturation and temperature profile\n",
    "\n",
    "style = {'description_width': 'initial'}\n",
    "k2 = widgets.FloatSlider(value=1.2, min=0.2, max=1.4, step=0.1, description='κ2',\n",
    "                        continuous_update=False, readout_format='.1f', style=style)\n",
    "N2 = widgets.IntSlider(value=10, min=5, max=50, step=5, description='N2 (cm-3)',\n",
    "                        continuous_update=False, style=style)\n",
    "r2 = widgets.IntSlider(value=850, min=200, max=1000, step=50, description='r2 (nm)',\n",
    "                        continuous_update=False, style=style)\n",
    "sliders = widgets.HBox([k2, N2, r2])\n",
    "freezer = widgets.Freezer([k2, N2, r2])\n",
    "inputs = {'_freezer': freezer, '_k2': k2, '_N2': N2, '_r2': r2}\n",
    "\n",
    "if 'CI' not in os.environ:\n",
    "    widgets.display(sliders, progbar, widgets.interactive_output(demo, inputs))"
   ]
  },
  {
   "cell_type": "markdown",
   "metadata": {},
   "source": [
    "## Questions\n",
    "\n",
    "1. Extremes: Which combination of (changeable) parameters leads to the largest maximum supersaturation? Which to the smallest? Why?\n",
    "\n",
    "2. Sensitivity: Is the cloud more sensitive to changes in aerosol size, number, or composition? Explain how you are measuring this.\n",
    "\n",
    "3. Albedo: The albedo of a cloud is very dependent on the size of the individual droplets it is composed of. \n",
    "We can express the cloud albedo ($\\alpha$) in terms of the cloud optical thickness ($\\tau$) and a dimensionless asymmetry parameter ($g$)\n",
    "that describes the relative amount of radiation that is forward-scattered vs. backscattered. \n",
    "$$\\alpha = \\frac{(1-g) \\tau}{2 + (1-g)\\tau}$$\n",
    "Cloud droplets (order 1-10$\\mu$m) tend to be strongly forward-scattering with an asymmetry parameter around $g=0.85$.\n",
    "The cloud optical thickness can be written in terms of the liquid water path through the cloud (LWP) and effective radius of the droplets ($r_e$).\n",
    "$$\\tau = \\frac{3 LWP}{2 \\rho_w r_e}$$\n",
    "<ol type=\"a\">\n",
    "  <li>Write down an expression for the cloud albedo. Assuming a fixed liquid water path, what is the sensitivity of albedo to droplet effective radius? This sensitivity is known as the \"Twomey effect.\"</li>\n",
    "  <li>Describe how the albedo would change given changes to the initial aerosol size distribution. </li>\n",
    "</ol>\n",
    "\n",
    "4. Real-world pollution regulations: How would you expect temperatures in Los Angeles to change if a policy was implemented that cut pollution in half. You can assume that this policy will also reduce the number of aerosols that can serve as cloud nuclei in half. Qualitative answers are good."
   ]
  },
  {
   "cell_type": "code",
   "execution_count": null,
   "metadata": {
    "ExecuteTime": {
     "end_time": "2023-10-16T10:49:25.298929952Z",
     "start_time": "2023-10-16T10:49:25.296187349Z"
    }
   },
   "outputs": [],
   "source": []
  }
 ],
 "metadata": {
  "kernelspec": {
   "display_name": "Python 3.10.9 ('pysdm')",
   "language": "python",
   "name": "python3"
  },
  "language_info": {
   "codemirror_mode": {
    "name": "ipython",
    "version": 3
   },
   "file_extension": ".py",
   "mimetype": "text/x-python",
   "name": "python",
   "nbconvert_exporter": "python",
   "pygments_lexer": "ipython3",
   "version": "3.10.9"
  },
  "vscode": {
   "interpreter": {
    "hash": "b14f34a08619f4a218d80d7380beed3f0c712c89ff93e7183219752d640ed427"
   }
  }
 },
 "nbformat": 4,
 "nbformat_minor": 4
}
